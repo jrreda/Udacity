{
 "cells": [
  {
   "cell_type": "markdown",
   "metadata": {},
   "source": [
    "# Dummy Variables\n",
    "\n",
    "You saw in the earlier notebook that you weren't able to directly add a categorical variable to your multiple linear regression model. In this notebook, you will get some practice adding dummy variables to your models and interpreting the output.\n",
    "\n",
    "Let's start by reading in the necessary libraries and data.\n"
   ]
  },
  {
   "cell_type": "code",
   "execution_count": 1,
   "metadata": {},
   "outputs": [],
   "source": [
    "import numpy as np\n",
    "import pandas as pd\n",
    "import statsmodels.api as sm\n",
    "import matplotlib.pyplot as plt\n",
    "%matplotlib inline\n",
    "plt.style.use('ggplot')"
   ]
  },
  {
   "cell_type": "code",
   "execution_count": 2,
   "metadata": {},
   "outputs": [
    {
     "data": {
      "text/html": [
       "<div>\n",
       "<style scoped>\n",
       "    .dataframe tbody tr th:only-of-type {\n",
       "        vertical-align: middle;\n",
       "    }\n",
       "\n",
       "    .dataframe tbody tr th {\n",
       "        vertical-align: top;\n",
       "    }\n",
       "\n",
       "    .dataframe thead th {\n",
       "        text-align: right;\n",
       "    }\n",
       "</style>\n",
       "<table border=\"1\" class=\"dataframe\">\n",
       "  <thead>\n",
       "    <tr style=\"text-align: right;\">\n",
       "      <th></th>\n",
       "      <th>house_id</th>\n",
       "      <th>neighborhood</th>\n",
       "      <th>area</th>\n",
       "      <th>bedrooms</th>\n",
       "      <th>bathrooms</th>\n",
       "      <th>style</th>\n",
       "      <th>price</th>\n",
       "    </tr>\n",
       "  </thead>\n",
       "  <tbody>\n",
       "    <tr>\n",
       "      <th>0</th>\n",
       "      <td>1112</td>\n",
       "      <td>B</td>\n",
       "      <td>1188</td>\n",
       "      <td>3</td>\n",
       "      <td>2</td>\n",
       "      <td>ranch</td>\n",
       "      <td>598291</td>\n",
       "    </tr>\n",
       "    <tr>\n",
       "      <th>1</th>\n",
       "      <td>491</td>\n",
       "      <td>B</td>\n",
       "      <td>3512</td>\n",
       "      <td>5</td>\n",
       "      <td>3</td>\n",
       "      <td>victorian</td>\n",
       "      <td>1744259</td>\n",
       "    </tr>\n",
       "    <tr>\n",
       "      <th>2</th>\n",
       "      <td>5952</td>\n",
       "      <td>B</td>\n",
       "      <td>1134</td>\n",
       "      <td>3</td>\n",
       "      <td>2</td>\n",
       "      <td>ranch</td>\n",
       "      <td>571669</td>\n",
       "    </tr>\n",
       "    <tr>\n",
       "      <th>3</th>\n",
       "      <td>3525</td>\n",
       "      <td>A</td>\n",
       "      <td>1940</td>\n",
       "      <td>4</td>\n",
       "      <td>2</td>\n",
       "      <td>ranch</td>\n",
       "      <td>493675</td>\n",
       "    </tr>\n",
       "    <tr>\n",
       "      <th>4</th>\n",
       "      <td>5108</td>\n",
       "      <td>B</td>\n",
       "      <td>2208</td>\n",
       "      <td>6</td>\n",
       "      <td>4</td>\n",
       "      <td>victorian</td>\n",
       "      <td>1101539</td>\n",
       "    </tr>\n",
       "  </tbody>\n",
       "</table>\n",
       "</div>"
      ],
      "text/plain": [
       "   house_id neighborhood  area  bedrooms  bathrooms      style    price\n",
       "0      1112            B  1188         3          2      ranch   598291\n",
       "1       491            B  3512         5          3  victorian  1744259\n",
       "2      5952            B  1134         3          2      ranch   571669\n",
       "3      3525            A  1940         4          2      ranch   493675\n",
       "4      5108            B  2208         6          4  victorian  1101539"
      ]
     },
     "execution_count": 2,
     "metadata": {},
     "output_type": "execute_result"
    }
   ],
   "source": [
    "df = pd.read_csv('house_prices.csv')\n",
    "df.head()"
   ]
  },
  {
   "cell_type": "code",
   "execution_count": 3,
   "metadata": {},
   "outputs": [
    {
     "data": {
      "text/plain": [
       "B    2427\n",
       "A    1876\n",
       "C    1725\n",
       "Name: neighborhood, dtype: int64"
      ]
     },
     "execution_count": 3,
     "metadata": {},
     "output_type": "execute_result"
    }
   ],
   "source": [
    "df['neighborhood'].value_counts()"
   ]
  },
  {
   "cell_type": "code",
   "execution_count": 4,
   "metadata": {},
   "outputs": [
    {
     "data": {
      "text/plain": [
       "victorian    2997\n",
       "ranch        1802\n",
       "lodge        1229\n",
       "Name: style, dtype: int64"
      ]
     },
     "execution_count": 4,
     "metadata": {},
     "output_type": "execute_result"
    }
   ],
   "source": [
    "df['style'].value_counts()"
   ]
  },
  {
   "cell_type": "markdown",
   "metadata": {},
   "source": [
    "### 1. Use the `pd.get_dummies` documentation to assist you with obtaining dummy variables for the neighborhood column. Then use join to add the dummy variables to your dataframe,` df`, and store the joined results in `df_new`.\n",
    "\n",
    "Fit a linear model using all three levels of neighborhood neighborhood to predict the price. Don't forget an intercept.\n",
    "\n",
    "Use your results to answer quiz 1 below.\n"
   ]
  },
  {
   "cell_type": "code",
   "execution_count": 5,
   "metadata": {},
   "outputs": [],
   "source": [
    "# Copying\n",
    "df_new = df.copy()\n",
    "\n",
    "# Creating the dummies variables for neighborhood.\n",
    "neighborhood_dum = pd.get_dummies(df['neighborhood'])\n",
    "\n",
    "# Creating the dummies variables for style.\n",
    "style_dum = pd.get_dummies(df['style'])"
   ]
  },
  {
   "cell_type": "code",
   "execution_count": 6,
   "metadata": {},
   "outputs": [],
   "source": [
    "df_new[['A', 'B', 'C']] = neighborhood_dum\n",
    "\n",
    "df_new[['lodge','ranch','victorian']] = style_dum"
   ]
  },
  {
   "cell_type": "code",
   "execution_count": 7,
   "metadata": {},
   "outputs": [
    {
     "data": {
      "text/html": [
       "<table class=\"simpletable\">\n",
       "<caption>OLS Regression Results</caption>\n",
       "<tr>\n",
       "  <th>Dep. Variable:</th>          <td>price</td>      <th>  R-squared:         </th> <td>   0.246</td> \n",
       "</tr>\n",
       "<tr>\n",
       "  <th>Model:</th>                   <td>OLS</td>       <th>  Adj. R-squared:    </th> <td>   0.246</td> \n",
       "</tr>\n",
       "<tr>\n",
       "  <th>Method:</th>             <td>Least Squares</td>  <th>  F-statistic:       </th> <td>   983.1</td> \n",
       "</tr>\n",
       "<tr>\n",
       "  <th>Date:</th>             <td>Sun, 11 Oct 2020</td> <th>  Prob (F-statistic):</th>  <td>  0.00</td>  \n",
       "</tr>\n",
       "<tr>\n",
       "  <th>Time:</th>                 <td>11:55:01</td>     <th>  Log-Likelihood:    </th> <td> -87082.</td> \n",
       "</tr>\n",
       "<tr>\n",
       "  <th>No. Observations:</th>      <td>  6028</td>      <th>  AIC:               </th> <td>1.742e+05</td>\n",
       "</tr>\n",
       "<tr>\n",
       "  <th>Df Residuals:</th>          <td>  6025</td>      <th>  BIC:               </th> <td>1.742e+05</td>\n",
       "</tr>\n",
       "<tr>\n",
       "  <th>Df Model:</th>              <td>     2</td>      <th>                     </th>     <td> </td>    \n",
       "</tr>\n",
       "<tr>\n",
       "  <th>Covariance Type:</th>      <td>nonrobust</td>    <th>                     </th>     <td> </td>    \n",
       "</tr>\n",
       "</table>\n",
       "<table class=\"simpletable\">\n",
       "<tr>\n",
       "      <td></td>         <th>coef</th>     <th>std err</th>      <th>t</th>      <th>P>|t|</th>  <th>[0.025</th>    <th>0.975]</th>  \n",
       "</tr>\n",
       "<tr>\n",
       "  <th>intercept</th> <td> 5.381e+05</td> <td> 4439.653</td> <td>  121.210</td> <td> 0.000</td> <td> 5.29e+05</td> <td> 5.47e+05</td>\n",
       "</tr>\n",
       "<tr>\n",
       "  <th>A</th>         <td> 3001.8311</td> <td> 8650.726</td> <td>    0.347</td> <td> 0.729</td> <td> -1.4e+04</td> <td>    2e+04</td>\n",
       "</tr>\n",
       "<tr>\n",
       "  <th>B</th>         <td> 5.325e+05</td> <td> 7894.313</td> <td>   67.448</td> <td> 0.000</td> <td> 5.17e+05</td> <td> 5.48e+05</td>\n",
       "</tr>\n",
       "<tr>\n",
       "  <th>C</th>         <td> 2669.4717</td> <td> 8925.271</td> <td>    0.299</td> <td> 0.765</td> <td>-1.48e+04</td> <td> 2.02e+04</td>\n",
       "</tr>\n",
       "</table>\n",
       "<table class=\"simpletable\">\n",
       "<tr>\n",
       "  <th>Omnibus:</th>       <td>689.315</td> <th>  Durbin-Watson:     </th> <td>   1.999</td> \n",
       "</tr>\n",
       "<tr>\n",
       "  <th>Prob(Omnibus):</th> <td> 0.000</td>  <th>  Jarque-Bera (JB):  </th> <td>1154.155</td> \n",
       "</tr>\n",
       "<tr>\n",
       "  <th>Skew:</th>          <td> 0.793</td>  <th>  Prob(JB):          </th> <td>2.39e-251</td>\n",
       "</tr>\n",
       "<tr>\n",
       "  <th>Kurtosis:</th>      <td> 4.442</td>  <th>  Cond. No.          </th> <td>3.67e+15</td> \n",
       "</tr>\n",
       "</table><br/><br/>Warnings:<br/>[1] Standard Errors assume that the covariance matrix of the errors is correctly specified.<br/>[2] The smallest eigenvalue is  6e-28. This might indicate that there are<br/>strong multicollinearity problems or that the design matrix is singular."
      ],
      "text/plain": [
       "<class 'statsmodels.iolib.summary.Summary'>\n",
       "\"\"\"\n",
       "                            OLS Regression Results                            \n",
       "==============================================================================\n",
       "Dep. Variable:                  price   R-squared:                       0.246\n",
       "Model:                            OLS   Adj. R-squared:                  0.246\n",
       "Method:                 Least Squares   F-statistic:                     983.1\n",
       "Date:                Sun, 11 Oct 2020   Prob (F-statistic):               0.00\n",
       "Time:                        11:55:01   Log-Likelihood:                -87082.\n",
       "No. Observations:                6028   AIC:                         1.742e+05\n",
       "Df Residuals:                    6025   BIC:                         1.742e+05\n",
       "Df Model:                           2                                         \n",
       "Covariance Type:            nonrobust                                         \n",
       "==============================================================================\n",
       "                 coef    std err          t      P>|t|      [0.025      0.975]\n",
       "------------------------------------------------------------------------------\n",
       "intercept   5.381e+05   4439.653    121.210      0.000    5.29e+05    5.47e+05\n",
       "A           3001.8311   8650.726      0.347      0.729    -1.4e+04       2e+04\n",
       "B           5.325e+05   7894.313     67.448      0.000    5.17e+05    5.48e+05\n",
       "C           2669.4717   8925.271      0.299      0.765   -1.48e+04    2.02e+04\n",
       "==============================================================================\n",
       "Omnibus:                      689.315   Durbin-Watson:                   1.999\n",
       "Prob(Omnibus):                  0.000   Jarque-Bera (JB):             1154.155\n",
       "Skew:                           0.793   Prob(JB):                    2.39e-251\n",
       "Kurtosis:                       4.442   Cond. No.                     3.67e+15\n",
       "==============================================================================\n",
       "\n",
       "Warnings:\n",
       "[1] Standard Errors assume that the covariance matrix of the errors is correctly specified.\n",
       "[2] The smallest eigenvalue is  6e-28. This might indicate that there are\n",
       "strong multicollinearity problems or that the design matrix is singular.\n",
       "\"\"\""
      ]
     },
     "execution_count": 7,
     "metadata": {},
     "output_type": "execute_result"
    }
   ],
   "source": [
    "# Adding the intercept.\n",
    "df_new['intercept'] = 1\n",
    "\n",
    "# Creating the object\n",
    "lm = sm.OLS(df['price'],df_new[['intercept','A','B','C']])\n",
    "\n",
    "# Calculating the multiple linear model\n",
    "results = lm.fit()\n",
    "\n",
    "# Printing the results using the summary.\n",
    "results.summary()"
   ]
  },
  {
   "cell_type": "markdown",
   "metadata": {},
   "source": [
    "### 2. Now, fit an appropriate linear model for using neighborhood to predict the price of a home. Use neighborhood `A` as your baseline. Use your resulting model to answer the questions in Quiz 2 and Quiz 3 below."
   ]
  },
  {
   "cell_type": "code",
   "execution_count": 8,
   "metadata": {},
   "outputs": [
    {
     "data": {
      "text/html": [
       "<table class=\"simpletable\">\n",
       "<caption>OLS Regression Results</caption>\n",
       "<tr>\n",
       "  <th>Dep. Variable:</th>          <td>price</td>      <th>  R-squared:         </th> <td>   0.246</td> \n",
       "</tr>\n",
       "<tr>\n",
       "  <th>Model:</th>                   <td>OLS</td>       <th>  Adj. R-squared:    </th> <td>   0.246</td> \n",
       "</tr>\n",
       "<tr>\n",
       "  <th>Method:</th>             <td>Least Squares</td>  <th>  F-statistic:       </th> <td>   983.1</td> \n",
       "</tr>\n",
       "<tr>\n",
       "  <th>Date:</th>             <td>Sun, 11 Oct 2020</td> <th>  Prob (F-statistic):</th>  <td>  0.00</td>  \n",
       "</tr>\n",
       "<tr>\n",
       "  <th>Time:</th>                 <td>11:55:01</td>     <th>  Log-Likelihood:    </th> <td> -87082.</td> \n",
       "</tr>\n",
       "<tr>\n",
       "  <th>No. Observations:</th>      <td>  6028</td>      <th>  AIC:               </th> <td>1.742e+05</td>\n",
       "</tr>\n",
       "<tr>\n",
       "  <th>Df Residuals:</th>          <td>  6025</td>      <th>  BIC:               </th> <td>1.742e+05</td>\n",
       "</tr>\n",
       "<tr>\n",
       "  <th>Df Model:</th>              <td>     2</td>      <th>                     </th>     <td> </td>    \n",
       "</tr>\n",
       "<tr>\n",
       "  <th>Covariance Type:</th>      <td>nonrobust</td>    <th>                     </th>     <td> </td>    \n",
       "</tr>\n",
       "</table>\n",
       "<table class=\"simpletable\">\n",
       "<tr>\n",
       "      <td></td>         <th>coef</th>     <th>std err</th>      <th>t</th>      <th>P>|t|</th>  <th>[0.025</th>    <th>0.975]</th>  \n",
       "</tr>\n",
       "<tr>\n",
       "  <th>intercept</th> <td> 5.411e+05</td> <td> 1.05e+04</td> <td>   51.537</td> <td> 0.000</td> <td> 5.21e+05</td> <td> 5.62e+05</td>\n",
       "</tr>\n",
       "<tr>\n",
       "  <th>B</th>         <td> 5.295e+05</td> <td>  1.4e+04</td> <td>   37.870</td> <td> 0.000</td> <td> 5.02e+05</td> <td> 5.57e+05</td>\n",
       "</tr>\n",
       "<tr>\n",
       "  <th>C</th>         <td> -332.3594</td> <td> 1.52e+04</td> <td>   -0.022</td> <td> 0.983</td> <td>-3.01e+04</td> <td> 2.94e+04</td>\n",
       "</tr>\n",
       "</table>\n",
       "<table class=\"simpletable\">\n",
       "<tr>\n",
       "  <th>Omnibus:</th>       <td>689.315</td> <th>  Durbin-Watson:     </th> <td>   1.999</td> \n",
       "</tr>\n",
       "<tr>\n",
       "  <th>Prob(Omnibus):</th> <td> 0.000</td>  <th>  Jarque-Bera (JB):  </th> <td>1154.155</td> \n",
       "</tr>\n",
       "<tr>\n",
       "  <th>Skew:</th>          <td> 0.793</td>  <th>  Prob(JB):          </th> <td>2.39e-251</td>\n",
       "</tr>\n",
       "<tr>\n",
       "  <th>Kurtosis:</th>      <td> 4.442</td>  <th>  Cond. No.          </th> <td>    3.88</td> \n",
       "</tr>\n",
       "</table><br/><br/>Warnings:<br/>[1] Standard Errors assume that the covariance matrix of the errors is correctly specified."
      ],
      "text/plain": [
       "<class 'statsmodels.iolib.summary.Summary'>\n",
       "\"\"\"\n",
       "                            OLS Regression Results                            \n",
       "==============================================================================\n",
       "Dep. Variable:                  price   R-squared:                       0.246\n",
       "Model:                            OLS   Adj. R-squared:                  0.246\n",
       "Method:                 Least Squares   F-statistic:                     983.1\n",
       "Date:                Sun, 11 Oct 2020   Prob (F-statistic):               0.00\n",
       "Time:                        11:55:01   Log-Likelihood:                -87082.\n",
       "No. Observations:                6028   AIC:                         1.742e+05\n",
       "Df Residuals:                    6025   BIC:                         1.742e+05\n",
       "Df Model:                           2                                         \n",
       "Covariance Type:            nonrobust                                         \n",
       "==============================================================================\n",
       "                 coef    std err          t      P>|t|      [0.025      0.975]\n",
       "------------------------------------------------------------------------------\n",
       "intercept   5.411e+05   1.05e+04     51.537      0.000    5.21e+05    5.62e+05\n",
       "B           5.295e+05    1.4e+04     37.870      0.000    5.02e+05    5.57e+05\n",
       "C           -332.3594   1.52e+04     -0.022      0.983   -3.01e+04    2.94e+04\n",
       "==============================================================================\n",
       "Omnibus:                      689.315   Durbin-Watson:                   1.999\n",
       "Prob(Omnibus):                  0.000   Jarque-Bera (JB):             1154.155\n",
       "Skew:                           0.793   Prob(JB):                    2.39e-251\n",
       "Kurtosis:                       4.442   Cond. No.                         3.88\n",
       "==============================================================================\n",
       "\n",
       "Warnings:\n",
       "[1] Standard Errors assume that the covariance matrix of the errors is correctly specified.\n",
       "\"\"\""
      ]
     },
     "execution_count": 8,
     "metadata": {},
     "output_type": "execute_result"
    }
   ],
   "source": [
    "# Creating the object\n",
    "lm = sm.OLS(df['price'],df_new[['intercept','B','C']])\n",
    "\n",
    "# Calculating the multiple linear model\n",
    "results = lm.fit()\n",
    "\n",
    "# Printing the results using the summary.\n",
    "results.summary()"
   ]
  },
  {
   "cell_type": "code",
   "execution_count": 9,
   "metadata": {},
   "outputs": [
    {
     "name": "stdout",
     "output_type": "stream",
     "text": [
      "Coef A:  541100.0\n",
      "Coef B:  1070600.0\n",
      "Coef C:  540767.6406\n"
     ]
    }
   ],
   "source": [
    "# Coef C < Coef A < Coef B\n",
    "print(\"Coef A: \", 5.411e+05)\n",
    "print(\"Coef B: \", 5.411e+05 + 5.295e+05)\n",
    "print(\"Coef C: \", 5.411e+05 - 332.3594)"
   ]
  },
  {
   "cell_type": "markdown",
   "metadata": {},
   "source": [
    "### 3. Run the two cells below to look at the home prices for the `A` and `C` neighborhoods. Add neighborhood `B`. This creates a glimpse into the differences that you found in the previous linear model.\n"
   ]
  },
  {
   "cell_type": "code",
   "execution_count": 10,
   "metadata": {},
   "outputs": [
    {
     "data": {
      "image/png": "[encoded data removed]",
      "text/plain": [
       "<Figure size 432x288 with 1 Axes>"
      ]
     },
     "metadata": {},
     "output_type": "display_data"
    }
   ],
   "source": [
    "plt.hist(df_new.query(\"C == 1\")['price'], alpha = 0.3, label = 'C');\n",
    "plt.hist(df_new.query(\"A == 1\")['price'], alpha = 0.3, label = 'A');\n",
    "\n",
    "plt.legend();"
   ]
  },
  {
   "cell_type": "markdown",
   "metadata": {},
   "source": [
    "### 4. Now, add dummy variables for the `style of house`, as well as `neighborhood`. Use `ranch` as the baseline for the style. Additionally, add bathrooms and bedrooms to your linear model. Don't forget an intercept. Use the results of your linear model to answer the last two questions below. Home pricess are measured in dollars, and this dataset is not real.\n",
    "\n",
    "To minimize scrolling, it might be useful to open another browser window to this concept to answer the quiz questions."
   ]
  },
  {
   "cell_type": "code",
   "execution_count": 11,
   "metadata": {},
   "outputs": [
    {
     "data": {
      "text/html": [
       "<table class=\"simpletable\">\n",
       "<caption>OLS Regression Results</caption>\n",
       "<tr>\n",
       "  <th>Dep. Variable:</th>          <td>price</td>      <th>  R-squared:         </th> <td>   0.809</td> \n",
       "</tr>\n",
       "<tr>\n",
       "  <th>Model:</th>                   <td>OLS</td>       <th>  Adj. R-squared:    </th> <td>   0.809</td> \n",
       "</tr>\n",
       "<tr>\n",
       "  <th>Method:</th>             <td>Least Squares</td>  <th>  F-statistic:       </th> <td>   4250.</td> \n",
       "</tr>\n",
       "<tr>\n",
       "  <th>Date:</th>             <td>Sun, 11 Oct 2020</td> <th>  Prob (F-statistic):</th>  <td>  0.00</td>  \n",
       "</tr>\n",
       "<tr>\n",
       "  <th>Time:</th>                 <td>11:55:01</td>     <th>  Log-Likelihood:    </th> <td> -82944.</td> \n",
       "</tr>\n",
       "<tr>\n",
       "  <th>No. Observations:</th>      <td>  6028</td>      <th>  AIC:               </th> <td>1.659e+05</td>\n",
       "</tr>\n",
       "<tr>\n",
       "  <th>Df Residuals:</th>          <td>  6021</td>      <th>  BIC:               </th> <td>1.659e+05</td>\n",
       "</tr>\n",
       "<tr>\n",
       "  <th>Df Model:</th>              <td>     6</td>      <th>                     </th>     <td> </td>    \n",
       "</tr>\n",
       "<tr>\n",
       "  <th>Covariance Type:</th>      <td>nonrobust</td>    <th>                     </th>     <td> </td>    \n",
       "</tr>\n",
       "</table>\n",
       "<table class=\"simpletable\">\n",
       "<tr>\n",
       "      <td></td>         <th>coef</th>     <th>std err</th>      <th>t</th>      <th>P>|t|</th>  <th>[0.025</th>    <th>0.975]</th>  \n",
       "</tr>\n",
       "<tr>\n",
       "  <th>intercept</th> <td>-3.833e+05</td> <td>  1.2e+04</td> <td>  -31.995</td> <td> 0.000</td> <td>-4.07e+05</td> <td> -3.6e+05</td>\n",
       "</tr>\n",
       "<tr>\n",
       "  <th>B</th>         <td> 5.229e+05</td> <td> 7040.928</td> <td>   74.271</td> <td> 0.000</td> <td> 5.09e+05</td> <td> 5.37e+05</td>\n",
       "</tr>\n",
       "<tr>\n",
       "  <th>C</th>         <td>-7168.6285</td> <td> 7639.254</td> <td>   -0.938</td> <td> 0.348</td> <td>-2.21e+04</td> <td> 7807.045</td>\n",
       "</tr>\n",
       "<tr>\n",
       "  <th>lodge</th>     <td> 1.685e+05</td> <td> 9906.629</td> <td>   17.012</td> <td> 0.000</td> <td> 1.49e+05</td> <td> 1.88e+05</td>\n",
       "</tr>\n",
       "<tr>\n",
       "  <th>victorian</th> <td> 7.056e+04</td> <td> 8337.790</td> <td>    8.463</td> <td> 0.000</td> <td> 5.42e+04</td> <td> 8.69e+04</td>\n",
       "</tr>\n",
       "<tr>\n",
       "  <th>bedrooms</th>  <td> 1.732e+05</td> <td> 7677.152</td> <td>   22.558</td> <td> 0.000</td> <td> 1.58e+05</td> <td> 1.88e+05</td>\n",
       "</tr>\n",
       "<tr>\n",
       "  <th>bathrooms</th> <td> 9.996e+04</td> <td> 1.09e+04</td> <td>    9.164</td> <td> 0.000</td> <td> 7.86e+04</td> <td> 1.21e+05</td>\n",
       "</tr>\n",
       "</table>\n",
       "<table class=\"simpletable\">\n",
       "<tr>\n",
       "  <th>Omnibus:</th>       <td>978.611</td> <th>  Durbin-Watson:     </th> <td>   1.993</td>\n",
       "</tr>\n",
       "<tr>\n",
       "  <th>Prob(Omnibus):</th> <td> 0.000</td>  <th>  Jarque-Bera (JB):  </th> <td>2926.472</td>\n",
       "</tr>\n",
       "<tr>\n",
       "  <th>Skew:</th>          <td> 0.848</td>  <th>  Prob(JB):          </th> <td>    0.00</td>\n",
       "</tr>\n",
       "<tr>\n",
       "  <th>Kurtosis:</th>      <td> 5.962</td>  <th>  Cond. No.          </th> <td>    25.9</td>\n",
       "</tr>\n",
       "</table><br/><br/>Warnings:<br/>[1] Standard Errors assume that the covariance matrix of the errors is correctly specified."
      ],
      "text/plain": [
       "<class 'statsmodels.iolib.summary.Summary'>\n",
       "\"\"\"\n",
       "                            OLS Regression Results                            \n",
       "==============================================================================\n",
       "Dep. Variable:                  price   R-squared:                       0.809\n",
       "Model:                            OLS   Adj. R-squared:                  0.809\n",
       "Method:                 Least Squares   F-statistic:                     4250.\n",
       "Date:                Sun, 11 Oct 2020   Prob (F-statistic):               0.00\n",
       "Time:                        11:55:01   Log-Likelihood:                -82944.\n",
       "No. Observations:                6028   AIC:                         1.659e+05\n",
       "Df Residuals:                    6021   BIC:                         1.659e+05\n",
       "Df Model:                           6                                         \n",
       "Covariance Type:            nonrobust                                         \n",
       "==============================================================================\n",
       "                 coef    std err          t      P>|t|      [0.025      0.975]\n",
       "------------------------------------------------------------------------------\n",
       "intercept  -3.833e+05    1.2e+04    -31.995      0.000   -4.07e+05    -3.6e+05\n",
       "B           5.229e+05   7040.928     74.271      0.000    5.09e+05    5.37e+05\n",
       "C          -7168.6285   7639.254     -0.938      0.348   -2.21e+04    7807.045\n",
       "lodge       1.685e+05   9906.629     17.012      0.000    1.49e+05    1.88e+05\n",
       "victorian   7.056e+04   8337.790      8.463      0.000    5.42e+04    8.69e+04\n",
       "bedrooms    1.732e+05   7677.152     22.558      0.000    1.58e+05    1.88e+05\n",
       "bathrooms   9.996e+04   1.09e+04      9.164      0.000    7.86e+04    1.21e+05\n",
       "==============================================================================\n",
       "Omnibus:                      978.611   Durbin-Watson:                   1.993\n",
       "Prob(Omnibus):                  0.000   Jarque-Bera (JB):             2926.472\n",
       "Skew:                           0.848   Prob(JB):                         0.00\n",
       "Kurtosis:                       5.962   Cond. No.                         25.9\n",
       "==============================================================================\n",
       "\n",
       "Warnings:\n",
       "[1] Standard Errors assume that the covariance matrix of the errors is correctly specified.\n",
       "\"\"\""
      ]
     },
     "execution_count": 11,
     "metadata": {},
     "output_type": "execute_result"
    }
   ],
   "source": [
    "# Creating the object\n",
    "lm_q4 = sm.OLS(df_new['price'],df_new[['intercept', 'B', 'C', 'lodge', 'victorian', 'bedrooms', 'bathrooms']])\n",
    "\n",
    "# Calculating the multiple linear model\n",
    "results_q4 = lm_q4.fit()\n",
    "\n",
    "# Printing the results using the summary.\n",
    "results_q4.summary()"
   ]
  },
  {
   "cell_type": "markdown",
   "metadata": {},
   "source": [
    "### Coefficients - Using A as baseline"
   ]
  },
  {
   "cell_type": "code",
   "execution_count": 12,
   "metadata": {},
   "outputs": [
    {
     "name": "stdout",
     "output_type": "stream",
     "text": [
      "Coef A:  -383300.0\n",
      "Coef B:  139600.0\n",
      "Coef C:  -390468.6285\n"
     ]
    }
   ],
   "source": [
    "# Using A as baseline.\n",
    "print(\"Coef A: \",-3.833e+05)\n",
    "print(\"Coef B: \", -3.833e+05 + 5.229e+05)\n",
    "print(\"Coef C: \", -3.833e+05 -7168.6285)"
   ]
  },
  {
   "cell_type": "code",
   "execution_count": 13,
   "metadata": {},
   "outputs": [
    {
     "name": "stdout",
     "output_type": "stream",
     "text": [
      "Ranch:  -383300.0\n",
      "lodge:  -214800.0\n",
      "victorian:  -312740.0\n"
     ]
    }
   ],
   "source": [
    "# Using ranch as baseline.\n",
    "print(\"Ranch: \",-3.833e+05)\n",
    "print(\"lodge: \", -3.833e+05 + 1.685e+05)\n",
    "print(\"victorian: \", -3.833e+05 + 7.056e+04)"
   ]
  },
  {
   "cell_type": "code",
   "execution_count": null,
   "metadata": {},
   "outputs": [],
   "source": []
  }
 ],
 "metadata": {
  "kernelspec": {
   "display_name": "Python 3",
   "language": "python",
   "name": "python3"
  },
  "language_info": {
   "codemirror_mode": {
    "name": "ipython",
    "version": 3
   },
   "file_extension": ".py",
   "mimetype": "text/x-python",
   "name": "python",
   "nbconvert_exporter": "python",
   "pygments_lexer": "ipython3",
   "version": "3.7.7"
  }
 },
 "nbformat": 4,
 "nbformat_minor": 4
}
