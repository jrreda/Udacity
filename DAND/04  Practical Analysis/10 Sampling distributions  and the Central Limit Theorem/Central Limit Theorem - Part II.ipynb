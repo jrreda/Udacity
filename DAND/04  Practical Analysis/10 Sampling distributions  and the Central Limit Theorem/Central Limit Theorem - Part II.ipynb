{
 "cells": [
  {
   "cell_type": "markdown",
   "metadata": {},
   "source": [
    "# Central Limit Theorem - Part II\n",
    "Work through the questions and use the created variables to answer the questions that follow below the notebook.\n",
    "\n",
    "Run the below cell to get started."
   ]
  },
  {
   "cell_type": "code",
   "execution_count": 1,
   "metadata": {},
   "outputs": [
    {
     "data": {
      "image/png": "[encoded data removed]",
      "text/plain": [
       "<Figure size 432x288 with 1 Axes>"
      ]
     },
     "metadata": {},
     "output_type": "display_data"
    }
   ],
   "source": [
    "import numpy as np\n",
    "np.random.seed(42)\n",
    "\n",
    "import matplotlib.pyplot as plt\n",
    "%matplotlib inline\n",
    "plt.style.use('ggplot')\n",
    "\n",
    "pop_data = np.random.gamma(1,100,3000)\n",
    "plt.hist(pop_data);"
   ]
  },
  {
   "cell_type": "markdown",
   "metadata": {},
   "source": [
    "In order to create the sampling distribution for the average of 100 draws of this distribution, follow these steps:\n",
    "\n",
    "1. Use numpy's random.choice to simulate 100 draws from the pop_data array.\n",
    "\n",
    "2. Compute the mean of these 100 draws.\n",
    "\n",
    "3. Write a loop to simulate this process 10,000 times, and store each mean into an array called means_size_100.\n",
    "\n",
    "4. Plot a histogram of your sample means.\n",
    "\n",
    "5. Use means_size_100 and pop_data to answer the quiz questions below."
   ]
  },
  {
   "cell_type": "code",
   "execution_count": 2,
   "metadata": {},
   "outputs": [
    {
     "data": {
      "text/plain": [
       "array([  1.99073813,   2.56776095, 100.03907725,  26.44660917,\n",
       "         7.38496269, 150.12425405, 227.09741251,   3.16290491,\n",
       "       428.38655756,  87.55537772])"
      ]
     },
     "execution_count": 2,
     "metadata": {},
     "output_type": "execute_result"
    }
   ],
   "source": [
    "# 1. Use numpy's random.choice to simulate 100 draws from the pop_data array.\n",
    "sample = np.random.choice(pop_data, size=100)\n",
    "sample[:10]"
   ]
  },
  {
   "cell_type": "code",
   "execution_count": 3,
   "metadata": {},
   "outputs": [
    {
     "data": {
      "text/plain": [
       "115.89760480820178"
      ]
     },
     "execution_count": 3,
     "metadata": {},
     "output_type": "execute_result"
    }
   ],
   "source": [
    "# 2. Compute the mean of these 100 draws.\n",
    "sample.mean()"
   ]
  },
  {
   "cell_type": "code",
   "execution_count": 4,
   "metadata": {},
   "outputs": [
    {
     "data": {
      "text/plain": [
       "array([101.51376314, 106.23899905, 118.53533463, ..., 107.16650419,\n",
       "       113.35344792,  93.81804927])"
      ]
     },
     "execution_count": 4,
     "metadata": {},
     "output_type": "execute_result"
    }
   ],
   "source": [
    "# 3. Write a loop to simulate this process 10,000 times, and store each mean into an array called means_size_100.\n",
    "means_size_100 = np.random.choice(pop_data, size=[10000,100]).mean(axis=1)\n",
    "means_size_100"
   ]
  },
  {
   "cell_type": "code",
   "execution_count": 5,
   "metadata": {},
   "outputs": [
    {
     "data": {
      "image/png": "[encoded data removed]",
      "text/plain": [
       "<Figure size 432x288 with 1 Axes>"
      ]
     },
     "metadata": {},
     "output_type": "display_data"
    }
   ],
   "source": [
    "# 4. Plot a histogram of your sample means.\n",
    "plt.hist(means_size_100);"
   ]
  },
  {
   "cell_type": "code",
   "execution_count": 6,
   "metadata": {},
   "outputs": [],
   "source": [
    "# 5. Use means_size_100 and pop_data to answer the quiz questions below."
   ]
  },
  {
   "cell_type": "code",
   "execution_count": 7,
   "metadata": {},
   "outputs": [
    {
     "name": "stdout",
     "output_type": "stream",
     "text": [
      "Population mean: 100.35978700795846\n"
     ]
    }
   ],
   "source": [
    "# Population mean\n",
    "print(\"Population mean:\", pop_data.mean())"
   ]
  },
  {
   "cell_type": "code",
   "execution_count": 8,
   "metadata": {},
   "outputs": [
    {
     "name": "stdout",
     "output_type": "stream",
     "text": [
      "Sample mean: 100.45707456518824\n"
     ]
    }
   ],
   "source": [
    "# Sampling mean\n",
    "print(\"Sample mean:\", means_size_100.mean())"
   ]
  },
  {
   "cell_type": "code",
   "execution_count": 9,
   "metadata": {},
   "outputs": [
    {
     "name": "stdout",
     "output_type": "stream",
     "text": [
      "Population Standard Deviation 99.77860187968906\n"
     ]
    }
   ],
   "source": [
    "# Population Standard Deviation\n",
    "print(\"Population Standard Deviation\", pop_data.std())"
   ]
  },
  {
   "cell_type": "code",
   "execution_count": 10,
   "metadata": {},
   "outputs": [
    {
     "name": "stdout",
     "output_type": "stream",
     "text": [
      "Sample Standard Deviation 9.971979588536067\n"
     ]
    }
   ],
   "source": [
    "# Sample Standard Deviation\n",
    "print(\"Sample Standard Deviation\", means_size_100.std())"
   ]
  },
  {
   "cell_type": "code",
   "execution_count": null,
   "metadata": {},
   "outputs": [],
   "source": []
  }
 ],
 "metadata": {
  "kernelspec": {
   "display_name": "Python 3",
   "language": "python",
   "name": "python3"
  },
  "language_info": {
   "codemirror_mode": {
    "name": "ipython",
    "version": 3
   },
   "file_extension": ".py",
   "mimetype": "text/x-python",
   "name": "python",
   "nbconvert_exporter": "python",
   "pygments_lexer": "ipython3",
   "version": "3.7.7"
  }
 },
 "nbformat": 4,
 "nbformat_minor": 4
}
