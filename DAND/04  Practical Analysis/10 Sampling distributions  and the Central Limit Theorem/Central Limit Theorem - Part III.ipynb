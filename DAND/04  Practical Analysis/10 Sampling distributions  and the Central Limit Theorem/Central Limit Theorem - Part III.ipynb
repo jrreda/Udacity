{
 "cells": [
  {
   "cell_type": "markdown",
   "metadata": {},
   "source": [
    "# Central Limit Theorem - Part III\n",
    "\n",
    "You saw how the Central Limit Theorem worked for the sample mean in the earlier concept. However, let's consider another example to see a case where the Central Limit Theorem doesn't work...\n",
    "\n",
    "Work through the questions and use the created variables to answer the questions that follow below the notebook.\n",
    "\n",
    "Run the below cell to get started."
   ]
  },
  {
   "cell_type": "code",
   "execution_count": 1,
   "metadata": {},
   "outputs": [
    {
     "data": {
      "image/png": "[encoded data removed]",
      "text/plain": [
       "<Figure size 432x288 with 1 Axes>"
      ]
     },
     "metadata": {},
     "output_type": "display_data"
    }
   ],
   "source": [
    "import numpy as np\n",
    "np.random.seed(42)\n",
    "\n",
    "import matplotlib.pyplot as plt\n",
    "%matplotlib inline\n",
    "plt.style.use('ggplot')\n",
    "\n",
    "pop_data = np.random.gamma(1,100,3000)\n",
    "plt.hist(pop_data);"
   ]
  },
  {
   "cell_type": "markdown",
   "metadata": {},
   "source": [
    "In order to create the sampling distribution for the variance of 100 draws of this distribution, follow these steps:\n",
    "\n",
    "1. Use numpy's random.choice to simulate 100 draws from the pop_data array.\n",
    "\n",
    "2. Compute the variance of these 100 draws.\n",
    "\n",
    "3. Write a loop to simulate this process 10,000 times, and store each variance into an array called var_size_100.\n",
    "\n",
    "4. Plot a histogram of your sample variances.\n",
    "\n",
    "5. Use var_size_100 and pop_data to answer the quiz questions below."
   ]
  },
  {
   "cell_type": "code",
   "execution_count": 2,
   "metadata": {},
   "outputs": [],
   "source": [
    "# 1. Use numpy's random.choice to simulate 100 draws from the pop_data array.\n",
    "sample = np.random.choice(pop_data, size=100)"
   ]
  },
  {
   "cell_type": "code",
   "execution_count": 3,
   "metadata": {},
   "outputs": [
    {
     "data": {
      "text/plain": [
       "12098.749344943082"
      ]
     },
     "execution_count": 3,
     "metadata": {},
     "output_type": "execute_result"
    }
   ],
   "source": [
    "# 2. Compute the variance of these 100 draws.\n",
    "sample.var()"
   ]
  },
  {
   "cell_type": "code",
   "execution_count": 4,
   "metadata": {},
   "outputs": [
    {
     "data": {
      "text/plain": [
       "array([10716.24311956,  9772.770877  , 12447.7181846 , ...,\n",
       "        8521.2288457 , 12104.47229291,  5977.23536641])"
      ]
     },
     "execution_count": 4,
     "metadata": {},
     "output_type": "execute_result"
    }
   ],
   "source": [
    "# 3. Write a loop to simulate this process 10,000 times, and store each variance into an array called var_size_100.\n",
    "var_size_100 = np.random.choice(pop_data, size=[10000, 100]).var(axis=1)\n",
    "var_size_100"
   ]
  },
  {
   "cell_type": "code",
   "execution_count": 5,
   "metadata": {},
   "outputs": [
    {
     "data": {
      "image/png": "[encoded data removed]",
      "text/plain": [
       "<Figure size 432x288 with 1 Axes>"
      ]
     },
     "metadata": {},
     "output_type": "display_data"
    }
   ],
   "source": [
    "# 4. Plot a histogram of your sample variances.\n",
    "plt.hist(var_size_100);"
   ]
  },
  {
   "cell_type": "code",
   "execution_count": 6,
   "metadata": {},
   "outputs": [
    {
     "name": "stdout",
     "output_type": "stream",
     "text": [
      "Population variance: 9955.76939306549\n"
     ]
    }
   ],
   "source": [
    "# 5. Use var_size_100 and pop_data to answer the quiz questions below.\n",
    "\n",
    "# Population Variance\n",
    "print(\"Population variance:\", pop_data.var())"
   ]
  },
  {
   "cell_type": "code",
   "execution_count": 7,
   "metadata": {},
   "outputs": [
    {
     "name": "stdout",
     "output_type": "stream",
     "text": [
      "Sample variance: 9874.361793621825\n"
     ]
    }
   ],
   "source": [
    "# Sample Variance\n",
    "print(\"Sample variance:\", var_size_100.mean())"
   ]
  },
  {
   "cell_type": "code",
   "execution_count": 8,
   "metadata": {},
   "outputs": [
    {
     "name": "stdout",
     "output_type": "stream",
     "text": [
      "Variance of the Sample variance: 6508086.114509583\n"
     ]
    }
   ],
   "source": [
    "# Print variance of the variance sample\n",
    "print(\"Variance of the Sample variance:\", var_size_100.var())"
   ]
  },
  {
   "cell_type": "code",
   "execution_count": null,
   "metadata": {},
   "outputs": [],
   "source": []
  }
 ],
 "metadata": {
  "kernelspec": {
   "display_name": "Python 3",
   "language": "python",
   "name": "python3"
  },
  "language_info": {
   "codemirror_mode": {
    "name": "ipython",
    "version": 3
   },
   "file_extension": ".py",
   "mimetype": "text/x-python",
   "name": "python",
   "nbconvert_exporter": "python",
   "pygments_lexer": "ipython3",
   "version": "3.7.7"
  }
 },
 "nbformat": 4,
 "nbformat_minor": 4
}
