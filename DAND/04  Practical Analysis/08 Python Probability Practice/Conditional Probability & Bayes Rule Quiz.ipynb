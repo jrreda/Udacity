{
 "cells": [
  {
   "cell_type": "markdown",
   "metadata": {},
   "source": [
    "# Conditional Probability & Bayes Rule Quiz\n",
    "In the previous section, you found the following proportions from the cancer results dataset.\n",
    "\n",
    "- Patients with cancer: 0.105\n",
    "- Patients without cancer: 0.895\n",
    "- Patients with cancer who tested positive: 0.905\n",
    "- Patients with cancer who tested negative: 0.095\n",
    "- Patients without cancer who tested positive: 0.204\n",
    "- Patients without cancer who tested negative: 0.796\n",
    "- Based on the above proportions observed in the data, we can assume the following probabilities.\n",
    "\n",
    "**Probability\tMeaning**\n",
    "- P(cancer) = 0.105\tProbability a patient has cancer\n",
    "- P(~cancer) = 0.895\tProbability a patient does not have cancer\n",
    "- P(positive|cancer) = 0.905\tProbability a patient with cancer tests positive\n",
    "- P(negative|cancer) = 0.095\tProbability a patient with cancer tests negative\n",
    "- P(positive|~cancer) = 0.204\tProbability a patient without cancer tests positive\n",
    "- P(negative|~cancer) = 0.796\tProbability a patient without cancer tests negative\n",
    "\n",
    "**Quiz Questions**  \n",
    "Use the probabilities given above and Bayes rule to compute the following probabilities.\n",
    "\n",
    "- Probability a patient who tested positive has cancer, or P(cancer|positive)\n",
    "- Probability a patient who tested positive doesn't have cancer, or P(~cancer|positive)\n",
    "- Probability a patient who tested negative has cancer, or P(cancer|negative)\n",
    "- Probability a patient who tested negative doesn't have cancer, or P(~cancer|negative)\n",
    "\n",
    "Then, use the Jupyter notebook to compare them to true proportions in the dataset."
   ]
  },
  {
   "cell_type": "code",
   "execution_count": 1,
   "metadata": {},
   "outputs": [],
   "source": [
    "P_cancer = 0.105\n",
    "P_not_cancer = 1 - P_cancer\n",
    "\n",
    "P_positive_cancer = 0.905\n",
    "P_negative_cancer = 1 - P_positive_cancer\n",
    "\n",
    "P_positive_not_cancer = 0.204\n",
    "P_negative_not_cancer = 1 - P_positive_not_cancer"
   ]
  },
  {
   "cell_type": "markdown",
   "metadata": {},
   "source": [
    "### Probability a patient who tested positive has cancer, or P(cancer|positive)"
   ]
  },
  {
   "cell_type": "code",
   "execution_count": 2,
   "metadata": {},
   "outputs": [
    {
     "data": {
      "text/plain": [
       "0.277605"
      ]
     },
     "execution_count": 2,
     "metadata": {},
     "output_type": "execute_result"
    }
   ],
   "source": [
    "# Calculating the P_positive\n",
    "P_positive = P_cancer * P_positive_cancer + P_not_cancer * P_positive_not_cancer\n",
    "\n",
    "# P(positive)\n",
    "P_positive"
   ]
  },
  {
   "cell_type": "code",
   "execution_count": 3,
   "metadata": {},
   "outputs": [
    {
     "data": {
      "text/plain": [
       "0.34230291241152"
      ]
     },
     "execution_count": 3,
     "metadata": {},
     "output_type": "execute_result"
    }
   ],
   "source": [
    "# P(cancer|positive) = P(cancer) * P(positive|cancer)/P(positive)\n",
    "P_cancer_positive = P_cancer * (P_positive_cancer / P_positive)\n",
    "\n",
    "# P(cancer|positive)\n",
    "P_cancer_positive"
   ]
  },
  {
   "cell_type": "markdown",
   "metadata": {},
   "source": [
    "### Probability a patient who tested positive doesn't have cancer, or P(~cancer|positive)"
   ]
  },
  {
   "cell_type": "code",
   "execution_count": 4,
   "metadata": {},
   "outputs": [
    {
     "data": {
      "text/plain": [
       "0.65769708758848"
      ]
     },
     "execution_count": 4,
     "metadata": {},
     "output_type": "execute_result"
    }
   ],
   "source": [
    "# P(not cancer|positive) = P(not cancer) * P(positive|cancer)/P(positive)\n",
    "P_not_cancer_positive = P_not_cancer * (P_positive_not_cancer / P_positive)\n",
    "\n",
    "# P(not cancer|positive)\n",
    "P_not_cancer_positive"
   ]
  },
  {
   "cell_type": "markdown",
   "metadata": {},
   "source": [
    "### Probability a patient who tested negative has cancer, or P(cancer|negative)"
   ]
  },
  {
   "cell_type": "code",
   "execution_count": 8,
   "metadata": {},
   "outputs": [
    {
     "data": {
      "text/plain": [
       "0.722395"
      ]
     },
     "execution_count": 8,
     "metadata": {},
     "output_type": "execute_result"
    }
   ],
   "source": [
    "# Calculating the P_negative\n",
    "P_negative = (P_cancer*P_negative_cancer) + (P_not_cancer*P_negative_not_cancer)\n",
    "\n",
    "# P(negative)\n",
    "P_negative"
   ]
  },
  {
   "cell_type": "code",
   "execution_count": 9,
   "metadata": {},
   "outputs": [
    {
     "data": {
      "text/plain": [
       "0.01380823510683213"
      ]
     },
     "execution_count": 9,
     "metadata": {},
     "output_type": "execute_result"
    }
   ],
   "source": [
    "# P(cancer|negative) = P(cancer) * P(negative|cancer)/P(negative)\n",
    "P_cancer_negative = P_cancer *  (P_negative_cancer/P_negative)\n",
    "\n",
    "# P(cancer|positive)\n",
    "P_cancer_negative"
   ]
  },
  {
   "cell_type": "markdown",
   "metadata": {},
   "source": [
    "### Probability a patient who tested negative doesn't have cancer, or P(~cancer|negative)"
   ]
  },
  {
   "cell_type": "code",
   "execution_count": 10,
   "metadata": {},
   "outputs": [
    {
     "data": {
      "text/plain": [
       "0.986191764893168"
      ]
     },
     "execution_count": 10,
     "metadata": {},
     "output_type": "execute_result"
    }
   ],
   "source": [
    "# P(not cancer|P_negative) = P(not cancer) * P(P_negative|cancer)/P(P_negative)\n",
    "P_not_cancer_negative = P_not_cancer * (P_negative_not_cancer/P_negative)\n",
    "\n",
    "# P(not cancer|P_negative)\n",
    "P_not_cancer_negative"
   ]
  },
  {
   "cell_type": "code",
   "execution_count": null,
   "metadata": {},
   "outputs": [],
   "source": []
  }
 ],
 "metadata": {
  "kernelspec": {
   "display_name": "Python 3",
   "language": "python",
   "name": "python3"
  },
  "language_info": {
   "codemirror_mode": {
    "name": "ipython",
    "version": 3
   },
   "file_extension": ".py",
   "mimetype": "text/x-python",
   "name": "python",
   "nbconvert_exporter": "python",
   "pygments_lexer": "ipython3",
   "version": "3.7.7"
  }
 },
 "nbformat": 4,
 "nbformat_minor": 4
}
