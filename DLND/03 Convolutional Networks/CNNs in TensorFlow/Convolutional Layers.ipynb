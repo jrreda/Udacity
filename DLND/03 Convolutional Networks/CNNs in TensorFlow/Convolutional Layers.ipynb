{
 "cells": [
  {
   "cell_type": "markdown",
   "id": "a00b0353-71e0-416c-9af2-9470d7c8bd88",
   "metadata": {
    "tags": []
   },
   "source": [
    "# 01. Convolutional Layers\n",
    "The image below is an example of a [convolution](https://en.wikipedia.org/wiki/Convolution) with a 3x3 filter and a stride of 1.\n",
    "\n",
    "<img src=\"convolution-schematic.gif\" width=50%/>\n",
    "\n",
    "**Convolution with 3x3 window and stride 1**\n",
    "\n",
    "Image source: http://deeplearning.stanford.edu/wiki/index.php/Feature_extraction_using_convolution\n",
    "\n",
    "\n",
    "\n",
    "\n",
    "The convolution for each 3x3 section is calculated against the weight, `[[1, 0, 1], [0, 1, 0], [1, 0, 1]]`, and then a bias is added to create the convolved feature on the right. In this case, the bias is zero.\n",
    "\n",
    "---\n",
    "\n",
    "## Convolutional Layers in TensorFlow\n",
    "\n",
    "Let's examine how to implement a convolutional layer in TensorFlow.\n",
    "\n",
    "TensorFlow provides the `tf.nn.conv2d()`, `tf.nn.bias_add()`, and `tf.nn.relu()` functions to create your own convolutional layers."
   ]
  },
  {
   "cell_type": "code",
   "execution_count": 5,
   "id": "32ab9372-e7f1-4394-97a0-fb88ea990ab6",
   "metadata": {},
   "outputs": [],
   "source": [
    "import tensorflow.compat.v1 as tf\n",
    "tf.disable_v2_behavior() \n",
    "\n",
    "# output depth\n",
    "k_output = 64\n",
    "\n",
    "# image dimensions\n",
    "image_width = 10\n",
    "image_height = 10\n",
    "color_channels = 3\n",
    "\n",
    "# convolution filter dimensions\n",
    "filter_size_width = 5\n",
    "filter_size_height = 5\n",
    "\n",
    "# input/image\n",
    "input = tf.placeholder(\n",
    "    tf.float32,\n",
    "    shape=[None, image_height, image_width, color_channels]\n",
    ")\n",
    "\n",
    "# weight and bias\n",
    "weight = tf.Variable(tf.truncated_normal(\n",
    "    [filter_size_height, filter_size_width, color_channels, k_output])\n",
    "                    )\n",
    "bias = tf.Variable(tf.zeros(k_output))\n",
    "\n",
    "# apply convolution\n",
    "conv_layer = tf.nn.conv2d(input, weight, strides=[1, 2, 2, 1], padding='SAME')\n",
    "# add bias\n",
    "conv_layer = tf.nn.bias_add(conv_layer, bias)\n",
    "# apply activation function\n",
    "conv_layer = tf.nn.relu(conv_layer)"
   ]
  },
  {
   "cell_type": "markdown",
   "id": "f429b215-372b-4c70-82a4-ecfdaf2c2c98",
   "metadata": {},
   "source": [
    "# 02. Quiz: Convolutional Layers\n",
    "\n",
    "Let's now build a convolutional layer in TensorFlow. In the below exercise, you'll be asked to set up the dimensions of the convolution filters, the weights, and the biases. This is in many ways the trickiest part to using CNNs in TensorFlow. Once you have a sense of how to set up the dimensions of these attributes, applying CNNs will be far more straightforward."
   ]
  },
  {
   "cell_type": "code",
   "execution_count": 7,
   "id": "a6499e30-a23c-4689-a1dc-291e546222d7",
   "metadata": {},
   "outputs": [],
   "source": [
    "\"\"\"\n",
    "Setup the strides, padding and filter weight/bias such that\n",
    "the output shape is (1, 2, 2, 3).\n",
    "\"\"\"\n",
    "import numpy as np\n",
    "\n",
    "# `tf.nn.conv2d` requires the input be 4D (batch_size, height, width, depth)\n",
    "# (1, 4, 4, 1)\n",
    "x = np.array([\n",
    "    [0, 1, 0.5, 10],\n",
    "    [2, 2.5, 1, -8],\n",
    "    [4, 0, 5, 6],\n",
    "    [15, 1, 2, 3]], dtype=np.float32).reshape((1, 4, 4, 1))\n",
    "X = tf.constant(x)\n",
    "\n",
    "\n",
    "def conv2d(input):\n",
    "    # Filter (weights and bias)\n",
    "    # The shape of the filter weight is (height, width, input_depth, output_depth)\n",
    "    # The shape of the filter bias is (output_depth,)\n",
    "    # TODO: Define the filter weights `F_W` and filter bias `F_b`.\n",
    "    # NOTE: Remember to wrap them in `tf.Variable`, they are trainable parameters after all.\n",
    "    # F_W = ?\n",
    "    F_W = tf.Variable(tf.truncated_normal([2, 2, 1, 3]))\n",
    "    # F_b = ?\n",
    "    F_b = tf.Variable(tf.zeros(3))\n",
    "    \n",
    "    # TODO: Set the stride for each dimension (batch_size, height, width, depth)\n",
    "    # strides = [?, ?, ?, ?]\n",
    "    strides = [1, 2, 2, 1]\n",
    "    # TODO: set the padding, either 'VALID' or 'SAME'.\n",
    "    # padding = ?\n",
    "    padding = 'SAME'\n",
    "    # https://www.tensorflow.org/versions/r0.11/api_docs/python/nn.html#conv2d\n",
    "    # `tf.nn.conv2d` does not include the bias computation so we have to add it ourselves after.\n",
    "    return tf.nn.conv2d(input, F_W, strides, padding) + F_b\n",
    "\n",
    "out = conv2d(X)"
   ]
  },
  {
   "cell_type": "code",
   "execution_count": 8,
   "id": "b83bf50a-a318-4b11-bdb6-f6ac5689789a",
   "metadata": {},
   "outputs": [
    {
     "data": {
      "text/plain": [
       "<tf.Tensor 'add:0' shape=(1, 2, 2, 3) dtype=float32>"
      ]
     },
     "execution_count": 8,
     "metadata": {},
     "output_type": "execute_result"
    }
   ],
   "source": [
    "out"
   ]
  }
 ],
 "metadata": {
  "kernelspec": {
   "display_name": "Python 3 (ipykernel)",
   "language": "python",
   "name": "python3"
  },
  "language_info": {
   "codemirror_mode": {
    "name": "ipython",
    "version": 3
   },
   "file_extension": ".py",
   "mimetype": "text/x-python",
   "name": "python",
   "nbconvert_exporter": "python",
   "pygments_lexer": "ipython3",
   "version": "3.8.12"
  },
  "widgets": {
   "application/vnd.jupyter.widget-state+json": {
    "state": {},
    "version_major": 2,
    "version_minor": 0
   }
  }
 },
 "nbformat": 4,
 "nbformat_minor": 5
}
