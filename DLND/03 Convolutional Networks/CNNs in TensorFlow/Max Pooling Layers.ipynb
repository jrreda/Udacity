{
 "cells": [
  {
   "cell_type": "markdown",
   "id": "7b11fcde-c056-48d5-af70-36450d983384",
   "metadata": {},
   "source": [
    "# Max Pooling Layers in TensorFlow\n",
    "\n",
    "The image below is an example of [max pooling](https://en.wikipedia.org/wiki/Convolutional_neural_network#Pooling_layer) with a 2x2 filter and stride of 2. The four 2x2 colors represent each time the filter was applied to find the maximum value.\n",
    "\n",
    "<img src=\"max-pooling.png\" width=50%/>\n",
    "\n",
    "By Aphex34 (Own work)[CC BY-SA 4.0 (http://creativecommons.org/licenses/by-sa/4.0)], via Wikimedia Commons\n",
    "\n",
    "\n",
    "For example, `[[1, 0], [4, 6]]` becomes `6`, because `6` is the maximum value in this set. Similarly, `[[2, 3], [6, 8]]` becomes `8`.\n",
    "\n",
    "Conceptually, the benefit of the max pooling operation is to reduce the size of the input, and allow the neural network to focus on only the most important elements. Max pooling does this by only retaining the maximum value for each filtered area, and removing the remaining values.\n",
    "\n",
    "TensorFlow provides the [`tf.nn.max_pool()`](https://www.tensorflow.org/api_docs/python/tf/nn/max_pool) function to apply [max pooling](https://en.wikipedia.org/wiki/Convolutional_neural_network#Pooling_layer) to your convolutional layers."
   ]
  },
  {
   "cell_type": "code",
   "execution_count": 4,
   "id": "d68d61fd-6126-4e1f-ad2d-b123e17a5b73",
   "metadata": {},
   "outputs": [],
   "source": [
    "import tensorflow.compat.v1 as tf\n",
    "tf.disable_v2_behavior() \n",
    "\n",
    "import numpy as np"
   ]
  },
  {
   "cell_type": "code",
   "execution_count": null,
   "id": "97b75b3e-a883-4d9b-a6a0-cba06d21e3f6",
   "metadata": {},
   "outputs": [],
   "source": [
    "\n",
    "conv_layer = tf.nn.conv2d(input, weight, strides=[1, 2, 2, 1], padding='SAME')  \n",
    "conv_layer = tf.nn.bias_add(conv_layer, bias)  \n",
    "conv_layer = tf.nn.relu(conv_layer)  \n",
    "\n",
    "# apply max pooling\n",
    "conv_layer = tf.nn.max_pool(  \n",
    "    conv_layer,  \n",
    "    ksize=[1, 2, 2, 1],  \n",
    "    strides=[1, 2, 2, 1],  \n",
    "    padding='SAME'  \n",
    ")"
   ]
  },
  {
   "cell_type": "markdown",
   "id": "5b31ccb6-3917-4b18-a261-964e6d3b6cce",
   "metadata": {},
   "source": [
    "The `tf.nn.max_pool()` function performs max pooling with the `ksize` parameter as the size of the filter and the `strides` parameter as the length of the stride. 2x2 filters with a stride of 2x2 are common in practice.\n",
    "\n",
    "The `ksize` and `strides` parameters are structured as 4-element lists, with each element corresponding to a dimension of the input tensor `([batch, height, width, channels])`. For both `ksize` and `strides`, the batch and channel dimensions are typically set to `1`."
   ]
  },
  {
   "cell_type": "markdown",
   "id": "0da4f65a-1ae8-4c5d-a88f-b594f3bf0cda",
   "metadata": {},
   "source": [
    "## Quiz: Using Max Pooling Layers in TensorFlow\n",
    "\n",
    "In the below exercise, you'll be asked to set up the dimensions of the pooling filters, strides, as well as the appropriate padding. \n",
    "\n",
    "You should go over the TensorFlow documentation for [`tf.nn.max_pool()`](https://www.tensorflow.org/api_docs/python/tf/nn/max_pool). Padding works the same as it does for a convolution."
   ]
  },
  {
   "cell_type": "code",
   "execution_count": 5,
   "id": "0cb07989-00ac-4f20-8261-56b7d174d0e9",
   "metadata": {},
   "outputs": [],
   "source": [
    "\"\"\"\n",
    "Set the values to `strides` and `ksize` such that\n",
    "the output shape after pooling is (1, 2, 2, 1).\n",
    "\"\"\"\n",
    "# `tf.nn.max_pool` requires the input be 4D (batch_size, height, width, depth)\n",
    "# (1, 4, 4, 1)\n",
    "x = np.array([\n",
    "    [0, 1, 0.5, 10],\n",
    "    [2, 2.5, 1, -8],\n",
    "    [4, 0, 5, 6],\n",
    "    [15, 1, 2, 3]], dtype=np.float32).reshape((1, 4, 4, 1))\n",
    "X = tf.constant(x)\n",
    "\n",
    "def maxpool(input):\n",
    "    # TODO: Set the ksize (filter size) for each dimension (batch_size, height, width, depth)\n",
    "    # ksize = [?, ?, ?, ?]\n",
    "    ksize = [1, 2, 2, 1]\n",
    "    # TODO: Set the stride for each dimension (batch_size, height, width, depth)\n",
    "    # strides = [?, ?, ?, ?]\n",
    "    strides = [1, 2, 2, 1]\n",
    "    # TODO: set the padding, either 'VALID' or 'SAME'.\n",
    "    padding = 'SAME'\n",
    "    # https://www.tensorflow.org/versions/r0.11/api_docs/python/nn.html#max_pool\n",
    "    return tf.nn.max_pool(input, ksize, strides, padding)\n",
    "    \n",
    "out = maxpool(X)"
   ]
  },
  {
   "cell_type": "code",
   "execution_count": 6,
   "id": "a8939c67-92cf-4fdf-9be3-20f484173ea5",
   "metadata": {},
   "outputs": [
    {
     "data": {
      "text/plain": [
       "<tf.Tensor 'MaxPool:0' shape=(1, 2, 2, 1) dtype=float32>"
      ]
     },
     "execution_count": 6,
     "metadata": {},
     "output_type": "execute_result"
    }
   ],
   "source": [
    "out"
   ]
  }
 ],
 "metadata": {
  "kernelspec": {
   "display_name": "Python 3 (ipykernel)",
   "language": "python",
   "name": "python3"
  },
  "language_info": {
   "codemirror_mode": {
    "name": "ipython",
    "version": 3
   },
   "file_extension": ".py",
   "mimetype": "text/x-python",
   "name": "python",
   "nbconvert_exporter": "python",
   "pygments_lexer": "ipython3",
   "version": "3.8.12"
  },
  "widgets": {
   "application/vnd.jupyter.widget-state+json": {
    "state": {},
    "version_major": 2,
    "version_minor": 0
   }
  }
 },
 "nbformat": 4,
 "nbformat_minor": 5
}
