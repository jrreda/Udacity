{
 "cells": [
  {
   "cell_type": "markdown",
   "id": "9c71aa7e-1038-4257-9ef8-901e08d538bf",
   "metadata": {},
   "source": [
    "# Quiz: Dimensionality\n",
    "\n",
    "<img src=\"convolution-schematic.gif\" width=60%/>\n",
    "\n",
    "**Convolution with 3x3 window and stride 1**\n",
    "\n",
    "Image source: http://deeplearning.stanford.edu/wiki/index.php/Feature_extraction_using_convolution"
   ]
  },
  {
   "cell_type": "code",
   "execution_count": 1,
   "id": "5e01f6e4-cfd4-48cb-b01d-753ed2dd1d5e",
   "metadata": {},
   "outputs": [],
   "source": [
    "from keras.models import Sequential\n",
    "from keras.layers import Conv2D"
   ]
  },
  {
   "cell_type": "markdown",
   "id": "202d0770-c328-43b6-8052-96fd78c3bd2e",
   "metadata": {},
   "source": [
    "## Formula: Shape of a Convolutional Layer\n",
    "The shape of a convolutional layer depends on the supplied values of kernel_size, input_shape, padding, and stride. Let's define a few variables:\n",
    "\n",
    "- `K` - the number of filters in the convolutional layer\n",
    "- `F` - the height and width of the convolutional filters\n",
    "- `S` - the stride of the convolution\n",
    "- `H_in` - the height of the previous layer\n",
    "- `W_in` - the width of the previous layer\n",
    "\n",
    "Notice that `K` = `filters`, `F` = `kernel_size`, and `S` = `stride`. Likewise, `H_in` and `W_in` are the first and second value of the `input_shape` tuple, respectively.\n",
    "\n",
    "The **depth** of the convolutional layer will always equal the number of filters `K`.\n",
    "\n",
    "If `padding = 'same'`, then the spatial dimensions of the convolutional layer are the following:\n",
    "- height = ceil(float(`H_in`) / float(`S`))\n",
    "- width = ceil(float(`W_in`) / float(`S`))\n",
    "\n",
    "If `padding = 'valid'`, then the spatial dimensions of the convolutional layer are the following:\n",
    "- height = ceil(float(`H_in` - `F` + 1) / float(`S`))\n",
    "- width = ceil(float(`W_in` - `F` + 1) / float(`S`))"
   ]
  },
  {
   "cell_type": "code",
   "execution_count": 6,
   "id": "2bb4aeef-c7cb-43fb-be4b-58f8061c2188",
   "metadata": {},
   "outputs": [
    {
     "name": "stdout",
     "output_type": "stream",
     "text": [
      "Model: \"sequential_3\"\n",
      "_________________________________________________________________\n",
      "Layer (type)                 Output Shape              Param #   \n",
      "=================================================================\n",
      "conv2d_3 (Conv2D)            (None, 64, 64, 32)        896       \n",
      "=================================================================\n",
      "Total params: 896\n",
      "Trainable params: 896\n",
      "Non-trainable params: 0\n",
      "_________________________________________________________________\n"
     ]
    }
   ],
   "source": [
    "model = Sequential()\n",
    "model.add(Conv2D(filters=32, kernel_size=3,\n",
    "                 strides=2, padding='same', \n",
    "                 activation='relu',\n",
    "                 input_shape=(128, 128, 3)))\n",
    "\n",
    "model.summary()"
   ]
  },
  {
   "cell_type": "code",
   "execution_count": 9,
   "id": "1db2910c-9d97-4ee7-9046-b146584991de",
   "metadata": {},
   "outputs": [
    {
     "data": {
      "text/plain": [
       "64"
      ]
     },
     "execution_count": 9,
     "metadata": {},
     "output_type": "execute_result"
    }
   ],
   "source": [
    "import math\n",
    "\n",
    "S = 2\n",
    "W_in = 128\n",
    "\n",
    "width = math.ceil(float(W_in) / float(S))\n",
    "width"
   ]
  }
 ],
 "metadata": {
  "kernelspec": {
   "display_name": "Python 3 (ipykernel)",
   "language": "python",
   "name": "python3"
  },
  "language_info": {
   "codemirror_mode": {
    "name": "ipython",
    "version": 3
   },
   "file_extension": ".py",
   "mimetype": "text/x-python",
   "name": "python",
   "nbconvert_exporter": "python",
   "pygments_lexer": "ipython3",
   "version": "3.8.12"
  },
  "widgets": {
   "application/vnd.jupyter.widget-state+json": {
    "state": {},
    "version_major": 2,
    "version_minor": 0
   }
  }
 },
 "nbformat": 4,
 "nbformat_minor": 5
}
