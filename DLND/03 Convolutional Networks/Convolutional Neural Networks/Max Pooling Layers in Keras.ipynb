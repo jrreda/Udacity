{
 "cells": [
  {
   "cell_type": "markdown",
   "id": "ddf33706-c08a-4e54-a625-c666b74e78a3",
   "metadata": {},
   "source": [
    "# Max Pooling Layers in Keras\n",
    "\n",
    "<img src=\"maxpool.jpeg\" width=50%/>\n",
    "\n",
    "**Max pooling with 2x2 window and stride 2**\n",
    "\n",
    "Image source: http://cs231n.github.io/convolutional-networks/"
   ]
  },
  {
   "cell_type": "code",
   "execution_count": 1,
   "id": "d31a3d59-ec08-4dd3-9add-a3621ef8c4aa",
   "metadata": {},
   "outputs": [],
   "source": [
    "from keras.models import Sequential\n",
    "from keras.layers import MaxPooling2D"
   ]
  },
  {
   "cell_type": "markdown",
   "id": "ab939c98-7b36-4d31-add7-767e0e730200",
   "metadata": {},
   "source": [
    "#### Arguments\n",
    "You must include the following argument:\n",
    "\n",
    "- `pool_size` - Number specifying the height and width of the pooling window.\n",
    "\n",
    "There are some additional, optional arguments that you might like to tune:\n",
    "- `strides` - The vertical and horizontal stride. If you don't specify anything, strides will default to `pool_size`.\n",
    "- `padding` - One of `'valid'` or `'same'`. If you don't specify anything, padding is set to `'valid'`.\n",
    "\n",
    "**NOTE**: It is possible to represent both `pool_size` and `strides` as either a number or a tuple.\n",
    "\n"
   ]
  },
  {
   "cell_type": "markdown",
   "id": "af0cd7cf-ff5a-415b-809c-3521f3acb734",
   "metadata": {},
   "source": [
    "### Example: \n",
    "\n",
    "Say I'm constructing a CNN, and I'd like to reduce the dimensionality of a convolutional layer by following it with a max pooling layer. Say the convolutional layer has size `(100, 100, 15)`, and I'd like the max pooling layer to have size `(50, 50, 15)`. I can do this by using a 2x2 window in my max pooling layer, with a stride of 2, which could be constructed in the following line of code:\n"
   ]
  },
  {
   "cell_type": "code",
   "execution_count": 8,
   "id": "c8957c14-f268-45cd-b1fc-56a75a2dda7d",
   "metadata": {},
   "outputs": [
    {
     "name": "stdout",
     "output_type": "stream",
     "text": [
      "Model: \"sequential_6\"\n",
      "_________________________________________________________________\n",
      "Layer (type)                 Output Shape              Param #   \n",
      "=================================================================\n",
      "max_pooling2d_6 (MaxPooling2 (None, 50, 50, 15)        0         \n",
      "=================================================================\n",
      "Total params: 0\n",
      "Trainable params: 0\n",
      "Non-trainable params: 0\n",
      "_________________________________________________________________\n"
     ]
    }
   ],
   "source": [
    "model = Sequential()\n",
    "model.add(MaxPooling2D(pool_size=2, strides=2, input_shape=(100, 100, 15)))\n",
    "\n",
    "model.summary()"
   ]
  }
 ],
 "metadata": {
  "kernelspec": {
   "display_name": "Python 3 (ipykernel)",
   "language": "python",
   "name": "python3"
  },
  "language_info": {
   "codemirror_mode": {
    "name": "ipython",
    "version": 3
   },
   "file_extension": ".py",
   "mimetype": "text/x-python",
   "name": "python",
   "nbconvert_exporter": "python",
   "pygments_lexer": "ipython3",
   "version": "3.8.12"
  },
  "widgets": {
   "application/vnd.jupyter.widget-state+json": {
    "state": {},
    "version_major": 2,
    "version_minor": 0
   }
  }
 },
 "nbformat": 4,
 "nbformat_minor": 5
}
