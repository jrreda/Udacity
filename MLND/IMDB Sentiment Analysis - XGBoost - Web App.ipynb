{
 "cells": [
  {
   "cell_type": "markdown",
   "metadata": {},
   "source": [
    "# Sentiment Analysis Web App\n",
    "\n",
    "_Deep Learning Nanodegree Program | Deployment_\n",
    "\n",
    "---\n",
    "\n",
    "In this notebook we will use Amazon's SageMaker service to construct a random tree model to predict the sentiment of a movie review. In addition, we will deploy this model to an endpoint and construct a very simple web app which will interact with our model's deployed endpoint.\n",
    "\n",
    "## General Outline\n",
    "\n",
    "Typically, when using a notebook instance with SageMaker, you will proceed through the following steps. Of course, not every step will need to be done with each project. Also, there is quite a lot of room for variation in many of the steps, as you will see throughout these lessons.\n",
    "\n",
    "1. Download or otherwise retrieve the data.\n",
    "2. Process / Prepare the data.\n",
    "3. Upload the processed data to S3.\n",
    "4. Train a chosen model.\n",
    "5. Test the trained model (typically using a batch transform job).\n",
    "6. Deploy the trained model.\n",
    "7. Use the deployed model.\n",
    "\n",
    "In this notebook we will progress through each of the steps above. We will also see that the final step, using the deployed model, can be quite challenging."
   ]
  },
  {
   "cell_type": "code",
   "execution_count": 5,
   "metadata": {},
   "outputs": [
    {
     "name": "stdout",
     "output_type": "stream",
     "text": [
      "Looking in indexes: https://pypi.org/simple, https://pip.repos.neuron.amazonaws.com\n",
      "Requirement already satisfied: sagemaker==1.72.0 in /home/ec2-user/anaconda3/envs/amazonei_mxnet_p36/lib/python3.6/site-packages (1.72.0)\n",
      "Requirement already satisfied: protobuf3-to-dict>=0.1.5 in /home/ec2-user/anaconda3/envs/amazonei_mxnet_p36/lib/python3.6/site-packages (from sagemaker==1.72.0) (0.1.5)\n",
      "Requirement already satisfied: packaging>=20.0 in /home/ec2-user/anaconda3/envs/amazonei_mxnet_p36/lib/python3.6/site-packages (from sagemaker==1.72.0) (21.3)\n",
      "Requirement already satisfied: boto3>=1.14.12 in /home/ec2-user/anaconda3/envs/amazonei_mxnet_p36/lib/python3.6/site-packages (from sagemaker==1.72.0) (1.21.42)\n",
      "Requirement already satisfied: importlib-metadata>=1.4.0 in /home/ec2-user/anaconda3/envs/amazonei_mxnet_p36/lib/python3.6/site-packages (from sagemaker==1.72.0) (3.6.0)\n",
      "Requirement already satisfied: smdebug-rulesconfig==0.1.4 in /home/ec2-user/anaconda3/envs/amazonei_mxnet_p36/lib/python3.6/site-packages (from sagemaker==1.72.0) (0.1.4)\n",
      "Requirement already satisfied: protobuf>=3.1 in /home/ec2-user/anaconda3/envs/amazonei_mxnet_p36/lib/python3.6/site-packages (from sagemaker==1.72.0) (3.15.1)\n",
      "Requirement already satisfied: scipy>=0.19.0 in /home/ec2-user/anaconda3/envs/amazonei_mxnet_p36/lib/python3.6/site-packages (from sagemaker==1.72.0) (1.5.3)\n",
      "Requirement already satisfied: numpy>=1.9.0 in /home/ec2-user/anaconda3/envs/amazonei_mxnet_p36/lib/python3.6/site-packages (from sagemaker==1.72.0) (1.19.5)\n",
      "Requirement already satisfied: botocore<1.25.0,>=1.24.42 in /home/ec2-user/anaconda3/envs/amazonei_mxnet_p36/lib/python3.6/site-packages (from boto3>=1.14.12->sagemaker==1.72.0) (1.24.42)\n",
      "Requirement already satisfied: s3transfer<0.6.0,>=0.5.0 in /home/ec2-user/anaconda3/envs/amazonei_mxnet_p36/lib/python3.6/site-packages (from boto3>=1.14.12->sagemaker==1.72.0) (0.5.2)\n",
      "Requirement already satisfied: jmespath<2.0.0,>=0.7.1 in /home/ec2-user/anaconda3/envs/amazonei_mxnet_p36/lib/python3.6/site-packages (from boto3>=1.14.12->sagemaker==1.72.0) (0.10.0)\n",
      "Requirement already satisfied: typing-extensions>=3.6.4 in /home/ec2-user/anaconda3/envs/amazonei_mxnet_p36/lib/python3.6/site-packages (from importlib-metadata>=1.4.0->sagemaker==1.72.0) (4.1.1)\n",
      "Requirement already satisfied: zipp>=0.5 in /home/ec2-user/anaconda3/envs/amazonei_mxnet_p36/lib/python3.6/site-packages (from importlib-metadata>=1.4.0->sagemaker==1.72.0) (3.4.0)\n",
      "Requirement already satisfied: pyparsing!=3.0.5,>=2.0.2 in /home/ec2-user/anaconda3/envs/amazonei_mxnet_p36/lib/python3.6/site-packages (from packaging>=20.0->sagemaker==1.72.0) (2.4.7)\n",
      "Requirement already satisfied: six>=1.9 in /home/ec2-user/anaconda3/envs/amazonei_mxnet_p36/lib/python3.6/site-packages (from protobuf>=3.1->sagemaker==1.72.0) (1.15.0)\n",
      "Requirement already satisfied: python-dateutil<3.0.0,>=2.1 in /home/ec2-user/anaconda3/envs/amazonei_mxnet_p36/lib/python3.6/site-packages (from botocore<1.25.0,>=1.24.42->boto3>=1.14.12->sagemaker==1.72.0) (2.8.1)\n",
      "Requirement already satisfied: urllib3<1.27,>=1.25.4 in /home/ec2-user/anaconda3/envs/amazonei_mxnet_p36/lib/python3.6/site-packages (from botocore<1.25.0,>=1.24.42->boto3>=1.14.12->sagemaker==1.72.0) (1.26.8)\n"
     ]
    }
   ],
   "source": [
    "# Make sure that we use SageMaker 1.x\n",
    "!pip install sagemaker==1.72.0"
   ]
  },
  {
   "cell_type": "markdown",
   "metadata": {},
   "source": [
    "## Step 1: Downloading the data\n",
    "\n",
    "The dataset we are going to use is very popular among researchers in Natural Language Processing, usually referred to as the [IMDb dataset](http://ai.stanford.edu/~amaas/data/sentiment/). It consists of movie reviews from the website [imdb.com](http://www.imdb.com/), each labeled as either '**pos**itive', if the reviewer enjoyed the film, or '**neg**ative' otherwise.\n",
    "\n",
    "> Maas, Andrew L., et al. [Learning Word Vectors for Sentiment Analysis](http://ai.stanford.edu/~amaas/data/sentiment/). In _Proceedings of the 49th Annual Meeting of the Association for Computational Linguistics: Human Language Technologies_. Association for Computational Linguistics, 2011.\n",
    "\n",
    "We begin by using some Jupyter Notebook magic to download and extract the dataset."
   ]
  },
  {
   "cell_type": "code",
   "execution_count": 6,
   "metadata": {},
   "outputs": [
    {
     "name": "stdout",
     "output_type": "stream",
     "text": [
      "mkdir: cannot create directory ‘../data’: File exists\n",
      "--2022-06-29 20:57:33--  http://ai.stanford.edu/~amaas/data/sentiment/aclImdb_v1.tar.gz\n",
      "Resolving ai.stanford.edu (ai.stanford.edu)... 171.64.68.10\n",
      "Connecting to ai.stanford.edu (ai.stanford.edu)|171.64.68.10|:80... connected.\n",
      "HTTP request sent, awaiting response... 200 OK\n",
      "Length: 84125825 (80M) [application/x-gzip]\n",
      "Saving to: ‘../data/aclImdb_v1.tar.gz’\n",
      "\n",
      "100%[======================================>] 84,125,825  21.9MB/s   in 5.7s   \n",
      "\n",
      "2022-06-29 20:57:39 (14.0 MB/s) - ‘../data/aclImdb_v1.tar.gz’ saved [84125825/84125825]\n",
      "\n"
     ]
    }
   ],
   "source": [
    "%mkdir ../data\n",
    "!wget -O ../data/aclImdb_v1.tar.gz http://ai.stanford.edu/~amaas/data/sentiment/aclImdb_v1.tar.gz\n",
    "!tar -zxf ../data/aclImdb_v1.tar.gz -C ../data"
   ]
  },
  {
   "cell_type": "markdown",
   "metadata": {},
   "source": [
    "## Step 2: Preparing and Processing the data\n",
    "\n",
    "The data we have downloaded is split into various files, each of which contains a single review. It will be much easier going forward if we combine these individual files into two large files, one for training and one for testing."
   ]
  },
  {
   "cell_type": "code",
   "execution_count": 1,
   "metadata": {},
   "outputs": [],
   "source": [
    "import os\n",
    "import glob\n",
    "\n",
    "def read_imdb_data(data_dir='../data/aclImdb'):\n",
    "    data = {}\n",
    "    labels = {}\n",
    "    \n",
    "    for data_type in ['train', 'test']:\n",
    "        data[data_type] = {}\n",
    "        labels[data_type] = {}\n",
    "        \n",
    "        for sentiment in ['pos', 'neg']:\n",
    "            data[data_type][sentiment] = []\n",
    "            labels[data_type][sentiment] = []\n",
    "            \n",
    "            path = os.path.join(data_dir, data_type, sentiment, '*.txt')\n",
    "            files = glob.glob(path)\n",
    "            \n",
    "            for f in files:\n",
    "                with open(f) as review:\n",
    "                    data[data_type][sentiment].append(review.read())\n",
    "                    # Here we represent a positive review by '1' and a negative review by '0'\n",
    "                    labels[data_type][sentiment].append(1 if sentiment == 'pos' else 0)\n",
    "                    \n",
    "            assert len(data[data_type][sentiment]) == len(labels[data_type][sentiment]), \\\n",
    "                    \"{}/{} data size does not match labels size\".format(data_type, sentiment)\n",
    "                \n",
    "    return data, labels"
   ]
  },
  {
   "cell_type": "code",
   "execution_count": 2,
   "metadata": {},
   "outputs": [
    {
     "name": "stdout",
     "output_type": "stream",
     "text": [
      "IMDB reviews: train = 12500 pos / 12500 neg, test = 12500 pos / 12500 neg\n"
     ]
    }
   ],
   "source": [
    "data, labels = read_imdb_data()\n",
    "print(\"IMDB reviews: train = {} pos / {} neg, test = {} pos / {} neg\".format(\n",
    "            len(data['train']['pos']), len(data['train']['neg']),\n",
    "            len(data['test']['pos']), len(data['test']['neg'])))"
   ]
  },
  {
   "cell_type": "code",
   "execution_count": 3,
   "metadata": {},
   "outputs": [],
   "source": [
    "from sklearn.utils import shuffle\n",
    "\n",
    "def prepare_imdb_data(data, labels):\n",
    "    \"\"\"Prepare training and test sets from IMDb movie reviews.\"\"\"\n",
    "    \n",
    "    #Combine positive and negative reviews and labels\n",
    "    data_train = data['train']['pos'] + data['train']['neg']\n",
    "    data_test = data['test']['pos'] + data['test']['neg']\n",
    "    labels_train = labels['train']['pos'] + labels['train']['neg']\n",
    "    labels_test = labels['test']['pos'] + labels['test']['neg']\n",
    "    \n",
    "    #Shuffle reviews and corresponding labels within training and test sets\n",
    "    data_train, labels_train = shuffle(data_train, labels_train)\n",
    "    data_test, labels_test = shuffle(data_test, labels_test)\n",
    "    \n",
    "    # Return a unified training data, test data, training labels, test labets\n",
    "    return data_train, data_test, labels_train, labels_test"
   ]
  },
  {
   "cell_type": "code",
   "execution_count": 4,
   "metadata": {},
   "outputs": [
    {
     "name": "stdout",
     "output_type": "stream",
     "text": [
      "IMDb reviews (combined): train = 25000, test = 25000\n"
     ]
    }
   ],
   "source": [
    "train_X, test_X, train_y, test_y = prepare_imdb_data(data, labels)\n",
    "print(\"IMDb reviews (combined): train = {}, test = {}\".format(len(train_X), len(test_X)))"
   ]
  },
  {
   "cell_type": "code",
   "execution_count": 5,
   "metadata": {},
   "outputs": [
    {
     "data": {
      "text/plain": [
       "'this is a piece of s--t!! this looks worse than a made for t.v. movie. and i shutter to think that a sequel was even concieved and the results... war is prettier than this. jean claude van shame has done it again and he wonders why his career is where it is now. no script, no story and no time should be wasted on this. i mean that. 1 out of 10 is too high, way too high. goldberg should be jackhammered for this. van shame is no actor.'"
      ]
     },
     "execution_count": 5,
     "metadata": {},
     "output_type": "execute_result"
    }
   ],
   "source": [
    "train_X[100]"
   ]
  },
  {
   "cell_type": "markdown",
   "metadata": {},
   "source": [
    "## Processing the data\n",
    "\n",
    "Now that we have our training and testing datasets merged and ready to use, we need to start processing the raw data into something that will be useable by our machine learning algorithm. To begin with, we remove any html formatting and any non-alpha numeric characters that may appear in the reviews. We will do this in a very simplistic way using Python's regular expression module. We will discuss the reason for this rather simplistic pre-processing later on."
   ]
  },
  {
   "cell_type": "code",
   "execution_count": 6,
   "metadata": {},
   "outputs": [],
   "source": [
    "import re\n",
    "\n",
    "REPLACE_NO_SPACE = re.compile(\"(\\.)|(\\;)|(\\:)|(\\!)|(\\')|(\\?)|(\\,)|(\\\")|(\\()|(\\))|(\\[)|(\\])\")\n",
    "REPLACE_WITH_SPACE = re.compile(\"(<br\\s*/><br\\s*/>)|(\\-)|(\\/)\")\n",
    "\n",
    "def review_to_words(review):\n",
    "    words = REPLACE_NO_SPACE.sub(\"\", review.lower())\n",
    "    words = REPLACE_WITH_SPACE.sub(\" \", words)\n",
    "    return words"
   ]
  },
  {
   "cell_type": "code",
   "execution_count": 7,
   "metadata": {},
   "outputs": [
    {
     "data": {
      "text/plain": [
       "'this is a piece of s  t this looks worse than a made for tv movie and i shutter to think that a sequel was even concieved and the results war is prettier than this jean claude van shame has done it again and he wonders why his career is where it is now no script no story and no time should be wasted on this i mean that 1 out of 10 is too high way too high goldberg should be jackhammered for this van shame is no actor'"
      ]
     },
     "execution_count": 7,
     "metadata": {},
     "output_type": "execute_result"
    }
   ],
   "source": [
    "review_to_words(train_X[100])"
   ]
  },
  {
   "cell_type": "code",
   "execution_count": 8,
   "metadata": {},
   "outputs": [],
   "source": [
    "import pickle\n",
    "\n",
    "cache_dir = os.path.join(\"../cache\", \"sentiment_web_app\")  # where to store cache files\n",
    "os.makedirs(cache_dir, exist_ok=True)  # ensure cache directory exists\n",
    "\n",
    "def preprocess_data(data_train, data_test, labels_train, labels_test,\n",
    "                    cache_dir=cache_dir, cache_file=\"preprocessed_data.pkl\"):\n",
    "    \"\"\"Convert each review to words; read from cache if available.\"\"\"\n",
    "\n",
    "    # If cache_file is not None, try to read from it first\n",
    "    cache_data = None\n",
    "    if cache_file is not None:\n",
    "        try:\n",
    "            with open(os.path.join(cache_dir, cache_file), \"rb\") as f:\n",
    "                cache_data = pickle.load(f)\n",
    "            print(\"Read preprocessed data from cache file:\", cache_file)\n",
    "        except:\n",
    "            pass  # unable to read from cache, but that's okay\n",
    "    \n",
    "    # If cache is missing, then do the heavy lifting\n",
    "    if cache_data is None:\n",
    "        # Preprocess training and test data to obtain words for each review\n",
    "        #words_train = list(map(review_to_words, data_train))\n",
    "        #words_test = list(map(review_to_words, data_test))\n",
    "        words_train = [review_to_words(review) for review in data_train]\n",
    "        words_test = [review_to_words(review) for review in data_test]\n",
    "        \n",
    "        # Write to cache file for future runs\n",
    "        if cache_file is not None:\n",
    "            cache_data = dict(words_train=words_train, words_test=words_test,\n",
    "                              labels_train=labels_train, labels_test=labels_test)\n",
    "            with open(os.path.join(cache_dir, cache_file), \"wb\") as f:\n",
    "                pickle.dump(cache_data, f)\n",
    "            print(\"Wrote preprocessed data to cache file:\", cache_file)\n",
    "    else:\n",
    "        # Unpack data loaded from cache file\n",
    "        words_train, words_test, labels_train, labels_test = (cache_data['words_train'],\n",
    "                cache_data['words_test'], cache_data['labels_train'], cache_data['labels_test'])\n",
    "    \n",
    "    return words_train, words_test, labels_train, labels_test"
   ]
  },
  {
   "cell_type": "code",
   "execution_count": 9,
   "metadata": {},
   "outputs": [
    {
     "name": "stdout",
     "output_type": "stream",
     "text": [
      "Wrote preprocessed data to cache file: preprocessed_data.pkl\n"
     ]
    }
   ],
   "source": [
    "# Preprocess data\n",
    "train_X, test_X, train_y, test_y = preprocess_data(train_X, test_X, train_y, test_y)"
   ]
  },
  {
   "cell_type": "markdown",
   "metadata": {},
   "source": [
    "### Extract Bag-of-Words features\n",
    "\n",
    "For the model we will be implementing, rather than using the reviews directly, we are going to transform each review into a Bag-of-Words feature representation. Keep in mind that 'in the wild' we will only have access to the training set so our transformer can only use the training set to construct a representation."
   ]
  },
  {
   "cell_type": "code",
   "execution_count": 10,
   "metadata": {},
   "outputs": [],
   "source": [
    "import numpy as np\n",
    "from sklearn.feature_extraction.text import CountVectorizer\n",
    "\n",
    "# sklearn.externals.joblib is deprecated in 0.21 and will be removed in 0.23. \n",
    "# from sklearn.externals import joblib\n",
    "\n",
    "# Import joblib package directly\n",
    "import joblib\n",
    "# joblib is an enhanced version of pickle that is more efficient for storing NumPy arrays\n",
    "\n",
    "def extract_BoW_features(words_train, words_test, vocabulary_size=5000,\n",
    "                         cache_dir=cache_dir, cache_file=\"bow_features.pkl\"):\n",
    "    \"\"\"Extract Bag-of-Words for a given set of documents, already preprocessed into words.\"\"\"\n",
    "    \n",
    "    # If cache_file is not None, try to read from it first\n",
    "    cache_data = None\n",
    "    if cache_file is not None:\n",
    "        try:\n",
    "            with open(os.path.join(cache_dir, cache_file), \"rb\") as f:\n",
    "                cache_data = joblib.load(f)\n",
    "            print(\"Read features from cache file:\", cache_file)\n",
    "        except:\n",
    "            pass  # unable to read from cache, but that's okay\n",
    "    \n",
    "    # If cache is missing, then do the heavy lifting\n",
    "    if cache_data is None:\n",
    "        # Fit a vectorizer to training documents and use it to transform them\n",
    "        # NOTE: Training documents have already been preprocessed and tokenized into words;\n",
    "        #       pass in dummy functions to skip those steps, e.g. preprocessor=lambda x: x\n",
    "        vectorizer = CountVectorizer(max_features=vocabulary_size)\n",
    "        features_train = vectorizer.fit_transform(words_train).toarray()\n",
    "\n",
    "        # Apply the same vectorizer to transform the test documents (ignore unknown words)\n",
    "        features_test = vectorizer.transform(words_test).toarray()\n",
    "        \n",
    "        # NOTE: Remember to convert the features using .toarray() for a compact representation\n",
    "        \n",
    "        # Write to cache file for future runs (store vocabulary as well)\n",
    "        if cache_file is not None:\n",
    "            vocabulary = vectorizer.vocabulary_\n",
    "            cache_data = dict(features_train=features_train, features_test=features_test,\n",
    "                             vocabulary=vocabulary)\n",
    "            with open(os.path.join(cache_dir, cache_file), \"wb\") as f:\n",
    "                joblib.dump(cache_data, f)\n",
    "            print(\"Wrote features to cache file:\", cache_file)\n",
    "    else:\n",
    "        # Unpack data loaded from cache file\n",
    "        features_train, features_test, vocabulary = (cache_data['features_train'],\n",
    "                cache_data['features_test'], cache_data['vocabulary'])\n",
    "    \n",
    "    # Return both the extracted features as well as the vocabulary\n",
    "    return features_train, features_test, vocabulary"
   ]
  },
  {
   "cell_type": "code",
   "execution_count": 11,
   "metadata": {},
   "outputs": [
    {
     "name": "stdout",
     "output_type": "stream",
     "text": [
      "Wrote features to cache file: bow_features.pkl\n"
     ]
    }
   ],
   "source": [
    "# Extract Bag of Words features for both training and test datasets\n",
    "train_X, test_X, vocabulary = extract_BoW_features(train_X, test_X)"
   ]
  },
  {
   "cell_type": "code",
   "execution_count": 12,
   "metadata": {},
   "outputs": [
    {
     "data": {
      "text/plain": [
       "5000"
      ]
     },
     "execution_count": 12,
     "metadata": {},
     "output_type": "execute_result"
    }
   ],
   "source": [
    "len(train_X[0])"
   ]
  },
  {
   "cell_type": "markdown",
   "metadata": {},
   "source": [
    "## Step 3: Upload data to S3\n",
    "\n",
    "Now that we have created the feature representation of our training (and testing) data, it is time to start setting up and using the XGBoost classifier provided by SageMaker.\n",
    "\n",
    "### Writing the datasets\n",
    "\n",
    "The XGBoost classifier that we will be using requires the dataset to be written to a file and stored using Amazon S3. To do this, we will start by splitting the training dataset into two parts, the data we will train the model with and a validation set. Then, we will write those datasets to a file locally and then upload the files to S3. In addition, we will write the test set to a file and upload that file to S3. This is so that we can use SageMakers Batch Transform functionality to test our model once we've fit it."
   ]
  },
  {
   "cell_type": "code",
   "execution_count": 13,
   "metadata": {},
   "outputs": [],
   "source": [
    "import pandas as pd\n",
    "\n",
    "# Earlier we shuffled the training dataset so to make things simple we can just assign\n",
    "# the first 10 000 reviews to the validation set and use the remaining reviews for training.\n",
    "val_X = pd.DataFrame(train_X[:10000])\n",
    "train_X = pd.DataFrame(train_X[10000:])\n",
    "\n",
    "val_y = pd.DataFrame(train_y[:10000])\n",
    "train_y = pd.DataFrame(train_y[10000:])"
   ]
  },
  {
   "cell_type": "markdown",
   "metadata": {},
   "source": [
    "The documentation for the XGBoost algorithm in SageMaker requires that the training and validation datasets should contain no headers or index and that the label should occur first for each sample.\n",
    "\n",
    "For more information about this and other algorithms, the SageMaker developer documentation can be found on __[Amazon's website.](https://docs.aws.amazon.com/sagemaker/latest/dg/)__"
   ]
  },
  {
   "cell_type": "code",
   "execution_count": 14,
   "metadata": {},
   "outputs": [],
   "source": [
    "# First we make sure that the local directory in which we'd like to store the training and validation csv files exists.\n",
    "data_dir = '../data/sentiment_web_app'\n",
    "if not os.path.exists(data_dir):\n",
    "    os.makedirs(data_dir)"
   ]
  },
  {
   "cell_type": "code",
   "execution_count": 15,
   "metadata": {},
   "outputs": [],
   "source": [
    "pd.DataFrame(test_X).to_csv(os.path.join(data_dir, 'test.csv'), header=False, index=False)\n",
    "\n",
    "pd.concat([val_y, val_X], axis=1).to_csv(os.path.join(data_dir, 'validation.csv'), header=False, index=False)\n",
    "pd.concat([train_y, train_X], axis=1).to_csv(os.path.join(data_dir, 'train.csv'), header=False, index=False)"
   ]
  },
  {
   "cell_type": "code",
   "execution_count": 16,
   "metadata": {},
   "outputs": [],
   "source": [
    "# To save a bit of memory we can set text_X, train_X, val_X, train_y and val_y to None.\n",
    "\n",
    "test_X = train_X = val_X = train_y = val_y = None"
   ]
  },
  {
   "cell_type": "markdown",
   "metadata": {},
   "source": [
    "### Uploading Training / Validation files to S3\n",
    "\n",
    "Amazon's S3 service allows us to store files that can be accessed by both the built-in training models such as the XGBoost model we will be using as well as custom models such as the one we will see a little later.\n",
    "\n",
    "For this and most other tasks we will be doing using SageMaker, there are two methods we could use. The first is to use the low level functionality of SageMaker which requires knowing each of the objects involved in the SageMaker environment. The second is to use the high level functionality in which certain choices have been made on the user's behalf. The low level approach benefits from allowing the user a great deal of flexibility while the high level approach makes development much quicker. For our purposes we will opt to use the high level approach although using the low-level approach is certainly an option.\n",
    "\n",
    "Recall the method `upload_data()` which is a member of the object representing our current SageMaker session. What this method does is upload the data to the default bucket (which is created if it does not exist) into the path described by the key_prefix variable. To see this for yourself, once you have uploaded the data files, go to the S3 console and look to see where the files have been uploaded.\n",
    "\n",
    "For additional resources, see the __[SageMaker API documentation](http://sagemaker.readthedocs.io/en/latest/)__ and in addition the __[SageMaker Developer Guide.](https://docs.aws.amazon.com/sagemaker/latest/dg/)__"
   ]
  },
  {
   "cell_type": "code",
   "execution_count": 21,
   "metadata": {},
   "outputs": [],
   "source": [
    "import sagemaker\n",
    "\n",
    "session = sagemaker.Session() # Store the current SageMaker session\n",
    "\n",
    "# S3 prefix (which folder will we use)\n",
    "prefix = 'sentiment-web-app'\n",
    "bucket = sagemaker.Session().default_bucket()\n",
    "\n",
    "test_location = session.upload_data(os.path.join(data_dir, 'test.csv'), key_prefix=prefix)\n",
    "val_location = session.upload_data(os.path.join(data_dir, 'validation.csv'), key_prefix=prefix)\n",
    "train_location = session.upload_data(os.path.join(data_dir, 'train.csv'), key_prefix=prefix)"
   ]
  },
  {
   "cell_type": "markdown",
   "metadata": {},
   "source": [
    "## Step 4: Creating the XGBoost model\n",
    "\n",
    "Now that the data has been uploaded it is time to create the XGBoost model. To begin with, we need to do some setup. At this point it is worth discussing what a model is in SageMaker. It is easiest to think of a model of comprising three different objects in the SageMaker ecosystem, which interact with one another.\n",
    "\n",
    "- Model Artifacts\n",
    "- Training Code (Container)\n",
    "- Inference Code (Container)\n",
    "\n",
    "The Model Artifacts are what you might think of as the actual model itself. For example, if you were building a neural network, the model artifacts would be the weights of the various layers. In our case, for an XGBoost model, the artifacts are the actual trees that are created during training.\n",
    "\n",
    "The other two objects, the training code and the inference code are then used to manipulate the training artifacts. More precisely, the training code uses the training data that is provided and creates the model artifacts, while the inference code uses the model artifacts to make predictions on new data.\n",
    "\n",
    "The way that SageMaker runs the training and inference code is by making use of Docker containers. For now, think of a container as being a way of packaging code up so that dependencies aren't an issue."
   ]
  },
  {
   "cell_type": "code",
   "execution_count": 18,
   "metadata": {},
   "outputs": [],
   "source": [
    "from sagemaker import get_execution_role\n",
    "\n",
    "# Our current execution role is required when creating the model as the training\n",
    "# and inference code will need to access the model artifacts.\n",
    "role = get_execution_role()"
   ]
  },
  {
   "cell_type": "code",
   "execution_count": 24,
   "metadata": {},
   "outputs": [
    {
     "data": {
      "text/plain": [
       "'us-east-1'"
      ]
     },
     "execution_count": 24,
     "metadata": {},
     "output_type": "execute_result"
    }
   ],
   "source": [
    "import boto3\n",
    "\n",
    "boto3.Session().region_name"
   ]
  },
  {
   "cell_type": "code",
   "execution_count": 27,
   "metadata": {},
   "outputs": [
    {
     "data": {
      "text/plain": [
       "'arn:aws:iam::587437215200:role/service-role/AmazonSageMaker-ExecutionRole-20220624T114562'"
      ]
     },
     "execution_count": 27,
     "metadata": {},
     "output_type": "execute_result"
    }
   ],
   "source": [
    "sagemaker.get_execution_role()"
   ]
  },
  {
   "cell_type": "code",
   "execution_count": 25,
   "metadata": {},
   "outputs": [],
   "source": [
    "# # We need to retrieve the location of the container which is provided by Amazon for using XGBoost.\n",
    "# # As a matter of convenience, the training and inference code both use the same container.\n",
    "# from sagemaker.amazon.amazon_estimator import get_image_uri\n",
    "\n",
    "# container = get_image_uri(session.boto_region_name, 'xgboost')\n",
    "\n",
    "from sagemaker import image_uris\n",
    "# this line automatically looks for the XGBoost image URI and builds an XGBoost container.\n",
    "# specify the repo_version depending on your preference.\n",
    "xgboost_container = sagemaker.image_uris.retrieve(\"xgboost\", boto3.Session().region_name, \"1.5-1\")"
   ]
  },
  {
   "cell_type": "code",
   "execution_count": 29,
   "metadata": {},
   "outputs": [],
   "source": [
    "# # First we create a SageMaker estimator object for our model.\n",
    "# xgb = sagemaker.estimator.Estimator(container, # The location of the container we wish to use\n",
    "#                                     role,                                    # What is our current IAM Role\n",
    "#                                     train_instance_count=1,                  # How many compute instances\n",
    "#                                     train_instance_type='ml.m4.xlarge',      # What kind of compute instances\n",
    "#                                     output_path='s3://{}/{}/output'.format(session.default_bucket(), prefix),\n",
    "#                                     sagemaker_session=session)\n",
    "\n",
    "# # And then set the algorithm specific parameters.\n",
    "# xgb.set_hyperparameters(max_depth=5,\n",
    "#                         eta=0.2,\n",
    "#                         gamma=4,\n",
    "#                         min_child_weight=6,\n",
    "#                         subsample=0.8,\n",
    "#                         silent=0,\n",
    "#                         objective='binary:logistic',\n",
    "#                         early_stopping_rounds=10,\n",
    "#                         num_round=500)\n",
    "\n",
    "\n",
    "# initialize hyperparameters\n",
    "hyperparameters = {\n",
    "        \"max_depth\":\"5\",\n",
    "        \"eta\":\"0.2\",\n",
    "        \"gamma\":\"4\",\n",
    "        \"min_child_weight\":\"6\",\n",
    "        \"subsample\":\"0.8\",\n",
    "        \"objective\":\"binary:logistic\",\n",
    "        \"early_stopping_rounds\":\"10\",\n",
    "        \"num_round\":\"500\"}\n",
    "\n",
    "estimator = sagemaker.estimator.Estimator(image_uri=xgboost_container, \n",
    "                                          hyperparameters=hyperparameters,\n",
    "                                          role=sagemaker.get_execution_role(),\n",
    "                                          instance_count=1, \n",
    "                                          instance_type='ml.m4.xlarge', \n",
    "                                          output_path='s3://{}/{}/output'.format(session.default_bucket(), prefix))"
   ]
  },
  {
   "cell_type": "markdown",
   "metadata": {},
   "source": [
    "### Fit the XGBoost model\n",
    "\n",
    "Now that our model has been set up we simply need to attach the training and validation datasets and then ask SageMaker to set up the computation."
   ]
  },
  {
   "cell_type": "code",
   "execution_count": 38,
   "metadata": {},
   "outputs": [],
   "source": [
    "# s3_input_train = sagemaker.s3_input(s3_data=train_location, content_type='csv')\n",
    "# s3_input_validation = sagemaker.s3_input(s3_data=val_location, content_type='csv')\n",
    "\n",
    "\n",
    "# define the data type and paths to the training and validation datasets\n",
    "from sagemaker.inputs import TrainingInput\n",
    "\n",
    "content_type = \"csv\"\n",
    "train_input = TrainingInput(train_location, content_type=content_type)\n",
    "validation_input = TrainingInput(val_location, content_type=content_type)"
   ]
  },
  {
   "cell_type": "code",
   "execution_count": 37,
   "metadata": {},
   "outputs": [
    {
     "data": {
      "text/plain": [
       "'sagemaker-us-east-1-587437215200'"
      ]
     },
     "execution_count": 37,
     "metadata": {},
     "output_type": "execute_result"
    }
   ],
   "source": [
    "bucket"
   ]
  },
  {
   "cell_type": "code",
   "execution_count": 39,
   "metadata": {
    "collapsed": true,
    "jupyter": {
     "outputs_hidden": true
    }
   },
   "outputs": [
    {
     "name": "stdout",
     "output_type": "stream",
     "text": [
      "2022-06-30 12:39:40 Starting - Starting the training job...ProfilerReport-1656592780: InProgress\n",
      "...\n",
      "2022-06-30 12:40:25 Starting - Preparing the instances for training......\n",
      "2022-06-30 12:41:41 Downloading - Downloading input data.........\n",
      "2022-06-30 12:43:06 Training - Downloading the training image...\n",
      "2022-06-30 12:43:26 Training - Training image download completed. Training in progress.\u001b[34m[2022-06-30 12:43:27.976 ip-10-0-104-3.ec2.internal:1 INFO utils.py:27] RULE_JOB_STOP_SIGNAL_FILENAME: None\u001b[0m\n",
      "\u001b[34m[2022-06-30:12:43:28:INFO] Imported framework sagemaker_xgboost_container.training\u001b[0m\n",
      "\u001b[34m[2022-06-30:12:43:28:INFO] Failed to parse hyperparameter objective value binary:logistic to Json.\u001b[0m\n",
      "\u001b[34mReturning the value itself\u001b[0m\n",
      "\u001b[34m[2022-06-30:12:43:28:INFO] No GPUs detected (normal if no gpus installed)\u001b[0m\n",
      "\u001b[34m[2022-06-30:12:43:28:INFO] Running XGBoost Sagemaker in algorithm mode\u001b[0m\n",
      "\u001b[34m[2022-06-30:12:43:28:INFO] Determined delimiter of CSV input is ','\u001b[0m\n",
      "\u001b[34m[2022-06-30:12:43:28:INFO] Determined delimiter of CSV input is ','\u001b[0m\n",
      "\u001b[34m[2022-06-30:12:43:28:INFO] Determined delimiter of CSV input is ','\u001b[0m\n",
      "\u001b[34m[2022-06-30:12:43:31:INFO] Determined delimiter of CSV input is ','\u001b[0m\n",
      "\u001b[34m[2022-06-30:12:43:33:INFO] Single node training.\u001b[0m\n",
      "\u001b[34m[2022-06-30:12:43:33:INFO] Train matrix has 15000 rows and 5000 columns\u001b[0m\n",
      "\u001b[34m[2022-06-30:12:43:33:INFO] Validation matrix has 10000 rows\u001b[0m\n",
      "\u001b[34m[12:43:37] WARNING: ../src/learner.cc:1115: Starting in XGBoost 1.3.0, the default evaluation metric used with the objective 'binary:logistic' was changed from 'error' to 'logloss'. Explicitly set eval_metric if you'd like to restore the old behavior.\u001b[0m\n",
      "\u001b[34m[0]#011train-logloss:0.65432#011validation-logloss:0.65569\u001b[0m\n",
      "\u001b[34m[1]#011train-logloss:0.62671#011validation-logloss:0.63059\u001b[0m\n",
      "\u001b[34m[2]#011train-logloss:0.60698#011validation-logloss:0.61197\u001b[0m\n",
      "\u001b[34m[3]#011train-logloss:0.58971#011validation-logloss:0.59557\u001b[0m\n",
      "\u001b[34m[4]#011train-logloss:0.57570#011validation-logloss:0.58262\u001b[0m\n",
      "\u001b[34m[5]#011train-logloss:0.56288#011validation-logloss:0.57141\u001b[0m\n",
      "\u001b[34m[6]#011train-logloss:0.55152#011validation-logloss:0.56195\u001b[0m\n",
      "\u001b[34m[7]#011train-logloss:0.54166#011validation-logloss:0.55254\u001b[0m\n",
      "\u001b[34m[8]#011train-logloss:0.53260#011validation-logloss:0.54386\u001b[0m\n",
      "\u001b[34m[9]#011train-logloss:0.52444#011validation-logloss:0.53649\u001b[0m\n",
      "\u001b[34m[10]#011train-logloss:0.51709#011validation-logloss:0.53012\u001b[0m\n",
      "\u001b[34m[11]#011train-logloss:0.50945#011validation-logloss:0.52362\u001b[0m\n",
      "\u001b[34m[12]#011train-logloss:0.50194#011validation-logloss:0.51770\u001b[0m\n",
      "\u001b[34m[13]#011train-logloss:0.49535#011validation-logloss:0.51172\u001b[0m\n",
      "\u001b[34m[14]#011train-logloss:0.48920#011validation-logloss:0.50684\u001b[0m\n",
      "\u001b[34m[15]#011train-logloss:0.48269#011validation-logloss:0.50116\u001b[0m\n",
      "\u001b[34m[16]#011train-logloss:0.47657#011validation-logloss:0.49664\u001b[0m\n",
      "\u001b[34m[17]#011train-logloss:0.47078#011validation-logloss:0.49196\u001b[0m\n",
      "\u001b[34m[18]#011train-logloss:0.46514#011validation-logloss:0.48755\u001b[0m\n",
      "\u001b[34m[19]#011train-logloss:0.46042#011validation-logloss:0.48381\u001b[0m\n",
      "\u001b[34m[20]#011train-logloss:0.45574#011validation-logloss:0.47981\u001b[0m\n",
      "\u001b[34m[21]#011train-logloss:0.45186#011validation-logloss:0.47633\u001b[0m\n",
      "\u001b[34m[22]#011train-logloss:0.44682#011validation-logloss:0.47266\u001b[0m\n",
      "\u001b[34m[23]#011train-logloss:0.44270#011validation-logloss:0.46939\u001b[0m\n",
      "\u001b[34m[24]#011train-logloss:0.43798#011validation-logloss:0.46532\u001b[0m\n",
      "\u001b[34m[25]#011train-logloss:0.43415#011validation-logloss:0.46266\u001b[0m\n",
      "\u001b[34m[26]#011train-logloss:0.43013#011validation-logloss:0.45921\u001b[0m\n",
      "\u001b[34m[27]#011train-logloss:0.42594#011validation-logloss:0.45580\u001b[0m\n",
      "\u001b[34m[28]#011train-logloss:0.42271#011validation-logloss:0.45321\u001b[0m\n",
      "\u001b[34m[29]#011train-logloss:0.41926#011validation-logloss:0.45117\u001b[0m\n",
      "\u001b[34m[30]#011train-logloss:0.41490#011validation-logloss:0.44864\u001b[0m\n",
      "\u001b[34m[31]#011train-logloss:0.41232#011validation-logloss:0.44617\u001b[0m\n",
      "\u001b[34m[32]#011train-logloss:0.40925#011validation-logloss:0.44399\u001b[0m\n",
      "\u001b[34m[33]#011train-logloss:0.40579#011validation-logloss:0.44136\u001b[0m\n",
      "\u001b[34m[34]#011train-logloss:0.40275#011validation-logloss:0.43923\u001b[0m\n",
      "\u001b[34m[35]#011train-logloss:0.39969#011validation-logloss:0.43664\u001b[0m\n",
      "\u001b[34m[36]#011train-logloss:0.39717#011validation-logloss:0.43497\u001b[0m\n",
      "\u001b[34m[37]#011train-logloss:0.39456#011validation-logloss:0.43297\u001b[0m\n",
      "\u001b[34m[38]#011train-logloss:0.39195#011validation-logloss:0.43160\u001b[0m\n",
      "\u001b[34m[39]#011train-logloss:0.38928#011validation-logloss:0.42969\u001b[0m\n",
      "\u001b[34m[40]#011train-logloss:0.38724#011validation-logloss:0.42809\u001b[0m\n",
      "\u001b[34m[41]#011train-logloss:0.38463#011validation-logloss:0.42659\u001b[0m\n",
      "\u001b[34m[42]#011train-logloss:0.38172#011validation-logloss:0.42463\u001b[0m\n",
      "\u001b[34m[43]#011train-logloss:0.37970#011validation-logloss:0.42286\u001b[0m\n",
      "\u001b[34m[44]#011train-logloss:0.37627#011validation-logloss:0.42041\u001b[0m\n",
      "\u001b[34m[45]#011train-logloss:0.37427#011validation-logloss:0.41874\u001b[0m\n",
      "\u001b[34m[46]#011train-logloss:0.37221#011validation-logloss:0.41745\u001b[0m\n",
      "\u001b[34m[47]#011train-logloss:0.37012#011validation-logloss:0.41554\u001b[0m\n",
      "\u001b[34m[48]#011train-logloss:0.36817#011validation-logloss:0.41441\u001b[0m\n",
      "\u001b[34m[49]#011train-logloss:0.36621#011validation-logloss:0.41310\u001b[0m\n",
      "\u001b[34m[50]#011train-logloss:0.36405#011validation-logloss:0.41146\u001b[0m\n",
      "\u001b[34m[51]#011train-logloss:0.36247#011validation-logloss:0.41071\u001b[0m\n",
      "\u001b[34m[52]#011train-logloss:0.36051#011validation-logloss:0.40923\u001b[0m\n",
      "\u001b[34m[53]#011train-logloss:0.35837#011validation-logloss:0.40764\u001b[0m\n",
      "\u001b[34m[54]#011train-logloss:0.35636#011validation-logloss:0.40566\u001b[0m\n",
      "\u001b[34m[55]#011train-logloss:0.35465#011validation-logloss:0.40412\u001b[0m\n",
      "\u001b[34m[56]#011train-logloss:0.35195#011validation-logloss:0.40246\u001b[0m\n",
      "\u001b[34m[57]#011train-logloss:0.35017#011validation-logloss:0.40128\u001b[0m\n",
      "\u001b[34m[58]#011train-logloss:0.34777#011validation-logloss:0.40018\u001b[0m\n",
      "\u001b[34m[59]#011train-logloss:0.34554#011validation-logloss:0.39926\u001b[0m\n",
      "\u001b[34m[60]#011train-logloss:0.34391#011validation-logloss:0.39835\u001b[0m\n",
      "\u001b[34m[61]#011train-logloss:0.34235#011validation-logloss:0.39737\u001b[0m\n",
      "\u001b[34m[62]#011train-logloss:0.34052#011validation-logloss:0.39620\u001b[0m\n",
      "\u001b[34m[63]#011train-logloss:0.33893#011validation-logloss:0.39480\u001b[0m\n",
      "\u001b[34m[64]#011train-logloss:0.33725#011validation-logloss:0.39373\u001b[0m\n",
      "\u001b[34m[65]#011train-logloss:0.33547#011validation-logloss:0.39279\u001b[0m\n",
      "\u001b[34m[66]#011train-logloss:0.33431#011validation-logloss:0.39164\u001b[0m\n",
      "\u001b[34m[67]#011train-logloss:0.33207#011validation-logloss:0.39084\u001b[0m\n",
      "\u001b[34m[68]#011train-logloss:0.33071#011validation-logloss:0.38984\u001b[0m\n",
      "\u001b[34m[69]#011train-logloss:0.32935#011validation-logloss:0.38871\u001b[0m\n",
      "\u001b[34m[70]#011train-logloss:0.32798#011validation-logloss:0.38788\u001b[0m\n",
      "\u001b[34m[71]#011train-logloss:0.32682#011validation-logloss:0.38688\u001b[0m\n",
      "\u001b[34m[72]#011train-logloss:0.32561#011validation-logloss:0.38587\u001b[0m\n",
      "\u001b[34m[73]#011train-logloss:0.32432#011validation-logloss:0.38473\u001b[0m\n",
      "\u001b[34m[74]#011train-logloss:0.32272#011validation-logloss:0.38421\u001b[0m\n",
      "\u001b[34m[75]#011train-logloss:0.32146#011validation-logloss:0.38285\u001b[0m\n",
      "\u001b[34m[76]#011train-logloss:0.32006#011validation-logloss:0.38220\u001b[0m\n",
      "\u001b[34m[77]#011train-logloss:0.31818#011validation-logloss:0.38096\u001b[0m\n",
      "\u001b[34m[78]#011train-logloss:0.31647#011validation-logloss:0.38039\u001b[0m\n",
      "\u001b[34m[79]#011train-logloss:0.31531#011validation-logloss:0.37971\u001b[0m\n",
      "\u001b[34m[80]#011train-logloss:0.31436#011validation-logloss:0.37921\u001b[0m\n",
      "\u001b[34m[81]#011train-logloss:0.31319#011validation-logloss:0.37832\u001b[0m\n",
      "\u001b[34m[82]#011train-logloss:0.31185#011validation-logloss:0.37763\u001b[0m\n",
      "\u001b[34m[83]#011train-logloss:0.31081#011validation-logloss:0.37683\u001b[0m\n",
      "\u001b[34m[84]#011train-logloss:0.30989#011validation-logloss:0.37632\u001b[0m\n",
      "\u001b[34m[85]#011train-logloss:0.30818#011validation-logloss:0.37567\u001b[0m\n",
      "\u001b[34m[86]#011train-logloss:0.30695#011validation-logloss:0.37482\u001b[0m\n",
      "\u001b[34m[87]#011train-logloss:0.30614#011validation-logloss:0.37424\u001b[0m\n",
      "\u001b[34m[88]#011train-logloss:0.30528#011validation-logloss:0.37359\u001b[0m\n",
      "\u001b[34m[89]#011train-logloss:0.30423#011validation-logloss:0.37267\u001b[0m\n",
      "\u001b[34m[90]#011train-logloss:0.30310#011validation-logloss:0.37187\u001b[0m\n",
      "\u001b[34m[91]#011train-logloss:0.30210#011validation-logloss:0.37119\u001b[0m\n",
      "\u001b[34m[92]#011train-logloss:0.30085#011validation-logloss:0.37067\u001b[0m\n",
      "\u001b[34m[93]#011train-logloss:0.29980#011validation-logloss:0.36987\u001b[0m\n",
      "\u001b[34m[94]#011train-logloss:0.29866#011validation-logloss:0.36901\u001b[0m\n",
      "\u001b[34m[95]#011train-logloss:0.29777#011validation-logloss:0.36836\u001b[0m\n",
      "\u001b[34m[96]#011train-logloss:0.29652#011validation-logloss:0.36752\u001b[0m\n",
      "\u001b[34m[97]#011train-logloss:0.29559#011validation-logloss:0.36685\u001b[0m\n",
      "\u001b[34m[98]#011train-logloss:0.29474#011validation-logloss:0.36630\u001b[0m\n",
      "\u001b[34m[99]#011train-logloss:0.29385#011validation-logloss:0.36591\u001b[0m\n",
      "\u001b[34m[100]#011train-logloss:0.29300#011validation-logloss:0.36551\u001b[0m\n",
      "\u001b[34m[101]#011train-logloss:0.29212#011validation-logloss:0.36490\u001b[0m\n",
      "\u001b[34m[102]#011train-logloss:0.29128#011validation-logloss:0.36435\u001b[0m\n",
      "\u001b[34m[103]#011train-logloss:0.29035#011validation-logloss:0.36377\u001b[0m\n",
      "\u001b[34m[104]#011train-logloss:0.28939#011validation-logloss:0.36284\u001b[0m\n",
      "\u001b[34m[105]#011train-logloss:0.28827#011validation-logloss:0.36226\u001b[0m\n",
      "\u001b[34m[106]#011train-logloss:0.28757#011validation-logloss:0.36157\u001b[0m\n",
      "\u001b[34m[107]#011train-logloss:0.28688#011validation-logloss:0.36111\u001b[0m\n",
      "\u001b[34m[108]#011train-logloss:0.28612#011validation-logloss:0.36051\u001b[0m\n",
      "\u001b[34m[109]#011train-logloss:0.28550#011validation-logloss:0.36004\u001b[0m\n",
      "\u001b[34m[110]#011train-logloss:0.28387#011validation-logloss:0.35950\u001b[0m\n",
      "\u001b[34m[111]#011train-logloss:0.28313#011validation-logloss:0.35879\u001b[0m\n",
      "\u001b[34m[112]#011train-logloss:0.28185#011validation-logloss:0.35842\u001b[0m\n",
      "\u001b[34m[113]#011train-logloss:0.28105#011validation-logloss:0.35776\u001b[0m\n",
      "\u001b[34m[114]#011train-logloss:0.28039#011validation-logloss:0.35711\u001b[0m\n",
      "\u001b[34m[115]#011train-logloss:0.27979#011validation-logloss:0.35669\u001b[0m\n",
      "\u001b[34m[116]#011train-logloss:0.27878#011validation-logloss:0.35599\u001b[0m\n",
      "\u001b[34m[117]#011train-logloss:0.27787#011validation-logloss:0.35553\u001b[0m\n",
      "\u001b[34m[118]#011train-logloss:0.27726#011validation-logloss:0.35524\u001b[0m\n",
      "\u001b[34m[119]#011train-logloss:0.27652#011validation-logloss:0.35486\u001b[0m\n",
      "\u001b[34m[120]#011train-logloss:0.27554#011validation-logloss:0.35400\u001b[0m\n",
      "\u001b[34m[121]#011train-logloss:0.27495#011validation-logloss:0.35347\u001b[0m\n",
      "\u001b[34m[122]#011train-logloss:0.27435#011validation-logloss:0.35306\u001b[0m\n",
      "\u001b[34m[123]#011train-logloss:0.27370#011validation-logloss:0.35268\u001b[0m\n",
      "\u001b[34m[124]#011train-logloss:0.27236#011validation-logloss:0.35215\u001b[0m\n",
      "\u001b[34m[125]#011train-logloss:0.27180#011validation-logloss:0.35156\u001b[0m\n",
      "\u001b[34m[126]#011train-logloss:0.27107#011validation-logloss:0.35112\u001b[0m\n",
      "\u001b[34m[127]#011train-logloss:0.27044#011validation-logloss:0.35061\u001b[0m\n",
      "\u001b[34m[128]#011train-logloss:0.26989#011validation-logloss:0.34996\u001b[0m\n",
      "\u001b[34m[129]#011train-logloss:0.26905#011validation-logloss:0.34925\u001b[0m\n",
      "\u001b[34m[130]#011train-logloss:0.26841#011validation-logloss:0.34908\u001b[0m\n",
      "\u001b[34m[131]#011train-logloss:0.26791#011validation-logloss:0.34873\u001b[0m\n",
      "\u001b[34m[132]#011train-logloss:0.26733#011validation-logloss:0.34840\u001b[0m\n",
      "\u001b[34m[133]#011train-logloss:0.26664#011validation-logloss:0.34779\u001b[0m\n",
      "\u001b[34m[134]#011train-logloss:0.26614#011validation-logloss:0.34748\u001b[0m\n",
      "\u001b[34m[135]#011train-logloss:0.26537#011validation-logloss:0.34698\u001b[0m\n",
      "\u001b[34m[136]#011train-logloss:0.26487#011validation-logloss:0.34686\u001b[0m\n",
      "\u001b[34m[137]#011train-logloss:0.26377#011validation-logloss:0.34646\u001b[0m\n",
      "\u001b[34m[138]#011train-logloss:0.26315#011validation-logloss:0.34621\u001b[0m\n",
      "\u001b[34m[139]#011train-logloss:0.26251#011validation-logloss:0.34564\u001b[0m\n",
      "\u001b[34m[140]#011train-logloss:0.26179#011validation-logloss:0.34568\u001b[0m\n",
      "\u001b[34m[141]#011train-logloss:0.26080#011validation-logloss:0.34522\u001b[0m\n",
      "\u001b[34m[142]#011train-logloss:0.26011#011validation-logloss:0.34465\u001b[0m\n",
      "\u001b[34m[143]#011train-logloss:0.25906#011validation-logloss:0.34458\u001b[0m\n",
      "\u001b[34m[144]#011train-logloss:0.25847#011validation-logloss:0.34446\u001b[0m\n",
      "\u001b[34m[145]#011train-logloss:0.25793#011validation-logloss:0.34413\u001b[0m\n",
      "\u001b[34m[146]#011train-logloss:0.25713#011validation-logloss:0.34369\u001b[0m\n",
      "\u001b[34m[147]#011train-logloss:0.25644#011validation-logloss:0.34325\u001b[0m\n",
      "\u001b[34m[148]#011train-logloss:0.25567#011validation-logloss:0.34286\u001b[0m\n",
      "\u001b[34m[149]#011train-logloss:0.25480#011validation-logloss:0.34260\u001b[0m\n",
      "\u001b[34m[150]#011train-logloss:0.25407#011validation-logloss:0.34236\u001b[0m\n",
      "\u001b[34m[151]#011train-logloss:0.25355#011validation-logloss:0.34221\u001b[0m\n",
      "\u001b[34m[152]#011train-logloss:0.25313#011validation-logloss:0.34193\u001b[0m\n",
      "\u001b[34m[153]#011train-logloss:0.25207#011validation-logloss:0.34167\u001b[0m\n",
      "\u001b[34m[154]#011train-logloss:0.25161#011validation-logloss:0.34103\u001b[0m\n",
      "\u001b[34m[155]#011train-logloss:0.25105#011validation-logloss:0.34044\u001b[0m\n",
      "\u001b[34m[156]#011train-logloss:0.25041#011validation-logloss:0.33995\u001b[0m\n",
      "\u001b[34m[157]#011train-logloss:0.24963#011validation-logloss:0.33941\u001b[0m\n",
      "\u001b[34m[158]#011train-logloss:0.24903#011validation-logloss:0.33923\u001b[0m\n",
      "\u001b[34m[159]#011train-logloss:0.24853#011validation-logloss:0.33897\u001b[0m\n",
      "\u001b[34m[160]#011train-logloss:0.24802#011validation-logloss:0.33863\u001b[0m\n",
      "\u001b[34m[161]#011train-logloss:0.24754#011validation-logloss:0.33817\u001b[0m\n",
      "\u001b[34m[162]#011train-logloss:0.24705#011validation-logloss:0.33774\u001b[0m\n",
      "\u001b[34m[163]#011train-logloss:0.24663#011validation-logloss:0.33742\u001b[0m\n",
      "\u001b[34m[164]#011train-logloss:0.24552#011validation-logloss:0.33670\u001b[0m\n",
      "\u001b[34m[165]#011train-logloss:0.24506#011validation-logloss:0.33672\u001b[0m\n",
      "\u001b[34m[166]#011train-logloss:0.24466#011validation-logloss:0.33679\u001b[0m\n",
      "\u001b[34m[167]#011train-logloss:0.24382#011validation-logloss:0.33641\u001b[0m\n",
      "\u001b[34m[168]#011train-logloss:0.24320#011validation-logloss:0.33609\u001b[0m\n",
      "\u001b[34m[169]#011train-logloss:0.24281#011validation-logloss:0.33568\u001b[0m\n",
      "\u001b[34m[170]#011train-logloss:0.24214#011validation-logloss:0.33561\u001b[0m\n",
      "\u001b[34m[171]#011train-logloss:0.24169#011validation-logloss:0.33497\u001b[0m\n",
      "\u001b[34m[172]#011train-logloss:0.24096#011validation-logloss:0.33456\u001b[0m\n",
      "\u001b[34m[173]#011train-logloss:0.24060#011validation-logloss:0.33422\u001b[0m\n",
      "\u001b[34m[174]#011train-logloss:0.24011#011validation-logloss:0.33388\u001b[0m\n",
      "\u001b[34m[175]#011train-logloss:0.23964#011validation-logloss:0.33354\u001b[0m\n",
      "\u001b[34m[176]#011train-logloss:0.23896#011validation-logloss:0.33315\u001b[0m\n",
      "\u001b[34m[177]#011train-logloss:0.23846#011validation-logloss:0.33277\u001b[0m\n",
      "\u001b[34m[178]#011train-logloss:0.23771#011validation-logloss:0.33296\u001b[0m\n",
      "\u001b[34m[179]#011train-logloss:0.23706#011validation-logloss:0.33275\u001b[0m\n",
      "\u001b[34m[180]#011train-logloss:0.23643#011validation-logloss:0.33238\u001b[0m\n",
      "\u001b[34m[181]#011train-logloss:0.23575#011validation-logloss:0.33198\u001b[0m\n",
      "\u001b[34m[182]#011train-logloss:0.23536#011validation-logloss:0.33183\u001b[0m\n",
      "\u001b[34m[183]#011train-logloss:0.23493#011validation-logloss:0.33165\u001b[0m\n",
      "\u001b[34m[184]#011train-logloss:0.23446#011validation-logloss:0.33145\u001b[0m\n",
      "\u001b[34m[185]#011train-logloss:0.23386#011validation-logloss:0.33147\u001b[0m\n",
      "\u001b[34m[186]#011train-logloss:0.23347#011validation-logloss:0.33126\u001b[0m\n",
      "\u001b[34m[187]#011train-logloss:0.23292#011validation-logloss:0.33097\u001b[0m\n",
      "\u001b[34m[188]#011train-logloss:0.23225#011validation-logloss:0.33061\u001b[0m\n",
      "\u001b[34m[189]#011train-logloss:0.23190#011validation-logloss:0.33030\u001b[0m\n",
      "\u001b[34m[190]#011train-logloss:0.23131#011validation-logloss:0.33008\u001b[0m\n",
      "\u001b[34m[191]#011train-logloss:0.23089#011validation-logloss:0.32983\u001b[0m\n",
      "\u001b[34m[192]#011train-logloss:0.23055#011validation-logloss:0.32944\u001b[0m\n",
      "\u001b[34m[193]#011train-logloss:0.23011#011validation-logloss:0.32932\u001b[0m\n",
      "\u001b[34m[194]#011train-logloss:0.22976#011validation-logloss:0.32917\u001b[0m\n",
      "\u001b[34m[195]#011train-logloss:0.22924#011validation-logloss:0.32917\u001b[0m\n",
      "\u001b[34m[196]#011train-logloss:0.22880#011validation-logloss:0.32907\u001b[0m\n",
      "\u001b[34m[197]#011train-logloss:0.22809#011validation-logloss:0.32858\u001b[0m\n",
      "\u001b[34m[198]#011train-logloss:0.22775#011validation-logloss:0.32850\u001b[0m\n",
      "\u001b[34m[199]#011train-logloss:0.22724#011validation-logloss:0.32824\u001b[0m\n",
      "\u001b[34m[200]#011train-logloss:0.22696#011validation-logloss:0.32816\u001b[0m\n",
      "\u001b[34m[201]#011train-logloss:0.22665#011validation-logloss:0.32807\u001b[0m\n",
      "\u001b[34m[202]#011train-logloss:0.22614#011validation-logloss:0.32804\u001b[0m\n",
      "\u001b[34m[203]#011train-logloss:0.22585#011validation-logloss:0.32772\u001b[0m\n",
      "\u001b[34m[204]#011train-logloss:0.22548#011validation-logloss:0.32764\u001b[0m\n",
      "\u001b[34m[205]#011train-logloss:0.22500#011validation-logloss:0.32753\u001b[0m\n",
      "\u001b[34m[206]#011train-logloss:0.22427#011validation-logloss:0.32746\u001b[0m\n",
      "\u001b[34m[207]#011train-logloss:0.22393#011validation-logloss:0.32721\u001b[0m\n",
      "\u001b[34m[208]#011train-logloss:0.22358#011validation-logloss:0.32707\u001b[0m\n",
      "\u001b[34m[209]#011train-logloss:0.22317#011validation-logloss:0.32685\u001b[0m\n",
      "\u001b[34m[210]#011train-logloss:0.22285#011validation-logloss:0.32669\u001b[0m\n",
      "\u001b[34m[211]#011train-logloss:0.22247#011validation-logloss:0.32633\u001b[0m\n",
      "\u001b[34m[212]#011train-logloss:0.22217#011validation-logloss:0.32615\u001b[0m\n",
      "\u001b[34m[213]#011train-logloss:0.22178#011validation-logloss:0.32609\u001b[0m\n",
      "\u001b[34m[214]#011train-logloss:0.22141#011validation-logloss:0.32570\u001b[0m\n",
      "\u001b[34m[215]#011train-logloss:0.22104#011validation-logloss:0.32541\u001b[0m\n",
      "\u001b[34m[216]#011train-logloss:0.22076#011validation-logloss:0.32530\u001b[0m\n",
      "\u001b[34m[217]#011train-logloss:0.22038#011validation-logloss:0.32506\u001b[0m\n",
      "\u001b[34m[218]#011train-logloss:0.21992#011validation-logloss:0.32474\u001b[0m\n",
      "\u001b[34m[219]#011train-logloss:0.21937#011validation-logloss:0.32468\u001b[0m\n",
      "\u001b[34m[220]#011train-logloss:0.21819#011validation-logloss:0.32439\u001b[0m\n",
      "\u001b[34m[221]#011train-logloss:0.21766#011validation-logloss:0.32410\u001b[0m\n",
      "\u001b[34m[222]#011train-logloss:0.21706#011validation-logloss:0.32399\u001b[0m\n",
      "\u001b[34m[223]#011train-logloss:0.21665#011validation-logloss:0.32380\u001b[0m\n",
      "\u001b[34m[224]#011train-logloss:0.21632#011validation-logloss:0.32383\u001b[0m\n",
      "\u001b[34m[225]#011train-logloss:0.21601#011validation-logloss:0.32379\u001b[0m\n",
      "\u001b[34m[226]#011train-logloss:0.21533#011validation-logloss:0.32334\u001b[0m\n",
      "\u001b[34m[227]#011train-logloss:0.21477#011validation-logloss:0.32330\u001b[0m\n",
      "\u001b[34m[228]#011train-logloss:0.21439#011validation-logloss:0.32328\u001b[0m\n",
      "\u001b[34m[229]#011train-logloss:0.21408#011validation-logloss:0.32317\u001b[0m\n",
      "\u001b[34m[230]#011train-logloss:0.21361#011validation-logloss:0.32273\u001b[0m\n",
      "\u001b[34m[231]#011train-logloss:0.21309#011validation-logloss:0.32256\u001b[0m\n",
      "\u001b[34m[232]#011train-logloss:0.21258#011validation-logloss:0.32235\u001b[0m\n",
      "\u001b[34m[233]#011train-logloss:0.21211#011validation-logloss:0.32232\u001b[0m\n",
      "\u001b[34m[234]#011train-logloss:0.21166#011validation-logloss:0.32213\u001b[0m\n",
      "\u001b[34m[235]#011train-logloss:0.21106#011validation-logloss:0.32181\u001b[0m\n",
      "\u001b[34m[236]#011train-logloss:0.21073#011validation-logloss:0.32173\u001b[0m\n",
      "\u001b[34m[237]#011train-logloss:0.21024#011validation-logloss:0.32151\u001b[0m\n",
      "\u001b[34m[238]#011train-logloss:0.20973#011validation-logloss:0.32126\u001b[0m\n",
      "\u001b[34m[239]#011train-logloss:0.20928#011validation-logloss:0.32123\u001b[0m\n",
      "\u001b[34m[240]#011train-logloss:0.20884#011validation-logloss:0.32147\u001b[0m\n",
      "\u001b[34m[241]#011train-logloss:0.20848#011validation-logloss:0.32121\u001b[0m\n",
      "\u001b[34m[242]#011train-logloss:0.20826#011validation-logloss:0.32122\u001b[0m\n",
      "\u001b[34m[243]#011train-logloss:0.20803#011validation-logloss:0.32118\u001b[0m\n",
      "\u001b[34m[244]#011train-logloss:0.20774#011validation-logloss:0.32106\u001b[0m\n",
      "\u001b[34m[245]#011train-logloss:0.20735#011validation-logloss:0.32086\u001b[0m\n",
      "\u001b[34m[246]#011train-logloss:0.20708#011validation-logloss:0.32054\u001b[0m\n",
      "\u001b[34m[247]#011train-logloss:0.20653#011validation-logloss:0.32056\u001b[0m\n",
      "\u001b[34m[248]#011train-logloss:0.20612#011validation-logloss:0.32056\u001b[0m\n",
      "\u001b[34m[249]#011train-logloss:0.20583#011validation-logloss:0.32056\u001b[0m\n",
      "\u001b[34m[250]#011train-logloss:0.20551#011validation-logloss:0.32052\u001b[0m\n",
      "\u001b[34m[251]#011train-logloss:0.20525#011validation-logloss:0.32024\u001b[0m\n",
      "\u001b[34m[252]#011train-logloss:0.20477#011validation-logloss:0.32018\u001b[0m\n",
      "\u001b[34m[253]#011train-logloss:0.20444#011validation-logloss:0.32005\u001b[0m\n",
      "\u001b[34m[254]#011train-logloss:0.20389#011validation-logloss:0.31982\u001b[0m\n",
      "\u001b[34m[255]#011train-logloss:0.20364#011validation-logloss:0.31980\u001b[0m\n",
      "\u001b[34m[256]#011train-logloss:0.20339#011validation-logloss:0.31980\u001b[0m\n",
      "\u001b[34m[257]#011train-logloss:0.20309#011validation-logloss:0.31980\u001b[0m\n",
      "\u001b[34m[258]#011train-logloss:0.20258#011validation-logloss:0.31955\u001b[0m\n",
      "\u001b[34m[259]#011train-logloss:0.20227#011validation-logloss:0.31960\u001b[0m\n",
      "\u001b[34m[260]#011train-logloss:0.20181#011validation-logloss:0.31935\u001b[0m\n",
      "\u001b[34m[261]#011train-logloss:0.20148#011validation-logloss:0.31914\u001b[0m\n",
      "\u001b[34m[262]#011train-logloss:0.20122#011validation-logloss:0.31908\u001b[0m\n",
      "\u001b[34m[263]#011train-logloss:0.20100#011validation-logloss:0.31893\u001b[0m\n",
      "\u001b[34m[264]#011train-logloss:0.20070#011validation-logloss:0.31872\u001b[0m\n",
      "\u001b[34m[265]#011train-logloss:0.20038#011validation-logloss:0.31858\u001b[0m\n",
      "\u001b[34m[266]#011train-logloss:0.19999#011validation-logloss:0.31835\u001b[0m\n",
      "\u001b[34m[267]#011train-logloss:0.19965#011validation-logloss:0.31820\u001b[0m\n",
      "\u001b[34m[268]#011train-logloss:0.19944#011validation-logloss:0.31821\u001b[0m\n",
      "\u001b[34m[269]#011train-logloss:0.19903#011validation-logloss:0.31811\u001b[0m\n",
      "\u001b[34m[270]#011train-logloss:0.19879#011validation-logloss:0.31792\u001b[0m\n",
      "\u001b[34m[271]#011train-logloss:0.19841#011validation-logloss:0.31786\u001b[0m\n",
      "\u001b[34m[272]#011train-logloss:0.19813#011validation-logloss:0.31787\u001b[0m\n",
      "\u001b[34m[273]#011train-logloss:0.19784#011validation-logloss:0.31755\u001b[0m\n",
      "\u001b[34m[274]#011train-logloss:0.19754#011validation-logloss:0.31737\u001b[0m\n",
      "\u001b[34m[275]#011train-logloss:0.19684#011validation-logloss:0.31702\u001b[0m\n",
      "\u001b[34m[276]#011train-logloss:0.19662#011validation-logloss:0.31678\u001b[0m\n",
      "\u001b[34m[277]#011train-logloss:0.19640#011validation-logloss:0.31665\u001b[0m\n",
      "\u001b[34m[278]#011train-logloss:0.19616#011validation-logloss:0.31674\u001b[0m\n",
      "\u001b[34m[279]#011train-logloss:0.19592#011validation-logloss:0.31677\u001b[0m\n",
      "\u001b[34m[280]#011train-logloss:0.19572#011validation-logloss:0.31660\u001b[0m\n",
      "\u001b[34m[281]#011train-logloss:0.19552#011validation-logloss:0.31668\u001b[0m\n",
      "\u001b[34m[282]#011train-logloss:0.19528#011validation-logloss:0.31655\u001b[0m\n",
      "\u001b[34m[283]#011train-logloss:0.19509#011validation-logloss:0.31649\u001b[0m\n",
      "\u001b[34m[284]#011train-logloss:0.19489#011validation-logloss:0.31637\u001b[0m\n",
      "\u001b[34m[285]#011train-logloss:0.19460#011validation-logloss:0.31637\u001b[0m\n",
      "\u001b[34m[286]#011train-logloss:0.19438#011validation-logloss:0.31638\u001b[0m\n",
      "\u001b[34m[287]#011train-logloss:0.19402#011validation-logloss:0.31631\u001b[0m\n",
      "\u001b[34m[288]#011train-logloss:0.19375#011validation-logloss:0.31609\u001b[0m\n",
      "\u001b[34m[289]#011train-logloss:0.19325#011validation-logloss:0.31618\u001b[0m\n",
      "\u001b[34m[290]#011train-logloss:0.19296#011validation-logloss:0.31621\u001b[0m\n",
      "\u001b[34m[291]#011train-logloss:0.19271#011validation-logloss:0.31615\u001b[0m\n",
      "\u001b[34m[292]#011train-logloss:0.19263#011validation-logloss:0.31591\u001b[0m\n",
      "\u001b[34m[293]#011train-logloss:0.19263#011validation-logloss:0.31591\u001b[0m\n",
      "\u001b[34m[294]#011train-logloss:0.19242#011validation-logloss:0.31570\u001b[0m\n",
      "\u001b[34m[295]#011train-logloss:0.19209#011validation-logloss:0.31564\u001b[0m\n",
      "\u001b[34m[296]#011train-logloss:0.19182#011validation-logloss:0.31559\u001b[0m\n",
      "\u001b[34m[297]#011train-logloss:0.19160#011validation-logloss:0.31549\u001b[0m\n",
      "\u001b[34m[298]#011train-logloss:0.19131#011validation-logloss:0.31535\u001b[0m\n",
      "\u001b[34m[299]#011train-logloss:0.19100#011validation-logloss:0.31532\u001b[0m\n",
      "\u001b[34m[300]#011train-logloss:0.19068#011validation-logloss:0.31526\u001b[0m\n",
      "\u001b[34m[301]#011train-logloss:0.19021#011validation-logloss:0.31513\u001b[0m\n",
      "\u001b[34m[302]#011train-logloss:0.19018#011validation-logloss:0.31508\u001b[0m\n",
      "\u001b[34m[303]#011train-logloss:0.18972#011validation-logloss:0.31485\u001b[0m\n",
      "\u001b[34m[304]#011train-logloss:0.18914#011validation-logloss:0.31483\u001b[0m\n",
      "\u001b[34m[305]#011train-logloss:0.18886#011validation-logloss:0.31461\u001b[0m\n",
      "\u001b[34m[306]#011train-logloss:0.18878#011validation-logloss:0.31460\u001b[0m\n",
      "\u001b[34m[307]#011train-logloss:0.18857#011validation-logloss:0.31420\u001b[0m\n",
      "\u001b[34m[308]#011train-logloss:0.18838#011validation-logloss:0.31395\u001b[0m\n",
      "\u001b[34m[309]#011train-logloss:0.18824#011validation-logloss:0.31385\u001b[0m\n",
      "\u001b[34m[310]#011train-logloss:0.18804#011validation-logloss:0.31367\u001b[0m\n",
      "\u001b[34m[311]#011train-logloss:0.18781#011validation-logloss:0.31379\u001b[0m\n",
      "\u001b[34m[312]#011train-logloss:0.18761#011validation-logloss:0.31372\u001b[0m\n",
      "\u001b[34m[313]#011train-logloss:0.18726#011validation-logloss:0.31347\u001b[0m\n",
      "\u001b[34m[314]#011train-logloss:0.18664#011validation-logloss:0.31339\u001b[0m\n",
      "\u001b[34m[315]#011train-logloss:0.18638#011validation-logloss:0.31348\u001b[0m\n",
      "\u001b[34m[316]#011train-logloss:0.18635#011validation-logloss:0.31347\u001b[0m\n",
      "\u001b[34m[317]#011train-logloss:0.18573#011validation-logloss:0.31350\u001b[0m\n",
      "\u001b[34m[318]#011train-logloss:0.18548#011validation-logloss:0.31332\u001b[0m\n",
      "\u001b[34m[319]#011train-logloss:0.18512#011validation-logloss:0.31335\u001b[0m\n",
      "\u001b[34m[320]#011train-logloss:0.18508#011validation-logloss:0.31332\u001b[0m\n",
      "\u001b[34m[321]#011train-logloss:0.18482#011validation-logloss:0.31305\u001b[0m\n",
      "\u001b[34m[322]#011train-logloss:0.18472#011validation-logloss:0.31291\u001b[0m\n",
      "\u001b[34m[323]#011train-logloss:0.18468#011validation-logloss:0.31287\u001b[0m\n",
      "\u001b[34m[324]#011train-logloss:0.18448#011validation-logloss:0.31282\u001b[0m\n",
      "\u001b[34m[325]#011train-logloss:0.18435#011validation-logloss:0.31274\u001b[0m\n",
      "\u001b[34m[326]#011train-logloss:0.18399#011validation-logloss:0.31266\u001b[0m\n",
      "\u001b[34m[327]#011train-logloss:0.18369#011validation-logloss:0.31260\u001b[0m\n",
      "\u001b[34m[328]#011train-logloss:0.18357#011validation-logloss:0.31255\u001b[0m\n",
      "\u001b[34m[329]#011train-logloss:0.18322#011validation-logloss:0.31260\u001b[0m\n",
      "\u001b[34m[330]#011train-logloss:0.18305#011validation-logloss:0.31249\u001b[0m\n",
      "\u001b[34m[331]#011train-logloss:0.18293#011validation-logloss:0.31243\u001b[0m\n",
      "\u001b[34m[332]#011train-logloss:0.18257#011validation-logloss:0.31260\u001b[0m\n",
      "\u001b[34m[333]#011train-logloss:0.18238#011validation-logloss:0.31260\u001b[0m\n",
      "\u001b[34m[334]#011train-logloss:0.18202#011validation-logloss:0.31253\u001b[0m\n",
      "\u001b[34m[335]#011train-logloss:0.18185#011validation-logloss:0.31255\u001b[0m\n",
      "\u001b[34m[336]#011train-logloss:0.18185#011validation-logloss:0.31257\u001b[0m\n",
      "\u001b[34m[337]#011train-logloss:0.18170#011validation-logloss:0.31264\u001b[0m\n",
      "\u001b[34m[338]#011train-logloss:0.18163#011validation-logloss:0.31252\u001b[0m\n",
      "\u001b[34m[339]#011train-logloss:0.18163#011validation-logloss:0.31252\u001b[0m\n",
      "\u001b[34m[340]#011train-logloss:0.18143#011validation-logloss:0.31244\u001b[0m\n",
      "\u001b[34m[341]#011train-logloss:0.18126#011validation-logloss:0.31252\u001b[0m\n",
      "\u001b[34m[342]#011train-logloss:0.18063#011validation-logloss:0.31273\u001b[0m\n",
      "\u001b[34m[343]#011train-logloss:0.18059#011validation-logloss:0.31269\u001b[0m\n",
      "\u001b[34m[344]#011train-logloss:0.18039#011validation-logloss:0.31271\u001b[0m\n",
      "\u001b[34m[345]#011train-logloss:0.18020#011validation-logloss:0.31273\u001b[0m\n",
      "\u001b[34m[346]#011train-logloss:0.17991#011validation-logloss:0.31260\u001b[0m\n",
      "\u001b[34m[347]#011train-logloss:0.17958#011validation-logloss:0.31248\u001b[0m\n",
      "\u001b[34m[348]#011train-logloss:0.17917#011validation-logloss:0.31238\u001b[0m\n",
      "\u001b[34m[349]#011train-logloss:0.17902#011validation-logloss:0.31243\u001b[0m\n",
      "\u001b[34m[350]#011train-logloss:0.17902#011validation-logloss:0.31243\u001b[0m\n",
      "\u001b[34m[351]#011train-logloss:0.17902#011validation-logloss:0.31243\u001b[0m\n",
      "\u001b[34m[352]#011train-logloss:0.17881#011validation-logloss:0.31217\u001b[0m\n",
      "\u001b[34m[353]#011train-logloss:0.17872#011validation-logloss:0.31213\u001b[0m\n",
      "\u001b[34m[354]#011train-logloss:0.17872#011validation-logloss:0.31213\u001b[0m\n",
      "\u001b[34m[355]#011train-logloss:0.17838#011validation-logloss:0.31225\u001b[0m\n",
      "\u001b[34m[356]#011train-logloss:0.17820#011validation-logloss:0.31228\u001b[0m\n",
      "\u001b[34m[357]#011train-logloss:0.17773#011validation-logloss:0.31209\u001b[0m\n",
      "\u001b[34m[358]#011train-logloss:0.17759#011validation-logloss:0.31193\u001b[0m\n",
      "\u001b[34m[359]#011train-logloss:0.17747#011validation-logloss:0.31192\u001b[0m\n",
      "\u001b[34m[360]#011train-logloss:0.17725#011validation-logloss:0.31196\u001b[0m\n",
      "\u001b[34m[361]#011train-logloss:0.17719#011validation-logloss:0.31203\u001b[0m\n",
      "\u001b[34m[362]#011train-logloss:0.17685#011validation-logloss:0.31201\u001b[0m\n",
      "\u001b[34m[363]#011train-logloss:0.17648#011validation-logloss:0.31189\u001b[0m\n",
      "\u001b[34m[364]#011train-logloss:0.17625#011validation-logloss:0.31172\u001b[0m\n",
      "\u001b[34m[365]#011train-logloss:0.17596#011validation-logloss:0.31166\u001b[0m\n",
      "\u001b[34m[366]#011train-logloss:0.17578#011validation-logloss:0.31157\u001b[0m\n",
      "\u001b[34m[367]#011train-logloss:0.17565#011validation-logloss:0.31161\u001b[0m\n",
      "\u001b[34m[368]#011train-logloss:0.17551#011validation-logloss:0.31156\u001b[0m\n",
      "\u001b[34m[369]#011train-logloss:0.17551#011validation-logloss:0.31156\u001b[0m\n",
      "\u001b[34m[370]#011train-logloss:0.17549#011validation-logloss:0.31149\u001b[0m\n",
      "\u001b[34m[371]#011train-logloss:0.17530#011validation-logloss:0.31146\u001b[0m\n",
      "\u001b[34m[372]#011train-logloss:0.17508#011validation-logloss:0.31142\u001b[0m\n",
      "\u001b[34m[373]#011train-logloss:0.17477#011validation-logloss:0.31140\u001b[0m\n",
      "\u001b[34m[374]#011train-logloss:0.17468#011validation-logloss:0.31128\u001b[0m\n",
      "\u001b[34m[375]#011train-logloss:0.17459#011validation-logloss:0.31124\u001b[0m\n",
      "\u001b[34m[376]#011train-logloss:0.17434#011validation-logloss:0.31119\u001b[0m\n",
      "\u001b[34m[377]#011train-logloss:0.17400#011validation-logloss:0.31089\u001b[0m\n",
      "\u001b[34m[378]#011train-logloss:0.17355#011validation-logloss:0.31110\u001b[0m\n",
      "\u001b[34m[379]#011train-logloss:0.17342#011validation-logloss:0.31105\u001b[0m\n",
      "\u001b[34m[380]#011train-logloss:0.17328#011validation-logloss:0.31098\u001b[0m\n",
      "\u001b[34m[381]#011train-logloss:0.17328#011validation-logloss:0.31099\u001b[0m\n",
      "\u001b[34m[382]#011train-logloss:0.17328#011validation-logloss:0.31099\u001b[0m\n",
      "\u001b[34m[383]#011train-logloss:0.17288#011validation-logloss:0.31105\u001b[0m\n",
      "\u001b[34m[384]#011train-logloss:0.17271#011validation-logloss:0.31109\u001b[0m\n",
      "\u001b[34m[385]#011train-logloss:0.17250#011validation-logloss:0.31111\u001b[0m\n",
      "\u001b[34m[386]#011train-logloss:0.17250#011validation-logloss:0.31110\u001b[0m\n",
      "\u001b[34m[387]#011train-logloss:0.17250#011validation-logloss:0.31111\u001b[0m\n",
      "\u001b[34m[388]#011train-logloss:0.17239#011validation-logloss:0.31115\u001b[0m\n",
      "\u001b[34m[389]#011train-logloss:0.17239#011validation-logloss:0.31113\u001b[0m\n",
      "\u001b[34m[390]#011train-logloss:0.17239#011validation-logloss:0.31112\u001b[0m\n",
      "\u001b[34m[391]#011train-logloss:0.17214#011validation-logloss:0.31114\u001b[0m\n",
      "\u001b[34m[392]#011train-logloss:0.17192#011validation-logloss:0.31099\u001b[0m\n",
      "\u001b[34m[393]#011train-logloss:0.17192#011validation-logloss:0.31099\u001b[0m\n",
      "\u001b[34m[394]#011train-logloss:0.17189#011validation-logloss:0.31095\u001b[0m\n",
      "\u001b[34m[395]#011train-logloss:0.17152#011validation-logloss:0.31096\u001b[0m\n",
      "\u001b[34m[396]#011train-logloss:0.17138#011validation-logloss:0.31084\u001b[0m\n",
      "\u001b[34m[397]#011train-logloss:0.17138#011validation-logloss:0.31084\u001b[0m\n",
      "\u001b[34m[398]#011train-logloss:0.17095#011validation-logloss:0.31075\u001b[0m\n",
      "\u001b[34m[399]#011train-logloss:0.17095#011validation-logloss:0.31074\u001b[0m\n",
      "\u001b[34m[400]#011train-logloss:0.17080#011validation-logloss:0.31077\u001b[0m\n",
      "\u001b[34m[401]#011train-logloss:0.17080#011validation-logloss:0.31077\u001b[0m\n",
      "\u001b[34m[402]#011train-logloss:0.17051#011validation-logloss:0.31067\u001b[0m\n",
      "\u001b[34m[403]#011train-logloss:0.17020#011validation-logloss:0.31064\u001b[0m\n",
      "\u001b[34m[404]#011train-logloss:0.17014#011validation-logloss:0.31063\u001b[0m\n",
      "\u001b[34m[405]#011train-logloss:0.17014#011validation-logloss:0.31063\u001b[0m\n",
      "\u001b[34m[406]#011train-logloss:0.17014#011validation-logloss:0.31064\u001b[0m\n",
      "\u001b[34m[407]#011train-logloss:0.16999#011validation-logloss:0.31051\u001b[0m\n",
      "\u001b[34m[408]#011train-logloss:0.16988#011validation-logloss:0.31045\u001b[0m\n",
      "\u001b[34m[409]#011train-logloss:0.16973#011validation-logloss:0.31046\u001b[0m\n",
      "\u001b[34m[410]#011train-logloss:0.16969#011validation-logloss:0.31044\u001b[0m\n",
      "\u001b[34m[411]#011train-logloss:0.16964#011validation-logloss:0.31030\u001b[0m\n",
      "\u001b[34m[412]#011train-logloss:0.16960#011validation-logloss:0.31023\u001b[0m\n",
      "\u001b[34m[413]#011train-logloss:0.16933#011validation-logloss:0.31028\u001b[0m\n",
      "\u001b[34m[414]#011train-logloss:0.16915#011validation-logloss:0.31023\u001b[0m\n",
      "\u001b[34m[415]#011train-logloss:0.16885#011validation-logloss:0.31003\u001b[0m\n",
      "\u001b[34m[416]#011train-logloss:0.16885#011validation-logloss:0.31003\u001b[0m\n",
      "\u001b[34m[417]#011train-logloss:0.16885#011validation-logloss:0.31002\u001b[0m\n",
      "\u001b[34m[418]#011train-logloss:0.16885#011validation-logloss:0.31001\u001b[0m\n",
      "\u001b[34m[419]#011train-logloss:0.16885#011validation-logloss:0.31002\u001b[0m\n",
      "\u001b[34m[420]#011train-logloss:0.16863#011validation-logloss:0.31009\u001b[0m\n",
      "\u001b[34m[421]#011train-logloss:0.16863#011validation-logloss:0.31009\u001b[0m\n",
      "\u001b[34m[422]#011train-logloss:0.16839#011validation-logloss:0.30994\u001b[0m\n",
      "\u001b[34m[423]#011train-logloss:0.16822#011validation-logloss:0.30993\u001b[0m\n",
      "\u001b[34m[424]#011train-logloss:0.16819#011validation-logloss:0.30995\u001b[0m\n",
      "\u001b[34m[425]#011train-logloss:0.16819#011validation-logloss:0.30995\u001b[0m\n",
      "\u001b[34m[426]#011train-logloss:0.16819#011validation-logloss:0.30996\u001b[0m\n",
      "\u001b[34m[427]#011train-logloss:0.16801#011validation-logloss:0.31000\u001b[0m\n",
      "\u001b[34m[428]#011train-logloss:0.16798#011validation-logloss:0.30998\u001b[0m\n",
      "\u001b[34m[429]#011train-logloss:0.16780#011validation-logloss:0.31010\u001b[0m\n",
      "\u001b[34m[430]#011train-logloss:0.16755#011validation-logloss:0.31005\u001b[0m\n",
      "\u001b[34m[431]#011train-logloss:0.16740#011validation-logloss:0.31003\u001b[0m\n",
      "\u001b[34m[432]#011train-logloss:0.16740#011validation-logloss:0.31002\u001b[0m\n",
      "\u001b[34m[433]#011train-logloss:0.16740#011validation-logloss:0.31003\u001b[0m\n",
      "\u001b[34m[434]#011train-logloss:0.16740#011validation-logloss:0.31003\u001b[0m\n",
      "\u001b[34m[435]#011train-logloss:0.16717#011validation-logloss:0.31012\u001b[0m\n",
      "\u001b[34m[436]#011train-logloss:0.16717#011validation-logloss:0.31011\u001b[0m\n",
      "\u001b[34m[437]#011train-logloss:0.16710#011validation-logloss:0.31010\u001b[0m\n",
      "\u001b[34m[438]#011train-logloss:0.16710#011validation-logloss:0.31011\u001b[0m\n",
      "\u001b[34m[439]#011train-logloss:0.16710#011validation-logloss:0.31011\u001b[0m\n",
      "\u001b[34m[440]#011train-logloss:0.16697#011validation-logloss:0.31007\u001b[0m\n",
      "\u001b[34m[441]#011train-logloss:0.16684#011validation-logloss:0.31019\u001b[0m\n",
      "\u001b[34m[442]#011train-logloss:0.16667#011validation-logloss:0.31013\u001b[0m\n",
      "\u001b[34m[443]#011train-logloss:0.16658#011validation-logloss:0.31027\u001b[0m\n",
      "\u001b[34m[444]#011train-logloss:0.16644#011validation-logloss:0.31013\u001b[0m\n",
      "\u001b[34m[445]#011train-logloss:0.16629#011validation-logloss:0.31019\u001b[0m\n",
      "\u001b[34m[446]#011train-logloss:0.16629#011validation-logloss:0.31019\u001b[0m\n",
      "\u001b[34m[447]#011train-logloss:0.16629#011validation-logloss:0.31019\u001b[0m\n",
      "\u001b[34m[448]#011train-logloss:0.16601#011validation-logloss:0.31005\u001b[0m\n",
      "\u001b[34m[449]#011train-logloss:0.16587#011validation-logloss:0.31011\u001b[0m\n",
      "\u001b[34m[450]#011train-logloss:0.16560#011validation-logloss:0.30997\u001b[0m\n",
      "\u001b[34m[451]#011train-logloss:0.16560#011validation-logloss:0.30998\u001b[0m\n",
      "\u001b[34m[452]#011train-logloss:0.16540#011validation-logloss:0.30983\u001b[0m\n",
      "\u001b[34m[453]#011train-logloss:0.16511#011validation-logloss:0.30984\u001b[0m\n",
      "\u001b[34m[454]#011train-logloss:0.16511#011validation-logloss:0.30986\u001b[0m\n",
      "\u001b[34m[455]#011train-logloss:0.16493#011validation-logloss:0.30982\u001b[0m\n",
      "\u001b[34m[456]#011train-logloss:0.16493#011validation-logloss:0.30982\u001b[0m\n",
      "\u001b[34m[457]#011train-logloss:0.16493#011validation-logloss:0.30980\u001b[0m\n",
      "\u001b[34m[458]#011train-logloss:0.16460#011validation-logloss:0.30974\u001b[0m\n",
      "\u001b[34m[459]#011train-logloss:0.16460#011validation-logloss:0.30973\u001b[0m\n",
      "\u001b[34m[460]#011train-logloss:0.16445#011validation-logloss:0.30941\u001b[0m\n",
      "\u001b[34m[461]#011train-logloss:0.16430#011validation-logloss:0.30935\u001b[0m\n",
      "\u001b[34m[462]#011train-logloss:0.16418#011validation-logloss:0.30934\u001b[0m\n",
      "\u001b[34m[463]#011train-logloss:0.16418#011validation-logloss:0.30935\u001b[0m\n",
      "\u001b[34m[464]#011train-logloss:0.16387#011validation-logloss:0.30930\u001b[0m\n",
      "\u001b[34m[465]#011train-logloss:0.16387#011validation-logloss:0.30930\u001b[0m\n",
      "\u001b[34m[466]#011train-logloss:0.16387#011validation-logloss:0.30930\u001b[0m\n",
      "\u001b[34m[467]#011train-logloss:0.16387#011validation-logloss:0.30930\u001b[0m\n",
      "\u001b[34m[468]#011train-logloss:0.16387#011validation-logloss:0.30931\u001b[0m\n",
      "\u001b[34m[469]#011train-logloss:0.16377#011validation-logloss:0.30927\u001b[0m\n",
      "\u001b[34m[470]#011train-logloss:0.16377#011validation-logloss:0.30926\u001b[0m\n",
      "\u001b[34m[471]#011train-logloss:0.16377#011validation-logloss:0.30925\u001b[0m\n",
      "\u001b[34m[472]#011train-logloss:0.16365#011validation-logloss:0.30920\u001b[0m\n",
      "\u001b[34m[473]#011train-logloss:0.16353#011validation-logloss:0.30922\u001b[0m\n",
      "\u001b[34m[474]#011train-logloss:0.16353#011validation-logloss:0.30921\u001b[0m\n",
      "\u001b[34m[475]#011train-logloss:0.16353#011validation-logloss:0.30921\u001b[0m\n",
      "\u001b[34m[476]#011train-logloss:0.16344#011validation-logloss:0.30911\u001b[0m\n",
      "\u001b[34m[477]#011train-logloss:0.16344#011validation-logloss:0.30911\u001b[0m\n",
      "\u001b[34m[478]#011train-logloss:0.16344#011validation-logloss:0.30911\u001b[0m\n",
      "\u001b[34m[479]#011train-logloss:0.16344#011validation-logloss:0.30911\u001b[0m\n",
      "\u001b[34m[480]#011train-logloss:0.16344#011validation-logloss:0.30911\u001b[0m\n",
      "\u001b[34m[481]#011train-logloss:0.16340#011validation-logloss:0.30908\u001b[0m\n",
      "\u001b[34m[482]#011train-logloss:0.16340#011validation-logloss:0.30908\u001b[0m\n",
      "\u001b[34m[483]#011train-logloss:0.16340#011validation-logloss:0.30909\u001b[0m\n",
      "\u001b[34m[484]#011train-logloss:0.16320#011validation-logloss:0.30910\u001b[0m\n",
      "\u001b[34m[485]#011train-logloss:0.16320#011validation-logloss:0.30909\u001b[0m\n",
      "\u001b[34m[486]#011train-logloss:0.16320#011validation-logloss:0.30909\u001b[0m\n",
      "\u001b[34m[487]#011train-logloss:0.16316#011validation-logloss:0.30904\u001b[0m\n",
      "\u001b[34m[488]#011train-logloss:0.16316#011validation-logloss:0.30904\u001b[0m\n",
      "\u001b[34m[489]#011train-logloss:0.16316#011validation-logloss:0.30904\u001b[0m\n",
      "\u001b[34m[490]#011train-logloss:0.16316#011validation-logloss:0.30903\u001b[0m\n",
      "\u001b[34m[491]#011train-logloss:0.16303#011validation-logloss:0.30900\u001b[0m\n",
      "\u001b[34m[492]#011train-logloss:0.16303#011validation-logloss:0.30900\u001b[0m\n",
      "\u001b[34m[493]#011train-logloss:0.16285#011validation-logloss:0.30897\u001b[0m\n",
      "\u001b[34m[494]#011train-logloss:0.16285#011validation-logloss:0.30897\u001b[0m\n",
      "\u001b[34m[495]#011train-logloss:0.16285#011validation-logloss:0.30897\u001b[0m\n",
      "\u001b[34m[496]#011train-logloss:0.16285#011validation-logloss:0.30897\u001b[0m\n",
      "\u001b[34m[497]#011train-logloss:0.16274#011validation-logloss:0.30893\u001b[0m\n",
      "\u001b[34m[498]#011train-logloss:0.16248#011validation-logloss:0.30889\u001b[0m\n",
      "\u001b[34m[499]#011train-logloss:0.16247#011validation-logloss:0.30887\u001b[0m\n",
      "\n",
      "2022-06-30 12:55:29 Uploading - Uploading generated training model\n",
      "2022-06-30 12:55:49 Completed - Training job completed\n",
      "ProfilerReport-1656592780: NoIssuesFound\n",
      "Training seconds: 836\n",
      "Billable seconds: 836\n"
     ]
    }
   ],
   "source": [
    "# xgb.fit({'train': s3_input_train, 'validation': s3_input_validation})\n",
    "\n",
    "# execute the XGBoost training job\n",
    "estimator.fit({'train': train_input, 'validation': validation_input})"
   ]
  },
  {
   "cell_type": "markdown",
   "metadata": {},
   "source": [
    "## Step 5: Testing the model\n",
    "\n",
    "Now that we've fit our XGBoost model, it's time to see how well it performs. To do this we will use SageMakers Batch Transform functionality. Batch Transform is a convenient way to perform inference on a large dataset in a way that is not realtime. That is, we don't necessarily need to use our model's results immediately and instead we can perform inference on a large number of samples. An example of this in industry might be performing an end of month report. This method of inference can also be useful to us as it means that we can perform inference on our entire test set. \n",
    "\n",
    "To perform a Batch Transformation we need to first create a transformer objects from our trained estimator object."
   ]
  },
  {
   "cell_type": "code",
   "execution_count": 40,
   "metadata": {},
   "outputs": [],
   "source": [
    "# xgb_transformer = xgb.transformer(instance_count = 1, instance_type = 'ml.m4.xlarge')\n",
    "xgb_transformer = estimator.transformer(instance_count = 1, instance_type = 'ml.m4.xlarge')"
   ]
  },
  {
   "cell_type": "markdown",
   "metadata": {},
   "source": [
    "Next we actually perform the transform job. When doing so we need to make sure to specify the type of data we are sending so that it is serialized correctly in the background. In our case we are providing our model with csv data so we specify `text/csv`. Also, if the test data that we have provided is too large to process all at once then we need to specify how the data file should be split up. Since each line is a single entry in our data set we tell SageMaker that it can split the input on each line."
   ]
  },
  {
   "cell_type": "code",
   "execution_count": 46,
   "metadata": {},
   "outputs": [],
   "source": [
    "xgb_transformer.transform(test_location, content_type='text/csv', split_type='Line')"
   ]
  },
  {
   "cell_type": "markdown",
   "metadata": {},
   "source": [
    "Currently the transform job is running but it is doing so in the background. Since we wish to wait until the transform job is done and we would like a bit of feedback we can run the `wait()` method."
   ]
  },
  {
   "cell_type": "code",
   "execution_count": null,
   "metadata": {},
   "outputs": [],
   "source": [
    "xgb_transformer.wait()"
   ]
  },
  {
   "cell_type": "markdown",
   "metadata": {},
   "source": [
    "Now the transform job has executed and the result, the estimated sentiment of each review, has been saved on S3. Since we would rather work on this file locally we can perform a bit of notebook magic to copy the file to the `data_dir`."
   ]
  },
  {
   "cell_type": "code",
   "execution_count": 41,
   "metadata": {},
   "outputs": [
    {
     "name": "stdout",
     "output_type": "stream",
     "text": [
      "download: s3://sagemaker-us-east-1-587437215200/xgboost-2022-06-29-21-32-35-501/test.csv.out to ../data/sentiment_web_app/test.csv.out\n"
     ]
    }
   ],
   "source": [
    "!aws s3 cp --recursive $xgb_transformer.output_path $data_dir"
   ]
  },
  {
   "cell_type": "markdown",
   "metadata": {},
   "source": [
    "The last step is now to read in the output from our model, convert the output to something a little more usable, in this case we want the sentiment to be either `1` (positive) or `0` (negative), and then compare to the ground truth labels."
   ]
  },
  {
   "cell_type": "code",
   "execution_count": 43,
   "metadata": {},
   "outputs": [],
   "source": [
    "predictions = pd.read_csv(os.path.join(data_dir, 'test.csv.out'), header=None)\n",
    "predictions = [round(num) for num in predictions.squeeze().values]"
   ]
  },
  {
   "cell_type": "code",
   "execution_count": 43,
   "metadata": {},
   "outputs": [
    {
     "data": {
      "text/plain": [
       "0.8586"
      ]
     },
     "execution_count": 43,
     "metadata": {},
     "output_type": "execute_result"
    }
   ],
   "source": [
    "from sklearn.metrics import accuracy_score\n",
    "accuracy_score(test_y, predictions)"
   ]
  },
  {
   "cell_type": "markdown",
   "metadata": {},
   "source": [
    "## Step 6: Deploying the model\n",
    "\n",
    "Once we construct and fit our model, SageMaker stores the resulting model artifacts and we can use those to deploy an endpoint (inference code). To see this, look in the SageMaker console and you should see that a model has been created along with a link to the S3 location where the model artifacts have been stored.\n",
    "\n",
    "Deploying an endpoint is a lot like training the model with a few important differences. The first is that a deployed model doesn't change the model artifacts, so as you send it various testing instances the model won't change. Another difference is that since we aren't performing a fixed computation, as we were in the training step or while performing a batch transform, the compute instance that gets started stays running until we tell it to stop. This is important to note as if we forget and leave it running we will be charged the entire time.\n",
    "\n",
    "In other words **If you are no longer using a deployed endpoint, shut it down!**"
   ]
  },
  {
   "cell_type": "code",
   "execution_count": 44,
   "metadata": {},
   "outputs": [
    {
     "name": "stderr",
     "output_type": "stream",
     "text": [
      "Parameter image will be renamed to image_uri in SageMaker Python SDK v2.\n",
      "Using already existing model: xgboost-2022-06-29-21-17-46-631\n"
     ]
    },
    {
     "name": "stdout",
     "output_type": "stream",
     "text": [
      "-------!"
     ]
    }
   ],
   "source": [
    "xgb_predictor = xgb.deploy(initial_instance_count = 1, instance_type = 'ml.m4.xlarge')"
   ]
  },
  {
   "cell_type": "markdown",
   "metadata": {},
   "source": [
    "### Testing the model (again)\n",
    "\n",
    "Now that we have deployed our endpoint, we can send the testing data to it and get back the inference results. We already did this earlier using the batch transform functionality of SageMaker, however, we will test our model again using the newly deployed endpoint so that we can make sure that it works properly and to get a bit of a feel for how the endpoint works.\n",
    "\n",
    "When using the created endpoint it is important to know that we are limited in the amount of information we can send in each call so we need to break the testing data up into chunks and then send each chunk. Also, we need to serialize our data before we send it to the endpoint to ensure that our data is transmitted properly. Fortunately, SageMaker can do the serialization part for us provided we tell it the format of our data."
   ]
  },
  {
   "cell_type": "code",
   "execution_count": 45,
   "metadata": {},
   "outputs": [],
   "source": [
    "from sagemaker.predictor import csv_serializer\n",
    "\n",
    "# We need to tell the endpoint what format the data we are sending is in so that SageMaker can perform the serialization.\n",
    "xgb_predictor.content_type = 'text/csv'\n",
    "xgb_predictor.serializer = csv_serializer"
   ]
  },
  {
   "cell_type": "code",
   "execution_count": 46,
   "metadata": {},
   "outputs": [],
   "source": [
    "# We split the data into chunks and send each chunk seperately, accumulating the results.\n",
    "\n",
    "def predict(data, rows=512):\n",
    "    split_array = np.array_split(data, int(data.shape[0] / float(rows) + 1))\n",
    "    predictions = ''\n",
    "    for array in split_array:\n",
    "        predictions = ','.join([predictions, xgb_predictor.predict(array).decode('utf-8')])\n",
    "    \n",
    "    return np.fromstring(predictions[1:], sep=',')"
   ]
  },
  {
   "cell_type": "code",
   "execution_count": 47,
   "metadata": {},
   "outputs": [],
   "source": [
    "test_X = pd.read_csv(os.path.join(data_dir, 'test.csv'), header=None).values\n",
    "\n",
    "predictions = predict(test_X)\n",
    "predictions = [round(num) for num in predictions]"
   ]
  },
  {
   "cell_type": "markdown",
   "metadata": {},
   "source": [
    "Lastly, we check to see what the accuracy of our model is."
   ]
  },
  {
   "cell_type": "code",
   "execution_count": 48,
   "metadata": {},
   "outputs": [
    {
     "data": {
      "text/plain": [
       "0.8586"
      ]
     },
     "execution_count": 48,
     "metadata": {},
     "output_type": "execute_result"
    }
   ],
   "source": [
    "from sklearn.metrics import accuracy_score\n",
    "accuracy_score(test_y, predictions)"
   ]
  },
  {
   "cell_type": "markdown",
   "metadata": {},
   "source": [
    "And the results here should agree with the model testing that we did earlier using the batch transform job.\n",
    "\n",
    "### Cleaning up\n",
    "\n",
    "Now that we've determined that deploying our model works as expected, we are going to shut it down. Remember that the longer the endpoint is left running, the greater the cost and since we have a bit more work to do before we are able to use our endpoint with our simple web app, we should shut everything down."
   ]
  },
  {
   "cell_type": "code",
   "execution_count": 49,
   "metadata": {},
   "outputs": [],
   "source": [
    "xgb_predictor.delete_endpoint()"
   ]
  },
  {
   "cell_type": "markdown",
   "metadata": {},
   "source": [
    "## Step 7: Putting our model to work\n",
    "\n",
    "As we've mentioned a few times now, our goal is to have our model deployed and then access it using a very simple web app. The intent is for this web app to take some user submitted data (a review), send it off to our endpoint (the model) and then display the result.\n",
    "\n",
    "However, there is a small catch. Currently the only way we can access the endpoint to send it data is using the SageMaker API. We can, if we wish, expose the actual URL that our model's endpoint is receiving data from, however, if we just send it data ourselves we will not get anything in return. This is because the endpoint created by SageMaker requires the entity accessing it have the correct permissions. So, we would need to somehow authenticate our web app with AWS.\n",
    "\n",
    "Having a website that authenticates to AWS seems a bit beyond the scope of this lesson so we will opt for an alternative approach. Namely, we will create a new endpoint which does not require authentication and which acts as a proxy for the SageMaker endpoint.\n",
    "\n",
    "As an additional constraint, we will try to avoid doing any data processing in the web app itself. Remember that when we constructed and tested our model we started with a movie review, then we simplified it by removing any html formatting and punctuation, then we constructed a bag of words embedding and the resulting vector is what we sent to our model. All of this needs to be done to our user input as well.\n",
    "\n",
    "Fortunately we can do all of this data processing in the backend, using Amazon's Lambda service.\n",
    "\n",
    "<img src=\"Web App Diagram.svg\">\n",
    "\n",
    "The diagram above gives an overview of how the various services will work together. On the far right is the model which we trained above and which will be deployed using SageMaker. On the far left is our web app that collects a user's movie review, sends it off and expects a positive or negative sentiment in return.\n",
    "\n",
    "In the middle is where some of the magic happens. We will construct a Lambda function, which you can think of as a straightforward Python function that can be executed whenever a specified event occurs. This Python function will do the data processing we need to perform on a user submitted review. In addition, we will give this function permission to send and recieve data from a SageMaker endpoint.\n",
    "\n",
    "Lastly, the method we will use to execute the Lambda function is a new endpoint that we will create using API Gateway. This endpoint will be a url that listens for data to be sent to it. Once it gets some data it will pass that data on to the Lambda function and then return whatever the Lambda function returns. Essentially it will act as an interface that lets our web app communicate with the Lambda function.\n",
    "\n",
    "### Processing a single review\n",
    "\n",
    "For now, suppose we are given a movie review by our user in the form of a string, like so:"
   ]
  },
  {
   "cell_type": "code",
   "execution_count": 44,
   "metadata": {},
   "outputs": [],
   "source": [
    "test_review = \"Nothing but a disgusting materialistic pageant of glistening abed remote control greed zombies, totally devoid of any heart or heat. A romantic comedy that has zero romantic chemestry and zero laughs!\""
   ]
  },
  {
   "cell_type": "markdown",
   "metadata": {},
   "source": [
    "How do we go from this string to the bag of words feature vector that is expected by our model?\n",
    "\n",
    "If we recall at the beginning of this notebook, the first step is to remove any unnecessary characters using the `review_to_words` method. Remember that we intentionally did this in a very simplistic way. This is because we are going to have to copy this method to our (eventual) Lambda function (we will go into more detail later) and this means it needs to be rather simplistic."
   ]
  },
  {
   "cell_type": "code",
   "execution_count": 45,
   "metadata": {},
   "outputs": [
    {
     "name": "stdout",
     "output_type": "stream",
     "text": [
      "nothing but a disgusting materialistic pageant of glistening abed remote control greed zombies totally devoid of any heart or heat a romantic comedy that has zero romantic chemestry and zero laughs\n"
     ]
    }
   ],
   "source": [
    "test_words = review_to_words(test_review)\n",
    "print(test_words)"
   ]
  },
  {
   "cell_type": "markdown",
   "metadata": {},
   "source": [
    "Next, we need to construct a bag of words embedding of the `test_words` string. To do this, remember that a bag of words embedding uses a `vocabulary` consisting of the most frequently appearing words in a set of documents. Then, for each word in the vocabulary we record the number of times that word appears in `test_words`. We constructed the `vocabulary` earlier using the training set for our problem so encoding `test_words` is relatively straightforward."
   ]
  },
  {
   "cell_type": "code",
   "execution_count": 47,
   "metadata": {},
   "outputs": [],
   "source": [
    "def bow_encoding(words, vocabulary):\n",
    "    bow = [0] * len(vocabulary) # Start by setting the count for each word in the vocabulary to zero.\n",
    "    for word in words.split():  # For each word in the string\n",
    "        if word in vocabulary:  # If the word is one that occurs in the vocabulary, increase its count.\n",
    "            bow[vocabulary[word]] += 1\n",
    "    return bow"
   ]
  },
  {
   "cell_type": "code",
   "execution_count": 48,
   "metadata": {},
   "outputs": [
    {
     "name": "stdout",
     "output_type": "stream",
     "text": [
      "[0, 0, 0, 0, 0, 0, 0, 0, 0, 0, 0, 0, 0, 0, 0, 0, 0, 0, 0, 0, 0, 0, 0, 0, 0, 0, 0, 0, 0, 0, 0, 0, 0, 0, 0, 0, 0, 0, 0, 0, 0, 0, 0, 0, 0, 0, 0, 0, 0, 0, 0, 0, 0, 0, 0, 0, 0, 0, 0, 0, 0, 0, 0, 0, 0, 0, 0, 0, 0, 0, 0, 0, 0, 0, 0, 0, 0, 0, 0, 0, 0, 0, 0, 0, 0, 0, 0, 0, 0, 0, 0, 0, 0, 0, 0, 0, 0, 0, 0, 0, 0, 0, 0, 0, 0, 0, 0, 0, 0, 0, 0, 0, 0, 0, 0, 0, 0, 0, 0, 0, 0, 0, 0, 0, 0, 0, 0, 0, 0, 0, 0, 0, 0, 0, 0, 0, 0, 0, 0, 0, 0, 0, 0, 0, 0, 0, 0, 0, 0, 0, 0, 0, 0, 0, 0, 0, 0, 0, 0, 0, 0, 0, 0, 0, 0, 0, 0, 0, 0, 0, 0, 0, 0, 0, 0, 0, 0, 0, 0, 0, 0, 0, 0, 0, 0, 0, 0, 0, 0, 0, 0, 0, 0, 0, 0, 0, 0, 0, 0, 0, 0, 0, 0, 0, 0, 0, 0, 0, 0, 0, 0, 0, 0, 0, 0, 0, 0, 0, 0, 0, 0, 0, 0, 0, 0, 0, 1, 0, 0, 0, 0, 0, 0, 0, 0, 0, 0, 0, 0, 0, 0, 0, 0, 0, 0, 0, 0, 0, 0, 0, 0, 0, 0, 0, 0, 0, 1, 0, 0, 0, 0, 0, 0, 0, 0, 0, 0, 0, 0, 0, 0, 0, 0, 0, 0, 0, 0, 0, 0, 0, 0, 0, 0, 0, 0, 0, 0, 0, 0, 0, 0, 0, 0, 0, 0, 0, 0, 0, 0, 0, 0, 0, 0, 0, 0, 0, 0, 0, 0, 0, 0, 0, 0, 0, 0, 0, 0, 0, 0, 0, 0, 0, 0, 0, 0, 0, 0, 0, 0, 0, 0, 0, 0, 0, 0, 0, 0, 0, 0, 0, 0, 0, 0, 0, 0, 0, 0, 0, 0, 0, 0, 0, 0, 0, 0, 0, 0, 0, 0, 0, 0, 0, 0, 0, 0, 0, 0, 0, 0, 0, 0, 0, 0, 0, 0, 0, 0, 0, 0, 0, 0, 0, 0, 0, 0, 0, 0, 0, 0, 0, 0, 0, 0, 0, 0, 0, 0, 0, 0, 0, 0, 0, 0, 0, 0, 0, 0, 0, 0, 0, 0, 0, 0, 0, 0, 0, 0, 0, 0, 0, 0, 0, 0, 0, 0, 0, 0, 0, 0, 0, 0, 0, 0, 0, 0, 0, 0, 0, 0, 0, 0, 0, 0, 0, 0, 0, 0, 0, 0, 0, 0, 0, 0, 0, 0, 0, 0, 0, 0, 0, 0, 0, 0, 0, 0, 0, 0, 0, 0, 0, 0, 0, 0, 0, 0, 0, 0, 0, 0, 0, 0, 0, 0, 0, 0, 0, 0, 0, 0, 0, 0, 0, 0, 0, 0, 0, 0, 0, 0, 0, 0, 0, 0, 0, 0, 0, 0, 0, 0, 0, 0, 0, 0, 0, 0, 0, 0, 0, 0, 0, 0, 0, 0, 0, 0, 0, 0, 0, 0, 0, 0, 0, 0, 0, 0, 0, 0, 0, 0, 0, 0, 0, 0, 0, 0, 0, 0, 0, 0, 0, 0, 0, 0, 0, 0, 0, 0, 0, 0, 0, 0, 0, 0, 0, 0, 0, 0, 0, 0, 0, 0, 0, 0, 0, 0, 0, 0, 0, 0, 0, 0, 0, 0, 0, 0, 0, 0, 0, 0, 0, 0, 0, 0, 0, 0, 0, 0, 0, 0, 0, 0, 0, 0, 0, 0, 0, 0, 0, 0, 0, 0, 0, 0, 0, 0, 0, 0, 0, 0, 0, 0, 0, 0, 0, 0, 0, 0, 0, 0, 0, 0, 0, 0, 0, 0, 0, 1, 0, 0, 0, 0, 0, 0, 0, 0, 0, 0, 0, 0, 0, 0, 0, 0, 0, 0, 0, 0, 0, 0, 0, 0, 0, 0, 0, 0, 0, 0, 0, 0, 0, 0, 0, 0, 0, 0, 0, 0, 0, 0, 0, 0, 0, 0, 0, 0, 0, 0, 0, 0, 0, 0, 0, 0, 0, 0, 0, 0, 0, 0, 0, 0, 0, 0, 0, 0, 0, 0, 0, 0, 0, 0, 0, 0, 0, 0, 0, 0, 0, 0, 0, 0, 0, 0, 0, 0, 0, 0, 0, 0, 0, 0, 0, 0, 0, 0, 0, 0, 0, 0, 0, 0, 0, 0, 0, 0, 0, 0, 0, 0, 0, 0, 0, 0, 0, 0, 0, 0, 0, 0, 0, 0, 0, 0, 0, 0, 0, 0, 0, 0, 0, 0, 0, 0, 0, 0, 0, 0, 0, 0, 0, 0, 0, 0, 0, 0, 0, 0, 0, 0, 0, 0, 0, 0, 0, 0, 0, 0, 0, 0, 0, 0, 0, 0, 0, 0, 0, 0, 0, 0, 0, 0, 0, 0, 0, 0, 0, 0, 0, 0, 0, 0, 0, 0, 0, 0, 0, 0, 0, 0, 0, 0, 0, 0, 0, 0, 0, 0, 0, 0, 0, 0, 0, 0, 0, 0, 0, 0, 0, 0, 0, 0, 0, 0, 0, 0, 0, 0, 0, 0, 0, 0, 0, 0, 0, 0, 0, 0, 0, 0, 0, 0, 0, 0, 0, 0, 0, 0, 0, 0, 0, 0, 0, 0, 0, 0, 0, 0, 0, 0, 0, 1, 0, 0, 0, 0, 0, 0, 0, 0, 0, 0, 0, 0, 0, 0, 0, 0, 0, 0, 0, 0, 0, 0, 0, 0, 0, 0, 0, 0, 0, 0, 0, 0, 0, 0, 0, 0, 0, 0, 0, 0, 0, 0, 0, 0, 0, 0, 0, 0, 0, 0, 0, 0, 0, 0, 0, 0, 0, 0, 0, 0, 0, 0, 0, 0, 0, 0, 0, 0, 0, 0, 0, 0, 0, 0, 0, 0, 0, 0, 0, 0, 0, 0, 0, 0, 0, 0, 1, 0, 0, 0, 0, 0, 0, 0, 0, 0, 0, 0, 0, 0, 0, 0, 0, 0, 0, 0, 0, 0, 0, 0, 0, 0, 0, 0, 0, 0, 0, 0, 0, 0, 0, 0, 0, 0, 0, 0, 0, 0, 0, 0, 0, 0, 0, 0, 0, 0, 0, 0, 0, 0, 0, 0, 0, 0, 0, 0, 0, 0, 0, 0, 0, 0, 0, 0, 0, 0, 0, 0, 0, 0, 0, 0, 0, 0, 0, 0, 0, 0, 0, 0, 0, 0, 0, 0, 0, 0, 0, 0, 0, 0, 0, 0, 0, 0, 0, 0, 0, 0, 0, 0, 0, 0, 0, 0, 0, 0, 0, 0, 0, 0, 0, 0, 0, 0, 0, 0, 0, 0, 0, 0, 0, 0, 0, 0, 0, 0, 0, 0, 0, 0, 0, 0, 0, 0, 0, 0, 0, 0, 0, 0, 0, 0, 0, 0, 0, 0, 0, 0, 0, 0, 0, 0, 0, 0, 0, 0, 0, 0, 0, 0, 0, 0, 0, 0, 0, 0, 0, 0, 0, 0, 0, 0, 0, 0, 0, 0, 0, 0, 0, 0, 0, 0, 0, 0, 0, 0, 0, 0, 0, 0, 0, 0, 0, 0, 0, 0, 0, 0, 0, 0, 0, 0, 0, 0, 0, 0, 0, 0, 0, 0, 0, 0, 0, 0, 0, 0, 0, 0, 0, 0, 0, 0, 0, 0, 0, 0, 0, 0, 0, 0, 0, 0, 0, 0, 0, 0, 0, 0, 0, 0, 0, 0, 0, 0, 0, 0, 0, 0, 0, 1, 0, 0, 0, 0, 0, 0, 0, 0, 0, 0, 0, 0, 0, 0, 0, 0, 0, 0, 0, 0, 0, 0, 0, 0, 0, 0, 0, 0, 0, 0, 0, 0, 0, 0, 0, 0, 0, 0, 0, 0, 0, 0, 0, 0, 0, 0, 0, 0, 0, 0, 0, 0, 0, 0, 0, 1, 0, 0, 0, 0, 0, 0, 0, 0, 0, 0, 0, 0, 0, 0, 0, 0, 0, 0, 0, 0, 0, 0, 0, 0, 0, 0, 0, 0, 0, 0, 0, 0, 0, 0, 0, 0, 0, 0, 0, 0, 0, 0, 0, 0, 0, 0, 0, 0, 0, 0, 0, 0, 0, 0, 0, 0, 0, 0, 0, 0, 0, 0, 0, 0, 0, 0, 0, 0, 0, 0, 0, 0, 0, 0, 0, 0, 0, 0, 0, 0, 0, 0, 0, 0, 0, 0, 0, 0, 0, 0, 0, 0, 0, 0, 0, 0, 0, 0, 0, 0, 0, 0, 0, 0, 0, 0, 0, 0, 0, 0, 0, 0, 0, 0, 0, 0, 0, 0, 0, 0, 0, 0, 0, 0, 0, 0, 0, 0, 0, 0, 0, 0, 0, 0, 0, 0, 0, 0, 0, 0, 0, 0, 0, 0, 0, 0, 0, 0, 0, 0, 0, 0, 0, 0, 0, 0, 0, 0, 0, 0, 0, 0, 0, 0, 0, 0, 0, 0, 0, 0, 0, 0, 0, 0, 0, 0, 0, 0, 0, 0, 0, 0, 0, 0, 0, 0, 0, 0, 0, 0, 0, 0, 0, 0, 0, 0, 0, 0, 0, 0, 0, 0, 0, 0, 0, 0, 0, 0, 0, 0, 0, 0, 0, 0, 0, 0, 0, 0, 0, 0, 0, 0, 0, 0, 0, 0, 0, 0, 0, 0, 0, 0, 0, 0, 0, 0, 0, 0, 0, 0, 0, 0, 0, 0, 0, 0, 0, 0, 0, 0, 0, 0, 0, 0, 0, 0, 0, 0, 0, 0, 0, 0, 0, 0, 0, 0, 0, 0, 0, 0, 0, 0, 0, 0, 0, 0, 0, 0, 0, 0, 0, 0, 0, 0, 0, 0, 0, 0, 0, 0, 0, 0, 0, 0, 0, 0, 0, 0, 0, 0, 0, 0, 0, 0, 0, 0, 0, 0, 0, 0, 0, 0, 0, 0, 0, 0, 0, 0, 0, 0, 0, 0, 0, 0, 0, 0, 0, 0, 0, 0, 0, 0, 0, 0, 0, 0, 0, 0, 0, 0, 0, 0, 0, 0, 0, 0, 0, 0, 0, 0, 0, 0, 0, 0, 0, 0, 0, 0, 0, 0, 0, 0, 0, 0, 0, 0, 0, 0, 0, 0, 0, 0, 0, 0, 0, 0, 0, 0, 0, 0, 0, 0, 0, 0, 0, 0, 0, 0, 0, 0, 0, 0, 0, 0, 0, 0, 0, 0, 0, 0, 0, 0, 0, 0, 0, 0, 0, 0, 0, 0, 0, 0, 0, 0, 0, 0, 0, 0, 0, 0, 0, 0, 0, 0, 0, 0, 0, 0, 0, 0, 0, 0, 0, 0, 0, 0, 0, 0, 0, 0, 0, 0, 0, 0, 0, 0, 0, 0, 0, 0, 0, 0, 0, 0, 0, 0, 0, 0, 0, 0, 0, 0, 0, 0, 0, 0, 0, 0, 0, 0, 0, 0, 0, 0, 0, 0, 0, 0, 0, 0, 0, 0, 0, 0, 0, 0, 0, 0, 0, 0, 0, 0, 0, 0, 0, 0, 0, 0, 0, 0, 0, 0, 0, 0, 0, 0, 0, 0, 0, 0, 0, 0, 0, 0, 0, 0, 0, 0, 0, 0, 0, 0, 0, 0, 0, 0, 0, 0, 0, 0, 0, 0, 0, 0, 0, 0, 0, 0, 0, 0, 0, 0, 0, 0, 0, 0, 0, 0, 0, 0, 0, 0, 0, 0, 0, 0, 0, 0, 0, 0, 0, 0, 0, 0, 0, 0, 0, 0, 0, 0, 0, 0, 0, 0, 0, 0, 0, 0, 0, 0, 0, 0, 0, 0, 0, 0, 0, 0, 0, 0, 0, 0, 0, 0, 0, 0, 0, 0, 0, 0, 0, 0, 0, 0, 0, 0, 0, 0, 0, 0, 0, 0, 0, 0, 0, 0, 0, 0, 0, 0, 0, 0, 0, 0, 0, 0, 0, 0, 0, 0, 0, 0, 0, 0, 0, 0, 0, 0, 0, 0, 0, 0, 0, 0, 0, 0, 0, 0, 0, 0, 0, 0, 0, 0, 0, 0, 0, 0, 0, 0, 0, 0, 0, 0, 0, 0, 0, 0, 0, 0, 0, 0, 0, 0, 0, 0, 0, 0, 0, 0, 0, 1, 0, 0, 0, 0, 0, 0, 0, 0, 0, 0, 0, 0, 0, 0, 0, 0, 0, 0, 0, 0, 0, 0, 0, 0, 0, 0, 0, 0, 0, 0, 0, 0, 0, 0, 0, 0, 0, 0, 0, 0, 0, 0, 0, 0, 0, 0, 0, 0, 0, 0, 0, 0, 0, 0, 0, 0, 0, 0, 0, 0, 0, 0, 0, 0, 0, 0, 0, 0, 0, 0, 0, 0, 0, 0, 1, 0, 0, 0, 0, 0, 0, 0, 0, 0, 0, 0, 0, 0, 0, 0, 0, 0, 0, 0, 0, 1, 0, 0, 1, 0, 0, 0, 0, 0, 0, 0, 0, 0, 0, 0, 0, 0, 0, 0, 0, 0, 0, 0, 0, 0, 0, 0, 0, 0, 0, 0, 0, 0, 0, 0, 0, 0, 0, 0, 0, 0, 0, 0, 0, 0, 0, 0, 0, 0, 0, 0, 0, 0, 0, 0, 0, 0, 0, 0, 0, 0, 0, 0, 0, 0, 0, 0, 0, 0, 0, 0, 0, 0, 0, 0, 0, 0, 0, 0, 0, 0, 0, 0, 0, 0, 0, 0, 0, 0, 0, 0, 0, 0, 0, 0, 0, 0, 0, 0, 0, 0, 0, 0, 0, 0, 0, 0, 0, 0, 0, 0, 0, 0, 0, 0, 0, 0, 0, 0, 0, 0, 0, 0, 0, 0, 0, 0, 0, 0, 0, 0, 0, 0, 0, 0, 0, 0, 0, 0, 0, 0, 0, 0, 0, 0, 0, 0, 0, 0, 0, 0, 0, 0, 0, 0, 0, 0, 0, 0, 0, 0, 0, 0, 0, 0, 0, 0, 0, 0, 0, 0, 0, 0, 0, 0, 0, 0, 0, 0, 0, 0, 0, 0, 0, 0, 0, 0, 0, 0, 0, 0, 0, 0, 0, 0, 0, 0, 0, 0, 0, 0, 0, 0, 0, 0, 0, 0, 0, 0, 0, 0, 0, 0, 0, 0, 0, 0, 0, 0, 0, 0, 0, 0, 0, 0, 0, 0, 0, 0, 0, 0, 0, 0, 0, 0, 0, 0, 0, 0, 0, 0, 0, 0, 0, 0, 0, 0, 0, 0, 0, 0, 0, 0, 0, 0, 0, 0, 0, 0, 0, 0, 0, 0, 0, 0, 0, 0, 0, 0, 0, 0, 0, 0, 0, 0, 0, 0, 0, 0, 0, 0, 0, 0, 0, 0, 0, 0, 0, 0, 0, 0, 0, 0, 0, 0, 0, 0, 0, 0, 0, 0, 0, 0, 0, 0, 0, 0, 0, 0, 0, 0, 0, 0, 0, 0, 0, 0, 0, 0, 0, 0, 0, 0, 0, 0, 0, 0, 0, 0, 0, 0, 0, 0, 0, 0, 0, 0, 0, 0, 0, 0, 0, 0, 0, 0, 0, 0, 0, 0, 0, 0, 0, 0, 0, 0, 0, 0, 0, 0, 0, 0, 0, 0, 0, 0, 0, 0, 0, 0, 0, 0, 0, 0, 0, 0, 0, 0, 0, 0, 0, 0, 0, 0, 0, 0, 0, 0, 0, 0, 0, 0, 0, 0, 0, 0, 0, 0, 0, 0, 0, 0, 0, 0, 0, 0, 0, 0, 0, 0, 0, 0, 0, 0, 0, 0, 0, 0, 0, 0, 0, 0, 0, 0, 0, 0, 0, 0, 0, 0, 0, 0, 0, 0, 0, 0, 0, 0, 0, 0, 0, 0, 0, 0, 0, 0, 0, 0, 0, 0, 0, 0, 0, 0, 0, 0, 0, 0, 0, 0, 0, 0, 0, 0, 0, 0, 0, 0, 0, 0, 0, 1, 0, 0, 0, 0, 0, 0, 0, 0, 0, 0, 0, 0, 0, 0, 0, 0, 0, 0, 0, 0, 0, 0, 0, 0, 0, 0, 0, 0, 0, 0, 0, 0, 0, 0, 0, 0, 0, 0, 0, 0, 0, 0, 0, 0, 0, 0, 0, 0, 0, 0, 0, 0, 0, 0, 0, 0, 0, 0, 0, 0, 0, 0, 0, 0, 0, 0, 0, 0, 0, 0, 0, 0, 0, 0, 0, 0, 0, 0, 0, 0, 0, 0, 0, 0, 0, 0, 0, 0, 0, 0, 0, 0, 0, 0, 0, 0, 0, 0, 0, 0, 0, 0, 0, 0, 0, 0, 0, 0, 0, 0, 0, 0, 0, 0, 0, 0, 0, 0, 0, 0, 0, 0, 0, 0, 0, 0, 0, 0, 0, 0, 0, 0, 0, 0, 0, 0, 0, 0, 0, 0, 0, 0, 0, 0, 0, 0, 0, 0, 0, 0, 0, 0, 0, 0, 0, 0, 0, 0, 0, 0, 0, 0, 0, 0, 0, 0, 0, 0, 0, 0, 0, 0, 0, 0, 0, 0, 0, 0, 0, 0, 0, 0, 0, 0, 0, 0, 0, 0, 0, 0, 0, 0, 0, 0, 0, 0, 0, 0, 0, 0, 0, 0, 0, 0, 0, 0, 0, 0, 0, 0, 0, 0, 0, 0, 0, 0, 0, 0, 0, 0, 0, 0, 0, 0, 0, 0, 0, 0, 0, 0, 0, 0, 0, 0, 0, 0, 0, 0, 0, 0, 0, 0, 0, 0, 0, 0, 0, 0, 0, 0, 0, 0, 0, 0, 0, 0, 0, 0, 0, 0, 0, 0, 0, 0, 0, 0, 0, 0, 0, 0, 0, 0, 0, 0, 0, 0, 0, 0, 0, 0, 0, 0, 0, 0, 0, 0, 0, 0, 0, 0, 0, 0, 0, 0, 0, 0, 0, 0, 0, 0, 0, 0, 0, 0, 0, 0, 0, 0, 0, 0, 0, 0, 0, 0, 0, 0, 0, 0, 0, 0, 0, 0, 0, 0, 0, 0, 0, 0, 0, 0, 0, 0, 0, 0, 0, 0, 0, 0, 0, 0, 0, 0, 0, 0, 0, 0, 0, 0, 0, 0, 0, 0, 0, 0, 0, 0, 0, 0, 0, 0, 0, 0, 0, 0, 0, 0, 0, 0, 0, 0, 0, 0, 0, 0, 0, 0, 0, 0, 0, 0, 0, 0, 0, 0, 0, 0, 0, 0, 0, 0, 0, 0, 0, 0, 0, 0, 0, 0, 0, 0, 0, 0, 0, 0, 0, 0, 0, 0, 0, 0, 0, 0, 0, 0, 0, 0, 0, 0, 0, 0, 0, 0, 0, 0, 0, 0, 0, 0, 0, 0, 0, 0, 0, 0, 0, 0, 0, 0, 0, 0, 0, 0, 0, 0, 0, 0, 0, 0, 0, 0, 0, 0, 0, 0, 0, 0, 0, 0, 0, 0, 0, 0, 0, 0, 0, 0, 0, 0, 0, 0, 0, 0, 0, 0, 0, 0, 0, 0, 0, 0, 0, 0, 0, 0, 0, 0, 0, 0, 0, 0, 0, 0, 0, 0, 0, 0, 0, 0, 0, 0, 0, 0, 0, 0, 0, 0, 0, 0, 0, 0, 0, 0, 1, 0, 0, 0, 0, 0, 0, 0, 0, 0, 0, 0, 0, 0, 0, 0, 0, 0, 0, 0, 0, 0, 0, 0, 0, 0, 0, 0, 0, 0, 0, 0, 0, 0, 0, 0, 2, 0, 0, 0, 0, 0, 0, 0, 0, 0, 0, 0, 0, 0, 0, 0, 0, 0, 0, 0, 0, 0, 0, 0, 0, 0, 0, 0, 0, 0, 0, 0, 0, 0, 0, 0, 0, 0, 0, 0, 0, 1, 0, 0, 0, 0, 0, 0, 0, 0, 0, 0, 0, 0, 0, 0, 0, 0, 0, 0, 0, 0, 0, 0, 0, 0, 0, 0, 0, 0, 0, 0, 0, 0, 0, 0, 0, 0, 0, 0, 0, 0, 0, 0, 0, 0, 0, 0, 0, 0, 0, 0, 0, 0, 0, 0, 0, 0, 0, 0, 0, 0, 0, 0, 0, 0, 0, 0, 0, 0, 0, 0, 0, 0, 0, 0, 0, 0, 0, 0, 0, 0, 0, 0, 0, 0, 0, 0, 0, 0, 0, 0, 0, 0, 0, 0, 0, 0, 0, 0, 0, 0, 0, 0, 0, 0, 0, 0, 0, 0, 0, 0, 0, 0, 0, 0, 0, 0, 0, 0, 0, 0, 0, 0, 0, 0, 0, 0, 0, 0, 0, 0, 0, 0, 0, 0, 0, 0, 0, 0, 0, 0, 0, 0, 0, 0, 0, 0, 0, 0, 0, 0, 0, 0, 0, 0, 0, 0, 0, 0, 0, 0, 0, 0, 0, 0, 0, 0, 0, 0, 0, 0, 0, 0, 0, 0, 0, 0, 0, 0, 0, 0, 0, 0, 0, 0, 0, 0, 0, 0, 0, 0, 0, 0, 0, 0, 0, 0, 0, 0, 0, 0, 0, 0, 0, 0, 0, 0, 0, 0, 0, 0, 0, 0, 0, 0, 0, 0, 0, 0, 0, 0, 0, 0, 0, 0, 0, 0, 0, 0, 0, 0, 0, 0, 0, 0, 0, 0, 0, 0, 0, 0, 0, 0, 0, 0, 0, 0, 0, 0, 0, 0, 0, 0, 0, 0, 0, 0, 0, 0, 0, 0, 0, 0, 0, 0, 0, 0, 0, 0, 0, 0, 0, 0, 0, 0, 0, 0, 0, 0, 0, 0, 0, 0, 0, 0, 0, 0, 0, 0, 0, 0, 0, 0, 0, 0, 0, 0, 0, 0, 0, 0, 0, 0, 0, 0, 0, 0, 0, 0, 0, 0, 0, 0, 0, 0, 0, 0, 0, 0, 0, 0, 0, 0, 0, 0, 0, 0, 0, 0, 0, 0, 0, 0, 0, 0, 0, 0, 0, 0, 0, 0, 0, 0, 0, 0, 0, 0, 0, 0, 0, 0, 0, 0, 0, 0, 0, 0, 0, 0, 0, 0, 0, 0, 0, 0, 0, 0, 0, 0, 0, 0, 0, 0, 0, 0, 0, 0, 0, 0, 0, 0, 0, 0, 0, 0, 0, 0, 0, 0, 0, 0, 0, 0, 0, 0, 0, 0, 0, 0, 0, 0, 0, 0, 0, 0, 0, 0, 0, 0, 0, 0, 0, 0, 0, 0, 0, 0, 0, 0, 0, 0, 0, 0, 0, 0, 0, 0, 0, 0, 0, 0, 0, 0, 0, 0, 0, 0, 0, 0, 0, 0, 0, 0, 0, 0, 0, 0, 0, 0, 0, 0, 0, 0, 0, 0, 0, 0, 0, 0, 0, 0, 0, 0, 0, 0, 0, 0, 0, 0, 0, 0, 0, 0, 0, 0, 0, 0, 0, 0, 0, 0, 0, 0, 0, 0, 0, 0, 0, 0, 0, 0, 0, 0, 0, 0, 0, 0, 0, 1, 0, 0, 0, 0, 0, 0, 0, 0, 0, 0, 0, 0, 0, 0, 0, 0, 0, 0, 0, 0, 0, 0, 0, 0, 0, 0, 0, 0, 0, 0, 0, 0, 0, 0, 0, 0, 0, 0, 0, 0, 0, 0, 0, 0, 0, 0, 0, 0, 0, 0, 0, 0, 0, 0, 0, 0, 0, 0, 0, 0, 0, 0, 0, 0, 0, 0, 0, 0, 0, 0, 0, 0, 0, 0, 0, 0, 0, 0, 0, 0, 0, 0, 0, 0, 0, 0, 0, 0, 0, 0, 0, 0, 0, 0, 0, 0, 0, 0, 0, 0, 0, 0, 0, 0, 0, 0, 0, 0, 0, 0, 2, 0, 0, 0, 0, 0, 0, 0, 0, 0, 0, 0, 0, 0, 0, 0, 0, 0, 0, 0, 0, 0, 0, 0, 0, 0, 0, 0, 0, 0, 0, 0, 0, 0, 0, 0, 0, 0, 0, 0, 0, 0, 0, 0, 0, 0, 0, 0, 0, 0, 0, 0, 0, 0, 0, 0, 0, 0, 0, 0, 0, 0, 0, 0, 0, 0, 0, 0, 0, 0, 0, 0, 0, 0, 0, 0, 0, 0, 0, 0, 0, 0, 0, 0, 0, 0, 0, 0, 0, 0, 0, 0, 0, 0, 0, 0, 0, 0, 0, 0, 0, 0, 0, 0, 0, 0, 0, 0, 0, 0, 0, 0, 0, 0, 0, 0, 0, 0, 0, 0, 0, 0, 0, 0, 0, 0, 0, 0, 0, 0, 0, 0, 0, 0, 0, 0, 0, 0, 0, 0, 0, 0, 0, 0, 0, 0, 0, 0, 0, 0, 0, 0, 0, 0, 0, 0, 0, 0, 0, 0, 0, 0, 0, 0, 0, 0, 0, 0, 0, 0, 0, 0, 0, 0, 0, 0, 0, 0, 0, 0, 0, 0, 0, 0, 0, 0, 0, 0, 0, 0, 0, 0, 0, 0, 0, 0, 0, 0, 0, 0, 0, 0, 0, 0, 0, 0, 0, 0, 0, 0, 0, 0, 0, 0, 0, 0, 0, 0, 0, 0, 0, 0, 0, 0, 0, 0, 0, 0, 0, 0, 0, 0, 0, 0, 0, 0, 0, 0, 0, 0, 0, 0, 0, 0, 0, 0, 0, 0, 0, 0, 0, 0, 0, 0, 0, 0, 0, 0, 0, 0, 0, 0, 0, 0, 0, 0, 0, 0, 0, 0, 0, 0, 0, 0, 0, 0, 0, 0, 0, 0, 0, 0, 0, 0, 0, 0, 0, 0, 0, 0, 0, 0, 0, 0, 0, 0, 0, 0, 0, 0, 0, 0, 0, 0, 0, 0, 0, 0, 0, 0, 0, 0, 0, 0, 0, 0, 0, 0, 0, 0, 0, 0, 0, 0, 0, 0, 0, 0, 0, 0, 0, 0, 0, 0, 0, 0, 0, 0, 0, 0, 0, 0, 0, 0, 0, 0, 0, 0, 0, 0, 0, 0, 0, 0, 0, 0, 0, 0, 0, 0, 0, 0, 0, 0, 0, 0, 0, 0, 0, 0, 0, 0, 0, 0, 0, 0, 0, 0, 0, 0, 0, 0, 0, 0, 0, 0, 0, 0, 0, 0, 0, 0, 0, 0, 0, 0, 0, 0, 0, 0, 0, 0, 0, 0, 0, 0, 0, 0, 0, 0, 0, 0, 0, 0, 0, 0, 0, 0, 0, 0, 0, 0, 0, 0, 0, 0, 0, 0, 0, 0, 0, 0, 0, 0, 0, 0, 0, 0, 0, 0, 0, 0, 0, 0, 0, 0, 0, 0, 0, 0, 0, 0, 0, 0, 0, 0, 0, 0, 0, 0, 0, 0, 0, 0, 0, 0, 0, 0, 0, 0, 0, 0, 0, 0, 0, 0, 0, 0, 0, 0, 0, 0, 0, 0, 0, 0, 0, 0, 0, 0, 0, 0, 0, 0, 0, 0, 0, 0, 0, 0, 0, 0, 0, 0, 0, 0, 0, 0, 0, 0, 0, 0, 0, 0, 0, 0, 0, 0, 0, 0, 0, 0, 0, 0, 0, 0, 0, 0, 0, 0, 0, 0, 0, 0, 0, 0, 0, 0, 0, 0, 0, 0, 0, 0, 0, 0, 0, 0, 0, 0, 0, 0, 0, 0, 0, 0, 0, 0, 0, 0, 0, 0, 0, 0, 0, 0, 0, 0, 0, 0, 0, 0, 0, 0, 0, 0, 0, 0, 0, 0, 0, 0, 0, 0, 0, 0, 0, 0, 0, 0, 0, 0, 0, 0, 0, 0, 0, 0, 0, 0, 0, 0, 0, 0, 0, 0, 0, 0, 0, 0, 0, 0, 0, 0, 0, 0, 0, 0, 0, 0, 0, 0, 0, 0, 0, 0, 0, 0, 0, 0, 0, 0, 0, 0, 0, 0, 0, 0, 0, 0, 0, 0, 0, 0, 0, 0, 0, 0, 0, 0, 0, 0, 0, 0, 0, 0, 0, 0, 0, 0, 0, 0, 0, 0, 0, 0, 0, 0, 0, 0, 0, 0, 0, 0, 0, 0, 0, 0, 0, 0, 0, 0, 0, 0, 0, 0, 0, 0, 0, 0, 0, 1, 0, 0, 0, 0, 0, 0, 0, 0, 0, 0, 0, 0, 0, 0, 0, 0, 0, 0, 0, 0, 0, 0, 0, 0, 0, 0, 0, 0, 0, 0, 0, 0, 0, 0, 0, 0, 0, 0, 0, 0, 0, 0, 0, 0, 0, 0, 0, 0, 0, 0, 0, 0, 0, 0, 0, 0, 0, 0, 0, 0, 0, 0, 0, 0, 0, 0, 0, 0, 0, 0, 0, 0, 0, 0, 0, 0, 0, 0, 0, 0, 0, 0, 0, 0, 0, 0, 0, 0, 0, 0, 0, 0, 0, 0, 0, 0, 0, 0, 0, 0, 0, 0, 0, 0, 0, 0, 0, 1, 0, 0, 0, 0, 0, 0, 0, 0, 0, 0, 0, 0, 0, 0, 0, 0, 0, 0, 0, 0, 0, 0, 0, 0, 0, 0, 0, 0, 0, 0, 0, 0, 0, 0, 0, 0, 0, 0, 0, 0, 0, 0, 0, 0, 0, 0, 0, 0, 0, 0, 0, 0, 0, 0, 0, 0, 0, 0, 0, 0, 0, 0, 0, 0, 0, 0, 0, 0, 0, 0, 0, 0, 0, 0, 0, 0, 0, 0, 0, 0, 0, 0, 0, 0, 0, 0, 0, 0, 0, 0, 0, 0, 0, 0, 0, 0, 0, 0, 0, 0, 0, 0, 0, 0, 0, 0, 0, 0, 0, 0, 0, 0, 0, 0, 0, 0, 0, 0, 0, 0, 0, 0, 0, 0, 0, 0, 0, 0, 0, 0, 0, 0, 0, 0, 0, 0, 0, 0, 0, 0, 0, 0, 0, 0, 0, 0, 0, 0, 0, 0, 0, 0, 0, 0, 0, 0, 0, 0, 0, 0, 0, 0, 0, 0, 0, 0, 0, 0, 0, 0, 0, 0, 0, 0, 0, 0, 0, 0, 0, 0, 0, 0, 0, 0, 0, 0, 0, 0, 0, 0, 0, 0, 0, 0, 0, 0, 0, 0, 0, 0, 0, 0, 0, 0, 0, 0, 0, 0, 0, 0, 0, 0, 0, 0, 0, 0, 0, 0, 0, 0, 0, 0, 0, 0, 0, 0, 0, 0, 0, 0, 0, 0, 0, 0, 0, 0, 0, 0, 0, 0, 0, 0, 0, 0, 0, 0, 0, 0, 0, 0, 0, 0, 0, 0, 0, 0, 0, 0, 0, 0, 0, 0, 0, 0, 0, 0, 0, 0, 0, 0, 0, 0, 0, 0, 0, 0, 0, 0, 0, 0, 0, 0, 0, 0, 0, 0, 0, 0, 0, 0, 0, 0, 0, 0, 0, 0, 0, 0, 0, 0, 0, 0, 0, 0, 0, 0, 0, 0, 0, 0, 0, 0, 0, 0, 0, 0, 0, 0, 0, 0, 0, 0, 0, 0, 0, 0, 0, 0, 0, 0, 0, 0, 0, 0, 0, 0, 0, 0, 0, 0, 0, 0, 0, 0, 0, 0, 0, 0, 0, 0, 0, 0, 0, 0, 0, 0, 0, 0, 0, 0, 0, 0, 0, 0, 0, 0, 0, 0, 0, 0, 0, 0, 0, 0, 0, 0, 0, 0, 0, 0, 0, 0, 0, 0, 0, 0, 0, 0, 0, 0, 0, 0, 0, 0, 0, 0, 0, 0, 0, 0, 0, 0, 0, 0, 0, 0, 0, 0, 0, 0, 0, 0, 0, 0, 0, 0, 0, 0, 0, 0, 0, 0, 0, 0, 0, 0, 0, 0, 0, 0, 0, 0, 0, 0, 0, 0, 0, 0, 0, 0, 0, 0, 0, 0, 0, 0, 0, 0, 0, 0, 0, 0, 0, 0, 0, 0, 0, 0, 0, 0, 0, 0, 0, 2, 0, 1, 0]\n"
     ]
    }
   ],
   "source": [
    "test_bow = bow_encoding(test_words, vocabulary)\n",
    "print(test_bow)"
   ]
  },
  {
   "cell_type": "code",
   "execution_count": 49,
   "metadata": {},
   "outputs": [
    {
     "data": {
      "text/plain": [
       "5000"
      ]
     },
     "execution_count": 49,
     "metadata": {},
     "output_type": "execute_result"
    }
   ],
   "source": [
    "len(test_bow)"
   ]
  },
  {
   "cell_type": "markdown",
   "metadata": {},
   "source": [
    "So now we know how to construct a bag of words encoding of a user provided review, how to we send it to our endpoint? First, we need to start the endpoint back up."
   ]
  },
  {
   "cell_type": "code",
   "execution_count": 50,
   "metadata": {},
   "outputs": [
    {
     "name": "stdout",
     "output_type": "stream",
     "text": [
      "-----------!"
     ]
    }
   ],
   "source": [
    "# xgb_predictor = xgb.deploy(initial_instance_count = 1, instance_type = 'ml.m4.xlarge')\n",
    "xgb_predictor = estimator.deploy(initial_instance_count = 1, instance_type = 'ml.m4.xlarge')"
   ]
  },
  {
   "cell_type": "markdown",
   "metadata": {},
   "source": [
    "At this point we could just do the same thing that we did earlier when we tested our deployed model and send `test_bow` to our endpoint using the `xgb_predictor` object. However, when we eventually construct our Lambda function we won't have access to this object, so how do we call a SageMaker endpoint?\n",
    "\n",
    "It turns out that Python functions that are used in Lambda have access to another Amazon library called `boto3`. This library provides an API for working with Amazon services, including SageMaker. To start with, we need to get a handle to the SageMaker runtime."
   ]
  },
  {
   "cell_type": "code",
   "execution_count": 51,
   "metadata": {},
   "outputs": [],
   "source": [
    "import boto3\n",
    "\n",
    "runtime = boto3.Session().client('sagemaker-runtime')"
   ]
  },
  {
   "cell_type": "markdown",
   "metadata": {},
   "source": [
    "And now that we have access to the SageMaker runtime, we can ask it to make use of (invoke) an endpoint that has already been created. However, we need to provide SageMaker with the name of the deployed endpoint. To find this out we can print it out using the `xgb_predictor` object."
   ]
  },
  {
   "cell_type": "code",
   "execution_count": 52,
   "metadata": {},
   "outputs": [
    {
     "name": "stderr",
     "output_type": "stream",
     "text": [
      "The endpoint attribute has been renamed in sagemaker>=2.\n",
      "See: https://sagemaker.readthedocs.io/en/stable/v2.html for details.\n"
     ]
    },
    {
     "data": {
      "text/plain": [
       "'sagemaker-xgboost-2022-06-30-12-59-32-869'"
      ]
     },
     "execution_count": 52,
     "metadata": {},
     "output_type": "execute_result"
    }
   ],
   "source": [
    "xgb_predictor.endpoint"
   ]
  },
  {
   "cell_type": "markdown",
   "metadata": {},
   "source": [
    "Using the SageMaker runtime and the name of our endpoint, we can invoke the endpoint and send it the `test_bow` data."
   ]
  },
  {
   "cell_type": "code",
   "execution_count": 58,
   "metadata": {},
   "outputs": [
    {
     "ename": "ParamValidationError",
     "evalue": "Parameter validation failed:\nInvalid type for parameter Body, value: [0, 0, 0, 0, 0, 0, 0, 0, 0, 0, 0, 0, 0, 0, 0, 0, 0, 0, 0, 0, 0, 0, 0, 0, 0, 0, 0, 0, 0, 0, 0, 0, 0, 0, 0, 0, 0, 0, 0, 0, 0, 0, 0, 0, 0, 0, 0, 0, 0, 0, 0, 0, 0, 0, 0, 0, 0, 0, 0, 0, 0, 0, 0, 0, 0, 0, 0, 0, 0, 0, 0, 0, 0, 0, 0, 0, 0, 0, 0, 0, 0, 0, 0, 0, 0, 0, 0, 0, 0, 0, 0, 0, 0, 0, 0, 0, 0, 0, 0, 0, 0, 0, 0, 0, 0, 0, 0, 0, 0, 0, 0, 0, 0, 0, 0, 0, 0, 0, 0, 0, 0, 0, 0, 0, 0, 0, 0, 0, 0, 0, 0, 0, 0, 0, 0, 0, 0, 0, 0, 0, 0, 0, 0, 0, 0, 0, 0, 0, 0, 0, 0, 0, 0, 0, 0, 0, 0, 0, 0, 0, 0, 0, 0, 0, 0, 0, 0, 0, 0, 0, 0, 0, 0, 0, 0, 0, 0, 0, 0, 0, 0, 0, 0, 0, 0, 0, 0, 0, 0, 0, 0, 0, 0, 0, 0, 0, 0, 0, 0, 0, 0, 0, 0, 0, 0, 0, 0, 0, 0, 0, 0, 0, 0, 0, 0, 0, 0, 0, 0, 0, 0, 0, 0, 0, 0, 0, 1, 0, 0, 0, 0, 0, 0, 0, 0, 0, 0, 0, 0, 0, 0, 0, 0, 0, 0, 0, 0, 0, 0, 0, 0, 0, 0, 0, 0, 0, 1, 0, 0, 0, 0, 0, 0, 0, 0, 0, 0, 0, 0, 0, 0, 0, 0, 0, 0, 0, 0, 0, 0, 0, 0, 0, 0, 0, 0, 0, 0, 0, 0, 0, 0, 0, 0, 0, 0, 0, 0, 0, 0, 0, 0, 0, 0, 0, 0, 0, 0, 0, 0, 0, 0, 0, 0, 0, 0, 0, 0, 0, 0, 0, 0, 0, 0, 0, 0, 0, 0, 0, 0, 0, 0, 0, 0, 0, 0, 0, 0, 0, 0, 0, 0, 0, 0, 0, 0, 0, 0, 0, 0, 0, 0, 0, 0, 0, 0, 0, 0, 0, 0, 0, 0, 0, 0, 0, 0, 0, 0, 0, 0, 0, 0, 0, 0, 0, 0, 0, 0, 0, 0, 0, 0, 0, 0, 0, 0, 0, 0, 0, 0, 0, 0, 0, 0, 0, 0, 0, 0, 0, 0, 0, 0, 0, 0, 0, 0, 0, 0, 0, 0, 0, 0, 0, 0, 0, 0, 0, 0, 0, 0, 0, 0, 0, 0, 0, 0, 0, 0, 0, 0, 0, 0, 0, 0, 0, 0, 0, 0, 0, 0, 0, 0, 0, 0, 0, 0, 0, 0, 0, 0, 0, 0, 0, 0, 0, 0, 0, 0, 0, 0, 0, 0, 0, 0, 0, 0, 0, 0, 0, 0, 0, 0, 0, 0, 0, 0, 0, 0, 0, 0, 0, 0, 0, 0, 0, 0, 0, 0, 0, 0, 0, 0, 0, 0, 0, 0, 0, 0, 0, 0, 0, 0, 0, 0, 0, 0, 0, 0, 0, 0, 0, 0, 0, 0, 0, 0, 0, 0, 0, 0, 0, 0, 0, 0, 0, 0, 0, 0, 0, 0, 0, 0, 0, 0, 0, 0, 0, 0, 0, 0, 0, 0, 0, 0, 0, 0, 0, 0, 0, 0, 0, 0, 0, 0, 0, 0, 0, 0, 0, 0, 0, 0, 0, 0, 0, 0, 0, 0, 0, 0, 0, 0, 0, 0, 0, 0, 0, 0, 0, 0, 0, 0, 0, 0, 0, 0, 0, 0, 0, 0, 0, 0, 0, 0, 0, 0, 0, 0, 0, 0, 0, 0, 0, 0, 0, 0, 0, 0, 0, 0, 0, 0, 0, 0, 0, 0, 0, 0, 0, 0, 0, 0, 0, 0, 0, 0, 0, 0, 0, 0, 0, 0, 0, 0, 0, 0, 0, 1, 0, 0, 0, 0, 0, 0, 0, 0, 0, 0, 0, 0, 0, 0, 0, 0, 0, 0, 0, 0, 0, 0, 0, 0, 0, 0, 0, 0, 0, 0, 0, 0, 0, 0, 0, 0, 0, 0, 0, 0, 0, 0, 0, 0, 0, 0, 0, 0, 0, 0, 0, 0, 0, 0, 0, 0, 0, 0, 0, 0, 0, 0, 0, 0, 0, 0, 0, 0, 0, 0, 0, 0, 0, 0, 0, 0, 0, 0, 0, 0, 0, 0, 0, 0, 0, 0, 0, 0, 0, 0, 0, 0, 0, 0, 0, 0, 0, 0, 0, 0, 0, 0, 0, 0, 0, 0, 0, 0, 0, 0, 0, 0, 0, 0, 0, 0, 0, 0, 0, 0, 0, 0, 0, 0, 0, 0, 0, 0, 0, 0, 0, 0, 0, 0, 0, 0, 0, 0, 0, 0, 0, 0, 0, 0, 0, 0, 0, 0, 0, 0, 0, 0, 0, 0, 0, 0, 0, 0, 0, 0, 0, 0, 0, 0, 0, 0, 0, 0, 0, 0, 0, 0, 0, 0, 0, 0, 0, 0, 0, 0, 0, 0, 0, 0, 0, 0, 0, 0, 0, 0, 0, 0, 0, 0, 0, 0, 0, 0, 0, 0, 0, 0, 0, 0, 0, 0, 0, 0, 0, 0, 0, 0, 0, 0, 0, 0, 0, 0, 0, 0, 0, 0, 0, 0, 0, 0, 0, 0, 0, 0, 0, 0, 0, 0, 0, 0, 0, 0, 0, 0, 0, 0, 0, 0, 0, 0, 0, 0, 0, 0, 0, 0, 0, 1, 0, 0, 0, 0, 0, 0, 0, 0, 0, 0, 0, 0, 0, 0, 0, 0, 0, 0, 0, 0, 0, 0, 0, 0, 0, 0, 0, 0, 0, 0, 0, 0, 0, 0, 0, 0, 0, 0, 0, 0, 0, 0, 0, 0, 0, 0, 0, 0, 0, 0, 0, 0, 0, 0, 0, 0, 0, 0, 0, 0, 0, 0, 0, 0, 0, 0, 0, 0, 0, 0, 0, 0, 0, 0, 0, 0, 0, 0, 0, 0, 0, 0, 0, 0, 0, 0, 1, 0, 0, 0, 0, 0, 0, 0, 0, 0, 0, 0, 0, 0, 0, 0, 0, 0, 0, 0, 0, 0, 0, 0, 0, 0, 0, 0, 0, 0, 0, 0, 0, 0, 0, 0, 0, 0, 0, 0, 0, 0, 0, 0, 0, 0, 0, 0, 0, 0, 0, 0, 0, 0, 0, 0, 0, 0, 0, 0, 0, 0, 0, 0, 0, 0, 0, 0, 0, 0, 0, 0, 0, 0, 0, 0, 0, 0, 0, 0, 0, 0, 0, 0, 0, 0, 0, 0, 0, 0, 0, 0, 0, 0, 0, 0, 0, 0, 0, 0, 0, 0, 0, 0, 0, 0, 0, 0, 0, 0, 0, 0, 0, 0, 0, 0, 0, 0, 0, 0, 0, 0, 0, 0, 0, 0, 0, 0, 0, 0, 0, 0, 0, 0, 0, 0, 0, 0, 0, 0, 0, 0, 0, 0, 0, 0, 0, 0, 0, 0, 0, 0, 0, 0, 0, 0, 0, 0, 0, 0, 0, 0, 0, 0, 0, 0, 0, 0, 0, 0, 0, 0, 0, 0, 0, 0, 0, 0, 0, 0, 0, 0, 0, 0, 0, 0, 0, 0, 0, 0, 0, 0, 0, 0, 0, 0, 0, 0, 0, 0, 0, 0, 0, 0, 0, 0, 0, 0, 0, 0, 0, 0, 0, 0, 0, 0, 0, 0, 0, 0, 0, 0, 0, 0, 0, 0, 0, 0, 0, 0, 0, 0, 0, 0, 0, 0, 0, 0, 0, 0, 0, 0, 0, 0, 0, 0, 0, 0, 0, 0, 0, 0, 0, 1, 0, 0, 0, 0, 0, 0, 0, 0, 0, 0, 0, 0, 0, 0, 0, 0, 0, 0, 0, 0, 0, 0, 0, 0, 0, 0, 0, 0, 0, 0, 0, 0, 0, 0, 0, 0, 0, 0, 0, 0, 0, 0, 0, 0, 0, 0, 0, 0, 0, 0, 0, 0, 0, 0, 0, 1, 0, 0, 0, 0, 0, 0, 0, 0, 0, 0, 0, 0, 0, 0, 0, 0, 0, 0, 0, 0, 0, 0, 0, 0, 0, 0, 0, 0, 0, 0, 0, 0, 0, 0, 0, 0, 0, 0, 0, 0, 0, 0, 0, 0, 0, 0, 0, 0, 0, 0, 0, 0, 0, 0, 0, 0, 0, 0, 0, 0, 0, 0, 0, 0, 0, 0, 0, 0, 0, 0, 0, 0, 0, 0, 0, 0, 0, 0, 0, 0, 0, 0, 0, 0, 0, 0, 0, 0, 0, 0, 0, 0, 0, 0, 0, 0, 0, 0, 0, 0, 0, 0, 0, 0, 0, 0, 0, 0, 0, 0, 0, 0, 0, 0, 0, 0, 0, 0, 0, 0, 0, 0, 0, 0, 0, 0, 0, 0, 0, 0, 0, 0, 0, 0, 0, 0, 0, 0, 0, 0, 0, 0, 0, 0, 0, 0, 0, 0, 0, 0, 0, 0, 0, 0, 0, 0, 0, 0, 0, 0, 0, 0, 0, 0, 0, 0, 0, 0, 0, 0, 0, 0, 0, 0, 0, 0, 0, 0, 0, 0, 0, 0, 0, 0, 0, 0, 0, 0, 0, 0, 0, 0, 0, 0, 0, 0, 0, 0, 0, 0, 0, 0, 0, 0, 0, 0, 0, 0, 0, 0, 0, 0, 0, 0, 0, 0, 0, 0, 0, 0, 0, 0, 0, 0, 0, 0, 0, 0, 0, 0, 0, 0, 0, 0, 0, 0, 0, 0, 0, 0, 0, 0, 0, 0, 0, 0, 0, 0, 0, 0, 0, 0, 0, 0, 0, 0, 0, 0, 0, 0, 0, 0, 0, 0, 0, 0, 0, 0, 0, 0, 0, 0, 0, 0, 0, 0, 0, 0, 0, 0, 0, 0, 0, 0, 0, 0, 0, 0, 0, 0, 0, 0, 0, 0, 0, 0, 0, 0, 0, 0, 0, 0, 0, 0, 0, 0, 0, 0, 0, 0, 0, 0, 0, 0, 0, 0, 0, 0, 0, 0, 0, 0, 0, 0, 0, 0, 0, 0, 0, 0, 0, 0, 0, 0, 0, 0, 0, 0, 0, 0, 0, 0, 0, 0, 0, 0, 0, 0, 0, 0, 0, 0, 0, 0, 0, 0, 0, 0, 0, 0, 0, 0, 0, 0, 0, 0, 0, 0, 0, 0, 0, 0, 0, 0, 0, 0, 0, 0, 0, 0, 0, 0, 0, 0, 0, 0, 0, 0, 0, 0, 0, 0, 0, 0, 0, 0, 0, 0, 0, 0, 0, 0, 0, 0, 0, 0, 0, 0, 0, 0, 0, 0, 0, 0, 0, 0, 0, 0, 0, 0, 0, 0, 0, 0, 0, 0, 0, 0, 0, 0, 0, 0, 0, 0, 0, 0, 0, 0, 0, 0, 0, 0, 0, 0, 0, 0, 0, 0, 0, 0, 0, 0, 0, 0, 0, 0, 0, 0, 0, 0, 0, 0, 0, 0, 0, 0, 0, 0, 0, 0, 0, 0, 0, 0, 0, 0, 0, 0, 0, 0, 0, 0, 0, 0, 0, 0, 0, 0, 0, 0, 0, 0, 0, 0, 0, 0, 0, 0, 0, 0, 0, 0, 0, 0, 0, 0, 0, 0, 0, 0, 0, 0, 0, 0, 0, 0, 0, 0, 0, 0, 0, 0, 0, 0, 0, 0, 0, 0, 0, 0, 0, 0, 0, 0, 0, 0, 0, 0, 0, 0, 0, 0, 0, 0, 0, 0, 0, 0, 0, 0, 0, 0, 0, 0, 0, 0, 0, 0, 0, 0, 0, 0, 0, 0, 0, 0, 0, 0, 0, 0, 0, 0, 0, 0, 0, 0, 0, 0, 0, 0, 0, 0, 0, 0, 0, 0, 0, 0, 0, 0, 0, 0, 0, 0, 0, 0, 0, 0, 0, 0, 0, 0, 0, 0, 0, 0, 0, 0, 0, 0, 0, 0, 0, 0, 0, 0, 0, 0, 0, 0, 0, 0, 0, 0, 0, 0, 0, 0, 0, 0, 0, 0, 0, 0, 0, 0, 0, 0, 0, 0, 0, 0, 0, 0, 0, 0, 0, 0, 0, 0, 0, 0, 0, 0, 0, 0, 0, 0, 0, 0, 0, 0, 0, 0, 0, 0, 0, 0, 0, 0, 0, 0, 0, 0, 0, 0, 0, 0, 0, 0, 0, 1, 0, 0, 0, 0, 0, 0, 0, 0, 0, 0, 0, 0, 0, 0, 0, 0, 0, 0, 0, 0, 0, 0, 0, 0, 0, 0, 0, 0, 0, 0, 0, 0, 0, 0, 0, 0, 0, 0, 0, 0, 0, 0, 0, 0, 0, 0, 0, 0, 0, 0, 0, 0, 0, 0, 0, 0, 0, 0, 0, 0, 0, 0, 0, 0, 0, 0, 0, 0, 0, 0, 0, 0, 0, 0, 1, 0, 0, 0, 0, 0, 0, 0, 0, 0, 0, 0, 0, 0, 0, 0, 0, 0, 0, 0, 0, 1, 0, 0, 1, 0, 0, 0, 0, 0, 0, 0, 0, 0, 0, 0, 0, 0, 0, 0, 0, 0, 0, 0, 0, 0, 0, 0, 0, 0, 0, 0, 0, 0, 0, 0, 0, 0, 0, 0, 0, 0, 0, 0, 0, 0, 0, 0, 0, 0, 0, 0, 0, 0, 0, 0, 0, 0, 0, 0, 0, 0, 0, 0, 0, 0, 0, 0, 0, 0, 0, 0, 0, 0, 0, 0, 0, 0, 0, 0, 0, 0, 0, 0, 0, 0, 0, 0, 0, 0, 0, 0, 0, 0, 0, 0, 0, 0, 0, 0, 0, 0, 0, 0, 0, 0, 0, 0, 0, 0, 0, 0, 0, 0, 0, 0, 0, 0, 0, 0, 0, 0, 0, 0, 0, 0, 0, 0, 0, 0, 0, 0, 0, 0, 0, 0, 0, 0, 0, 0, 0, 0, 0, 0, 0, 0, 0, 0, 0, 0, 0, 0, 0, 0, 0, 0, 0, 0, 0, 0, 0, 0, 0, 0, 0, 0, 0, 0, 0, 0, 0, 0, 0, 0, 0, 0, 0, 0, 0, 0, 0, 0, 0, 0, 0, 0, 0, 0, 0, 0, 0, 0, 0, 0, 0, 0, 0, 0, 0, 0, 0, 0, 0, 0, 0, 0, 0, 0, 0, 0, 0, 0, 0, 0, 0, 0, 0, 0, 0, 0, 0, 0, 0, 0, 0, 0, 0, 0, 0, 0, 0, 0, 0, 0, 0, 0, 0, 0, 0, 0, 0, 0, 0, 0, 0, 0, 0, 0, 0, 0, 0, 0, 0, 0, 0, 0, 0, 0, 0, 0, 0, 0, 0, 0, 0, 0, 0, 0, 0, 0, 0, 0, 0, 0, 0, 0, 0, 0, 0, 0, 0, 0, 0, 0, 0, 0, 0, 0, 0, 0, 0, 0, 0, 0, 0, 0, 0, 0, 0, 0, 0, 0, 0, 0, 0, 0, 0, 0, 0, 0, 0, 0, 0, 0, 0, 0, 0, 0, 0, 0, 0, 0, 0, 0, 0, 0, 0, 0, 0, 0, 0, 0, 0, 0, 0, 0, 0, 0, 0, 0, 0, 0, 0, 0, 0, 0, 0, 0, 0, 0, 0, 0, 0, 0, 0, 0, 0, 0, 0, 0, 0, 0, 0, 0, 0, 0, 0, 0, 0, 0, 0, 0, 0, 0, 0, 0, 0, 0, 0, 0, 0, 0, 0, 0, 0, 0, 0, 0, 0, 0, 0, 0, 0, 0, 0, 0, 0, 0, 0, 0, 0, 0, 0, 0, 0, 0, 0, 0, 0, 0, 0, 0, 0, 0, 0, 0, 0, 0, 0, 0, 0, 0, 0, 0, 0, 0, 0, 0, 0, 0, 0, 0, 0, 0, 0, 0, 0, 0, 0, 0, 0, 0, 0, 0, 0, 0, 0, 0, 0, 0, 0, 0, 0, 0, 0, 0, 0, 0, 0, 0, 0, 0, 0, 0, 0, 0, 0, 0, 0, 0, 0, 1, 0, 0, 0, 0, 0, 0, 0, 0, 0, 0, 0, 0, 0, 0, 0, 0, 0, 0, 0, 0, 0, 0, 0, 0, 0, 0, 0, 0, 0, 0, 0, 0, 0, 0, 0, 0, 0, 0, 0, 0, 0, 0, 0, 0, 0, 0, 0, 0, 0, 0, 0, 0, 0, 0, 0, 0, 0, 0, 0, 0, 0, 0, 0, 0, 0, 0, 0, 0, 0, 0, 0, 0, 0, 0, 0, 0, 0, 0, 0, 0, 0, 0, 0, 0, 0, 0, 0, 0, 0, 0, 0, 0, 0, 0, 0, 0, 0, 0, 0, 0, 0, 0, 0, 0, 0, 0, 0, 0, 0, 0, 0, 0, 0, 0, 0, 0, 0, 0, 0, 0, 0, 0, 0, 0, 0, 0, 0, 0, 0, 0, 0, 0, 0, 0, 0, 0, 0, 0, 0, 0, 0, 0, 0, 0, 0, 0, 0, 0, 0, 0, 0, 0, 0, 0, 0, 0, 0, 0, 0, 0, 0, 0, 0, 0, 0, 0, 0, 0, 0, 0, 0, 0, 0, 0, 0, 0, 0, 0, 0, 0, 0, 0, 0, 0, 0, 0, 0, 0, 0, 0, 0, 0, 0, 0, 0, 0, 0, 0, 0, 0, 0, 0, 0, 0, 0, 0, 0, 0, 0, 0, 0, 0, 0, 0, 0, 0, 0, 0, 0, 0, 0, 0, 0, 0, 0, 0, 0, 0, 0, 0, 0, 0, 0, 0, 0, 0, 0, 0, 0, 0, 0, 0, 0, 0, 0, 0, 0, 0, 0, 0, 0, 0, 0, 0, 0, 0, 0, 0, 0, 0, 0, 0, 0, 0, 0, 0, 0, 0, 0, 0, 0, 0, 0, 0, 0, 0, 0, 0, 0, 0, 0, 0, 0, 0, 0, 0, 0, 0, 0, 0, 0, 0, 0, 0, 0, 0, 0, 0, 0, 0, 0, 0, 0, 0, 0, 0, 0, 0, 0, 0, 0, 0, 0, 0, 0, 0, 0, 0, 0, 0, 0, 0, 0, 0, 0, 0, 0, 0, 0, 0, 0, 0, 0, 0, 0, 0, 0, 0, 0, 0, 0, 0, 0, 0, 0, 0, 0, 0, 0, 0, 0, 0, 0, 0, 0, 0, 0, 0, 0, 0, 0, 0, 0, 0, 0, 0, 0, 0, 0, 0, 0, 0, 0, 0, 0, 0, 0, 0, 0, 0, 0, 0, 0, 0, 0, 0, 0, 0, 0, 0, 0, 0, 0, 0, 0, 0, 0, 0, 0, 0, 0, 0, 0, 0, 0, 0, 0, 0, 0, 0, 0, 0, 0, 0, 0, 0, 0, 0, 0, 0, 0, 0, 0, 0, 0, 0, 0, 0, 0, 0, 0, 0, 0, 0, 0, 0, 0, 0, 0, 0, 0, 0, 0, 0, 0, 0, 0, 0, 0, 0, 0, 0, 0, 0, 0, 0, 0, 0, 0, 0, 0, 0, 0, 0, 0, 0, 0, 0, 0, 0, 0, 0, 0, 0, 0, 0, 0, 0, 0, 0, 0, 0, 0, 0, 0, 0, 0, 0, 0, 0, 0, 0, 0, 0, 0, 0, 0, 0, 0, 0, 0, 0, 0, 0, 0, 0, 0, 0, 0, 0, 0, 0, 1, 0, 0, 0, 0, 0, 0, 0, 0, 0, 0, 0, 0, 0, 0, 0, 0, 0, 0, 0, 0, 0, 0, 0, 0, 0, 0, 0, 0, 0, 0, 0, 0, 0, 0, 0, 2, 0, 0, 0, 0, 0, 0, 0, 0, 0, 0, 0, 0, 0, 0, 0, 0, 0, 0, 0, 0, 0, 0, 0, 0, 0, 0, 0, 0, 0, 0, 0, 0, 0, 0, 0, 0, 0, 0, 0, 0, 1, 0, 0, 0, 0, 0, 0, 0, 0, 0, 0, 0, 0, 0, 0, 0, 0, 0, 0, 0, 0, 0, 0, 0, 0, 0, 0, 0, 0, 0, 0, 0, 0, 0, 0, 0, 0, 0, 0, 0, 0, 0, 0, 0, 0, 0, 0, 0, 0, 0, 0, 0, 0, 0, 0, 0, 0, 0, 0, 0, 0, 0, 0, 0, 0, 0, 0, 0, 0, 0, 0, 0, 0, 0, 0, 0, 0, 0, 0, 0, 0, 0, 0, 0, 0, 0, 0, 0, 0, 0, 0, 0, 0, 0, 0, 0, 0, 0, 0, 0, 0, 0, 0, 0, 0, 0, 0, 0, 0, 0, 0, 0, 0, 0, 0, 0, 0, 0, 0, 0, 0, 0, 0, 0, 0, 0, 0, 0, 0, 0, 0, 0, 0, 0, 0, 0, 0, 0, 0, 0, 0, 0, 0, 0, 0, 0, 0, 0, 0, 0, 0, 0, 0, 0, 0, 0, 0, 0, 0, 0, 0, 0, 0, 0, 0, 0, 0, 0, 0, 0, 0, 0, 0, 0, 0, 0, 0, 0, 0, 0, 0, 0, 0, 0, 0, 0, 0, 0, 0, 0, 0, 0, 0, 0, 0, 0, 0, 0, 0, 0, 0, 0, 0, 0, 0, 0, 0, 0, 0, 0, 0, 0, 0, 0, 0, 0, 0, 0, 0, 0, 0, 0, 0, 0, 0, 0, 0, 0, 0, 0, 0, 0, 0, 0, 0, 0, 0, 0, 0, 0, 0, 0, 0, 0, 0, 0, 0, 0, 0, 0, 0, 0, 0, 0, 0, 0, 0, 0, 0, 0, 0, 0, 0, 0, 0, 0, 0, 0, 0, 0, 0, 0, 0, 0, 0, 0, 0, 0, 0, 0, 0, 0, 0, 0, 0, 0, 0, 0, 0, 0, 0, 0, 0, 0, 0, 0, 0, 0, 0, 0, 0, 0, 0, 0, 0, 0, 0, 0, 0, 0, 0, 0, 0, 0, 0, 0, 0, 0, 0, 0, 0, 0, 0, 0, 0, 0, 0, 0, 0, 0, 0, 0, 0, 0, 0, 0, 0, 0, 0, 0, 0, 0, 0, 0, 0, 0, 0, 0, 0, 0, 0, 0, 0, 0, 0, 0, 0, 0, 0, 0, 0, 0, 0, 0, 0, 0, 0, 0, 0, 0, 0, 0, 0, 0, 0, 0, 0, 0, 0, 0, 0, 0, 0, 0, 0, 0, 0, 0, 0, 0, 0, 0, 0, 0, 0, 0, 0, 0, 0, 0, 0, 0, 0, 0, 0, 0, 0, 0, 0, 0, 0, 0, 0, 0, 0, 0, 0, 0, 0, 0, 0, 0, 0, 0, 0, 0, 0, 0, 0, 0, 0, 0, 0, 0, 0, 0, 0, 0, 0, 0, 0, 0, 0, 0, 0, 0, 0, 0, 0, 0, 0, 0, 0, 0, 0, 0, 0, 0, 0, 0, 0, 0, 0, 0, 0, 0, 0, 0, 0, 0, 0, 0, 0, 0, 0, 0, 0, 0, 0, 0, 0, 0, 0, 0, 0, 0, 0, 0, 0, 0, 0, 0, 0, 0, 0, 0, 0, 0, 1, 0, 0, 0, 0, 0, 0, 0, 0, 0, 0, 0, 0, 0, 0, 0, 0, 0, 0, 0, 0, 0, 0, 0, 0, 0, 0, 0, 0, 0, 0, 0, 0, 0, 0, 0, 0, 0, 0, 0, 0, 0, 0, 0, 0, 0, 0, 0, 0, 0, 0, 0, 0, 0, 0, 0, 0, 0, 0, 0, 0, 0, 0, 0, 0, 0, 0, 0, 0, 0, 0, 0, 0, 0, 0, 0, 0, 0, 0, 0, 0, 0, 0, 0, 0, 0, 0, 0, 0, 0, 0, 0, 0, 0, 0, 0, 0, 0, 0, 0, 0, 0, 0, 0, 0, 0, 0, 0, 0, 0, 0, 2, 0, 0, 0, 0, 0, 0, 0, 0, 0, 0, 0, 0, 0, 0, 0, 0, 0, 0, 0, 0, 0, 0, 0, 0, 0, 0, 0, 0, 0, 0, 0, 0, 0, 0, 0, 0, 0, 0, 0, 0, 0, 0, 0, 0, 0, 0, 0, 0, 0, 0, 0, 0, 0, 0, 0, 0, 0, 0, 0, 0, 0, 0, 0, 0, 0, 0, 0, 0, 0, 0, 0, 0, 0, 0, 0, 0, 0, 0, 0, 0, 0, 0, 0, 0, 0, 0, 0, 0, 0, 0, 0, 0, 0, 0, 0, 0, 0, 0, 0, 0, 0, 0, 0, 0, 0, 0, 0, 0, 0, 0, 0, 0, 0, 0, 0, 0, 0, 0, 0, 0, 0, 0, 0, 0, 0, 0, 0, 0, 0, 0, 0, 0, 0, 0, 0, 0, 0, 0, 0, 0, 0, 0, 0, 0, 0, 0, 0, 0, 0, 0, 0, 0, 0, 0, 0, 0, 0, 0, 0, 0, 0, 0, 0, 0, 0, 0, 0, 0, 0, 0, 0, 0, 0, 0, 0, 0, 0, 0, 0, 0, 0, 0, 0, 0, 0, 0, 0, 0, 0, 0, 0, 0, 0, 0, 0, 0, 0, 0, 0, 0, 0, 0, 0, 0, 0, 0, 0, 0, 0, 0, 0, 0, 0, 0, 0, 0, 0, 0, 0, 0, 0, 0, 0, 0, 0, 0, 0, 0, 0, 0, 0, 0, 0, 0, 0, 0, 0, 0, 0, 0, 0, 0, 0, 0, 0, 0, 0, 0, 0, 0, 0, 0, 0, 0, 0, 0, 0, 0, 0, 0, 0, 0, 0, 0, 0, 0, 0, 0, 0, 0, 0, 0, 0, 0, 0, 0, 0, 0, 0, 0, 0, 0, 0, 0, 0, 0, 0, 0, 0, 0, 0, 0, 0, 0, 0, 0, 0, 0, 0, 0, 0, 0, 0, 0, 0, 0, 0, 0, 0, 0, 0, 0, 0, 0, 0, 0, 0, 0, 0, 0, 0, 0, 0, 0, 0, 0, 0, 0, 0, 0, 0, 0, 0, 0, 0, 0, 0, 0, 0, 0, 0, 0, 0, 0, 0, 0, 0, 0, 0, 0, 0, 0, 0, 0, 0, 0, 0, 0, 0, 0, 0, 0, 0, 0, 0, 0, 0, 0, 0, 0, 0, 0, 0, 0, 0, 0, 0, 0, 0, 0, 0, 0, 0, 0, 0, 0, 0, 0, 0, 0, 0, 0, 0, 0, 0, 0, 0, 0, 0, 0, 0, 0, 0, 0, 0, 0, 0, 0, 0, 0, 0, 0, 0, 0, 0, 0, 0, 0, 0, 0, 0, 0, 0, 0, 0, 0, 0, 0, 0, 0, 0, 0, 0, 0, 0, 0, 0, 0, 0, 0, 0, 0, 0, 0, 0, 0, 0, 0, 0, 0, 0, 0, 0, 0, 0, 0, 0, 0, 0, 0, 0, 0, 0, 0, 0, 0, 0, 0, 0, 0, 0, 0, 0, 0, 0, 0, 0, 0, 0, 0, 0, 0, 0, 0, 0, 0, 0, 0, 0, 0, 0, 0, 0, 0, 0, 0, 0, 0, 0, 0, 0, 0, 0, 0, 0, 0, 0, 0, 0, 0, 0, 0, 0, 0, 0, 0, 0, 0, 0, 0, 0, 0, 0, 0, 0, 0, 0, 0, 0, 0, 0, 0, 0, 0, 0, 0, 0, 0, 0, 0, 0, 0, 0, 0, 0, 0, 0, 0, 0, 0, 0, 0, 0, 0, 0, 0, 0, 0, 0, 0, 0, 0, 0, 0, 0, 0, 0, 0, 0, 0, 0, 0, 0, 0, 0, 0, 0, 0, 0, 0, 0, 0, 0, 0, 0, 0, 0, 0, 0, 0, 0, 0, 0, 0, 0, 0, 0, 0, 0, 0, 0, 0, 0, 0, 0, 0, 0, 0, 0, 0, 0, 0, 0, 0, 0, 0, 0, 0, 0, 0, 0, 0, 0, 0, 0, 0, 0, 0, 0, 0, 0, 0, 0, 0, 0, 0, 0, 0, 0, 0, 0, 0, 0, 0, 0, 0, 0, 0, 0, 0, 0, 0, 0, 0, 0, 0, 0, 0, 0, 0, 0, 0, 0, 0, 0, 0, 0, 0, 0, 0, 0, 0, 0, 0, 0, 0, 0, 0, 0, 0, 0, 0, 0, 0, 0, 0, 0, 0, 0, 0, 1, 0, 0, 0, 0, 0, 0, 0, 0, 0, 0, 0, 0, 0, 0, 0, 0, 0, 0, 0, 0, 0, 0, 0, 0, 0, 0, 0, 0, 0, 0, 0, 0, 0, 0, 0, 0, 0, 0, 0, 0, 0, 0, 0, 0, 0, 0, 0, 0, 0, 0, 0, 0, 0, 0, 0, 0, 0, 0, 0, 0, 0, 0, 0, 0, 0, 0, 0, 0, 0, 0, 0, 0, 0, 0, 0, 0, 0, 0, 0, 0, 0, 0, 0, 0, 0, 0, 0, 0, 0, 0, 0, 0, 0, 0, 0, 0, 0, 0, 0, 0, 0, 0, 0, 0, 0, 0, 0, 1, 0, 0, 0, 0, 0, 0, 0, 0, 0, 0, 0, 0, 0, 0, 0, 0, 0, 0, 0, 0, 0, 0, 0, 0, 0, 0, 0, 0, 0, 0, 0, 0, 0, 0, 0, 0, 0, 0, 0, 0, 0, 0, 0, 0, 0, 0, 0, 0, 0, 0, 0, 0, 0, 0, 0, 0, 0, 0, 0, 0, 0, 0, 0, 0, 0, 0, 0, 0, 0, 0, 0, 0, 0, 0, 0, 0, 0, 0, 0, 0, 0, 0, 0, 0, 0, 0, 0, 0, 0, 0, 0, 0, 0, 0, 0, 0, 0, 0, 0, 0, 0, 0, 0, 0, 0, 0, 0, 0, 0, 0, 0, 0, 0, 0, 0, 0, 0, 0, 0, 0, 0, 0, 0, 0, 0, 0, 0, 0, 0, 0, 0, 0, 0, 0, 0, 0, 0, 0, 0, 0, 0, 0, 0, 0, 0, 0, 0, 0, 0, 0, 0, 0, 0, 0, 0, 0, 0, 0, 0, 0, 0, 0, 0, 0, 0, 0, 0, 0, 0, 0, 0, 0, 0, 0, 0, 0, 0, 0, 0, 0, 0, 0, 0, 0, 0, 0, 0, 0, 0, 0, 0, 0, 0, 0, 0, 0, 0, 0, 0, 0, 0, 0, 0, 0, 0, 0, 0, 0, 0, 0, 0, 0, 0, 0, 0, 0, 0, 0, 0, 0, 0, 0, 0, 0, 0, 0, 0, 0, 0, 0, 0, 0, 0, 0, 0, 0, 0, 0, 0, 0, 0, 0, 0, 0, 0, 0, 0, 0, 0, 0, 0, 0, 0, 0, 0, 0, 0, 0, 0, 0, 0, 0, 0, 0, 0, 0, 0, 0, 0, 0, 0, 0, 0, 0, 0, 0, 0, 0, 0, 0, 0, 0, 0, 0, 0, 0, 0, 0, 0, 0, 0, 0, 0, 0, 0, 0, 0, 0, 0, 0, 0, 0, 0, 0, 0, 0, 0, 0, 0, 0, 0, 0, 0, 0, 0, 0, 0, 0, 0, 0, 0, 0, 0, 0, 0, 0, 0, 0, 0, 0, 0, 0, 0, 0, 0, 0, 0, 0, 0, 0, 0, 0, 0, 0, 0, 0, 0, 0, 0, 0, 0, 0, 0, 0, 0, 0, 0, 0, 0, 0, 0, 0, 0, 0, 0, 0, 0, 0, 0, 0, 0, 0, 0, 0, 0, 0, 0, 0, 0, 0, 0, 0, 0, 0, 0, 0, 0, 0, 0, 0, 0, 0, 0, 0, 0, 0, 0, 0, 0, 0, 0, 0, 0, 0, 0, 0, 0, 0, 0, 0, 0, 0, 0, 0, 0, 0, 0, 0, 0, 0, 0, 0, 0, 0, 0, 0, 0, 0, 0, 0, 0, 0, 0, 0, 0, 0, 0, 0, 0, 0, 0, 0, 0, 0, 0, 0, 0, 0, 0, 0, 0, 0, 0, 0, 0, 0, 0, 0, 0, 0, 0, 0, 0, 2, 0, 1, 0], type: <class 'list'>, valid types: <class 'bytes'>, <class 'bytearray'>, file-like object",
     "output_type": "error",
     "traceback": [
      "\u001b[0;31m---------------------------------------------------------------------------\u001b[0m",
      "\u001b[0;31mParamValidationError\u001b[0m                      Traceback (most recent call last)",
      "\u001b[0;32m<ipython-input-58-c9ab54ae3a48>\u001b[0m in \u001b[0;36m<module>\u001b[0;34m\u001b[0m\n\u001b[1;32m      1\u001b[0m response = runtime.invoke_endpoint(EndpointName = xgb_predictor.endpoint, # The name of the endpoint we created\n\u001b[1;32m      2\u001b[0m                                        \u001b[0mContentType\u001b[0m \u001b[0;34m=\u001b[0m \u001b[0;34m'text/csv'\u001b[0m\u001b[0;34m,\u001b[0m                     \u001b[0;31m# The data format that is expected\u001b[0m\u001b[0;34m\u001b[0m\u001b[0;34m\u001b[0m\u001b[0m\n\u001b[0;32m----> 3\u001b[0;31m                                        Body = test_bow)\n\u001b[0m",
      "\u001b[0;32m~/anaconda3/envs/amazonei_mxnet_p36/lib/python3.6/site-packages/botocore/client.py\u001b[0m in \u001b[0;36m_api_call\u001b[0;34m(self, *args, **kwargs)\u001b[0m\n\u001b[1;32m    413\u001b[0m                     \"%s() only accepts keyword arguments.\" % py_operation_name)\n\u001b[1;32m    414\u001b[0m             \u001b[0;31m# The \"self\" in this scope is referring to the BaseClient.\u001b[0m\u001b[0;34m\u001b[0m\u001b[0;34m\u001b[0m\u001b[0;34m\u001b[0m\u001b[0m\n\u001b[0;32m--> 415\u001b[0;31m             \u001b[0;32mreturn\u001b[0m \u001b[0mself\u001b[0m\u001b[0;34m.\u001b[0m\u001b[0m_make_api_call\u001b[0m\u001b[0;34m(\u001b[0m\u001b[0moperation_name\u001b[0m\u001b[0;34m,\u001b[0m \u001b[0mkwargs\u001b[0m\u001b[0;34m)\u001b[0m\u001b[0;34m\u001b[0m\u001b[0;34m\u001b[0m\u001b[0m\n\u001b[0m\u001b[1;32m    416\u001b[0m \u001b[0;34m\u001b[0m\u001b[0m\n\u001b[1;32m    417\u001b[0m         \u001b[0m_api_call\u001b[0m\u001b[0;34m.\u001b[0m\u001b[0m__name__\u001b[0m \u001b[0;34m=\u001b[0m \u001b[0mstr\u001b[0m\u001b[0;34m(\u001b[0m\u001b[0mpy_operation_name\u001b[0m\u001b[0;34m)\u001b[0m\u001b[0;34m\u001b[0m\u001b[0;34m\u001b[0m\u001b[0m\n",
      "\u001b[0;32m~/anaconda3/envs/amazonei_mxnet_p36/lib/python3.6/site-packages/botocore/client.py\u001b[0m in \u001b[0;36m_make_api_call\u001b[0;34m(self, operation_name, api_params)\u001b[0m\n\u001b[1;32m    714\u001b[0m         }\n\u001b[1;32m    715\u001b[0m         request_dict = self._convert_to_request_dict(\n\u001b[0;32m--> 716\u001b[0;31m             api_params, operation_model, context=request_context)\n\u001b[0m\u001b[1;32m    717\u001b[0m         \u001b[0mresolve_checksum_context\u001b[0m\u001b[0;34m(\u001b[0m\u001b[0mrequest_dict\u001b[0m\u001b[0;34m,\u001b[0m \u001b[0moperation_model\u001b[0m\u001b[0;34m,\u001b[0m \u001b[0mapi_params\u001b[0m\u001b[0;34m)\u001b[0m\u001b[0;34m\u001b[0m\u001b[0;34m\u001b[0m\u001b[0m\n\u001b[1;32m    718\u001b[0m \u001b[0;34m\u001b[0m\u001b[0m\n",
      "\u001b[0;32m~/anaconda3/envs/amazonei_mxnet_p36/lib/python3.6/site-packages/botocore/client.py\u001b[0m in \u001b[0;36m_convert_to_request_dict\u001b[0;34m(self, api_params, operation_model, context)\u001b[0m\n\u001b[1;32m    764\u001b[0m             api_params, operation_model, context)\n\u001b[1;32m    765\u001b[0m         request_dict = self._serializer.serialize_to_request(\n\u001b[0;32m--> 766\u001b[0;31m             api_params, operation_model)\n\u001b[0m\u001b[1;32m    767\u001b[0m         \u001b[0;32mif\u001b[0m \u001b[0;32mnot\u001b[0m \u001b[0mself\u001b[0m\u001b[0;34m.\u001b[0m\u001b[0m_client_config\u001b[0m\u001b[0;34m.\u001b[0m\u001b[0minject_host_prefix\u001b[0m\u001b[0;34m:\u001b[0m\u001b[0;34m\u001b[0m\u001b[0;34m\u001b[0m\u001b[0m\n\u001b[1;32m    768\u001b[0m             \u001b[0mrequest_dict\u001b[0m\u001b[0;34m.\u001b[0m\u001b[0mpop\u001b[0m\u001b[0;34m(\u001b[0m\u001b[0;34m'host_prefix'\u001b[0m\u001b[0;34m,\u001b[0m \u001b[0;32mNone\u001b[0m\u001b[0;34m)\u001b[0m\u001b[0;34m\u001b[0m\u001b[0;34m\u001b[0m\u001b[0m\n",
      "\u001b[0;32m~/anaconda3/envs/amazonei_mxnet_p36/lib/python3.6/site-packages/botocore/validate.py\u001b[0m in \u001b[0;36mserialize_to_request\u001b[0;34m(self, parameters, operation_model)\u001b[0m\n\u001b[1;32m    357\u001b[0m                                                     operation_model.input_shape)\n\u001b[1;32m    358\u001b[0m             \u001b[0;32mif\u001b[0m \u001b[0mreport\u001b[0m\u001b[0;34m.\u001b[0m\u001b[0mhas_errors\u001b[0m\u001b[0;34m(\u001b[0m\u001b[0;34m)\u001b[0m\u001b[0;34m:\u001b[0m\u001b[0;34m\u001b[0m\u001b[0;34m\u001b[0m\u001b[0m\n\u001b[0;32m--> 359\u001b[0;31m                 \u001b[0;32mraise\u001b[0m \u001b[0mParamValidationError\u001b[0m\u001b[0;34m(\u001b[0m\u001b[0mreport\u001b[0m\u001b[0;34m=\u001b[0m\u001b[0mreport\u001b[0m\u001b[0;34m.\u001b[0m\u001b[0mgenerate_report\u001b[0m\u001b[0;34m(\u001b[0m\u001b[0;34m)\u001b[0m\u001b[0;34m)\u001b[0m\u001b[0;34m\u001b[0m\u001b[0;34m\u001b[0m\u001b[0m\n\u001b[0m\u001b[1;32m    360\u001b[0m         return self._serializer.serialize_to_request(parameters,\n\u001b[1;32m    361\u001b[0m                                                      operation_model)\n",
      "\u001b[0;31mParamValidationError\u001b[0m: Parameter validation failed:\nInvalid type for parameter Body, value: [0, 0, 0, 0, 0, 0, 0, 0, 0, 0, 0, 0, 0, 0, 0, 0, 0, 0, 0, 0, 0, 0, 0, 0, 0, 0, 0, 0, 0, 0, 0, 0, 0, 0, 0, 0, 0, 0, 0, 0, 0, 0, 0, 0, 0, 0, 0, 0, 0, 0, 0, 0, 0, 0, 0, 0, 0, 0, 0, 0, 0, 0, 0, 0, 0, 0, 0, 0, 0, 0, 0, 0, 0, 0, 0, 0, 0, 0, 0, 0, 0, 0, 0, 0, 0, 0, 0, 0, 0, 0, 0, 0, 0, 0, 0, 0, 0, 0, 0, 0, 0, 0, 0, 0, 0, 0, 0, 0, 0, 0, 0, 0, 0, 0, 0, 0, 0, 0, 0, 0, 0, 0, 0, 0, 0, 0, 0, 0, 0, 0, 0, 0, 0, 0, 0, 0, 0, 0, 0, 0, 0, 0, 0, 0, 0, 0, 0, 0, 0, 0, 0, 0, 0, 0, 0, 0, 0, 0, 0, 0, 0, 0, 0, 0, 0, 0, 0, 0, 0, 0, 0, 0, 0, 0, 0, 0, 0, 0, 0, 0, 0, 0, 0, 0, 0, 0, 0, 0, 0, 0, 0, 0, 0, 0, 0, 0, 0, 0, 0, 0, 0, 0, 0, 0, 0, 0, 0, 0, 0, 0, 0, 0, 0, 0, 0, 0, 0, 0, 0, 0, 0, 0, 0, 0, 0, 0, 1, 0, 0, 0, 0, 0, 0, 0, 0, 0, 0, 0, 0, 0, 0, 0, 0, 0, 0, 0, 0, 0, 0, 0, 0, 0, 0, 0, 0, 0, 1, 0, 0, 0, 0, 0, 0, 0, 0, 0, 0, 0, 0, 0, 0, 0, 0, 0, 0, 0, 0, 0, 0, 0, 0, 0, 0, 0, 0, 0, 0, 0, 0, 0, 0, 0, 0, 0, 0, 0, 0, 0, 0, 0, 0, 0, 0, 0, 0, 0, 0, 0, 0, 0, 0, 0, 0, 0, 0, 0, 0, 0, 0, 0, 0, 0, 0, 0, 0, 0, 0, 0, 0, 0, 0, 0, 0, 0, 0, 0, 0, 0, 0, 0, 0, 0, 0, 0, 0, 0, 0, 0, 0, 0, 0, 0, 0, 0, 0, 0, 0, 0, 0, 0, 0, 0, 0, 0, 0, 0, 0, 0, 0, 0, 0, 0, 0, 0, 0, 0, 0, 0, 0, 0, 0, 0, 0, 0, 0, 0, 0, 0, 0, 0, 0, 0, 0, 0, 0, 0, 0, 0, 0, 0, 0, 0, 0, 0, 0, 0, 0, 0, 0, 0, 0, 0, 0, 0, 0, 0, 0, 0, 0, 0, 0, 0, 0, 0, 0, 0, 0, 0, 0, 0, 0, 0, 0, 0, 0, 0, 0, 0, 0, 0, 0, 0, 0, 0, 0, 0, 0, 0, 0, 0, 0, 0, 0, 0, 0, 0, 0, 0, 0, 0, 0, 0, 0, 0, 0, 0, 0, 0, 0, 0, 0, 0, 0, 0, 0, 0, 0, 0, 0, 0, 0, 0, 0, 0, 0, 0, 0, 0, 0, 0, 0, 0, 0, 0, 0, 0, 0, 0, 0, 0, 0, 0, 0, 0, 0, 0, 0, 0, 0, 0, 0, 0, 0, 0, 0, 0, 0, 0, 0, 0, 0, 0, 0, 0, 0, 0, 0, 0, 0, 0, 0, 0, 0, 0, 0, 0, 0, 0, 0, 0, 0, 0, 0, 0, 0, 0, 0, 0, 0, 0, 0, 0, 0, 0, 0, 0, 0, 0, 0, 0, 0, 0, 0, 0, 0, 0, 0, 0, 0, 0, 0, 0, 0, 0, 0, 0, 0, 0, 0, 0, 0, 0, 0, 0, 0, 0, 0, 0, 0, 0, 0, 0, 0, 0, 0, 0, 0, 0, 0, 0, 0, 0, 0, 0, 0, 0, 0, 0, 0, 0, 0, 0, 0, 0, 0, 0, 0, 0, 0, 0, 0, 0, 0, 0, 0, 0, 0, 0, 0, 0, 0, 0, 0, 0, 0, 0, 1, 0, 0, 0, 0, 0, 0, 0, 0, 0, 0, 0, 0, 0, 0, 0, 0, 0, 0, 0, 0, 0, 0, 0, 0, 0, 0, 0, 0, 0, 0, 0, 0, 0, 0, 0, 0, 0, 0, 0, 0, 0, 0, 0, 0, 0, 0, 0, 0, 0, 0, 0, 0, 0, 0, 0, 0, 0, 0, 0, 0, 0, 0, 0, 0, 0, 0, 0, 0, 0, 0, 0, 0, 0, 0, 0, 0, 0, 0, 0, 0, 0, 0, 0, 0, 0, 0, 0, 0, 0, 0, 0, 0, 0, 0, 0, 0, 0, 0, 0, 0, 0, 0, 0, 0, 0, 0, 0, 0, 0, 0, 0, 0, 0, 0, 0, 0, 0, 0, 0, 0, 0, 0, 0, 0, 0, 0, 0, 0, 0, 0, 0, 0, 0, 0, 0, 0, 0, 0, 0, 0, 0, 0, 0, 0, 0, 0, 0, 0, 0, 0, 0, 0, 0, 0, 0, 0, 0, 0, 0, 0, 0, 0, 0, 0, 0, 0, 0, 0, 0, 0, 0, 0, 0, 0, 0, 0, 0, 0, 0, 0, 0, 0, 0, 0, 0, 0, 0, 0, 0, 0, 0, 0, 0, 0, 0, 0, 0, 0, 0, 0, 0, 0, 0, 0, 0, 0, 0, 0, 0, 0, 0, 0, 0, 0, 0, 0, 0, 0, 0, 0, 0, 0, 0, 0, 0, 0, 0, 0, 0, 0, 0, 0, 0, 0, 0, 0, 0, 0, 0, 0, 0, 0, 0, 0, 0, 0, 0, 0, 0, 0, 0, 0, 0, 1, 0, 0, 0, 0, 0, 0, 0, 0, 0, 0, 0, 0, 0, 0, 0, 0, 0, 0, 0, 0, 0, 0, 0, 0, 0, 0, 0, 0, 0, 0, 0, 0, 0, 0, 0, 0, 0, 0, 0, 0, 0, 0, 0, 0, 0, 0, 0, 0, 0, 0, 0, 0, 0, 0, 0, 0, 0, 0, 0, 0, 0, 0, 0, 0, 0, 0, 0, 0, 0, 0, 0, 0, 0, 0, 0, 0, 0, 0, 0, 0, 0, 0, 0, 0, 0, 0, 1, 0, 0, 0, 0, 0, 0, 0, 0, 0, 0, 0, 0, 0, 0, 0, 0, 0, 0, 0, 0, 0, 0, 0, 0, 0, 0, 0, 0, 0, 0, 0, 0, 0, 0, 0, 0, 0, 0, 0, 0, 0, 0, 0, 0, 0, 0, 0, 0, 0, 0, 0, 0, 0, 0, 0, 0, 0, 0, 0, 0, 0, 0, 0, 0, 0, 0, 0, 0, 0, 0, 0, 0, 0, 0, 0, 0, 0, 0, 0, 0, 0, 0, 0, 0, 0, 0, 0, 0, 0, 0, 0, 0, 0, 0, 0, 0, 0, 0, 0, 0, 0, 0, 0, 0, 0, 0, 0, 0, 0, 0, 0, 0, 0, 0, 0, 0, 0, 0, 0, 0, 0, 0, 0, 0, 0, 0, 0, 0, 0, 0, 0, 0, 0, 0, 0, 0, 0, 0, 0, 0, 0, 0, 0, 0, 0, 0, 0, 0, 0, 0, 0, 0, 0, 0, 0, 0, 0, 0, 0, 0, 0, 0, 0, 0, 0, 0, 0, 0, 0, 0, 0, 0, 0, 0, 0, 0, 0, 0, 0, 0, 0, 0, 0, 0, 0, 0, 0, 0, 0, 0, 0, 0, 0, 0, 0, 0, 0, 0, 0, 0, 0, 0, 0, 0, 0, 0, 0, 0, 0, 0, 0, 0, 0, 0, 0, 0, 0, 0, 0, 0, 0, 0, 0, 0, 0, 0, 0, 0, 0, 0, 0, 0, 0, 0, 0, 0, 0, 0, 0, 0, 0, 0, 0, 0, 0, 0, 0, 0, 0, 0, 0, 0, 1, 0, 0, 0, 0, 0, 0, 0, 0, 0, 0, 0, 0, 0, 0, 0, 0, 0, 0, 0, 0, 0, 0, 0, 0, 0, 0, 0, 0, 0, 0, 0, 0, 0, 0, 0, 0, 0, 0, 0, 0, 0, 0, 0, 0, 0, 0, 0, 0, 0, 0, 0, 0, 0, 0, 0, 1, 0, 0, 0, 0, 0, 0, 0, 0, 0, 0, 0, 0, 0, 0, 0, 0, 0, 0, 0, 0, 0, 0, 0, 0, 0, 0, 0, 0, 0, 0, 0, 0, 0, 0, 0, 0, 0, 0, 0, 0, 0, 0, 0, 0, 0, 0, 0, 0, 0, 0, 0, 0, 0, 0, 0, 0, 0, 0, 0, 0, 0, 0, 0, 0, 0, 0, 0, 0, 0, 0, 0, 0, 0, 0, 0, 0, 0, 0, 0, 0, 0, 0, 0, 0, 0, 0, 0, 0, 0, 0, 0, 0, 0, 0, 0, 0, 0, 0, 0, 0, 0, 0, 0, 0, 0, 0, 0, 0, 0, 0, 0, 0, 0, 0, 0, 0, 0, 0, 0, 0, 0, 0, 0, 0, 0, 0, 0, 0, 0, 0, 0, 0, 0, 0, 0, 0, 0, 0, 0, 0, 0, 0, 0, 0, 0, 0, 0, 0, 0, 0, 0, 0, 0, 0, 0, 0, 0, 0, 0, 0, 0, 0, 0, 0, 0, 0, 0, 0, 0, 0, 0, 0, 0, 0, 0, 0, 0, 0, 0, 0, 0, 0, 0, 0, 0, 0, 0, 0, 0, 0, 0, 0, 0, 0, 0, 0, 0, 0, 0, 0, 0, 0, 0, 0, 0, 0, 0, 0, 0, 0, 0, 0, 0, 0, 0, 0, 0, 0, 0, 0, 0, 0, 0, 0, 0, 0, 0, 0, 0, 0, 0, 0, 0, 0, 0, 0, 0, 0, 0, 0, 0, 0, 0, 0, 0, 0, 0, 0, 0, 0, 0, 0, 0, 0, 0, 0, 0, 0, 0, 0, 0, 0, 0, 0, 0, 0, 0, 0, 0, 0, 0, 0, 0, 0, 0, 0, 0, 0, 0, 0, 0, 0, 0, 0, 0, 0, 0, 0, 0, 0, 0, 0, 0, 0, 0, 0, 0, 0, 0, 0, 0, 0, 0, 0, 0, 0, 0, 0, 0, 0, 0, 0, 0, 0, 0, 0, 0, 0, 0, 0, 0, 0, 0, 0, 0, 0, 0, 0, 0, 0, 0, 0, 0, 0, 0, 0, 0, 0, 0, 0, 0, 0, 0, 0, 0, 0, 0, 0, 0, 0, 0, 0, 0, 0, 0, 0, 0, 0, 0, 0, 0, 0, 0, 0, 0, 0, 0, 0, 0, 0, 0, 0, 0, 0, 0, 0, 0, 0, 0, 0, 0, 0, 0, 0, 0, 0, 0, 0, 0, 0, 0, 0, 0, 0, 0, 0, 0, 0, 0, 0, 0, 0, 0, 0, 0, 0, 0, 0, 0, 0, 0, 0, 0, 0, 0, 0, 0, 0, 0, 0, 0, 0, 0, 0, 0, 0, 0, 0, 0, 0, 0, 0, 0, 0, 0, 0, 0, 0, 0, 0, 0, 0, 0, 0, 0, 0, 0, 0, 0, 0, 0, 0, 0, 0, 0, 0, 0, 0, 0, 0, 0, 0, 0, 0, 0, 0, 0, 0, 0, 0, 0, 0, 0, 0, 0, 0, 0, 0, 0, 0, 0, 0, 0, 0, 0, 0, 0, 0, 0, 0, 0, 0, 0, 0, 0, 0, 0, 0, 0, 0, 0, 0, 0, 0, 0, 0, 0, 0, 0, 0, 0, 0, 0, 0, 0, 0, 0, 0, 0, 0, 0, 0, 0, 0, 0, 0, 0, 0, 0, 0, 0, 0, 0, 0, 0, 0, 0, 0, 0, 0, 0, 0, 0, 0, 0, 0, 0, 0, 0, 0, 0, 0, 0, 0, 0, 0, 0, 0, 0, 0, 0, 0, 0, 0, 0, 0, 0, 0, 0, 0, 0, 0, 0, 0, 0, 0, 0, 0, 0, 0, 0, 0, 0, 0, 0, 0, 0, 0, 0, 0, 0, 0, 0, 0, 0, 0, 0, 0, 0, 0, 0, 0, 0, 0, 0, 0, 0, 0, 0, 0, 0, 0, 0, 0, 0, 0, 0, 0, 0, 0, 0, 0, 0, 0, 0, 0, 0, 0, 0, 0, 0, 0, 0, 0, 0, 0, 0, 0, 0, 0, 0, 0, 0, 0, 0, 0, 0, 0, 0, 0, 0, 0, 0, 0, 0, 0, 0, 0, 0, 0, 0, 0, 0, 0, 0, 0, 0, 0, 0, 0, 0, 0, 0, 0, 0, 0, 0, 0, 0, 0, 0, 1, 0, 0, 0, 0, 0, 0, 0, 0, 0, 0, 0, 0, 0, 0, 0, 0, 0, 0, 0, 0, 0, 0, 0, 0, 0, 0, 0, 0, 0, 0, 0, 0, 0, 0, 0, 0, 0, 0, 0, 0, 0, 0, 0, 0, 0, 0, 0, 0, 0, 0, 0, 0, 0, 0, 0, 0, 0, 0, 0, 0, 0, 0, 0, 0, 0, 0, 0, 0, 0, 0, 0, 0, 0, 0, 1, 0, 0, 0, 0, 0, 0, 0, 0, 0, 0, 0, 0, 0, 0, 0, 0, 0, 0, 0, 0, 1, 0, 0, 1, 0, 0, 0, 0, 0, 0, 0, 0, 0, 0, 0, 0, 0, 0, 0, 0, 0, 0, 0, 0, 0, 0, 0, 0, 0, 0, 0, 0, 0, 0, 0, 0, 0, 0, 0, 0, 0, 0, 0, 0, 0, 0, 0, 0, 0, 0, 0, 0, 0, 0, 0, 0, 0, 0, 0, 0, 0, 0, 0, 0, 0, 0, 0, 0, 0, 0, 0, 0, 0, 0, 0, 0, 0, 0, 0, 0, 0, 0, 0, 0, 0, 0, 0, 0, 0, 0, 0, 0, 0, 0, 0, 0, 0, 0, 0, 0, 0, 0, 0, 0, 0, 0, 0, 0, 0, 0, 0, 0, 0, 0, 0, 0, 0, 0, 0, 0, 0, 0, 0, 0, 0, 0, 0, 0, 0, 0, 0, 0, 0, 0, 0, 0, 0, 0, 0, 0, 0, 0, 0, 0, 0, 0, 0, 0, 0, 0, 0, 0, 0, 0, 0, 0, 0, 0, 0, 0, 0, 0, 0, 0, 0, 0, 0, 0, 0, 0, 0, 0, 0, 0, 0, 0, 0, 0, 0, 0, 0, 0, 0, 0, 0, 0, 0, 0, 0, 0, 0, 0, 0, 0, 0, 0, 0, 0, 0, 0, 0, 0, 0, 0, 0, 0, 0, 0, 0, 0, 0, 0, 0, 0, 0, 0, 0, 0, 0, 0, 0, 0, 0, 0, 0, 0, 0, 0, 0, 0, 0, 0, 0, 0, 0, 0, 0, 0, 0, 0, 0, 0, 0, 0, 0, 0, 0, 0, 0, 0, 0, 0, 0, 0, 0, 0, 0, 0, 0, 0, 0, 0, 0, 0, 0, 0, 0, 0, 0, 0, 0, 0, 0, 0, 0, 0, 0, 0, 0, 0, 0, 0, 0, 0, 0, 0, 0, 0, 0, 0, 0, 0, 0, 0, 0, 0, 0, 0, 0, 0, 0, 0, 0, 0, 0, 0, 0, 0, 0, 0, 0, 0, 0, 0, 0, 0, 0, 0, 0, 0, 0, 0, 0, 0, 0, 0, 0, 0, 0, 0, 0, 0, 0, 0, 0, 0, 0, 0, 0, 0, 0, 0, 0, 0, 0, 0, 0, 0, 0, 0, 0, 0, 0, 0, 0, 0, 0, 0, 0, 0, 0, 0, 0, 0, 0, 0, 0, 0, 0, 0, 0, 0, 0, 0, 0, 0, 0, 0, 0, 0, 0, 0, 0, 0, 0, 0, 0, 0, 0, 0, 0, 0, 0, 0, 0, 0, 0, 0, 0, 0, 0, 0, 0, 0, 0, 0, 0, 0, 0, 0, 0, 0, 0, 0, 0, 0, 0, 0, 0, 0, 0, 0, 0, 0, 0, 0, 0, 0, 0, 0, 0, 0, 0, 0, 0, 0, 0, 0, 0, 0, 0, 0, 0, 0, 0, 0, 0, 0, 0, 0, 0, 0, 0, 0, 0, 0, 0, 0, 0, 0, 0, 0, 0, 0, 0, 0, 0, 0, 0, 0, 1, 0, 0, 0, 0, 0, 0, 0, 0, 0, 0, 0, 0, 0, 0, 0, 0, 0, 0, 0, 0, 0, 0, 0, 0, 0, 0, 0, 0, 0, 0, 0, 0, 0, 0, 0, 0, 0, 0, 0, 0, 0, 0, 0, 0, 0, 0, 0, 0, 0, 0, 0, 0, 0, 0, 0, 0, 0, 0, 0, 0, 0, 0, 0, 0, 0, 0, 0, 0, 0, 0, 0, 0, 0, 0, 0, 0, 0, 0, 0, 0, 0, 0, 0, 0, 0, 0, 0, 0, 0, 0, 0, 0, 0, 0, 0, 0, 0, 0, 0, 0, 0, 0, 0, 0, 0, 0, 0, 0, 0, 0, 0, 0, 0, 0, 0, 0, 0, 0, 0, 0, 0, 0, 0, 0, 0, 0, 0, 0, 0, 0, 0, 0, 0, 0, 0, 0, 0, 0, 0, 0, 0, 0, 0, 0, 0, 0, 0, 0, 0, 0, 0, 0, 0, 0, 0, 0, 0, 0, 0, 0, 0, 0, 0, 0, 0, 0, 0, 0, 0, 0, 0, 0, 0, 0, 0, 0, 0, 0, 0, 0, 0, 0, 0, 0, 0, 0, 0, 0, 0, 0, 0, 0, 0, 0, 0, 0, 0, 0, 0, 0, 0, 0, 0, 0, 0, 0, 0, 0, 0, 0, 0, 0, 0, 0, 0, 0, 0, 0, 0, 0, 0, 0, 0, 0, 0, 0, 0, 0, 0, 0, 0, 0, 0, 0, 0, 0, 0, 0, 0, 0, 0, 0, 0, 0, 0, 0, 0, 0, 0, 0, 0, 0, 0, 0, 0, 0, 0, 0, 0, 0, 0, 0, 0, 0, 0, 0, 0, 0, 0, 0, 0, 0, 0, 0, 0, 0, 0, 0, 0, 0, 0, 0, 0, 0, 0, 0, 0, 0, 0, 0, 0, 0, 0, 0, 0, 0, 0, 0, 0, 0, 0, 0, 0, 0, 0, 0, 0, 0, 0, 0, 0, 0, 0, 0, 0, 0, 0, 0, 0, 0, 0, 0, 0, 0, 0, 0, 0, 0, 0, 0, 0, 0, 0, 0, 0, 0, 0, 0, 0, 0, 0, 0, 0, 0, 0, 0, 0, 0, 0, 0, 0, 0, 0, 0, 0, 0, 0, 0, 0, 0, 0, 0, 0, 0, 0, 0, 0, 0, 0, 0, 0, 0, 0, 0, 0, 0, 0, 0, 0, 0, 0, 0, 0, 0, 0, 0, 0, 0, 0, 0, 0, 0, 0, 0, 0, 0, 0, 0, 0, 0, 0, 0, 0, 0, 0, 0, 0, 0, 0, 0, 0, 0, 0, 0, 0, 0, 0, 0, 0, 0, 0, 0, 0, 0, 0, 0, 0, 0, 0, 0, 0, 0, 0, 0, 0, 0, 0, 0, 0, 0, 0, 0, 0, 0, 0, 0, 0, 0, 0, 0, 0, 0, 0, 0, 0, 0, 0, 0, 0, 0, 0, 0, 0, 0, 0, 0, 0, 0, 0, 0, 0, 0, 0, 0, 0, 0, 0, 0, 0, 0, 0, 0, 0, 0, 0, 0, 0, 0, 0, 0, 0, 0, 0, 0, 0, 0, 0, 0, 0, 0, 0, 0, 0, 0, 0, 0, 0, 0, 0, 0, 0, 0, 1, 0, 0, 0, 0, 0, 0, 0, 0, 0, 0, 0, 0, 0, 0, 0, 0, 0, 0, 0, 0, 0, 0, 0, 0, 0, 0, 0, 0, 0, 0, 0, 0, 0, 0, 0, 2, 0, 0, 0, 0, 0, 0, 0, 0, 0, 0, 0, 0, 0, 0, 0, 0, 0, 0, 0, 0, 0, 0, 0, 0, 0, 0, 0, 0, 0, 0, 0, 0, 0, 0, 0, 0, 0, 0, 0, 0, 1, 0, 0, 0, 0, 0, 0, 0, 0, 0, 0, 0, 0, 0, 0, 0, 0, 0, 0, 0, 0, 0, 0, 0, 0, 0, 0, 0, 0, 0, 0, 0, 0, 0, 0, 0, 0, 0, 0, 0, 0, 0, 0, 0, 0, 0, 0, 0, 0, 0, 0, 0, 0, 0, 0, 0, 0, 0, 0, 0, 0, 0, 0, 0, 0, 0, 0, 0, 0, 0, 0, 0, 0, 0, 0, 0, 0, 0, 0, 0, 0, 0, 0, 0, 0, 0, 0, 0, 0, 0, 0, 0, 0, 0, 0, 0, 0, 0, 0, 0, 0, 0, 0, 0, 0, 0, 0, 0, 0, 0, 0, 0, 0, 0, 0, 0, 0, 0, 0, 0, 0, 0, 0, 0, 0, 0, 0, 0, 0, 0, 0, 0, 0, 0, 0, 0, 0, 0, 0, 0, 0, 0, 0, 0, 0, 0, 0, 0, 0, 0, 0, 0, 0, 0, 0, 0, 0, 0, 0, 0, 0, 0, 0, 0, 0, 0, 0, 0, 0, 0, 0, 0, 0, 0, 0, 0, 0, 0, 0, 0, 0, 0, 0, 0, 0, 0, 0, 0, 0, 0, 0, 0, 0, 0, 0, 0, 0, 0, 0, 0, 0, 0, 0, 0, 0, 0, 0, 0, 0, 0, 0, 0, 0, 0, 0, 0, 0, 0, 0, 0, 0, 0, 0, 0, 0, 0, 0, 0, 0, 0, 0, 0, 0, 0, 0, 0, 0, 0, 0, 0, 0, 0, 0, 0, 0, 0, 0, 0, 0, 0, 0, 0, 0, 0, 0, 0, 0, 0, 0, 0, 0, 0, 0, 0, 0, 0, 0, 0, 0, 0, 0, 0, 0, 0, 0, 0, 0, 0, 0, 0, 0, 0, 0, 0, 0, 0, 0, 0, 0, 0, 0, 0, 0, 0, 0, 0, 0, 0, 0, 0, 0, 0, 0, 0, 0, 0, 0, 0, 0, 0, 0, 0, 0, 0, 0, 0, 0, 0, 0, 0, 0, 0, 0, 0, 0, 0, 0, 0, 0, 0, 0, 0, 0, 0, 0, 0, 0, 0, 0, 0, 0, 0, 0, 0, 0, 0, 0, 0, 0, 0, 0, 0, 0, 0, 0, 0, 0, 0, 0, 0, 0, 0, 0, 0, 0, 0, 0, 0, 0, 0, 0, 0, 0, 0, 0, 0, 0, 0, 0, 0, 0, 0, 0, 0, 0, 0, 0, 0, 0, 0, 0, 0, 0, 0, 0, 0, 0, 0, 0, 0, 0, 0, 0, 0, 0, 0, 0, 0, 0, 0, 0, 0, 0, 0, 0, 0, 0, 0, 0, 0, 0, 0, 0, 0, 0, 0, 0, 0, 0, 0, 0, 0, 0, 0, 0, 0, 0, 0, 0, 0, 0, 0, 0, 0, 0, 0, 0, 0, 0, 0, 0, 0, 0, 0, 0, 0, 0, 0, 0, 0, 0, 0, 0, 0, 0, 0, 0, 0, 0, 0, 0, 0, 0, 0, 0, 0, 0, 0, 0, 0, 0, 0, 0, 0, 0, 0, 0, 0, 0, 0, 0, 0, 0, 0, 0, 0, 0, 0, 1, 0, 0, 0, 0, 0, 0, 0, 0, 0, 0, 0, 0, 0, 0, 0, 0, 0, 0, 0, 0, 0, 0, 0, 0, 0, 0, 0, 0, 0, 0, 0, 0, 0, 0, 0, 0, 0, 0, 0, 0, 0, 0, 0, 0, 0, 0, 0, 0, 0, 0, 0, 0, 0, 0, 0, 0, 0, 0, 0, 0, 0, 0, 0, 0, 0, 0, 0, 0, 0, 0, 0, 0, 0, 0, 0, 0, 0, 0, 0, 0, 0, 0, 0, 0, 0, 0, 0, 0, 0, 0, 0, 0, 0, 0, 0, 0, 0, 0, 0, 0, 0, 0, 0, 0, 0, 0, 0, 0, 0, 0, 2, 0, 0, 0, 0, 0, 0, 0, 0, 0, 0, 0, 0, 0, 0, 0, 0, 0, 0, 0, 0, 0, 0, 0, 0, 0, 0, 0, 0, 0, 0, 0, 0, 0, 0, 0, 0, 0, 0, 0, 0, 0, 0, 0, 0, 0, 0, 0, 0, 0, 0, 0, 0, 0, 0, 0, 0, 0, 0, 0, 0, 0, 0, 0, 0, 0, 0, 0, 0, 0, 0, 0, 0, 0, 0, 0, 0, 0, 0, 0, 0, 0, 0, 0, 0, 0, 0, 0, 0, 0, 0, 0, 0, 0, 0, 0, 0, 0, 0, 0, 0, 0, 0, 0, 0, 0, 0, 0, 0, 0, 0, 0, 0, 0, 0, 0, 0, 0, 0, 0, 0, 0, 0, 0, 0, 0, 0, 0, 0, 0, 0, 0, 0, 0, 0, 0, 0, 0, 0, 0, 0, 0, 0, 0, 0, 0, 0, 0, 0, 0, 0, 0, 0, 0, 0, 0, 0, 0, 0, 0, 0, 0, 0, 0, 0, 0, 0, 0, 0, 0, 0, 0, 0, 0, 0, 0, 0, 0, 0, 0, 0, 0, 0, 0, 0, 0, 0, 0, 0, 0, 0, 0, 0, 0, 0, 0, 0, 0, 0, 0, 0, 0, 0, 0, 0, 0, 0, 0, 0, 0, 0, 0, 0, 0, 0, 0, 0, 0, 0, 0, 0, 0, 0, 0, 0, 0, 0, 0, 0, 0, 0, 0, 0, 0, 0, 0, 0, 0, 0, 0, 0, 0, 0, 0, 0, 0, 0, 0, 0, 0, 0, 0, 0, 0, 0, 0, 0, 0, 0, 0, 0, 0, 0, 0, 0, 0, 0, 0, 0, 0, 0, 0, 0, 0, 0, 0, 0, 0, 0, 0, 0, 0, 0, 0, 0, 0, 0, 0, 0, 0, 0, 0, 0, 0, 0, 0, 0, 0, 0, 0, 0, 0, 0, 0, 0, 0, 0, 0, 0, 0, 0, 0, 0, 0, 0, 0, 0, 0, 0, 0, 0, 0, 0, 0, 0, 0, 0, 0, 0, 0, 0, 0, 0, 0, 0, 0, 0, 0, 0, 0, 0, 0, 0, 0, 0, 0, 0, 0, 0, 0, 0, 0, 0, 0, 0, 0, 0, 0, 0, 0, 0, 0, 0, 0, 0, 0, 0, 0, 0, 0, 0, 0, 0, 0, 0, 0, 0, 0, 0, 0, 0, 0, 0, 0, 0, 0, 0, 0, 0, 0, 0, 0, 0, 0, 0, 0, 0, 0, 0, 0, 0, 0, 0, 0, 0, 0, 0, 0, 0, 0, 0, 0, 0, 0, 0, 0, 0, 0, 0, 0, 0, 0, 0, 0, 0, 0, 0, 0, 0, 0, 0, 0, 0, 0, 0, 0, 0, 0, 0, 0, 0, 0, 0, 0, 0, 0, 0, 0, 0, 0, 0, 0, 0, 0, 0, 0, 0, 0, 0, 0, 0, 0, 0, 0, 0, 0, 0, 0, 0, 0, 0, 0, 0, 0, 0, 0, 0, 0, 0, 0, 0, 0, 0, 0, 0, 0, 0, 0, 0, 0, 0, 0, 0, 0, 0, 0, 0, 0, 0, 0, 0, 0, 0, 0, 0, 0, 0, 0, 0, 0, 0, 0, 0, 0, 0, 0, 0, 0, 0, 0, 0, 0, 0, 0, 0, 0, 0, 0, 0, 0, 0, 0, 0, 0, 0, 0, 0, 0, 0, 0, 0, 0, 0, 0, 0, 0, 0, 0, 0, 0, 0, 0, 0, 0, 0, 0, 0, 0, 0, 0, 0, 0, 0, 0, 0, 0, 0, 0, 0, 0, 0, 0, 0, 0, 0, 0, 0, 0, 0, 0, 0, 0, 0, 0, 0, 0, 0, 0, 0, 0, 0, 0, 0, 0, 0, 0, 0, 0, 0, 0, 0, 0, 0, 0, 0, 0, 0, 0, 0, 0, 0, 0, 0, 0, 0, 0, 0, 0, 0, 0, 0, 0, 0, 0, 0, 0, 0, 0, 0, 0, 0, 0, 0, 0, 0, 0, 0, 0, 0, 0, 0, 0, 0, 0, 0, 0, 0, 0, 0, 0, 0, 0, 0, 0, 0, 0, 0, 0, 0, 0, 0, 0, 0, 0, 0, 0, 0, 0, 0, 0, 0, 0, 0, 0, 0, 0, 0, 0, 0, 0, 0, 0, 0, 0, 0, 0, 0, 0, 0, 0, 0, 1, 0, 0, 0, 0, 0, 0, 0, 0, 0, 0, 0, 0, 0, 0, 0, 0, 0, 0, 0, 0, 0, 0, 0, 0, 0, 0, 0, 0, 0, 0, 0, 0, 0, 0, 0, 0, 0, 0, 0, 0, 0, 0, 0, 0, 0, 0, 0, 0, 0, 0, 0, 0, 0, 0, 0, 0, 0, 0, 0, 0, 0, 0, 0, 0, 0, 0, 0, 0, 0, 0, 0, 0, 0, 0, 0, 0, 0, 0, 0, 0, 0, 0, 0, 0, 0, 0, 0, 0, 0, 0, 0, 0, 0, 0, 0, 0, 0, 0, 0, 0, 0, 0, 0, 0, 0, 0, 0, 1, 0, 0, 0, 0, 0, 0, 0, 0, 0, 0, 0, 0, 0, 0, 0, 0, 0, 0, 0, 0, 0, 0, 0, 0, 0, 0, 0, 0, 0, 0, 0, 0, 0, 0, 0, 0, 0, 0, 0, 0, 0, 0, 0, 0, 0, 0, 0, 0, 0, 0, 0, 0, 0, 0, 0, 0, 0, 0, 0, 0, 0, 0, 0, 0, 0, 0, 0, 0, 0, 0, 0, 0, 0, 0, 0, 0, 0, 0, 0, 0, 0, 0, 0, 0, 0, 0, 0, 0, 0, 0, 0, 0, 0, 0, 0, 0, 0, 0, 0, 0, 0, 0, 0, 0, 0, 0, 0, 0, 0, 0, 0, 0, 0, 0, 0, 0, 0, 0, 0, 0, 0, 0, 0, 0, 0, 0, 0, 0, 0, 0, 0, 0, 0, 0, 0, 0, 0, 0, 0, 0, 0, 0, 0, 0, 0, 0, 0, 0, 0, 0, 0, 0, 0, 0, 0, 0, 0, 0, 0, 0, 0, 0, 0, 0, 0, 0, 0, 0, 0, 0, 0, 0, 0, 0, 0, 0, 0, 0, 0, 0, 0, 0, 0, 0, 0, 0, 0, 0, 0, 0, 0, 0, 0, 0, 0, 0, 0, 0, 0, 0, 0, 0, 0, 0, 0, 0, 0, 0, 0, 0, 0, 0, 0, 0, 0, 0, 0, 0, 0, 0, 0, 0, 0, 0, 0, 0, 0, 0, 0, 0, 0, 0, 0, 0, 0, 0, 0, 0, 0, 0, 0, 0, 0, 0, 0, 0, 0, 0, 0, 0, 0, 0, 0, 0, 0, 0, 0, 0, 0, 0, 0, 0, 0, 0, 0, 0, 0, 0, 0, 0, 0, 0, 0, 0, 0, 0, 0, 0, 0, 0, 0, 0, 0, 0, 0, 0, 0, 0, 0, 0, 0, 0, 0, 0, 0, 0, 0, 0, 0, 0, 0, 0, 0, 0, 0, 0, 0, 0, 0, 0, 0, 0, 0, 0, 0, 0, 0, 0, 0, 0, 0, 0, 0, 0, 0, 0, 0, 0, 0, 0, 0, 0, 0, 0, 0, 0, 0, 0, 0, 0, 0, 0, 0, 0, 0, 0, 0, 0, 0, 0, 0, 0, 0, 0, 0, 0, 0, 0, 0, 0, 0, 0, 0, 0, 0, 0, 0, 0, 0, 0, 0, 0, 0, 0, 0, 0, 0, 0, 0, 0, 0, 0, 0, 0, 0, 0, 0, 0, 0, 0, 0, 0, 0, 0, 0, 0, 0, 0, 0, 0, 0, 0, 0, 0, 0, 0, 0, 0, 0, 0, 0, 0, 0, 0, 0, 0, 0, 0, 0, 0, 0, 0, 0, 0, 0, 0, 0, 0, 0, 0, 0, 0, 0, 0, 0, 0, 0, 0, 0, 0, 0, 0, 0, 0, 0, 0, 0, 0, 0, 0, 0, 0, 0, 0, 0, 0, 0, 0, 0, 0, 0, 0, 0, 2, 0, 1, 0], type: <class 'list'>, valid types: <class 'bytes'>, <class 'bytearray'>, file-like object"
     ]
    }
   ],
   "source": [
    "response = runtime.invoke_endpoint(EndpointName = xgb_predictor.endpoint, # The name of the endpoint we created\n",
    "                                       ContentType = 'text/csv',                     # The data format that is expected\n",
    "                                       Body = test_bow)"
   ]
  },
  {
   "cell_type": "markdown",
   "metadata": {},
   "source": [
    "So why did we get an error?\n",
    "\n",
    "Because we tried to send the endpoint a list of integers but it expected us to send data of type `text/csv`. So, we need to convert it."
   ]
  },
  {
   "cell_type": "code",
   "execution_count": 53,
   "metadata": {},
   "outputs": [
    {
     "name": "stderr",
     "output_type": "stream",
     "text": [
      "The endpoint attribute has been renamed in sagemaker>=2.\n",
      "See: https://sagemaker.readthedocs.io/en/stable/v2.html for details.\n"
     ]
    }
   ],
   "source": [
    "response = runtime.invoke_endpoint(EndpointName = xgb_predictor.endpoint, # The name of the endpoint we created\n",
    "                                   ContentType = 'text/csv',                     # The data format that is expected\n",
    "                                   Body = ','.join([str(val) for val in test_bow]).encode('utf-8'))"
   ]
  },
  {
   "cell_type": "code",
   "execution_count": 54,
   "metadata": {},
   "outputs": [
    {
     "name": "stdout",
     "output_type": "stream",
     "text": [
      "{'ResponseMetadata': {'RequestId': '91844b06-7c01-4717-8ff6-1fa5398f0da0', 'HTTPStatusCode': 200, 'HTTPHeaders': {'x-amzn-requestid': '91844b06-7c01-4717-8ff6-1fa5398f0da0', 'x-amzn-invoked-production-variant': 'AllTraffic', 'date': 'Thu, 30 Jun 2022 13:06:25 GMT', 'content-type': 'text/csv; charset=utf-8', 'content-length': '19'}, 'RetryAttempts': 0}, 'ContentType': 'text/csv; charset=utf-8', 'InvokedProductionVariant': 'AllTraffic', 'Body': <botocore.response.StreamingBody object at 0x7f308bb7ab70>}\n"
     ]
    }
   ],
   "source": [
    "print(response)"
   ]
  },
  {
   "cell_type": "markdown",
   "metadata": {},
   "source": [
    "As we can see, the response from our model is a somewhat complicated looking dict that contains a bunch of information. The bit that we are most interested in is `'Body'` object which is a streaming object that we need to `read` in order to make use of."
   ]
  },
  {
   "cell_type": "code",
   "execution_count": 55,
   "metadata": {},
   "outputs": [
    {
     "name": "stdout",
     "output_type": "stream",
     "text": [
      "0.3187073767185211\n",
      "\n"
     ]
    }
   ],
   "source": [
    "response = response['Body'].read().decode('utf-8')\n",
    "print(response)"
   ]
  },
  {
   "cell_type": "markdown",
   "metadata": {},
   "source": [
    "Now that we know how to process the incoming user data we can start setting up the infrastructure to make our simple web app work. To do this we will make use of two different services. Amazon's Lambda and API Gateway services.\n",
    "\n",
    "Lambda is a service which allows someone to write some relatively simple code and have it executed whenever a chosen trigger occurs. For example, you may want to update a database whenever new data is uploaded to a folder stored on S3.\n",
    "\n",
    "API Gateway is a service that allows you to create HTTP endpoints (url addresses) which are connected to other AWS services. One of the benefits to this is that you get to decide what credentials, if any, are required to access these endpoints.\n",
    "\n",
    "In our case we are going to set up an HTTP endpoint through API Gateway which is open to the public. Then, whenever anyone sends data to our public endpoint we will trigger a Lambda function which will send the input (in our case a review) to our model's endpoint and then return the result."
   ]
  },
  {
   "cell_type": "markdown",
   "metadata": {},
   "source": [
    "### Setting up a Lambda function\n",
    "\n",
    "The first thing we are going to do is set up a Lambda function. This Lambda function will be executed whenever our public API has data sent to it. When it is executed it will receive the data, perform any sort of processing that is required, send the data (the review) to the SageMaker endpoint we've created and then return the result.\n",
    "\n",
    "#### Part A: Create an IAM Role for the Lambda function\n",
    "\n",
    "Since we want the Lambda function to call a SageMaker endpoint, we need to make sure that it has permission to do so. To do this, we will construct a role that we can later give the Lambda function.\n",
    "\n",
    "Using the AWS Console, navigate to the **IAM** page and click on **Roles**. Then, click on **Create role**. Make sure that the **AWS service** is the type of trusted entity selected and choose **Lambda** as the service that will use this role, then click **Next: Permissions**.\n",
    "\n",
    "In the search box type `sagemaker` and select the check box next to the **AmazonSageMakerFullAccess** policy. Then, click on **Next: Review**.\n",
    "\n",
    "Lastly, give this role a name. Make sure you use a name that you will remember later on, for example `LambdaSageMakerRole`. Then, click on **Create role**."
   ]
  },
  {
   "cell_type": "markdown",
   "metadata": {},
   "source": [
    "#### Part B: Create a Lambda function\n",
    "\n",
    "Now it is time to actually create the Lambda function. Remember from earlier that in order to process the user provided input and send it to our endpoint we need to gather two pieces of information:\n",
    "\n",
    " - The name of the endpoint, and\n",
    " - the vocabulary object.\n",
    "\n",
    "We will copy these pieces of information to our Lambda function after we create it.\n",
    "\n",
    "To start, using the AWS Console, navigate to the AWS Lambda page and click on **Create a function**. When you get to the next page, make sure that **Author from scratch** is selected. Now, name your Lambda function, using a name that you will remember later on, for example `sentiment_analysis_xgboost_func`. Make sure that the **Python 3.6** runtime is selected and then choose the role that you created in the previous part. Then, click on **Create Function**.\n",
    "\n",
    "On the next page you will see some information about the Lambda function you've just created. If you scroll down you should see an editor in which you can write the code that will be executed when your Lambda function is triggered. Collecting the code we wrote above to process a single review and adding it to the provided example `lambda_handler` we arrive at the following.\n",
    "\n",
    "```python\n",
    "# We need to use the low-level library to interact with SageMaker since the SageMaker API\n",
    "# is not available natively through Lambda.\n",
    "import boto3\n",
    "\n",
    "# And we need the regular expression library to do some of the data processing\n",
    "import re\n",
    "\n",
    "REPLACE_NO_SPACE = re.compile(\"(\\.)|(\\;)|(\\:)|(\\!)|(\\')|(\\?)|(\\,)|(\\\")|(\\()|(\\))|(\\[)|(\\])\")\n",
    "REPLACE_WITH_SPACE = re.compile(\"(<br\\s*/><br\\s*/>)|(\\-)|(\\/)\")\n",
    "\n",
    "def review_to_words(review):\n",
    "    words = REPLACE_NO_SPACE.sub(\"\", review.lower())\n",
    "    words = REPLACE_WITH_SPACE.sub(\" \", words)\n",
    "    return words\n",
    "    \n",
    "def bow_encoding(words, vocabulary):\n",
    "    bow = [0] * len(vocabulary) # Start by setting the count for each word in the vocabulary to zero.\n",
    "    for word in words.split():  # For each word in the string\n",
    "        if word in vocabulary:  # If the word is one that occurs in the vocabulary, increase its count.\n",
    "            bow[vocabulary[word]] += 1\n",
    "    return bow\n",
    "\n",
    "\n",
    "def lambda_handler(event, context):\n",
    "    \n",
    "    vocab = \"*** ACTUAL VOCABULARY GOES HERE ***\"\n",
    "    \n",
    "    words = review_to_words(event['body'])\n",
    "    bow = bow_encoding(words, vocab)\n",
    "\n",
    "    # The SageMaker runtime is what allows us to invoke the endpoint that we've created.\n",
    "    runtime = boto3.Session().client('sagemaker-runtime')\n",
    "\n",
    "    # Now we use the SageMaker runtime to invoke our endpoint, sending the review we were given\n",
    "    response = runtime.invoke_endpoint(EndpointName = '***ENDPOINT NAME HERE***',# The name of the endpoint we created\n",
    "                                       ContentType = 'text/csv',                 # The data format that is expected\n",
    "                                       Body = ','.join([str(val) for val in bow]).encode('utf-8')) # The actual review\n",
    "\n",
    "    # The response is an HTTP response whose body contains the result of our inference\n",
    "    result = response['Body'].read().decode('utf-8')\n",
    "    \n",
    "    # Round the result so that our web app only gets '1' or '0' as a response.\n",
    "    result = round(float(result))\n",
    "\n",
    "    return {\n",
    "        'statusCode' : 200,\n",
    "        'headers' : { 'Content-Type' : 'text/plain', 'Access-Control-Allow-Origin' : '*' },\n",
    "        'body' : str(result)\n",
    "    }\n",
    "```"
   ]
  },
  {
   "cell_type": "markdown",
   "metadata": {},
   "source": [
    "Once you have copy and pasted the code above into the Lambda code editor, replace the `**ENDPOINT NAME HERE**` portion with the name of the endpoint that we deployed earlier. You can determine the name of the endpoint using the code cell below."
   ]
  },
  {
   "cell_type": "code",
   "execution_count": 62,
   "metadata": {},
   "outputs": [
    {
     "data": {
      "text/plain": [
       "'xgboost-2022-06-29-21-17-46-631'"
      ]
     },
     "execution_count": 62,
     "metadata": {},
     "output_type": "execute_result"
    }
   ],
   "source": [
    "xgb_predictor.endpoint"
   ]
  },
  {
   "cell_type": "markdown",
   "metadata": {},
   "source": [
    "In addition, you will need to copy the vocabulary dict to the appropriate place in the code at the beginning of the `lambda_handler` method. The cell below prints out the vocabulary dict in a way that is easy to copy and paste."
   ]
  },
  {
   "cell_type": "code",
   "execution_count": 63,
   "metadata": {},
   "outputs": [
    {
     "name": "stdout",
     "output_type": "stream",
     "text": [
      "{'come': 886, 'on': 3105, 'get': 1899, 'over': 3148, 'with': 4911, 'the': 4426, 'guys': 2001, 'bollywood': 530, 'can': 665, 'not': 3040, 'only': 3110, 'make': 2713, 'brilliant': 583, 'movies': 2927, 'but': 636, 'seriously': 3892, 'affect': 136, 'generation': 1883, 'of': 3083, 'viewers': 4739, 'am': 204, 'huge': 2185, 'fan': 1648, 'anti': 254, 'just': 2437, 'me': 2778, 'too': 4522, 'much': 2934, 'to': 4507, 'enjoy': 1484, 'screenplay': 3831, 'cinematography': 820, 'action': 100, 'sequences': 3888, 'everything': 1544, 'im': 2232, 'really': 3556, 'happy': 2032, 'see': 3855, 'that': 4424, 'both': 547, 'sides': 3967, 'border': 539, 'are': 285, 'propaganda': 3435, 'and': 226, 'there': 4438, 'like': 2599, 'main': 2707, 'out': 3141, 'have': 2052, 'done': 1322, 'brilliantly': 584, 'because': 432, 'they': 4442, 'deserved': 1200, 'quality': 3484, 'its': 2370, 'also': 199, 'it': 2366, 'tries': 4585, 'say': 3799, 'give': 1912, 'peace': 3219, 'chance': 747, 'shows': 3960, 'who': 4871, 'do': 1302, 'represent': 3637, 'masses': 2755, 'actually': 109, 'this': 4457, 'is': 2360, 'lie': 2590, 'was': 4805, 'first': 1736, '3d': 46, 'animated': 241, 'movie': 2926, 'bought': 552, 'dvd': 1391, 'about': 67, 'years': 4979, 'ago': 154, 'didnt': 1242, 'bugs': 613, 'life': 2592, 'think': 4452, 'at': 331, 'in': 2257, 'tree': 4576, 'so': 4046, 'saying': 3800, 'before': 440, 'go': 1924, 'use': 4692, 'as': 311, 'motion': 2913, 'universal': 4665, 'studios': 4241, 'should': 3951, 'still': 4188, 'consider': 949, 'appeared': 276, 'theater': 4427, 'you': 4986, 'could': 1007, 'buy': 640, 'for': 1784, 'cute': 1090, 'least': 2554, 'little': 2624, 'were': 4848, 'liked': 2600, 'agree': 155, 'did': 1241, 'god': 1926, 'job': 2405, 'making': 2718, 'something': 4066, 'back': 378, 'adventure': 130, 'recommend': 3571, 'families': 1644, 'kids': 2467, 'rachel': 3500, 'john': 2409, 'all': 187, 'top': 4525, 'form': 1798, 'here': 2086, 'deserve': 1199, 'oscar': 3133, 'their': 4431, 'performances': 3229, 'great': 1964, 'tv': 4610, 'show': 3953, 'music': 2946, 'rocks': 3722, 'theyre': 4445, 'talented': 4355, 'if': 2222, 'youre': 4992, 'an': 223, 'club': 863, 'read': 3543, 'terribly': 4408, 'weak': 4824, 'dialogue': 1234, 'terrible': 4407, 'jokes': 2415, 'even': 1533, 'executed': 1565, 'properly': 3437, 'feel': 1684, 'sorry': 4076, 'director': 1264, 'unbelievably': 4635, 'bad': 382, 'passionate': 3206, 'fans': 1650, 'werent': 4849, 'laughing': 2533, 'thought': 4462, 'better': 472, 'world': 4946, 'became': 431, 'paul': 3214, 'fat': 1663, 'ugly': 4625, 'one': 3107, 'started': 4157, 'band': 391, 'must': 2950, 'be': 418, 'his': 2118, 'lucky': 2683, 'stars': 4155, 'he': 2056, 'left': 2561, 'when': 4862, 'worst': 4952, 'ever': 1538, 'made': 2697, 'wont': 4932, 'laugh': 2529, 'will': 4886, 'cry': 1073, '10': 0, 'saw': 3798, 'again': 146, 'recently': 3567, 'comedy': 890, 'central': 735, 'id': 2212, 'love': 2669, 'jean': 2389, 'cast': 710, 'mother': 2911, 'son': 4070, 'film': 1716, 'would': 4957, 'probably': 3407, 'off': 3084, 'waters': 4817, 'consistently': 954, 'funny': 1852, 'ok': 3098, 'mindless': 2851, 'corny': 997, 'acting': 99, 'very': 4723, 'small': 4033, 'plot': 3309, 'special': 4097, 'effects': 1431, 'decent': 1147, 'considering': 952, 'from': 1840, 'costumes': 1006, 'mad': 2696, 'max': 2774, 'none': 3028, 'soldiers': 4054, 'talk': 4358, 'others': 3136, 'tell': 4395, 'them': 4432, 'what': 4858, 'eventually': 1537, 'end': 1468, 'up': 4683, 'big': 478, 'explosions': 1597, 'place': 3282, 'personally': 3243, 'russell': 3761, 'la': 2500, 'new': 3003, 'york': 4985, 'executive': 1567, 'decision': 1151, 'leave': 2555, 'your': 4991, 'mind': 2849, 'door': 1328, 'no': 3020, 'science': 3816, 'fiction': 1702, 'once': 3106, 'upon': 4684, 'time': 4495, 'different': 1248, 'types': 4622, 'these': 4441, 'though': 4461, 'each': 1395, 'had': 2003, 'offer': 3087, 'seems': 3864, 'obvious': 3071, 'point': 3316, 'during': 1387, 'review': 3676, 'few': 1700, 'people': 3221, 'may': 2775, 'forgotten': 1797, 'fun': 1848, 'thats': 4425, 'doesnt': 1309, 'claim': 828, 'anything': 260, 'else': 1448, 'or': 3124, 'fell': 1690, 'short': 3946, 'promise': 3430, 'arent': 288, 'seeing': 3857, 'whole': 4873, 'picture': 3269, 'literally': 2622, 'after': 143, 'hollywood': 2137, 'makes': 2716, 'wife': 4884, 'examples': 1554, 'spring': 4134, 'vehicle': 4718, 'worse': 4951, 'things': 4451, 'singing': 3995, 'fabulous': 1615, 'starts': 4159, 'maria': 2736, 'then': 4436, 'sings': 3997, 'popular': 3333, 'such': 4268, 'my': 2951, 'heart': 2064, 'san': 3780, 'francisco': 1819, 'song': 4071, 'nominated': 3025, 'golden': 1934, 'we': 4823, 'by': 642, 'williams': 4888, 'lyrics': 2692, 'alan': 171, 'bergman': 466, 'previous': 3387, 'story': 4207, 'isnt': 2362, 'built': 618, 'course': 1019, 'going': 1931, 'profound': 3423, 'average': 362, 'viewer': 4738, 'famous': 1647, 'opera': 3116, 'singer': 3993, 'night': 3013, 'asked': 317, 'sing': 3992, 'same': 3778, 'met': 2822, 'nyc': 3065, 'loses': 2657, 'voice': 4761, 'fear': 1676, 'doctor': 1304, 'pamela': 3179, 'italian': 2367, 'played': 3297, 'gives': 1914, 'him': 2110, 'shot': 3949, 'cure': 1081, 'reaction': 3541, 'offers': 3090, 'her': 2085, 'she': 3923, 'affair': 135, 'knowing': 2490, 'hes': 2093, 'married': 2744, 'promising': 3433, 'fall': 1637, 'thinking': 4453, 'another': 250, 'woman': 4921, 'despite': 1211, 'thus': 4486, 'help': 2079, 'goes': 1930, 'where': 4864, 'how': 2181, 'ends': 1474, 'fairly': 1631, 'predictable': 3367, 'which': 4867, 'always': 203, 'thing': 4450, 'plays': 3301, 'actor': 103, 'expecting': 1578, 'tracy': 4546, 'tom': 4514, 'hanks': 2025, 'performance': 3228, 'knows': 2493, 'charming': 768, 'charismatic': 763, 'having': 2054, 'himself': 2111, 'let': 2579, 'yourself': 4993, 'line': 2610, 'tells': 4397, 'shes': 3930, 'plant': 3293, 'water': 4816, 'says': 3801, 'dont': 1324, 'want': 4788, 'sweet': 4336, 'does': 1308, 'nice': 3008, 'semi': 3874, 'learns': 2553, 'man': 2721, 'live': 2625, 'favorite': 1671, 'lines': 2612, 'never': 3001, 'has': 2043, 'size': 4012, 'theres': 4440, 'eddie': 1416, 'albert': 174, 'usual': 4699, 'good': 1937, 'manager': 2724, 'several': 3905, 'themselves': 4435, 'cameos': 658, 'real': 3547, 'singers': 3994, 'etc': 1527, 'filmed': 1717, 'location': 2635, 'lincoln': 2608, 'center': 732, 'know': 2489, 'every': 1539, 'watching': 4815, 'times': 4497, 'child': 789, 'quite': 3495, 'experience': 1580, '15': 7, 'now': 3054, 'ive': 2372, 'found': 1811, 'display': 1291, 'lessons': 2578, 'recommended': 3572, 'family': 1645, 'viewing': 4740, 'young': 4989, 'while': 4868, 'holds': 2131, 'adult': 125, 'learned': 2551, 'many': 2732, 'trying': 4601, 'find': 1726, 'today': 4508, 'hard': 2033, 'enough': 1491, 'believe': 454, 'well': 4843, 'worth': 4953, 'matter': 2769, 'age': 148, 'anime': 243, 'especially': 1520, 'entry': 1504, 'impressive': 2253, 'art': 304, 'work': 4940, 'unique': 4662, 'designs': 1204, 'represents': 3639, 'worthwhile': 4955, 'some': 4061, 'songs': 4072, 'hot': 2174, 'recorded': 3574, 'english': 1483, 'musical': 2947, 'score': 3822, 'nevertheless': 3002, 'captivating': 675, 'far': 1653, 'than': 4420, 'released': 3603, 'unfortunately': 4654, 'went': 4847, 'print': 3399, 'mid': 2832, '1980s': 21, 'home': 2142, 'video': 4733, 'received': 3564, 'any': 256, 'format': 1799, 'release': 3602, 'knowledge': 2491, 'us': 4690, 'look': 2646, 'satisfied': 3789, 'intense': 2316, 'enjoyable': 1485, 'important': 2247, 'japanese': 2382, 'animation': 242, 'delight': 1167, 'fred': 1825, 'astaire': 330, 'joan': 2404, 'terrific': 4409, 'supporting': 4304, 'headed': 2058, 'allen': 188, 'george': 1893, 'burns': 628, 'typically': 4624, 'silly': 3976, 'american': 213, 'dance': 1103, 'star': 4150, 'england': 1482, 'secretary': 3850, 'being': 448, 'women': 4923, 'falling': 1639, 'victim': 4729, 'right': 3696, 'runs': 3757, 'into': 2332, 'held': 2074, 'castle': 712, 'aunt': 355, 'father': 1666, 'include': 2261, 'day': 1129, 'looking': 2648, 'cant': 671, 'bothered': 549, 'brief': 579, 'number': 3060, 'surprisingly': 4316, 'numbers': 3061, 'including': 2264, 'inventive': 2341, 'through': 4477, 'park': 3190, 'harry': 2039, 'ray': 3533, 'noble': 3021, 'lead': 2545, 'middle': 2833, 'trio': 4587, 'facial': 1619, 'expressions': 1603, 'hilarious': 2106, 'scene': 3809, 'fields': 1705, 'old': 3100, 'fashioned': 1660, 'way': 4820, 'playing': 3300, 'abuse': 74, 'been': 438, 'absence': 70, 'ginger': 1908, 'rogers': 3725, 'noted': 3045, 'elsewhere': 1449, 'miscast': 2862, 'host': 2173, 'notes': 3046, 'ruby': 3749, 'considered': 951, 'two': 4620, 'more': 2904, 'fine': 1729, 'dynamic': 1394, 'allows': 192, 'belong': 459, 'comic': 893, 'relief': 3605, 'rare': 3523, 'half': 2007, 'reviews': 3679, 'took': 4523, 'sure': 4308, 'sex': 3907, 'wasnt': 4807, 'later': 2525, 'other': 3135, 'actress': 105, 'documentary': 1307, 'maker': 2714, 'waste': 4808, 'nights': 3016, 'based': 404, 'industry': 2280, 'nothing': 3047, 'happened': 2027, 'shocked': 3939, 'whats': 4860, 'films': 1721, 'todays': 4509, 'videos': 4734, 'minutes': 2859, 'shoot': 3942, 'joke': 2414, 'bigger': 479, 'decades': 1145, 'early': 1400, '1970s': 17, 'attempted': 341, 'chinese': 796, 'players': 3299, 'caliber': 649, 'walter': 4784, 'among': 217, 'perhaps': 3235, 'partly': 3197, 'written': 4972, 'pearl': 3220, 'buck': 605, 'got': 1944, 'prize': 3405, 'novel': 3052, 'ms': 2931, 'daughter': 1121, 'brought': 600, 'china': 795, 'closer': 856, 'america': 212, 'person': 3238, 'political': 3324, 'struggles': 4235, 'lives': 2628, 'earth': 1403, 'rest': 3657, 'matched': 2763, 'description': 1197, 'comparing': 913, 'australia': 356, 'peter': 3247, 'difference': 1246, 'said': 3774, 'full': 1846, 'empty': 1465, 'deal': 1135, 'large': 2517, 'house': 2178, 'slave': 4022, 'bears': 421, 'sons': 4073, 'sees': 3866, 'revolution': 3680, 'plague': 3285, 'won': 4925, 'second': 3846, 'oscars': 3134, 'portraying': 3343, 'set': 3898, 'kind': 2476, 'record': 3573, 'leading': 2547, 'player': 3298, 'amount': 219, 'dialog': 1232, 'practically': 3362, 'silent': 3975, 'minimal': 2855, 'subtitles': 4259, 'words': 4938, 'mentally': 2809, 'retarded': 3663, 'male': 2719, 'culture': 1079, 'helps': 2082, 'field': 1704, 'becomes': 434, 'property': 3438, 'takes': 4351, 'causes': 725, 'lot': 2661, 'tribute': 4581, 'bucks': 606, 'writing': 4971, 'hate': 2046, 'weve': 4856, 'group': 1980, 'kung': 2498, 'fu': 1844, 'surprised': 4313, 'ill': 2228, 'bet': 470, 'government': 1948, 'company': 910, 'actual': 108, 'till': 4493, 'classic': 835, 'appreciate': 279, 'interesting': 2325, 'train': 4556, 'research': 3644, 'flow': 1762, 'stated': 4161, 'body': 527, 'passed': 3202, 'filming': 1718, 'creation': 1040, 'grey': 1973, 'sounded': 4082, 'station': 4164, 'co': 867, 'obscure': 3068, 'stock': 4193, 'vhs': 4725, 'edie': 1419, 'living': 2629, 'past': 3207, 'oh': 3096, 'glorious': 1921, 'born': 544, 'wonderful': 4928, 'relationships': 3598, 'fashion': 1659, 'model': 2880, 'nervous': 2999, 'shadow': 3912, 'jackie': 2374, 'came': 656, 'cousin': 1021, 'room': 3735, 'mansion': 2731, 'worn': 4948, 'down': 1335, 'notice': 3048, 'fresh': 1833, 'paint': 3173, 'walls': 4783, 'carefully': 689, 'newspaper': 3006, 'dirty': 1268, 'mess': 2818, 'comes': 891, 'clever': 841, 'creative': 1041, 'gets': 1900, 'impression': 2252, 'likes': 2602, 'nude': 3058, 'beautiful': 428, 'beauty': 430, 'tea': 4373, 'attractive': 351, 'everyone': 1542, 'cat': 713, 'behind': 447, 'states': 4163, 'someone': 4064, 'doing': 1312, 'coming': 896, 'beloved': 461, 'ironically': 2356, 'heard': 2062, 'until': 4680, 'yet': 4984, 'best': 469, 'late': 2523, '80s': 59, 'hands': 2020, 'period': 3236, 'recent': 3566, 'talking': 4360, 'swedish': 4335, 'cinema': 816, 'merely': 2815, 'solid': 4057, 'unlike': 4670, 'anna': 245, 'fantasy': 1652, 'ties': 4490, 'loose': 2650, 'together': 4511, 'questions': 3489, 'purpose': 3474, 'leaving': 2557, 'individuals': 2278, 'interpretation': 2328, 'wrong': 4973, 'theme': 4433, 'somewhat': 4068, 'unusual': 4681, 'mix': 2876, 'horror': 2168, 'effective': 1429, 'sounds': 4084, 'fact': 1621, 'character': 758, 'typical': 4623, 'cliché': 844, 'ultra': 4629, 'shy': 3962, 'secretly': 3851, 'social': 4049, 'girl': 1909, 'regular': 3592, 'normal': 3033, 'kid': 2464, 'refreshing': 3586, 'sick': 3963, 'tired': 4501, 'writers': 4969, 'own': 3158, 'books': 536, 'onto': 3111, 'screens': 3832, 'anyone': 259, 'cares': 690, 'anymore': 258, 'watch': 4811, 'lonely': 2643, 'childhood': 790, 'background': 380, 'potential': 3355, 'boy': 557, 'stretch': 4221, 'bit': 488, 'feelings': 1686, 'vague': 4705, 'supposed': 4306, '11': 2, 'turned': 4606, '13': 4, '14': 6, 'idea': 2213, 'why': 4878, 'characters': 760, 'younger': 4990, 'directors': 1266, 'older': 3101, 'play': 3296, 'hence': 2083, 'realism': 3549, 'giving': 1915, 'credit': 1049, 'due': 1382, 'sets': 3899, 'mention': 2810, 'undoubtedly': 4648, 'lowest': 2678, 'long': 2644, 'career': 686, 'script': 3834, 'clumsy': 866, 'possibly': 3351, 'imagine': 2238, 'neither': 2996, 'nor': 3032, 'william': 4887, 'sir': 4000, 'looks': 2649, 'extremely': 1610, 'page': 3167, 'poor': 3328, 'costume': 1005, 'heroine': 2091, 'role': 3726, 'except': 1556, 'couple': 1016, 'uninspired': 4657, 'dubbed': 1379, 'occasion': 3073, 'plain': 3286, 'awful': 372, 'mark': 2739, 'wit': 4908, 'evident': 1547, 'die': 1243, 'given': 1913, 'direction': 1261, 'extras': 1608, 'dull': 1384, 'children': 792, 'loving': 2675, 'fighting': 1709, 'land': 2511, 'law': 2538, 'order': 3126, 'respect': 3652, 'ultimate': 4627, 'hired': 2117, 'guns': 1998, 'worked': 4941, 'earlier': 1399, 'scenes': 3811, 'general': 1880, 'disappointing': 1274, 'ending': 1471, 'religion': 3607, 'established': 1524, 'roots': 3738, 'town': 4541, 'drives': 1367, 'around': 297, 'occurs': 3078, 'nicely': 3009, 'staged': 4140, 'ride': 3692, 'trap': 4563, 'ex': 1549, 'guy': 2000, 'need': 2987, 'gun': 1996, 'most': 2909, 'adaptation': 113, 'magic': 2703, 'version': 4720, 'remains': 3611, 'pretty': 3384, 'faithful': 1634, 'original': 3129, 'lay': 2542, 'blame': 499, 'fault': 1668, 'lies': 2591, 'pace': 3161, 'generally': 1881, 'expect': 1575, 'filled': 1715, 'instead': 2307, 'tedious': 4387, 'familiar': 1643, 'definitely': 1162, 'book': 535, 'achieve': 92, 'put': 3480, 'childrens': 793, 'amanda': 205, 'root': 3737, 'friendly': 1836, 'under': 4639, 'cruel': 1070, 'mrs': 2930, 'evening': 1534, 'window': 4894, 'spots': 4132, 'massive': 2756, 'figure': 1711, 'walking': 4779, 'village': 4743, 'street': 4216, 'seen': 3865, 'reaches': 3538, 'bed': 436, 'enormous': 1490, 'soon': 4074, 'discovers': 1281, 'kidnapped': 2466, 'giant': 1905, 'country': 1014, 'fears': 1677, 'eat': 1411, 'turns': 4609, 'sensitive': 3879, 'member': 2800, 'species': 4098, 'introduces': 2338, 'david': 1124, 'jason': 2383, 'refuses': 3587, 'foul': 1810, 'known': 2492, 'however': 2183, 'numerous': 3062, 'happens': 2029, 'humans': 2190, 'become': 433, 'friends': 1837, 'plan': 3287, 'queen': 3485, 'angela': 232, 'remarkable': 3613, 'send': 3875, 'army': 295, 'air': 164, 'force': 1786, 'fight': 1707, 'eating': 1413, 'agrees': 157, 'begins': 444, 'dangerous': 1110, 'operation': 3117, 'capture': 676, 'voices': 4763, 'almost': 193, 'ruined': 3751, 'sound': 4081, 'bring': 585, 'similarly': 3980, 'lacks': 2505, 'appeal': 271, 'designed': 1203, 'places': 3284, 'occasional': 3074, 'exactly': 1551, 'lengthy': 2570, 'drags': 1345, 'badly': 383, 'parts': 3199, 'humour': 2194, 'chapter': 757, 'deals': 1137, 'loud': 2664, 'section': 3853, 'totally': 4532, 'killed': 2469, 'unfunny': 4655, 'lots': 2662, 'enjoyment': 1488, 'opposite': 3123, 'failed': 1626, 'simply': 3986, 'match': 2762, 'department': 1182, 'therefore': 4439, 'skip': 4016, 'program': 3424, 'stinks': 4192, 'smile': 4036, 'patrick': 3213, 'hopeless': 2158, 'somebody': 4062, 'memories': 2803, 'sense': 3877, 'perspective': 3245, 'paranoia': 3186, 'rules': 3754, 'dark': 1115, 'everybody': 1540, 'unpleasant': 4674, 'reason': 3557, 'pointless': 3318, 'nobody': 3022, 'production': 3419, 'crew': 1053, 'snow': 4045, 'low': 2676, 'budget': 610, 'taking': 4352, 'storyline': 4208, 'complete': 921, 'phantom': 3251, 'mall': 2720, 'exception': 1557, 'rule': 3753, 'screenwriter': 3833, 'moves': 2925, 'goal': 1925, 'revenge': 3675, 'those': 4460, 'responsible': 3656, 'face': 1616, 'provide': 3448, 'begin': 442, 'appearing': 277, 'stand': 4143, 'allow': 189, 'fully': 1847, 'obnoxious': 3067, 'mostly': 2910, 'fifteen': 1706, 'mtv': 2933, 'fame': 1642, 'arrived': 301, 'laughs': 2534, 'actors': 104, 'check': 777, 'flick': 1754, 'otherwise': 3137, 'keep': 2449, 'looked': 2647, 'pathetic': 3210, 'although': 201, 'cut': 1089, 'might': 2835, 'exciting': 1563, 'latest': 2526, 'beginning': 443, 'stories': 4205, 'bound': 553, 'meet': 2793, 'high': 2100, 'society': 4050, 'lady': 2507, 'smaller': 4034, 'shoes': 3941, 'care': 684, 'drug': 1373, 'dancer': 1104, 'obsessed': 3069, 'former': 1800, 'boyfriend': 558, 'taxi': 4371, 'driver': 1366, 'husbands': 2205, 'disturbed': 1299, 'streets': 4217, 'using': 4698, 'actresses': 106, 'succeeds': 4264, 'depth': 1190, 'create': 1036, 'genuine': 1891, 'sympathy': 4343, 'men': 2805, 'standard': 4144, 'needed': 2988, 'act': 97, 'shown': 3959, 'anyway': 261, 'screen': 3829, 'poorly': 3329, 'conspiracy': 956, 'drama': 1346, 'mystery': 2956, 'possibility': 3349, 'aids': 161, 'introduced': 2337, 'public': 3460, 'gay': 1876, 'answers': 252, 'within': 4912, 'itself': 2371, 'camera': 659, 'true': 4596, 'shallow': 3917, 'amateur': 206, 'convey': 982, 'grade': 1951, 'watched': 4813, 'last': 2521, 'excellent': 1555, 'development': 1225, 'without': 4913, 'away': 369, 'ordinary': 3128, 'joe': 2407, 'office': 3091, 'inspired': 2301, 'take': 4349, 'along': 195, 'protagonist': 3441, 'meets': 2795, 'quest': 3486, 'smooth': 4041, 'floor': 1759, 'learn': 2550, 'dancing': 1107, 'japan': 2381, 'simple': 3983, 'youll': 4988, 'sight': 3969, 'gags': 1862, 'describe': 1194, 'taken': 4350, 'classes': 834, 'friend': 1835, 'learning': 2552, 'try': 4600, 'teens': 4392, 'certainly': 738, 'caring': 691, 'remake': 3612, 'shall': 3916, 'perfect': 3224, 'enter': 1494, '40': 48, 'single': 3996, 'wasting': 4810, 'anywhere': 263, 'quick': 3490, 'sexual': 3908, 'encounter': 1466, 'normally': 3034, 'school': 3813, 'teacher': 4375, 'student': 4238, 'carrying': 701, 'crush': 1072, 'rather': 3528, 'unrealistic': 4677, 'example': 1553, 'womens': 4924, 'mature': 2773, 'police': 3322, 'officer': 3092, 'sinister': 3998, 'easy': 1410, 'stop': 4201, 'front': 1841, 'car': 680, 'happen': 2026, 'hoped': 2156, 'happily': 2030, 'involved': 2346, 'part': 3193, 'stay': 4166, 'maybe': 2776, 'producers': 3416, 'aware': 368, 'romance': 3732, 'between': 475, 'waiting': 4772, 'sad': 3767, 'glimpse': 1919, 'hope': 2155, 'lost': 2660, 'continued': 970, 'nonetheless': 3029, 'year': 4978, 'letters': 2582, 'christmas': 810, 'jesus': 2399, 'sent': 3880, 'delivered': 1170, 'dropped': 1370, 'corner': 996, 'post': 3352, 'unless': 4669, 'bright': 581, 'figures': 1713, 'bizarre': 492, 'settings': 3901, 'winner': 4897, 'perfectly': 3226, 'fits': 1741, 'strange': 4211, 'dead': 1132, 'letter': 2581, 'obviously': 3072, 'australian': 357, 'opposed': 3122, 'british': 589, 'royal': 3746, 'mail': 2706, 'sort': 4077, 'treatment': 4574, 'havent': 2053, 'flat': 1748, 'getting': 1901, 'mr': 2929, 'female': 1693, 'priest': 3392, 'church': 813, 'latter': 2528, 'various': 4715, 'equipment': 1511, 'name': 2960, 'follows': 1775, 'alice': 182, 'grows': 1985, 'finds': 1728, 'herself': 2092, 'working': 4944, 'alongside': 196, 'frank': 1821, 'del': 1165, 'slowly': 4032, 'drawn': 1351, 'dad': 1095, 'bringing': 586, 'self': 3869, 'contained': 963, 'against': 147, 'reminded': 3619, 'committed': 905, 'pile': 3275, 'horse': 2170, 'crap': 1031, 'aint': 163, 'difficult': 1249, 'start': 4156, 'logical': 2639, 'blatant': 502, 'symbolism': 4341, 'quickly': 3491, 'quirky': 3493, 'drivel': 1364, 'acted': 98, 'lovers': 2673, 'theyll': 4444, 'trouble': 4592, 'wrap': 4963, 'disappointed': 1273, 'ie': 2221, 'speak': 4094, 'unlikely': 4671, 'reality': 3551, 'sadly': 3769, 'odd': 3080, 'ball': 388, 'stereotypes': 4179, 'everyones': 1543, 'taste': 4369, 'yes': 4982, 'sometimes': 4067, 'violence': 4747, 'heavy': 2070, 'duty': 1390, 'nudity': 3059, 'major': 2711, 'bullet': 620, 'usually': 4700, 'dimensional': 1253, 'pleasant': 3302, 'passing': 3204, 'equivalent': 1512, 'cd': 728, 'listen': 2619, 'wouldnt': 4958, 'miss': 2866, 'murphy': 2944, 'forget': 1793, 'professor': 3422, 'pretending': 3382, 'michael': 2829, 'jackson': 2375, 'artists': 309, 'killers': 2471, 'daring': 1114, 'drunken': 1376, 'falls': 1640, 'sequel': 3885, 'raw': 3532, 'enjoyed': 1486, 'fantastic': 1651, 'michelle': 2830, 'convincing': 985, 'showing': 3958, 'dealing': 1136, 'ignorant': 2223, 'loved': 2670, 'died': 1244, 'sadness': 3770, 'felt': 1692, 'passion': 3205, 'dream': 1354, 'ended': 1470, 'decide': 1148, 'future': 1856, 'sport': 4129, 'suggest': 4280, 'rarely': 3524, 'write': 4967, 'compelled': 915, 'warn': 4797, 'expectations': 1576, 'since': 3990, 'listed': 2618, 'martial': 2747, 'arts': 310, 'convinced': 984, 'jobs': 2406, 'barely': 399, 'consists': 955, 'amazing': 209, 'thin': 4449, 'routine': 3743, 'standards': 4145, 'warning': 4800, 'ship': 3934, 'horrendous': 2162, 'era': 1513, 'sixties': 4011, 'seventies': 3904, 'began': 441, 'gratuitous': 1961, 'mainstream': 2709, 'hardcore': 2034, 'porn': 3336, '1968': 16, '1972': 18, 'cult': 1077, 'able': 66, 'roles': 3727, 'flicks': 1755, 'subsequent': 4257, 'credits': 1050, 'proved': 3446, 'seemingly': 3863, 'gary': 1873, 'talent': 4354, 'genre': 1888, 'skill': 4013, 'combined': 885, 'presence': 3373, 'sandra': 3782, 'pleasantly': 3303, 'finger': 1731, 'fast': 1661, 'forward': 1808, 'button': 639, '12': 3, 'works': 4945, 'level': 2584, 'baby': 376, 'horrible': 2163, 'alas': 172, 'logic': 2638, 'forever': 1792, 'basic': 406, 'physical': 3262, 'ignored': 2225, 'cold': 872, 'comments': 901, 'return': 3665, 'brothers': 599, 'festival': 1697, 'scott': 3824, 'brooklyn': 595, 'brother': 598, 'journey': 2421, 'black': 493, 'deep': 1154, 'hearts': 2066, 'minds': 2852, 'deeply': 1156, 'understand': 4643, 'complexity': 924, 'imagery': 2234, 'business': 633, 'backdrop': 379, 'tone': 4517, 'rich': 3685, 'revealing': 3672, 'portrait': 3339, 'sarah': 3785, 'already': 197, 'yeah': 4977, 'heck': 2071, 'kudos': 2497, 'channel': 753, 'finally': 1724, 'meaning': 2780, 'humor': 2192, 'episode': 1507, 'next': 3007, 'week': 4837, 'south': 4087, 'completely': 922, 'outrageous': 3145, 'reading': 3544, 'phone': 3255, 'delivery': 1173, 'beat': 423, 'choice': 797, 'material': 2766, 'stuff': 4243, 'chooses': 800, 'deliver': 1169, 'thank': 4421, 'cinematic': 818, 'techniques': 4384, 'landscape': 2513, 'capturing': 679, 'attention': 345, 'details': 1219, 'appears': 278, 'wearing': 4831, 'hat': 2045, 'wrapped': 4964, 'husband': 2204, 'seem': 3861, 'ease': 1404, 'comfortable': 892, 'feature': 1678, 'free': 1827, 'spirit': 4113, 'sexually': 3910, 'pleasure': 3306, 'seeks': 3860, 'directly': 1263, 'particular': 3194, 'feeling': 1685, 'relationship': 3597, 'open': 3112, 'feels': 1687, 'shame': 3918, 'wants': 4791, 'share': 3920, 'facts': 1624, 'primary': 3394, 'focus': 1766, 'marriage': 2743, 'chances': 748, 'fate': 1665, 'war': 4792, 'intriguing': 2335, 'angry': 238, 'slightest': 4028, 'non': 3027, 'affected': 137, 'hoping': 2160, 'hours': 2177, 'significant': 3972, 'finish': 1732, 'storm': 4206, 'references': 3583, 'bible': 477, 'underlying': 4641, 'presented': 3376, 'absolutely': 72, 'resolution': 3649, 'portion': 3338, 'population': 3335, 'charles': 764, 'larger': 2519, 'imitation': 2241, 'spent': 4108, 'honest': 2146, 'rented': 3628, 'tonight': 4519, 'figured': 1712, 'couldnt': 1008, 'concept': 930, 'girlfriend': 1910, 'super': 4295, 'powers': 3361, 'confused': 941, 'seemed': 3862, 'turn': 4605, 'writer': 4968, 'kept': 2456, 'throwing': 4480, 'junk': 2436, 'toilet': 4512, 'situations': 4009, 'teenage': 4389, 'draw': 1349, 'fatal': 1664, 'attraction': 350, 'hero': 2088, 'guess': 1989, 'romantic': 3733, 'embarrassed': 1453, 'date': 1118, 'serious': 3891, 'gave': 1875, 'doubt': 1332, 'deeper': 1155, 'areas': 287, 'touched': 4534, 'wanted': 4789, 'visual': 4757, 'sadistic': 3768, 'punishment': 3467, 'our': 3139, 'total': 4531, 'audience': 352, 'flying': 1764, 'toward': 4539, 'screaming': 3827, 'instantly': 2306, 'pushing': 3479, 'manages': 2725, 'storytelling': 4209, 'witty': 4917, 'touch': 4533, 'status': 4165, 'seasons': 3844, 'suspenseful': 4331, 'murder': 2939, 'cases': 708, 'highly': 2105, 'narrator': 2967, 'add': 115, 'certain': 737, 'charm': 767, 'ned': 2986, 'chuck': 812, 'season': 3843, 'prior': 3400, 'training': 4558, 'easier': 1405, 'troubles': 4594, 'myself': 2953, 'gotten': 1947, 'react': 3540, 'used': 4693, 'spot': 4131, 'added': 116, 'rate': 3526, 'ear': 1397, 'canada': 666, 'mine': 2853, 'usa': 4691, 'paper': 3183, 'pat': 3208, 'soldier': 4053, 'answer': 251, 'days': 1130, 'dying': 1393, 'closest': 857, 'realise': 3548, 'cliff': 847, 'apartment': 265, 'building': 615, 'fascinating': 1658, 'lawyer': 2541, 'recall': 3562, 'mentioned': 2811, 'call': 651, 'dear': 1140, 'lord': 2652, 'cheese': 780, 'cannot': 670, 'truly': 4597, 'load': 2631, 'drunk': 1375, 'buddies': 608, 'bits': 490, 'entertaining': 1499, 'popcorn': 3331, 'abusive': 75, 'expected': 1577, 'plenty': 3307, 'heres': 2087, 'beating': 425, 'death': 1141, 'message': 2819, 'witnesses': 4916, 'evil': 1548, 'apparently': 270, 'sam': 3777, 'steps': 4177, 'saving': 3797, 'inane': 2258, 'bullets': 621, 'hole': 2132, 'bloody': 513, 'hell': 2077, 'hed': 2072, 'related': 3594, 'explained': 1587, 'holes': 2133, 'generous': 1886, 'word': 4937, 'stands': 4147, 'scenery': 3810, 'inducing': 2279, 'hour': 2176, 'plane': 3288, 'missing': 2869, 'gem': 1877, 'introduction': 2339, 'lame': 2510, 'appear': 273, 'brand': 565, 'americans': 214, 'lets': 2580, 'snake': 4042, 'increasingly': 2268, 'imagination': 2236, 'makers': 2715, 'ice': 2210, 'cool': 989, 'included': 2262, 'wait': 4770, 'guessed': 1990, 'clearly': 840, 'hiding': 2099, 'hair': 2005, 'somehow': 4063, 'managed': 2723, 'resist': 3648, 'trick': 4582, 'unable': 4631, 'shoots': 3944, 'reveal': 3670, 'cake': 648, 'stale': 4141, 'remember': 3616, 'revealed': 3671, 'climax': 849, 'involving': 2349, 'proof': 3434, 'alone': 194, '2006': 36, 'impressed': 2251, 'beyond': 476, 'sucked': 4270, 'uncle': 4636, 'white': 4870, 'warming': 4795, 'marks': 2742, 'utter': 4701, 'joy': 2422, 'roll': 3728, 'final': 1722, 'surfing': 4311, 'trip': 4588, 'occurred': 3077, 'strongly': 4231, 'dogs': 1311, 'please': 3304, 'opinion': 3118, 'above': 68, 'contact': 961, 'united': 4664, 'shakespeare': 3915, 'proud': 3444, 'hamlet': 2013, 'kenneth': 2455, 'genius': 1887, 'guts': 1999, 'four': 1812, 'prince': 3396, 'fathers': 1667, 'breathtaking': 574, 'stunning': 4244, 'photography': 3260, 'richard': 3686, 'portrayal': 3341, 'plus': 3311, 'julie': 2428, 'jack': 2373, 'lemmon': 2567, 'derek': 1192, 'magnificent': 2705, 'branagh': 564, 'audiences': 353, 'henry': 2084, 'knew': 2486, 'technical': 4381, 'aspects': 322, 'awesome': 371, 'visuals': 4759, 'sit': 4003, 'whether': 4866, 'power': 3359, 'media': 2789, 'importance': 2246, 'support': 4303, 'view': 4736, 'utterly': 4702, 'via': 4726, 'private': 3404, 'side': 3965, 'neo': 2998, 'liberal': 2588, 'victor': 4731, 'winning': 4898, 'leader': 2546, 'fights': 1710, 'mob': 2879, 'actions': 101, 'realistic': 3550, 'focusing': 1769, 'desperation': 1210, 'lack': 2502, 'ford': 1789, 'superbly': 4297, 'creates': 1038, 'tense': 4403, 'atmosphere': 333, 'depiction': 1185, 'irish': 2353, 'dramatic': 1348, 'adds': 119, 'hollywoods': 2138, 'leaves': 2556, 'james': 2378, 'sean': 3840, 'relations': 3596, 'means': 2783, 'type': 4621, 'eyes': 1613, 'wide': 4880, 'shut': 3961, 'bag': 384, 'remotely': 3623, 'possible': 3350, 'pointed': 3317, 'relevant': 3604, 'hadnt': 2004, 'sentimental': 3882, 'nowhere': 3056, 'space': 4090, 'mistake': 2871, 'mean': 2779, 'instant': 2305, 'equally': 1510, 'guilty': 1995, 'putting': 3482, 'nonsense': 3030, 'ahead': 159, 'value': 4709, 'garbage': 1870, 'save': 3794, 'tried': 4584, 'humorous': 2193, 'tender': 4401, 'surprises': 4314, 'folks': 1771, 'told': 4513, 'reminds': 3620, 'falk': 1636, 'daughters': 1122, 'ben': 463, 'note': 3044, 'elizabeth': 1445, 'immediately': 2242, 'search': 3841, 'hurt': 2202, 'road': 3709, 'members': 2801, 'draws': 1352, 'warm': 4794, 'ways': 4822, 'belongs': 460, 'moments': 2887, 'area': 286, 'noticed': 3049, 'moral': 2902, 'values': 4710, 'sappy': 3784, 'gone': 1935, 'limited': 2606, 'finest': 1730, 'disney': 1289, 'producing': 3417, 'problem': 3408, 'idiots': 2220, 'running': 3756, 'decade': 1144, 'produce': 3413, 'swear': 4334, 'twice': 4613, '20': 29, 'addition': 118, 'language': 2516, 'problems': 3409, 'nasty': 2968, 'thankfully': 4422, 'produced': 3414, 'human': 2188, 'interaction': 2322, 'reached': 3537, 'drive': 1363, 'eccentric': 1414, 'project': 3427, 'money': 2888, 'sell': 3871, 'vulnerable': 4768, 'meeting': 2794, 'ass': 323, 'whatever': 4859, 'thoughts': 4464, 'guilt': 1994, 'process': 3412, 'shooting': 3943, 'editing': 1421, 'beings': 449, 'exploitation': 1592, 'reputation': 3640, 'tony': 4521, 'step': 4175, 'bay': 416, 'category': 718, 'dumb': 1385, 'entertain': 1497, 'de': 1131, 'lovely': 2671, 'instance': 2304, 'pretentious': 3383, 'overrated': 3156, 'domino': 1319, 'minute': 2858, 'spending': 4106, 'superficial': 4298, 'forgettable': 1794, 'superior': 4300, 'attempts': 343, 'proceedings': 3410, 'irony': 2357, 'spoiled': 4122, 'upper': 4685, 'babe': 375, 'harvey': 2042, 'gorgeous': 1942, 'los': 2653, 'angeles': 233, 'hunters': 2200, 'mickey': 2831, 'edgar': 1417, 'trade': 4547, 'double': 1331, 'tongue': 4518, 'cheek': 779, 'christopher': 811, 'walken': 4777, 'trademark': 4548, 'laughable': 2530, 'hints': 2113, 'cuts': 1091, 'segments': 3868, 'seconds': 3848, 'nightmare': 3014, 'frankly': 1823, 'opportunity': 3121, 'frame': 1815, 'image': 2233, 'ghost': 1902, 'characterization': 759, 'suspense': 4330, 'entertainment': 1500, 'either': 1438, 'stereotypical': 4180, 'unbearable': 4633, 'segment': 3867, 'african': 142, 'list': 2617, 'racial': 3501, 'jerry': 2396, 'wishing': 4907, 'protagonists': 3442, 'trash': 4565, 'interest': 2323, 'individual': 2277, 'sea': 3838, 'nostalgic': 3039, 'embarrassing': 1454, 'exercise': 1568, 'racist': 3503, 'boring': 543, 'edward': 1426, 'terry': 4415, 'thomas': 4458, 'overcome': 3151, 'painful': 3171, 'wake': 4774, 'civil': 826, 'rights': 3697, 'movement': 2923, 'originally': 3131, 'television': 4394, 'theatrical': 4430, 'judging': 2425, 'results': 3662, 'believable': 453, 'scenario': 3808, 'tale': 4353, 'claimed': 829, 'rock': 3720, 'medium': 2792, 'express': 1600, 'personal': 3240, 'attitude': 346, 'desire': 1205, 'frustration': 1843, 'crucial': 1068, 'inappropriate': 2259, 'underground': 4640, 'focuses': 1768, 'subtle': 4260, 'mere': 2814, 'attempt': 340, 'efforts': 1433, 'information': 2288, 'daniel': 1111, 'fit': 1740, 'blue': 518, 'mood': 2898, 'correct': 1000, 'german': 1896, 'dog': 1310, 'horrific': 2166, 'cheesy': 781, 'hand': 2015, 'suspects': 4328, 'somewhere': 4069, 'hold': 2129, 'mirror': 2861, 'sleeping': 4025, 'possessed': 3347, 'haunted': 2050, 'creatures': 1046, 'watchable': 4812, 'directed': 1259, 'sexy': 3911, 'ryan': 3765, 'philip': 3252, 'adequate': 120, 'particularly': 3195, 'alex': 179, 'thick': 4447, 'mary': 2751, 'robert': 3713, 'jr': 2423, 'flashback': 1746, 'light': 2595, 'favourite': 1673, 'stan': 4142, 'clean': 838, 'experiments': 1584, 'lab': 2501, 'cause': 723, 'chaos': 755, 'formula': 1802, 'uses': 4697, 'loads': 2633, 'head': 2057, 'suffer': 4275, 'pain': 3170, 'funniest': 1851, 'rating': 3529, 'demands': 1175, 'close': 853, 'intimate': 2331, 'popularity': 3334, 'dialogues': 1235, 'inner': 2292, 'conflicts': 940, 'doubts': 1333, 'filmmaker': 1719, 'emotional': 1459, 'forces': 1788, 'explore': 1594, 'study': 4242, 'result': 3660, 'understated': 4646, 'explicit': 1591, 'entirely': 1503, 'images': 2235, 'shots': 3950, 'pacing': 3163, 'silence': 3974, 'intensity': 2317, 'believes': 456, 'provides': 3450, 'element': 1442, 'colors': 879, 'winter': 4900, 'presents': 3377, 'sunshine': 4294, 'covered': 1023, 'gray': 1963, 'replaced': 3634, 'throughout': 4478, 'statement': 4162, 'aimed': 162, 'situation': 4008, 'century': 736, 'concerned': 932, 'victims': 4730, 'confusion': 943, 'nations': 2971, 'facing': 1620, 'humanity': 2189, 'stuck': 4237, 'carry': 700, 'hang': 2022, 'views': 4742, 'clear': 839, 'regarding': 3589, 'cultural': 1078, 'greek': 1970, 'drawing': 1350, 'tradition': 4549, 'travel': 4567, 'alexander': 180, 'aging': 153, 'disappeared': 1271, 'existence': 1571, 'camp': 662, 'wondering': 4930, 'change': 749, 'contemporary': 965, 'context': 968, 'travels': 4569, 'elements': 1443, 'returning': 3667, 'wind': 4893, 'blows': 517, 'religious': 3608, 'yellow': 4981, 'suited': 4286, 'fellow': 1691, 'christ': 807, 'influence': 2286, 'identity': 2217, 'clues': 865, 'question': 3487, 'whereas': 4865, 'run': 3755, 'river': 3707, 'across': 96, 'follow': 1772, 'account': 89, 'ii': 2226, 'funnier': 1850, 'meaningful': 2781, 'ability': 65, 'avoided': 364, 'hilariously': 2107, 'zero': 4996, 'dinosaurs': 1256, 'ridiculous': 3693, 'called': 652, 'talks': 4361, 'commercial': 902, 'blank': 501, 'audio': 354, 'tag': 4348, 'events': 1536, 'cage': 645, 'pilot': 3276, 'trek': 4578, 'cleverly': 842, 'forbidden': 1785, 'planet': 3289, 'captain': 674, 'burned': 626, 'sentence': 3881, 'dr': 1340, 'present': 3374, 'kirk': 2482, 'charge': 761, 'orders': 3127, 'court': 1020, 'thanks': 4423, 'besides': 468, 'risk': 3704, 'entire': 1502, 'becoming': 435, 'series': 3890, 'worlds': 4947, 'advanced': 128, 'neat': 2982, 'episodes': 1508, 'fails': 1628, 'alien': 183, 'regret': 3591, 'collection': 874, 'matt': 2768, 'less': 2575, 'month': 2896, 'million': 2847, 'proves': 3447, 'productions': 3420, 'title': 4504, 'computer': 927, 'reactions': 3542, 'negative': 2991, 'crime': 1055, 'complicated': 925, 'lynch': 2691, 'costs': 1004, 'caused': 724, 'gold': 1932, 'hills': 2109, 'valley': 4707, 'directing': 1260, 'jet': 2400, 'causing': 726, 'downhill': 1336, 'stayed': 4167, 'created': 1037, 'cover': 1022, 'standing': 4146, 'subject': 4253, 'nearly': 2981, 'color': 877, 'warner': 4799, 'ask': 316, 'decided': 1149, 'justify': 2439, 'fancy': 1649, 'colorful': 878, 'clothes': 860, 'chosen': 805, 'asleep': 320, 'plight': 3308, 'nearby': 2980, 'folk': 1770, 'suitable': 4285, 'flynn': 1765, 'surely': 4309, 'catchy': 717, 'appropriate': 283, 'team': 4378, 'case': 707, 'canadian': 667, 'speaking': 4095, 'setting': 3900, 'positive': 3346, 'alive': 186, 'move': 2921, 'sucks': 4271, 'thriller': 4472, 'supposedly': 4307, 'loves': 2674, 'bank': 394, 'andy': 230, 'bill': 481, 'named': 2961, 'hill': 2108, 'resident': 3647, 'develop': 1222, 'premise': 3370, 'severe': 3906, 'motivation': 2914, 'reaching': 3539, 'whose': 4877, 'curious': 1083, 'impossible': 2249, 'secret': 3849, 'sunday': 4293, '25': 40, '1996': 26, 'smart': 4035, 'changes': 751, 'selfish': 3870, 'interested': 2324, 'success': 4265, 'sue': 4274, 'spin': 4112, 'merits': 2817, 'iron': 2354, 'similar': 3978, 'brown': 601, 'explains': 1589, 'bobby': 525, 'mario': 2738, 'creating': 1039, 'choices': 798, 'questionable': 3488, 'handle': 2018, 'served': 3894, 'surprising': 4315, 'food': 1778, 'kitchen': 2485, 'expensive': 1579, 'wish': 4904, 'accept': 80, 'aliens': 184, 'toys': 4543, 'arms': 294, 'push': 3477, 'five': 1743, 'security': 3854, 'suddenly': 4273, 'fired': 1735, 'boot': 538, 'garden': 1872, 'combat': 882, 'impress': 2250, 'dancers': 1105, 'talked': 4359, '60s': 54, 'rambo': 3511, 'flash': 1745, 'bang': 393, 'minor': 2857, 'staff': 4138, 'un': 4630, 'locked': 2637, 'attracted': 349, 'lights': 2597, 'assume': 328, 'lit': 2621, '16': 8, '17': 9, '18': 10, 'whenever': 4863, 'truth': 4599, 'meat': 2787, 'bone': 533, 'pure': 3471, 'jaws': 2385, 'boxing': 556, 'ring': 3698, 'differences': 1247, 'wedding': 4836, 'trapped': 4564, 'professional': 3421, 'carl': 692, 'alfred': 181, 'hitchcock': 2123, 'ian': 2209, 'hunter': 2199, 'bob': 524, 'catches': 715, 'eye': 1611, 'hall': 2009, 'davis': 1126, 'fair': 1630, 'engaged': 1480, 'round': 3742, 'wins': 4899, 'fighter': 1708, 'gordon': 1940, 'fortune': 1806, 'plans': 3292, 'marry': 2745, 'suspicious': 4332, 'puts': 3481, 'mighty': 2836, 'courage': 1018, 'triumph': 4590, 'starting': 4158, 'loaded': 2632, 'arm': 292, 'reflection': 3585, 'confidence': 938, 'disappoint': 1272, 'easily': 1406, 'torture': 4529, 'powerful': 3360, 'achieved': 93, 'fake': 1635, 'texas': 4418, 'massacre': 2754, 'crack': 1027, 'dude': 1381, 'rubbish': 3748, '70s': 56, 'van': 4713, 'pleased': 3305, 'longer': 2645, 'blob': 507, 'fire': 1734, 'huh': 2187, 'von': 4765, 'breaking': 570, 'waves': 4819, 'germany': 1898, 'destroyed': 1214, 'killing': 2472, 'hunt': 2198, 'nazi': 2977, 'party': 3200, 'suffering': 4277, 'corruption': 1002, 'attempting': 342, 'youve': 4995, 'europe': 1529, 'hidden': 2096, 'map': 2733, 'skills': 4014, '2007': 37, 'graphics': 1959, 'league': 2549, 'sheer': 3925, 'effort': 1432, 'admire': 121, 'spoiler': 4123, 'teen': 4388, 'slasher': 4020, 'cabin': 643, 'desperately': 1209, 'secondly': 3847, 'appearance': 274, 'susan': 4326, 'props': 3439, 'insulting': 2310, 'formulaic': 1803, 'mediocre': 2791, 'hit': 2122, 'wonder': 4926, 'term': 4405, 'highest': 2102, 'history': 2121, 'three': 4469, 'six': 4010, 'aid': 160, 'granted': 1957, 'cable': 644, 'bored': 541, 'international': 2326, 'russian': 3762, 'faith': 1633, 'gotta': 1946, 'jane': 2380, 'eyre': 1614, 'stronger': 4230, 'annoyed': 248, 'morning': 2906, 'rochester': 3719, 'asks': 319, 'casting': 711, 'dalton': 1098, '100': 1, 'eighties': 1437, 'complaint': 920, 'damon': 1101, 'square': 4136, 'basis': 408, 'joseph': 2419, 'possibilities': 3348, 'city': 825, 'stage': 4139, 'letting': 2583, 'repeat': 3630, 'visually': 4758, 'closely': 855, 'brando': 566, 'abilities': 64, 'sinatra': 3989, 'simmons': 3981, 'sky': 4017, 'mans': 2730, 'whos': 4876, 'johnson': 2411, 'caught': 722, 'screening': 3830, 'madness': 2698, 're': 3535, 'college': 875, 'progresses': 3426, 'game': 1864, 'monsters': 2893, 'levels': 2585, 'features': 1680, 'meant': 2784, 'horribly': 2164, 'rooms': 3736, 'memorable': 2802, 'forth': 1804, 'mainly': 2708, 'planning': 3291, 'lee': 2559, 'gag': 1861, 'reel': 3581, 'solely': 4056, 'laughter': 2535, 'blair': 497, 'stick': 4185, 'jim': 2402, 'soundtrack': 4085, 'hip': 2114, 'larry': 2520, 'miller': 2846, 'julia': 2427, 'aspect': 321, 'spend': 4105, 'idiot': 2218, 'acts': 107, 'dies': 1245, 'decides': 1150, 'slow': 4031, '30': 42, 'unexpected': 4650, 'absurd': 73, 'admit': 122, 'li': 2587, 'brings': 587, 'mask': 2752, 'continue': 969, 'seek': 3858, 'escaped': 1518, 'prevent': 3385, 'cost': 1003, 'innocent': 2294, 'screams': 3828, 'appreciated': 280, 'deserves': 1201, 'demand': 1174, 'psychological': 3458, 'glad': 1916, 'dubbing': 1380, 'wow': 4962, 'handed': 2016, 'blow': 514, 'brains': 563, 'design': 1202, 'track': 4544, 'brutal': 603, 'sitting': 4007, 'red': 3576, 'dress': 1357, 'lying': 2690, 'composed': 926, 'captured': 677, 'locations': 2636, 'youth': 4994, 'wealth': 4826, 'bo': 521, 'commentary': 899, 'mentioning': 2812, 'anthony': 253, 'lover': 2672, 'strength': 4219, 'often': 3095, 'local': 2634, 'store': 4204, 'box': 555, 'indie': 2276, 'finished': 1733, 'following': 1774, 'april': 284, '1999': 27, 'struck': 4232, 'shake': 3914, 'disturbing': 1300, 'merit': 2816, 'empathy': 1462, 'fallen': 1638, 'stopped': 4202, 'conclusion': 936, 'news': 3005, 'independent': 2272, 'aside': 315, 'luckily': 2682, 'grow': 1982, 'fish': 1738, 'wholly': 4874, 'coffee': 870, 'table': 4346, 'throw': 4479, 'carried': 698, 'frustrated': 1842, 'straight': 4210, 'extra': 1606, 'points': 3319, 'count': 1010, 'explain': 1586, 'paid': 3169, 'tend': 4400, 'bargain': 400, 'suspect': 4327, 'reasons': 3560, 'opportunities': 3120, 'likely': 2601, 'blend': 504, 'freddy': 1826, 'warriors': 4803, 'style': 4249, 'nose': 3037, 'stupid': 4247, 'towards': 4540, 'prepared': 3371, 'kills': 2474, 'satan': 3787, 'board': 522, 'writes': 4970, 'blood': 512, 'elderly': 1440, 'senseless': 3878, 'hey': 2095, 'offensive': 3086, 'unnecessary': 4672, 'hated': 2047, 'ridiculously': 3694, 'annoying': 249, 'loss': 2659, 'bodies': 526, 'kill': 2468, 'unbelievable': 4634, 'hear': 2061, 'wall': 4781, 'honestly': 2147, 'further': 1853, 'killer': 2470, 'dressed': 1358, 'physically': 3263, 'someones': 4065, 'chair': 742, 'purely': 3472, 'dragged': 1343, 'settle': 3902, 'halloween': 2010, 'specifically': 4100, 'imdb': 2240, 'comment': 898, 'mom': 2885, 'shed': 3924, 'break': 569, 'dick': 1239, 'mouth': 2920, 'rabbit': 3498, 'test': 4416, 'combination': 883, 'overly': 3155, 'ambitious': 211, 'producer': 3415, 'jay': 2386, 'airplane': 166, 'doctors': 1305, 'directorial': 1265, 'described': 1195, 'eager': 1396, 'weakest': 4825, 'billy': 482, 'debut': 1143, 'blind': 506, 'cringe': 1059, 'condition': 937, 'cheap': 774, 'mildly': 2840, 'network': 3000, 'treated': 4573, 'speaks': 4096, 'anger': 235, 'hollow': 2135, 'overall': 3150, 'brave': 567, 'disappointment': 1275, 'scary': 3807, 'scare': 3803, 'arrive': 300, 'sub': 4252, 'par': 3184, 'delivers': 1172, 'sci': 3815, 'fi': 1701, 'ideal': 2214, 'spectacular': 4101, 'intelligent': 2314, 'stargate': 4151, 'currently': 1085, 'troubled': 4593, 'magazine': 2701, 'photographer': 3259, 'considerable': 950, 'nightmares': 3015, 'brutally': 604, 'murders': 2943, 'models': 2881, 'ladies': 2506, 'turning': 4608, 'builds': 617, 'reasonable': 3558, 'tension': 4404, 'savage': 3793, 'plastic': 3294, 'placed': 3283, 'definite': 1161, 'highlight': 2103, 'emphasis': 1463, 'engaging': 1481, 'plausible': 3295, 'everyday': 1541, 'matters': 2770, 'psychiatrist': 3455, 'curtis': 1087, 'don': 1320, 'assistant': 326, 'louis': 2665, 'detective': 1220, 'chief': 788, 'polished': 3323, 'likewise': 2603, 'sally': 3776, 'shower': 3957, 'britain': 588, 'steve': 4181, 'performers': 3232, 'partner': 3198, 'jeremy': 2394, 'ideas': 2215, 'length': 2569, 'radio': 3504, 'innovative': 2295, 'fascinated': 1657, 'weird': 4841, 'incredible': 2269, 'filmmakers': 1720, 'cooper': 990, 'extreme': 1609, 'weekend': 4838, 'thrill': 4471, 'tough': 4537, 'hardy': 2037, 'survival': 4320, 'mysterious': 2955, 'european': 1530, 'vampire': 4711, 'bat': 410, 'community': 908, 'pictures': 3270, 'poverty': 3357, 'row': 3744, 'rough': 3741, 'eerie': 1427, 'explanation': 1590, 'hideous': 2098, 'crimes': 1056, 'ludicrous': 2685, 'proper': 3436, 'grave': 1962, 'scientific': 3817, 'fay': 1674, 'requires': 3642, 'douglas': 1334, 'inspector': 2299, 'steals': 4172, 'remembered': 3617, 'frankenstein': 1822, 'dracula': 1341, 'escape': 1517, 'faced': 1617, 'danger': 1109, 'villain': 4744, 'appreciation': 281, 'masterpiece': 2759, 'wonderfully': 4929, 'chemistry': 782, 'natural': 2973, 'portrayed': 3342, 'developed': 1223, 'realize': 3552, 'sacrifice': 3766, 'base': 402, 'laughed': 2532, 'available': 361, 'french': 1830, 'samurai': 3779, 'sword': 4340, 'flaws': 1752, 'freedom': 1828, 'moving': 2928, 'compelling': 916, 'africa': 141, 'horrors': 2169, 'terms': 4406, 'impact': 2244, 'suffers': 4278, 'woods': 4935, 'opening': 3114, 'weight': 4840, 'crowd': 1067, 'exceptional': 1558, 'constantly': 958, 'attack': 337, 'donald': 1321, 'carries': 699, 'punch': 3466, 'performed': 3230, 'genuinely': 1892, 'leads': 2548, 'regardless': 3590, 'accents': 79, 'denzel': 1181, 'washington': 4806, 'kevin': 2457, 'strikes': 4225, 'false': 1641, 'wendy': 4846, 'stood': 4199, 'timothy': 4499, 'west': 4852, 'chilling': 794, 'cameo': 657, 'focused': 1767, 'worthy': 4956, 'praise': 3364, 'cox': 1026, '24': 39, 'stone': 4197, 'kapoor': 2443, 'dinner': 1254, 'remarks': 3615, 'indian': 2274, 'comical': 894, 'dialogs': 1233, 'mouse': 2919, 'helping': 2081, 'khan': 2459, 'trailer': 4554, 'trailers': 4555, 'featuring': 1681, 'wacky': 4769, 'realizes': 3554, 'bus': 631, 'visit': 4755, 'norman': 3035, 'arrives': 302, 'shorts': 3948, 'wrote': 4974, 'eyed': 1612, 'imagined': 2239, 'persona': 3239, 'carol': 693, 'brady': 561, 'bunch': 623, 'calls': 654, 'reach': 3536, 'mexico': 2827, 'pack': 3165, 'soul': 4079, 'revelation': 3674, 'sounding': 4083, 'emotions': 1461, 'walk': 4775, 'parent': 3187, 'trained': 4557, 'truck': 4595, 'eight': 1436, 'parents': 3188, 'reads': 3545, 'foot': 1781, 'prostitute': 3440, 'jones': 2418, 'attend': 344, 'featured': 1679, 'piano': 3264, 'ya': 4976, 'traditional': 4550, 'crappy': 1032, 'yelling': 4980, 'rape': 3521, 'youd': 4987, 'whatsoever': 4861, 'kicking': 2462, 'touches': 4535, 'sat': 3786, 'drag': 1342, 'discussion': 1284, 'changed': 750, 'willing': 4889, 'sleep': 4024, 'website': 4834, 'thrown': 4481, 'companion': 909, 'piece': 3272, 'widely': 4881, 'thoroughly': 4459, 'provoking': 3452, 'majority': 2712, 'intended': 2315, 'intentionally': 2320, 'erotic': 1515, 'lena': 2568, 'throws': 4482, 'breasts': 572, 'identify': 2216, 'faults': 1669, 'effect': 1428, 'deliberately': 1166, 'paced': 3162, 'patient': 3211, 'okay': 3099, 'sneak': 4043, 'preview': 3386, 'blew': 505, 'repeated': 3631, 'gang': 1867, 'saves': 3796, 'styles': 4250, 'grew': 1972, 'concert': 935, 'blues': 519, 'jazz': 2387, 'degree': 1164, 'museum': 2945, 'repeatedly': 3632, 'sequence': 3887, 'christians': 809, 'uncomfortable': 4637, 'disappear': 1270, 'perform': 3227, 'needs': 2990, 'latin': 2527, 'brazil': 568, 'irritating': 2359, 'nation': 2969, 'happening': 2028, 'aka': 168, 'hearing': 2063, 'breath': 573, 'gifted': 1907, 'market': 2740, 'armed': 293, 'guard': 1988, 'strong': 4229, 'evidence': 1546, 'sold': 4052, 'separate': 3883, 'endings': 1472, 'spiritual': 4116, 'glory': 1922, 'flawed': 1750, 'directions': 1262, 'confusing': 942, 'intellectual': 2312, 'monkeys': 2891, 'bruce': 602, 'willis': 4890, 'virus': 4752, 'hundred': 2195, 'survivors': 4325, 'brad': 560, 'pitt': 3280, 'mental': 2808, 'hospital': 2172, 'animals': 240, 'driven': 1365, 'crazy': 1035, 'lived': 2626, 'watches': 4814, 'worry': 4950, 'poignant': 3315, 'hits': 2125, 'perfection': 3225, 'robinson': 3716, 'brian': 576, 'stereotype': 4178, 'california': 650, 'theaters': 4428, 'missed': 2867, 'buffs': 612, 'rank': 3518, 'intentions': 2321, 'accurate': 90, 'scares': 3806, 'christian': 808, 'circumstances': 822, 'remarkably': 3614, 'decisions': 1152, 'believing': 457, 'shouldnt': 3952, 'treat': 4572, 'rushed': 3760, 'shop': 3945, 'thrillers': 4473, 'ones': 3108, 'musicals': 2948, 'wild': 4885, 'relate': 3593, 'experiences': 1582, 'oliver': 3102, 'reed': 3580, 'starred': 4153, 'manipulative': 2727, 'worker': 4942, 'cary': 706, 'grant': 1956, '90': 60, 'receive': 3563, 'prime': 3395, 'twenty': 4612, 'wouldve': 4959, 'redemption': 3578, 'realized': 3553, 'jail': 2376, 'theyve': 4446, 'philosophy': 3254, 'contrived': 976, 'accent': 78, 'cheated': 775, 'misery': 2865, 'warren': 4801, '1990': 24, 'strip': 4228, 'superhero': 4299, 'source': 4086, 'gangsters': 1869, 'beatty': 427, 'ready': 3546, 'treats': 4575, 'makeup': 2717, 'al': 170, 'pacino': 3164, 'planned': 3290, 'gain': 1863, 'control': 977, 'criminal': 1057, 'meanwhile': 2785, 'charlie': 765, 'madonna': 2699, 'boys': 559, 'overlooked': 3154, 'jake': 2377, 'noir': 3023, '50s': 52, 'steal': 4170, 'weapon': 4828, 'secrets': 3852, 'widmark': 4882, 'peters': 3248, 'ritter': 3705, 'shines': 3932, 'twists': 4619, 'near': 2979, 'gritty': 1977, 'dated': 1119, 'tad': 4347, 'overdone': 3152, 'theatre': 4429, 'aged': 149, 'capital': 673, 'miserable': 2863, 'tragedy': 4551, 'extraordinary': 1607, 'insight': 2298, 'torn': 4528, 'highlights': 2104, 'veteran': 4724, 'spy': 4135, 'narration': 2965, 'photographed': 3258, 'edited': 1420, 'bitter': 491, 'comedies': 889, 'rent': 3626, 'freeman': 1829, 'prefer': 3368, 'clip': 851, 'cops': 993, 'conceived': 929, 'scientist': 3818, 'territory': 4411, 'technically': 4382, 'suppose': 4305, 'adam': 111, 'sandler': 3781, 'compared': 912, 'constant': 957, 'blockbuster': 509, 'daddy': 1096, 'consistent': 953, 'successful': 4266, 'manner': 2729, 'conversations': 981, 'content': 966, 'ultimately': 4628, 'awkward': 374, 'ruin': 3750, 'pass': 3201, 'constructed': 959, 'amusing': 221, 'et': 1526, 'wishes': 4906, 'wonders': 4931, 'site': 4005, 'award': 366, 'quote': 3496, 'machine': 2693, 'third': 4455, 'adapted': 114, '80': 58, 'sum': 4289, 'universe': 4666, 'depicts': 1186, 'understanding': 4645, 'range': 3516, 'convincingly': 986, 'girls': 1911, 'nurse': 3063, 'beautifully': 429, 'moved': 2922, 'kinds': 2478, 'mel': 2796, 'mst3k': 2932, 'mike': 2838, 'robots': 3718, 'wisdom': 4902, 'germans': 1897, 'gonna': 1936, 'greatest': 1966, 'silver': 3977, 'ten': 4399, 'naturally': 2974, 'faces': 1618, 'depressed': 1187, 'justice': 2438, 'demons': 1178, 'corpse': 999, 'invisible': 2344, 'vincent': 4746, 'rip': 3700, 'cardboard': 682, 'villains': 4745, '1990s': 25, 'speed': 4103, 'clichés': 846, 'thugs': 4484, 'cop': 991, 'candy': 668, 'cruise': 1071, 'florida': 1761, 'cross': 1066, 'explaining': 1588, 'wooden': 4934, 'liners': 2611, 'inept': 2281, 'boat': 523, 'everywhere': 1545, 'laid': 2508, 'ignore': 2224, 'opens': 3115, 'cia': 814, 'broken': 594, 'slaughter': 4021, 'dozen': 1338, 'murdered': 2940, 'scream': 3826, 'graphic': 1958, 'pay': 3216, 'mass': 2753, 'murderer': 2941, 'common': 906, 'thoughtful': 4463, 'adults': 126, 'dislike': 1288, 'providing': 3451, 'jerk': 2395, 'exist': 1569, 'hatred': 2049, 'politics': 3326, 'moment': 2886, 'official': 3094, 'whoever': 4872, 'argue': 290, 'rotten': 3740, 'initial': 2290, 'shock': 3938, 'navy': 2976, 'handsome': 2021, 'wear': 4830, 'shirt': 3937, 'tie': 4488, 'alright': 198, 'anybody': 257, 'holding': 2130, 'emotionally': 1460, 'wounded': 4961, 'superb': 4296, 'choreographed': 801, 'wandering': 4785, 'neighborhood': 2993, 'vicious': 4728, 'race': 3499, 'jesse': 2397, 'pulling': 3463, 'stomach': 4196, '45': 50, '50': 51, 'monster': 2892, 'justin': 2440, 'morgan': 2905, 'incredibly': 2270, 'apparent': 269, 'sorts': 4078, 'apart': 264, 'pulls': 3464, 'stops': 4203, 'disbelief': 1277, 'blown': 516, 'goldberg': 1933, 'rex': 3683, 'appalling': 268, 'illegal': 2229, 'substance': 4258, 'telling': 4396, 'incoherent': 2265, 'tremendous': 4579, 'survived': 4322, 'wreck': 4965, 'hanging': 2023, 'beats': 426, 'fill': 1714, 'lower': 2677, 'understood': 4647, 'necessarily': 2983, 'struggle': 4234, 'harder': 2035, 'reveals': 3673, 'hopefully': 2157, 'rat': 3525, 'endearing': 1469, 'energy': 1478, 'delightful': 1168, 'hundreds': 2196, 'slightly': 4029, 'motivations': 2915, 'twins': 4616, 'dave': 1123, 'classics': 837, 'lesson': 2577, 'improvement': 2256, 'dare': 1113, 'wondered': 4927, 'serial': 3889, 'raising': 3509, 'amazed': 208, 'channels': 754, 'splatter': 4118, 'wolf': 4920, 'remind': 3618, 'spoilers': 4124, 'thousands': 4466, 'killings': 2473, 'solve': 4060, 'surprise': 4312, 'idiotic': 2219, 'downright': 1337, 'disgusting': 1286, 'pop': 3330, 'horrid': 2165, '2002': 32, 'curiosity': 1082, 'bottom': 551, 'basement': 405, 'comedic': 888, 'altogether': 202, 'sloppy': 4030, 'likable': 2598, 'wasted': 4809, 'tape': 4365, 'ears': 1402, '2000': 30, 'saved': 3795, 'bell': 458, 'showed': 3956, '2004': 34, 'titled': 4505, 'birthday': 487, 'wished': 4905, 'grown': 1984, 'heaven': 2068, 'danny': 1112, 'grandmother': 1955, 'joey': 2408, 'witch': 4909, 'kinda': 2477, 'trashy': 4566, 'happiness': 2031, 'teenagers': 4391, 'nelson': 2997, 'prom': 3429, 'wanting': 4790, 'exact': 1550, 'copy': 994, 'aired': 165, 'class': 833, 'pull': 3461, 'flop': 1760, 'lazy': 2543, 'afternoon': 144, 'helped': 2080, 'intention': 2319, 'tears': 4380, 'persons': 3244, 'compare': 911, 'definition': 1163, 'sends': 3876, 'edge': 1418, 'curse': 1086, 'criminals': 1058, 'arthur': 305, 'outstanding': 3147, 'allowed': 190, 'packed': 3166, 'wars': 4804, 'saga': 3773, 'solo': 4058, 'empire': 1464, 'rebel': 3561, 'heroes': 2089, 'pit': 3278, 'luke': 2687, 'rescue': 3643, 'witness': 4914, 'battle': 414, 'desperate': 1208, 'led': 2558, 'showdown': 3955, 'epic': 1506, 'hurts': 2203, 'bold': 528, 'determined': 1221, 'devoted': 1231, 'abandoned': 62, 'molly': 2884, 'string': 4227, 'chased': 770, 'seed': 3856, 'strangely': 4212, 'uwe': 4703, 'boll': 529, 'memory': 2804, 'pages': 3168, 'surreal': 4317, 'split': 4120, 'months': 2897, 'waited': 4771, 'prison': 3401, 'cell': 730, 'block': 508, 'according': 88, 'arrested': 298, 'spends': 4107, 'serves': 3895, 'execution': 1566, 'raised': 3508, 'indeed': 2271, 'vaguely': 4706, 'dan': 1102, 'dedicated': 1153, 'competent': 917, 'improve': 2254, 'continues': 971, 'zombie': 4997, 'doom': 1326, 'violent': 4748, 'gore': 1941, 'fx': 1858, 'weapons': 4829, 'island': 2361, 'titanic': 4503, 'bonus': 534, 'banned': 395, 'favor': 1670, 'womans': 4922, 'poetry': 3314, 'ashley': 313, 'hasnt': 2044, 'moon': 2900, 'ghosts': 1903, '1st': 28, 'revolves': 3682, 'hide': 2097, 'handful': 2017, 'santa': 3783, 'barbara': 397, 'dry': 1377, 'involve': 2345, 'inspiring': 2302, 'cash': 709, 'stilted': 4190, 'clichéd': 845, 'masterpieces': 2760, 'amongst': 218, 'knife': 2487, 'buried': 624, 'leg': 2562, 'pants': 3182, 'multiple': 2936, 'sign': 3970, 'twisted': 4618, 'ham': 2011, 'menace': 2806, 'lees': 2560, 'roger': 3724, 'moore': 2901, 'bother': 548, 'elvis': 1451, 'painting': 3175, 'biggest': 480, 'goofy': 1939, 'sleazy': 4023, 'forgive': 1795, 'discuss': 1283, 'detail': 1217, 'notorious': 3051, 'bettie': 473, 'centers': 734, 'sister': 4001, 'photos': 3261, 'foster': 1809, 'illness': 2230, 'naive': 2958, 'interviews': 2330, 'nature': 2975, 'chris': 806, 'taylor': 4372, 'harris': 2038, 'photo': 3257, 'state': 4160, 'betty': 474, 'exposure': 1599, 'issue': 2364, 'greater': 1965, '1950s': 14, 'showcase': 3954, 'americas': 215, 'sexuality': 3909, 'icon': 2211, 'nazis': 2978, 'mummy': 2937, 'endless': 1473, 'lesbian': 2573, 'footage': 1782, 'shadows': 3913, 'seven': 3903, 'ran': 3513, 'destroying': 1215, 'cities': 823, 'battles': 415, 'godzilla': 1929, 'outer': 3143, 'oddly': 3081, 'keeping': 2450, 'phony': 3256, 'ed': 1415, 'wood': 4933, 'urge': 4689, 'discovered': 1280, 'surviving': 4323, 'dinosaur': 1255, 'troops': 4591, 'reasonably': 3559, 'chest': 784, 'excuse': 1564, 'terrorists': 4414, 'chicago': 785, 'relatively': 3600, 'absolute': 71, 'warmth': 4796, 'keeps': 2451, 'pick': 3265, 'north': 3036, 'east': 1407, 'beach': 419, 'necessary': 2984, 'psycho': 3457, 'mechanical': 2788, 'friday': 1834, '13th': 5, 'knock': 2488, 'slight': 4027, 'boom': 537, 'twist': 4617, 'spirits': 4115, 'lake': 2509, 'insane': 2296, 'sink': 3999, 'goodness': 1938, 'sake': 3775, 'mixed': 2877, 'lacking': 2504, 'cg': 739, 'jump': 2429, 'feed': 1683, 'pg': 3250, 'albeit': 173, 'useless': 4695, 'staring': 4152, 'smoke': 4039, 'drinking': 1362, 'nicholas': 3010, 'advice': 133, 'clue': 864, 'comparison': 914, 'king': 2479, 'suffered': 4276, 'tons': 4520, 'hamilton': 2012, 'losing': 2658, 'shark': 3921, '2003': 33, 'interview': 2329, 'accused': 91, 'soccer': 4048, 'fever': 1699, 'pitch': 3279, 'creators': 1044, 'dealt': 1138, 'gross': 1978, 'themes': 4434, 'nick': 3012, 'obsession': 3070, 'sports': 4130, 'students': 4239, 'teach': 4374, 'tour': 4538, 'thirty': 4456, 'games': 1865, 'loyal': 2679, 'marvelous': 2750, 'event': 1535, 'drew': 1360, 'jimmy': 2403, 'appearances': 275, 'comedian': 887, 'humble': 2191, 'satisfy': 3790, 'baseball': 403, 'rick': 3689, 'simon': 3982, 'grim': 1974, 'fool': 1779, 'receives': 3565, 'chase': 769, 'ensues': 1493, 'agents': 151, 'flight': 1757, 'parker': 3191, 'academy': 77, 'berlin': 467, 'greatly': 1967, 'relation': 3595, 'splendid': 4119, 'powell': 3358, 'mgm': 2828, 'succeeded': 4263, 'conventional': 979, 'method': 2824, 'eric': 1514, 'butler': 637, 'signed': 3971, 'studio': 4240, 'lewis': 2586, 'brenda': 575, 'captures': 678, 'enjoys': 1489, 'dramas': 1347, 'roy': 3745, 'inside': 2297, 'pre': 3365, 'spell': 4104, 'reminiscent': 3621, 'holy': 2140, 'resources': 3651, 'attached': 336, 'subplot': 4255, 'essentially': 1523, 'atrocious': 335, 'unintentionally': 4659, 'soap': 4047, 'crying': 1074, 'disaster': 1276, 'accomplished': 87, 'prisoners': 3403, 'naked': 2959, 'target': 4366, 'dreams': 1355, 'current': 1084, 'orange': 3125, 'antics': 255, 'doc': 1303, 'maggie': 2702, 'fed': 1682, 'environment': 1505, 'wilson': 4891, 'prisoner': 3402, 'names': 2963, 'promises': 3432, 'smith': 4038, 'relative': 3599, 'effectively': 1430, 'finale': 1723, 'cinematographer': 819, 'task': 4368, 'souls': 4080, 'blowing': 515, 'depressing': 1188, 'personalities': 3241, 'outside': 3146, 'robbery': 3711, 'rob': 3710, 'escapes': 1519, 'horrifying': 2167, 'shocking': 3940, 'aforementioned': 139, 'advantage': 129, 'gadget': 1860, 'cartoon': 704, 'purchased': 3470, 'artistic': 308, 'existent': 1572, 'brain': 562, 'equal': 1509, 'exists': 1573, 'legs': 2566, 'vice': 4727, 'adams': 112, 'voiced': 4762, 'redeeming': 3577, 'luck': 2681, 'broke': 593, 'fix': 1744, 'factory': 1623, 'purchase': 3469, 'dvds': 1392, 'cinderella': 815, 'fairy': 1632, 'whilst': 4869, 'staying': 4168, 'whom': 4875, 'admittedly': 123, 'shortly': 3947, 'legendary': 2565, 'nine': 3017, 'colour': 880, 'pan': 3180, 'manage': 2722, 'ranks': 3519, 'tales': 4357, 'homage': 2141, 'roman': 3731, 'polanski': 3321, 'returned': 3666, 'creepy': 1052, 'generated': 1882, 'distant': 1295, 'virtually': 4751, 'analysis': 224, 'master': 2757, 'frightening': 1839, 'wise': 4903, 'shelley': 3928, 'winters': 4901, 'stellar': 4174, 'gothic': 1945, 'gripping': 1976, 'lose': 2654, 'grace': 1950, 'beer': 439, 'satire': 3788, 'insult': 2309, 'rid': 3690, 'jennifer': 2392, 'roberts': 3714, 'monkey': 2890, 'flaw': 1749, 'catching': 716, 'excitement': 1562, 'psychotic': 3459, 'loser': 2655, 'lately': 2524, 'bite': 489, 'hong': 2149, 'kong': 2494, 'basically': 407, 'surface': 4310, 'pity': 3281, 'topic': 4526, 'develops': 1226, 'seat': 3845, 'ruthless': 3764, 'hearted': 2065, 'key': 2458, 'september': 3884, '2001': 31, 'montage': 2894, 'stiller': 4189, 'clips': 852, 'haunting': 2051, 'awards': 367, 'picked': 3266, 'agreed': 156, 'returns': 3668, 'realizing': 3555, 'vs': 4767, 'approach': 282, 'deceased': 1146, 'experienced': 1581, 'novels': 3053, 'desert': 1198, 'reference': 3582, 'columbo': 881, 'unpredictable': 4675, 'ruth': 3763, 'priceless': 3390, 'shelf': 3926, 'mill': 2845, 'discover': 1279, 'unoriginal': 4673, 'improved': 2255, 'extended': 1604, 'frequent': 1831, 'stiff': 4187, 'robot': 3717, 'lousy': 2667, 'continuity': 972, 'tracks': 4545, '40s': 49, 'cartoons': 705, 'comics': 895, 'technology': 4385, 'notably': 3042, 'batman': 413, 'pieces': 3273, 'hoffman': 2128, 'catherine': 719, 'lighting': 2596, 'product': 3418, 'trite': 4589, 'fail': 1625, 'mundane': 2938, 'fare': 1655, 'generations': 1884, 'combine': 884, 'chose': 804, 'buddy': 609, 'spoke': 4125, 'summary': 4290, 'poster': 3353, 'advance': 127, 'warned': 4798, 'ha': 2002, 'failing': 1627, 'coherent': 871, 'eastern': 1408, 'modern': 2882, 'incomprehensible': 2267, 'suck': 4269, 'serving': 3897, 'craft': 1028, 'artist': 307, 'vision': 4754, 'grand': 1953, 'scheme': 3812, 'viewed': 4737, 'inevitable': 2282, 'pulled': 3462, 'subtlety': 4261, 'limits': 2607, 'chases': 771, 'buildings': 616, 'suggested': 4281, 'wore': 4939, 'driving': 1368, 'citizen': 824, 'kane': 2442, 'scores': 3823, 'paulie': 3215, 'criticism': 1063, 'kate': 2446, 'portray': 3340, 'asking': 318, 'con': 928, 'animal': 239, 'bird': 484, 'wears': 4832, 'pair': 3176, 'fitting': 1742, 'finding': 1727, 'heat': 2067, 'wave': 4818, 'cars': 702, 'hotel': 2175, 'rocket': 3721, 'starring': 4154, 'bland': 500, 'atlantis': 332, 'philosophical': 3253, 'lovable': 2668, 'spirited': 4114, 'corrupt': 1001, 'laurel': 2537, 'shirley': 3936, 'temple': 4398, 'judy': 2426, '1960s': 15, 'doo': 1325, 'grasp': 1960, 'innocence': 2293, 'sympathetic': 4342, 'bore': 540, 'agent': 150, 'carradine': 695, 'arrogant': 303, 'critic': 1061, 'celebrity': 729, 'ego': 1435, 'testament': 4417, 'centered': 733, 'strike': 4224, 'balance': 387, 'hint': 2112, 'bond': 532, 'legend': 2564, 'bumbling': 622, 'feminist': 1695, 'presumably': 3380, 'ann': 244, 'hardly': 2036, '20th': 38, 'fox': 1814, 'hates': 2048, 'punk': 3468, 'uk': 4626, 'forty': 1807, 'crash': 1033, 'weeks': 4839, 'bear': 420, 'flashbacks': 1747, 'supernatural': 4302, 'contains': 964, 'bar': 396, 'critics': 1064, 'rush': 3759, 'renting': 3629, 'purposes': 3475, 'vote': 4766, 'meaningless': 2782, 'implausible': 2245, 'paying': 3217, 'below': 462, 'worried': 4949, 'heavily': 2069, 'angles': 237, 'scared': 3805, 'pregnant': 3369, 'ah': 158, 'orson': 3132, 'welles': 4844, 'eg': 1434, 'unforgettable': 4652, 'blonde': 511, 'closing': 859, 'wwii': 4975, 'owner': 3159, 'web': 4833, 'forced': 1787, 'trilogy': 4586, '1984': 23, 'infamous': 2284, 'experiment': 1583, 'cinemas': 817, 'essential': 1522, 'occasionally': 3075, 'steven': 4182, 'spielberg': 4110, 'furthermore': 1854, 'dutch': 1389, 'angels': 234, 'adding': 117, 'technique': 4383, 'multi': 2935, 'reviewers': 3678, 'stanley': 4148, 'nowadays': 3055, 'historical': 2119, 'werewolf': 4850, 'terrorist': 4413, 'online': 3109, 'educational': 1425, 'encounters': 1467, 'bbc': 417, 'documentaries': 1306, 'serve': 3893, 'primarily': 3393, 'cared': 685, 'wannabe': 4787, 'vietnam': 4735, 'credibility': 1047, 'pride': 3391, 'riveting': 3708, 'wealthy': 4827, 'dentist': 1180, 'cheating': 776, 'demented': 1176, 'dennis': 1179, 'projects': 3428, 'beneath': 464, 'calm': 655, 'linda': 2609, 'earl': 1398, 'jessica': 2398, 'toy': 4542, 'karen': 2444, 'teenager': 4390, 'ken': 2453, 'pool': 3327, 'gory': 1943, 'ought': 3138, 'ups': 4686, 'flesh': 1753, 'extent': 1605, 'plots': 3310, 'tragic': 4552, 'simplicity': 3984, 'spooky': 4128, 'survivor': 4324, 'kiss': 2483, 'corporate': 998, 'twilight': 4614, 'zone': 4999, 'swimming': 4338, 'matrix': 2767, 'hopes': 2159, 'avoid': 363, 'accident': 84, 'qualities': 3483, 'pig': 3274, 'miserably': 2864, 'damn': 1100, 'asian': 314, 'vacation': 4704, 'mafia': 2700, 'chicks': 787, 'midnight': 2834, 'issues': 2365, 'kick': 2460, 'win': 4892, 'convince': 983, 'commit': 904, 'advertising': 132, 'dozens': 1339, 'lasted': 2522, 'embarrassment': 1455, 'price': 3389, 'angel': 231, 'cards': 683, 'southern': 4088, 'swim': 4337, 'suffice': 4279, 'overacting': 3149, 'describes': 1196, 'alcoholic': 177, 'giallo': 1904, 'sharp': 3922, 'favorites': 1672, 'thrilling': 4474, 'direct': 1258, 'honor': 2150, 'duo': 1386, 'spanish': 4092, 'underrated': 4642, 'slick': 4026, 'higher': 2101, 'matthau': 2771, 'reunion': 3669, 'clark': 832, 'contrast': 975, 'conflict': 939, 'hugh': 2186, 'witnessed': 4915, 'sheriff': 3929, 'france': 1816, 'quiet': 3492, 'western': 4853, 'transfer': 4559, 'lifetime': 2594, 'howard': 2182, 'ward': 4793, 'mission': 2870, 'wing': 4896, 'fly': 1763, 'bare': 398, 'darkness': 1117, 'judge': 2424, 'strictly': 4223, 'tiny': 4500, 'pretend': 3381, 'acid': 95, 'claims': 830, 'attacks': 339, 'factor': 1622, 'endure': 1475, 'jumps': 2432, 'emma': 1457, 'core': 995, 'catch': 714, 'guarantee': 1987, 'kings': 2481, 'provided': 3449, 'attorney': 348, 'timing': 4498, 'murderous': 2942, 'incident': 2260, 'guessing': 1991, 'yesterday': 4983, 'dating': 1120, 'useful': 4694, 'andrews': 229, 'methods': 2825, 'discovery': 1282, 'thief': 4448, 'destroy': 1213, 'pursuit': 3476, 'gene': 1879, 'laura': 2536, 'beaten': 424, 'accidentally': 85, 'worthless': 4954, 'covers': 1024, 'solution': 4059, 'satisfying': 3791, 'blond': 510, 'ellen': 1446, 'charisma': 762, 'displayed': 1292, 'parody': 3192, 'uninteresting': 4660, 'holly': 2136, 'tall': 4362, 'ron': 3734, 'thinks': 4454, 'rated': 3527, 'foreign': 1790, 'card': 681, 'slap': 4018, 'divorce': 1301, 'closet': 858, 'understandable': 4644, 'creature': 1045, 'estate': 1525, 'system': 4345, 'fourth': 1813, 'required': 3641, 'exotic': 1574, 'wet': 4855, 'franchise': 1817, 'doors': 1329, 'millions': 2848, 'dollar': 1314, 'oil': 3097, 'performs': 3234, 'leo': 2571, 'iraq': 2351, 'narrative': 2966, 'outcome': 3142, 'mile': 2842, 'walker': 4778, 'sun': 4292, 'vegas': 4717, 'countless': 1012, 'disjointed': 1287, 'hyde': 2206, 'ramones': 3512, 'bands': 392, 'johnny': 2410, 'spoof': 4127, 'president': 3378, 'crude': 1069, 'checking': 778, 'robin': 3715, 'kurt': 2499, 'desired': 1206, 'burn': 625, 'introduce': 2336, 'princess': 3397, 'mountain': 2917, 'dawn': 1127, 'spider': 4109, 'magical': 2704, 'lesser': 2576, 'loosely': 2651, 'delivering': 1171, 'laughably': 2531, 'exaggerated': 1552, 'union': 4661, 'workers': 4943, 'failure': 1629, 'frequently': 1832, 'striking': 4226, 'ground': 1979, 'access': 83, 'path': 3209, 'complex': 923, 'tied': 4489, 'crafted': 1029, 'broadway': 592, 'jealous': 2388, 'enthusiasm': 1501, 'earned': 1401, 'competition': 918, 'stretched': 4222, 'reviewer': 3677, 'fortunately': 1805, 'vivid': 4760, 'recording': 3575, 'pro': 3406, 'jeff': 2390, 'painfully': 3172, 'dreadful': 1353, 'stunts': 4246, 'childish': 791, 'tunes': 4603, '1930s': 11, 'couples': 1017, 'summer': 4291, 'homosexual': 2145, 'rage': 3505, 'subplots': 4256, 'chick': 786, 'celluloid': 731, 'tim': 4494, 'ages': 152, 'gradually': 1952, 'classical': 836, 'notch': 3043, 'thousand': 4465, 'copies': 992, 'practice': 3363, 'alternate': 200, 'shell': 3927, 'slapstick': 4019, 'fest': 1696, 'excited': 1561, 'intent': 2318, 'hello': 2078, 'cats': 721, 'scottish': 3825, 'drink': 1361, 'simpson': 3987, 'karloff': 2445, 'felix': 1689, 'bela': 450, 'lugosi': 2686, 'believed': 455, 'fetched': 1698, 'poetic': 3313, 'destiny': 1212, 'offering': 3089, 'anderson': 227, 'concerns': 934, 'drops': 1372, 'occur': 3076, 'twin': 4615, 'craig': 1030, 'kennedy': 2454, 'suicide': 4283, 'mann': 2728, 'sisters': 4002, 'briefly': 580, 'bomb': 531, 'mexican': 2826, 'groups': 1981, 'st': 4137, 'holiday': 2134, 'variety': 4714, 'laws': 2540, 'devil': 1228, 'traveling': 4568, 'eve': 1532, 'shape': 3919, 'saturday': 3792, 'ripped': 3701, 'unwatchable': 4682, 'dean': 1139, 'pal': 3177, 'rolling': 3730, 'personality': 3242, 'carter': 703, 'listening': 2620, 'inferior': 2285, 'ships': 3935, 'campy': 664, 'ancient': 225, 'device': 1227, 'london': 2641, 'rats': 3531, 'creep': 1051, 'followed': 1773, 'halfway': 2008, 'campbell': 663, 'spoil': 4121, 'helicopter': 2076, 'dragon': 1344, 'scooby': 3820, 'wanna': 4786, 'superman': 4301, 'rolled': 3729, 'presentation': 3375, 'searching': 3842, 'unhappy': 4656, 'racism': 3502, 'peoples': 3222, 'titles': 4506, 'investigation': 2343, 'stones': 4198, 'bottle': 550, 'cup': 1080, 'arrival': 299, 'elephant': 1444, 'masterful': 2758, 'stolen': 4195, 'soft': 4051, 'farce': 1654, 'virgin': 4749, 'forms': 1801, 'pushed': 3478, 'threat': 4467, '1980': 20, 'paltrow': 3178, 'morris': 2908, 'mothers': 2912, 'bette': 471, 'countries': 1013, 'safe': 3771, 'honesty': 2148, 'winds': 4895, '35': 45, 'deaths': 1142, 'vampires': 4712, 'synopsis': 4344, 'includes': 2263, 'bathroom': 412, '1933': 12, 'neck': 2985, 'drop': 1369, 'riding': 3695, 'random': 3514, 'defense': 1159, 'arnold': 296, 'remote': 3622, 'welcome': 4842, 'atmospheric': 334, 'unsettling': 4679, 'succeed': 4262, 'arguably': 289, 'careers': 687, 'anyways': 262, 'chain': 741, 'homeless': 2143, 'circle': 821, 'reporter': 3636, 'build': 614, 'isolated': 2363, 'valuable': 4708, 'object': 3066, 'bin': 483, 'sequels': 3886, 'response': 3654, 'lane': 2515, 'hysterical': 2208, 'mistaken': 2872, 'authority': 360, 'amateurish': 207, 'lone': 2642, 'emily': 1456, 'drugs': 1374, 'health': 2060, 'jeffrey': 2391, 'descent': 1193, 'scripts': 3836, 'concerning': 933, 'sits': 4006, 'conversation': 980, 'depicted': 1183, 'pot': 3354, 'speech': 4102, 'bridge': 578, 'enemy': 1477, 'spread': 4133, 'broadcast': 591, 'hbo': 2055, 'assumed': 329, 'associated': 327, 'restored': 3659, 'suit': 4284, 'outfit': 3144, 'buff': 611, 'integrity': 2311, 'talents': 4356, 'represented': 3638, 'thru': 4483, 'tune': 4602, 'choreography': 802, 'shine': 3931, 'distracting': 1297, 'medical': 2790, 'busy': 635, 'detailed': 1218, 'adventures': 131, 'awake': 365, 'randomly': 3515, 'ashamed': 312, 'illogical': 2231, 'contain': 962, 'text': 4419, 'advise': 134, 'grab': 1949, 'rental': 3627, 'tear': 4379, 'stephen': 4176, 'bull': 619, 'couldve': 1009, 'emotion': 1458, 'montana': 2895, 'lou': 2663, 'diamond': 1236, 'trust': 4598, 'existed': 1570, 'maintain': 2710, 'command': 897, 'growing': 1983, 'surrounding': 4319, 'surrounded': 4318, 'switch': 4339, 'struggling': 4236, 'miles': 2843, 'position': 3345, 'successfully': 4267, 'critical': 1062, 'baker': 385, 'fulci': 1845, 'potentially': 3356, 'zombies': 4998, 'engage': 1479, 'ad': 110, 'pseudo': 3454, 'scientists': 3819, 'unconvincing': 4638, 'houses': 2180, 'handled': 2019, 'unintentional': 4658, 'unit': 4663, 'join': 2412, 'marie': 2737, 'depression': 1189, 'leonard': 2572, 'heads': 2059, 'strangers': 4214, 'notable': 3041, 'clown': 862, 'travesty': 4570, 'glass': 1917, 'cgi': 740, 'afford': 138, 'calling': 653, 'stanwyck': 4149, 'lily': 2605, 'proceeds': 3411, 'paris': 3189, 'financial': 1725, 'code': 869, 'sin': 3988, 'belief': 451, 'prequel': 3372, 'hop': 2154, 'martin': 2748, 'spare': 4093, 'psychic': 3456, 'turkey': 4604, 'wed': 4835, 'versions': 4721, 'theory': 4437, 'terror': 4412, 'iii': 2227, 'reduced': 3579, 'rubber': 3747, 'skin': 4015, 'importantly': 2248, 'unfolds': 4651, 'trees': 4577, 'amounts': 220, 'choose': 799, 'heights': 2073, 'rising': 3703, 'countryside': 1015, 'expressed': 1601, 'heroic': 2090, 'soviet': 4089, 'initially': 2291, 'chan': 746, 'historically': 2120, 'threw': 4470, 'jumping': 2431, 'harsh': 2040, 'matches': 2764, 'commercials': 903, 'suggests': 4282, 'picks': 3268, 'spoken': 4126, 'tap': 4364, 'mistakes': 2873, 'nomination': 3026, 'portrays': 3344, 'connect': 944, 'irrelevant': 2358, 'performer': 3231, 'pulp': 3465, '3000': 43, 'italy': 2368, 'tommy': 4516, 'robbins': 3712, 'cannibal': 669, 'horses': 2171, 'ridden': 3691, 'twelve': 4611, 'tight': 4492, 'progress': 3425, 'defend': 1158, 'bride': 577, 'touching': 4536, 'stinker': 4191, 'fond': 1776, 'boss': 546, 'afraid': 140, 'link': 2613, 'capable': 672, 'messed': 2821, 'grandfather': 1954, 'duke': 1383, 'connection': 946, 'relatives': 3601, 'resemblance': 3645, 'margaret': 2735, 'liking': 2604, 'cole': 873, 'attitudes': 347, 'afterwards': 145, 'parallel': 3185, 'schools': 3814, 'dolls': 1316, 'contrary': 974, 'sudden': 4272, 'dances': 1106, 'cuba': 1075, 'sticks': 4186, 'gas': 1874, 'kicks': 2463, '75': 57, 'dollars': 1315, 'challenging': 744, 'newly': 3004, 'gandhi': 1866, 'chaplin': 756, 'nicholson': 3011, 'author': 359, 'edition': 1422, 'brosnan': 597, 'protect': 3443, 'annie': 247, 'involvement': 2347, 'opened': 3113, 'disneys': 1290, 'per': 3223, 'crisis': 1060, 'dreary': 1356, 'elaborate': 1439, 'burt': 629, 'reynolds': 3684, 'structure': 4233, 'native': 2972, 'uneven': 4649, 'tiger': 4491, 'sole': 4055, 'imaginative': 2237, 'demon': 1177, 'recognize': 3569, 'teachers': 4376, 'survive': 4321, 'university': 4667, 'movements': 2924, 'lion': 2614, 'behavior': 446, 'specific': 4099, 'leslie': 2574, 'fooled': 1780, 'distribution': 1298, 'parties': 3196, 'elegant': 1441, 'hook': 2152, 'challenge': 743, 'metal': 2823, 'threatening': 4468, 'immensely': 2243, 'concern': 931, 'sincere': 3991, 'wrestling': 4966, 'similarities': 3979, 'offered': 3088, 'bleak': 503, 'floating': 1758, 'raymond': 3534, 'ensemble': 1492, 'lawrence': 2539, 'exploration': 1593, 'stress': 4220, 'gabriel': 1859, 'politically': 3325, 'influenced': 2287, 'intrigue': 2333, 'explosion': 1596, 'principal': 3398, 'anne': 246, 'namely': 2962, 'stays': 4169, 'machines': 2694, 'tiresome': 4502, 'lively': 2627, 'lol': 2640, 'transition': 4561, 'developing': 1224, 'prove': 3445, 'manhattan': 2726, 'em': 1452, 'enjoying': 1487, 'godfather': 1927, 'global': 1920, 'destruction': 1216, 'invasion': 2340, 'officers': 3093, 'dressing': 1359, 'chasing': 772, 'masters': 2761, 'consequences': 947, 'mini': 2854, 'mentions': 2813, 'omen': 3104, 'jumped': 2430, 'woody': 4936, 'recognized': 3570, 'tomatoes': 4515, 'niro': 3019, 'feet': 1688, 'assigned': 325, 'purple': 3473, 'quotes': 3497, 'blunt': 520, 'porno': 3337, 'juvenile': 2441, 'removed': 3624, 'moody': 2899, 'creator': 1043, 'visits': 4756, 'menacing': 2807, 'terrifying': 4410, 'elm': 1447, 'charlotte': 766, 'taught': 4370, 'thumbs': 4485, 'internet': 2327, 'amy': 222, 'stealing': 4171, 'benefit': 465, 'che': 773, 'stranger': 4213, 'barry': 401, 'expert': 1585, 'disagree': 1269, 'generic': 1885, 'friendship': 1838, 'wicked': 4879, 'household': 2179, 'gods': 1928, 'spite': 4117, 'walks': 4780, 'brilliance': 582, 'attacked': 338, 'hitting': 2126, 'painted': 3174, 'tortured': 4530, '2nd': 41, 'modesty': 2883, 'acceptable': 81, 'commented': 900, 'notion': 3050, 'cried': 1054, 'davies': 1125, '90s': 61, 'originality': 3130, 'cube': 1076, 'awe': 370, 'ninja': 3018, 'colonel': 876, 'moronic': 2907, 'kelly': 2452, 'activities': 102, 'mitchell': 2875, 'ps': 3453, 'user': 4696, 'dignity': 1252, 'keaton': 2448, '1983': 22, 'brooks': 596, 'der': 1191, 'wound': 4960, 'quit': 3494, 'scripted': 3835, 'despair': 1207, 'inevitably': 2283, 'viewings': 4741, 'motives': 2916, 'tends': 4402, 'burning': 627, 'enemies': 1476, 'breaks': 571, 'green': 1971, 'turner': 4607, 'treasure': 4571, 'resulting': 3661, 'lucy': 2684, 'balls': 390, 'flawless': 1751, 'forest': 1791, 'entertained': 1498, 'tricks': 4583, 'mysteries': 2954, 'artificial': 306, 'melodramatic': 2798, 'library': 2589, 'signs': 3973, '60': 53, 'national': 2970, 'walked': 4776, 'jungle': 2434, 'nancy': 2964, 'urban': 4688, 'hooked': 2153, 'witches': 4910, 'opinions': 3119, 'teaching': 4377, 'ourselves': 3140, 'explored': 1595, 'cameron': 661, 'enters': 1496, 'intrigued': 2334, 'rocky': 3723, 'overwhelming': 3157, '2005': 35, 'inspiration': 2300, 'achievement': 94, 'communist': 907, 'birth': 486, 'controversial': 978, 'louise': 2666, 'rose': 3739, 'intelligence': 2313, 'andrew': 228, 'trail': 4553, 'blacks': 494, 'errors': 1516, 'previously': 3388, 'subjects': 4254, 'unknown': 4668, 'jaw': 2384, 'mild': 2839, 'bourne': 554, 'unseen': 4678, 'press': 3379, 'smoking': 4040, 'rise': 3702, 'borrowed': 545, 'cutting': 1092, 'connected': 945, 'beliefs': 452, 'allowing': 191, 'distance': 1294, 'expression': 1602, 'precious': 3366, 'careful': 688, 'dolph': 1317, 'authentic': 358, 'ironic': 2355, 'scale': 3802, 'remain': 3609, 'beast': 422, 'eaten': 1412, 'throat': 4476, 'panic': 3181, 'macy': 2695, 'sutherland': 4333, 'defined': 1160, 'odds': 3082, 'bedroom': 437, 'dropping': 1371, 'mars': 2746, 'resembles': 3646, 'unreal': 4676, 'upset': 4687, 'climactic': 848, 'devils': 1229, 'regard': 3588, 'fbi': 1675, 'oz': 3160, 'virginia': 4750, 'cowboy': 1025, 'freak': 1824, 'clint': 850, 'eastwood': 1409, 'jon': 2416, 'sidekick': 3966, 'monk': 2889, 'carrey': 696, 'alert': 178, 'military': 2844, 'cameras': 660, 'le': 2544, 'doomed': 1327, 'stevens': 4183, 'claire': 831, 'junior': 2435, 'displays': 1293, 'lust': 2689, 'civilization': 827, 'futuristic': 1857, 'incompetent': 2266, 'coach': 868, 'homer': 2144, 'firstly': 1737, 'reflect': 3584, 'fury': 1855, 'vast': 4716, 'hire': 2116, 'thrills': 4475, '30s': 44, 'suits': 4287, 'appealing': 272, 'passes': 3203, 'melting': 2799, 'rings': 3699, 'stupidity': 4248, '70': 55, 'editor': 1423, 'restaurant': 3658, 'trial': 4580, 'victoria': 4732, 'stunt': 4245, 'broad': 590, 'shining': 3933, 'gangster': 1868, 'stewart': 4184, 'fonda': 1777, 'kissing': 2484, 'pays': 3218, 'amitabh': 216, 'teeth': 4393, 'rival': 3706, 'defeat': 1157, 'hammer': 2014, 'nuts': 3064, 'hippie': 2115, 'cynical': 1093, 'jamie': 2379, 'glover': 1923, 'hype': 2207, 'hudson': 2184, 'cook': 988, 'cagney': 646, 'donna': 1323, 'lisa': 2616, 'retired': 3664, 'burton': 630, 'sidney': 3968, 'rap': 3520, 'versus': 4722, 'football': 1783, 'recognition': 3568, 'nail': 2957, 'ted': 4386, 'wizard': 4919, 'translation': 4562, 'minded': 2850, 'guest': 1992, 'lloyd': 2630, 'deadly': 1133, 'indians': 2275, 'eva': 1531, 'pops': 3332, 'offended': 3085, 'matthew': 2772, 'perry': 3237, 'sitcom': 4004, 'carrie': 697, 'picking': 3267, 'needless': 2989, 'nuclear': 3057, 'landing': 2512, 'diane': 1238, 'raise': 3507, 'hal': 2006, 'changing': 752, 'wes': 4851, 'nostalgia': 3038, 'kay': 2447, 'familys': 1646, 'pet': 3246, 'vengeance': 4719, '1973': 19, 'performing': 3233, 'bacall': 377, 'wayne': 4821, 'dorothy': 1330, 'melodrama': 2797, 'forgot': 1796, 'topless': 4527, 'garbo': 1871, 'spain': 4091, 'awfully': 373, 'gruesome': 1986, 'involves': 2348, 'promised': 3431, 'sid': 3964, 'myers': 2952, 'neighbor': 2992, 'grinch': 1975, 'hung': 2197, 'domestic': 1318, 'greedy': 1969, 'tame': 4363, 'blah': 496, 'gift': 1906, 'credible': 1048, 'exceptionally': 1559, 'flies': 1756, 'creativity': 1042, 'kubrick': 2496, 'remaining': 3610, 'directs': 1267, 'march': 2734, 'kim': 2475, 'deaf': 1134, 'cusack': 1088, 'construction': 960, 'dig': 1250, 'alike': 185, 'richardson': 3688, 'damage': 1099, 'joined': 2413, 'fisher': 1739, 'report': 3635, 'closed': 854, 'ratings': 3530, 'streisand': 4218, 'timeless': 4496, 'blake': 498, 'argument': 291, 'counter': 1011, 'abysmal': 76, 'digital': 1251, 'wallace': 4782, 'kingdom': 2480, 'measure': 2786, 'relies': 3606, 'lucas': 2680, 'alcohol': 176, 'whale': 4857, 'seeking': 3859, 'hood': 2151, 'messages': 2820, 'kicked': 2461, 'gentle': 1890, 'suspend': 4329, 'june': 2433, 'akshay': 169, 'danes': 1108, 'streep': 4215, 'neighbors': 2994, 'stylish': 4251, 'tarzan': 4367, 'marketing': 2741, 'sullivan': 4288, 'enterprise': 1495, 'unfortunate': 4653, 'wells': 4845, 'raped': 3522, 'jewish': 2401, 'guide': 1993, 'hitler': 2124, 'accompanied': 86, 'westerns': 4854, 'heston': 2094, 'hart': 2041, 'ocean': 3079, 'darker': 1116, 'caine': 647, 'daily': 1097, 'ruins': 3752, 'depicting': 1184, 'transformation': 4560, 'misses': 2868, 'devoid': 1230, 'accepted': 82, 'theyd': 4443, 'ingredients': 2289, 'airport': 167, 'lacked': 2503, 'backgrounds': 381, 'education': 1424, 'safety': 3772, 'simplistic': 3985, 'iran': 2350, 'rural': 3758, 'disc': 1278, 'spike': 4111, 'largely': 2518, 'championship': 745, 'adorable': 124, 'ticket': 4487, 'legal': 2563, 'lips': 2615, '1940s': 13, 'dire': 1257, 'patients': 3212, 'noise': 3024, 'amazingly': 210, 'cave': 727, 'conservative': 948, 'scope': 3821, 'selling': 3873, 'investigate': 2342, 'dub': 1378, 'literature': 2623, 'album': 175, 'gender': 1878, 'faster': 1662, 'funeral': 1849, 'bath': 411, 'ho': 2127, 'angle': 236, 'hopper': 2161, 'ralph': 3510, 'hunting': 2201, 'females': 1694, 'wives': 4918, 'pink': 3277, 'bakshi': 386, 'sophisticated': 4075, 'boredom': 542, 'korean': 2495, 'buying': 641, 'lumet': 2688, 'ethan': 1528, 'hank': 2024, 'ballet': 389, 'apes': 267, 'ape': 266, 'sellers': 3872, 'waitress': 4773, 'doll': 1313, 'respected': 3653, 'helen': 2075, 'minimum': 2856, 'repetitive': 3633, 'muslim': 2949, 'pie': 3271, 'butt': 638, 'jenny': 2393, 'disease': 1285, 'mountains': 2918, 'dickens': 1240, 'richards': 3687, 'service': 3896, 'rendition': 3625, 'mixture': 2878, 'india': 2273, 'overlook': 3153, 'distinct': 1296, 'glenn': 1918, 'installment': 2303, 'francis': 1818, 'convoluted': 987, 'rangers': 3517, 'smiling': 4037, 'mildred': 2841, 'steel': 4173, 'mayor': 2777, 'losers': 2656, 'itll': 2369, 'farm': 1656, 'ireland': 2352, 'revolutionary': 3681, 'journalist': 2420, 'exposed': 1598, 'contract': 973, 'cliche': 843, 'voight': 4764, 'franco': 1820, 'rain': 3506, 'stole': 4194, 'fictional': 1703, 'petty': 3249, 'kidding': 2465, 'neil': 2995, 'dust': 1388, 'snl': 4044, 'contest': 967, 'carpenter': 694, 'behave': 445, 'gerard': 1895, 'mate': 2765, 'warrior': 4802, 'unaware': 4632, 'diana': 1237, 'complain': 919, 'chess': 783, 'abc': 63, 'clothing': 861, 'scrooge': 3837, 'tooth': 4524, 'landscapes': 2514, 'holmes': 2139, '3rd': 47, 'todd': 4510, 'assault': 324, 'birds': 485, 'bush': 632, 'catholic': 720, 'visible': 4753, 'essence': 1521, 'morality': 2903, 'nonsensical': 3031, 'businessman': 634, 'mistress': 2874, 'lifestyle': 2593, 'abraham': 69, 'resort': 3650, 'miracle': 2860, 'jonathan': 2417, 'crocodile': 1065, 'widow': 4883, 'blade': 495, 'greed': 1968, 'dawson': 1128, 'instinct': 2308, 'olivier': 3103, 'genres': 1889, 'da': 1094, 'seagal': 3839, 'basketball': 409, 'chorus': 803, 'pokemon': 3320, 'responsibility': 3655, 'gundam': 1997, 'craven': 1034, 'georges': 1894, 'scarecrow': 3804, 'elvira': 1450, 'excessive': 1560, 'miike': 2837, 'stooges': 4200, 'marty': 2749, 'bud': 607, 'poem': 3312}\n"
     ]
    }
   ],
   "source": [
    "print(str(vocabulary))"
   ]
  },
  {
   "cell_type": "markdown",
   "metadata": {},
   "source": [
    "Once you have added the endpoint name to the Lambda function, click on **Save**. Your Lambda function is now up and running. Next we need to create a way for our web app to execute the Lambda function."
   ]
  },
  {
   "cell_type": "markdown",
   "metadata": {},
   "source": [
    "### Setting up API Gateway\n",
    "\n",
    "Now that our Lambda function is set up, it is time to create a new **REST API** using API Gateway that will trigger the Lambda function we have just created.\n",
    "\n",
    "Using AWS Console, navigate to **Amazon API Gateway** and then click on **Get started**.\n",
    "\n",
    "On the next page, make sure that **New API** is selected and give the new api a name, for example, `sentiment_analysis_web_app`. Then, click on **Create API**.\n",
    "\n",
    "Now we have created an API, however it doesn't currently do anything. What we want it to do is to trigger the Lambda function that we created earlier.\n",
    "\n",
    "Select the **Actions** dropdown menu and click **Create Method**. A new blank method will be created, select its dropdown menu and select **POST**, then click on the check mark beside it.\n",
    "\n",
    "For the integration point, make sure that **Lambda Function** is selected and click on the **Use Lambda Proxy integration**. This option makes sure that the data that is sent to the API is then sent directly to the Lambda function with no processing. It also means that the return value must be a proper response object as it will also not be processed by API Gateway.\n",
    "\n",
    "Type the name of the Lambda function you created earlier into the **Lambda Function** text entry box and then click on **Save**. Click on **OK** in the pop-up box that then appears, giving permission to API Gateway to invoke the Lambda function you created.\n",
    "\n",
    "The last step in creating the API Gateway is to select the **Actions** dropdown and click on **Deploy API**. You will need to create a new Deployment stage and name it anything you like, for example `prod`.\n",
    "\n",
    "You have now successfully set up a public API to access your SageMaker model. Make sure to copy or write down the URL provided to invoke your newly created public API as this will be needed in the next step. This URL can be found at the top of the page, highlighted in blue next to the text **Invoke URL**."
   ]
  },
  {
   "cell_type": "markdown",
   "metadata": {},
   "source": [
    "## Step 7: Deploying our web app\n",
    "\n",
    "Now that we have a publicly available API, we can start using it in a web app. For our purposes, we have provided a simple static html file which can make use of the public api you created earlier.\n",
    "\n",
    "In the `website` folder there should be a file called `index.html`. Download the file to your computer and open that file up in a text editor of your choice. There should be a line which contains **\\*\\*REPLACE WITH PUBLIC API URL\\*\\***. Replace this string with the url that you wrote down in the last step and then save the file.\n",
    "\n",
    "Now, if you open `index.html` on your local computer, your browser will behave as a local web server and you can use the provided site to interact with your SageMaker model.\n",
    "\n",
    "If you'd like to go further, you can host this html file anywhere you'd like, for example using github or hosting a static site on Amazon's S3. Once you have done this you can share the link with anyone you'd like and have them play with it too!\n",
    "\n",
    "> **Important Note** In order for the web app to communicate with the SageMaker endpoint, the endpoint has to actually be deployed and running. This means that you are paying for it. Make sure that the endpoint is running when you want to use the web app but that you shut it down when you don't need it, otherwise you will end up with a surprisingly large AWS bill."
   ]
  },
  {
   "cell_type": "markdown",
   "metadata": {},
   "source": [
    "### Delete the endpoint\n",
    "\n",
    "Remember to always shut down your endpoint if you are no longer using it. You are charged for the length of time that the endpoint is running so if you forget and leave it on you could end up with an unexpectedly large bill."
   ]
  },
  {
   "cell_type": "code",
   "execution_count": 56,
   "metadata": {},
   "outputs": [],
   "source": [
    "xgb_predictor.delete_endpoint()"
   ]
  },
  {
   "cell_type": "markdown",
   "metadata": {},
   "source": [
    "## Optional: Clean up\n",
    "\n",
    "The default notebook instance on SageMaker doesn't have a lot of excess disk space available. As you continue to complete and execute notebooks you will eventually fill up this disk space, leading to errors which can be difficult to diagnose. Once you are completely finished using a notebook it is a good idea to remove the files that you created along the way. Of course, you can do this from the terminal or from the notebook hub if you would like. The cell below contains some commands to clean up the created files from within the notebook."
   ]
  },
  {
   "cell_type": "code",
   "execution_count": 57,
   "metadata": {},
   "outputs": [],
   "source": [
    "# First we will remove all of the files contained in the data_dir directory\n",
    "!rm $data_dir/*\n",
    "\n",
    "# And then we delete the directory itself\n",
    "!rmdir $data_dir\n",
    "\n",
    "# Similarly we remove the files in the cache_dir directory and the directory itself\n",
    "!rm $cache_dir/*\n",
    "!rmdir $cache_dir"
   ]
  },
  {
   "cell_type": "code",
   "execution_count": null,
   "metadata": {},
   "outputs": [],
   "source": []
  }
 ],
 "metadata": {
  "kernelspec": {
   "display_name": "conda_amazonei_mxnet_p36",
   "language": "python",
   "name": "conda_amazonei_mxnet_p36"
  },
  "language_info": {
   "codemirror_mode": {
    "name": "ipython",
    "version": 3
   },
   "file_extension": ".py",
   "mimetype": "text/x-python",
   "name": "python",
   "nbconvert_exporter": "python",
   "pygments_lexer": "ipython3",
   "version": "3.6.13"
  }
 },
 "nbformat": 4,
 "nbformat_minor": 4
}
