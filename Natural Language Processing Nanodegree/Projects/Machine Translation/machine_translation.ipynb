{
  "cells": [
    {
      "cell_type": "markdown",
      "metadata": {
        "id": "4ArGlUCGHPHG"
      },
      "source": [
        "# Artificial Intelligence Nanodegree\n",
        "## Machine Translation Project\n",
        "In this notebook, sections that end with **'(IMPLEMENTATION)'** in the header indicate that the following blocks of code will require additional functionality which you must provide. Please be sure to read the instructions carefully!\n",
        "\n",
        "## Introduction\n",
        "In this notebook, you will build a deep neural network that functions as part of an end-to-end machine translation pipeline. Your completed pipeline will accept English text as input and return the French translation.\n",
        "\n",
        "- **Preprocess** - You'll convert text to sequence of integers.\n",
        "- **Models** Create models which accepts a sequence of integers as input and returns a probability distribution over possible translations. After learning about the basic types of neural networks that are often used for machine translation, you will engage in your own investigations, to design your own model!\n",
        "- **Prediction** Run the model on English text."
      ]
    },
    {
      "cell_type": "code",
      "execution_count": 2,
      "metadata": {
        "id": "v-RQ9Hl9HtQA"
      },
      "outputs": [],
      "source": [
        "# !unrar x /content/data.rar"
      ]
    },
    {
      "cell_type": "markdown",
      "metadata": {
        "id": "RUj1EYxpHPHO"
      },
      "source": [
        "### Verify access to the GPU\n",
        "The following test applies only if you expect to be using a GPU, e.g., while running in a Udacity Workspace or using an AWS instance with GPU support. Run the next cell, and verify that the device_type is \"GPU\".\n",
        "- If the device is not GPU & you are running from a Udacity Workspace, then save your workspace with the icon at the top, then click \"enable\" at the bottom of the workspace.\n",
        "- If the device is not GPU & you are running from an AWS instance, then refer to the cloud computing instructions in the classroom to verify your setup steps."
      ]
    },
    {
      "cell_type": "code",
      "execution_count": 3,
      "metadata": {
        "colab": {
          "base_uri": "https://localhost:8080/"
        },
        "id": "SgovtionHPHP",
        "outputId": "cc98f492-1f85-47ee-846e-bf5d2abd9c63"
      },
      "outputs": [
        {
          "output_type": "stream",
          "name": "stdout",
          "text": [
            "[name: \"/device:CPU:0\"\n",
            "device_type: \"CPU\"\n",
            "memory_limit: 268435456\n",
            "locality {\n",
            "}\n",
            "incarnation: 18298820507853914298\n",
            "xla_global_id: -1\n",
            ", name: \"/device:GPU:0\"\n",
            "device_type: \"GPU\"\n",
            "memory_limit: 14415560704\n",
            "locality {\n",
            "  bus_id: 1\n",
            "  links {\n",
            "  }\n",
            "}\n",
            "incarnation: 7024730903479746269\n",
            "physical_device_desc: \"device: 0, name: Tesla T4, pci bus id: 0000:00:04.0, compute capability: 7.5\"\n",
            "xla_global_id: 416903419\n",
            "]\n"
          ]
        }
      ],
      "source": [
        "import collections\n",
        "import os\n",
        "import numpy as np\n",
        "from tensorflow.python.client import device_lib\n",
        "\n",
        "print(device_lib.list_local_devices())"
      ]
    },
    {
      "cell_type": "markdown",
      "metadata": {
        "id": "EFPin1r4HPHQ"
      },
      "source": [
        "## Dataset\n",
        "We begin by investigating the dataset that will be used to train and evaluate your pipeline.  The most common datasets used for machine translation are from [WMT](http://www.statmt.org/).  However, that will take a long time to train a neural network on.  We'll be using a dataset we created for this project that contains a small vocabulary.  You'll be able to train your model in a reasonable time with this dataset.\n",
        "### Load Data\n",
        "The data is located in `data/small_vocab_en` and `data/small_vocab_fr`. The `small_vocab_en` file contains English sentences with their French translations in the `small_vocab_fr` file. Load the English and French data from these files from running the cell below."
      ]
    },
    {
      "cell_type": "code",
      "execution_count": 4,
      "metadata": {
        "id": "_kNMMioVHPHS"
      },
      "outputs": [],
      "source": [
        "def load_data(path):\n",
        "    input_file = os.path.join(path)\n",
        "    with open(input_file, \"r\", encoding=\"utf-8\") as f:\n",
        "        data = f.read()\n",
        "\n",
        "    return data.split('\\n')"
      ]
    },
    {
      "cell_type": "code",
      "execution_count": 5,
      "metadata": {
        "colab": {
          "base_uri": "https://localhost:8080/"
        },
        "id": "tgWElG3OHPHS",
        "outputId": "4370ebf8-c3d8-40cc-e462-df1dba7e6eaa"
      },
      "outputs": [
        {
          "output_type": "stream",
          "name": "stdout",
          "text": [
            "Dataset Loaded\n"
          ]
        }
      ],
      "source": [
        "# Load English data\n",
        "english_sentences = load_data('/content/data/small_vocab_en')\n",
        "# Load French data\n",
        "french_sentences = load_data('/content/data/small_vocab_fr')\n",
        "\n",
        "print('Dataset Loaded')"
      ]
    },
    {
      "cell_type": "markdown",
      "metadata": {
        "id": "TkqJaElPHPHU"
      },
      "source": [
        "### Files\n",
        "Each line in `small_vocab_en` contains an English sentence with the respective translation in each line of `small_vocab_fr`.  View the first two lines from each file."
      ]
    },
    {
      "cell_type": "code",
      "execution_count": 6,
      "metadata": {
        "colab": {
          "base_uri": "https://localhost:8080/"
        },
        "id": "xC6Yynu-HPHV",
        "outputId": "6ff32567-380d-45c7-ee55-d69585d467da"
      },
      "outputs": [
        {
          "output_type": "stream",
          "name": "stdout",
          "text": [
            "small_vocab_en Line 1:  new jersey is sometimes quiet during autumn , and it is snowy in april .\n",
            "small_vocab_fr Line 1:  new jersey est parfois calme pendant l' automne , et il est neigeux en avril .\n",
            "small_vocab_en Line 2:  the united states is usually chilly during july , and it is usually freezing in november .\n",
            "small_vocab_fr Line 2:  les états-unis est généralement froid en juillet , et il gèle habituellement en novembre .\n"
          ]
        }
      ],
      "source": [
        "for i in range(2):\n",
        "    print(f'small_vocab_en Line {i + 1}:  {english_sentences[i]}')\n",
        "    print(f'small_vocab_fr Line {i + 1}:  {french_sentences[i]}')"
      ]
    },
    {
      "cell_type": "markdown",
      "metadata": {
        "id": "mZ70I48hHPHW"
      },
      "source": [
        "From looking at the sentences, you can see they have been preprocessed already.  The puncuations have been delimited using spaces. All the text have been converted to lowercase.  This should save you some time, but the text requires more preprocessing.\n",
        "### Vocabulary\n",
        "The complexity of the problem is determined by the complexity of the vocabulary.  A more complex vocabulary is a more complex problem.  Let's look at the complexity of the dataset we'll be working with."
      ]
    },
    {
      "cell_type": "code",
      "execution_count": 7,
      "metadata": {
        "colab": {
          "base_uri": "https://localhost:8080/"
        },
        "id": "Io7FZeSnHPHX",
        "outputId": "2e20a510-1c09-4ae7-fb67-e70400e44dfd"
      },
      "outputs": [
        {
          "output_type": "stream",
          "name": "stdout",
          "text": [
            "1823250 English words.\n",
            "227 unique English words.\n",
            "10 Most common words in the English dataset:\n",
            "\"is\" \",\" \".\" \"in\" \"it\" \"during\" \"the\" \"but\" \"and\" \"sometimes\"\n",
            "\n",
            "1961295 French words.\n",
            "355 unique French words.\n",
            "10 Most common words in the French dataset:\n",
            "\"est\" \".\" \",\" \"en\" \"il\" \"les\" \"mais\" \"et\" \"la\" \"parfois\"\n"
          ]
        }
      ],
      "source": [
        "english_words_counter = collections.Counter([word for sentence in english_sentences for word in sentence.split()])\n",
        "french_words_counter = collections.Counter([word for sentence in french_sentences for word in sentence.split()])\n",
        "\n",
        "print(f'{len([word for sentence in english_sentences for word in sentence.split()])} English words.')\n",
        "print(f'{len(english_words_counter)} unique English words.')\n",
        "print('10 Most common words in the English dataset:')\n",
        "print('\"' + '\" \"'.join(list(zip(*english_words_counter.most_common(10)))[0]) + '\"')\n",
        "print()\n",
        "print(f'{len([word for sentence in french_sentences for word in sentence.split()])} French words.')\n",
        "print(f'{len(french_words_counter)} unique French words.')\n",
        "print('10 Most common words in the French dataset:')\n",
        "print('\"' + '\" \"'.join(list(zip(*french_words_counter.most_common(10)))[0]) + '\"')"
      ]
    },
    {
      "cell_type": "markdown",
      "metadata": {
        "id": "kPk3BsbPHPHY"
      },
      "source": [
        "For comparison, _Alice's Adventures in Wonderland_ contains 2,766 unique words of a total of 15,500 words.\n",
        "## Preprocess\n",
        "For this project, you won't use text data as input to your model. Instead, you'll convert the text into sequences of integers using the following preprocess methods:\n",
        "1. Tokenize the words into ids\n",
        "2. Add padding to make all the sequences the same length.\n",
        "\n",
        "Time to start preprocessing the data...\n",
        "### Tokenize (IMPLEMENTATION)\n",
        "For a neural network to predict on text data, it first has to be turned into data it can understand. Text data like \"dog\" is a sequence of ASCII character encodings.  Since a neural network is a series of multiplication and addition operations, the input data needs to be number(s).\n",
        "\n",
        "We can turn each character into a number or each word into a number.  These are called character and word ids, respectively.  Character ids are used for character level models that generate text predictions for each character.  A word level model uses word ids that generate text predictions for each word.  Word level models tend to learn better, since they are lower in complexity, so we'll use those.\n",
        "\n",
        "Turn each sentence into a sequence of words ids using Keras's [`Tokenizer`](https://keras.io/preprocessing/text/#tokenizer) function. Use this function to tokenize `english_sentences` and `french_sentences` in the cell below.\n",
        "\n",
        "Running the cell will run `tokenize` on sample data and show output for debugging."
      ]
    },
    {
      "cell_type": "code",
      "execution_count": 8,
      "metadata": {
        "colab": {
          "base_uri": "https://localhost:8080/"
        },
        "id": "HMODiVV7HPHa",
        "outputId": "54809eaf-1ac1-49fe-b124-e322e7fcfb23"
      },
      "outputs": [
        {
          "output_type": "stream",
          "name": "stdout",
          "text": [
            "{'<OOV>': 1, 'the': 2, 'quick': 3, 'a': 4, 'brown': 5, 'fox': 6, 'jumps': 7, 'over': 8, 'lazy': 9, 'dog': 10, 'by': 11, 'jove': 12, 'my': 13, 'study': 14, 'of': 15, 'lexicography': 16, 'won': 17, 'prize': 18, 'this': 19, 'is': 20, 'short': 21, 'sentence': 22}\n",
            "\n",
            "Sequence 1 in x\n",
            "  Input:  The quick brown fox jumps over the lazy dog .\n",
            "  Output: [2, 3, 5, 6, 7, 8, 2, 9, 10]\n",
            "Sequence 2 in x\n",
            "  Input:  By Jove , my quick study of lexicography won a prize .\n",
            "  Output: [11, 12, 13, 3, 14, 15, 16, 17, 4, 18]\n",
            "Sequence 3 in x\n",
            "  Input:  This is a short sentence .\n",
            "  Output: [19, 20, 4, 21, 22]\n"
          ]
        }
      ],
      "source": [
        "from keras.preprocessing.text import Tokenizer\n",
        "\n",
        "def tokenize(x):\n",
        "    \"\"\"\n",
        "    Tokenize x\n",
        "    :param x: List of sentences/strings to be tokenized\n",
        "    :return: Tuple of (tokenized x data, tokenizer used to tokenize x)\n",
        "    \"\"\"\n",
        "    # TODO: Implement\n",
        "    tokenizer = Tokenizer(oov_token='<OOV>')\n",
        "    tokenizer.fit_on_texts(x)\n",
        "    return tokenizer.texts_to_sequences(x), tokenizer\n",
        "\n",
        "# Tokenize Example output\n",
        "text_sentences = [\n",
        "    'The quick brown fox jumps over the lazy dog .',\n",
        "    'By Jove , my quick study of lexicography won a prize .',\n",
        "    'This is a short sentence .']\n",
        "text_tokenized, text_tokenizer = tokenize(text_sentences)\n",
        "print(text_tokenizer.word_index)\n",
        "print()\n",
        "for sample_i, (sent, token_sent) in enumerate(zip(text_sentences, text_tokenized)):\n",
        "    print('Sequence {} in x'.format(sample_i + 1))\n",
        "    print('  Input:  {}'.format(sent))\n",
        "    print('  Output: {}'.format(token_sent))"
      ]
    },
    {
      "cell_type": "markdown",
      "metadata": {
        "id": "iUsxBMe_HPHb"
      },
      "source": [
        "### Padding (IMPLEMENTATION)\n",
        "When batching the sequence of word ids together, each sequence needs to be the same length.  Since sentences are dynamic in length, we can add padding to the end of the sequences to make them the same length.\n",
        "\n",
        "Make sure all the English sequences have the same length and all the French sequences have the same length by adding padding to the **end** of each sequence using Keras's [`pad_sequences`](https://keras.io/preprocessing/sequence/#pad_sequences) function."
      ]
    },
    {
      "cell_type": "code",
      "execution_count": 9,
      "metadata": {
        "colab": {
          "base_uri": "https://localhost:8080/"
        },
        "id": "N_-S1OoWHPHc",
        "outputId": "42edbbd4-3b21-4091-bb13-f117849eddb6"
      },
      "outputs": [
        {
          "output_type": "stream",
          "name": "stdout",
          "text": [
            "Sequence 1 in x\n",
            "  Input:  [ 2  3  5  6  7  8  2  9 10]\n",
            "  Output: [ 2  3  5  6  7  8  2  9 10  0]\n",
            "Sequence 2 in x\n",
            "  Input:  [11 12 13  3 14 15 16 17  4 18]\n",
            "  Output: [11 12 13  3 14 15 16 17  4 18]\n",
            "Sequence 3 in x\n",
            "  Input:  [19 20  4 21 22]\n",
            "  Output: [19 20  4 21 22  0  0  0  0  0]\n"
          ]
        }
      ],
      "source": [
        "from tensorflow.keras.preprocessing.sequence import pad_sequences\n",
        "\n",
        "def pad(x, length=None):\n",
        "    \"\"\"\n",
        "    Pad x\n",
        "    :param x: List of sequences.\n",
        "    :param length: Length to pad the sequence to.  If None, use length of longest sequence in x.\n",
        "    :return: Padded numpy array of sequences\n",
        "    \"\"\"\n",
        "    # TODO: Implement\n",
        "    if length is None:\n",
        "        length = max([len(s) for s in x])\n",
        "    return pad_sequences(x, maxlen=length, padding='post')\n",
        "\n",
        "# Pad Tokenized output\n",
        "test_pad = pad(text_tokenized)\n",
        "for sample_i, (token_sent, pad_sent) in enumerate(zip(text_tokenized, test_pad)):\n",
        "    print('Sequence {} in x'.format(sample_i + 1))\n",
        "    print('  Input:  {}'.format(np.array(token_sent)))\n",
        "    print('  Output: {}'.format(pad_sent))"
      ]
    },
    {
      "cell_type": "markdown",
      "metadata": {
        "id": "IG-Y1GUaHPHd"
      },
      "source": [
        "### Preprocess Pipeline\n",
        "Your focus for this project is to build neural network architecture, so we won't ask you to create a preprocess pipeline.  Instead, we've provided you with the implementation of the `preprocess` function."
      ]
    },
    {
      "cell_type": "code",
      "execution_count": 10,
      "metadata": {
        "colab": {
          "base_uri": "https://localhost:8080/"
        },
        "id": "-tUyZXkdHPHd",
        "outputId": "005beab6-071b-405f-f018-f0ee8145d791"
      },
      "outputs": [
        {
          "output_type": "stream",
          "name": "stdout",
          "text": [
            "Data Preprocessed\n",
            "Max English sentence length: 15\n",
            "Max French sentence length: 21\n",
            "English vocabulary size: 200\n",
            "French vocabulary size: 345\n"
          ]
        }
      ],
      "source": [
        "def preprocess(x, y):\n",
        "    \"\"\"\n",
        "    Preprocess x and y\n",
        "    :param x: Feature List of sentences\n",
        "    :param y: Label List of sentences\n",
        "    :return: Tuple of (Preprocessed x, Preprocessed y, x tokenizer, y tokenizer)\n",
        "    \"\"\"\n",
        "    preprocess_x, x_tk = tokenize(x)\n",
        "    preprocess_y, y_tk = tokenize(y)\n",
        "\n",
        "    preprocess_x = pad(preprocess_x)\n",
        "    preprocess_y = pad(preprocess_y)\n",
        "\n",
        "    # Keras's sparse_categorical_crossentropy function requires the labels to be in 3 dimensions\n",
        "    preprocess_y = preprocess_y.reshape(*preprocess_y.shape, 1)\n",
        "\n",
        "    return preprocess_x, preprocess_y, x_tk, y_tk\n",
        "\n",
        "preproc_english_sentences, preproc_french_sentences, english_tokenizer, french_tokenizer =\\\n",
        "    preprocess(english_sentences, french_sentences)\n",
        "    \n",
        "max_english_sequence_length = preproc_english_sentences.shape[1]\n",
        "max_french_sequence_length = preproc_french_sentences.shape[1]\n",
        "english_vocab_size = len(english_tokenizer.word_index)\n",
        "french_vocab_size = len(french_tokenizer.word_index)\n",
        "\n",
        "print('Data Preprocessed')\n",
        "print(\"Max English sentence length:\", max_english_sequence_length)\n",
        "print(\"Max French sentence length:\", max_french_sequence_length)\n",
        "print(\"English vocabulary size:\", english_vocab_size)\n",
        "print(\"French vocabulary size:\", french_vocab_size)"
      ]
    },
    {
      "cell_type": "markdown",
      "metadata": {
        "id": "5TD4__JHHPHe"
      },
      "source": [
        "## Models\n",
        "In this section, you will experiment with various neural network architectures.\n",
        "You will begin by training four relatively simple architectures.\n",
        "- Model 1 is a simple RNN\n",
        "- Model 2 is a RNN with Embedding\n",
        "- Model 3 is a Bidirectional RNN\n",
        "- Model 4 is an optional Encoder-Decoder RNN\n",
        "\n",
        "After experimenting with the four simple architectures, you will construct a deeper architecture that is designed to outperform all four models.\n",
        "### Ids Back to Text\n",
        "The neural network will be translating the input to words ids, which isn't the final form we want.  We want the French translation.  The function `logits_to_text` will bridge the gab between the logits from the neural network to the French translation.  You'll be using this function to better understand the output of the neural network."
      ]
    },
    {
      "cell_type": "code",
      "execution_count": 11,
      "metadata": {
        "id": "uu3y53FSHPHf"
      },
      "outputs": [],
      "source": [
        "def logits_to_text(logits, tokenizer):\n",
        "    \"\"\"\n",
        "    Turn logits from a neural network into text using the tokenizer\n",
        "    :param logits: Logits from a neural network\n",
        "    :param tokenizer: Keras Tokenizer fit on the labels\n",
        "    :return: String that represents the text of the logits\n",
        "    \"\"\"\n",
        "    index_to_words = {id: word for word, id in tokenizer.word_index.items()}\n",
        "    index_to_words[0] = '<PAD>'\n",
        "\n",
        "    return ' '.join([index_to_words[prediction] for prediction in np.argmax(logits, 1)])"
      ]
    },
    {
      "cell_type": "markdown",
      "metadata": {
        "id": "gn1v7iS1HPHf"
      },
      "source": [
        "### Model 1: RNN (IMPLEMENTATION)\n",
        "![rnn.png](data:image/png;base64,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)\n",
        "\n",
        "A basic RNN model is a good baseline for sequence data.  In this model, you'll build a RNN that translates English to French.\n",
        "\n",
        "**NOTES:**\n",
        "- The `return_state` contructor argument, configuring a RNN layer to return a list where the first entry is the outputs and the next entries are the internal RNN states. This is used to recover the states of the encoder.\n",
        "- The `inital_state` call argument, specifying the initial state(s) of a RNN. This is used to pass the encoder states to the decoder as initial states.\n",
        "- The `return_sequences` constructor argument, configuring a RNN to return its full sequence of outputs (instead of just the last output, which the defaults behavior). This is used in the *decoder*."
      ]
    },
    {
      "cell_type": "code",
      "execution_count": 12,
      "metadata": {
        "colab": {
          "base_uri": "https://localhost:8080/"
        },
        "id": "8HIVOxXPHPHg",
        "outputId": "ba7f7555-9fdf-45eb-9c8b-dffc39846fd6"
      },
      "outputs": [
        {
          "output_type": "stream",
          "name": "stdout",
          "text": [
            "Model: \"sequential\"\n",
            "_________________________________________________________________\n",
            " Layer (type)                Output Shape              Param #   \n",
            "=================================================================\n",
            " gru (GRU)                   (None, 21, 128)           50304     \n",
            "                                                                 \n",
            " time_distributed (TimeDistr  (None, 21, 345)          44505     \n",
            " ibuted)                                                         \n",
            "                                                                 \n",
            "=================================================================\n",
            "Total params: 94,809\n",
            "Trainable params: 94,809\n",
            "Non-trainable params: 0\n",
            "_________________________________________________________________\n",
            "Epoch 1/10\n",
            "108/108 [==============================] - 8s 22ms/step - loss: 2.9419 - accuracy: 0.4457 - val_loss: nan - val_accuracy: 0.4836\n",
            "Epoch 2/10\n",
            "108/108 [==============================] - 2s 18ms/step - loss: 2.1139 - accuracy: 0.5186 - val_loss: nan - val_accuracy: 0.5613\n",
            "Epoch 3/10\n",
            "108/108 [==============================] - 2s 17ms/step - loss: 1.7345 - accuracy: 0.5716 - val_loss: nan - val_accuracy: 0.5856\n",
            "Epoch 4/10\n",
            "108/108 [==============================] - 2s 18ms/step - loss: 1.5584 - accuracy: 0.5940 - val_loss: nan - val_accuracy: 0.5989\n",
            "Epoch 5/10\n",
            "108/108 [==============================] - 2s 17ms/step - loss: 1.4554 - accuracy: 0.6087 - val_loss: nan - val_accuracy: 0.6182\n",
            "Epoch 6/10\n",
            "108/108 [==============================] - 2s 18ms/step - loss: 1.3735 - accuracy: 0.6259 - val_loss: nan - val_accuracy: 0.6331\n",
            "Epoch 7/10\n",
            "108/108 [==============================] - 2s 18ms/step - loss: 1.3057 - accuracy: 0.6387 - val_loss: nan - val_accuracy: 0.6431\n",
            "Epoch 8/10\n",
            "108/108 [==============================] - 2s 18ms/step - loss: 1.2507 - accuracy: 0.6496 - val_loss: nan - val_accuracy: 0.6526\n",
            "Epoch 9/10\n",
            "108/108 [==============================] - 2s 17ms/step - loss: 1.2086 - accuracy: 0.6570 - val_loss: nan - val_accuracy: 0.6595\n",
            "Epoch 10/10\n",
            "108/108 [==============================] - 2s 18ms/step - loss: 1.1751 - accuracy: 0.6622 - val_loss: nan - val_accuracy: 0.6628\n",
            "\n",
            "English: new jersey is sometimes quiet during autumn , and it is snowy in april .\n",
            "Frensh: new jersey est parfois calme pendant l' automne , et il est neigeux en avril .\n",
            "1/1 [==============================] - 0s 305ms/step\n",
            "\n",
            "Frensh (PREDICTED): new jersey est parfois calme en mois et il est il est en en <PAD> <PAD> <PAD> <PAD> <PAD> <PAD> <PAD>\n"
          ]
        }
      ],
      "source": [
        "from tensorflow.keras.models import Sequential\n",
        "from tensorflow.keras.layers import GRU, Dense, Dropout, TimeDistributed\n",
        "\n",
        "def simple_model(input_shape, output_sequence_length, english_vocab_size, french_vocab_size):\n",
        "    \"\"\"\n",
        "    Build and train a basic RNN on x and y\n",
        "    :param input_shape: Tuple of input shape\n",
        "    :param output_sequence_length: Length of output sequence\n",
        "    :param english_vocab_size: Number of unique English words in the dataset\n",
        "    :param french_vocab_size: Number of unique French words in the dataset\n",
        "    :return: Keras model built, but not trained\n",
        "    \"\"\"\n",
        "    # TODO: Build the layers\n",
        "    model = Sequential([\n",
        "        GRU(128, return_sequences=True, input_shape=input_shape[1:]),\n",
        "        TimeDistributed(Dense(french_vocab_size, activation='softmax'))\n",
        "    ])\n",
        "\n",
        "    # Compile model\n",
        "    model.compile(optimizer='adam', metrics=['accuracy'], loss='sparse_categorical_crossentropy')\n",
        "    return model\n",
        "\n",
        "# Reshaping the input to work with a basic RNN\n",
        "tmp_x = pad(preproc_english_sentences, max_french_sequence_length)\n",
        "# Turn the sentences into 3 Numpy arrays\n",
        "tmp_x = tmp_x.reshape((-1, preproc_french_sentences.shape[-2], 1))\n",
        "y = preproc_french_sentences\n",
        "\n",
        "# Train the neural network\n",
        "simple_rnn_model = simple_model(\n",
        "    tmp_x.shape,\n",
        "    max_french_sequence_length,\n",
        "    english_vocab_size,\n",
        "    french_vocab_size)\n",
        "simple_rnn_model.summary()\n",
        "\n",
        "# Run training on GPU\n",
        "simple_rnn_model.fit(tmp_x, y, batch_size=1024, epochs=10, validation_split=0.2)\n",
        "\n",
        "# Print prediction(s)\n",
        "print('\\nEnglish:', english_sentences[0])\n",
        "print('Frensh:', french_sentences[0])\n",
        "print('\\nFrensh (PREDICTED):',\n",
        "      logits_to_text(simple_rnn_model.predict(tmp_x[:1])[0], french_tokenizer))"
      ]
    },
    {
      "cell_type": "markdown",
      "metadata": {
        "id": "fdMC-INQHPHg"
      },
      "source": [
        "### Model 2: Embedding (IMPLEMENTATION)\n",
        "\n",
        "![embedding.png](data:image/png;base64,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)\n",
        "\n",
        "You've turned the words into ids, but there's a better representation of a word.  This is called word embeddings.  An embedding is a vector representation of the word that is close to similar words in n-dimensional space, where the n represents the size of the embedding vectors.\n",
        "\n",
        "In this model, you'll create a RNN model using embedding."
      ]
    },
    {
      "cell_type": "code",
      "execution_count": 13,
      "metadata": {
        "colab": {
          "base_uri": "https://localhost:8080/"
        },
        "id": "w_QJTu94HPHh",
        "outputId": "18aa8fee-e1d0-4e96-8abf-3a6a39c188e2"
      },
      "outputs": [
        {
          "output_type": "stream",
          "name": "stdout",
          "text": [
            "Model: \"sequential_1\"\n",
            "_________________________________________________________________\n",
            " Layer (type)                Output Shape              Param #   \n",
            "=================================================================\n",
            " embedding (Embedding)       (None, 21, 128)           44160     \n",
            "                                                                 \n",
            " gru_1 (GRU)                 (None, 21, 128)           99072     \n",
            "                                                                 \n",
            " time_distributed_1 (TimeDis  (None, 21, 345)          44505     \n",
            " tributed)                                                       \n",
            "                                                                 \n",
            "=================================================================\n",
            "Total params: 187,737\n",
            "Trainable params: 187,737\n",
            "Non-trainable params: 0\n",
            "_________________________________________________________________\n",
            "Epoch 1/10\n",
            "1724/1724 [==============================] - 13s 7ms/step - loss: 0.9910 - accuracy: 0.7635 - val_loss: nan - val_accuracy: 0.8725\n",
            "Epoch 2/10\n",
            "1724/1724 [==============================] - 14s 8ms/step - loss: 0.3531 - accuracy: 0.8895 - val_loss: nan - val_accuracy: 0.9023\n",
            "Epoch 3/10\n",
            "1724/1724 [==============================] - 12s 7ms/step - loss: 0.2790 - accuracy: 0.9092 - val_loss: nan - val_accuracy: 0.9131\n",
            "Epoch 4/10\n",
            "1724/1724 [==============================] - 11s 6ms/step - loss: 0.2459 - accuracy: 0.9187 - val_loss: nan - val_accuracy: 0.9194\n",
            "Epoch 5/10\n",
            "1724/1724 [==============================] - 11s 6ms/step - loss: 0.2267 - accuracy: 0.9241 - val_loss: nan - val_accuracy: 0.9247\n",
            "Epoch 6/10\n",
            "1724/1724 [==============================] - 11s 6ms/step - loss: 0.2138 - accuracy: 0.9275 - val_loss: nan - val_accuracy: 0.9291\n",
            "Epoch 7/10\n",
            "1724/1724 [==============================] - 11s 6ms/step - loss: 0.2049 - accuracy: 0.9299 - val_loss: nan - val_accuracy: 0.9286\n",
            "Epoch 8/10\n",
            "1724/1724 [==============================] - 11s 6ms/step - loss: 0.1977 - accuracy: 0.9317 - val_loss: nan - val_accuracy: 0.9315\n",
            "Epoch 9/10\n",
            "1724/1724 [==============================] - 11s 6ms/step - loss: 0.1934 - accuracy: 0.9328 - val_loss: nan - val_accuracy: 0.9300\n",
            "Epoch 10/10\n",
            "1724/1724 [==============================] - 11s 6ms/step - loss: 0.1893 - accuracy: 0.9338 - val_loss: nan - val_accuracy: 0.9318\n",
            "\n",
            "English: new jersey is sometimes quiet during autumn , and it is snowy in april .\n",
            "Frensh: new jersey est parfois calme pendant l' automne , et il est neigeux en avril .\n",
            "1/1 [==============================] - 0s 304ms/step\n",
            "\n",
            "Frensh (PREDICTED): new jersey est parfois calme en l' et il est neigeux en avril <PAD> <PAD> <PAD> <PAD> <PAD> <PAD> <PAD> <PAD>\n"
          ]
        }
      ],
      "source": [
        "from tensorflow.keras.layers import Embedding\n",
        "\n",
        "def embed_model(input_shape, output_sequence_length, english_vocab_size, french_vocab_size):\n",
        "    \"\"\"\n",
        "    Build and train a RNN model using word embedding on x and y\n",
        "    :param input_shape: Tuple of input shape\n",
        "    :param output_sequence_length: Length of output sequence\n",
        "    :param english_vocab_size: Number of unique English words in the dataset\n",
        "    :param french_vocab_size: Number of unique French words in the dataset\n",
        "    :return: Keras model built, but not trained\n",
        "    \"\"\"\n",
        "    # TODO: Implement\n",
        "    embedding_size = 128\n",
        "    model = Sequential([\n",
        "        Embedding(french_vocab_size, embedding_size, input_length=input_shape[1]), #(345, 128, 21)\n",
        "        GRU(128, return_sequences=True),\n",
        "        TimeDistributed(Dense(french_vocab_size, activation='softmax')) \n",
        "    ])\n",
        "\n",
        "    # Compile model\n",
        "    model.compile(optimizer='adam', metrics=['accuracy'], loss='sparse_categorical_crossentropy')\n",
        "    return model\n",
        "\n",
        "# TODO: Reshape the input\n",
        "tmp_x = pad(preproc_english_sentences, max_french_sequence_length)\n",
        "tmp_x = tmp_x.reshape((-1, preproc_french_sentences.shape[1], 1))\n",
        "y = preproc_french_sentences\n",
        "\n",
        "# TODO: Train the neural network\n",
        "embed_rnn_model = embed_model(\n",
        "    tmp_x.shape,\n",
        "    max_french_sequence_length,\n",
        "    english_vocab_size, french_vocab_size)\n",
        "\n",
        "embed_rnn_model.summary()\n",
        "embed_rnn_model.fit(tmp_x, y, batch_size=64, epochs=10, validation_split=0.2)\n",
        "\n",
        "# TODO: Print prediction(s)\n",
        "print('\\nEnglish:', english_sentences[0])\n",
        "print('Frensh:', french_sentences[0])\n",
        "print('\\nFrensh (PREDICTED):',\n",
        "      logits_to_text(embed_rnn_model.predict(tmp_x[:1])[0], french_tokenizer))"
      ]
    },
    {
      "cell_type": "markdown",
      "metadata": {
        "id": "leBDuNjcp_5q"
      },
      "source": [
        "WOW! just by adding an Embedding layer, we get an accuracy boost of 24%, to reach 93% 👏"
      ]
    },
    {
      "cell_type": "markdown",
      "metadata": {
        "id": "RT_BEB7EHPHh"
      },
      "source": [
        "### Model 3: Bidirectional RNNs (IMPLEMENTATION)\n",
        "![bidirectional.png](data:image/png;base64,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)\n",
        "\n",
        "One restriction of a RNN is that it can't see the future input, only the past.  This is where bidirectional recurrent neural networks come in.  They are able to see the future data."
      ]
    },
    {
      "cell_type": "code",
      "execution_count": 14,
      "metadata": {
        "colab": {
          "base_uri": "https://localhost:8080/"
        },
        "id": "i475zRrtHPHh",
        "outputId": "2932b49c-179a-4509-a658-8181164c2630"
      },
      "outputs": [
        {
          "output_type": "stream",
          "name": "stdout",
          "text": [
            "Model: \"sequential_2\"\n",
            "_________________________________________________________________\n",
            " Layer (type)                Output Shape              Param #   \n",
            "=================================================================\n",
            " embedding_1 (Embedding)     (None, 21, 128)           44160     \n",
            "                                                                 \n",
            " bidirectional (Bidirectiona  (None, 21, 256)          198144    \n",
            " l)                                                              \n",
            "                                                                 \n",
            " time_distributed_2 (TimeDis  (None, 21, 345)          88665     \n",
            " tributed)                                                       \n",
            "                                                                 \n",
            "=================================================================\n",
            "Total params: 330,969\n",
            "Trainable params: 330,969\n",
            "Non-trainable params: 0\n",
            "_________________________________________________________________\n",
            "Epoch 1/10\n",
            "1724/1724 [==============================] - 18s 9ms/step - loss: 0.8307 - accuracy: 0.7944 - val_loss: nan - val_accuracy: 0.9053\n",
            "Epoch 2/10\n",
            "1724/1724 [==============================] - 15s 9ms/step - loss: 0.2402 - accuracy: 0.9273 - val_loss: nan - val_accuracy: 0.9416\n",
            "Epoch 3/10\n",
            "1724/1724 [==============================] - 15s 8ms/step - loss: 0.1596 - accuracy: 0.9514 - val_loss: nan - val_accuracy: 0.9568\n",
            "Epoch 4/10\n",
            "1724/1724 [==============================] - 16s 9ms/step - loss: 0.1247 - accuracy: 0.9619 - val_loss: nan - val_accuracy: 0.9624\n",
            "Epoch 5/10\n",
            "1724/1724 [==============================] - 15s 8ms/step - loss: 0.1043 - accuracy: 0.9683 - val_loss: nan - val_accuracy: 0.9659\n",
            "Epoch 6/10\n",
            "1724/1724 [==============================] - 15s 8ms/step - loss: 0.0924 - accuracy: 0.9719 - val_loss: nan - val_accuracy: 0.9700\n",
            "Epoch 7/10\n",
            "1724/1724 [==============================] - 15s 8ms/step - loss: 0.0824 - accuracy: 0.9749 - val_loss: nan - val_accuracy: 0.9703\n",
            "Epoch 8/10\n",
            "1724/1724 [==============================] - 15s 9ms/step - loss: 0.0763 - accuracy: 0.9766 - val_loss: nan - val_accuracy: 0.9727\n",
            "Epoch 9/10\n",
            "1724/1724 [==============================] - 15s 8ms/step - loss: 0.0710 - accuracy: 0.9782 - val_loss: nan - val_accuracy: 0.9751\n",
            "Epoch 10/10\n",
            "1724/1724 [==============================] - 15s 9ms/step - loss: 0.0657 - accuracy: 0.9798 - val_loss: nan - val_accuracy: 0.9769\n",
            "\n",
            "English: new jersey is sometimes quiet during autumn , and it is snowy in april .\n",
            "Frensh: new jersey est parfois calme pendant l' automne , et il est neigeux en avril .\n",
            "1/1 [==============================] - 1s 547ms/step\n",
            "\n",
            "Frensh (PREDICTED): new jersey est parfois calme pendant l' automne et il est neigeux en avril <PAD> <PAD> <PAD> <PAD> <PAD> <PAD> <PAD>\n"
          ]
        }
      ],
      "source": [
        "from tensorflow.keras.layers import Bidirectional\n",
        "\n",
        "def bd_model(input_shape, output_sequence_length, english_vocab_size, french_vocab_size):\n",
        "    \"\"\"\n",
        "    Build and train a bidirectional RNN model on x and y\n",
        "    :param input_shape: Tuple of input shape\n",
        "    :param output_sequence_length: Length of output sequence\n",
        "    :param english_vocab_size: Number of unique English words in the dataset\n",
        "    :param french_vocab_size: Number of unique French words in the dataset\n",
        "    :return: Keras model built, but not trained\n",
        "    \"\"\"\n",
        "    # TODO: Implement\n",
        "    embedding_size = 128\n",
        "    model = Sequential([\n",
        "        Embedding(french_vocab_size, embedding_size, input_length=input_shape[1]), #(345, 128, 21)\n",
        "        Bidirectional(GRU(128, return_sequences=True)),\n",
        "        TimeDistributed(Dense(french_vocab_size, activation='softmax'))  \n",
        "    ])\n",
        "\n",
        "    # Compile model\n",
        "    model.compile(optimizer='adam', metrics=['accuracy'], loss='sparse_categorical_crossentropy')\n",
        "    return model\n",
        "\n",
        "\n",
        "# TODO: Train and Print prediction(s)\n",
        "# Reshaping the input\n",
        "tmp_x = pad(preproc_english_sentences, max_french_sequence_length)\n",
        "tmp_x = tmp_x.reshape((-1, preproc_french_sentences.shape[1], 1))\n",
        "y = preproc_french_sentences\n",
        "\n",
        "# Training the neural network\n",
        "bd_rnn_model = bd_model(\n",
        "    tmp_x.shape,\n",
        "    max_french_sequence_length,\n",
        "    english_vocab_size, french_vocab_size)\n",
        "\n",
        "bd_rnn_model.summary()\n",
        "bd_rnn_model.fit(tmp_x, y, batch_size=64, epochs=10, validation_split=0.2)\n",
        "\n",
        "# TODO: Print prediction(s)\n",
        "print('\\nEnglish:', english_sentences[0])\n",
        "print('Frensh:', french_sentences[0])\n",
        "print('\\nFrensh (PREDICTED):',\n",
        "      logits_to_text(bd_rnn_model.predict(tmp_x[:1])[0], french_tokenizer))"
      ]
    },
    {
      "cell_type": "markdown",
      "source": [
        "WOW! just by adding an Embedding layer, we get an accuracy boost of 4%, to reach 97% 👏\n"
      ],
      "metadata": {
        "id": "xhZe3J4n88Yu"
      }
    },
    {
      "cell_type": "markdown",
      "metadata": {
        "id": "-keNm42bHPHi"
      },
      "source": [
        "### Model 4: Encoder-Decoder (OPTIONAL)\n",
        "\n",
        "Time to look at encoder-decoder models.  This model is made up of an encoder and decoder. The encoder creates a matrix representation of the sentence.  The decoder takes this matrix as input and predicts the translation as output.\n",
        "\n",
        "Create an encoder-decoder model in the cell below."
      ]
    },
    {
      "cell_type": "code",
      "execution_count": 17,
      "metadata": {
        "colab": {
          "base_uri": "https://localhost:8080/"
        },
        "id": "zCskKNjdHPHi",
        "outputId": "d3f980f3-b74e-4d32-9e3c-a3d7f96fc10f"
      },
      "outputs": [
        {
          "metadata": {
            "tags": null
          },
          "name": "stdout",
          "output_type": "stream",
          "text": [
            "Model: \"sequential_8\"\n",
            "_________________________________________________________________\n",
            " Layer (type)                Output Shape              Param #   \n",
            "=================================================================\n",
            " sequential_6 (Sequential)   (None, 128)               50304     \n",
            "                                                                 \n",
            " repeat_vector_1 (RepeatVect  (None, 21, 128)          0         \n",
            " or)                                                             \n",
            "                                                                 \n",
            " sequential_7 (Sequential)   (None, 21, 345)           143577    \n",
            "                                                                 \n",
            "=================================================================\n",
            "Total params: 193,881\n",
            "Trainable params: 193,881\n",
            "Non-trainable params: 0\n",
            "_________________________________________________________________\n",
            "Epoch 1/10\n",
            "1724/1724 [==============================] - 18s 9ms/step - loss: 1.8764 - accuracy: 0.5528 - val_loss: nan - val_accuracy: 0.6122\n",
            "Epoch 2/10\n",
            "1724/1724 [==============================] - 14s 8ms/step - loss: 1.3262 - accuracy: 0.6280 - val_loss: nan - val_accuracy: 0.6421\n",
            "Epoch 3/10\n",
            "1724/1724 [==============================] - 15s 9ms/step - loss: 1.2239 - accuracy: 0.6474 - val_loss: nan - val_accuracy: 0.6482\n",
            "Epoch 4/10\n",
            "1724/1724 [==============================] - 14s 8ms/step - loss: 1.1686 - accuracy: 0.6605 - val_loss: nan - val_accuracy: 0.6743\n",
            "Epoch 5/10\n",
            "1724/1724 [==============================] - 14s 8ms/step - loss: 1.1420 - accuracy: 0.6669 - val_loss: nan - val_accuracy: 0.6759\n",
            "Epoch 6/10\n",
            "1724/1724 [==============================] - 15s 9ms/step - loss: 1.1056 - accuracy: 0.6754 - val_loss: nan - val_accuracy: 0.6856\n",
            "Epoch 7/10\n",
            "1724/1724 [==============================] - 14s 8ms/step - loss: 1.0846 - accuracy: 0.6811 - val_loss: nan - val_accuracy: 0.6942\n",
            "Epoch 8/10\n",
            "1724/1724 [==============================] - 15s 8ms/step - loss: 1.0127 - accuracy: 0.6942 - val_loss: nan - val_accuracy: 0.6984\n",
            "Epoch 9/10\n",
            "1724/1724 [==============================] - 14s 8ms/step - loss: 0.9767 - accuracy: 0.6988 - val_loss: nan - val_accuracy: 0.7124\n",
            "Epoch 10/10\n",
            "1724/1724 [==============================] - 14s 8ms/step - loss: 0.9388 - accuracy: 0.7070 - val_loss: nan - val_accuracy: 0.6865\n",
            "\n",
            "English: new jersey is sometimes quiet during autumn , and it is snowy in april .\n",
            "Frensh: new jersey est parfois calme pendant l' automne , et il est neigeux en avril .\n",
            "1/1 [==============================] - 1s 801ms/step\n",
            "\n",
            "Frensh (PREDICTED): new jersey est parfois chaud en l' et il est est en en <PAD> <PAD> <PAD> <PAD> <PAD> <PAD> <PAD> <PAD>\n"
          ]
        }
      ],
      "source": [
        "from tensorflow.keras.layers import RepeatVector\n",
        "\n",
        "def encdec_model(input_shape, output_sequence_length, english_vocab_size, french_vocab_size):\n",
        "    \"\"\"\n",
        "    Build and train an encoder-decoder model on x and y\n",
        "    :param input_shape: Tuple of input shape\n",
        "    :param output_sequence_length: Length of output sequence\n",
        "    :param english_vocab_size: Number of unique English words in the dataset\n",
        "    :param french_vocab_size: Number of unique French words in the dataset\n",
        "    :return: Keras model built, but not trained\n",
        "    \"\"\"\n",
        "    # TODO: Implement\n",
        "    encoder = Sequential([\n",
        "        GRU(128, input_shape=input_shape[1:]),\n",
        "    ])\n",
        "\n",
        "    decoder = Sequential([\n",
        "        GRU(128, return_sequences=True),\n",
        "        Dense(french_vocab_size, activation=\"softmax\")\n",
        "    ])\n",
        "\n",
        "    model = Sequential([\n",
        "        encoder,\n",
        "        RepeatVector(output_sequence_length), # (21)\n",
        "        decoder\n",
        "    ])\n",
        "\n",
        "    # Compile model\n",
        "    model.compile(optimizer='adam', metrics=['accuracy'], loss='sparse_categorical_crossentropy')\n",
        "    return model\n",
        "\n",
        "\n",
        "# TODO: Train and Print prediction(s)\n",
        "\n",
        "# Reshaping the input\n",
        "tmp_x = pad(preproc_english_sentences, max_french_sequence_length)\n",
        "tmp_x = tmp_x.reshape((-1, preproc_french_sentences.shape[1], 1))\n",
        "y = preproc_french_sentences\n",
        "\n",
        "# Training the neural network\n",
        "encdec_rnn_model = encdec_model(\n",
        "    tmp_x.shape,\n",
        "    max_french_sequence_length,\n",
        "    english_vocab_size, french_vocab_size)\n",
        "\n",
        "encdec_rnn_model.summary()\n",
        "encdec_rnn_model.fit(tmp_x, y, batch_size=64, epochs=10, validation_split=0.2)\n",
        "\n",
        "# Printing prediction(s)\n",
        "print('\\nEnglish:', english_sentences[0])\n",
        "print('Frensh:', french_sentences[0])\n",
        "print('\\nFrensh (PREDICTED):',\n",
        "      logits_to_text(encdec_rnn_model.predict(tmp_x[:1])[0], french_tokenizer))"
      ]
    },
    {
      "cell_type": "markdown",
      "metadata": {
        "id": "W6dU80ljIO6b"
      },
      "source": [
        "Better than the Simple RNN"
      ]
    },
    {
      "cell_type": "markdown",
      "metadata": {
        "id": "SimtSm5THPHi"
      },
      "source": [
        "### Model 5: Custom (IMPLEMENTATION)\n",
        "Use everything you learned from the previous models to create a model that incorporates embedding and a bidirectional rnn into one model."
      ]
    },
    {
      "cell_type": "code",
      "execution_count": 21,
      "metadata": {
        "colab": {
          "base_uri": "https://localhost:8080/"
        },
        "id": "lyXpljzxHPHj",
        "outputId": "f75559d3-7e85-4e2a-c068-87b39521ed12"
      },
      "outputs": [
        {
          "metadata": {
            "tags": null
          },
          "name": "stdout",
          "output_type": "stream",
          "text": [
            "Final Model Loaded\n",
            "Model: \"sequential_18\"\n",
            "_________________________________________________________________\n",
            " Layer (type)                Output Shape              Param #   \n",
            "=================================================================\n",
            " sequential_16 (Sequential)  (None, 256)               242304    \n",
            "                                                                 \n",
            " repeat_vector_4 (RepeatVect  (None, 21, 256)          0         \n",
            " or)                                                             \n",
            "                                                                 \n",
            " sequential_17 (Sequential)  (None, 21, 345)           385113    \n",
            "                                                                 \n",
            "=================================================================\n",
            "Total params: 627,417\n",
            "Trainable params: 627,417\n",
            "Non-trainable params: 0\n",
            "_________________________________________________________________\n",
            "Epoch 1/10\n",
            "1724/1724 [==============================] - 29s 14ms/step - loss: 1.2834 - accuracy: 0.6729 - val_loss: nan - val_accuracy: 0.7594\n",
            "Epoch 2/10\n",
            "1724/1724 [==============================] - 22s 13ms/step - loss: 0.6407 - accuracy: 0.8103 - val_loss: nan - val_accuracy: 0.8569\n",
            "Epoch 3/10\n",
            "1724/1724 [==============================] - 22s 13ms/step - loss: 0.3884 - accuracy: 0.8869 - val_loss: nan - val_accuracy: 0.9137\n",
            "Epoch 4/10\n",
            "1724/1724 [==============================] - 21s 12ms/step - loss: 0.2344 - accuracy: 0.9329 - val_loss: nan - val_accuracy: 0.9452\n",
            "Epoch 5/10\n",
            "1724/1724 [==============================] - 21s 12ms/step - loss: 0.1612 - accuracy: 0.9531 - val_loss: nan - val_accuracy: 0.9554\n",
            "Epoch 6/10\n",
            "1724/1724 [==============================] - 22s 12ms/step - loss: 0.1285 - accuracy: 0.9614 - val_loss: nan - val_accuracy: 0.9645\n",
            "Epoch 7/10\n",
            "1724/1724 [==============================] - 21s 12ms/step - loss: 0.1083 - accuracy: 0.9669 - val_loss: nan - val_accuracy: 0.9666\n",
            "Epoch 8/10\n",
            "1724/1724 [==============================] - 21s 12ms/step - loss: 0.0966 - accuracy: 0.9703 - val_loss: nan - val_accuracy: 0.9671\n",
            "Epoch 9/10\n",
            "1724/1724 [==============================] - 21s 12ms/step - loss: 0.0867 - accuracy: 0.9733 - val_loss: nan - val_accuracy: 0.9726\n",
            "Epoch 10/10\n",
            "1724/1724 [==============================] - 21s 12ms/step - loss: 0.0813 - accuracy: 0.9751 - val_loss: nan - val_accuracy: 0.9717\n",
            "\n",
            "English: new jersey is sometimes quiet during autumn , and it is snowy in april .\n",
            "Frensh: new jersey est parfois calme pendant l' automne , et il est neigeux en avril .\n"
          ]
        },
        {
          "metadata": {
            "tags": null
          },
          "name": "stderr",
          "output_type": "stream",
          "text": [
            "WARNING:tensorflow:5 out of the last 5 calls to <function Model.make_predict_function.<locals>.predict_function at 0x7f6b29e68cb0> triggered tf.function retracing. Tracing is expensive and the excessive number of tracings could be due to (1) creating @tf.function repeatedly in a loop, (2) passing tensors with different shapes, (3) passing Python objects instead of tensors. For (1), please define your @tf.function outside of the loop. For (2), @tf.function has reduce_retracing=True option that can avoid unnecessary retracing. For (3), please refer to https://www.tensorflow.org/guide/function#controlling_retracing and https://www.tensorflow.org/api_docs/python/tf/function for  more details.\n"
          ]
        },
        {
          "metadata": {
            "tags": null
          },
          "name": "stdout",
          "output_type": "stream",
          "text": [
            "1/1 [==============================] - 1s 1s/step\n",
            "\n",
            "Frensh (PREDICTED): new jersey est parfois calme pendant l' automne et est et il est avril <PAD> <PAD> <PAD> <PAD> <PAD> <PAD> <PAD>\n"
          ]
        }
      ],
      "source": [
        "# from tensorflow.keras.layers import Embedding\n",
        "# from tensorflow.keras.layers import RepeatVector\n",
        "# from tensorflow.keras.layers import Bidirectional\n",
        "\n",
        "def model_final(input_shape, output_sequence_length, english_vocab_size, french_vocab_size):\n",
        "    \"\"\"\n",
        "    Build and train a model that incorporates embedding, encoder-decoder, and bidirectional RNN on x and y\n",
        "    :param input_shape: Tuple of input shape\n",
        "    :param output_sequence_length: Length of output sequence\n",
        "    :param english_vocab_size: Number of unique English words in the dataset\n",
        "    :param french_vocab_size: Number of unique French words in the dataset\n",
        "    :return: Keras model built, but not trained\n",
        "    \"\"\"\n",
        "    # TODO: Implement\n",
        "    embedding_size = 128\n",
        "    encoder = Sequential([\n",
        "        Embedding(french_vocab_size, embedding_size, input_length=input_shape[1]),\n",
        "        Bidirectional(GRU(128))\n",
        "    ])\n",
        "\n",
        "    decoder = Sequential([\n",
        "        Bidirectional(GRU(128, return_sequences=True)),\n",
        "        TimeDistributed(Dense(french_vocab_size, activation='softmax'))\n",
        "    ])\n",
        "\n",
        "    model = Sequential([\n",
        "        encoder,\n",
        "        RepeatVector(output_sequence_length),\n",
        "        decoder\n",
        "    ])\n",
        "\n",
        "    # Compile model\n",
        "    model.compile(optimizer='adam', metrics=['accuracy'], loss='sparse_categorical_crossentropy')\n",
        "    return model\n",
        "\n",
        "\n",
        "print('Final Model Loaded')\n",
        "\n",
        "# TODO: Train the final model\n",
        "# Reshaping the input\n",
        "tmp_x = pad(preproc_english_sentences, max_french_sequence_length)\n",
        "tmp_x = tmp_x.reshape((-1, preproc_french_sentences.shape[1], 1))\n",
        "y = preproc_french_sentences\n",
        "\n",
        "# Training the neural network\n",
        "final_rnn_model = model_final(\n",
        "    tmp_x.shape, max_french_sequence_length,\n",
        "    english_vocab_size, french_vocab_size)\n",
        "\n",
        "final_rnn_model.summary()\n",
        "final_rnn_model.fit(tmp_x, y, batch_size=64, epochs=10, validation_split=0.2)\n",
        "\n",
        "# Printing prediction(s)\n",
        "print('\\nEnglish:', english_sentences[0])\n",
        "print('Frensh:', french_sentences[0])\n",
        "print('\\nFrensh (PREDICTED):',\n",
        "      logits_to_text(final_rnn_model.predict(tmp_x[:1])[0], french_tokenizer))"
      ]
    },
    {
      "cell_type": "markdown",
      "metadata": {
        "id": "m6uJwVS9HPHk"
      },
      "source": [
        "## Prediction (IMPLEMENTATION)"
      ]
    },
    {
      "cell_type": "code",
      "execution_count": 23,
      "metadata": {
        "colab": {
          "base_uri": "https://localhost:8080/"
        },
        "id": "q90TznwdHPHl",
        "outputId": "4bf72d5c-3ffa-4636-aea8-8de6601c383b"
      },
      "outputs": [
        {
          "output_type": "stream",
          "name": "stdout",
          "text": [
            "Model: \"sequential_24\"\n",
            "_________________________________________________________________\n",
            " Layer (type)                Output Shape              Param #   \n",
            "=================================================================\n",
            " sequential_22 (Sequential)  (None, 256)               242304    \n",
            "                                                                 \n",
            " repeat_vector_6 (RepeatVect  (None, 21, 256)          0         \n",
            " or)                                                             \n",
            "                                                                 \n",
            " sequential_23 (Sequential)  (None, 21, 345)           385113    \n",
            "                                                                 \n",
            "=================================================================\n",
            "Total params: 627,417\n",
            "Trainable params: 627,417\n",
            "Non-trainable params: 0\n",
            "_________________________________________________________________\n",
            "Epoch 1/10\n",
            "1724/1724 [==============================] - 28s 13ms/step - loss: 1.2548 - accuracy: 0.6751 - val_loss: nan - val_accuracy: 0.7645\n",
            "Epoch 2/10\n",
            "1724/1724 [==============================] - 21s 12ms/step - loss: 0.6197 - accuracy: 0.8162 - val_loss: nan - val_accuracy: 0.8562\n",
            "Epoch 3/10\n",
            "1724/1724 [==============================] - 21s 12ms/step - loss: 0.3641 - accuracy: 0.8920 - val_loss: nan - val_accuracy: 0.9228\n",
            "Epoch 4/10\n",
            "1724/1724 [==============================] - 21s 12ms/step - loss: 0.2215 - accuracy: 0.9353 - val_loss: nan - val_accuracy: 0.9458\n",
            "Epoch 5/10\n",
            "1724/1724 [==============================] - 20s 12ms/step - loss: 0.1638 - accuracy: 0.9507 - val_loss: nan - val_accuracy: 0.9521\n",
            "Epoch 6/10\n",
            "1724/1724 [==============================] - 21s 12ms/step - loss: 0.1299 - accuracy: 0.9604 - val_loss: nan - val_accuracy: 0.9627\n",
            "Epoch 7/10\n",
            "1724/1724 [==============================] - 20s 12ms/step - loss: 0.1091 - accuracy: 0.9664 - val_loss: nan - val_accuracy: 0.9629\n",
            "Epoch 8/10\n",
            "1724/1724 [==============================] - 20s 12ms/step - loss: 0.1024 - accuracy: 0.9684 - val_loss: nan - val_accuracy: 0.9671\n",
            "Epoch 9/10\n",
            "1724/1724 [==============================] - 21s 12ms/step - loss: 0.0873 - accuracy: 0.9728 - val_loss: nan - val_accuracy: 0.9693\n",
            "Epoch 10/10\n",
            "1724/1724 [==============================] - 21s 12ms/step - loss: 0.0768 - accuracy: 0.9762 - val_loss: nan - val_accuracy: 0.9719\n",
            "1/1 [==============================] - 1s 1s/step\n",
            "Sample 1:\n",
            "il a vu un vieux camion jaune <PAD> <PAD> <PAD> <PAD> <PAD> <PAD> <PAD> <PAD> <PAD> <PAD> <PAD> <PAD> <PAD> <PAD>\n",
            "Il a vu un vieux camion jaune\n",
            "Sample 2:\n",
            "new jersey est parfois calme pendant l' automne et il est neigeux en avril <PAD> <PAD> <PAD> <PAD> <PAD> <PAD> <PAD>\n",
            "new jersey est parfois calme pendant l' automne et il est neigeux en avril <PAD> <PAD> <PAD> <PAD> <PAD> <PAD> <PAD>\n"
          ]
        }
      ],
      "source": [
        "def final_predictions(x, y, x_tk, y_tk):\n",
        "    \"\"\"\n",
        "    Gets predictions using the final model\n",
        "    :param x: Preprocessed English data\n",
        "    :param y: Preprocessed French data\n",
        "    :param x_tk: English tokenizer\n",
        "    :param y_tk: French tokenizer\n",
        "    \"\"\"\n",
        "    # TODO: Train neural network using model_final\n",
        "    model = model_final(x.shape, y.shape[1],\n",
        "                        len(x_tk.word_index),\n",
        "                        len(y_tk.word_index))\n",
        "    \n",
        "    model.summary()\n",
        "    model.fit(x, y, batch_size=64, epochs=10, validation_split=0.2)\n",
        "\n",
        "    \n",
        "    ## DON'T EDIT ANYTHING BELOW THIS LINE\n",
        "    y_id_to_word = {value: key for key, value in y_tk.word_index.items()}\n",
        "    y_id_to_word[0] = '<PAD>'\n",
        "\n",
        "    sentence = 'he saw a old yellow truck'\n",
        "    sentence = [x_tk.word_index[word] for word in sentence.split()]\n",
        "    sentence = pad_sequences([sentence], maxlen=x.shape[-1], padding='post')\n",
        "    sentences = np.array([sentence[0], x[0]])\n",
        "    predictions = model.predict(sentences, len(sentences))\n",
        "\n",
        "    print('Sample 1:')\n",
        "    print(' '.join([y_id_to_word[np.argmax(x)] for x in predictions[0]]))\n",
        "    print('Il a vu un vieux camion jaune')\n",
        "    print('Sample 2:')\n",
        "    print(' '.join([y_id_to_word[np.argmax(x)] for x in predictions[1]]))\n",
        "    print(' '.join([y_id_to_word[np.max(x)] for x in y[0]]))\n",
        "\n",
        "\n",
        "final_predictions(preproc_english_sentences, preproc_french_sentences, english_tokenizer, french_tokenizer)"
      ]
    },
    {
      "cell_type": "markdown",
      "metadata": {
        "id": "AGpEyFhfHPHl"
      },
      "source": [
        "## Submission\n",
        "When you're ready to submit, complete the following steps:\n",
        "1. Review the [rubric](https://review.udacity.com/#!/rubrics/1004/view) to ensure your submission meets all requirements to pass\n",
        "2. Generate an HTML version of this notebook\n",
        "\n",
        "  - Run the next cell to attempt automatic generation (this is the recommended method in Workspaces)\n",
        "  - Navigate to **FILE -> Download as -> HTML (.html)**\n",
        "  - Manually generate a copy using `nbconvert` from your shell terminal\n",
        "```\n",
        "$ pip install nbconvert\n",
        "$ python -m nbconvert machine_translation.ipynb\n",
        "```\n",
        "  \n",
        "3. Submit the project\n",
        "\n",
        "  - If you are in a Workspace, simply click the \"Submit Project\" button (bottom towards the right)\n",
        "  \n",
        "  - Otherwise, add the following files into a zip archive and submit them \n",
        "  - `helper.py`\n",
        "  - `machine_translation.ipynb`\n",
        "  - `machine_translation.html`\n",
        "    - You can export the notebook by navigating to **File -> Download as -> HTML (.html)**."
      ]
    },
    {
      "cell_type": "code",
      "execution_count": null,
      "metadata": {
        "id": "nZwtigvYHPHm"
      },
      "outputs": [],
      "source": [
        "!python -m nbconvert *.ipynb"
      ]
    },
    {
      "cell_type": "markdown",
      "metadata": {
        "id": "hE0ChU_CHPHm"
      },
      "source": [
        "## Optional Enhancements\n",
        "\n",
        "This project focuses on learning various network architectures for machine translation, but we don't evaluate the models according to best practices by splitting the data into separate test & training sets -- so the model accuracy is overstated. Use the [`sklearn.model_selection.train_test_split()`](http://scikit-learn.org/stable/modules/generated/sklearn.model_selection.train_test_split.html) function to create separate training & test datasets, then retrain each of the models using only the training set and evaluate the prediction accuracy using the hold out test set. Does the \"best\" model change?"
      ]
    }
  ],
  "metadata": {
    "accelerator": "GPU",
    "colab": {
      "provenance": []
    },
    "gpuClass": "standard",
    "kernelspec": {
      "display_name": "Python 3 (ipykernel)",
      "language": "python",
      "name": "python3"
    },
    "language_info": {
      "codemirror_mode": {
        "name": "ipython",
        "version": 3
      },
      "file_extension": ".py",
      "mimetype": "text/x-python",
      "name": "python",
      "nbconvert_exporter": "python",
      "pygments_lexer": "ipython3",
      "version": "3.8.13"
    }
  },
  "nbformat": 4,
  "nbformat_minor": 0
}