{
  "nbformat": 4,
  "nbformat_minor": 0,
  "metadata": {
    "colab": {
      "provenance": []
    },
    "kernelspec": {
      "name": "python3",
      "display_name": "Python 3"
    },
    "language_info": {
      "name": "python"
    }
  },
  "cells": [
    {
      "cell_type": "markdown",
      "source": [
        "# Stocks with spaCy"
      ],
      "metadata": {
        "id": "g3Y0UILLE4Ad"
      }
    },
    {
      "cell_type": "code",
      "execution_count": 1,
      "metadata": {
        "colab": {
          "base_uri": "https://localhost:8080/"
        },
        "id": "uIxEzsh8BVmC",
        "outputId": "972a4b96-69af-45f8-b300-6e31e69f5cd9"
      },
      "outputs": [
        {
          "output_type": "stream",
          "name": "stderr",
          "text": [
            "/usr/local/lib/python3.8/dist-packages/torch/cuda/__init__.py:497: UserWarning: Can't initialize NVML\n",
            "  warnings.warn(\"Can't initialize NVML\")\n"
          ]
        }
      ],
      "source": [
        "import spacy\n",
        "import pandas as pd"
      ]
    },
    {
      "cell_type": "code",
      "source": [
        "df = pd.read_csv(\"stocks.tsv\", sep='\\t')\n",
        "df.head()"
      ],
      "metadata": {
        "colab": {
          "base_uri": "https://localhost:8080/",
          "height": 206
        },
        "id": "3wnjuIcXBZZM",
        "outputId": "7fa920ab-0f09-4e8f-96c0-c09845b55b55"
      },
      "execution_count": 3,
      "outputs": [
        {
          "output_type": "execute_result",
          "data": {
            "text/plain": [
              "  Symbol            CompanyName                        Industry MarketCap\n",
              "0      A   Agilent Technologies  Life Sciences Tools & Services    53.65B\n",
              "1     AA                  Alcoa                 Metals & Mining     9.25B\n",
              "2    AAC       Ares Acquisition                 Shell Companies     1.22B\n",
              "3   AACG  ATA Creativity Global   Diversified Consumer Services    90.35M\n",
              "4   AADI        Aadi Bioscience                 Pharmaceuticals   104.85M"
            ],
            "text/html": [
              "\n",
              "  <div id=\"df-bf86dd0d-4b76-48fd-8323-5ff5ea1b5ba1\">\n",
              "    <div class=\"colab-df-container\">\n",
              "      <div>\n",
              "<style scoped>\n",
              "    .dataframe tbody tr th:only-of-type {\n",
              "        vertical-align: middle;\n",
              "    }\n",
              "\n",
              "    .dataframe tbody tr th {\n",
              "        vertical-align: top;\n",
              "    }\n",
              "\n",
              "    .dataframe thead th {\n",
              "        text-align: right;\n",
              "    }\n",
              "</style>\n",
              "<table border=\"1\" class=\"dataframe\">\n",
              "  <thead>\n",
              "    <tr style=\"text-align: right;\">\n",
              "      <th></th>\n",
              "      <th>Symbol</th>\n",
              "      <th>CompanyName</th>\n",
              "      <th>Industry</th>\n",
              "      <th>MarketCap</th>\n",
              "    </tr>\n",
              "  </thead>\n",
              "  <tbody>\n",
              "    <tr>\n",
              "      <th>0</th>\n",
              "      <td>A</td>\n",
              "      <td>Agilent Technologies</td>\n",
              "      <td>Life Sciences Tools &amp; Services</td>\n",
              "      <td>53.65B</td>\n",
              "    </tr>\n",
              "    <tr>\n",
              "      <th>1</th>\n",
              "      <td>AA</td>\n",
              "      <td>Alcoa</td>\n",
              "      <td>Metals &amp; Mining</td>\n",
              "      <td>9.25B</td>\n",
              "    </tr>\n",
              "    <tr>\n",
              "      <th>2</th>\n",
              "      <td>AAC</td>\n",
              "      <td>Ares Acquisition</td>\n",
              "      <td>Shell Companies</td>\n",
              "      <td>1.22B</td>\n",
              "    </tr>\n",
              "    <tr>\n",
              "      <th>3</th>\n",
              "      <td>AACG</td>\n",
              "      <td>ATA Creativity Global</td>\n",
              "      <td>Diversified Consumer Services</td>\n",
              "      <td>90.35M</td>\n",
              "    </tr>\n",
              "    <tr>\n",
              "      <th>4</th>\n",
              "      <td>AADI</td>\n",
              "      <td>Aadi Bioscience</td>\n",
              "      <td>Pharmaceuticals</td>\n",
              "      <td>104.85M</td>\n",
              "    </tr>\n",
              "  </tbody>\n",
              "</table>\n",
              "</div>\n",
              "      <button class=\"colab-df-convert\" onclick=\"convertToInteractive('df-bf86dd0d-4b76-48fd-8323-5ff5ea1b5ba1')\"\n",
              "              title=\"Convert this dataframe to an interactive table.\"\n",
              "              style=\"display:none;\">\n",
              "        \n",
              "  <svg xmlns=\"http://www.w3.org/2000/svg\" height=\"24px\"viewBox=\"0 0 24 24\"\n",
              "       width=\"24px\">\n",
              "    <path d=\"M0 0h24v24H0V0z\" fill=\"none\"/>\n",
              "    <path d=\"M18.56 5.44l.94 2.06.94-2.06 2.06-.94-2.06-.94-.94-2.06-.94 2.06-2.06.94zm-11 1L8.5 8.5l.94-2.06 2.06-.94-2.06-.94L8.5 2.5l-.94 2.06-2.06.94zm10 10l.94 2.06.94-2.06 2.06-.94-2.06-.94-.94-2.06-.94 2.06-2.06.94z\"/><path d=\"M17.41 7.96l-1.37-1.37c-.4-.4-.92-.59-1.43-.59-.52 0-1.04.2-1.43.59L10.3 9.45l-7.72 7.72c-.78.78-.78 2.05 0 2.83L4 21.41c.39.39.9.59 1.41.59.51 0 1.02-.2 1.41-.59l7.78-7.78 2.81-2.81c.8-.78.8-2.07 0-2.86zM5.41 20L4 18.59l7.72-7.72 1.47 1.35L5.41 20z\"/>\n",
              "  </svg>\n",
              "      </button>\n",
              "      \n",
              "  <style>\n",
              "    .colab-df-container {\n",
              "      display:flex;\n",
              "      flex-wrap:wrap;\n",
              "      gap: 12px;\n",
              "    }\n",
              "\n",
              "    .colab-df-convert {\n",
              "      background-color: #E8F0FE;\n",
              "      border: none;\n",
              "      border-radius: 50%;\n",
              "      cursor: pointer;\n",
              "      display: none;\n",
              "      fill: #1967D2;\n",
              "      height: 32px;\n",
              "      padding: 0 0 0 0;\n",
              "      width: 32px;\n",
              "    }\n",
              "\n",
              "    .colab-df-convert:hover {\n",
              "      background-color: #E2EBFA;\n",
              "      box-shadow: 0px 1px 2px rgba(60, 64, 67, 0.3), 0px 1px 3px 1px rgba(60, 64, 67, 0.15);\n",
              "      fill: #174EA6;\n",
              "    }\n",
              "\n",
              "    [theme=dark] .colab-df-convert {\n",
              "      background-color: #3B4455;\n",
              "      fill: #D2E3FC;\n",
              "    }\n",
              "\n",
              "    [theme=dark] .colab-df-convert:hover {\n",
              "      background-color: #434B5C;\n",
              "      box-shadow: 0px 1px 3px 1px rgba(0, 0, 0, 0.15);\n",
              "      filter: drop-shadow(0px 1px 2px rgba(0, 0, 0, 0.3));\n",
              "      fill: #FFFFFF;\n",
              "    }\n",
              "  </style>\n",
              "\n",
              "      <script>\n",
              "        const buttonEl =\n",
              "          document.querySelector('#df-bf86dd0d-4b76-48fd-8323-5ff5ea1b5ba1 button.colab-df-convert');\n",
              "        buttonEl.style.display =\n",
              "          google.colab.kernel.accessAllowed ? 'block' : 'none';\n",
              "\n",
              "        async function convertToInteractive(key) {\n",
              "          const element = document.querySelector('#df-bf86dd0d-4b76-48fd-8323-5ff5ea1b5ba1');\n",
              "          const dataTable =\n",
              "            await google.colab.kernel.invokeFunction('convertToInteractive',\n",
              "                                                     [key], {});\n",
              "          if (!dataTable) return;\n",
              "\n",
              "          const docLinkHtml = 'Like what you see? Visit the ' +\n",
              "            '<a target=\"_blank\" href=https://colab.research.google.com/notebooks/data_table.ipynb>data table notebook</a>'\n",
              "            + ' to learn more about interactive tables.';\n",
              "          element.innerHTML = '';\n",
              "          dataTable['output_type'] = 'display_data';\n",
              "          await google.colab.output.renderOutput(dataTable, element);\n",
              "          const docLink = document.createElement('div');\n",
              "          docLink.innerHTML = docLinkHtml;\n",
              "          element.appendChild(docLink);\n",
              "        }\n",
              "      </script>\n",
              "    </div>\n",
              "  </div>\n",
              "  "
            ]
          },
          "metadata": {},
          "execution_count": 3
        }
      ]
    },
    {
      "cell_type": "code",
      "source": [
        "# convert to list\n",
        "symbols = df.Symbol.tolist()\n",
        "companies = df.CompanyName.tolist()\n",
        "\n",
        "print(symbols[:5])\n",
        "print(companies[:5])"
      ],
      "metadata": {
        "colab": {
          "base_uri": "https://localhost:8080/"
        },
        "id": "-nVtLcpyB9H7",
        "outputId": "a3829bf3-dc37-4977-e1b3-7fa7552f8fba"
      },
      "execution_count": 6,
      "outputs": [
        {
          "output_type": "stream",
          "name": "stdout",
          "text": [
            "['A', 'AA', 'AAC', 'AACG', 'AADI']\n",
            "['Agilent Technologies', 'Alcoa', 'Ares Acquisition', 'ATA Creativity Global', 'Aadi Bioscience']\n"
          ]
        }
      ]
    },
    {
      "cell_type": "code",
      "source": [
        "#source: https://www.reuters.com/business/futures-rise-after-biden-xi-call-oil-bounce-2021-09-10/\n",
        "text = '''\n",
        "Sept 10 (Reuters) - Wall Street's main indexes were subdued on Friday as signs of higher inflation and a drop in Apple shares following an unfavorable court ruling offset expectations of an easing in U.S.-China tensions.\n",
        "\n",
        "Data earlier in the day showed U.S. producer prices rose solidly in August, leading to the biggest annual gain in nearly 11 years and indicating that high inflation was likely to persist as the pandemic pressures supply chains. read more .\n",
        "\n",
        "\"Today's data on wholesale prices should be eye-opening for the Federal Reserve, as inflation pressures still don't appear to be easing and will likely continue to be felt by the consumer in the coming months,\" said Charlie Ripley, senior investment strategist for Allianz Investment Management.\n",
        "\n",
        "Apple Inc (AAPL.O) fell 2.7% following a U.S. court ruling in \"Fortnite\" creator Epic Games' antitrust lawsuit that stroke down some of the iPhone maker's restrictions on how developers can collect payments in apps.\n",
        "\n",
        "\n",
        "Sponsored by Advertising Partner\n",
        "Sponsored Video\n",
        "Watch to learn more\n",
        "Report ad\n",
        "Apple shares were set for their worst single-day fall since May this year, weighing on the Nasdaq (.IXIC) and the S&P 500 technology sub-index (.SPLRCT), which fell 0.1%.\n",
        "\n",
        "Sentiment also took a hit from Cleveland Federal Reserve Bank President Loretta Mester's comments that she would still like the central bank to begin tapering asset purchases this year despite the weak August jobs report. read more\n",
        "\n",
        "Investors have paid keen attention to the labor market and data hinting towards higher inflation recently for hints on a timeline for the Federal Reserve to begin tapering its massive bond-buying program.\n",
        "\n",
        "The S&P 500 has risen around 19% so far this year on support from dovish central bank policies and re-opening optimism, but concerns over rising coronavirus infections and accelerating inflation have lately stalled its advance.\n",
        "\n",
        "\n",
        "Report ad\n",
        "The three main U.S. indexes got some support on Friday from news of a phone call between U.S. President Joe Biden and Chinese leader Xi Jinping that was taken as a positive sign which could bring a thaw in ties between the world's two most important trading partners.\n",
        "\n",
        "At 1:01 p.m. ET, the Dow Jones Industrial Average (.DJI) was up 12.24 points, or 0.04%, at 34,891.62, the S&P 500 (.SPX) was up 2.83 points, or 0.06%, at 4,496.11, and the Nasdaq Composite (.IXIC) was up 12.85 points, or 0.08%, at 15,261.11.\n",
        "\n",
        "Six of the eleven S&P 500 sub-indexes gained, with energy (.SPNY), materials (.SPLRCM) and consumer discretionary stocks (.SPLRCD) rising the most.\n",
        "\n",
        "U.S.-listed Chinese e-commerce companies Alibaba and JD.com , music streaming company Tencent Music (TME.N) and electric car maker Nio Inc (NIO.N) all gained between 0.7% and 1.4%\n",
        "\n",
        "\n",
        "Report ad\n",
        "Grocer Kroger Co (KR.N) dropped 7.1% after it said global supply chain disruptions, freight costs, discounts and wastage would hit its profit margins.\n",
        "\n",
        "Advancing issues outnumbered decliners by a 1.12-to-1 ratio on the NYSE and by a 1.02-to-1 ratio on the Nasdaq.\n",
        "\n",
        "The S&P index recorded 14 new 52-week highs and three new lows, while the Nasdaq recorded 49 new highs and 38 new lows.\n",
        "'''"
      ],
      "metadata": {
        "id": "gZJm_3V3CROg"
      },
      "execution_count": 7,
      "outputs": []
    },
    {
      "cell_type": "markdown",
      "source": [
        "## Add Companies"
      ],
      "metadata": {
        "id": "MVY-GqNhENoO"
      }
    },
    {
      "cell_type": "code",
      "source": [
        "nlp = spacy.blank(\"en\")\n",
        "ruler = nlp.add_pipe(\"entity_ruler\")\n",
        "\n",
        "patterns = []\n",
        "#List of Entities and Patterns\n",
        "for company in companies:\n",
        "    patterns.append({\"label\": \"COMPANY\", \"pattern\": company})\n",
        "ruler.add_patterns(patterns)\n",
        "\n",
        "print(len(patterns))"
      ],
      "metadata": {
        "colab": {
          "base_uri": "https://localhost:8080/"
        },
        "id": "pSey7CNiCFeb",
        "outputId": "2bc423dc-f597-4757-ef78-0a87dbcf50f1"
      },
      "execution_count": 13,
      "outputs": [
        {
          "output_type": "stream",
          "name": "stdout",
          "text": [
            "5879\n"
          ]
        }
      ]
    },
    {
      "cell_type": "code",
      "source": [
        "doc = nlp(text)\n",
        "for ent in doc.ents:\n",
        "    print(ent.text, ent.label_)"
      ],
      "metadata": {
        "colab": {
          "base_uri": "https://localhost:8080/"
        },
        "id": "PIV4NrKOCgWe",
        "outputId": "9b257ff7-737e-4f07-b6a0-62c348ed1920"
      },
      "execution_count": 14,
      "outputs": [
        {
          "output_type": "stream",
          "name": "stdout",
          "text": [
            "Apple COMPANY\n",
            "Apple COMPANY\n",
            "Apple COMPANY\n",
            "Nasdaq COMPANY\n",
            "two COMPANY\n",
            "Nasdaq COMPANY\n",
            "JD.com COMPANY\n",
            "Kroger COMPANY\n",
            "Nasdaq COMPANY\n",
            "Nasdaq COMPANY\n"
          ]
        }
      ]
    },
    {
      "cell_type": "markdown",
      "source": [
        "### remove company \"two\""
      ],
      "metadata": {
        "id": "qQpEknB-Dz0B"
      }
    },
    {
      "cell_type": "code",
      "source": [
        "stop_words = ['two']\n",
        "nlp = spacy.blank('en')\n",
        "ruler = nlp.add_pipe(\"entity_ruler\")\n",
        "\n",
        "patterns = []\n",
        "#List of Entities and Patterns\n",
        "for company in companies:\n",
        "    if company not in stop_words:\n",
        "        patterns.append({'label':'COMPANY', 'pattern':company})\n",
        "ruler.add_patterns(patterns)\n",
        "\n",
        "print('# patterns:',len(patterns), '\\n')\n",
        "doc = nlp(text)\n",
        "for ent in doc.ents:\n",
        "    print(ent.text, ent.label_)"
      ],
      "metadata": {
        "colab": {
          "base_uri": "https://localhost:8080/"
        },
        "id": "G0GPpf9tCoIb",
        "outputId": "5c059f0c-dd48-4ac0-c0f9-4ed8d020c789"
      },
      "execution_count": 19,
      "outputs": [
        {
          "output_type": "stream",
          "name": "stdout",
          "text": [
            "# patterns: 5878 \n",
            "\n",
            "Apple COMPANY\n",
            "Apple COMPANY\n",
            "Apple COMPANY\n",
            "Nasdaq COMPANY\n",
            "Nasdaq COMPANY\n",
            "JD.com COMPANY\n",
            "Kroger COMPANY\n",
            "Nasdaq COMPANY\n",
            "Nasdaq COMPANY\n"
          ]
        }
      ]
    },
    {
      "cell_type": "markdown",
      "source": [
        "## Add Sympols"
      ],
      "metadata": {
        "id": "ncHBP7jCEIp5"
      }
    },
    {
      "cell_type": "code",
      "source": [
        "letters = \"ABCDEFGHIJKLMNOPQRSTUVWXYZ\"\n",
        "stop_words = ['two']\n",
        "nlp = spacy.blank('en')\n",
        "ruler = nlp.add_pipe(\"entity_ruler\")\n",
        "\n",
        "patterns = []\n",
        "#List of Entities and Patterns\n",
        "for company in companies:\n",
        "    if company not in stop_words:\n",
        "        patterns.append({'label':'COMPANY', 'pattern':company})\n",
        "\n",
        "for symbol in symbols:\n",
        "    patterns.append({\"label\": \"STOCK\", \"pattern\": symbol})\n",
        "    for l in letters:\n",
        "        patterns.append({\"label\": \"STOCK\", \"pattern\": symbol+f\".{l}\"})\n",
        "\n",
        "ruler.add_patterns(patterns)\n",
        "\n",
        "print('# patterns:',len(patterns), '\\n')\n",
        "doc = nlp(text)\n",
        "for ent in doc.ents:\n",
        "    print(ent.text, ent.label_)"
      ],
      "metadata": {
        "colab": {
          "base_uri": "https://localhost:8080/"
        },
        "id": "lhoW8qImDt2B",
        "outputId": "480584e0-10da-4609-89d7-6862840b3542"
      },
      "execution_count": 23,
      "outputs": [
        {
          "output_type": "stream",
          "name": "stdout",
          "text": [
            "# patterns: 164611 \n",
            "\n",
            "Apple COMPANY\n",
            "Apple COMPANY\n",
            "AAPL.O STOCK\n",
            "Apple COMPANY\n",
            "Nasdaq COMPANY\n",
            "ET STOCK\n",
            "Nasdaq COMPANY\n",
            "JD.com COMPANY\n",
            "TME.N STOCK\n",
            "NIO.N STOCK\n",
            "Kroger COMPANY\n",
            "KR.N STOCK\n",
            "Nasdaq COMPANY\n",
            "Nasdaq COMPANY\n"
          ]
        }
      ]
    },
    {
      "cell_type": "markdown",
      "source": [
        "## Add Stock Indexes"
      ],
      "metadata": {
        "id": "PZfvO-buFCv5"
      }
    },
    {
      "cell_type": "code",
      "source": [
        "df2 = pd.read_csv(\"indexes.tsv\", sep=\"\\t\")\n",
        "df2"
      ],
      "metadata": {
        "colab": {
          "base_uri": "https://localhost:8080/",
          "height": 489
        },
        "id": "DR8V3rm3EaWA",
        "outputId": "5938c279-5125-4164-abe7-b7f5b1defde8"
      },
      "execution_count": 28,
      "outputs": [
        {
          "output_type": "execute_result",
          "data": {
            "text/plain": [
              "                                IndexName IndexSymbol\n",
              "0            Dow Jones Industrial Average        DJIA\n",
              "1        Dow Jones Transportation Average         DJT\n",
              "2         Dow Jones Utility Average Index         DJU\n",
              "3   NASDAQ 100 Index (NASDAQ Calculation)         NDX\n",
              "4                  NASDAQ Composite Index        COMP\n",
              "5                    NYSE Composite Index         NYA\n",
              "6                           S&P 500 Index        SPX \n",
              "7                   S&P 400 Mid Cap Index         MID\n",
              "8                           S&P 100 Index         OEX\n",
              "9                   NASDAQ Computer Index        IXCO\n",
              "10               PHLX Semiconductor Index         SOX\n",
              "11                 PHLX Gold/Silver Index         XAU\n",
              "12                    NYSE Arca Oil Index         XOI\n",
              "13                     Russell 2000 Index         RUT"
            ],
            "text/html": [
              "\n",
              "  <div id=\"df-33c84c8a-9ae5-4921-a7ae-ed0d9996706f\">\n",
              "    <div class=\"colab-df-container\">\n",
              "      <div>\n",
              "<style scoped>\n",
              "    .dataframe tbody tr th:only-of-type {\n",
              "        vertical-align: middle;\n",
              "    }\n",
              "\n",
              "    .dataframe tbody tr th {\n",
              "        vertical-align: top;\n",
              "    }\n",
              "\n",
              "    .dataframe thead th {\n",
              "        text-align: right;\n",
              "    }\n",
              "</style>\n",
              "<table border=\"1\" class=\"dataframe\">\n",
              "  <thead>\n",
              "    <tr style=\"text-align: right;\">\n",
              "      <th></th>\n",
              "      <th>IndexName</th>\n",
              "      <th>IndexSymbol</th>\n",
              "    </tr>\n",
              "  </thead>\n",
              "  <tbody>\n",
              "    <tr>\n",
              "      <th>0</th>\n",
              "      <td>Dow Jones Industrial Average</td>\n",
              "      <td>DJIA</td>\n",
              "    </tr>\n",
              "    <tr>\n",
              "      <th>1</th>\n",
              "      <td>Dow Jones Transportation Average</td>\n",
              "      <td>DJT</td>\n",
              "    </tr>\n",
              "    <tr>\n",
              "      <th>2</th>\n",
              "      <td>Dow Jones Utility Average Index</td>\n",
              "      <td>DJU</td>\n",
              "    </tr>\n",
              "    <tr>\n",
              "      <th>3</th>\n",
              "      <td>NASDAQ 100 Index (NASDAQ Calculation)</td>\n",
              "      <td>NDX</td>\n",
              "    </tr>\n",
              "    <tr>\n",
              "      <th>4</th>\n",
              "      <td>NASDAQ Composite Index</td>\n",
              "      <td>COMP</td>\n",
              "    </tr>\n",
              "    <tr>\n",
              "      <th>5</th>\n",
              "      <td>NYSE Composite Index</td>\n",
              "      <td>NYA</td>\n",
              "    </tr>\n",
              "    <tr>\n",
              "      <th>6</th>\n",
              "      <td>S&amp;P 500 Index</td>\n",
              "      <td>SPX</td>\n",
              "    </tr>\n",
              "    <tr>\n",
              "      <th>7</th>\n",
              "      <td>S&amp;P 400 Mid Cap Index</td>\n",
              "      <td>MID</td>\n",
              "    </tr>\n",
              "    <tr>\n",
              "      <th>8</th>\n",
              "      <td>S&amp;P 100 Index</td>\n",
              "      <td>OEX</td>\n",
              "    </tr>\n",
              "    <tr>\n",
              "      <th>9</th>\n",
              "      <td>NASDAQ Computer Index</td>\n",
              "      <td>IXCO</td>\n",
              "    </tr>\n",
              "    <tr>\n",
              "      <th>10</th>\n",
              "      <td>PHLX Semiconductor Index</td>\n",
              "      <td>SOX</td>\n",
              "    </tr>\n",
              "    <tr>\n",
              "      <th>11</th>\n",
              "      <td>PHLX Gold/Silver Index</td>\n",
              "      <td>XAU</td>\n",
              "    </tr>\n",
              "    <tr>\n",
              "      <th>12</th>\n",
              "      <td>NYSE Arca Oil Index</td>\n",
              "      <td>XOI</td>\n",
              "    </tr>\n",
              "    <tr>\n",
              "      <th>13</th>\n",
              "      <td>Russell 2000 Index</td>\n",
              "      <td>RUT</td>\n",
              "    </tr>\n",
              "  </tbody>\n",
              "</table>\n",
              "</div>\n",
              "      <button class=\"colab-df-convert\" onclick=\"convertToInteractive('df-33c84c8a-9ae5-4921-a7ae-ed0d9996706f')\"\n",
              "              title=\"Convert this dataframe to an interactive table.\"\n",
              "              style=\"display:none;\">\n",
              "        \n",
              "  <svg xmlns=\"http://www.w3.org/2000/svg\" height=\"24px\"viewBox=\"0 0 24 24\"\n",
              "       width=\"24px\">\n",
              "    <path d=\"M0 0h24v24H0V0z\" fill=\"none\"/>\n",
              "    <path d=\"M18.56 5.44l.94 2.06.94-2.06 2.06-.94-2.06-.94-.94-2.06-.94 2.06-2.06.94zm-11 1L8.5 8.5l.94-2.06 2.06-.94-2.06-.94L8.5 2.5l-.94 2.06-2.06.94zm10 10l.94 2.06.94-2.06 2.06-.94-2.06-.94-.94-2.06-.94 2.06-2.06.94z\"/><path d=\"M17.41 7.96l-1.37-1.37c-.4-.4-.92-.59-1.43-.59-.52 0-1.04.2-1.43.59L10.3 9.45l-7.72 7.72c-.78.78-.78 2.05 0 2.83L4 21.41c.39.39.9.59 1.41.59.51 0 1.02-.2 1.41-.59l7.78-7.78 2.81-2.81c.8-.78.8-2.07 0-2.86zM5.41 20L4 18.59l7.72-7.72 1.47 1.35L5.41 20z\"/>\n",
              "  </svg>\n",
              "      </button>\n",
              "      \n",
              "  <style>\n",
              "    .colab-df-container {\n",
              "      display:flex;\n",
              "      flex-wrap:wrap;\n",
              "      gap: 12px;\n",
              "    }\n",
              "\n",
              "    .colab-df-convert {\n",
              "      background-color: #E8F0FE;\n",
              "      border: none;\n",
              "      border-radius: 50%;\n",
              "      cursor: pointer;\n",
              "      display: none;\n",
              "      fill: #1967D2;\n",
              "      height: 32px;\n",
              "      padding: 0 0 0 0;\n",
              "      width: 32px;\n",
              "    }\n",
              "\n",
              "    .colab-df-convert:hover {\n",
              "      background-color: #E2EBFA;\n",
              "      box-shadow: 0px 1px 2px rgba(60, 64, 67, 0.3), 0px 1px 3px 1px rgba(60, 64, 67, 0.15);\n",
              "      fill: #174EA6;\n",
              "    }\n",
              "\n",
              "    [theme=dark] .colab-df-convert {\n",
              "      background-color: #3B4455;\n",
              "      fill: #D2E3FC;\n",
              "    }\n",
              "\n",
              "    [theme=dark] .colab-df-convert:hover {\n",
              "      background-color: #434B5C;\n",
              "      box-shadow: 0px 1px 3px 1px rgba(0, 0, 0, 0.15);\n",
              "      filter: drop-shadow(0px 1px 2px rgba(0, 0, 0, 0.3));\n",
              "      fill: #FFFFFF;\n",
              "    }\n",
              "  </style>\n",
              "\n",
              "      <script>\n",
              "        const buttonEl =\n",
              "          document.querySelector('#df-33c84c8a-9ae5-4921-a7ae-ed0d9996706f button.colab-df-convert');\n",
              "        buttonEl.style.display =\n",
              "          google.colab.kernel.accessAllowed ? 'block' : 'none';\n",
              "\n",
              "        async function convertToInteractive(key) {\n",
              "          const element = document.querySelector('#df-33c84c8a-9ae5-4921-a7ae-ed0d9996706f');\n",
              "          const dataTable =\n",
              "            await google.colab.kernel.invokeFunction('convertToInteractive',\n",
              "                                                     [key], {});\n",
              "          if (!dataTable) return;\n",
              "\n",
              "          const docLinkHtml = 'Like what you see? Visit the ' +\n",
              "            '<a target=\"_blank\" href=https://colab.research.google.com/notebooks/data_table.ipynb>data table notebook</a>'\n",
              "            + ' to learn more about interactive tables.';\n",
              "          element.innerHTML = '';\n",
              "          dataTable['output_type'] = 'display_data';\n",
              "          await google.colab.output.renderOutput(dataTable, element);\n",
              "          const docLink = document.createElement('div');\n",
              "          docLink.innerHTML = docLinkHtml;\n",
              "          element.appendChild(docLink);\n",
              "        }\n",
              "      </script>\n",
              "    </div>\n",
              "  </div>\n",
              "  "
            ]
          },
          "metadata": {},
          "execution_count": 28
        }
      ]
    },
    {
      "cell_type": "code",
      "source": [
        "# convert to list\n",
        "indexes = df2.IndexName.tolist()\n",
        "index_symbols = df2.IndexSymbol.tolist()\n",
        "\n",
        "print(indexes[:3])\n",
        "print(index_symbols[:5])"
      ],
      "metadata": {
        "colab": {
          "base_uri": "https://localhost:8080/"
        },
        "id": "uc1NdOf7FHC-",
        "outputId": "53e50f0f-04f3-439c-a7e8-059f55be5c9b"
      },
      "execution_count": 31,
      "outputs": [
        {
          "output_type": "stream",
          "name": "stdout",
          "text": [
            "['Dow Jones Industrial Average', 'Dow Jones Transportation Average', 'Dow Jones Utility Average Index']\n",
            "['DJIA', 'DJT', 'DJU', 'NDX', 'COMP']\n"
          ]
        }
      ]
    },
    {
      "cell_type": "markdown",
      "source": [
        "### Add Stock Symbol indexes"
      ],
      "metadata": {
        "id": "EAO1KUSZF6k_"
      }
    },
    {
      "cell_type": "code",
      "source": [
        "letters = \"ABCDEFGHIJKLMNOPQRSTUVWXYZ\"\n",
        "stop_words = ['two']\n",
        "nlp = spacy.blank('en')\n",
        "ruler = nlp.add_pipe(\"entity_ruler\")\n",
        "\n",
        "patterns = []\n",
        "#List of Entities and Patterns\n",
        "for company in companies:\n",
        "    if company not in stop_words:\n",
        "        patterns.append({'label':'COMPANY', 'pattern':company})\n",
        "\n",
        "for symbol in symbols:\n",
        "    patterns.append({\"label\": \"STOCK\", \"pattern\": symbol})\n",
        "    for l in letters:\n",
        "        patterns.append({\"label\": \"STOCK\", \"pattern\": symbol+f\".{l}\"})\n",
        "\n",
        "for index in index_symbols:\n",
        "    patterns.append({\"label\": \"INDEX\", \"pattern\": symbol})\n",
        "\n",
        "ruler.add_patterns(patterns)\n",
        "\n",
        "print('# patterns:',len(patterns), '\\n')\n",
        "doc = nlp(text)\n",
        "for ent in doc.ents:\n",
        "    print(ent.text, ent.label_)"
      ],
      "metadata": {
        "colab": {
          "base_uri": "https://localhost:8080/"
        },
        "id": "IBNejugvFiLt",
        "outputId": "4ea39e12-9dea-4be6-cfd3-9a99cfc4168a"
      },
      "execution_count": 32,
      "outputs": [
        {
          "output_type": "stream",
          "name": "stdout",
          "text": [
            "# patterns: 164625 \n",
            "\n",
            "Apple COMPANY\n",
            "Apple COMPANY\n",
            "AAPL.O STOCK\n",
            "Apple COMPANY\n",
            "Nasdaq COMPANY\n",
            "ET STOCK\n",
            "Nasdaq COMPANY\n",
            "JD.com COMPANY\n",
            "TME.N STOCK\n",
            "NIO.N STOCK\n",
            "Kroger COMPANY\n",
            "KR.N STOCK\n",
            "Nasdaq COMPANY\n",
            "Nasdaq COMPANY\n"
          ]
        }
      ]
    },
    {
      "cell_type": "markdown",
      "source": [
        "### Add Stock indexes"
      ],
      "metadata": {
        "id": "AmjYHY49GQ6k"
      }
    },
    {
      "cell_type": "code",
      "source": [
        "letters = \"ABCDEFGHIJKLMNOPQRSTUVWXYZ\"\n",
        "stop_words = ['two']\n",
        "nlp = spacy.blank('en')\n",
        "ruler = nlp.add_pipe(\"entity_ruler\")\n",
        "\n",
        "patterns = []\n",
        "#List of Entities and Patterns\n",
        "for company in companies:\n",
        "    if company not in stop_words:\n",
        "        patterns.append({'label':'COMPANY', 'pattern':company})\n",
        "\n",
        "for symbol in symbols:\n",
        "    patterns.append({\"label\": \"STOCK\", \"pattern\": symbol})\n",
        "    for l in letters:\n",
        "        patterns.append({\"label\": \"STOCK\", \"pattern\": symbol+f\".{l}\"})\n",
        "\n",
        "for index in index_symbols:\n",
        "    patterns.append({\"label\": \"INDEX\", \"pattern\": symbol})\n",
        "\n",
        "for index in indexes:\n",
        "    patterns.append({\"label\": \"INDEX\", \"pattern\": index})\n",
        "\n",
        "ruler.add_patterns(patterns)\n",
        "\n",
        "print('# patterns:',len(patterns), '\\n')\n",
        "doc = nlp(text)\n",
        "for ent in doc.ents:\n",
        "    print(ent.text, ent.label_)"
      ],
      "metadata": {
        "colab": {
          "base_uri": "https://localhost:8080/"
        },
        "id": "wspyP8hjGOKx",
        "outputId": "995cf926-d715-4590-d7ce-3b6b20c5b5cb"
      },
      "execution_count": 33,
      "outputs": [
        {
          "output_type": "stream",
          "name": "stdout",
          "text": [
            "# patterns: 164639 \n",
            "\n",
            "Apple COMPANY\n",
            "Apple COMPANY\n",
            "AAPL.O STOCK\n",
            "Apple COMPANY\n",
            "Nasdaq COMPANY\n",
            "ET STOCK\n",
            "Dow Jones Industrial Average INDEX\n",
            "Nasdaq COMPANY\n",
            "JD.com COMPANY\n",
            "TME.N STOCK\n",
            "NIO.N STOCK\n",
            "Kroger COMPANY\n",
            "KR.N STOCK\n",
            "Nasdaq COMPANY\n",
            "Nasdaq COMPANY\n"
          ]
        }
      ]
    },
    {
      "cell_type": "markdown",
      "source": [
        "#### Add Stock indexes versions"
      ],
      "metadata": {
        "id": "19AUAtg5H6XN"
      }
    },
    {
      "cell_type": "code",
      "source": [
        "letters = \"ABCDEFGHIJKLMNOPQRSTUVWXYZ\"\n",
        "stop_words = ['two']\n",
        "nlp = spacy.blank('en')\n",
        "ruler = nlp.add_pipe(\"entity_ruler\")\n",
        "\n",
        "patterns = []\n",
        "#List of Entities and Patterns\n",
        "for company in companies:\n",
        "    if company not in stop_words:\n",
        "        patterns.append({'label':'COMPANY', 'pattern':company})\n",
        "\n",
        "for symbol in symbols:\n",
        "    patterns.append({\"label\": \"STOCK\", \"pattern\": symbol})\n",
        "    for l in letters:\n",
        "        patterns.append({\"label\": \"STOCK\", \"pattern\": symbol+f\".{l}\"})\n",
        "\n",
        "for index in index_symbols:\n",
        "    patterns.append({\"label\": \"INDEX\", \"pattern\": symbol})\n",
        "\n",
        "for index in indexes:\n",
        "    patterns.append({\"label\": \"INDEX\", \"pattern\": index})\n",
        "    versions = []\n",
        "    words = index.split()\n",
        "    caps = []\n",
        "    for word in words:\n",
        "        word = word.lower().capitalize()\n",
        "        caps.append(word)\n",
        "    versions.append(\" \".join(caps))\n",
        "    versions.append(words[0])\n",
        "    versions.append(caps[0])\n",
        "    versions.append(\" \".join(caps[:2]))\n",
        "    versions.append(\" \".join(words[:2]))\n",
        "    for version in versions:\n",
        "        if version != \"NYSE\":\n",
        "            patterns.append({\"label\": \"INDEX\", \"pattern\": version})\n",
        "\n",
        "ruler.add_patterns(patterns)\n",
        "\n",
        "print('# patterns:',len(patterns), '\\n')\n",
        "doc = nlp(text)\n",
        "for ent in doc.ents:\n",
        "    print(ent.text, ent.label_)"
      ],
      "metadata": {
        "colab": {
          "base_uri": "https://localhost:8080/"
        },
        "id": "5zMcJlQXH93y",
        "outputId": "7cf02548-cd27-42af-997b-df44c79bd850"
      },
      "execution_count": 34,
      "outputs": [
        {
          "output_type": "stream",
          "name": "stdout",
          "text": [
            "# patterns: 164707 \n",
            "\n",
            "Apple COMPANY\n",
            "Apple COMPANY\n",
            "AAPL.O STOCK\n",
            "Apple COMPANY\n",
            "Nasdaq COMPANY\n",
            "S&P 500 INDEX\n",
            "S&P 500 INDEX\n",
            "ET STOCK\n",
            "Dow Jones Industrial Average INDEX\n",
            "S&P 500 INDEX\n",
            "Nasdaq Composite INDEX\n",
            "S&P 500 INDEX\n",
            "JD.com COMPANY\n",
            "TME.N STOCK\n",
            "NIO.N STOCK\n",
            "Kroger COMPANY\n",
            "KR.N STOCK\n",
            "Nasdaq INDEX\n",
            "S&P INDEX\n",
            "Nasdaq INDEX\n"
          ]
        }
      ]
    },
    {
      "cell_type": "markdown",
      "source": [
        "## Descriptions"
      ],
      "metadata": {
        "id": "SY4-p2fZIRn6"
      }
    },
    {
      "cell_type": "code",
      "source": [
        "df3 = pd.read_csv(\"stock_exchanges.tsv\", sep=\"\\t\")\n",
        "df3"
      ],
      "metadata": {
        "colab": {
          "base_uri": "https://localhost:8080/",
          "height": 624
        },
        "id": "r8FBCAkiIFv8",
        "outputId": "46782c35-63b7-4157-da98-8a9bf8f50079"
      },
      "execution_count": 36,
      "outputs": [
        {
          "output_type": "execute_result",
          "data": {
            "text/plain": [
              "    BloombergExchangeCode BloombergCompositeCode    Country  \\\n",
              "0                      AF                     AR  Argentina   \n",
              "1                      AO                     AU  Australia   \n",
              "2                      AT                     AU  Australia   \n",
              "3                      AV                    NaN    Austria   \n",
              "4                      BI                    NaN    Bahrain   \n",
              "..                    ...                    ...        ...   \n",
              "97                     UR                     US        USA   \n",
              "98                     UV                     US        USA   \n",
              "99                     UW                     US        USA   \n",
              "100                    VH                     VN    Vietnam   \n",
              "101                    VM                     VN    Vietnam   \n",
              "\n",
              "                              Description ISOMIC Google Prefix EODcode  \\\n",
              "0       Bolsa de Comercio de Buenos Aires   XBUE           NaN      BA   \n",
              "1    National Stock Exchange of Australia   XNEC           NaN     NaN   \n",
              "2                       Asx - All Markets   XASX           ASX      AU   \n",
              "3                        Wiener Boerse Ag   XWBO           VIE      VI   \n",
              "4                          Bahrain Bourse   XBAH           NaN     NaN   \n",
              "..                                    ...    ...           ...     ...   \n",
              "97                  NASDAQ Capital Market   XNCM        NASDAQ      US   \n",
              "98                            OTC markets   OOTC       OTCMKTS      US   \n",
              "99                   NASDAQ Global Select   XNGS        NASDAQ      US   \n",
              "100                  Hanoi Stock Exchange   HSTC           NaN     NaN   \n",
              "101              Hochiminh Stock Exchange   XSTC           NaN      VN   \n",
              "\n",
              "    NumStocks  \n",
              "0          12  \n",
              "1           1  \n",
              "2         875  \n",
              "3          38  \n",
              "4           4  \n",
              "..        ...  \n",
              "97      2,209  \n",
              "98      2,433  \n",
              "99      1,768  \n",
              "100         4  \n",
              "101        40  \n",
              "\n",
              "[102 rows x 8 columns]"
            ],
            "text/html": [
              "\n",
              "  <div id=\"df-d924cc73-8ec8-4ab2-abc7-92295ac65eb0\">\n",
              "    <div class=\"colab-df-container\">\n",
              "      <div>\n",
              "<style scoped>\n",
              "    .dataframe tbody tr th:only-of-type {\n",
              "        vertical-align: middle;\n",
              "    }\n",
              "\n",
              "    .dataframe tbody tr th {\n",
              "        vertical-align: top;\n",
              "    }\n",
              "\n",
              "    .dataframe thead th {\n",
              "        text-align: right;\n",
              "    }\n",
              "</style>\n",
              "<table border=\"1\" class=\"dataframe\">\n",
              "  <thead>\n",
              "    <tr style=\"text-align: right;\">\n",
              "      <th></th>\n",
              "      <th>BloombergExchangeCode</th>\n",
              "      <th>BloombergCompositeCode</th>\n",
              "      <th>Country</th>\n",
              "      <th>Description</th>\n",
              "      <th>ISOMIC</th>\n",
              "      <th>Google Prefix</th>\n",
              "      <th>EODcode</th>\n",
              "      <th>NumStocks</th>\n",
              "    </tr>\n",
              "  </thead>\n",
              "  <tbody>\n",
              "    <tr>\n",
              "      <th>0</th>\n",
              "      <td>AF</td>\n",
              "      <td>AR</td>\n",
              "      <td>Argentina</td>\n",
              "      <td>Bolsa de Comercio de Buenos Aires</td>\n",
              "      <td>XBUE</td>\n",
              "      <td>NaN</td>\n",
              "      <td>BA</td>\n",
              "      <td>12</td>\n",
              "    </tr>\n",
              "    <tr>\n",
              "      <th>1</th>\n",
              "      <td>AO</td>\n",
              "      <td>AU</td>\n",
              "      <td>Australia</td>\n",
              "      <td>National Stock Exchange of Australia</td>\n",
              "      <td>XNEC</td>\n",
              "      <td>NaN</td>\n",
              "      <td>NaN</td>\n",
              "      <td>1</td>\n",
              "    </tr>\n",
              "    <tr>\n",
              "      <th>2</th>\n",
              "      <td>AT</td>\n",
              "      <td>AU</td>\n",
              "      <td>Australia</td>\n",
              "      <td>Asx - All Markets</td>\n",
              "      <td>XASX</td>\n",
              "      <td>ASX</td>\n",
              "      <td>AU</td>\n",
              "      <td>875</td>\n",
              "    </tr>\n",
              "    <tr>\n",
              "      <th>3</th>\n",
              "      <td>AV</td>\n",
              "      <td>NaN</td>\n",
              "      <td>Austria</td>\n",
              "      <td>Wiener Boerse Ag</td>\n",
              "      <td>XWBO</td>\n",
              "      <td>VIE</td>\n",
              "      <td>VI</td>\n",
              "      <td>38</td>\n",
              "    </tr>\n",
              "    <tr>\n",
              "      <th>4</th>\n",
              "      <td>BI</td>\n",
              "      <td>NaN</td>\n",
              "      <td>Bahrain</td>\n",
              "      <td>Bahrain Bourse</td>\n",
              "      <td>XBAH</td>\n",
              "      <td>NaN</td>\n",
              "      <td>NaN</td>\n",
              "      <td>4</td>\n",
              "    </tr>\n",
              "    <tr>\n",
              "      <th>...</th>\n",
              "      <td>...</td>\n",
              "      <td>...</td>\n",
              "      <td>...</td>\n",
              "      <td>...</td>\n",
              "      <td>...</td>\n",
              "      <td>...</td>\n",
              "      <td>...</td>\n",
              "      <td>...</td>\n",
              "    </tr>\n",
              "    <tr>\n",
              "      <th>97</th>\n",
              "      <td>UR</td>\n",
              "      <td>US</td>\n",
              "      <td>USA</td>\n",
              "      <td>NASDAQ Capital Market</td>\n",
              "      <td>XNCM</td>\n",
              "      <td>NASDAQ</td>\n",
              "      <td>US</td>\n",
              "      <td>2,209</td>\n",
              "    </tr>\n",
              "    <tr>\n",
              "      <th>98</th>\n",
              "      <td>UV</td>\n",
              "      <td>US</td>\n",
              "      <td>USA</td>\n",
              "      <td>OTC markets</td>\n",
              "      <td>OOTC</td>\n",
              "      <td>OTCMKTS</td>\n",
              "      <td>US</td>\n",
              "      <td>2,433</td>\n",
              "    </tr>\n",
              "    <tr>\n",
              "      <th>99</th>\n",
              "      <td>UW</td>\n",
              "      <td>US</td>\n",
              "      <td>USA</td>\n",
              "      <td>NASDAQ Global Select</td>\n",
              "      <td>XNGS</td>\n",
              "      <td>NASDAQ</td>\n",
              "      <td>US</td>\n",
              "      <td>1,768</td>\n",
              "    </tr>\n",
              "    <tr>\n",
              "      <th>100</th>\n",
              "      <td>VH</td>\n",
              "      <td>VN</td>\n",
              "      <td>Vietnam</td>\n",
              "      <td>Hanoi Stock Exchange</td>\n",
              "      <td>HSTC</td>\n",
              "      <td>NaN</td>\n",
              "      <td>NaN</td>\n",
              "      <td>4</td>\n",
              "    </tr>\n",
              "    <tr>\n",
              "      <th>101</th>\n",
              "      <td>VM</td>\n",
              "      <td>VN</td>\n",
              "      <td>Vietnam</td>\n",
              "      <td>Hochiminh Stock Exchange</td>\n",
              "      <td>XSTC</td>\n",
              "      <td>NaN</td>\n",
              "      <td>VN</td>\n",
              "      <td>40</td>\n",
              "    </tr>\n",
              "  </tbody>\n",
              "</table>\n",
              "<p>102 rows × 8 columns</p>\n",
              "</div>\n",
              "      <button class=\"colab-df-convert\" onclick=\"convertToInteractive('df-d924cc73-8ec8-4ab2-abc7-92295ac65eb0')\"\n",
              "              title=\"Convert this dataframe to an interactive table.\"\n",
              "              style=\"display:none;\">\n",
              "        \n",
              "  <svg xmlns=\"http://www.w3.org/2000/svg\" height=\"24px\"viewBox=\"0 0 24 24\"\n",
              "       width=\"24px\">\n",
              "    <path d=\"M0 0h24v24H0V0z\" fill=\"none\"/>\n",
              "    <path d=\"M18.56 5.44l.94 2.06.94-2.06 2.06-.94-2.06-.94-.94-2.06-.94 2.06-2.06.94zm-11 1L8.5 8.5l.94-2.06 2.06-.94-2.06-.94L8.5 2.5l-.94 2.06-2.06.94zm10 10l.94 2.06.94-2.06 2.06-.94-2.06-.94-.94-2.06-.94 2.06-2.06.94z\"/><path d=\"M17.41 7.96l-1.37-1.37c-.4-.4-.92-.59-1.43-.59-.52 0-1.04.2-1.43.59L10.3 9.45l-7.72 7.72c-.78.78-.78 2.05 0 2.83L4 21.41c.39.39.9.59 1.41.59.51 0 1.02-.2 1.41-.59l7.78-7.78 2.81-2.81c.8-.78.8-2.07 0-2.86zM5.41 20L4 18.59l7.72-7.72 1.47 1.35L5.41 20z\"/>\n",
              "  </svg>\n",
              "      </button>\n",
              "      \n",
              "  <style>\n",
              "    .colab-df-container {\n",
              "      display:flex;\n",
              "      flex-wrap:wrap;\n",
              "      gap: 12px;\n",
              "    }\n",
              "\n",
              "    .colab-df-convert {\n",
              "      background-color: #E8F0FE;\n",
              "      border: none;\n",
              "      border-radius: 50%;\n",
              "      cursor: pointer;\n",
              "      display: none;\n",
              "      fill: #1967D2;\n",
              "      height: 32px;\n",
              "      padding: 0 0 0 0;\n",
              "      width: 32px;\n",
              "    }\n",
              "\n",
              "    .colab-df-convert:hover {\n",
              "      background-color: #E2EBFA;\n",
              "      box-shadow: 0px 1px 2px rgba(60, 64, 67, 0.3), 0px 1px 3px 1px rgba(60, 64, 67, 0.15);\n",
              "      fill: #174EA6;\n",
              "    }\n",
              "\n",
              "    [theme=dark] .colab-df-convert {\n",
              "      background-color: #3B4455;\n",
              "      fill: #D2E3FC;\n",
              "    }\n",
              "\n",
              "    [theme=dark] .colab-df-convert:hover {\n",
              "      background-color: #434B5C;\n",
              "      box-shadow: 0px 1px 3px 1px rgba(0, 0, 0, 0.15);\n",
              "      filter: drop-shadow(0px 1px 2px rgba(0, 0, 0, 0.3));\n",
              "      fill: #FFFFFF;\n",
              "    }\n",
              "  </style>\n",
              "\n",
              "      <script>\n",
              "        const buttonEl =\n",
              "          document.querySelector('#df-d924cc73-8ec8-4ab2-abc7-92295ac65eb0 button.colab-df-convert');\n",
              "        buttonEl.style.display =\n",
              "          google.colab.kernel.accessAllowed ? 'block' : 'none';\n",
              "\n",
              "        async function convertToInteractive(key) {\n",
              "          const element = document.querySelector('#df-d924cc73-8ec8-4ab2-abc7-92295ac65eb0');\n",
              "          const dataTable =\n",
              "            await google.colab.kernel.invokeFunction('convertToInteractive',\n",
              "                                                     [key], {});\n",
              "          if (!dataTable) return;\n",
              "\n",
              "          const docLinkHtml = 'Like what you see? Visit the ' +\n",
              "            '<a target=\"_blank\" href=https://colab.research.google.com/notebooks/data_table.ipynb>data table notebook</a>'\n",
              "            + ' to learn more about interactive tables.';\n",
              "          element.innerHTML = '';\n",
              "          dataTable['output_type'] = 'display_data';\n",
              "          await google.colab.output.renderOutput(dataTable, element);\n",
              "          const docLink = document.createElement('div');\n",
              "          docLink.innerHTML = docLinkHtml;\n",
              "          element.appendChild(docLink);\n",
              "        }\n",
              "      </script>\n",
              "    </div>\n",
              "  </div>\n",
              "  "
            ]
          },
          "metadata": {},
          "execution_count": 36
        }
      ]
    },
    {
      "cell_type": "code",
      "source": [
        "# convert to list\n",
        "exchanges = df3.ISOMIC.tolist()+df3[\"Google Prefix\"].tolist()\n",
        "descriptions = df3.Description.tolist()\n",
        "\n",
        "print(exchanges[:5])\n",
        "print(descriptions[:3])"
      ],
      "metadata": {
        "colab": {
          "base_uri": "https://localhost:8080/"
        },
        "id": "iZM3HsyvIVyi",
        "outputId": "41f2abac-4eb5-4097-9a4c-e1f4f3290d8e"
      },
      "execution_count": 38,
      "outputs": [
        {
          "output_type": "stream",
          "name": "stdout",
          "text": [
            "['XBUE', 'XNEC', 'XASX', 'XWBO', 'XBAH']\n",
            "['Bolsa de Comercio de Buenos Aires', 'National Stock Exchange of Australia', 'Asx - All Markets']\n"
          ]
        }
      ]
    },
    {
      "cell_type": "markdown",
      "source": [
        "### Add Stock Exchange"
      ],
      "metadata": {
        "id": "jH40NZmYIstZ"
      }
    },
    {
      "cell_type": "code",
      "source": [
        "letters = \"ABCDEFGHIJKLMNOPQRSTUVWXYZ\"\n",
        "stop_words = ['two']\n",
        "nlp = spacy.blank('en')\n",
        "ruler = nlp.add_pipe(\"entity_ruler\")\n",
        "\n",
        "patterns = []\n",
        "#List of Entities and Patterns\n",
        "for company in companies:\n",
        "    if company not in stop_words:\n",
        "        patterns.append({'label':'COMPANY', 'pattern':company})\n",
        "\n",
        "for symbol in symbols:\n",
        "    patterns.append({\"label\": \"STOCK\", \"pattern\": symbol})\n",
        "    for l in letters:\n",
        "        patterns.append({\"label\": \"STOCK\", \"pattern\": symbol+f\".{l}\"})\n",
        "\n",
        "for index in index_symbols:\n",
        "    patterns.append({\"label\": \"INDEX\", \"pattern\": symbol})\n",
        "\n",
        "for index in indexes:\n",
        "    patterns.append({\"label\": \"INDEX\", \"pattern\": index})\n",
        "    versions = []\n",
        "    words = index.split()\n",
        "    caps = []\n",
        "    for word in words:\n",
        "        word = word.lower().capitalize()\n",
        "        caps.append(word)\n",
        "    versions.append(\" \".join(caps))\n",
        "    versions.append(words[0])\n",
        "    versions.append(caps[0])\n",
        "    versions.append(\" \".join(caps[:2]))\n",
        "    versions.append(\" \".join(words[:2]))\n",
        "    for version in versions:\n",
        "        if version != \"NYSE\":\n",
        "            patterns.append({\"label\": \"INDEX\", \"pattern\": version})\n",
        "\n",
        "for d in descriptions:\n",
        "    patterns.append({\"label\": \"STOCK_EXCHANGE\", \"pattern\": d})\n",
        "for e in exchanges:\n",
        "    patterns.append({\"label\": \"STOCK_EXCHANGE\", \"pattern\": e})\n",
        "\n",
        "ruler.add_patterns(patterns)\n",
        "\n",
        "print('# patterns:',len(patterns), '\\n')\n",
        "doc = nlp(text)\n",
        "for ent in doc.ents:\n",
        "    print(ent.text, ent.label_)"
      ],
      "metadata": {
        "colab": {
          "base_uri": "https://localhost:8080/"
        },
        "id": "-i3iiNpDIvcw",
        "outputId": "6fd68bbb-cffc-4014-a665-273dd2f294d2"
      },
      "execution_count": 40,
      "outputs": [
        {
          "output_type": "stream",
          "name": "stdout",
          "text": [
            "# patterns: 165013 \n",
            "\n",
            "Apple COMPANY\n",
            "Apple COMPANY\n",
            "AAPL.O STOCK\n",
            "Apple COMPANY\n",
            "Nasdaq COMPANY\n",
            "S&P 500 INDEX\n",
            "S&P 500 INDEX\n",
            "ET STOCK\n",
            "Dow Jones Industrial Average INDEX\n",
            "S&P 500 INDEX\n",
            "Nasdaq Composite INDEX\n",
            "S&P 500 INDEX\n",
            "JD.com COMPANY\n",
            "TME.N STOCK\n",
            "NIO.N STOCK\n",
            "Kroger COMPANY\n",
            "KR.N STOCK\n",
            "NYSE STOCK_EXCHANGE\n",
            "Nasdaq INDEX\n",
            "S&P INDEX\n",
            "Nasdaq INDEX\n"
          ]
        }
      ]
    },
    {
      "cell_type": "code",
      "source": [],
      "metadata": {
        "id": "PMHrJnvoI44w"
      },
      "execution_count": null,
      "outputs": []
    },
    {
      "cell_type": "code",
      "source": [
        "#source: https://www.reuters.com/companies/AAPL.O\n",
        "text2 = '''\n",
        "Apple Inc. designs, manufactures and markets smartphones, personal computers, tablets, wearables and accessories, and sells a variety of related services. The Company’s products include iPhone, Mac, iPad, and Wearables, Home and Accessories. iPhone is the Company’s line of smartphones based on its iOS operating system. Mac is the Company’s line of personal computers based on its macOS operating system. iPad is the Company’s line of multi-purpose tablets based on its iPadOS operating system. Wearables, Home and Accessories includes AirPods, Apple TV, Apple Watch, Beats products, HomePod, iPod touch and other Apple-branded and third-party accessories. AirPods are the Company’s wireless headphones that interact with Siri. Apple Watch is the Company’s line of smart watches. Its services include Advertising, AppleCare, Cloud Services, Digital Content and Payment Services. Its customers are primarily in the consumer, small and mid-sized business, education, enterprise and government markets.\n",
        "'''"
      ],
      "metadata": {
        "id": "apUSJ471I-SA"
      },
      "execution_count": 41,
      "outputs": []
    },
    {
      "cell_type": "code",
      "source": [
        "doc2 = nlp(text2)\n",
        "for ent in doc2.ents:\n",
        "    print(ent.text, ent.label_)"
      ],
      "metadata": {
        "colab": {
          "base_uri": "https://localhost:8080/"
        },
        "id": "qXQZLdnTJI43",
        "outputId": "40890ab1-9b2c-4891-ef7e-d4eb16becda3"
      },
      "execution_count": 42,
      "outputs": [
        {
          "output_type": "stream",
          "name": "stdout",
          "text": [
            "Apple COMPANY\n",
            "Apple COMPANY\n",
            "TV STOCK\n",
            "Apple COMPANY\n",
            "Apple COMPANY\n",
            "Apple COMPANY\n"
          ]
        }
      ]
    },
    {
      "cell_type": "code",
      "source": [],
      "metadata": {
        "id": "qEhywExdJQUv"
      },
      "execution_count": null,
      "outputs": []
    }
  ]
}