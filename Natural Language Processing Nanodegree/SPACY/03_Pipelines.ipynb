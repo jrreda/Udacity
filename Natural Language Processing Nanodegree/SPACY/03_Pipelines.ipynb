{
  "nbformat": 4,
  "nbformat_minor": 0,
  "metadata": {
    "colab": {
      "provenance": []
    },
    "kernelspec": {
      "name": "python3",
      "display_name": "Python 3"
    },
    "language_info": {
      "name": "python"
    }
  },
  "cells": [
    {
      "cell_type": "markdown",
      "source": [
        "# spaCy's Pipelines\n",
        "In this notebook, we will be learning about the various pipelines in spaCy. As we have seen, spaCy offers both heuristic (rules-based) and machine learning natural language processing solutions. These solutions are activated by pipes. In this notebook, you will learn about pipes and pipelines generally and the ones offered by spaCy specifically.\n"
      ],
      "metadata": {
        "id": "qvkB6MMlmA-3"
      }
    },
    {
      "cell_type": "code",
      "execution_count": 1,
      "metadata": {
        "colab": {
          "base_uri": "https://localhost:8080/"
        },
        "id": "JNIregd8kR-M",
        "outputId": "5dae61ce-3c28-4c5b-a78f-f1709aa1ae62"
      },
      "outputs": [
        {
          "output_type": "stream",
          "name": "stderr",
          "text": [
            "/usr/local/lib/python3.8/dist-packages/torch/cuda/__init__.py:497: UserWarning: Can't initialize NVML\n",
            "  warnings.warn(\"Can't initialize NVML\")\n"
          ]
        }
      ],
      "source": [
        "import spacy"
      ]
    },
    {
      "cell_type": "markdown",
      "source": [
        "# Standard Pipeline\n",
        "SpaCy is much more than an NLP framework. It is also a way of designing and implementing complex pipelines. A pipeline is a sequence of pipes, or actors on data, that make alterations to the data or extract information from it. In some cases, later pipes require the output from earlier pipes. In other cases, a pipe can exist entirely on its own. An example can be see in the image below."
      ],
      "metadata": {
        "id": "U8n_gAh7mLJC"
      }
    },
    {
      "cell_type": "markdown",
      "source": [
        "![sample_pipeline.png](data:image/png;base64,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)"
      ],
      "metadata": {
        "id": "JJ0XpIYKkdO6"
      }
    },
    {
      "cell_type": "markdown",
      "source": [
        "Here, we see an input, in this case a sentence, enter the pipeline from the left. Two pipes are activated on this, a rules-based named entity recognizer known as an EntityRuler which finds entities and an EntityLinker pipe that identifies what entity that is to perform toponym resolution. The sentence is then outputted with the sentence and the entities annotated. At this point, we could use the doc.ents feature to find the entities in our sentence. In spaCy, you will often use pipelines that are more sophisticated than this. You will specifically use a Tok2Vec input layer to vectorize your input sentence. This will allow machine learning pipes to make predictions.\n",
        "\n",
        "Below is a complete list of the AttributeRuler pipes available to you from spaCy and the Matchers."
      ],
      "metadata": {
        "id": "wt_k4hcGmYSx"
      }
    },
    {
      "cell_type": "markdown",
      "source": [
        "### Attribute Rulers\n",
        "\n",
        "- Dependency Parser\n",
        "- EntityLinker\n",
        "- EntityRecognizer\n",
        "- EntityRuler\n",
        "- Lemmatizer\n",
        "- Morpholog\n",
        "- SentenceRecognizer\n",
        "- Sentencizer\n",
        "- SpanCategorizer\n",
        "- Tagger\n",
        "- TextCategorizer\n",
        "- Tok2Vec\n",
        "- Tokenizer\n",
        "- TrainablePipe\n",
        "- Transformer\n",
        "\n",
        "### Matchers\n",
        "- DependencyMatcher\n",
        "- Matcher\n",
        "- PhraseMatcher"
      ],
      "metadata": {
        "id": "XQAK9nZvkhyW"
      }
    },
    {
      "cell_type": "markdown",
      "source": [
        "# How to Add Pipes\n",
        "\n",
        "In most cases, you will use an off-the-shelf spaCy model. In some cases, however, an off-the-shelf model will not fill your needs or will perform a specific task very slowly. A good example of this is sentence tokenization. Imagine if you had a document that was around 1 million sentences long. Even if you used the small English model, your model would take a long time to process those 1 million sentences and separate them. In this instance, you would want to make a blank English model and simply add the Sentencizer to it. The reason is because each pipe in a pipeline will be activated (unless specified) and that means that each pipe from Dependency Parser to named entity recognition will be performed on your data. This is a serious waste of computational resources and time. The small model may take hours to achieve this task. By creating a blank model and simply adding a Sentencizer to it, you can reduce this time to merely minutes."
      ],
      "metadata": {
        "id": "5cy0EQ8Qmzp9"
      }
    },
    {
      "cell_type": "code",
      "source": [
        "nlp = spacy.blank(\"en\")"
      ],
      "metadata": {
        "id": "6JIF5AClkXNE"
      },
      "execution_count": 2,
      "outputs": []
    },
    {
      "cell_type": "markdown",
      "source": [
        "Here, notice that we have used spacy.blank, rather than spacy.load. When we create a blank model, we simply pass the two letter combination for a language, in this case, en for English. Now, let’s use the add_pipe() command to add a new pipe to it. We will simply add a sentencizer."
      ],
      "metadata": {
        "id": "yHkM_IpHnLtF"
      }
    },
    {
      "cell_type": "code",
      "source": [
        "nlp.add_pipe(\"sentencizer\")"
      ],
      "metadata": {
        "colab": {
          "base_uri": "https://localhost:8080/"
        },
        "id": "R_VA14j9nH2z",
        "outputId": "efcb54e8-c39e-44ef-a4f9-db67911edeaf"
      },
      "execution_count": 3,
      "outputs": [
        {
          "output_type": "execute_result",
          "data": {
            "text/plain": [
              "<spacy.pipeline.sentencizer.Sentencizer at 0x7ff1f1d08340>"
            ]
          },
          "metadata": {},
          "execution_count": 3
        }
      ]
    },
    {
      "cell_type": "code",
      "source": [
        "import requests\n",
        "from bs4 import BeautifulSoup\n",
        "\n",
        "s = requests.get(\"https://ocw.mit.edu/ans7870/6/6.006/s08/lecturenotes/files/t8.shakespeare.txt\")\n",
        "soup = BeautifulSoup(s.content).text.replace(\"-\\n\", \"\").replace(\"\\n\", \" \")\n",
        "nlp.max_length = 5278439"
      ],
      "metadata": {
        "id": "ymp5CoWfnRiF"
      },
      "execution_count": 4,
      "outputs": []
    },
    {
      "cell_type": "code",
      "source": [
        "soup[:100]"
      ],
      "metadata": {
        "colab": {
          "base_uri": "https://localhost:8080/",
          "height": 53
        },
        "id": "Badmoj0Cni-r",
        "outputId": "278b685a-56e0-46cf-f339-757e31348b6e"
      },
      "execution_count": 7,
      "outputs": [
        {
          "output_type": "execute_result",
          "data": {
            "text/plain": [
              "'This is the 100th Etext file presented by Project Gutenberg, and is presented in cooperation with Wo'"
            ],
            "application/vnd.google.colaboratory.intrinsic+json": {
              "type": "string"
            }
          },
          "metadata": {},
          "execution_count": 7
        }
      ]
    },
    {
      "cell_type": "code",
      "source": [
        "%%time\n",
        "doc = nlp(soup)\n",
        "len(list(doc.sents))"
      ],
      "metadata": {
        "colab": {
          "base_uri": "https://localhost:8080/"
        },
        "id": "bM6nHBRvnYXD",
        "outputId": "e893ad80-330a-47d9-ae31-cd46476a3a43"
      },
      "execution_count": 8,
      "outputs": [
        {
          "output_type": "stream",
          "name": "stdout",
          "text": [
            "CPU times: user 12.1 s, sys: 210 ms, total: 12.3 s\n",
            "Wall time: 12.8 s\n"
          ]
        },
        {
          "output_type": "execute_result",
          "data": {
            "text/plain": [
              "94134"
            ]
          },
          "metadata": {},
          "execution_count": 8
        }
      ]
    },
    {
      "cell_type": "markdown",
      "source": [
        "with the `sm`:\n",
        "\n",
        "```python\n",
        "%%time\n",
        "nlp2 = spacy.load(\"en_core_web_sm\")\n",
        "nlp2.max_length = 5278439\n",
        "\n",
        "doc = nlp2(soup)\n",
        "print (len(list(doc.sents)))\n",
        "\n",
        ">> 112074\n",
        ">> Wall time: 49min 15s\n",
        "```\n",
        "\n",
        "The difference in time here is remarkable. Our text string was around 5.2 million characters. The blank model with just the Sentencizer completed its task in 7.54 seconds and found around 94k sentences. The small English model, the most efficient one offered by spaCy, did the same task in 46 minutes and 15 seconds and found around 112k sentences. The small English model, in other words, took approximately 380 times longer."
      ],
      "metadata": {
        "id": "EfVppeghnzqW"
      }
    },
    {
      "cell_type": "markdown",
      "source": [
        "# Examining a Pipeline\n",
        "\n",
        "In spaCy, we have a few different ways to study a pipeline. If we want to do this in a script, we can do the following command:"
      ],
      "metadata": {
        "id": "KSlEOBCGoHq5"
      }
    },
    {
      "cell_type": "code",
      "source": [
        "nlp.analyze_pipes()"
      ],
      "metadata": {
        "colab": {
          "base_uri": "https://localhost:8080/"
        },
        "id": "t6hmrKTcntxT",
        "outputId": "428ffba9-d3a7-4dee-9907-f0a9873fe2bf"
      },
      "execution_count": 9,
      "outputs": [
        {
          "output_type": "execute_result",
          "data": {
            "text/plain": [
              "{'summary': {'sentencizer': {'assigns': ['token.is_sent_start', 'doc.sents'],\n",
              "   'requires': [],\n",
              "   'scores': ['sents_f', 'sents_p', 'sents_r'],\n",
              "   'retokenizes': False}},\n",
              " 'problems': {'sentencizer': []},\n",
              " 'attrs': {'doc.sents': {'assigns': ['sentencizer'], 'requires': []},\n",
              "  'token.is_sent_start': {'assigns': ['sentencizer'], 'requires': []}}}"
            ]
          },
          "metadata": {},
          "execution_count": 9
        }
      ]
    },
    {
      "cell_type": "markdown",
      "source": [
        "Note the dictionary structure. This tells us not only what is inside the pipeline, but its order. Each key after “summary” is a pipe. The value is a dictionary. This dictionary tells us a few different things. All of these value dictionaries state: “assigns” which corresponds to a value of what that particular pipe assigns to the token and doc as it passes through the pipeline. In some cases, there will be a key of “scores” in the dictionary. This indicates how the machine learning model was evaluated. We will learn more about model evaluation in our machine learning section below."
      ],
      "metadata": {
        "id": "u0_7-uNuodBq"
      }
    },
    {
      "cell_type": "code",
      "source": [],
      "metadata": {
        "id": "X8LuJ-pioVOj"
      },
      "execution_count": null,
      "outputs": []
    }
  ]
}