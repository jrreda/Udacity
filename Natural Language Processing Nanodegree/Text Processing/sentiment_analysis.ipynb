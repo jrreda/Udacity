{
  "cells": [
    {
      "cell_type": "markdown",
      "metadata": {
        "id": "UA1TjnOJVWMm"
      },
      "source": [
        "# Sentiment Analysis\n",
        "\n",
        "_Artificial Intelligence Nanodegree Program | Natural Language Processing_\n",
        "\n",
        "---\n",
        "\n",
        "With the rise of online social media platforms like Twitter, Facebook and Reddit, and the proliferation of customer reviews on sites like Amazon and Yelp, we now have access, more than ever before, to massive text-based data sets! They can be analyzed in order to determine how large portions of the population feel about certain products, events, etc. This sort of analysis is called _sentiment analysis_. In this notebook you will build an end-to-end sentiment classification system from scratch.\n",
        "\n",
        "## Instructions\n",
        "\n",
        "Some template code has already been provided for you, and you will need to implement additional functionality to successfully complete this notebook. You will not need to modify the included code beyond what is requested. Sections that begin with '**TODO**' in the header indicate that you need to complete or implement some portion within them. Instructions will be provided for each section and the specifics of the implementation are marked in the code block with a `# TODO: ...` comment. Please be sure to read the instructions carefully!\n",
        "\n",
        "In addition to implementing code, there will be questions for you to answer which relate to the task and your implementation. Each section where you will answer a question is preceded by a '**Question:**' header. Carefully read each question and provide your answer below the '**Answer:**' header by editing the Markdown cell.\n",
        "\n",
        "> **Note**: Code and Markdown cells can be executed using the **Shift+Enter** keyboard shortcut. In addition, a cell can be edited by typically clicking it (double-click for Markdown cells) or by pressing **Enter** while it is highlighted."
      ]
    },
    {
      "cell_type": "markdown",
      "metadata": {
        "id": "95J0v68vVWMq"
      },
      "source": [
        "## Step 1: Exploring the data!\n",
        "\n",
        "The dataset we are going to use is very popular among researchers in Natural Language Processing, usually referred to as the [IMDb dataset](http://ai.stanford.edu/~amaas/data/sentiment/). It consists of movie reviews from the website [imdb.com](http://www.imdb.com/), each labeled as either '**pos**itive', if the reviewer enjoyed the film, or '**neg**ative' otherwise.\n",
        "\n",
        "> Maas, Andrew L., et al. [Learning Word Vectors for Sentiment Analysis](http://ai.stanford.edu/~amaas/data/sentiment/). In _Proceedings of the 49th Annual Meeting of the Association for Computational Linguistics: Human Language Technologies_. Association for Computational Linguistics, 2011.\n",
        "\n",
        "We have provided the dataset for you. You can load it in by executing the Python cell below."
      ]
    },
    {
      "cell_type": "code",
      "execution_count": null,
      "metadata": {
        "id": "fvLPyNzgVWMs",
        "outputId": "e4d78f0e-9439-4a95-ac1d-e0f20c8b5f09"
      },
      "outputs": [
        {
          "name": "stdout",
          "output_type": "stream",
          "text": [
            "IMDb reviews: \n",
            "train = 12500 pos / 12500 neg \n",
            "test = 12500 pos / 12500 neg\n"
          ]
        }
      ],
      "source": [
        "import os\n",
        "import glob\n",
        "\n",
        "def read_imdb_data(data_dir='data/imdb-reviews'):\n",
        "    \"\"\"Read IMDb movie reviews from given directory.\n",
        "    \n",
        "    Directory structure expected:\n",
        "    - data/\n",
        "        - train/\n",
        "            - pos/\n",
        "            - neg/\n",
        "        - test/\n",
        "            - pos/\n",
        "            - neg/\n",
        "    \"\"\"\n",
        "\n",
        "    # Data, labels to be returned in nested dicts matching the dir. structure\n",
        "    data = {}\n",
        "    labels = {}\n",
        "\n",
        "    # Assume 2 sub-directories: train, test\n",
        "    for data_type in ['train', 'test']:\n",
        "        data[data_type] = {}\n",
        "        labels[data_type] = {}\n",
        "\n",
        "        # Assume 2 sub-directories for sentiment (label): pos, neg\n",
        "        for sentiment in ['pos', 'neg']:\n",
        "            data[data_type][sentiment] = []\n",
        "            labels[data_type][sentiment] = []\n",
        "            \n",
        "            # Fetch list of files for this sentiment\n",
        "            path = os.path.join(data_dir, data_type, sentiment, '*.txt')\n",
        "            files = glob.glob(path)\n",
        "            \n",
        "            # Read reviews data and assign labels\n",
        "            for f in files:\n",
        "                with open(f, encoding=\"utf8\") as review:\n",
        "                    data[data_type][sentiment].append(review.read())\n",
        "                    labels[data_type][sentiment].append(sentiment)\n",
        "            \n",
        "            assert len(data[data_type][sentiment]) == len(labels[data_type][sentiment]), \\\n",
        "                    \"{}/{} data size does not match labels size\".format(data_type, sentiment)\n",
        "    \n",
        "    # Return data, labels as nested dicts\n",
        "    return data, labels\n",
        "\n",
        "\n",
        "data, labels = read_imdb_data()\n",
        "print(f\"IMDb reviews: \\ntrain = {len(data['train']['pos'])} pos / {len(data['train']['neg'])} neg \\ntest = {len(data['test']['pos'])} pos / {len(data['test']['neg'])} neg\")"
      ]
    },
    {
      "cell_type": "markdown",
      "metadata": {
        "id": "j_TQQYpgVWMv"
      },
      "source": [
        "Now that the data is loaded in, let's take a quick look at one of the positive reviews:"
      ]
    },
    {
      "cell_type": "code",
      "execution_count": null,
      "metadata": {
        "id": "TGrmA6Y9VWMw",
        "outputId": "16fe131d-ee0f-472d-ad59-9c8216e623e6"
      },
      "outputs": [
        {
          "name": "stdout",
          "output_type": "stream",
          "text": [
            "Brilliant over-acting by Lesley Ann Warren. Best dramatic hobo lady I have ever seen, and love scenes in clothes warehouse are second to none. The corn on face is a classic, as good as anything in Blazing Saddles. The take on lawyers is also superb. After being accused of being a turncoat, selling out his boss, and being dishonest the lawyer of Pepto Bolt shrugs indifferently \"I'm a lawyer\" he says. Three funny words. Jeffrey Tambor, a favorite from the later Larry Sanders show, is fantastic here too as a mad millionaire who wants to crush the ghetto. His character is more malevolent than usual. The hospital scene, and the scene where the homeless invade a demolition site, are all-time classics. Look for the legs scene and the two big diggers fighting (one bleeds). This movie gets better each time I see it (which is quite often).\n"
          ]
        }
      ],
      "source": [
        "print(data['train']['pos'][2])"
      ]
    },
    {
      "cell_type": "markdown",
      "metadata": {
        "id": "krUgq0myVWMx"
      },
      "source": [
        "And one with a negative sentiment:"
      ]
    },
    {
      "cell_type": "code",
      "execution_count": null,
      "metadata": {
        "id": "YcifrlLXVWMy",
        "outputId": "ad31046d-ecf6-4e71-a89c-6c3cc692b54a"
      },
      "outputs": [
        {
          "name": "stdout",
          "output_type": "stream",
          "text": [
            "This film lacked something I couldn't put my finger on at first: charisma on the part of the leading actress. This inevitably translated to lack of chemistry when she shared the screen with her leading man. Even the romantic scenes came across as being merely the actors at play. It could very well have been the director who miscalculated what he needed from the actors. I just don't know.<br /><br />But could it have been the screenplay? Just exactly who was the chef in love with? He seemed more enamored of his culinary skills and restaurant, and ultimately of himself and his youthful exploits, than of anybody or anything else. He never convinced me he was in love with the princess.<br /><br />I was disappointed in this movie. But, don't forget it was nominated for an Oscar, so judge for yourself.\n"
          ]
        }
      ],
      "source": [
        "print(data['train']['neg'][2])"
      ]
    },
    {
      "cell_type": "markdown",
      "metadata": {
        "id": "23KmphbIVWMz"
      },
      "source": [
        "We can also make a wordcloud visualization of the reviews."
      ]
    },
    {
      "cell_type": "code",
      "execution_count": null,
      "metadata": {
        "id": "OmTvOGHaVWMz",
        "outputId": "96e34232-3206-4705-cf90-316c3ab96bca"
      },
      "outputs": [
        {
          "data": {
            "image/png": "[encoded data removed]",
            "text/plain": [
              "<Figure size 432x288 with 1 Axes>"
            ]
          },
          "metadata": {},
          "output_type": "display_data"
        }
      ],
      "source": [
        "import matplotlib.pyplot as plt\n",
        "%matplotlib inline\n",
        "\n",
        "from wordcloud import WordCloud, STOPWORDS\n",
        "\n",
        "sentiment = 'pos'\n",
        "\n",
        "# Combine all reviews for the positive sentiment\n",
        "combined_text = \" \".join([review for review in data['train'][sentiment]])\n",
        "\n",
        "# Initialize wordcloud object\n",
        "wc = WordCloud(background_color='white', max_words=50,\n",
        "        # update stopwords to include common words like film and movie\n",
        "        stopwords = STOPWORDS.update(['br','film','movie']))\n",
        "\n",
        "# Generate and plot wordcloud\n",
        "plt.imshow(wc.generate(combined_text))\n",
        "plt.axis('off')\n",
        "plt.show()"
      ]
    },
    {
      "cell_type": "markdown",
      "metadata": {
        "id": "SRNAOfJVVWM1"
      },
      "source": [
        "Try changing the sentiment to `'neg'` and see if you can spot any obvious differences between the wordclouds."
      ]
    },
    {
      "cell_type": "code",
      "execution_count": null,
      "metadata": {
        "id": "IA6XW6JRVWM2",
        "outputId": "bf81f86d-22f4-4fd1-b9a4-1e8249c42e71"
      },
      "outputs": [
        {
          "data": {
            "image/png": "[encoded data removed]",
            "text/plain": [
              "<Figure size 432x288 with 1 Axes>"
            ]
          },
          "metadata": {},
          "output_type": "display_data"
        }
      ],
      "source": [
        "sentiment = 'neg'\n",
        "\n",
        "# Combine all reviews for the negative sentiment\n",
        "combined_text = \" \".join([review for review in data['train'][sentiment]])\n",
        "\n",
        "# Initialize wordcloud object\n",
        "wc = WordCloud(background_color='white', max_words=50,\n",
        "        # update stopwords to include common words like film and movie\n",
        "        stopwords = STOPWORDS.update(['br','film','movie']))\n",
        "\n",
        "# Generate and plot wordcloud\n",
        "plt.imshow(wc.generate(combined_text))\n",
        "plt.axis('off')\n",
        "plt.show()"
      ]
    },
    {
      "cell_type": "markdown",
      "metadata": {
        "id": "VCYbmqFcVWM3"
      },
      "source": [
        "### TODO: Form training and test sets\n",
        "\n",
        "Now that you've seen what the raw data looks like, combine the positive and negative documents to get one unified training set and one unified test set."
      ]
    },
    {
      "cell_type": "code",
      "execution_count": null,
      "metadata": {
        "id": "_UZZBe_KVWM4",
        "outputId": "e4ffc49e-739f-4f22-888d-77855a773766"
      },
      "outputs": [
        {
          "name": "stdout",
          "output_type": "stream",
          "text": [
            "IMDb reviews (combined): train = 25000, test = 25000\n"
          ]
        }
      ],
      "source": [
        "from sklearn.utils import shuffle\n",
        "\n",
        "def prepare_imdb_data(data):\n",
        "    \"\"\"Prepare training and test sets from IMDb movie reviews.\"\"\"\n",
        "    \n",
        "    # TODO: Combine positive and negative reviews and labels\n",
        "    data_train = data['train']['pos'] + data['train']['neg']\n",
        "    labels_train = labels['train']['pos'] + labels['train']['neg']\n",
        "    \n",
        "    data_test = data['test']['pos'] + data['test']['neg']\n",
        "    labels_test = labels['test']['pos'] + labels['test']['neg']\n",
        "    \n",
        "    # TODO: Shuffle reviews and corresponding labels within training and test sets\n",
        "    data_train, labels_train = shuffle(data_train, labels_train)\n",
        "    data_test, labels_test = shuffle(data_test, labels_test)\n",
        "    \n",
        "    # Return a unified training data, test data, training labels, test labets\n",
        "    return data_train, data_test, labels_train, labels_test\n",
        "\n",
        "\n",
        "data_train, data_test, labels_train, labels_test = prepare_imdb_data(data)\n",
        "print(f\"IMDb reviews (combined): train = {len(data_train)}, test = {len(data_test)}\")"
      ]
    },
    {
      "cell_type": "markdown",
      "metadata": {
        "id": "u_2ziC2uVWM5"
      },
      "source": [
        "## Step 2. Preprocessing\n",
        "\n",
        "As you might have noticed in the sample reviews, our raw data includes HTML. Therefore there are HTML tags that need to be removed. We also need to remove non-letter characters, normalize uppercase letters by converting them to lowercase, tokenize, remove stop words, and stem the remaining words in each document.\n",
        "\n",
        "### TODO: Convert each review to words\n",
        "\n",
        "As your next task, you should complete the function `review_to_words()` that performs all these steps. For your convenience, in the Python cell below we provide you with all the libraries that you may need in order to accomplish these preprocessing steps. Make sure you can import all of them! (If not, pip install from a terminal and run/import again.)"
      ]
    },
    {
      "cell_type": "code",
      "execution_count": null,
      "metadata": {
        "id": "drKp8ITSVWM5",
        "outputId": "dd728303-1ed4-428f-ea6c-cf11ed1c213b"
      },
      "outputs": [
        {
          "name": "stderr",
          "output_type": "stream",
          "text": [
            "[nltk_data] Downloading package stopwords to\n",
            "[nltk_data]     C:\\Users\\mahmo\\AppData\\Roaming\\nltk_data...\n",
            "[nltk_data]   Package stopwords is already up-to-date!\n"
          ]
        }
      ],
      "source": [
        "# BeautifulSoup to easily remove HTML tags\n",
        "from bs4 import BeautifulSoup \n",
        "\n",
        "# RegEx for removing non-letter characters\n",
        "import re\n",
        "\n",
        "# NLTK library for the remaining steps\n",
        "import nltk\n",
        "nltk.download(\"stopwords\")   # download list of stopwords (only once; need not run it again)\n",
        "from nltk.corpus import stopwords # import stopwords\n",
        "\n",
        "from nltk.stem.porter import *\n",
        "stemmer = PorterStemmer()"
      ]
    },
    {
      "cell_type": "code",
      "execution_count": null,
      "metadata": {
        "id": "QKCSJExqVWM6",
        "outputId": "f2767e9f-a454-4639-d0bb-b6e77b29f366"
      },
      "outputs": [
        {
          "data": {
            "text/plain": [
              "['test', 'test', 'would', 'make', 'great', 'movi', 'review']"
            ]
          },
          "execution_count": 8,
          "metadata": {},
          "output_type": "execute_result"
        }
      ],
      "source": [
        "def review_to_words(review):\n",
        "    \"\"\"Convert a raw review string into a sequence of words.\"\"\"\n",
        "    \n",
        "    # TODO: Remove HTML tags and non-letters,\n",
        "    #       convert to lowercase, tokenize,\n",
        "    #       remove stopwords and stem\n",
        "    \n",
        "    # remove html & convert to lowercase\n",
        "    non_html = BeautifulSoup(review).text.strip().lower()\n",
        "    # remove non-letters\n",
        "    non_punc = re.sub(r\"[^a-zA-Z0-9]\", \" \", non_html)\n",
        "    # tokenize\n",
        "    tokenized_words = nltk.word_tokenize(non_punc)\n",
        "    # remove stopwords\n",
        "    words = [word for word in tokenized_words if word not in stopwords.words('english')]\n",
        "    # stem words\n",
        "    stemmed_words = [stemmer.stem(word) for word in words]\n",
        "    # Return final list of words\n",
        "    return stemmed_words\n",
        "\n",
        "\n",
        "review_to_words(\"\"\"This is just a <em>test</em>.<br/><br />\n",
        "But if it wasn't a test, it would make for a <b>Great</b> movie review!\"\"\")"
      ]
    },
    {
      "cell_type": "markdown",
      "metadata": {
        "id": "7uaJ61ktVWM6"
      },
      "source": [
        "With the function `review_to_words()` fully implemeneted, we can apply it to all reviews in both training and test datasets. This may take a while, so let's build in a mechanism to write to a cache file and retrieve from it later."
      ]
    },
    {
      "cell_type": "code",
      "execution_count": null,
      "metadata": {
        "id": "NQm4yyAbVWM8",
        "outputId": "94ea06cd-3d1c-4e56-887c-b4cff156e50d"
      },
      "outputs": [
        {
          "name": "stdout",
          "output_type": "stream",
          "text": [
            "Read preprocessed data from cache file: preprocessed_data.pkl\n",
            "\n",
            "--- Raw review ---\n",
            "One of b- and c-movie producer Roger Corman's greatest cult classics was the Ramones vehicle (originally designated for Cheap Trick), Rock N' Roll High School. It's just a simple, technically dated story (but would serve up extra doses of nostalgia humor considering these were the kind of things that made Napoleon Dynamite characters funny--see Eaglebauer's van) about teenagers who love rock n' roll.<br /><br />Students at Vince Lombardi High School are met with resistance by the evil principal, Miss Evelyn Togar (played by cult classic favorite, Mary Woronov) who fears that Rock N' Roll turns kids into uncontrollable, amoral deviants and vows to make a Rock N' Roll-free zone. Actually, she intends to wipe out Rock N' Roll for all students, regardless of whether its at school, and she has the cooperation of most of the adults who might make the plan successful.<br /><br />But not if Riff Randell (PJ Soles) can help it. A Ramones fanatic, she has written some songs (including Rock N' Roll High School) that she wants to give to the Ramones, and in trying to do so, is rebuffed by Miss Togar who does all she can to keep her from going to see the Ramones play in town. It culminates into an ultimate revolt between the obsolete fun-hating adults and the teenagers (in an ending that is reminiscent of Over the Edge, somewhat). After the years of punk, when the fame of garage rockers, The Ramones (and others) would mark another shift in music evolution, it was great to see a movie that celebrated the fun of it all and in such a humorous, exaggerated way.<br /><br />It is mostly mild comedy, but a great feel-good comedy nonetheless when you're in the mood for something more laid back to entertain you. With Jerry Zucker (of Airplane fame) and Joe Dante (of Gremlins fame) both taking part in some of the directing, you can get the idea for what kind of humor you're in for (and not to mention, expect to see Dick Miller even if only for a few minutes in the film's finale). The story must've later inspired (and was consequently updated) by the mid-90s comedy, Detroit Rock City, which some minor character changes in the vehicle for aged glam rockers, Kizz.<br /><br />I would recommend passing on the Corey Feldman vehicle, Rock N' Roll High School Forever, released nearly a decade later. The original is still the best.\n",
            "\n",
            "--- Preprocessed words ---\n",
            "['recent', 'watch', '54', 'version', 'film', 'judi', 'appreci', 'stori', 'music', 'found', 'film', 'fail', 'hold', 'attent', 'expect', '76', 'remak', 'stori', 'except', 'barbra', 'twist', 'pleasantli', 'surpris', 'much', 'realist', 'modern', 'look', 'fame', 'money', 'love', 'price', 'version', 'much', 'real', '54', 'one', 'arguabl', 'better', 'music', 'better', 'act', 'grip', 'plot', 'line', 'cours', 'deeper', 'love', 'understand', 'previou', 'film', 'american', 'film', 'institut', 'top', '100', 'list', 'grip', 'remak', 'fail', 'make', 'mark', 'critic', 'list']\n",
            "\n",
            "--- Label ---\n",
            "pos\n"
          ]
        }
      ],
      "source": [
        "import pickle\n",
        "\n",
        "cache_dir = os.path.join(\"cache\", \"sentiment_analysis\")  # where to store cache files\n",
        "os.makedirs(cache_dir, exist_ok=True)  # ensure cache directory exists\n",
        "\n",
        "def preprocess_data(data_train, data_test, labels_train, labels_test,\n",
        "                    cache_dir=cache_dir, cache_file=\"preprocessed_data.pkl\"):\n",
        "    \"\"\"Convert each review to words; read from cache if available.\"\"\"\n",
        "\n",
        "    # If cache_file is not None, try to read from it first\n",
        "    cache_data = None\n",
        "    if cache_file is not None:\n",
        "        try:\n",
        "            with open(os.path.join(cache_dir, cache_file), \"rb\") as f:\n",
        "                cache_data = pickle.load(f)\n",
        "            print(\"Read preprocessed data from cache file:\", cache_file)\n",
        "        except:\n",
        "            pass  # unable to read from cache, but that's okay\n",
        "    \n",
        "    # If cache is missing, then do the heavy lifting\n",
        "    if cache_data is None:\n",
        "        # Preprocess training and test data to obtain words for each review\n",
        "        words_train = list(map(review_to_words, data_train))\n",
        "        words_test = list(map(review_to_words, data_test))\n",
        "        \n",
        "        # Write to cache file for future runs\n",
        "        if cache_file is not None:\n",
        "            cache_data = dict(words_train=words_train, words_test=words_test,\n",
        "                              labels_train=labels_train, labels_test=labels_test)\n",
        "            with open(os.path.join(cache_dir, cache_file), \"wb\") as f:\n",
        "                pickle.dump(cache_data, f)\n",
        "            print(\"Wrote preprocessed data to cache file:\", cache_file)\n",
        "    else:\n",
        "        # Unpack data loaded from cache file\n",
        "        words_train, words_test, labels_train, labels_test = (cache_data['words_train'],\n",
        "                cache_data['words_test'], cache_data['labels_train'], cache_data['labels_test'])\n",
        "    \n",
        "    return words_train, words_test, labels_train, labels_test\n",
        "\n",
        "\n",
        "# Preprocess data\n",
        "words_train, words_test, labels_train, labels_test = preprocess_data(\n",
        "        data_train, data_test, labels_train, labels_test)\n",
        "\n",
        "# Take a look at a sample\n",
        "print(\"\\n--- Raw review ---\")\n",
        "print(data_train[1])\n",
        "print(\"\\n--- Preprocessed words ---\")\n",
        "print(words_train[1])\n",
        "print(\"\\n--- Label ---\")\n",
        "print(labels_train[1])"
      ]
    },
    {
      "cell_type": "markdown",
      "metadata": {
        "id": "eLaD3D4KVWM9"
      },
      "source": [
        "## Step 3: Extracting Bag-of-Words features\n",
        "\n",
        "Now that each document has been preprocessed, we can transform each into a Bag-of-Words feature representation. Note that we need to create this transformation based on the training data alone, as we are not allowed to peek at the testing data at all!\n",
        "\n",
        "The dictionary or _vocabulary_ $V$ (set of words shared by documents in the training set) used here will be the one on which we train our supervised learning algorithm. Any future test data must be transformed in the same way for us to be able to apply the learned model for prediction. Hence, it is important to store the transformation / vocabulary as well.\n",
        "\n",
        "> **Note**: The set of words in the training set may not be exactly the same as the test set. What do you do if you encounter a word during testing that you haven't seen before? Unfortunately, we'll have to ignore it, or replace it with a special `<UNK>` token.\n",
        "\n",
        "### TODO: Compute Bag-of-Words features\n",
        "\n",
        "Implement the `extract_BoW_features()` function, apply it to both training and test datasets, and store the results in `features_train` and `features_test` NumPy arrays, respectively. Choose a reasonable vocabulary size, say $|V| = 5000$, and keep only the top $|V|$ occuring words and discard the rest. This number will also serve as the number of columns in the BoW matrices.\n",
        "\n",
        "> **Hint**: You may find it useful to take advantage of `CountVectorizer` from scikit-learn. Also make sure to pickle your Bag-of-Words transformation so that you can use it in future."
      ]
    },
    {
      "cell_type": "code",
      "execution_count": null,
      "metadata": {
        "id": "OLO7sgfQVWM9",
        "outputId": "cb787c58-b1f3-43ab-adb4-aec372c92d36"
      },
      "outputs": [
        {
          "name": "stdout",
          "output_type": "stream",
          "text": [
            "Read features from cache file: bow_features.pkl\n",
            "Vocabulary: 5000 words\n",
            "Sample words: ['capabl', 'inan', 'rapid', 'dame', 'pipe', 'eve', 'sister', 'shortcom']\n",
            "\n",
            "--- Preprocessed words ---\n",
            "['fan', 'andi', 'goldsworthi', 'art', 'own', 'book', 'expect', 'would', 'see', 'got', 'someth', 'complet', 'satisfi', 'quit', 'bit', 'expect', 'artist', 'work', 'clay', 'find', 'inspir', 'within', 'surround', 'make', 'good', 'art', 'imper', 'someth', 'andi', 'goldsworthi', 'master', 'follow', 'cours', 'year', 'director', 'captur', 'spontan', 'energi', 'skill', 'devot', 'artist', 'connect', 'natur', 'dratic', 'inspir', 'flair', 'music', 'set', 'film', 'embrac', 'intox', 'artist', 'need', 'inspir', 'anyon', 'els', 'need', 'uplift', 'experi', 'see', 'movi', 'one', 'glad', 'know', 'andi', 'somewher', 'creat', 'danc', 'wrestl', 'forc', 'natur', 'make', 'world', 'beauti']\n",
            "\n",
            "--- Bag-of-Words features ---\n",
            "[0 0 0 ... 0 0 0]\n",
            "\n",
            "--- Label ---\n",
            "pos\n"
          ]
        }
      ],
      "source": [
        "import numpy as np\n",
        "from sklearn.feature_extraction.text import CountVectorizer\n",
        "import joblib # from sklearn.externals import joblib\n",
        "# joblib is an enhanced version of pickle that is more efficient for storing NumPy arrays\n",
        "\n",
        "def extract_BoW_features(words_train, words_test, vocabulary_size=5000,\n",
        "                         cache_dir=cache_dir, cache_file=\"bow_features.pkl\"):\n",
        "    \"\"\"Extract Bag-of-Words for a given set of documents, already preprocessed into words.\"\"\"\n",
        "    \n",
        "    # If cache_file is not None, try to read from it first\n",
        "    cache_data = None\n",
        "    if cache_file is not None:\n",
        "        try:\n",
        "            with open(os.path.join(cache_dir, cache_file), \"rb\") as f:\n",
        "                cache_data = joblib.load(f)\n",
        "            print(\"Read features from cache file:\", cache_file)\n",
        "        except:\n",
        "            pass  # unable to read from cache, but that's okay\n",
        "    \n",
        "    # If cache is missing, then do the heavy lifting\n",
        "    if cache_data is None:\n",
        "        # TODO: Fit a vectorizer to training documents and use it to transform them\n",
        "        # NOTE: Training documents have already been preprocessed and tokenized into words;\n",
        "        #       pass in dummy functions to skip those steps, e.g. preprocessor=lambda x: x\n",
        "        # NOTE: Remember to convert the features using .toarray() for a compact representation\n",
        "        vectorizer = CountVectorizer(preprocessor=lambda x:x, tokenizer=lambda x:x,\n",
        "                                     lowercase=False, max_features=vocabulary_size)\n",
        "        features_train = vectorizer.fit_transform(words_test).toarray()\n",
        "\n",
        "        # TODO: Apply the same vectorizer to transform the test documents (ignore unknown words)\n",
        "        features_test = vectorizer.transform(words_train).toarray()\n",
        "                \n",
        "        # Write to cache file for future runs (store vocabulary as well)\n",
        "        if cache_file is not None:\n",
        "            vocabulary = vectorizer.vocabulary_\n",
        "            cache_data = dict(features_train=features_train, features_test=features_test,\n",
        "                             vocabulary=vocabulary)\n",
        "            with open(os.path.join(cache_dir, cache_file), \"wb\") as f:\n",
        "                joblib.dump(cache_data, f)\n",
        "            print(\"Wrote features to cache file:\", cache_file)\n",
        "    else:\n",
        "        # Unpack data loaded from cache file\n",
        "        features_train, features_test, vocabulary = (cache_data['features_train'],\n",
        "                cache_data['features_test'], cache_data['vocabulary'])\n",
        "    \n",
        "    # Return both the extracted features as well as the vocabulary\n",
        "    return features_train, features_test, vocabulary\n",
        "\n",
        "\n",
        "# Extract Bag of Words features for both training and test datasets\n",
        "features_train, features_test, vocabulary = extract_BoW_features(words_train, words_test)\n",
        "\n",
        "# Inspect the vocabulary that was computed\n",
        "print(f\"Vocabulary: {len(vocabulary)} words\")\n",
        "\n",
        "import random\n",
        "print(f\"Sample words: {random.sample(list(vocabulary.keys()), 8)}\")\n",
        "\n",
        "# Sample\n",
        "print(\"\\n--- Preprocessed words ---\")\n",
        "print(words_train[5])\n",
        "print(\"\\n--- Bag-of-Words features ---\")\n",
        "print(features_train[5])\n",
        "print(\"\\n--- Label ---\")\n",
        "print(labels_train[5])"
      ]
    },
    {
      "cell_type": "markdown",
      "metadata": {
        "id": "2s4zo5l1VWM9"
      },
      "source": [
        "Let's try to visualize the Bag-of-Words feature vector for one of our training documents."
      ]
    },
    {
      "cell_type": "code",
      "execution_count": null,
      "metadata": {
        "id": "TsCqqhrEVWM9",
        "outputId": "d202e639-08a1-443e-8cc8-d95361ffff8e"
      },
      "outputs": [
        {
          "data": {
            "image/png": "[encoded data removed]",
            "text/plain": [
              "<Figure size 432x288 with 1 Axes>"
            ]
          },
          "metadata": {},
          "output_type": "display_data"
        }
      ],
      "source": [
        "# Plot the BoW feature vector for a training document\n",
        "plt.plot(features_train[5,:])\n",
        "plt.xlabel('Word')\n",
        "plt.ylabel('Count')\n",
        "plt.show()"
      ]
    },
    {
      "cell_type": "code",
      "execution_count": null,
      "metadata": {
        "id": "eJxZ2_LAVWM_",
        "outputId": "7ca887c5-1af2-47fb-cf84-310a1c1ff7b8"
      },
      "outputs": [
        {
          "data": {
            "text/plain": [
              "0.978852688"
            ]
          },
          "execution_count": 12,
          "metadata": {},
          "output_type": "execute_result"
        }
      ],
      "source": [
        "1 - np.average(features_train)"
      ]
    },
    {
      "cell_type": "markdown",
      "metadata": {
        "id": "wCYI7UNxVWNA"
      },
      "source": [
        "#### Question: Reflecting on Bag-of-Words feature representation\n",
        "\n",
        "What is the average sparsity level of BoW vectors in our training set? In other words, on average what percentage of entries in a BoW feature vector are zero?\n",
        "\n",
        "#### Answer:\n",
        "\n",
        "98 %\n",
        "\n",
        "### Zipf's law\n",
        "\n",
        "[Zipf's law](https://en.wikipedia.org/wiki/Zipf%27s_law), named after the famous American linguist George Zipf, is an empirical law stating that given a large collection of documents, the frequency of any word is inversely proportional to its rank in the frequency table. So the most frequent word will occur about twice as often as the second most frequent word, three times as often as the third most frequent word, and so on. In the figure below we plot number of appearances of each word in our training set against its rank."
      ]
    },
    {
      "cell_type": "code",
      "execution_count": null,
      "metadata": {
        "id": "EMyRxMigVWNA",
        "outputId": "f6725e12-838a-453b-c703-5b4e3a0b3fe6"
      },
      "outputs": [
        {
          "data": {
            "image/png": "[encoded data removed]",
            "text/plain": [
              "<Figure size 432x288 with 1 Axes>"
            ]
          },
          "metadata": {},
          "output_type": "display_data"
        }
      ],
      "source": [
        "# Find number of occurrences for each word in the training set\n",
        "word_freq = features_train.sum(axis=0)\n",
        "\n",
        "# Sort it in descending order\n",
        "sorted_word_freq = np.sort(word_freq)[::-1]\n",
        "\n",
        "# Plot \n",
        "plt.plot(sorted_word_freq)\n",
        "plt.gca().set_xscale('log')\n",
        "plt.gca().set_yscale('log')\n",
        "plt.xlabel('Rank')\n",
        "plt.ylabel('Number of occurrences')\n",
        "plt.show()"
      ]
    },
    {
      "cell_type": "code",
      "execution_count": null,
      "metadata": {
        "id": "5YN-EE2jVWNB",
        "outputId": "7bb1d675-2f88-49c5-cf14-30c309965630"
      },
      "outputs": [
        {
          "data": {
            "text/plain": [
              "(51545, 47661, 27693, 22398)"
            ]
          },
          "execution_count": 14,
          "metadata": {},
          "output_type": "execute_result"
        }
      ],
      "source": [
        "sorted_word_freq[0], sorted_word_freq[1], sorted_word_freq[2], sorted_word_freq[3]"
      ]
    },
    {
      "cell_type": "markdown",
      "metadata": {
        "id": "5ch8B6s4VWNB"
      },
      "source": [
        "#### Question: Zipf's law\n",
        "\n",
        "What is the total number of occurrences of the most frequent word? What is the the total number of occurrences of the second most frequent word? Do your numbers follow  Zipf's law? If not, why?\n",
        "\n",
        "#### Answer:\n",
        "\n",
        "51545, 47661, No, Because the most frequent word didn't occur about twice as often as the second most frequent word.\n",
        "\n",
        "### TODO: Normalize feature vectors\n",
        "\n",
        "Bag-of-Words features are intuitive to understand as they are simply word counts. But counts can vary a lot, and potentially throw off learning algorithms later in the pipeline. So, before we proceed further, let's normalize the BoW feature vectors to have unit length.\n",
        "\n",
        "This makes sure that each document's representation retains the unique mixture of feature components, but prevents documents with large word counts from dominating those with fewer words."
      ]
    },
    {
      "cell_type": "code",
      "execution_count": null,
      "metadata": {
        "id": "WtUlxI_QVWNB"
      },
      "outputs": [],
      "source": [
        "import sklearn.preprocessing as pr\n",
        "\n",
        "# TODO: Normalize BoW features in training and test set\n",
        "normalizer = pr.Normalizer(norm='l2')\n",
        "\n",
        "features_train = normalizer.fit_transform(features_train)\n",
        "features_test = normalizer.transform(features_test)"
      ]
    },
    {
      "cell_type": "markdown",
      "metadata": {
        "id": "cYzsxsxrVWNC"
      },
      "source": [
        "## Step 4: Classification using BoW features\n",
        "\n",
        "Now that the data has all been properly transformed, we can feed it into a classifier. To get a baseline model, we train a Naive Bayes classifier from scikit-learn (specifically, [`GaussianNB`](http://scikit-learn.org/stable/modules/generated/sklearn.naive_bayes.GaussianNB.html)), and evaluate its accuracy on the test set."
      ]
    },
    {
      "cell_type": "code",
      "execution_count": null,
      "metadata": {
        "id": "637UkH6CVWNC",
        "outputId": "e90ea61a-6585-42de-91f2-2422d41d6808"
      },
      "outputs": [
        {
          "name": "stdout",
          "output_type": "stream",
          "text": [
            "[GaussianNB] Accuracy: train = 0.6342, test = 0.4936\n"
          ]
        }
      ],
      "source": [
        "from sklearn.naive_bayes import GaussianNB\n",
        "\n",
        "# TODO: Train a Guassian Naive Bayes classifier\n",
        "clf1 = GaussianNB().fit(features_train, labels_train)\n",
        "\n",
        "# Calculate the mean accuracy score on training and test sets\n",
        "print(f\"[{clf1.__class__.__name__}] Accuracy: train = {clf1.score(features_train, labels_train)}, test = {clf1.score(features_test, labels_test)}\")"
      ]
    },
    {
      "cell_type": "markdown",
      "metadata": {
        "id": "VqkWtPfXVWNC"
      },
      "source": [
        "Tree-based algorithms often work quite well on Bag-of-Words as their highly discontinuous and sparse nature is nicely matched by the structure of trees. As your next task, you will try to improve on the Naive Bayes classifier's performance by using scikit-learn's Gradient-Boosted Decision Tree classifer.\n",
        "\n",
        "### TODO: Gradient-Boosted Decision Tree classifier\n",
        "\n",
        "Use [`GradientBoostingClassifier`](http://scikit-learn.org/stable/modules/generated/sklearn.ensemble.GradientBoostingClassifier.html) from scikit-learn to classify the BoW data. This model has a number of parameters. We use default parameters for some of them and pre-set the rest for you, except one: `n_estimators`. Find a proper value for this hyperparameter, use it to classify the data, and report how much improvement you get over Naive Bayes in terms of accuracy.\n",
        "\n",
        "> **Tip**: Use a model selection technique such as cross-validation, grid-search, or an information criterion method, to find an optimal value for the hyperparameter."
      ]
    },
    {
      "cell_type": "code",
      "execution_count": null,
      "metadata": {
        "id": "WXsDU5bqVWND",
        "outputId": "43923ccf-6b2f-41ee-b1bc-7225e09715ca"
      },
      "outputs": [
        {
          "name": "stdout",
          "output_type": "stream",
          "text": [
            "[GradientBoostingClassifier] Accuracy: train = 0.61832, test = 0.4956\n"
          ]
        }
      ],
      "source": [
        "from sklearn.ensemble import GradientBoostingClassifier\n",
        "\n",
        "clf2 = GradientBoostingClassifier(n_estimators=500, learning_rate=0.1, max_depth=1, random_state=10)\n",
        "clf2.fit(features_train, labels_train)\n",
        "print(f\"[{clf2.__class__.__name__}] Accuracy: train = {clf2.score(features_train, labels_train)}, test = {clf2.score(features_test, labels_test)}\")"
      ]
    },
    {
      "cell_type": "markdown",
      "metadata": {
        "id": "cQJV01b5VWND"
      },
      "source": [
        "### TODO: Adverserial testing\n",
        "\n",
        "Write a short movie review to trick your machine learning model! That is, a movie review with a clear positive or negative sentiment that your model will classify incorrectly.\n",
        "\n",
        "> **Hint**: You might want to take advantage of the biggest weakness of the Bag-of-Words scheme!"
      ]
    },
    {
      "cell_type": "code",
      "execution_count": null,
      "metadata": {
        "id": "_SqM12grVWNE",
        "outputId": "dc841253-cb58-46c3-a8e5-55ac9e591f88"
      },
      "outputs": [
        {
          "name": "stderr",
          "output_type": "stream",
          "text": [
            "C:\\Users\\mahmo\\anaconda3\\lib\\site-packages\\sklearn\\feature_extraction\\text.py:516: UserWarning: The parameter 'token_pattern' will not be used since 'tokenizer' is not None'\n",
            "  warnings.warn(\n"
          ]
        },
        {
          "data": {
            "text/plain": [
              "'pos'"
            ]
          },
          "execution_count": 62,
          "metadata": {},
          "output_type": "execute_result"
        }
      ],
      "source": [
        "# TODO: Write a sample review and set its true sentiment\n",
        "my_review = \"WOW! great scenario, wonderful cast. Loved it\"\n",
        "true_sentiment = 'pos'  # sentiment must be 'pos' or 'neg'\n",
        "\n",
        "# TODO: Apply the same preprocessing and vectorizing steps as you did for your training data\n",
        "vectorizer = CountVectorizer(preprocessor=lambda x:x, tokenizer=lambda x:x, lowercase=False, max_features=5000)\n",
        "vectorizer.fit(features_train)\n",
        "my_review = review_to_words(my_review)\n",
        "my_review = vectorizer.transform(my_review).toarray()\n",
        "my_review = pr.normalize(my_review, norm='l2')\n",
        "\n",
        "# TODO: Then call your classifier to label it\n",
        "clf1.predict(my_review)[-1]"
      ]
    },
    {
      "cell_type": "markdown",
      "metadata": {
        "id": "ZBw9XTaCVWNE"
      },
      "source": [
        "## Step 5: Switching gears - RNNs\n",
        "\n",
        "We just saw how the task of sentiment analysis can be solved via a traditional machine learning approach: BoW + a nonlinear classifier. We now switch gears and use Recurrent Neural Networks, and in particular LSTMs, to perform sentiment analysis in Keras. Conveniently, Keras has a built-in [IMDb movie reviews dataset](https://keras.io/datasets/#imdb-movie-reviews-sentiment-classification) that we can use, with the same vocabulary size."
      ]
    },
    {
      "cell_type": "code",
      "execution_count": 1,
      "metadata": {
        "colab": {
          "base_uri": "https://localhost:8080/"
        },
        "id": "mq7J7dzrVWNF",
        "outputId": "bf88292a-7b7b-4f56-bd60-67cd6fd9eb07"
      },
      "outputs": [
        {
          "output_type": "stream",
          "name": "stdout",
          "text": [
            "Loaded dataset with 25000 training samples, 25000 test samples\n"
          ]
        }
      ],
      "source": [
        "from tensorflow.keras.datasets import imdb  # import the built-in imdb dataset in Keras\n",
        "\n",
        "# Set the vocabulary size\n",
        "vocabulary_size = 5000\n",
        "\n",
        "# Load in training and test data (note the difference in convention compared to scikit-learn)\n",
        "(X_train, y_train), (X_test, y_test) = imdb.load_data(num_words=vocabulary_size)\n",
        "print(\"Loaded dataset with {} training samples, {} test samples\".format(len(X_train), len(X_test)))"
      ]
    },
    {
      "cell_type": "code",
      "execution_count": 2,
      "metadata": {
        "colab": {
          "base_uri": "https://localhost:8080/"
        },
        "id": "TFRhgWApVWNF",
        "outputId": "454ff049-ae5c-4100-99f1-922f6e667d1e"
      },
      "outputs": [
        {
          "output_type": "stream",
          "name": "stdout",
          "text": [
            "--- Review ---\n",
            "[1, 4, 2, 716, 4, 65, 7, 4, 689, 4367, 2, 2343, 4804, 2, 2, 2, 2, 2315, 2, 2, 2, 2, 4, 2, 628, 2, 37, 9, 150, 4, 2, 4069, 11, 2909, 4, 2, 847, 313, 6, 176, 2, 9, 2, 138, 9, 4434, 19, 4, 96, 183, 26, 4, 192, 15, 27, 2, 799, 2, 2, 588, 84, 11, 4, 3231, 152, 339, 2, 42, 4869, 2, 2, 345, 4804, 2, 142, 43, 218, 208, 54, 29, 853, 659, 46, 4, 882, 183, 80, 115, 30, 4, 172, 174, 10, 10, 1001, 398, 1001, 1055, 526, 34, 3717, 2, 2, 2, 17, 4, 2, 1094, 871, 64, 85, 22, 2030, 1109, 38, 230, 9, 4, 4324, 2, 251, 2, 1034, 195, 301, 14, 16, 31, 7, 4, 2, 8, 783, 2, 33, 4, 2945, 103, 465, 2, 42, 845, 45, 446, 11, 1895, 19, 184, 76, 32, 4, 2, 207, 110, 13, 197, 4, 2, 16, 601, 964, 2152, 595, 13, 258, 4, 1730, 66, 338, 55, 2, 4, 550, 728, 65, 1196, 8, 1839, 61, 1546, 42, 2, 61, 602, 120, 45, 2, 6, 320, 786, 99, 196, 2, 786, 2, 4, 225, 4, 373, 1009, 33, 4, 130, 63, 69, 72, 1104, 46, 1292, 225, 14, 66, 194, 2, 1703, 56, 8, 803, 1004, 6, 2, 155, 11, 4, 2, 3231, 45, 853, 2029, 8, 30, 6, 117, 430, 19, 6, 2, 9, 15, 66, 424, 8, 2337, 178, 9, 15, 66, 424, 8, 1465, 178, 9, 15, 66, 142, 15, 9, 424, 8, 28, 178, 662, 44, 12, 17, 4, 130, 898, 1686, 9, 6, 2, 267, 185, 430, 4, 118, 2, 277, 15, 4, 1188, 100, 216, 56, 19, 4, 357, 114, 2, 367, 45, 115, 93, 788, 121, 4, 2, 79, 32, 68, 278, 39, 8, 818, 162, 4165, 237, 600, 7, 98, 306, 8, 157, 549, 628, 11, 6, 2, 13, 824, 15, 4104, 76, 42, 138, 36, 774, 77, 1059, 159, 150, 4, 229, 497, 8, 1493, 11, 175, 251, 453, 19, 2, 189, 12, 43, 127, 6, 394, 292, 7, 2, 4, 107, 8, 4, 2826, 15, 1082, 1251, 9, 906, 42, 1134, 6, 66, 78, 22, 15, 13, 244, 2519, 8, 135, 233, 52, 44, 10, 10, 466, 112, 398, 526, 34, 4, 1572, 4413, 2, 1094, 225, 57, 599, 133, 225, 6, 227, 7, 541, 4323, 6, 171, 139, 7, 539, 2, 56, 11, 6, 3231, 21, 164, 25, 426, 81, 33, 344, 624, 19, 6, 4617, 7, 2, 2, 6, 2, 4, 22, 9, 1082, 629, 237, 45, 188, 6, 55, 655, 707, 2, 956, 225, 1456, 841, 42, 1310, 225, 6, 2493, 1467, 2, 2828, 21, 4, 2, 9, 364, 23, 4, 2228, 2407, 225, 24, 76, 133, 18, 4, 189, 2293, 10, 10, 814, 11, 2, 11, 2642, 14, 47, 15, 682, 364, 352, 168, 44, 12, 45, 24, 913, 93, 21, 247, 2441, 4, 116, 34, 35, 1859, 8, 72, 177, 9, 164, 8, 901, 344, 44, 13, 191, 135, 13, 126, 421, 233, 18, 259, 10, 10, 4, 2, 2, 4, 2, 3074, 7, 112, 199, 753, 357, 39, 63, 12, 115, 2, 763, 8, 15, 35, 3282, 1523, 65, 57, 599, 6, 1916, 277, 1730, 37, 25, 92, 202, 6, 2, 44, 25, 28, 6, 22, 15, 122, 24, 4171, 72, 33, 32]\n",
            "--- Label ---\n",
            "0\n"
          ]
        }
      ],
      "source": [
        "# Inspect a sample review and its label\n",
        "print(\"--- Review ---\")\n",
        "print(X_train[7])\n",
        "print(\"--- Label ---\")\n",
        "print(y_train[7])"
      ]
    },
    {
      "cell_type": "markdown",
      "metadata": {
        "id": "KHzvYdF-VWNG"
      },
      "source": [
        "Notice that the label is an integer (0 for negative, 1 for positive), and the review itself is stored as a sequence of integers. These are word IDs that have been preassigned to individual words. To map them back to the original words, you can use the dictionary returned by `imdb.get_word_index()`."
      ]
    },
    {
      "cell_type": "code",
      "execution_count": 3,
      "metadata": {
        "colab": {
          "base_uri": "https://localhost:8080/"
        },
        "id": "YXyyjymDVWNG",
        "outputId": "a34f7a2d-bedb-4593-c7ce-027084022d83"
      },
      "outputs": [
        {
          "output_type": "stream",
          "name": "stdout",
          "text": [
            "--- Review (with words) ---\n",
            "['the', 'of', 'and', 'local', 'of', 'their', 'br', 'of', 'attention', 'widow', 'and', 'captures', 'parties', 'and', 'and', 'and', 'and', 'excitement', 'and', 'and', 'and', 'and', 'of', 'and', 'english', 'and', 'like', 'it', 'years', 'of', 'and', 'unintentional', 'this', 'hitchcock', 'of', 'and', 'learn', 'everyone', 'is', 'quite', 'and', 'it', 'and', 'such', 'it', 'bonus', 'film', 'of', 'too', 'seems', 'he', 'of', 'enough', 'for', 'be', 'and', 'editing', 'and', 'and', 'please', 'great', 'this', 'of', 'shoots', 'thing', '3', 'and', \"it's\", 'mentioning', 'and', 'and', 'given', 'parties', 'and', 'back', 'out', 'interesting', 'times', 'no', 'all', 'average', 'talking', 'some', 'of', 'nor', 'seems', 'into', 'best', 'at', 'of', 'every', 'cast', 'i', 'i', 'inside', 'keep', 'inside', 'large', 'viewer', 'who', 'obscure', 'and', 'and', 'and', 'movie', 'of', 'and', 'entirely', \"you've\", 'see', 'because', 'you', 'deals', 'successful', 'her', 'anything', 'it', 'of', 'dedicated', 'and', 'hard', 'and', 'further', \"that's\", 'takes', 'as', 'with', 'by', 'br', 'of', 'and', 'in', 'minute', 'and', 'they', 'of', 'westerns', 'watch', 'seemed', 'and', \"it's\", 'lee', 'if', 'oh', 'this', 'japan', 'film', 'around', 'get', 'an', 'of', 'and', 'always', 'life', 'was', 'between', 'of', 'and', 'with', 'group', 'rate', 'code', \"film's\", 'was', 'although', 'of', 'arts', 'had', 'death', 'time', 'and', 'of', 'anyway', 'romantic', 'their', 'won', 'in', 'kevin', 'only', 'flying', \"it's\", 'and', 'only', 'cut', 'show', 'if', 'and', 'is', 'star', 'stay', 'movies', 'both', 'and', 'stay', 'and', 'of', 'music', 'of', 'tell', 'missing', 'they', 'of', 'here', 'really', 'me', 'we', 'value', 'some', 'silent', 'music', 'as', 'had', 'thought', 'and', 'realized', 'she', 'in', 'sorry', 'reasons', 'is', 'and', '10', 'this', 'of', 'and', 'shoots', 'if', 'average', 'remembered', 'in', 'at', 'is', 'over', 'worse', 'film', 'is', 'and', 'it', 'for', 'had', 'absolutely', 'in', 'naive', 'want', 'it', 'for', 'had', 'absolutely', 'in', 'j', 'want', 'it', 'for', 'had', 'back', 'for', 'it', 'absolutely', 'in', 'one', 'want', 'shots', 'has', 'that', 'movie', 'of', 'here', 'write', 'whatsoever', 'it', 'is', 'and', 'set', 'got', 'worse', 'of', 'where', 'and', 'once', 'for', 'of', 'accent', 'after', 'saw', 'she', 'film', 'of', 'rest', 'little', 'and', 'camera', 'if', 'best', 'way', 'elements', 'know', 'of', 'and', 'also', 'an', 'were', 'sense', 'or', 'in', 'realistic', 'actually', 'satan', \"he's\", 'score', 'br', 'any', 'himself', 'in', 'another', 'type', 'english', 'this', 'is', 'and', 'was', 'tom', 'for', 'dating', 'get', \"it's\", 'such', 'from', 'fantastic', 'will', 'pace', 'new', 'years', 'of', 'guy', 'game', 'in', 'murders', 'this', 'us', 'hard', 'lives', 'film', 'and', 'fact', 'that', 'out', 'end', 'is', 'getting', 'together', 'br', 'and', 'of', 'seen', 'in', 'of', 'jail', 'for', 'sees', 'utterly', 'it', 'meet', \"it's\", 'depth', 'is', 'had', 'do', 'you', 'for', 'was', 'rather', 'convince', 'in', 'why', 'last', 'very', 'has', 'i', 'i', 'throughout', 'never', 'keep', 'viewer', 'who', 'of', 'becoming', 'switch', 'and', 'entirely', 'music', 'even', 'interest', 'scene', 'music', 'is', 'far', 'br', 'voice', 'riveting', 'is', 'again', 'something', 'br', 'decent', 'and', 'she', 'this', 'is', 'shoots', 'not', 'director', 'have', 'against', 'people', 'they', 'line', 'cinematography', 'film', 'is', 'couples', 'br', 'and', 'and', 'is', 'and', 'of', 'you', 'it', 'sees', 'hero', \"he's\", 'if', \"can't\", 'is', 'time', 'husband', 'silly', 'and', 'result', 'music', 'image', 'sequences', \"it's\", 'chase', 'music', 'is', 'veteran', 'include', 'and', 'freeman', 'not', 'of', 'and', 'it', 'along', 'are', 'of', 'hearing', 'cutting', 'music', 'his', 'get', 'scene', 'but', 'of', 'fact', 'correct', 'i', 'i', 'means', 'this', 'and', 'this', 'blockbuster', 'as', 'there', 'for', 'disappointed', 'along', 'wrong', 'few', 'has', 'that', 'if', 'his', 'weird', 'way', 'not', 'girl', 'display', 'of', 'love', 'who', 'so', 'friendship', 'in', 'we', 'down', 'it', 'director', 'in', 'situation', 'line', 'has', 'was', 'big', 'why', 'was', 'your', 'supposed', 'last', 'but', 'especially', 'i', 'i', 'of', 'and', 'and', 'of', 'and', 'internet', 'br', 'never', 'give', 'theme', 'rest', 'or', 'really', 'that', 'best', 'and', 'release', 'in', 'for', 'so', 'multi', 'random', 'their', 'even', 'interest', 'is', 'judge', 'once', 'arts', 'like', 'have', 'then', 'own', 'is', 'and', 'has', 'have', 'one', 'is', 'you', 'for', 'off', 'his', 'dutch', 'we', 'they', 'an']\n",
            "--- Label ---\n",
            "0\n"
          ]
        }
      ],
      "source": [
        "# Map word IDs back to words\n",
        "word2id = imdb.get_word_index()\n",
        "id2word = {i: word for word, i in word2id.items()}\n",
        "print(\"--- Review (with words) ---\")\n",
        "print([id2word.get(i, \" \") for i in X_train[7]])\n",
        "print(\"--- Label ---\")\n",
        "print(y_train[7])"
      ]
    },
    {
      "cell_type": "code",
      "execution_count": 4,
      "metadata": {
        "colab": {
          "base_uri": "https://localhost:8080/"
        },
        "id": "QifKYLRAWq40",
        "outputId": "ff29a4e4-2c2a-43f9-cd83-c863053bd754"
      },
      "outputs": [
        {
          "output_type": "execute_result",
          "data": {
            "text/plain": [
              "(2494, 11)"
            ]
          },
          "metadata": {},
          "execution_count": 4
        }
      ],
      "source": [
        "lens = [len(x) for x in X_train]\n",
        "max(lens), min(lens)"
      ]
    },
    {
      "cell_type": "code",
      "execution_count": 5,
      "metadata": {
        "colab": {
          "base_uri": "https://localhost:8080/"
        },
        "id": "j1MeTH5HXBm2",
        "outputId": "903af773-355a-4fa8-a26c-ae6ad36a1b5e"
      },
      "outputs": [
        {
          "output_type": "stream",
          "name": "stdout",
          "text": [
            "['the', 'expecting', 'later', 'hurts', 'ways', 'caine', 'expecting', 'and', 'land', 'to', '1980s', 'and', 'manage', 'ill', 'and', 'to', 'photography', 'and', 'and', 'land', 'to', '1980s', 'and', 'body', 'seems', 'better', 'film', 'is', 'hurts', 'ways', 'caine', 'expecting', 'sort', 'ill', 'and', 'to', 'photography', 'and', 'soft', 'in', 'of', 'warm', 'br', 'of', 'expecting', 'give', 'and', 'one', 'in', 'through', \"i'm\", 'and', 'this', 'documentary', 'in', 'also', 'of', 'slasher', 'and', 'to', 'and', 'and', 'she', 'style', 'are', 'who', 'finds', 'hand', 'and', 'how', '1980s', 'to', 'them', 'and', 'land', 'is', 'exciting', 'and', 'who', 'and', 'in', 'and', 'strong', 'of', 'hits', 'some', 'br', 'of', 'and', 'none', '1980s', 'check', 'in', '3', 'be', 'none', 'not', 'of', 'and', 'and', 'made', 'go', 'and', 'to', 'and', 'and', 'she', 'are', 'made', 'this', 'of', 'gripping', 'film', 'and', 'and', 'tv', 'are', 'and', 'and', 'place', 'she', 'is', 'caine', 'ideas', '1980s', 'and', 'first', 'of', 'sky', 'to', 'and', 'show', 'of', 'try', 'and', 'clothes', 'and', 'are', 'of', 'ideas', 'watch', 'and', 'to', 'finds', 'laugh', 'br', '1980s', 'and', 'and', 'is', 'caine', 'first', 'of', 'sky', 'to', 'moved', 'of', 'and', 'place', 'that', 'she', 'of', 'and', 'them', 'place', 'she', 'but', 'is', 'suppose', 'and', 'or', 'of', 'husband', 'and', 'really', 'story', 'one', 'maybe', 'and', \"i'm\", 'of', 'caine', 'not', '1980s', 'and', 'of', 'caine', 'show', 'times', 'new', 'be', 'none', 'moments', 'and', 'things', 'and', 'to', 'and', 'and', 'funny', 'caine', 'this', 'of', 'gripping', 'to', 'check', 'in', 'committed', 'and', '1980s', \"i'm\", 'that', 'not', 'and', 'and', 'this', 'to', 'and', 'be', 'none', 'and', 'pace', 'leading', 'to', 'and', 'give', 'and', 'first', 'those', 'level', 'doll', 'and', 'and', 'and', 'to', '1980s', 'and', 'are', 'of', 'and', 'or', 'better', 'of', 'try', 'and', 'and', 'million', 'and', 'they', 'widely', 'but', '1980s', 'in', 'and', 'first', 'of', 'and', 'and', 'cole', 'watch', 'and', 'and', '1980s', 'this', 'of', 'and', 'not', 'of', 'expecting', 'worker', 'which', 'watch', '1980s', 'and', 'some', 'and', 'moments', 'in', 'be', 'and', 'portrays', 'to', 'laughable', 'in', 'and', 'and', 'are', 'is', 'caine', 'and', 'and', 'or', 'of', 'husband', 'and', 'not', 'and', 'trust', 'to', 'cry', 'and', 'and', \"i'm\", 'of', 'insane', 'not', 'most', 'be', 'and', 'nothing', 'rated', 'made', \"i'm\", 'of', 'caine', 'and', 'with', 'carry', 'in', 'feature', 'this', 'of', 'expecting', 'of', 'how', 'say', 'with', 'and', 'cole', 'watch', 'old', 'movie', '1980s', 'maybe', 'ill', \"i'm\", 'is', 'caine', 'film', 'is', 'and', 'and', 'or', 'of', 'sky', 'and', 'in', 'of', 'ideas', 'and', 'maybe', '1980s', \"i'm\", 'is', 'caine', 'understand', 'seem', 'in', 'which', 'of', 'simple', 'message', 'addition', 'and', 'and', 'is', 'and', 'driven', 'for', 'maybe', 'and', \"i'm\", 'is', 'caine', 'to', 'eyes', 'of', 'and', 'of', 'slasher', 'sequels', 'and', 'land', 'to', '1980s', 'and', 'i', 'i', 'expecting', 'am', 'and', 'interests', 'meat', 'tied', 'manage', 'worthy', 'and', 'worthy', 'and', 'and', 'meat', 'tied', 'like', 'hear', 'and', 'film', 'made', 'in', 'of', 'sky', 'but', 'of', 'and', 'interests', 'tied', 'to', 'and', 'sitcom', 'she', 'to', 'and', 'show', 'of', 'sky', 'not', 'and', 'those', 'reasons', 'to', 'and', 'good', 'up', 'no', 'and', 'and', 'an', 'and', 'dancing', 'tied', 'and', 'ideas', 'of', 'sky', 'know', 'and', 'eyes', 'made', 'good', 'and', 'of', 'matter', 'poetry', 'ideas', 'of', 'sky', 'to', 'tied', 'occur', 'be', 'hardly', 'first', 'of', 'and', 'and', 'and', 'and', 'cult', 'not', 'with', 'released', 'things', 'film', 'is', 'and', 'reunion', 'lived', 'tied', 'worker', 'in', 'catch', 'and', 'and', 'reunion', 'those', 'this', 'of', 'sky', 'and', 'and', 'and', 'and', 'be', 'and', 'not', 'all', 'worker', 'in', 'bill', 'each', 'tied', 'check', 'in', 'maybe', 'and', 'tv', 'film', 'is', 'and', 'not', 'of', 'and', 'and', 'first', 'is', 'and', 'and', 'cinema', 'in', 'gang', 'seems', 'film', 'is', 'post', 'idea', 'shining', 'not', 'tied', 'catholic', 'she', 'of', 'james', 'and', 'cinema', 'but', 'of', 'post', 'idea', 'shining', 'cast', 'not', 'as', 'my', 'tied', 'out', 'instinct', 'some', 'br', 'and', 'too', 'tied', 'and', 'and', 'first', 'is', 'important', 'driven', 'sometimes', 'watch', 'to', \"can't\", 'of', 'and', 'in', 'and', 'be', 'and', 'and', 'interests', 'sequels', 'meat', 'tied', 'i', 'i', 'expecting', 'either', 'cable', 'interests', 'attempts', 'and', 'manage', 'pilot', 'mass', 'attempts', 'and', 'strong', 'are', 'pilot', 'mass', 'couple', 'this', 'so', 'james', 'in', 'slasher', 'those', 'of', 'cable', 'interests', 'pilot', 'and', 'and', 'show', 'of', 'try', 'and', 'them', 'strong', 'made', 'things', 'film', 'is', 'and', 'better', 'of', 'sky', 'and', 'those', 'this', 'of', 'sky', 'pilot', 'particularly', 'of', 'and', 'this', 'of', 'hits', 'in', 'letter', 'and', 'but', 'is', 'and', 'pilot', 'cinema', 'but', 'of', 'and', 'driven', 'not', 'and', \"can't\", 'be', 'and', 'she', 'in', 'particularly', 'pilot', 'film', 'is', 'and', 'nice', 'pilot', 'laughable', 'in', 'possibly', 'and', 'film', 'is', 'adds', 'and', 'old', 'to', \"can't\", 'of', 'and', 'in', 'perfect', 'of', 'cable', 'interests', 'and', 'body', 'and', 'they', 'wife', 'mass', 'and', 'are', 'be', 'too', 'those', 'she', 'of', 'and', 'sequels', 'pilot', 'mass', 'i', 'i', 'expecting', 'wanted', 'photography', 'and', 'manage', 'audience', 'and', 'photography', 'and', 'me', 'faults', 'in', 'here', 'audience', 'and', 'possible', 'this', 'were', 'expecting', 'they', 'secretly', 'really', 'moments', 'she', 'couple', 'and', 'check', 'in', 'rocks', 'and', 'is', 'traditional', 'movie', 'were', 'expecting', 'grace', 'who', 'and', 'made', 'in', 'of', 'and', 'and', 'worker', 'in', 'letter', 'and', 'however', 'of', 'sky', 'friends', 'be', 'and', \"can't\", 'of', 'still', 'br', 'made', 'go', 'are', 'of', 'try', 'and', 'and', 'grace', 'in', 'and', 'to', 'carry', 'and', 'in', 'nearby', 'made', 'but', 'is', 'and', 'and', 'kelly', 'film', 'is', 'and', 'is', 'and', 'and', 'not', 'with', 'released', 'things', 'film', 'is', 'area', 'and', 'in', 'of', 'and', 'of', 'and', 'and', 'to', 'particularly', 'is', 'and', 'in', 'and', 'and', 'not', 'against', 'maybe', 'and', 'tv', 'and', 'and', 'first', 'of', 'and', 'not', 'and', 'and', 'of', 'learn', 'and', 'and', 'is', 'and', 'to', 'them', 'sandler', 'are', 'of', 'and', 'not', 'off', 'his', 'through', 'but', 'of', 'island', 'all', 'and', 'and', 'in', 'be', 'barbara', 'her', 'all', 'after', 'maybe', 'are', 'of', 'bible', 'br', 'and', 'and', 'me', 'because', 'front', 'and', 'of', 'learn', 'first', 'is', 'and', 'james', 'to', 'often', 'of', 'later', 'am', 'either', 'and', 'cinema', 'and', 'watch', 'of', 'expecting', 'sequels', 'audience', 'and', 'i', 'i', 'expecting', 'already', 'and', 'interests', 'and', 'manage', 'and', 'and', 'inspiration', 'and', 'of', 'couple', 'thought', '10', 'to', 'called', 'political', 'controversial', 'change', 'and', 'film', 'of', 'and', 'interests', 'are', 'of', 'top', 'and', 'and', 'of', 'white', 'or', 'of', 'and', 'to', 'and', 'that', 'show', 'be', 'and', 'and', 'go', 'and', 'they', 'and', 'conclusion', 'and', 'returning', 'and', 'eyes', 'and', 'trilogy', 'style', 'are', 'of', 'thought', 'say', 'instinct', 'some', 'br', 'of', 'sky', 'to', 'buffs', 'of', 'closed', 'letting', 'some', 'br', 'wives', 'and', 'officer', 'high', 'american', 'to', 'grace', 'in', 'long', 'hitchcock', 'film', 'whether', 'and', 'and', 'they', 'and', 'and', 'and', 'and', 'in', 'of', 'each', 'wide', 'ideas', 'of', 'sky', 'or', 'more', 'and', 'grace', 'in', 'and', 'and', 'kiss', 'made', 'film', 'leg', 'show', 'of', 'try', 'and', 'and', 'and', 'utter', 'are', 'be', 'those', 'them', 'me', 'in', 'achieve', 'or', 'our', 'be', 'and', 'and', 'sort', 'of', 'closed', 'sky', 'letting', 'of', 'matter', 'cried', 'in', 'of', 'sky', 'film', 'and', 'and', 'and', 'however', 'of', 'and', 'and', 'catholic', 'tv', 'to', 'sometimes', 'watch', 'and', 'and', 'film', 'is', 'perspective', 'in', 'of', 'captivating', 'and', 'kelly', 'film', 'of', 'productions', 'and', 'not', 'and', 'laughable', 'in', 'perspective', 'some', 'watch', 'is', 'seen', 'lose', 'of', 'matter', 'song', 'just', 'that', '2', 'at', 'show', 'sometimes', 'movie', 'and', 'cinema', 'but', 'is', 'strange', 'idea', 'and', 'and', 'and', 'old', 'and', 'conclusion', 'and', 'clothes', 'be', 'and', 'to', 'cinema', 'but', 'of', 'aside', 'already', 'not', 'and', 'and', 'and', 'first', 'is', 'and', 'to', 'kelly', 'film', 'of', 'and', 'and', 'all', 'cinema', 'but', 'of', 'and', 'not', 'and', 'officer', 'of', 'and', 'or', 'of', 'sky', 'of', 'and', 'garbage', 'oh', 'but', 'is', 'and', 'to', 'sometimes', 'and', 'blank', 'film', 'and', 'watch', 'and', 'and', 'clothes', 'and', 'or', 'of', 'try', 'and', 'to', 'them', 'and', 'in', 'particularly', 'of', 'conclusion', 'and', 'and', 'and', 'and', 'nazis', 'to', 'and', 'favourite', 'she', 'of', 'and', 'to', 'as', 'my', 'sandler', 'film', 'of', 'aside', 'already', 'clothes', 'is', 'closed', '80', 'sequels', 'and', 'i', 'i', 'expecting', 'intelligent', 'and', 'greatest', 'manage', 'of', 'thought', 'ever', 'and', 'greatest', 'ruin', 'of', 'thought', 'ever', 'by', 'are', 'by', 'couple', 'ever', 'and', 'and', 'and', 'grows', 'to', 'and', 'to', 'and', 'and', 'first', 'of', 'gripping', 'watch', 'never', 'historical', 'or', 'of', 'sky', 'and', 'favourite', 'she', 'is', '80', 'they', 'and', 'not', 'thought', 'ever', 'and', 'that', 'those', 'first', 'and', 'school', 'and', 'check', 'in', 'also', 'those', 'first', 'of', 'b', 'who', 'and', 'ever', 'film', 'is', 'awful', 'cars', 'they', 'and', 'and', 'and', 'is', 'day', 'and', 'or', 'of', 'radio', 'and', 'campy', 'first', 'discussion', 'and', 'them', 'kung', 'is', 'and', 'perspective', 'for', 'maybe', 'give', 'budget', \"i'm\", 'of', 'caine', 'and', 'and', 'those', 'first', 'of', 'sky', 'to', 'thought', 'ever', 'and', 'this', 'understand', 'seem', 'ever', 'and', 'and', 'creators', 'not', 'with', 'capture', 'who', 'is', 'along', 'granted', 'to', 'is', 'perspective', 'in', 'of', 'school', 'and', 'and', 'of', 'try', 'and', 'to', 'and', 'is', 'and', 'nazis', 'welles', 'in', 'also', 'of', 'and', 'sequels', 'and', 'greatest', 'i', 'i', 'and', 'and', 'core', 'and', 'of', 'sky', 'in', 'is', 'and', 'and', 'movie', 'beginning', 'hiding', 'in', 'eventually', 'know', 'of', 'b', 'story', 'here', 'she', 'and', 'new', 'all', 'after', 'died', 'dan', 'and', 'fill', 'of', 'b', 'in', 'and', 'but', 'often', 'daughter', 'this', 'be', 'fire', 'casting', 'what', 'and', 'core', 'eaten', 'film', 'screening', 'and', 'faults', 'be', 'fire', 'acting', 'story', 'best', 'saw', 'first', '1', 'cast', 'and', 'takes', 'kind', 'suddenly', 'of', 'days', 'seen', 'actors', 'and', 'this', 'until', 'all', 'takes', 'seeing', 'with', 'set', 'but', 'of', 'couple', 'and', 'and', 'and', 'to', 'from', 'than', 'an', 'shots', 'has', 'and', 'core', 'and', 'and', 'for', 'what', 'and', 'core', 'eaten', 'film', 'screening', 'clichéd', 'at', 'often', 'try', 'feminist', 'experience', 'be', 'too', 'and', 'and', 'and', 'some', 'in', 'dick', 'about', 'right', 'jay', 'would', 'takes', 'for', 'most', 'br', 'about', 'fire', 'guess', 'film', 'and', 'core', 'of', 'seen', 'br', 'any', 'does', 'having', 'because', 'time', 'much', 'would', 'takes', 'of', 'seen', 'br', 'any', 'than', 'true', 'and', 'to', 'from', 'well', 'at', 'cast', 'and', 'ok', 'about', 'better', 'to', 'and', 'about', 'in', 'known', 'and', 'and', 'for', 'and', 'core', 'true', 'coming', 'about', \"don't\", 'and', 'takes', 'and', 'core', 'me', 'even', 'turned', 'to', 'even', 'beating', 'and', 'takes', 'all', 'with', 'got', 'they', 'of', 'my', 'to', 'nothing', 'does', 'when', 'all', 'me', 'not', 'all', 'these', 'there', 'is', 'quite', 'up', 'murder', 'for', 'and', 'of', 'seen', 'worker', 'in', 'and', 'those', 'to', 'powell', 'friends', 'and', 'core', 'and', 'she', 'film', 'be', 'and', 'of', 'b', 'takes', 'that', 'story', 'at', 'actual', 'in', 'why', 'and', 'have', 'in', 'given', 'by', 'br', 'any', 'and', 'core', 'cinema', 'in', 'embarrassment', 'and', 'act', 'not', 'officer', 'that', 'tv', 'all', 'takes', 'all', 'story', 'girl', 'through', 'film', 'of', 'passed', 'all', 'knew', 'girl', 'been', 'of', 'by', 'all', 'thing', 'does', 'new', 'all', 'after', 'through', 'think', 'wrote', 'old', 'and', 'and', 'moments', 'some', 'in', 'embarrassment', 'seems', 'she', 'and', 'takes', 'of', 'performance', '10', 'all', 'children', 'in', 'people', 'with', 'u', 'think', 'ultimately', 'all', 'nothing', 'pretty', 'in', 'also', 'daughter', 'not', 'all', 'frankly', 'and', 'in', 'beyond', 'and', 'core', 'in', 'of', 'and', 'and', 'takes', 'music', 'soldiers', 'this', 'of', 'young', 'for', 'and', 'core', 'it', 'still', 'women', 'film', 'and', 'coming', 'be', 'under', 'in', 'atmosphere', 'of', 'seen', 'those', 'american', 'cast', 'minutes', 'and', 'acting', 'is', 'alone', 'number', 'and', 'core', 'takes', 'for', 'with', 'is', 'and', 'suggest', 'all', 'them', 'modern', 'to', 'and', 'and', 'minutes', 'models', 'be', 'swimming', 'in', 'screening', 'and', 'core', 'to', 'and', 'half', 'to', 'and', 'and', 'show', 'be', 'and', 'and', 'takes', 'of', 'followed', 'may', 'of', 'seen', 'br', 'any', 'it', 'for', 'kind', \"can't\", 'and', 'to', 'would', 'thing', 'and', 'and', 'and', 'are', 'of', 'able', 'br', 'of', 'yes', 'to', 'half', 'i', 'i', 'expecting', 'supporting', 'hurts', 'ways', 'interests', 'expecting', 'impact', 'to', 'and', 'searching', 'manage', 'until', 'and', 'to', 'loud', 'of', 'expecting', 'body', 'film', 'silent', 'retarded', 'and', 'to', 'film', 'and', 'and', 'impact', \"i'm\", 'of', 'and', 'to', 'some', 'br', 'of', 'sky', 'of', 'and', 'strong', 'show', 'or', 'more', 'not', 'loud', 'and', 'is', 'perspective', 'in', 'and', 'yes', 'to', 'and', 'is', 'and', 'are', 'searching', 'in', 'also', 'of', 'hurts', 'in', 'and', 'and', 'grace', 'in', 'and', 'she', 'to', 'sometimes', 'pace', 'impact', 'film', 'is', 'thought', \"someone's\", 'to', 'is', 'nazis', 'welles', 'searching', 'catholic', 'she', 'of', 'lose', 'to', 'impact', 'and', 'and', 'or', 'of', 'sky', 'know', 'searching', 'and', 'of', '1984', 'loud', 'and', 'this', 'sometimes', 'watch', 'to', 'chuck', 'give', 'and', 'all', 'and', 'give', 'br', 'any', 'first', 'of', 'gripping', 'and', 'not', 'office', 'is', 'and', 'are', 'and', 'to', 'particularly', 'of', 'and', 'each', 'john', 'loud', 'and', 'is', 'and', 'not', 'of', 'and', 'with', 'things', 'to', 'after', 'his', 'lose', 'underrated', 'and', 'things', 'to', 'strong', 'things', 'and', 'them', 'and', 'loud', 'film', 'is', \"someone's\", 'searching', 'check', 'in', 'also', 'of', 'and', 'not', 'loud', 'buffs', 'some', 'watch', 'seen', 'and', 'and', 'this', 'in', 'and', 'better', 'underrated', 'continued', 'loud', 'in', 'and', 'to', 'and', 'searching', 'impact', 'and', 'of', 'and', 'old', 'to', 'and', 'and', 'this', 'to', 'and', 'loud', 'film', 'of', 'hurts', 'ways', 'interests', 'searching', 'instinct', 'show', 'to', \"can't\", 'of', 'and', 'in', 'slasher', 'of', 'white', 'and', 'to', 'actually', 'hurts', 'ways', 'and', 'impact', 'to', 'and', 'searching', 'i', 'i', 'expecting', 'problems', 'and', 'and', 'interests', 'and', 'citizen', 'expecting', 'of', 'eye', 'manage', 'consists', 'blown', 'to', 'of', 'and', 'job', 'br', 'and', 'its', 'violent', 'and', 'and', 'she', 'sort', 'having', 'because', 'this', 'is', 'and', 'citizen', 'expecting', 'film', 'of', 'and', 'interests', 'united', 'this', 'of', 'existent', 'and', 'to', 'of', 'eye', \"can't\", 'school', 'in', 'school', 'film', 'consists', 'blown', 'and', 'but', 'good', 'clearly', 'better', 'in', 'of', 'able', 'all', \"can't\", 'clearly', 'this', 'of', 'weak', 'br', 'is', 'thoroughly', 'things', 'weak', 'of', 'seen', 'because', 'budget', 'sometimes', 'watch', 'and', 'and', 'some', 'br', 'of', 'sky', 'to', 'of', 'eye', 'and', 'film', 'blown', 'blown', 'eyes', 'is', 'original', 'br', 'and', 'for', 'strong', 'things', 'eye', 'not', 'of', 'him', 'by', 'and', 'film', 'is', 'and', 'for', 'laughable', 'is', 'seen', 'lose', 'of', 'matter', 'worker', 'ideas', 'of', 'sky', 'film', 'and', 'experience', 'in', 'acting', 'to', 'and', 'blown', 'to', 'shoes', 'and', 'of', 'eye', 'and', 'to', 'eye', \"can't\", 'first', 'that', 'those', 'first', 'of', 'sky', 'to', 'and', 'chuck', 'of', 'eye', 'film', 'is', 'and', 'and', 'in', 'also', 'is', 'seen', 'lose', 'eye', 'and', 'and', 'and', 'who', 'of', 'creators', 'to', 'and', 'made', 'blown', 'catholic', 'she', 'of', 'and', 'james', 'for', 'disappointing', 'story', 'one', 'dead', 'of', 'eye', 'of', 'white', 'of', 'eye', 'and', 'who', 'and', 'are', 'of', 'and', 'and', 'in', 'consists', 'blown', 'blown', 'and', 'of', 'learn', 'to', 'eye', 'and', 'of', 'headed', 'and', 'sometimes', 'watch', 'of', 'eye', 'and', 'br', 'blown', 'to', 'particularly', 'of', 'headed', 'and', 'are', 'of', 'and', 'blown', 'check', 'in', 'long', 'lion', 'who', 'and', 'of', 'him', 'by', 'ideas', 'of', 'sky', 'to', 'and', 'and', 'like', 'buffs', 'some', 'watch', 'is', 'seen', 'lose', 'ideas', 'of', 'sky', 'eye', 'strong', 'is', 'thought', 'and', 'or', 'is', 'unpleasant', 'clever', 'couples', 'to', 'and', 'of', 'and', 'first', 'and', 'school', 'in', 'lesson', 'of', 'and', 'and', 'nothing', 'feature', 'and', 'but', 'both', 'to', 'laughable', 'in', 'and', 'eye', 'to', \"i'd\", 'be', 'clearly', 'in', 'blown', 'and', 'and', 'is', 'and', 'nazis', 'welles', 'clothes', 'blown', 'and', 'are', 'of', 'sky', 'and', 'of', 'eye', 'favourite', 'high', 'she', 'out', 'this', 'my', 'in', 'gay', 'she', 'is', 'and', 'james', 'are', 'consists', 'blown', 'and', 'and', 'eye', 'film', 'is', 'and', 'to', 'place', 'made', 'she', 'but', 'is', 'and', 'blown', 'check', 'and', 'she', 'film', 'is', 'closed', '80', 'not', 'and', 'pace', 'are', 'in', 'for', 'and', 'to', 'and', 'that', 'some', 'br', 'be', 'previous', 'of', 'and', \"can't\", 'pace', 'this', 'of', 'and', 'leading', 'to', 'nothing', 'can', 'blown', 'letter', 'and', \"aren't\", 'film', 'is', 'closed', '80', 'blown', 'cinema', 'in', 'island', 'and', 'movie', 'of', 'eye', 'lowest', 'and', 'not', 'of', 'performances', 'say', 'crime', \"can't\", 'be', 'and', 'she', 'blown', 'check', 'in', 'and', 'eye', 'not', 'all', 'movies', 'buffs', 'some', 'of', 'eye', \"can't\", 'she', 'to', 'and', 'blown', 'this', 'of', 'and', 'blown', 'song', 'just', 'all', 'with', 'has', 'in', 'synopsis', 'not', 'and', 'buffs', 'of', 'eye', 'some', 'br', 'of', 'and', 'party', 'and', 'favourite', 'eye', 'she', 'to', 'and', 'made', 'film', 'of', 'performance', 'christopher', 'go', 'of', 'performances', 'say', 'europe', 'made', 'but', 'of', 'slasher', 'blown', 'and', 'this', 'to', 'favourite', 'and', 'she', 'this', 'of', 'and', 'and', 'and', 'cinema', 'and', 'film', 'giant', 'not', 'laughable', 'in', 'whats', 'all', 'favourite', 'blown', 'she', 'but', 'of', 'performance', 'christopher', 'not', 'blown', 'maybe', 'are', 'is', 'and', 'and', 'that', 'song', 'just', 'and', 'with', 'has', 'in', 'surely', 'some', 'not', 'of', 'eye', 'catholic', 'and', 'party', 'see', 'in', 'same', 'high', 'pace', 'this', 'of', 'and', 'and', 'eye', \"can't\", 'some', 'br', 'of', 'party', 'to', 'plays', 'and', 'and', 'blown', 'unit', 'particularly', 'of', 'eye', \"movie's\", 'not', 'and', 'and', 'in', 'through', 'things', 'to', 'buffs', 'some', 'blown', 'and', 'and', 'she', 'first', 'of', 'blown', 'and', 'not', 'with', 'eye', 'and', 'who', 'of', 'him', 'by', 'to', 'and', 'sequels', 'to', 'actually', 'and', 'and', 'of', 'eye', 'i', 'i', 'case', 'more', 'it', 'is', 'highly', 'and', 'thru', 'of', 'and', 'win', 'time', 'very', 'not', 'as', 'by', 'with', 'is', 'sequels', 'was', 'own', 'as', 'and', 'is', 'is', 'i', 'i']\n"
          ]
        }
      ],
      "source": [
        "# preview the longest review\n",
        "print([id2word.get(i, \" \") for i in X_train[lens.index(2494)]])"
      ]
    },
    {
      "cell_type": "code",
      "execution_count": 6,
      "metadata": {
        "colab": {
          "base_uri": "https://localhost:8080/"
        },
        "id": "8h_WfagrXYt5",
        "outputId": "7e8304aa-757c-430d-c915-268ce7a5c5f4"
      },
      "outputs": [
        {
          "output_type": "stream",
          "name": "stdout",
          "text": [
            "['the', 'was', 'attempt', 'note', 'as', 'by', 'which', 'are', 'lie', 'factor', 'left']\n"
          ]
        }
      ],
      "source": [
        "# preview the shortest review\n",
        "print([id2word.get(i, \" \") for i in X_train[lens.index(11)]])"
      ]
    },
    {
      "cell_type": "markdown",
      "metadata": {
        "id": "YheukC9hVWNH"
      },
      "source": [
        "Unlike our Bag-of-Words approach, where we simply summarized the counts of each word in a document, this representation essentially retains the entire sequence of words (minus punctuation, stopwords, etc.). This is critical for RNNs to function. But it also means that now the features can be of different lengths!\n",
        "\n",
        "#### Question: Variable length reviews\n",
        "\n",
        "What is the maximum review length (in terms of number of words) in the training set? What is the minimum?\n",
        "\n",
        "#### Answer:\n",
        "\n",
        "2494, 11\n",
        "\n",
        "\n",
        "### TODO: Pad sequences\n",
        "\n",
        "In order to feed this data into your RNN, all input documents must have the same length. Let's limit the maximum review length to `max_words` by truncating longer reviews and padding shorter reviews with a null value (0). You can accomplish this easily using the [`pad_sequences()`](https://keras.io/preprocessing/sequence/#pad_sequences) function in Keras. For now, set `max_words` to 500."
      ]
    },
    {
      "cell_type": "code",
      "execution_count": 7,
      "metadata": {
        "id": "t93lqa0MVWNH"
      },
      "outputs": [],
      "source": [
        "from tensorflow.keras.preprocessing.sequence import pad_sequences\n",
        "\n",
        "# Set the maximum number of words per document (for both training and testing)\n",
        "max_words = 500\n",
        "\n",
        "# TODO: Pad sequences in X_train and X_test\n",
        "X_train = pad_sequences(X_train, maxlen=max_words, padding='pre')\n",
        "X_test  = pad_sequences(X_test,  maxlen=max_words, padding='pre')"
      ]
    },
    {
      "cell_type": "markdown",
      "metadata": {
        "id": "H0LTo7QJVWNI"
      },
      "source": [
        "### TODO: Design an RNN model for sentiment analysis\n",
        "\n",
        "Build your model architecture in the code cell below. We have imported some layers from Keras that you might need but feel free to use any other layers / transformations you like.\n",
        "\n",
        "Remember that your input is a sequence of words (technically, integer word IDs) of maximum length = `max_words`, and your output is a binary sentiment label (0 or 1)."
      ]
    },
    {
      "cell_type": "code",
      "execution_count": 14,
      "metadata": {
        "colab": {
          "base_uri": "https://localhost:8080/"
        },
        "collapsed": true,
        "id": "VAnSr9MIVWNI",
        "outputId": "220c0a49-ebe7-49e6-db60-d0903fa1b2af"
      },
      "outputs": [
        {
          "output_type": "stream",
          "name": "stdout",
          "text": [
            "Model: \"sequential_3\"\n",
            "_________________________________________________________________\n",
            " Layer (type)                Output Shape              Param #   \n",
            "=================================================================\n",
            " embedding_3 (Embedding)     (None, 500, 64)           320000    \n",
            "                                                                 \n",
            " lstm_3 (LSTM)               (None, 128)               98816     \n",
            "                                                                 \n",
            " dropout_1 (Dropout)         (None, 128)               0         \n",
            "                                                                 \n",
            " dense_3 (Dense)             (None, 1)                 129       \n",
            "                                                                 \n",
            "=================================================================\n",
            "Total params: 418,945\n",
            "Trainable params: 418,945\n",
            "Non-trainable params: 0\n",
            "_________________________________________________________________\n",
            "None\n"
          ]
        }
      ],
      "source": [
        "from keras.models import Sequential\n",
        "from keras.layers import Embedding, LSTM, Dense, Dropout\n",
        "\n",
        "# TODO: Design your model\n",
        "model = Sequential([\n",
        "    Embedding(vocabulary_size, 64, input_length=max_words),\n",
        "    LSTM(128),\n",
        "    Dropout(0.2),\n",
        "    Dense(1, activation='sigmoid')\n",
        "])\n",
        "\n",
        "print(model.summary())"
      ]
    },
    {
      "cell_type": "markdown",
      "metadata": {
        "id": "5UXNviokVWNJ"
      },
      "source": [
        "#### Question: Architecture and parameters\n",
        "\n",
        "Briefly describe your neural net architecture. How many model parameters does it have that need to be trained?\n",
        "\n",
        "#### Answer:\n",
        "\n",
        "242,561\n",
        "\n",
        "### TODO: Train and evaluate your model\n",
        "\n",
        "Now you are ready to train your model. In Keras world, you first need to _compile_ your model by specifying the loss function and optimizer you want to use while training, as well as any evaluation metrics you'd like to measure. Specify the approprate parameters, including at least one metric `'accuracy'`."
      ]
    },
    {
      "cell_type": "code",
      "execution_count": 16,
      "metadata": {
        "id": "HrjcDZa5VWNJ"
      },
      "outputs": [],
      "source": [
        "# TODO: Compile your model, specifying a loss function, optimizer, and metrics\n",
        "from tensorflow.keras.optimizers import Adam\n",
        "\n",
        "model.compile(optimizer=Adam(learning_rate=0.0001), metrics=['accuracy'], loss='binary_crossentropy')"
      ]
    },
    {
      "cell_type": "markdown",
      "metadata": {
        "id": "zQU1gaXEVWNJ"
      },
      "source": [
        "Once compiled, you can kick off the training process. There are two important training parameters that you have to specify - **batch size** and **number of training epochs**, which together with your model architecture determine the total training time.\n",
        "\n",
        "Training may take a while, so grab a cup of coffee, or better, go for a hike! If possible, consider using a GPU, as a single training run can take several hours on a CPU.\n",
        "\n",
        "> **Tip**: You can split off a small portion of the training set to be used for validation during training. This will help monitor the training process and identify potential overfitting. You can supply a validation set to `model.fit()` using its `validation_data` parameter, or just specify `validation_split` - a fraction of the training data for Keras to set aside for this purpose (typically 5-10%). Validation metrics are evaluated once at the end of each epoch."
      ]
    },
    {
      "cell_type": "code",
      "execution_count": 17,
      "metadata": {
        "colab": {
          "base_uri": "https://localhost:8080/"
        },
        "id": "ASM1GzhWVWNK",
        "outputId": "bedbb119-aaad-4669-938e-446f9091deca"
      },
      "outputs": [
        {
          "output_type": "stream",
          "name": "stdout",
          "text": [
            "Epoch 1/10\n",
            "313/313 [==============================] - 13s 35ms/step - loss: 0.6419 - accuracy: 0.6427 - val_loss: 0.4814 - val_accuracy: 0.8188\n",
            "Epoch 2/10\n",
            "313/313 [==============================] - 11s 37ms/step - loss: 0.3920 - accuracy: 0.8463 - val_loss: 0.3406 - val_accuracy: 0.8610\n",
            "Epoch 3/10\n",
            "313/313 [==============================] - 11s 34ms/step - loss: 0.2964 - accuracy: 0.8848 - val_loss: 0.2989 - val_accuracy: 0.8766\n",
            "Epoch 4/10\n",
            "313/313 [==============================] - 10s 33ms/step - loss: 0.2582 - accuracy: 0.9031 - val_loss: 0.3255 - val_accuracy: 0.8740\n",
            "Epoch 5/10\n",
            "313/313 [==============================] - 10s 33ms/step - loss: 0.2296 - accuracy: 0.9158 - val_loss: 0.2827 - val_accuracy: 0.8820\n",
            "Epoch 6/10\n",
            "313/313 [==============================] - 12s 39ms/step - loss: 0.2118 - accuracy: 0.9232 - val_loss: 0.3109 - val_accuracy: 0.8760\n",
            "Epoch 7/10\n",
            "313/313 [==============================] - 11s 34ms/step - loss: 0.2052 - accuracy: 0.9254 - val_loss: 0.2956 - val_accuracy: 0.8806\n",
            "Epoch 8/10\n",
            "313/313 [==============================] - 11s 34ms/step - loss: 0.1835 - accuracy: 0.9365 - val_loss: 0.2931 - val_accuracy: 0.8836\n",
            "Epoch 9/10\n",
            "313/313 [==============================] - 11s 34ms/step - loss: 0.1725 - accuracy: 0.9401 - val_loss: 0.3156 - val_accuracy: 0.8810\n",
            "Epoch 10/10\n",
            "313/313 [==============================] - 13s 41ms/step - loss: 0.2293 - accuracy: 0.9113 - val_loss: 0.3268 - val_accuracy: 0.8798\n"
          ]
        },
        {
          "output_type": "execute_result",
          "data": {
            "text/plain": [
              "<keras.callbacks.History at 0x7f9a7ec73590>"
            ]
          },
          "metadata": {},
          "execution_count": 17
        }
      ],
      "source": [
        "# TODO: Specify training parameters: batch size and number of epochs\n",
        "batch_size = 64\n",
        "num_epochs = 10\n",
        "\n",
        "# TODO(optional): Reserve/specify some training data for validation (not to be used for training)\n",
        "\n",
        "# TODO: Train your model\n",
        "model.fit(X_train, y_train, validation_split=0.2,\n",
        "          epochs=num_epochs, batch_size=batch_size, verbose=1)"
      ]
    },
    {
      "cell_type": "code",
      "execution_count": 18,
      "metadata": {
        "id": "ZjFXFwi5VWNK"
      },
      "outputs": [],
      "source": [
        "# Save your model, so that you can quickly load it in future (and perhaps resume training)\n",
        "model.save(\"rnn_lstm_model.h5\")  # HDF5 file\n",
        "\n",
        "# Later you can load it using keras.models.load_model()\n",
        "#from keras.models import load_model\n",
        "#model = load_model(os.path.join(cache_dir, model_file))"
      ]
    },
    {
      "cell_type": "markdown",
      "metadata": {
        "id": "pevg2-vsVWNL"
      },
      "source": [
        "Once you have trained your model, it's time to see how well it performs on unseen test data."
      ]
    },
    {
      "cell_type": "code",
      "execution_count": 19,
      "metadata": {
        "id": "MHDSY8pIVWNM",
        "colab": {
          "base_uri": "https://localhost:8080/"
        },
        "outputId": "c2758089-2143-4155-ee45-3616566313b7"
      },
      "outputs": [
        {
          "output_type": "stream",
          "name": "stdout",
          "text": [
            "Test accuracy: 0.8719199895858765\n"
          ]
        }
      ],
      "source": [
        "# Evaluate your model on the test set\n",
        "scores = model.evaluate(X_test, y_test, verbose=0)  # returns loss and other metrics specified in model.compile()\n",
        "print(\"Test accuracy:\", scores[1])  # scores[1] should correspond to accuracy if you passed in metrics=['accuracy']"
      ]
    },
    {
      "cell_type": "markdown",
      "metadata": {
        "id": "dDAuEpKzVWNN"
      },
      "source": [
        "#### Question: Comparing RNNs and Traditional Methods\n",
        "\n",
        "How well does your RNN model perform compared to the BoW + Gradient-Boosted Decision Trees?\n",
        "\n",
        "#### Answer:\n",
        "\n",
        "Much better, more than 25% accuracy boost than with the clf1 ✅\n",
        "\n",
        "## Extensions\n",
        "\n",
        "There are several ways in which you can build upon this notebook. Each comes with its set of challenges, but can be a rewarding experience.\n",
        "\n",
        "- The first thing is to try and improve the accuracy of your model by experimenting with different architectures, layers and parameters. How good can you get without taking prohibitively long to train? How do you prevent overfitting?\n",
        "\n",
        "- Then, you may want to deploy your model as a mobile app or web service. What do you need to do in order to package your model for such deployment? How would you accept a new review, convert it into a form suitable for your model, and perform the actual prediction? (Note that the same environment you used during training may not be available.)\n",
        "\n",
        "- One simplification we made in this notebook is to limit the task to binary classification. The dataset actually includes a more fine-grained review rating that is indicated in each review's filename (which is of the form `<[id]_[rating].txt>` where `[id]` is a unique identifier and `[rating]` is on a scale of 1-10; note that neutral reviews > 4 or < 7 have been excluded). How would you modify the notebook to perform regression on the review ratings? In what situations is regression more useful than classification, and vice-versa?\n",
        "\n",
        "Whatever direction you take, make sure to share your results and learnings with your peers, through blogs, discussions and participating in online competitions. This is also a great way to become more visible to potential employers!"
      ]
    },
    {
      "cell_type": "code",
      "execution_count": null,
      "metadata": {
        "id": "7SY8CwPDVWNN"
      },
      "outputs": [],
      "source": []
    }
  ],
  "metadata": {
    "accelerator": "GPU",
    "colab": {
      "provenance": []
    },
    "gpuClass": "standard",
    "kernelspec": {
      "display_name": "Python 3 (ipykernel)",
      "language": "python",
      "name": "python3"
    },
    "language_info": {
      "codemirror_mode": {
        "name": "ipython",
        "version": 3
      },
      "file_extension": ".py",
      "mimetype": "text/x-python",
      "name": "python",
      "nbconvert_exporter": "python",
      "pygments_lexer": "ipython3",
      "version": "3.8.13"
    }
  },
  "nbformat": 4,
  "nbformat_minor": 0
}