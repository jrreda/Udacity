{
 "cells": [
  {
   "cell_type": "markdown",
   "metadata": {},
   "source": [
    "# Text Processing\n",
    "\n",
    "## Capturing Text Data\n",
    "\n",
    "### Plain Text"
   ]
  },
  {
   "cell_type": "code",
   "execution_count": 1,
   "metadata": {},
   "outputs": [
    {
     "name": "stdout",
     "output_type": "stream",
     "text": [
      "Hieroglyphic writing dates from c. 3000 BC, and is composed of hundreds of symbols. A hieroglyph can represent a word, a sound, or a silent determinative; and the same symbol can serve different purposes in different contexts. Hieroglyphs were a formal script, used on stone monuments and in tombs, that could be as detailed as individual works of art.\n",
      "\n"
     ]
    }
   ],
   "source": [
    "import os\n",
    "\n",
    "# Read in a plain text file\n",
    "with open(os.path.join(\"data\", \"hieroglyph.txt\"), \"r\") as f:\n",
    "    text = f.read()\n",
    "    print(text)"
   ]
  },
  {
   "cell_type": "markdown",
   "metadata": {
    "jp-MarkdownHeadingCollapsed": true,
    "tags": []
   },
   "source": [
    "### Tabular Data"
   ]
  },
  {
   "cell_type": "code",
   "execution_count": 3,
   "metadata": {
    "scrolled": true
   },
   "outputs": [
    {
     "data": {
      "text/html": [
       "<div>\n",
       "<style scoped>\n",
       "    .dataframe tbody tr th:only-of-type {\n",
       "        vertical-align: middle;\n",
       "    }\n",
       "\n",
       "    .dataframe tbody tr th {\n",
       "        vertical-align: top;\n",
       "    }\n",
       "\n",
       "    .dataframe thead th {\n",
       "        text-align: right;\n",
       "    }\n",
       "</style>\n",
       "<table border=\"1\" class=\"dataframe\">\n",
       "  <thead>\n",
       "    <tr style=\"text-align: right;\">\n",
       "      <th></th>\n",
       "      <th>publisher</th>\n",
       "      <th>title</th>\n",
       "    </tr>\n",
       "  </thead>\n",
       "  <tbody>\n",
       "    <tr>\n",
       "      <th>0</th>\n",
       "      <td>Livemint</td>\n",
       "      <td>Fed's Charles Plosser sees high bar for change...</td>\n",
       "    </tr>\n",
       "    <tr>\n",
       "      <th>1</th>\n",
       "      <td>IFA Magazine</td>\n",
       "      <td>US open: Stocks fall after Fed official hints ...</td>\n",
       "    </tr>\n",
       "    <tr>\n",
       "      <th>2</th>\n",
       "      <td>IFA Magazine</td>\n",
       "      <td>Fed risks falling 'behind the curve', Charles ...</td>\n",
       "    </tr>\n",
       "    <tr>\n",
       "      <th>3</th>\n",
       "      <td>Moneynews</td>\n",
       "      <td>Fed's Plosser: Nasty Weather Has Curbed Job Gr...</td>\n",
       "    </tr>\n",
       "    <tr>\n",
       "      <th>4</th>\n",
       "      <td>NASDAQ</td>\n",
       "      <td>Plosser: Fed May Have to Accelerate Tapering Pace</td>\n",
       "    </tr>\n",
       "  </tbody>\n",
       "</table>\n",
       "</div>"
      ],
      "text/plain": [
       "      publisher                                              title\n",
       "0      Livemint  Fed's Charles Plosser sees high bar for change...\n",
       "1  IFA Magazine  US open: Stocks fall after Fed official hints ...\n",
       "2  IFA Magazine  Fed risks falling 'behind the curve', Charles ...\n",
       "3     Moneynews  Fed's Plosser: Nasty Weather Has Curbed Job Gr...\n",
       "4        NASDAQ  Plosser: Fed May Have to Accelerate Tapering Pace"
      ]
     },
     "execution_count": 3,
     "metadata": {},
     "output_type": "execute_result"
    }
   ],
   "source": [
    "import pandas as pd\n",
    "\n",
    "# Extract text column from a dataframe\n",
    "df = pd.read_csv(os.path.join(\"data\", \"news.csv\"))\n",
    "df.head()[['publisher', 'title']]"
   ]
  },
  {
   "cell_type": "code",
   "execution_count": 4,
   "metadata": {},
   "outputs": [
    {
     "data": {
      "text/html": [
       "<div>\n",
       "<style scoped>\n",
       "    .dataframe tbody tr th:only-of-type {\n",
       "        vertical-align: middle;\n",
       "    }\n",
       "\n",
       "    .dataframe tbody tr th {\n",
       "        vertical-align: top;\n",
       "    }\n",
       "\n",
       "    .dataframe thead th {\n",
       "        text-align: right;\n",
       "    }\n",
       "</style>\n",
       "<table border=\"1\" class=\"dataframe\">\n",
       "  <thead>\n",
       "    <tr style=\"text-align: right;\">\n",
       "      <th></th>\n",
       "      <th>publisher</th>\n",
       "      <th>title</th>\n",
       "    </tr>\n",
       "  </thead>\n",
       "  <tbody>\n",
       "    <tr>\n",
       "      <th>0</th>\n",
       "      <td>Livemint</td>\n",
       "      <td>fed's charles plosser sees high bar for change...</td>\n",
       "    </tr>\n",
       "    <tr>\n",
       "      <th>1</th>\n",
       "      <td>IFA Magazine</td>\n",
       "      <td>us open: stocks fall after fed official hints ...</td>\n",
       "    </tr>\n",
       "    <tr>\n",
       "      <th>2</th>\n",
       "      <td>IFA Magazine</td>\n",
       "      <td>fed risks falling 'behind the curve', charles ...</td>\n",
       "    </tr>\n",
       "    <tr>\n",
       "      <th>3</th>\n",
       "      <td>Moneynews</td>\n",
       "      <td>fed's plosser: nasty weather has curbed job gr...</td>\n",
       "    </tr>\n",
       "    <tr>\n",
       "      <th>4</th>\n",
       "      <td>NASDAQ</td>\n",
       "      <td>plosser: fed may have to accelerate tapering pace</td>\n",
       "    </tr>\n",
       "  </tbody>\n",
       "</table>\n",
       "</div>"
      ],
      "text/plain": [
       "      publisher                                              title\n",
       "0      Livemint  fed's charles plosser sees high bar for change...\n",
       "1  IFA Magazine  us open: stocks fall after fed official hints ...\n",
       "2  IFA Magazine  fed risks falling 'behind the curve', charles ...\n",
       "3     Moneynews  fed's plosser: nasty weather has curbed job gr...\n",
       "4        NASDAQ  plosser: fed may have to accelerate tapering pace"
      ]
     },
     "execution_count": 4,
     "metadata": {},
     "output_type": "execute_result"
    }
   ],
   "source": [
    "# Convert text column to lowercase\n",
    "df['title'] = df['title'].str.lower()\n",
    "df.head()[['publisher', 'title']]"
   ]
  },
  {
   "cell_type": "markdown",
   "metadata": {
    "jp-MarkdownHeadingCollapsed": true,
    "tags": []
   },
   "source": [
    "### Online Resource"
   ]
  },
  {
   "cell_type": "code",
   "execution_count": 55,
   "metadata": {
    "scrolled": true,
    "tags": []
   },
   "outputs": [
    {
     "name": "stdout",
     "output_type": "stream",
     "text": [
      "{\n",
      "    \"success\": {\n",
      "        \"total\": 1\n",
      "    },\n",
      "    \"contents\": {\n",
      "        \"quotes\": [\n",
      "            {\n",
      "                \"quote\": \"Meaning is something you build into your life. You build it out of your own past, out of your affections and loyalties, out of the experience of humankind as it is passed on to you... You are the only one who can put them together into that unique pattern that will be your life.\",\n",
      "                \"length\": \"281\",\n",
      "                \"author\": \"John Gardner\",\n",
      "                \"tags\": [\n",
      "                    \"existence\",\n",
      "                    \"inspire\",\n",
      "                    \"life\",\n",
      "                    \"meaning\"\n",
      "                ],\n",
      "                \"category\": \"inspire\",\n",
      "                \"language\": \"en\",\n",
      "                \"date\": \"2022-11-10\",\n",
      "                \"permalink\": \"https://theysaidso.com/quote/john-gardner-meaning-is-something-you-build-into-your-life-you-build-it-out-of-y\",\n",
      "                \"id\": \"0dnJB1FQHoDklJmvdpIseQeF\",\n",
      "                \"background\": \"https://theysaidso.com/img/qod/qod-inspire.jpg\",\n",
      "                \"title\": \"Inspiring Quote of the day\"\n",
      "            }\n",
      "        ]\n",
      "    },\n",
      "    \"baseurl\": \"https://theysaidso.com\",\n",
      "    \"copyright\": {\n",
      "        \"year\": 2024,\n",
      "        \"url\": \"https://theysaidso.com\"\n",
      "    }\n",
      "}\n",
      "Meaning is something you build into your life. You build it out of your own past, out of your affections and loyalties, out of the experience of humankind as it is passed on to you... You are the only one who can put them together into that unique pattern that will be your life. \n",
      "-- John Gardner\n"
     ]
    }
   ],
   "source": [
    "import requests\n",
    "import json\n",
    "\n",
    "# Fetch data from a REST API\n",
    "r = requests.get(\"https://quotes.rest/qod\")\n",
    "res = r.json()\n",
    "print(json.dumps(res, indent=4))\n",
    "\n",
    "# # Extract relevant object and field\n",
    "q = res[\"contents\"][\"quotes\"][0]\n",
    "print(q[\"quote\"], \"\\n--\", q[\"author\"])"
   ]
  },
  {
   "cell_type": "markdown",
   "metadata": {
    "tags": []
   },
   "source": [
    "## Cleaning"
   ]
  },
  {
   "cell_type": "code",
   "execution_count": 8,
   "metadata": {
    "scrolled": true
   },
   "outputs": [
    {
     "name": "stdout",
     "output_type": "stream",
     "text": [
      "<html lang=\"en\" op=\"news\"><head><meta name=\"referrer\" content=\"origin\"><meta name=\"viewport\" content=\"width=device-width, initial-scale=1.0\"><link rel=\"stylesheet\" type=\"text/css\" href=\"news.css?lFptM7dDr42IpbRL3a4e\">\n",
      "        <link rel=\"shortcut icon\" href=\"favicon.ico\">\n",
      "          <link rel=\"alternate\" type=\"application/rss+xml\" title=\"RSS\" href=\"rss\">\n",
      "        <title>Hacker News</title></head><body><center><table id=\"hnmain\" border=\"0\" cellpadding=\"0\" cellspacing=\"0\" width=\"85%\" bgcolor=\"#f6f6ef\">\n",
      "        <tr><td bgcolor=\"#ff6600\"><table border=\"0\" cellpadding=\"0\" cellspacing=\"0\" width=\"100%\" style=\"padding:2px\"><tr><td style=\"width:18px;padding-right:4px\"><a href=\"https://news.ycombinator.com\"><img src=\"y18.gif\" width=\"18\" height=\"18\" style=\"border:1px white solid;\"></a></td>\n",
      "                  <td style=\"line-height:12pt; height:10px;\"><span class=\"pagetop\"><b class=\"hnname\"><a href=\"news\">Hacker News</a></b>\n",
      "                            <a href=\"newest\">new</a> | <a href=\"front\">past</a> | <a href=\"newcomments\">comments</a> | <a href=\"ask\">ask</a> | <a href=\"show\">show</a> | <a href=\"jobs\">jobs</a> | <a href=\"submit\">submit</a>            </span></td><td style=\"text-align:right;padding-right:4px;\"><span class=\"pagetop\">\n",
      "                              <a href=\"login?goto=news\">login</a>\n",
      "                          </span></td>\n",
      "              </tr></table></td></tr>\n",
      "<tr id=\"pagespace\" title=\"\" style=\"height:10px\"></tr><tr><td><table border=\"0\" cellpadding=\"0\" cellspacing=\"0\" class=\"itemlist\">\n",
      "              <tr class='athing' id='33544883'>\n",
      "      <td align=\"right\" valign=\"top\" class=\"title\"><span class=\"rank\">1.</span></td>      <td valign=\"top\" class=\"votelinks\"><center><a id='up_33544883'href='vote?id=33544883&amp;how=up&amp;goto=news'><div class='votearrow' title='upvote'></div></a></center></td><td class=\"title\"><span class=\"titleline\"><a href=\"https://bugs.xdavidhu.me/google/2022/11/10/accidental-70k-google-pixel-lock-screen-bypass/\">Accidental $70k Google Pixel Lock Screen Bypass</a><span class=\"sitebit comhead\"> (<a href=\"from?site=xdavidhu.me\"><span class=\"sitestr\">xdavidhu.me</span></a>)</span></span></td></tr><tr><td colspan=\"2\"></td><td class=\"subtext\"><span class=\"subline\">\n",
      "          <span class=\"score\" id=\"score_33544883\">120 points</span> by <a href=\"user?id=BXWPU\" class=\"hnuser\">BXWPU</a> <span class=\"age\" title=\"2022-11-10T11:11:26\"><a href=\"item?id=33544883\">57 minutes ago</a></span> <span id=\"unv_33544883\"></span> | <a href=\"hide?id=33544883&amp;goto=news\">hide</a> | <a href=\"item?id=33544883\">21&nbsp;comments</a>        </span>\n",
      "              </td></tr>\n",
      "      <tr class=\"spacer\" style=\"height:5px\"></tr>\n",
      "                <tr class='athing' id='33543946'>\n",
      "      <td align=\"right\" valign=\"top\" class=\"title\"><span class=\"rank\">2.</span></td>      <td valign=\"top\" class=\"votelinks\"><center><a id='up_33543946'href='vote?id=33543946&amp;how=up&amp;goto=news'><div class='votearrow' title='upvote'></div></a></center></td><td class=\"title\"><span class=\"titleline\"><a href=\"https://githubnext.com/projects/hey-github/\">GitHub is planning Voice to Code</a><span class=\"sitebit comhead\"> (<a href=\"from?site=githubnext.com\"><span class=\"sitestr\">githubnext.com</span></a>)</span></span></td></tr><tr><td colspan=\"2\"></td><td class=\"subtext\"><span class=\"subline\">\n",
      "          <span class=\"score\" id=\"score_33543946\">163 points</span> by <a href=\"user?id=rcshubhadeep\" class=\"hnuser\">rcshubhadeep</a> <span class=\"age\" title=\"2022-11-10T09:00:44\"><a href=\"item?id=33543946\">3 hours ago</a></span> <span id=\"unv_33543946\"></span> | <a href=\"hide?id=33543946&amp;goto=news\">hide</a> | <a href=\"item?id=33543946\">170&nbsp;comments</a>        </span>\n",
      "              </td></tr>\n",
      "      <tr class=\"spacer\" style=\"height:5px\"></tr>\n",
      "                <tr class='athing' id='33539192'>\n",
      "      <td align=\"right\" valign=\"top\" class=\"title\"><span class=\"rank\">3.</span></td>      <td valign=\"top\" class=\"votelinks\"><center><a id='up_33539192'href='vote?id=33539192&amp;how=up&amp;goto=news'><div class='votearrow' title='upvote'></div></a></center></td><td class=\"title\"><span class=\"titleline\"><a href=\"https://liuliu.me/eyes/stretch-iphone-to-its-limit-a-2gib-model-that-can-draw-everything-in-your-pocket/\">Stretch iPhone to its limit: 2GiB Stable Diffusion model runs locally on device</a><span class=\"sitebit comhead\"> (<a href=\"from?site=liuliu.me\"><span class=\"sitestr\">liuliu.me</span></a>)</span></span></td></tr><tr><td colspan=\"2\"></td><td class=\"subtext\"><span class=\"subline\">\n",
      "          <span class=\"score\" id=\"score_33539192\">631 points</span> by <a href=\"user?id=GrantS\" class=\"hnuser\">GrantS</a> <span class=\"age\" title=\"2022-11-09T22:45:48\"><a href=\"item?id=33539192\">13 hours ago</a></span> <span id=\"unv_33539192\"></span> | <a href=\"hide?id=33539192&amp;goto=news\">hide</a> | <a href=\"item?id=33539192\">131&nbsp;comments</a>        </span>\n",
      "              </td></tr>\n",
      "      <tr class=\"spacer\" style=\"height:5px\"></tr>\n",
      "                <tr class='athing' id='33544230'>\n",
      "      <td align=\"right\" valign=\"top\" class=\"title\"><span class=\"rank\">4.</span></td>      <td valign=\"top\" class=\"votelinks\"><center><a id='up_33544230'href='vote?id=33544230&amp;how=up&amp;goto=news'><div class='votearrow' title='upvote'></div></a></center></td><td class=\"title\"><span class=\"titleline\"><a href=\"https://entrackr.com/2022/11/exclusive-indian-isps-we-already-give-govt-full-access-to-web-traffic/\">Indian ISPs: We already give govt full access to web traffic</a><span class=\"sitebit comhead\"> (<a href=\"from?site=entrackr.com\"><span class=\"sitestr\">entrackr.com</span></a>)</span></span></td></tr><tr><td colspan=\"2\"></td><td class=\"subtext\"><span class=\"subline\">\n",
      "          <span class=\"score\" id=\"score_33544230\">112 points</span> by <a href=\"user?id=instagraham\" class=\"hnuser\">instagraham</a> <span class=\"age\" title=\"2022-11-10T09:40:32\"><a href=\"item?id=33544230\">2 hours ago</a></span> <span id=\"unv_33544230\"></span> | <a href=\"hide?id=33544230&amp;goto=news\">hide</a> | <a href=\"item?id=33544230\">34&nbsp;comments</a>        </span>\n",
      "              </td></tr>\n",
      "      <tr class=\"spacer\" style=\"height:5px\"></tr>\n",
      "                <tr class='athing' id='33540293'>\n",
      "      <td align=\"right\" valign=\"top\" class=\"title\"><span class=\"rank\">5.</span></td>      <td valign=\"top\" class=\"votelinks\"><center><a id='up_33540293'href='vote?id=33540293&amp;how=up&amp;goto=news'><div class='votearrow' title='upvote'></div></a></center></td><td class=\"title\"><span class=\"titleline\"><a href=\"https://kitze.io/posts/github-stars-wont-pay-your-rent\">GitHub stars won't pay your rent (2020)</a><span class=\"sitebit comhead\"> (<a href=\"from?site=kitze.io\"><span class=\"sitestr\">kitze.io</span></a>)</span></span></td></tr><tr><td colspan=\"2\"></td><td class=\"subtext\"><span class=\"subline\">\n",
      "          <span class=\"score\" id=\"score_33540293\">296 points</span> by <a href=\"user?id=satvikpendem\" class=\"hnuser\">satvikpendem</a> <span class=\"age\" title=\"2022-11-10T00:18:07\"><a href=\"item?id=33540293\">11 hours ago</a></span> <span id=\"unv_33540293\"></span> | <a href=\"hide?id=33540293&amp;goto=news\">hide</a> | <a href=\"item?id=33540293\">192&nbsp;comments</a>        </span>\n",
      "              </td></tr>\n",
      "      <tr class=\"spacer\" style=\"height:5px\"></tr>\n",
      "                <tr class='athing' id='33545215'>\n",
      "      <td align=\"right\" valign=\"top\" class=\"title\"><span class=\"rank\">6.</span></td>      <td></td><td class=\"title\"><span class=\"titleline\"><a href=\"https://www.ycombinator.com/companies/kamion/jobs/pHwM0r2-software-engineer-frontend\" rel=\"nofollow\">Kamion (YC S22) Is Hiring</a><span class=\"sitebit comhead\"> (<a href=\"from?site=ycombinator.com\"><span class=\"sitestr\">ycombinator.com</span></a>)</span></span></td></tr><tr><td colspan=\"2\"></td><td class=\"subtext\">\n",
      "        <span class=\"age\" title=\"2022-11-10T12:00:35\"><a href=\"item?id=33545215\">8 minutes ago</a></span> | <a href=\"hide?id=33545215&amp;goto=news\">hide</a>      </td></tr>\n",
      "      <tr class=\"spacer\" style=\"height:5px\"></tr>\n",
      "                <tr class='athing' id='33526325'>\n",
      "      <td align=\"right\" valign=\"top\" class=\"title\"><span class=\"rank\">7.</span></td>      <td valign=\"top\" class=\"votelinks\"><center><a id='up_33526325'href='vote?id=33526325&amp;how=up&amp;goto=news'><div class='votearrow' title='upvote'></div></a></center></td><td class=\"title\"><span class=\"titleline\"><a href=\"https://www.priceintelligently.com/hubfs/Price-Intelligently-SaaS-Pricing-Strategy.pdf\">The Anatomy of SaaS Pricing Strategy (2017) [pdf]</a><span class=\"sitebit comhead\"> (<a href=\"from?site=priceintelligently.com\"><span class=\"sitestr\">priceintelligently.com</span></a>)</span></span></td></tr><tr><td colspan=\"2\"></td><td class=\"subtext\"><span class=\"subline\">\n",
      "          <span class=\"score\" id=\"score_33526325\">26 points</span> by <a href=\"user?id=rfreytag\" class=\"hnuser\">rfreytag</a> <span class=\"age\" title=\"2022-11-09T00:59:31\"><a href=\"item?id=33526325\">3 hours ago</a></span> <span id=\"unv_33526325\"></span> | <a href=\"hide?id=33526325&amp;goto=news\">hide</a> | <a href=\"item?id=33526325\">2&nbsp;comments</a>        </span>\n",
      "              </td></tr>\n",
      "      <tr class=\"spacer\" style=\"height:5px\"></tr>\n",
      "                <tr class='athing' id='33523032'>\n",
      "      <td align=\"right\" valign=\"top\" class=\"title\"><span class=\"rank\">8.</span></td>      <td valign=\"top\" class=\"votelinks\"><center><a id='up_33523032'href='vote?id=33523032&amp;how=up&amp;goto=news'><div class='votearrow' title='upvote'></div></a></center></td><td class=\"title\"><span class=\"titleline\"><a href=\"https://www.bennadel.com/blog/4352-only-solve-one-new-problem-at-a-time.htm\">Only Solve One Problem at a Time</a><span class=\"sitebit comhead\"> (<a href=\"from?site=bennadel.com\"><span class=\"sitestr\">bennadel.com</span></a>)</span></span></td></tr><tr><td colspan=\"2\"></td><td class=\"subtext\"><span class=\"subline\">\n",
      "          <span class=\"score\" id=\"score_33523032\">14 points</span> by <a href=\"user?id=rmason\" class=\"hnuser\">rmason</a> <span class=\"age\" title=\"2022-11-08T19:16:20\"><a href=\"item?id=33523032\">2 hours ago</a></span> <span id=\"unv_33523032\"></span> | <a href=\"hide?id=33523032&amp;goto=news\">hide</a> | <a href=\"item?id=33523032\">4&nbsp;comments</a>        </span>\n",
      "              </td></tr>\n",
      "      <tr class=\"spacer\" style=\"height:5px\"></tr>\n",
      "                <tr class='athing' id='33544855'>\n",
      "      <td align=\"right\" valign=\"top\" class=\"title\"><span class=\"rank\">9.</span></td>      <td valign=\"top\" class=\"votelinks\"><center><a id='up_33544855'href='vote?id=33544855&amp;how=up&amp;goto=news'><div class='votearrow' title='upvote'></div></a></center></td><td class=\"title\"><span class=\"titleline\"><a href=\"item?id=33544855\">What will be the second order effects widespread AI?</a></span></td></tr><tr><td colspan=\"2\"></td><td class=\"subtext\"><span class=\"subline\">\n",
      "          <span class=\"score\" id=\"score_33544855\">13 points</span> by <a href=\"user?id=pratap103\" class=\"hnuser\">pratap103</a> <span class=\"age\" title=\"2022-11-10T11:07:11\"><a href=\"item?id=33544855\">1 hour ago</a></span> <span id=\"unv_33544855\"></span> | <a href=\"hide?id=33544855&amp;goto=news\">hide</a> | <a href=\"item?id=33544855\">20&nbsp;comments</a>        </span>\n",
      "              </td></tr>\n",
      "      <tr class=\"spacer\" style=\"height:5px\"></tr>\n",
      "                <tr class='athing' id='33524330'>\n",
      "      <td align=\"right\" valign=\"top\" class=\"title\"><span class=\"rank\">10.</span></td>      <td valign=\"top\" class=\"votelinks\"><center><a id='up_33524330'href='vote?id=33524330&amp;how=up&amp;goto=news'><div class='votearrow' title='upvote'></div></a></center></td><td class=\"title\"><span class=\"titleline\"><a href=\"https://www.youtube.com/watch?v=6ywODcJ8yu8\">Cameras on phones? (2001) [video]</a><span class=\"sitebit comhead\"> (<a href=\"from?site=youtube.com\"><span class=\"sitestr\">youtube.com</span></a>)</span></span></td></tr><tr><td colspan=\"2\"></td><td class=\"subtext\"><span class=\"subline\">\n",
      "          <span class=\"score\" id=\"score_33524330\">94 points</span> by <a href=\"user?id=vanilla-almond\" class=\"hnuser\">vanilla-almond</a> <span class=\"age\" title=\"2022-11-08T21:09:27\"><a href=\"item?id=33524330\">9 hours ago</a></span> <span id=\"unv_33524330\"></span> | <a href=\"hide?id=33524330&amp;goto=news\">hide</a> | <a href=\"item?id=33524330\">45&nbsp;comments</a>        </span>\n",
      "              </td></tr>\n",
      "      <tr class=\"spacer\" style=\"height:5px\"></tr>\n",
      "                <tr class='athing' id='33523736'>\n",
      "      <td align=\"right\" valign=\"top\" class=\"title\"><span class=\"rank\">11.</span></td>      <td valign=\"top\" class=\"votelinks\"><center><a id='up_33523736'href='vote?id=33523736&amp;how=up&amp;goto=news'><div class='votearrow' title='upvote'></div></a></center></td><td class=\"title\"><span class=\"titleline\"><a href=\"https://phys.org/news/2022-11-discovery-bronzes-rewrites-italy-etruscan-roman.html\">Discovery of bronzes rewrites Italy's Etruscan-Roman history</a><span class=\"sitebit comhead\"> (<a href=\"from?site=phys.org\"><span class=\"sitestr\">phys.org</span></a>)</span></span></td></tr><tr><td colspan=\"2\"></td><td class=\"subtext\"><span class=\"subline\">\n",
      "          <span class=\"score\" id=\"score_33523736\">47 points</span> by <a href=\"user?id=benbreen\" class=\"hnuser\">benbreen</a> <span class=\"age\" title=\"2022-11-08T20:18:27\"><a href=\"item?id=33523736\">6 hours ago</a></span> <span id=\"unv_33523736\"></span> | <a href=\"hide?id=33523736&amp;goto=news\">hide</a> | <a href=\"item?id=33523736\">13&nbsp;comments</a>        </span>\n",
      "              </td></tr>\n",
      "      <tr class=\"spacer\" style=\"height:5px\"></tr>\n",
      "                <tr class='athing' id='33524556'>\n",
      "      <td align=\"right\" valign=\"top\" class=\"title\"><span class=\"rank\">12.</span></td>      <td valign=\"top\" class=\"votelinks\"><center><a id='up_33524556'href='vote?id=33524556&amp;how=up&amp;goto=news'><div class='votearrow' title='upvote'></div></a></center></td><td class=\"title\"><span class=\"titleline\"><a href=\"https://globalnews.ca/news/9224267/cia-master-of-disguise-helps-disfigured-people/\">Former CIA master of disguise helps disfigured people come out of hiding</a><span class=\"sitebit comhead\"> (<a href=\"from?site=globalnews.ca\"><span class=\"sitestr\">globalnews.ca</span></a>)</span></span></td></tr><tr><td colspan=\"2\"></td><td class=\"subtext\"><span class=\"subline\">\n",
      "          <span class=\"score\" id=\"score_33524556\">290 points</span> by <a href=\"user?id=gmays\" class=\"hnuser\">gmays</a> <span class=\"age\" title=\"2022-11-08T21:28:19\"><a href=\"item?id=33524556\">15 hours ago</a></span> <span id=\"unv_33524556\"></span> | <a href=\"hide?id=33524556&amp;goto=news\">hide</a> | <a href=\"item?id=33524556\">35&nbsp;comments</a>        </span>\n",
      "              </td></tr>\n",
      "      <tr class=\"spacer\" style=\"height:5px\"></tr>\n",
      "                <tr class='athing' id='33542171'>\n",
      "      <td align=\"right\" valign=\"top\" class=\"title\"><span class=\"rank\">13.</span></td>      <td valign=\"top\" class=\"votelinks\"><center><a id='up_33542171'href='vote?id=33542171&amp;how=up&amp;goto=news'><div class='votearrow' title='upvote'></div></a></center></td><td class=\"title\"><span class=\"titleline\"><a href=\"https://openenergymonitor.org/\">OpenEnergyMonitor – open-source monitoring for energy</a><span class=\"sitebit comhead\"> (<a href=\"from?site=openenergymonitor.org\"><span class=\"sitestr\">openenergymonitor.org</span></a>)</span></span></td></tr><tr><td colspan=\"2\"></td><td class=\"subtext\"><span class=\"subline\">\n",
      "          <span class=\"score\" id=\"score_33542171\">62 points</span> by <a href=\"user?id=pabs3\" class=\"hnuser\">pabs3</a> <span class=\"age\" title=\"2022-11-10T04:23:27\"><a href=\"item?id=33542171\">7 hours ago</a></span> <span id=\"unv_33542171\"></span> | <a href=\"hide?id=33542171&amp;goto=news\">hide</a> | <a href=\"item?id=33542171\">13&nbsp;comments</a>        </span>\n",
      "              </td></tr>\n",
      "      <tr class=\"spacer\" style=\"height:5px\"></tr>\n",
      "                <tr class='athing' id='33500447'>\n",
      "      <td align=\"right\" valign=\"top\" class=\"title\"><span class=\"rank\">14.</span></td>      <td valign=\"top\" class=\"votelinks\"><center><a id='up_33500447'href='vote?id=33500447&amp;how=up&amp;goto=news'><div class='votearrow' title='upvote'></div></a></center></td><td class=\"title\"><span class=\"titleline\"><a href=\"https://www.wsj.com/articles/tiktoks-stratospheric-rise-an-oral-history-11667599696\">TikTok’s stratospheric rise: An oral history</a><span class=\"sitebit comhead\"> (<a href=\"from?site=wsj.com\"><span class=\"sitestr\">wsj.com</span></a>)</span></span></td></tr><tr><td colspan=\"2\"></td><td class=\"subtext\"><span class=\"subline\">\n",
      "          <span class=\"score\" id=\"score_33500447\">54 points</span> by <a href=\"user?id=wallflower\" class=\"hnuser\">wallflower</a> <span class=\"age\" title=\"2022-11-07T02:39:25\"><a href=\"item?id=33500447\">7 hours ago</a></span> <span id=\"unv_33500447\"></span> | <a href=\"hide?id=33500447&amp;goto=news\">hide</a> | <a href=\"item?id=33500447\">41&nbsp;comments</a>        </span>\n",
      "              </td></tr>\n",
      "      <tr class=\"spacer\" style=\"height:5px\"></tr>\n",
      "                <tr class='athing' id='33536978'>\n",
      "      <td align=\"right\" valign=\"top\" class=\"title\"><span class=\"rank\">15.</span></td>      <td valign=\"top\" class=\"votelinks\"><center><a id='up_33536978'href='vote?id=33536978&amp;how=up&amp;goto=news'><div class='votearrow' title='upvote'></div></a></center></td><td class=\"title\"><span class=\"titleline\"><a href=\"https://podman-desktop.io\">Podman Desktop: A Free OSS Alternative to Docker Desktop</a><span class=\"sitebit comhead\"> (<a href=\"from?site=podman-desktop.io\"><span class=\"sitestr\">podman-desktop.io</span></a>)</span></span></td></tr><tr><td colspan=\"2\"></td><td class=\"subtext\"><span class=\"subline\">\n",
      "          <span class=\"score\" id=\"score_33536978\">691 points</span> by <a href=\"user?id=twelvenmonkeys\" class=\"hnuser\">twelvenmonkeys</a> <span class=\"age\" title=\"2022-11-09T19:55:40\"><a href=\"item?id=33536978\">16 hours ago</a></span> <span id=\"unv_33536978\"></span> | <a href=\"hide?id=33536978&amp;goto=news\">hide</a> | <a href=\"item?id=33536978\">163&nbsp;comments</a>        </span>\n",
      "              </td></tr>\n",
      "      <tr class=\"spacer\" style=\"height:5px\"></tr>\n",
      "                <tr class='athing' id='33543033'>\n",
      "      <td align=\"right\" valign=\"top\" class=\"title\"><span class=\"rank\">16.</span></td>      <td valign=\"top\" class=\"votelinks\"><center><a id='up_33543033'href='vote?id=33543033&amp;how=up&amp;goto=news'><div class='votearrow' title='upvote'></div></a></center></td><td class=\"title\"><span class=\"titleline\"><a href=\"https://www.businessinsider.in/business/corporates/news/zoho-becomes-a-1-billion-company-in-revenues/articleshow/95382381.cms\">Zoho's annual revenues surpassed $1B in 2021</a><span class=\"sitebit comhead\"> (<a href=\"from?site=businessinsider.in\"><span class=\"sitestr\">businessinsider.in</span></a>)</span></span></td></tr><tr><td colspan=\"2\"></td><td class=\"subtext\"><span class=\"subline\">\n",
      "          <span class=\"score\" id=\"score_33543033\">134 points</span> by <a href=\"user?id=Brajeshwar\" class=\"hnuser\">Brajeshwar</a> <span class=\"age\" title=\"2022-11-10T06:36:42\"><a href=\"item?id=33543033\">5 hours ago</a></span> <span id=\"unv_33543033\"></span> | <a href=\"hide?id=33543033&amp;goto=news\">hide</a> | <a href=\"item?id=33543033\">60&nbsp;comments</a>        </span>\n",
      "              </td></tr>\n",
      "      <tr class=\"spacer\" style=\"height:5px\"></tr>\n",
      "                <tr class='athing' id='33539777'>\n",
      "      <td align=\"right\" valign=\"top\" class=\"title\"><span class=\"rank\">17.</span></td>      <td valign=\"top\" class=\"votelinks\"><center><a id='up_33539777'href='vote?id=33539777&amp;how=up&amp;goto=news'><div class='votearrow' title='upvote'></div></a></center></td><td class=\"title\"><span class=\"titleline\"><a href=\"https://thecritic.co.uk/issues/november-2022/remembering-an-effervescently-affable-man/\">Kurt Vonnegut at 100</a><span class=\"sitebit comhead\"> (<a href=\"from?site=thecritic.co.uk\"><span class=\"sitestr\">thecritic.co.uk</span></a>)</span></span></td></tr><tr><td colspan=\"2\"></td><td class=\"subtext\"><span class=\"subline\">\n",
      "          <span class=\"score\" id=\"score_33539777\">103 points</span> by <a href=\"user?id=Caiero\" class=\"hnuser\">Caiero</a> <span class=\"age\" title=\"2022-11-09T23:37:34\"><a href=\"item?id=33539777\">12 hours ago</a></span> <span id=\"unv_33539777\"></span> | <a href=\"hide?id=33539777&amp;goto=news\">hide</a> | <a href=\"item?id=33539777\">40&nbsp;comments</a>        </span>\n",
      "              </td></tr>\n",
      "      <tr class=\"spacer\" style=\"height:5px\"></tr>\n",
      "                <tr class='athing' id='33520414'>\n",
      "      <td align=\"right\" valign=\"top\" class=\"title\"><span class=\"rank\">18.</span></td>      <td valign=\"top\" class=\"votelinks\"><center><a id='up_33520414'href='vote?id=33520414&amp;how=up&amp;goto=news'><div class='votearrow' title='upvote'></div></a></center></td><td class=\"title\"><span class=\"titleline\"><a href=\"https://medium.com/knowable/why-everything-looks-the-same-bad80133dd6e\">Why Everything Looks the Same</a><span class=\"sitebit comhead\"> (<a href=\"from?site=medium.com/knowable\"><span class=\"sitestr\">medium.com/knowable</span></a>)</span></span></td></tr><tr><td colspan=\"2\"></td><td class=\"subtext\"><span class=\"subline\">\n",
      "          <span class=\"score\" id=\"score_33520414\">55 points</span> by <a href=\"user?id=champagnepapi\" class=\"hnuser\">champagnepapi</a> <span class=\"age\" title=\"2022-11-08T16:00:00\"><a href=\"item?id=33520414\">4 hours ago</a></span> <span id=\"unv_33520414\"></span> | <a href=\"hide?id=33520414&amp;goto=news\">hide</a> | <a href=\"item?id=33520414\">53&nbsp;comments</a>        </span>\n",
      "              </td></tr>\n",
      "      <tr class=\"spacer\" style=\"height:5px\"></tr>\n",
      "                <tr class='athing' id='33522499'>\n",
      "      <td align=\"right\" valign=\"top\" class=\"title\"><span class=\"rank\">19.</span></td>      <td valign=\"top\" class=\"votelinks\"><center><a id='up_33522499'href='vote?id=33522499&amp;how=up&amp;goto=news'><div class='votearrow' title='upvote'></div></a></center></td><td class=\"title\"><span class=\"titleline\"><a href=\"https://mvdirona.com/jrh/talksandpapers/JamesHamilton20221010.pdf\" rel=\"nofollow\">Silicon innovation and custom ASICs at Amazon [pdf]</a><span class=\"sitebit comhead\"> (<a href=\"from?site=mvdirona.com\"><span class=\"sitestr\">mvdirona.com</span></a>)</span></span></td></tr><tr><td colspan=\"2\"></td><td class=\"subtext\"><span class=\"subline\">\n",
      "          <span class=\"score\" id=\"score_33522499\">3 points</span> by <a href=\"user?id=mad44\" class=\"hnuser\">mad44</a> <span class=\"age\" title=\"2022-11-08T18:33:19\"><a href=\"item?id=33522499\">1 hour ago</a></span> <span id=\"unv_33522499\"></span> | <a href=\"hide?id=33522499&amp;goto=news\">hide</a> | <a href=\"item?id=33522499\">discuss</a>        </span>\n",
      "              </td></tr>\n",
      "      <tr class=\"spacer\" style=\"height:5px\"></tr>\n",
      "                <tr class='athing' id='33544893'>\n",
      "      <td align=\"right\" valign=\"top\" class=\"title\"><span class=\"rank\">20.</span></td>      <td valign=\"top\" class=\"votelinks\"><center><a id='up_33544893'href='vote?id=33544893&amp;how=up&amp;goto=news'><div class='votearrow' title='upvote'></div></a></center></td><td class=\"title\"><span class=\"titleline\"><a href=\"https://www.nytimes.com/2022/11/10/technology/big-tech-layoffs.html\">Tech’s Talent Wars Have Come Back to Bite It</a><span class=\"sitebit comhead\"> (<a href=\"from?site=nytimes.com\"><span class=\"sitestr\">nytimes.com</span></a>)</span></span></td></tr><tr><td colspan=\"2\"></td><td class=\"subtext\"><span class=\"subline\">\n",
      "          <span class=\"score\" id=\"score_33544893\">13 points</span> by <a href=\"user?id=bayraktar\" class=\"hnuser\">bayraktar</a> <span class=\"age\" title=\"2022-11-10T11:13:47\"><a href=\"item?id=33544893\">55 minutes ago</a></span> <span id=\"unv_33544893\"></span> | <a href=\"hide?id=33544893&amp;goto=news\">hide</a> | <a href=\"item?id=33544893\">4&nbsp;comments</a>        </span>\n",
      "              </td></tr>\n",
      "      <tr class=\"spacer\" style=\"height:5px\"></tr>\n",
      "                <tr class='athing' id='33543379'>\n",
      "      <td align=\"right\" valign=\"top\" class=\"title\"><span class=\"rank\">21.</span></td>      <td valign=\"top\" class=\"votelinks\"><center><a id='up_33543379'href='vote?id=33543379&amp;how=up&amp;goto=news'><div class='votearrow' title='upvote'></div></a></center></td><td class=\"title\"><span class=\"titleline\"><a href=\"https://www.hughrundle.net/home-invasion/\">Mastodon’s Eternal September Begins</a><span class=\"sitebit comhead\"> (<a href=\"from?site=hughrundle.net\"><span class=\"sitestr\">hughrundle.net</span></a>)</span></span></td></tr><tr><td colspan=\"2\"></td><td class=\"subtext\"><span class=\"subline\">\n",
      "          <span class=\"score\" id=\"score_33543379\">87 points</span> by <a href=\"user?id=robin_reala\" class=\"hnuser\">robin_reala</a> <span class=\"age\" title=\"2022-11-10T07:35:05\"><a href=\"item?id=33543379\">4 hours ago</a></span> <span id=\"unv_33543379\"></span> | <a href=\"hide?id=33543379&amp;goto=news\">hide</a> | <a href=\"item?id=33543379\">82&nbsp;comments</a>        </span>\n",
      "              </td></tr>\n",
      "      <tr class=\"spacer\" style=\"height:5px\"></tr>\n",
      "                <tr class='athing' id='33542130'>\n",
      "      <td align=\"right\" valign=\"top\" class=\"title\"><span class=\"rank\">22.</span></td>      <td valign=\"top\" class=\"votelinks\"><center><a id='up_33542130'href='vote?id=33542130&amp;how=up&amp;goto=news'><div class='votearrow' title='upvote'></div></a></center></td><td class=\"title\"><span class=\"titleline\"><a href=\"https://kevin-da-silva.medium.com/one-problem-five-solutions-zip-function-ad1ed3bd1f16\">Zip Function Solution: Haskell, Elixir, JavaScript, Python, Vlang</a><span class=\"sitebit comhead\"> (<a href=\"from?site=kevin-da-silva.medium.com\"><span class=\"sitestr\">kevin-da-silva.medium.com</span></a>)</span></span></td></tr><tr><td colspan=\"2\"></td><td class=\"subtext\"><span class=\"subline\">\n",
      "          <span class=\"score\" id=\"score_33542130\">35 points</span> by <a href=\"user?id=Tozen\" class=\"hnuser\">Tozen</a> <span class=\"age\" title=\"2022-11-10T04:17:16\"><a href=\"item?id=33542130\">7 hours ago</a></span> <span id=\"unv_33542130\"></span> | <a href=\"hide?id=33542130&amp;goto=news\">hide</a> | <a href=\"item?id=33542130\">36&nbsp;comments</a>        </span>\n",
      "              </td></tr>\n",
      "      <tr class=\"spacer\" style=\"height:5px\"></tr>\n",
      "                <tr class='athing' id='33537772'>\n",
      "      <td align=\"right\" valign=\"top\" class=\"title\"><span class=\"rank\">23.</span></td>      <td valign=\"top\" class=\"votelinks\"><center><a id='up_33537772'href='vote?id=33537772&amp;how=up&amp;goto=news'><div class='votearrow' title='upvote'></div></a></center></td><td class=\"title\"><span class=\"titleline\"><a href=\"https://new.pythonforengineers.com/blog/web-automation-dont-use-selenium-use-playwright/\">Web automation: Don't use Selenium, use Playwright</a><span class=\"sitebit comhead\"> (<a href=\"from?site=pythonforengineers.com\"><span class=\"sitestr\">pythonforengineers.com</span></a>)</span></span></td></tr><tr><td colspan=\"2\"></td><td class=\"subtext\"><span class=\"subline\">\n",
      "          <span class=\"score\" id=\"score_33537772\">347 points</span> by <a href=\"user?id=rekahrv\" class=\"hnuser\">rekahrv</a> <span class=\"age\" title=\"2022-11-09T21:01:43\"><a href=\"item?id=33537772\">15 hours ago</a></span> <span id=\"unv_33537772\"></span> | <a href=\"hide?id=33537772&amp;goto=news\">hide</a> | <a href=\"item?id=33537772\">139&nbsp;comments</a>        </span>\n",
      "              </td></tr>\n",
      "      <tr class=\"spacer\" style=\"height:5px\"></tr>\n",
      "                <tr class='athing' id='33533132'>\n",
      "      <td align=\"right\" valign=\"top\" class=\"title\"><span class=\"rank\">24.</span></td>      <td valign=\"top\" class=\"votelinks\"><center><a id='up_33533132'href='vote?id=33533132&amp;how=up&amp;goto=news'><div class='votearrow' title='upvote'></div></a></center></td><td class=\"title\"><span class=\"titleline\"><a href=\"https://dougallj.wordpress.com/2022/11/09/why-is-rosetta-2-fast/\">Why is Rosetta 2 fast?</a><span class=\"sitebit comhead\"> (<a href=\"from?site=dougallj.wordpress.com\"><span class=\"sitestr\">dougallj.wordpress.com</span></a>)</span></span></td></tr><tr><td colspan=\"2\"></td><td class=\"subtext\"><span class=\"subline\">\n",
      "          <span class=\"score\" id=\"score_33533132\">583 points</span> by <a href=\"user?id=pantalaimon\" class=\"hnuser\">pantalaimon</a> <span class=\"age\" title=\"2022-11-09T15:40:22\"><a href=\"item?id=33533132\">20 hours ago</a></span> <span id=\"unv_33533132\"></span> | <a href=\"hide?id=33533132&amp;goto=news\">hide</a> | <a href=\"item?id=33533132\">325&nbsp;comments</a>        </span>\n",
      "              </td></tr>\n",
      "      <tr class=\"spacer\" style=\"height:5px\"></tr>\n",
      "                <tr class='athing' id='33534856'>\n",
      "      <td align=\"right\" valign=\"top\" class=\"title\"><span class=\"rank\">25.</span></td>      <td valign=\"top\" class=\"votelinks\"><center><a id='up_33534856'href='vote?id=33534856&amp;how=up&amp;goto=news'><div class='votearrow' title='upvote'></div></a></center></td><td class=\"title\"><span class=\"titleline\"><a href=\"item?id=33534856\">Launch HN: Metlo (YC S21) – Open-source software for securing your APIs</a></span></td></tr><tr><td colspan=\"2\"></td><td class=\"subtext\"><span class=\"subline\">\n",
      "          <span class=\"score\" id=\"score_33534856\">115 points</span> by <a href=\"user?id=shrisukhani\" class=\"hnuser\">shrisukhani</a> <span class=\"age\" title=\"2022-11-09T17:25:39\"><a href=\"item?id=33534856\">16 hours ago</a></span> <span id=\"unv_33534856\"></span> | <a href=\"hide?id=33534856&amp;goto=news\">hide</a> | <a href=\"item?id=33534856\">31&nbsp;comments</a>        </span>\n",
      "              </td></tr>\n",
      "      <tr class=\"spacer\" style=\"height:5px\"></tr>\n",
      "                <tr class='athing' id='33521894'>\n",
      "      <td align=\"right\" valign=\"top\" class=\"title\"><span class=\"rank\">26.</span></td>      <td valign=\"top\" class=\"votelinks\"><center><a id='up_33521894'href='vote?id=33521894&amp;how=up&amp;goto=news'><div class='votearrow' title='upvote'></div></a></center></td><td class=\"title\"><span class=\"titleline\"><a href=\"https://www.citodata.com\">Show HN: Cito – Actionable data observability for data teams</a><span class=\"sitebit comhead\"> (<a href=\"from?site=citodata.com\"><span class=\"sitestr\">citodata.com</span></a>)</span></span></td></tr><tr><td colspan=\"2\"></td><td class=\"subtext\"><span class=\"subline\">\n",
      "          <span class=\"score\" id=\"score_33521894\">30 points</span> by <a href=\"user?id=clemenss\" class=\"hnuser\">clemenss</a> <span class=\"age\" title=\"2022-11-08T17:47:50\"><a href=\"item?id=33521894\">9 hours ago</a></span> <span id=\"unv_33521894\"></span> | <a href=\"hide?id=33521894&amp;goto=news\">hide</a> | <a href=\"item?id=33521894\">2&nbsp;comments</a>        </span>\n",
      "              </td></tr>\n",
      "      <tr class=\"spacer\" style=\"height:5px\"></tr>\n",
      "                <tr class='athing' id='33537821'>\n",
      "      <td align=\"right\" valign=\"top\" class=\"title\"><span class=\"rank\">27.</span></td>      <td valign=\"top\" class=\"votelinks\"><center><a id='up_33537821'href='vote?id=33537821&amp;how=up&amp;goto=news'><div class='votearrow' title='upvote'></div></a></center></td><td class=\"title\"><span class=\"titleline\"><a href=\"https://twitter.com/binance/status/1590449161069268992\">We will not pursue the potential acquisition of FTX</a><span class=\"sitebit comhead\"> (<a href=\"from?site=twitter.com/binance\"><span class=\"sitestr\">twitter.com/binance</span></a>)</span></span></td></tr><tr><td colspan=\"2\"></td><td class=\"subtext\"><span class=\"subline\">\n",
      "          <span class=\"score\" id=\"score_33537821\">465 points</span> by <a href=\"user?id=sbuccini\" class=\"hnuser\">sbuccini</a> <span class=\"age\" title=\"2022-11-09T21:06:45\"><a href=\"item?id=33537821\">15 hours ago</a></span> <span id=\"unv_33537821\"></span> | <a href=\"hide?id=33537821&amp;goto=news\">hide</a> | <a href=\"item?id=33537821\">378&nbsp;comments</a>        </span>\n",
      "              </td></tr>\n",
      "      <tr class=\"spacer\" style=\"height:5px\"></tr>\n",
      "                <tr class='athing' id='33534801'>\n",
      "      <td align=\"right\" valign=\"top\" class=\"title\"><span class=\"rank\">28.</span></td>      <td valign=\"top\" class=\"votelinks\"><center><a id='up_33534801'href='vote?id=33534801&amp;how=up&amp;goto=news'><div class='votearrow' title='upvote'></div></a></center></td><td class=\"title\"><span class=\"titleline\"><a href=\"https://blog.thunderbird.net/2022/11/thunderbird-supernova-preview-the-new-calendar-design/\">Thunderbird Supernova Preview: The New Calendar Design</a><span class=\"sitebit comhead\"> (<a href=\"from?site=thunderbird.net\"><span class=\"sitestr\">thunderbird.net</span></a>)</span></span></td></tr><tr><td colspan=\"2\"></td><td class=\"subtext\"><span class=\"subline\">\n",
      "          <span class=\"score\" id=\"score_33534801\">382 points</span> by <a href=\"user?id=HieronymusBosch\" class=\"hnuser\">HieronymusBosch</a> <span class=\"age\" title=\"2022-11-09T17:22:20\"><a href=\"item?id=33534801\">18 hours ago</a></span> <span id=\"unv_33534801\"></span> | <a href=\"hide?id=33534801&amp;goto=news\">hide</a> | <a href=\"item?id=33534801\">117&nbsp;comments</a>        </span>\n",
      "              </td></tr>\n",
      "      <tr class=\"spacer\" style=\"height:5px\"></tr>\n",
      "                <tr class='athing' id='33539549'>\n",
      "      <td align=\"right\" valign=\"top\" class=\"title\"><span class=\"rank\">29.</span></td>      <td valign=\"top\" class=\"votelinks\"><center><a id='up_33539549'href='vote?id=33539549&amp;how=up&amp;goto=news'><div class='votearrow' title='upvote'></div></a></center></td><td class=\"title\"><span class=\"titleline\"><a href=\"https://chrishannah.me/arc-browser/\">Thoughts on Arc Browser</a><span class=\"sitebit comhead\"> (<a href=\"from?site=chrishannah.me\"><span class=\"sitestr\">chrishannah.me</span></a>)</span></span></td></tr><tr><td colspan=\"2\"></td><td class=\"subtext\"><span class=\"subline\">\n",
      "          <span class=\"score\" id=\"score_33539549\">91 points</span> by <a href=\"user?id=chrishannah\" class=\"hnuser\">chrishannah</a> <span class=\"age\" title=\"2022-11-09T23:13:49\"><a href=\"item?id=33539549\">12 hours ago</a></span> <span id=\"unv_33539549\"></span> | <a href=\"hide?id=33539549&amp;goto=news\">hide</a> | <a href=\"item?id=33539549\">71&nbsp;comments</a>        </span>\n",
      "              </td></tr>\n",
      "      <tr class=\"spacer\" style=\"height:5px\"></tr>\n",
      "                <tr class='athing' id='33542473'>\n",
      "      <td align=\"right\" valign=\"top\" class=\"title\"><span class=\"rank\">30.</span></td>      <td valign=\"top\" class=\"votelinks\"><center><a id='up_33542473'href='vote?id=33542473&amp;how=up&amp;goto=news'><div class='votearrow' title='upvote'></div></a></center></td><td class=\"title\"><span class=\"titleline\"><a href=\"https://nichegamer.com/gundam-anime-twitter-trends/\">Gundam and anime replace rampant politics in Japanese Twitter Trends</a><span class=\"sitebit comhead\"> (<a href=\"from?site=nichegamer.com\"><span class=\"sitestr\">nichegamer.com</span></a>)</span></span></td></tr><tr><td colspan=\"2\"></td><td class=\"subtext\"><span class=\"subline\">\n",
      "          <span class=\"score\" id=\"score_33542473\">86 points</span> by <a href=\"user?id=ghuntley\" class=\"hnuser\">ghuntley</a> <span class=\"age\" title=\"2022-11-10T05:07:31\"><a href=\"item?id=33542473\">7 hours ago</a></span> <span id=\"unv_33542473\"></span> | <a href=\"hide?id=33542473&amp;goto=news\">hide</a> | <a href=\"item?id=33542473\">60&nbsp;comments</a>        </span>\n",
      "              </td></tr>\n",
      "      <tr class=\"spacer\" style=\"height:5px\"></tr>\n",
      "            <tr class=\"morespace\" style=\"height:10px\"></tr><tr><td colspan=\"2\"></td>\n",
      "      <td class='title'><a href='news?p=2' class='morelink' rel='next'>More</a></td>    </tr>\n",
      "  </table>\n",
      "</td></tr>\n",
      "<tr><td><img src=\"s.gif\" height=\"10\" width=\"0\"><table width=\"100%\" cellspacing=\"0\" cellpadding=\"1\"><tr><td bgcolor=\"#ff6600\"></td></tr></table><br><center><span class=\"yclinks\"><a href=\"newsguidelines.html\">Guidelines</a>\n",
      "        | <a href=\"newsfaq.html\">FAQ</a>\n",
      "        | <a href=\"lists\">Lists</a>\n",
      "        | <a href=\"https://github.com/HackerNews/API\">API</a>\n",
      "        | <a href=\"security.html\">Security</a>\n",
      "        | <a href=\"http://www.ycombinator.com/legal/\">Legal</a>\n",
      "        | <a href=\"http://www.ycombinator.com/apply/\">Apply to YC</a>\n",
      "        | <a href=\"mailto:hn@ycombinator.com\">Contact</a></span><br><br><form method=\"get\" action=\"//hn.algolia.com/\">Search:\n",
      "          <input type=\"text\" name=\"q\" value=\"\" size=\"17\" autocorrect=\"off\" spellcheck=\"false\" autocapitalize=\"off\" autocomplete=\"false\"></form>\n",
      "            </center></td></tr>\n",
      "      </table></center></body>\n",
      "      <script type='text/javascript' src='hn.js?lFptM7dDr42IpbRL3a4e'></script>\n",
      "  </html>\n",
      "\n"
     ]
    }
   ],
   "source": [
    "import requests\n",
    "\n",
    "# Fetch a web page\n",
    "r = requests.get(\"https://news.ycombinator.com\")\n",
    "print(r.text)"
   ]
  },
  {
   "cell_type": "code",
   "execution_count": 10,
   "metadata": {
    "collapsed": true,
    "jupyter": {
     "outputs_hidden": true
    },
    "tags": []
   },
   "outputs": [
    {
     "name": "stdout",
     "output_type": "stream",
     "text": [
      "\n",
      "        \n",
      "          \n",
      "        Hacker News\n",
      "        \n",
      "                  Hacker News\n",
      "                            new | past | comments | ask | show | jobs | submit            \n",
      "                              login\n",
      "                          \n",
      "              \n",
      "\n",
      "              \n",
      "      1.      Accidental $70k Google Pixel Lock Screen Bypass (xdavidhu.me)\n",
      "          120 points by BXWPU 57 minutes ago  | hide | 21&nbsp;comments        \n",
      "              \n",
      "      \n",
      "                \n",
      "      2.      GitHub is planning Voice to Code (githubnext.com)\n",
      "          163 points by rcshubhadeep 3 hours ago  | hide | 170&nbsp;comments        \n",
      "              \n",
      "      \n",
      "                \n",
      "      3.      Stretch iPhone to its limit: 2GiB Stable Diffusion model runs locally on device (liuliu.me)\n",
      "          631 points by GrantS 13 hours ago  | hide | 131&nbsp;comments        \n",
      "              \n",
      "      \n",
      "                \n",
      "      4.      Indian ISPs: We already give govt full access to web traffic (entrackr.com)\n",
      "          112 points by instagraham 2 hours ago  | hide | 34&nbsp;comments        \n",
      "              \n",
      "      \n",
      "                \n",
      "      5.      GitHub stars won't pay your rent (2020) (kitze.io)\n",
      "          296 points by satvikpendem 11 hours ago  | hide | 192&nbsp;comments        \n",
      "              \n",
      "      \n",
      "                \n",
      "      6.      Kamion (YC S22) Is Hiring (ycombinator.com)\n",
      "        8 minutes ago | hide      \n",
      "      \n",
      "                \n",
      "      7.      The Anatomy of SaaS Pricing Strategy (2017) [pdf] (priceintelligently.com)\n",
      "          26 points by rfreytag 3 hours ago  | hide | 2&nbsp;comments        \n",
      "              \n",
      "      \n",
      "                \n",
      "      8.      Only Solve One Problem at a Time (bennadel.com)\n",
      "          14 points by rmason 2 hours ago  | hide | 4&nbsp;comments        \n",
      "              \n",
      "      \n",
      "                \n",
      "      9.      What will be the second order effects widespread AI?\n",
      "          13 points by pratap103 1 hour ago  | hide | 20&nbsp;comments        \n",
      "              \n",
      "      \n",
      "                \n",
      "      10.      Cameras on phones? (2001) [video] (youtube.com)\n",
      "          94 points by vanilla-almond 9 hours ago  | hide | 45&nbsp;comments        \n",
      "              \n",
      "      \n",
      "                \n",
      "      11.      Discovery of bronzes rewrites Italy's Etruscan-Roman history (phys.org)\n",
      "          47 points by benbreen 6 hours ago  | hide | 13&nbsp;comments        \n",
      "              \n",
      "      \n",
      "                \n",
      "      12.      Former CIA master of disguise helps disfigured people come out of hiding (globalnews.ca)\n",
      "          290 points by gmays 15 hours ago  | hide | 35&nbsp;comments        \n",
      "              \n",
      "      \n",
      "                \n",
      "      13.      OpenEnergyMonitor – open-source monitoring for energy (openenergymonitor.org)\n",
      "          62 points by pabs3 7 hours ago  | hide | 13&nbsp;comments        \n",
      "              \n",
      "      \n",
      "                \n",
      "      14.      TikTok’s stratospheric rise: An oral history (wsj.com)\n",
      "          54 points by wallflower 7 hours ago  | hide | 41&nbsp;comments        \n",
      "              \n",
      "      \n",
      "                \n",
      "      15.      Podman Desktop: A Free OSS Alternative to Docker Desktop (podman-desktop.io)\n",
      "          691 points by twelvenmonkeys 16 hours ago  | hide | 163&nbsp;comments        \n",
      "              \n",
      "      \n",
      "                \n",
      "      16.      Zoho's annual revenues surpassed $1B in 2021 (businessinsider.in)\n",
      "          134 points by Brajeshwar 5 hours ago  | hide | 60&nbsp;comments        \n",
      "              \n",
      "      \n",
      "                \n",
      "      17.      Kurt Vonnegut at 100 (thecritic.co.uk)\n",
      "          103 points by Caiero 12 hours ago  | hide | 40&nbsp;comments        \n",
      "              \n",
      "      \n",
      "                \n",
      "      18.      Why Everything Looks the Same (medium.com/knowable)\n",
      "          55 points by champagnepapi 4 hours ago  | hide | 53&nbsp;comments        \n",
      "              \n",
      "      \n",
      "                \n",
      "      19.      Silicon innovation and custom ASICs at Amazon [pdf] (mvdirona.com)\n",
      "          3 points by mad44 1 hour ago  | hide | discuss        \n",
      "              \n",
      "      \n",
      "                \n",
      "      20.      Tech’s Talent Wars Have Come Back to Bite It (nytimes.com)\n",
      "          13 points by bayraktar 55 minutes ago  | hide | 4&nbsp;comments        \n",
      "              \n",
      "      \n",
      "                \n",
      "      21.      Mastodon’s Eternal September Begins (hughrundle.net)\n",
      "          87 points by robin_reala 4 hours ago  | hide | 82&nbsp;comments        \n",
      "              \n",
      "      \n",
      "                \n",
      "      22.      Zip Function Solution: Haskell, Elixir, JavaScript, Python, Vlang (kevin-da-silva.medium.com)\n",
      "          35 points by Tozen 7 hours ago  | hide | 36&nbsp;comments        \n",
      "              \n",
      "      \n",
      "                \n",
      "      23.      Web automation: Don't use Selenium, use Playwright (pythonforengineers.com)\n",
      "          347 points by rekahrv 15 hours ago  | hide | 139&nbsp;comments        \n",
      "              \n",
      "      \n",
      "                \n",
      "      24.      Why is Rosetta 2 fast? (dougallj.wordpress.com)\n",
      "          583 points by pantalaimon 20 hours ago  | hide | 325&nbsp;comments        \n",
      "              \n",
      "      \n",
      "                \n",
      "      25.      Launch HN: Metlo (YC S21) – Open-source software for securing your APIs\n",
      "          115 points by shrisukhani 16 hours ago  | hide | 31&nbsp;comments        \n",
      "              \n",
      "      \n",
      "                \n",
      "      26.      Show HN: Cito – Actionable data observability for data teams (citodata.com)\n",
      "          30 points by clemenss 9 hours ago  | hide | 2&nbsp;comments        \n",
      "              \n",
      "      \n",
      "                \n",
      "      27.      We will not pursue the potential acquisition of FTX (twitter.com/binance)\n",
      "          465 points by sbuccini 15 hours ago  | hide | 378&nbsp;comments        \n",
      "              \n",
      "      \n",
      "                \n",
      "      28.      Thunderbird Supernova Preview: The New Calendar Design (thunderbird.net)\n",
      "          382 points by HieronymusBosch 18 hours ago  | hide | 117&nbsp;comments        \n",
      "              \n",
      "      \n",
      "                \n",
      "      29.      Thoughts on Arc Browser (chrishannah.me)\n",
      "          91 points by chrishannah 12 hours ago  | hide | 71&nbsp;comments        \n",
      "              \n",
      "      \n",
      "                \n",
      "      30.      Gundam and anime replace rampant politics in Japanese Twitter Trends (nichegamer.com)\n",
      "          86 points by ghuntley 7 hours ago  | hide | 60&nbsp;comments        \n",
      "              \n",
      "      \n",
      "            \n",
      "      More    \n",
      "  \n",
      "\n",
      "Guidelines\n",
      "        | FAQ\n",
      "        | Lists\n",
      "        | API\n",
      "        | Security\n",
      "        | Legal\n",
      "        | Apply to YC\n",
      "        | ContactSearch:\n",
      "          \n",
      "            \n",
      "      \n",
      "      \n",
      "  \n",
      "\n"
     ]
    }
   ],
   "source": [
    "import re\n",
    "\n",
    "# Remove HTML tags using RegEx\n",
    "pattern = re.compile(r'<.*?>')  # tags look like <...>\n",
    "print(pattern.sub('', r.text))  # replace them with blank"
   ]
  },
  {
   "cell_type": "code",
   "execution_count": 11,
   "metadata": {
    "collapsed": true,
    "jupyter": {
     "outputs_hidden": true
    },
    "tags": []
   },
   "outputs": [
    {
     "name": "stdout",
     "output_type": "stream",
     "text": [
      "\n",
      "        \n",
      "          \n",
      "        Hacker News\n",
      "        \n",
      "                  Hacker News\n",
      "                            new | past | comments | ask | show | jobs | submit            \n",
      "                              login\n",
      "                          \n",
      "              \n",
      "\n",
      "              \n",
      "      1.      Accidental $70k Google Pixel Lock Screen Bypass (xdavidhu.me)\n",
      "          120 points by BXWPU 57 minutes ago  | hide | 21 comments        \n",
      "              \n",
      "      \n",
      "                \n",
      "      2.      GitHub is planning Voice to Code (githubnext.com)\n",
      "          163 points by rcshubhadeep 3 hours ago  | hide | 170 comments        \n",
      "              \n",
      "      \n",
      "                \n",
      "      3.      Stretch iPhone to its limit: 2GiB Stable Diffusion model runs locally on device (liuliu.me)\n",
      "          631 points by GrantS 13 hours ago  | hide | 131 comments        \n",
      "              \n",
      "      \n",
      "                \n",
      "      4.      Indian ISPs: We already give govt full access to web traffic (entrackr.com)\n",
      "          112 points by instagraham 2 hours ago  | hide | 34 comments        \n",
      "              \n",
      "      \n",
      "                \n",
      "      5.      GitHub stars won't pay your rent (2020) (kitze.io)\n",
      "          296 points by satvikpendem 11 hours ago  | hide | 192 comments        \n",
      "              \n",
      "      \n",
      "                \n",
      "      6.      Kamion (YC S22) Is Hiring (ycombinator.com)\n",
      "        8 minutes ago | hide      \n",
      "      \n",
      "                \n",
      "      7.      The Anatomy of SaaS Pricing Strategy (2017) [pdf] (priceintelligently.com)\n",
      "          26 points by rfreytag 3 hours ago  | hide | 2 comments        \n",
      "              \n",
      "      \n",
      "                \n",
      "      8.      Only Solve One Problem at a Time (bennadel.com)\n",
      "          14 points by rmason 2 hours ago  | hide | 4 comments        \n",
      "              \n",
      "      \n",
      "                \n",
      "      9.      What will be the second order effects widespread AI?\n",
      "          13 points by pratap103 1 hour ago  | hide | 20 comments        \n",
      "              \n",
      "      \n",
      "                \n",
      "      10.      Cameras on phones? (2001) [video] (youtube.com)\n",
      "          94 points by vanilla-almond 9 hours ago  | hide | 45 comments        \n",
      "              \n",
      "      \n",
      "                \n",
      "      11.      Discovery of bronzes rewrites Italy's Etruscan-Roman history (phys.org)\n",
      "          47 points by benbreen 6 hours ago  | hide | 13 comments        \n",
      "              \n",
      "      \n",
      "                \n",
      "      12.      Former CIA master of disguise helps disfigured people come out of hiding (globalnews.ca)\n",
      "          290 points by gmays 15 hours ago  | hide | 35 comments        \n",
      "              \n",
      "      \n",
      "                \n",
      "      13.      OpenEnergyMonitor – open-source monitoring for energy (openenergymonitor.org)\n",
      "          62 points by pabs3 7 hours ago  | hide | 13 comments        \n",
      "              \n",
      "      \n",
      "                \n",
      "      14.      TikTok’s stratospheric rise: An oral history (wsj.com)\n",
      "          54 points by wallflower 7 hours ago  | hide | 41 comments        \n",
      "              \n",
      "      \n",
      "                \n",
      "      15.      Podman Desktop: A Free OSS Alternative to Docker Desktop (podman-desktop.io)\n",
      "          691 points by twelvenmonkeys 16 hours ago  | hide | 163 comments        \n",
      "              \n",
      "      \n",
      "                \n",
      "      16.      Zoho's annual revenues surpassed $1B in 2021 (businessinsider.in)\n",
      "          134 points by Brajeshwar 5 hours ago  | hide | 60 comments        \n",
      "              \n",
      "      \n",
      "                \n",
      "      17.      Kurt Vonnegut at 100 (thecritic.co.uk)\n",
      "          103 points by Caiero 12 hours ago  | hide | 40 comments        \n",
      "              \n",
      "      \n",
      "                \n",
      "      18.      Why Everything Looks the Same (medium.com/knowable)\n",
      "          55 points by champagnepapi 4 hours ago  | hide | 53 comments        \n",
      "              \n",
      "      \n",
      "                \n",
      "      19.      Silicon innovation and custom ASICs at Amazon [pdf] (mvdirona.com)\n",
      "          3 points by mad44 1 hour ago  | hide | discuss        \n",
      "              \n",
      "      \n",
      "                \n",
      "      20.      Tech’s Talent Wars Have Come Back to Bite It (nytimes.com)\n",
      "          13 points by bayraktar 55 minutes ago  | hide | 4 comments        \n",
      "              \n",
      "      \n",
      "                \n",
      "      21.      Mastodon’s Eternal September Begins (hughrundle.net)\n",
      "          87 points by robin_reala 4 hours ago  | hide | 82 comments        \n",
      "              \n",
      "      \n",
      "                \n",
      "      22.      Zip Function Solution: Haskell, Elixir, JavaScript, Python, Vlang (kevin-da-silva.medium.com)\n",
      "          35 points by Tozen 7 hours ago  | hide | 36 comments        \n",
      "              \n",
      "      \n",
      "                \n",
      "      23.      Web automation: Don't use Selenium, use Playwright (pythonforengineers.com)\n",
      "          347 points by rekahrv 15 hours ago  | hide | 139 comments        \n",
      "              \n",
      "      \n",
      "                \n",
      "      24.      Why is Rosetta 2 fast? (dougallj.wordpress.com)\n",
      "          583 points by pantalaimon 20 hours ago  | hide | 325 comments        \n",
      "              \n",
      "      \n",
      "                \n",
      "      25.      Launch HN: Metlo (YC S21) – Open-source software for securing your APIs\n",
      "          115 points by shrisukhani 16 hours ago  | hide | 31 comments        \n",
      "              \n",
      "      \n",
      "                \n",
      "      26.      Show HN: Cito – Actionable data observability for data teams (citodata.com)\n",
      "          30 points by clemenss 9 hours ago  | hide | 2 comments        \n",
      "              \n",
      "      \n",
      "                \n",
      "      27.      We will not pursue the potential acquisition of FTX (twitter.com/binance)\n",
      "          465 points by sbuccini 15 hours ago  | hide | 378 comments        \n",
      "              \n",
      "      \n",
      "                \n",
      "      28.      Thunderbird Supernova Preview: The New Calendar Design (thunderbird.net)\n",
      "          382 points by HieronymusBosch 18 hours ago  | hide | 117 comments        \n",
      "              \n",
      "      \n",
      "                \n",
      "      29.      Thoughts on Arc Browser (chrishannah.me)\n",
      "          91 points by chrishannah 12 hours ago  | hide | 71 comments        \n",
      "              \n",
      "      \n",
      "                \n",
      "      30.      Gundam and anime replace rampant politics in Japanese Twitter Trends (nichegamer.com)\n",
      "          86 points by ghuntley 7 hours ago  | hide | 60 comments        \n",
      "              \n",
      "      \n",
      "            \n",
      "      More    \n",
      "  \n",
      "\n",
      "Guidelines\n",
      "        | FAQ\n",
      "        | Lists\n",
      "        | API\n",
      "        | Security\n",
      "        | Legal\n",
      "        | Apply to YC\n",
      "        | ContactSearch:\n",
      "          \n",
      "            \n",
      "      \n",
      "      \n",
      "  \n",
      "\n"
     ]
    }
   ],
   "source": [
    "from bs4 import BeautifulSoup\n",
    "\n",
    "# Remove HTML tags using Beautiful Soup library\n",
    "soup = BeautifulSoup(r.text, \"html5lib\")\n",
    "print(soup.get_text())"
   ]
  },
  {
   "cell_type": "code",
   "execution_count": 34,
   "metadata": {
    "scrolled": true
   },
   "outputs": [],
   "source": [
    "# Find all articles\n",
    "summaries = soup.find_all(\"tr\", class_=\"athing\")"
   ]
  },
  {
   "cell_type": "code",
   "execution_count": 22,
   "metadata": {},
   "outputs": [
    {
     "name": "stdout",
     "output_type": "stream",
     "text": [
      "<html>\n",
      " <body>\n",
      "  <tr class=\"athing\" id=\"33544883\">\n",
      "   <td align=\"right\" class=\"title\" valign=\"top\">\n",
      "    <span class=\"rank\">\n",
      "     1.\n",
      "    </span>\n",
      "   </td>\n",
      "   <td class=\"votelinks\" valign=\"top\">\n",
      "    <center>\n",
      "     <a href=\"vote?id=33544883&amp;how=up&amp;goto=news\" id=\"up_33544883\">\n",
      "      <div class=\"votearrow\" title=\"upvote\">\n",
      "      </div>\n",
      "     </a>\n",
      "    </center>\n",
      "   </td>\n",
      "   <td class=\"title\">\n",
      "    <span class=\"titleline\">\n",
      "     <a href=\"https://bugs.xdavidhu.me/google/2022/11/10/accidental-70k-google-pixel-lock-screen-bypass/\">\n",
      "      Accidental $70k Google Pixel Lock Screen Bypass\n",
      "     </a>\n",
      "     <span class=\"sitebit comhead\">\n",
      "      (\n",
      "      <a href=\"from?site=xdavidhu.me\">\n",
      "       <span class=\"sitestr\">\n",
      "        xdavidhu.me\n",
      "       </span>\n",
      "      </a>\n",
      "      )\n",
      "     </span>\n",
      "    </span>\n",
      "   </td>\n",
      "  </tr>\n",
      " </body>\n",
      "</html>\n"
     ]
    }
   ],
   "source": [
    "print(BeautifulSoup(str(summaries[0])).prettify())"
   ]
  },
  {
   "cell_type": "code",
   "execution_count": 33,
   "metadata": {},
   "outputs": [
    {
     "data": {
      "text/plain": [
       "'Accidental $70k Google Pixel Lock Screen Bypass'"
      ]
     },
     "execution_count": 33,
     "metadata": {},
     "output_type": "execute_result"
    }
   ],
   "source": [
    "# Extract title\n",
    "summaries[0].find_all(\"a\")[1].text.strip()"
   ]
  },
  {
   "cell_type": "code",
   "execution_count": null,
   "metadata": {},
   "outputs": [],
   "source": [
    "# Find all articles, extract titles\n",
    "articles = []\n",
    "summaries = soup.find_all(\"tr\", class_=\"athing\")\n",
    "for summary in summaries:\n",
    "    title = summary.find(\"a\", class_=\"storylink\").get_text().strip()\n",
    "    articles.append((title))\n",
    "\n",
    "print(len(articles), \"Article summaries found. Sample:\")\n",
    "print(articles[0])"
   ]
  },
  {
   "cell_type": "markdown",
   "metadata": {
    "tags": []
   },
   "source": [
    "## Normalization"
   ]
  },
  {
   "cell_type": "markdown",
   "metadata": {
    "jp-MarkdownHeadingCollapsed": true,
    "tags": []
   },
   "source": [
    "### Case Normalization"
   ]
  },
  {
   "cell_type": "code",
   "execution_count": null,
   "metadata": {},
   "outputs": [],
   "source": [
    "# Sample text\n",
    "text = \"The first time you see The Second Renaissance it may look boring. Look at it at least twice and definitely watch part 2. It will change your view of the matrix. Are the human people the ones who started the war ? Is AI a bad thing ?\"\n",
    "print(text)"
   ]
  },
  {
   "cell_type": "code",
   "execution_count": null,
   "metadata": {},
   "outputs": [],
   "source": [
    "# Convert to lowercase\n",
    "text = text.lower() \n",
    "print(text)"
   ]
  },
  {
   "cell_type": "markdown",
   "metadata": {},
   "source": [
    "### Punctuation Removal"
   ]
  },
  {
   "cell_type": "code",
   "execution_count": 35,
   "metadata": {},
   "outputs": [
    {
     "name": "stdout",
     "output_type": "stream",
     "text": [
      "Hieroglyphic writing dates from c  3000 BC  and is composed of hundreds of symbols  A hieroglyph can represent a word  a sound  or a silent determinative  and the same symbol can serve different purposes in different contexts  Hieroglyphs were a formal script  used on stone monuments and in tombs  that could be as detailed as individual works of art  \n"
     ]
    }
   ],
   "source": [
    "import re\n",
    "\n",
    "# Remove punctuation characters\n",
    "text = re.sub(r\"[^a-zA-Z0-9]\", \" \", text) \n",
    "print(text)"
   ]
  },
  {
   "cell_type": "markdown",
   "metadata": {
    "tags": []
   },
   "source": [
    "## Tokenization"
   ]
  },
  {
   "cell_type": "code",
   "execution_count": 37,
   "metadata": {},
   "outputs": [
    {
     "name": "stdout",
     "output_type": "stream",
     "text": [
      "['Hieroglyphic', 'writing', 'dates', 'from', 'c', '3000', 'BC', 'and', 'is', 'composed', 'of', 'hundreds', 'of', 'symbols', 'A', 'hieroglyph', 'can', 'represent', 'a', 'word', 'a', 'sound', 'or', 'a', 'silent', 'determinative', 'and', 'the', 'same', 'symbol', 'can', 'serve', 'different', 'purposes', 'in', 'different', 'contexts', 'Hieroglyphs', 'were', 'a', 'formal', 'script', 'used', 'on', 'stone', 'monuments', 'and', 'in', 'tombs', 'that', 'could', 'be', 'as', 'detailed', 'as', 'individual', 'works', 'of', 'art']\n"
     ]
    }
   ],
   "source": [
    "# Split text into tokens (words)\n",
    "words = text.split()\n",
    "print(words)"
   ]
  },
  {
   "cell_type": "markdown",
   "metadata": {},
   "source": [
    "### NLTK: Natural Language ToolKit"
   ]
  },
  {
   "cell_type": "code",
   "execution_count": 38,
   "metadata": {},
   "outputs": [],
   "source": [
    "import os\n",
    "import nltk\n",
    "nltk.data.path.append(os.path.join(os.getcwd(), \"nltk_data\"))"
   ]
  },
  {
   "cell_type": "code",
   "execution_count": 39,
   "metadata": {},
   "outputs": [
    {
     "name": "stdout",
     "output_type": "stream",
     "text": [
      "Dr. Smith graduated from the University of Washington. He later started an analytics firm called Lux, which catered to enterprise customers.\n"
     ]
    }
   ],
   "source": [
    "# Another sample text\n",
    "text = \"Dr. Smith graduated from the University of Washington. He later started an analytics firm called Lux, which catered to enterprise customers.\"\n",
    "print(text)"
   ]
  },
  {
   "cell_type": "code",
   "execution_count": 40,
   "metadata": {},
   "outputs": [
    {
     "name": "stdout",
     "output_type": "stream",
     "text": [
      "['Dr.', 'Smith', 'graduated', 'from', 'the', 'University', 'of', 'Washington', '.', 'He', 'later', 'started', 'an', 'analytics', 'firm', 'called', 'Lux', ',', 'which', 'catered', 'to', 'enterprise', 'customers', '.']\n"
     ]
    }
   ],
   "source": [
    "from nltk.tokenize import word_tokenize\n",
    "\n",
    "# Split text into words using NLTK\n",
    "words = word_tokenize(text)\n",
    "print(words)"
   ]
  },
  {
   "cell_type": "code",
   "execution_count": 41,
   "metadata": {},
   "outputs": [
    {
     "name": "stdout",
     "output_type": "stream",
     "text": [
      "['Dr. Smith graduated from the University of Washington.', 'He later started an analytics firm called Lux, which catered to enterprise customers.']\n"
     ]
    }
   ],
   "source": [
    "from nltk.tokenize import sent_tokenize\n",
    "\n",
    "# Split text into sentences\n",
    "sentences = sent_tokenize(text)\n",
    "print(sentences)"
   ]
  },
  {
   "cell_type": "code",
   "execution_count": 44,
   "metadata": {},
   "outputs": [
    {
     "name": "stdout",
     "output_type": "stream",
     "text": [
      "['i', 'me', 'my', 'myself', 'we', 'our', 'ours', 'ourselves', 'you', \"you're\", \"you've\", \"you'll\", \"you'd\", 'your', 'yours', 'yourself', 'yourselves', 'he', 'him', 'his', 'himself', 'she', \"she's\", 'her', 'hers', 'herself', 'it', \"it's\", 'its', 'itself', 'they', 'them', 'their', 'theirs', 'themselves', 'what', 'which', 'who', 'whom', 'this', 'that', \"that'll\", 'these', 'those', 'am', 'is', 'are', 'was', 'were', 'be', 'been', 'being', 'have', 'has', 'had', 'having', 'do', 'does', 'did', 'doing', 'a', 'an', 'the', 'and', 'but', 'if', 'or', 'because', 'as', 'until', 'while', 'of', 'at', 'by', 'for', 'with', 'about', 'against', 'between', 'into', 'through', 'during', 'before', 'after', 'above', 'below', 'to', 'from', 'up', 'down', 'in', 'out', 'on', 'off', 'over', 'under', 'again', 'further', 'then', 'once', 'here', 'there', 'when', 'where', 'why', 'how', 'all', 'any', 'both', 'each', 'few', 'more', 'most', 'other', 'some', 'such', 'no', 'nor', 'not', 'only', 'own', 'same', 'so', 'than', 'too', 'very', 's', 't', 'can', 'will', 'just', 'don', \"don't\", 'should', \"should've\", 'now', 'd', 'll', 'm', 'o', 're', 've', 'y', 'ain', 'aren', \"aren't\", 'couldn', \"couldn't\", 'didn', \"didn't\", 'doesn', \"doesn't\", 'hadn', \"hadn't\", 'hasn', \"hasn't\", 'haven', \"haven't\", 'isn', \"isn't\", 'ma', 'mightn', \"mightn't\", 'mustn', \"mustn't\", 'needn', \"needn't\", 'shan', \"shan't\", 'shouldn', \"shouldn't\", 'wasn', \"wasn't\", 'weren', \"weren't\", 'won', \"won't\", 'wouldn', \"wouldn't\"]\n"
     ]
    }
   ],
   "source": [
    "# List stop words\n",
    "from nltk.corpus import stopwords\n",
    "print(stopwords.words(\"english\"))"
   ]
  },
  {
   "cell_type": "code",
   "execution_count": 45,
   "metadata": {},
   "outputs": [
    {
     "name": "stdout",
     "output_type": "stream",
     "text": [
      "['the', 'first', 'time', 'you', 'see', 'the', 'second', 'renaissance', 'it', 'may', 'look', 'boring', 'look', 'at', 'it', 'at', 'least', 'twice', 'and', 'definitely', 'watch', 'part', '2', 'it', 'will', 'change', 'your', 'view', 'of', 'the', 'matrix', 'are', 'the', 'human', 'people', 'the', 'ones', 'who', 'started', 'the', 'war', 'is', 'ai', 'a', 'bad', 'thing']\n"
     ]
    }
   ],
   "source": [
    "# Reset text\n",
    "text = \"The first time you see The Second Renaissance it may look boring. Look at it at least twice and definitely watch part 2. It will change your view of the matrix. Are the human people the ones who started the war ? Is AI a bad thing ?\"\n",
    "\n",
    "# Normalize it\n",
    "text = re.sub(r\"[^a-zA-Z0-9]\", \" \", text.lower())\n",
    "\n",
    "# Tokenize it\n",
    "words = text.split()\n",
    "print(words)"
   ]
  },
  {
   "cell_type": "code",
   "execution_count": 46,
   "metadata": {},
   "outputs": [
    {
     "name": "stdout",
     "output_type": "stream",
     "text": [
      "['first', 'time', 'see', 'second', 'renaissance', 'may', 'look', 'boring', 'look', 'least', 'twice', 'definitely', 'watch', 'part', '2', 'change', 'view', 'matrix', 'human', 'people', 'ones', 'started', 'war', 'ai', 'bad', 'thing']\n"
     ]
    }
   ],
   "source": [
    "# Remove stop words\n",
    "words = [w for w in words if w not in stopwords.words(\"english\")]\n",
    "print(words)"
   ]
  },
  {
   "cell_type": "markdown",
   "metadata": {},
   "source": [
    "### Sentence Parsing"
   ]
  },
  {
   "cell_type": "code",
   "execution_count": 47,
   "metadata": {},
   "outputs": [
    {
     "name": "stdout",
     "output_type": "stream",
     "text": [
      "(S\n",
      "  (NP I)\n",
      "  (VP\n",
      "    (VP (V shot) (NP (Det an) (N elephant)))\n",
      "    (PP (P in) (NP (Det my) (N pajamas)))))\n",
      "(S\n",
      "  (NP I)\n",
      "  (VP\n",
      "    (V shot)\n",
      "    (NP (Det an) (N elephant) (PP (P in) (NP (Det my) (N pajamas))))))\n"
     ]
    }
   ],
   "source": [
    "import nltk\n",
    "\n",
    "# Define a custom grammar\n",
    "my_grammar = nltk.CFG.fromstring(\"\"\"\n",
    "S -> NP VP\n",
    "PP -> P NP\n",
    "NP -> Det N | Det N PP | 'I'\n",
    "VP -> V NP | VP PP\n",
    "Det -> 'an' | 'my'\n",
    "N -> 'elephant' | 'pajamas'\n",
    "V -> 'shot'\n",
    "P -> 'in'\n",
    "\"\"\")\n",
    "parser = nltk.ChartParser(my_grammar)\n",
    "\n",
    "# Parse a sentence\n",
    "sentence = word_tokenize(\"I shot an elephant in my pajamas\")\n",
    "for tree in parser.parse(sentence):\n",
    "    print(tree)"
   ]
  },
  {
   "cell_type": "markdown",
   "metadata": {
    "tags": []
   },
   "source": [
    "## Stemming & Lemmatization\n",
    "\n",
    "### Stemming"
   ]
  },
  {
   "cell_type": "code",
   "execution_count": 48,
   "metadata": {},
   "outputs": [
    {
     "name": "stdout",
     "output_type": "stream",
     "text": [
      "['first', 'time', 'see', 'second', 'renaiss', 'may', 'look', 'bore', 'look', 'least', 'twice', 'definit', 'watch', 'part', '2', 'chang', 'view', 'matrix', 'human', 'peopl', 'one', 'start', 'war', 'ai', 'bad', 'thing']\n"
     ]
    }
   ],
   "source": [
    "from nltk.stem.porter import PorterStemmer\n",
    "\n",
    "# Reduce words to their stems\n",
    "stemmed = [PorterStemmer().stem(w) for w in words]\n",
    "print(stemmed)"
   ]
  },
  {
   "cell_type": "markdown",
   "metadata": {},
   "source": [
    "### Lemmatization"
   ]
  },
  {
   "cell_type": "code",
   "execution_count": 50,
   "metadata": {},
   "outputs": [
    {
     "name": "stderr",
     "output_type": "stream",
     "text": [
      "[nltk_data] Downloading package omw-1.4 to\n",
      "[nltk_data]     C:\\Users\\mahmo\\AppData\\Roaming\\nltk_data...\n"
     ]
    },
    {
     "data": {
      "text/plain": [
       "True"
      ]
     },
     "execution_count": 50,
     "metadata": {},
     "output_type": "execute_result"
    }
   ],
   "source": [
    "nltk.download('omw-1.4')"
   ]
  },
  {
   "cell_type": "code",
   "execution_count": 51,
   "metadata": {},
   "outputs": [
    {
     "name": "stdout",
     "output_type": "stream",
     "text": [
      "['first', 'time', 'see', 'second', 'renaissance', 'may', 'look', 'boring', 'look', 'least', 'twice', 'definitely', 'watch', 'part', '2', 'change', 'view', 'matrix', 'human', 'people', 'one', 'started', 'war', 'ai', 'bad', 'thing']\n"
     ]
    }
   ],
   "source": [
    "from nltk.stem.wordnet import WordNetLemmatizer\n",
    "\n",
    "# Reduce words to their root form\n",
    "lemmed = [WordNetLemmatizer().lemmatize(w) for w in words]\n",
    "print(lemmed)"
   ]
  },
  {
   "cell_type": "code",
   "execution_count": 53,
   "metadata": {},
   "outputs": [
    {
     "name": "stdout",
     "output_type": "stream",
     "text": [
      "['first', 'time', 'see', 'second', 'renaissance', 'may', 'look', 'bore', 'look', 'least', 'twice', 'definitely', 'watch', 'part', '2', 'change', 'view', 'matrix', 'human', 'people', 'one', 'start', 'war', 'ai', 'bad', 'thing']\n"
     ]
    }
   ],
   "source": [
    "# Lemmatize verbs by specifying pos.   boring -> bore\n",
    "lemmed = [WordNetLemmatizer().lemmatize(w, pos='v') for w in lemmed]\n",
    "print(lemmed)"
   ]
  },
  {
   "cell_type": "code",
   "execution_count": null,
   "metadata": {},
   "outputs": [],
   "source": []
  }
 ],
 "metadata": {
  "kernelspec": {
   "display_name": "Python 3 (ipykernel)",
   "language": "python",
   "name": "python3"
  },
  "language_info": {
   "codemirror_mode": {
    "name": "ipython",
    "version": 3
   },
   "file_extension": ".py",
   "mimetype": "text/x-python",
   "name": "python",
   "nbconvert_exporter": "python",
   "pygments_lexer": "ipython3",
   "version": "3.8.13"
  },
  "widgets": {
   "application/vnd.jupyter.widget-state+json": {
    "state": {},
    "version_major": 2,
    "version_minor": 0
   }
  }
 },
 "nbformat": 4,
 "nbformat_minor": 4
}
