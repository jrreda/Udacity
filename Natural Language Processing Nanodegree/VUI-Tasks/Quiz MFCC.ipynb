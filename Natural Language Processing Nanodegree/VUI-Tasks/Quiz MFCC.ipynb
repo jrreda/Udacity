{
 "cells": [
  {
   "cell_type": "markdown",
   "id": "95910a63-c102-46a2-bdcb-07647c763961",
   "metadata": {},
   "source": [
    "# Mel Frequency Cepstral Coefficients (MFCC)\n",
    "\n",
    "[MFCC](http://practicalcryptography.com/miscellaneous/machine-learning/guide-mel-frequency-cepstral-coefficients-mfccs/) feature extraction is complicated to explain, but easy to implement with available libraries.\n",
    "\n",
    "In this short quiz, you'll write a function that converts a `.wav` file to MFCC features. You'll need a way to extract the signal from the wave file and then a method\n",
    "to convert the signal to MFCC. Here are the resources you need to write your function:\n",
    "\n",
    "- [`scipy.io.wavfile.read`](https://docs.scipy.org/doc/scipy-0.14.0/reference/generated/scipy.io.wavfile.read.html) (to extract the signal)\n",
    "- [`python_speech_features.mfcc`](http://python-speech-features.readthedocs.io/en/latest/) (to convert to MFCC)\n",
    "\n",
    "When you succeed in returning the correct file, you will \"see\" the MFCC spectrum in the output similar to the following:\n",
    "\n",
    "![raw audio](images/raw-audio.png)\n",
    "\n",
    "![normalized-mfcc](images/normalized-mfcc.png)"
   ]
  },
  {
   "cell_type": "code",
   "execution_count": 5,
   "id": "9f4d5363-e35d-4c8f-a8da-4c95cf0f3432",
   "metadata": {},
   "outputs": [],
   "source": [
    "from python_speech_features import mfcc\n",
    "import scipy.io.wavfile as wav\n",
    "\n",
    "\n",
    "def wav_to_mfcc(wav_filename, num_cepstrum):\n",
    "    \"\"\" extract MFCC features from a wav file\n",
    "\n",
    "    :param wav_filename: filename with .wav format\n",
    "    :param num_cepstrum: number of cepstrum to return\n",
    "    :return: MFCC features for wav file\n",
    "    \"\"\"\n",
    "\n",
    "    # TODO implement\n",
    "    (rate, sig) = wav.read(wav_filename)\n",
    "    mfcc_feat = mfcc(sig, rate, numcep=num_cepstrum)\n",
    "    fbank_feat = logfbank(sig, rate)\n",
    "\n",
    "    print(fbank_feat[1:3,:])\n",
    "    return mfcc_feat\n",
    "    raise NotImplementedError"
   ]
  },
  {
   "cell_type": "code",
   "execution_count": null,
   "id": "5fc92649-ce80-4ccb-b052-548e347bc26c",
   "metadata": {},
   "outputs": [],
   "source": []
  }
 ],
 "metadata": {
  "kernelspec": {
   "display_name": "Python 3 (ipykernel)",
   "language": "python",
   "name": "python3"
  },
  "language_info": {
   "codemirror_mode": {
    "name": "ipython",
    "version": 3
   },
   "file_extension": ".py",
   "mimetype": "text/x-python",
   "name": "python",
   "nbconvert_exporter": "python",
   "pygments_lexer": "ipython3",
   "version": "3.8.13"
  },
  "widgets": {
   "application/vnd.jupyter.widget-state+json": {
    "state": {},
    "version_major": 2,
    "version_minor": 0
   }
  }
 },
 "nbformat": 4,
 "nbformat_minor": 5
}
