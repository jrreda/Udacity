{
 "cells": [
  {
   "cell_type": "markdown",
   "metadata": {},
   "source": [
    "### Job Satisfaction\n",
    "\n",
    "In this notebook, you will be exploring job satisfaction according to the survey results.  Use the cells at the top of the notebook to explore as necessary, and use your findings to solve the questions at the bottom of the notebook."
   ]
  },
  {
   "cell_type": "code",
   "execution_count": 1,
   "metadata": {},
   "outputs": [
    {
     "data": {
      "text/html": [
       "<div>\n",
       "<style scoped>\n",
       "    .dataframe tbody tr th:only-of-type {\n",
       "        vertical-align: middle;\n",
       "    }\n",
       "\n",
       "    .dataframe tbody tr th {\n",
       "        vertical-align: top;\n",
       "    }\n",
       "\n",
       "    .dataframe thead th {\n",
       "        text-align: right;\n",
       "    }\n",
       "</style>\n",
       "<table border=\"1\" class=\"dataframe\">\n",
       "  <thead>\n",
       "    <tr style=\"text-align: right;\">\n",
       "      <th></th>\n",
       "      <th>Respondent</th>\n",
       "      <th>Professional</th>\n",
       "      <th>ProgramHobby</th>\n",
       "      <th>Country</th>\n",
       "      <th>University</th>\n",
       "      <th>EmploymentStatus</th>\n",
       "      <th>FormalEducation</th>\n",
       "      <th>MajorUndergrad</th>\n",
       "      <th>HomeRemote</th>\n",
       "      <th>CompanySize</th>\n",
       "      <th>...</th>\n",
       "      <th>StackOverflowMakeMoney</th>\n",
       "      <th>Gender</th>\n",
       "      <th>HighestEducationParents</th>\n",
       "      <th>Race</th>\n",
       "      <th>SurveyLong</th>\n",
       "      <th>QuestionsInteresting</th>\n",
       "      <th>QuestionsConfusing</th>\n",
       "      <th>InterestedAnswers</th>\n",
       "      <th>Salary</th>\n",
       "      <th>ExpectedSalary</th>\n",
       "    </tr>\n",
       "  </thead>\n",
       "  <tbody>\n",
       "    <tr>\n",
       "      <th>0</th>\n",
       "      <td>1</td>\n",
       "      <td>Student</td>\n",
       "      <td>Yes, both</td>\n",
       "      <td>United States</td>\n",
       "      <td>No</td>\n",
       "      <td>Not employed, and not looking for work</td>\n",
       "      <td>Secondary school</td>\n",
       "      <td>NaN</td>\n",
       "      <td>NaN</td>\n",
       "      <td>NaN</td>\n",
       "      <td>...</td>\n",
       "      <td>Strongly disagree</td>\n",
       "      <td>Male</td>\n",
       "      <td>High school</td>\n",
       "      <td>White or of European descent</td>\n",
       "      <td>Strongly disagree</td>\n",
       "      <td>Strongly agree</td>\n",
       "      <td>Disagree</td>\n",
       "      <td>Strongly agree</td>\n",
       "      <td>NaN</td>\n",
       "      <td>NaN</td>\n",
       "    </tr>\n",
       "    <tr>\n",
       "      <th>1</th>\n",
       "      <td>2</td>\n",
       "      <td>Student</td>\n",
       "      <td>Yes, both</td>\n",
       "      <td>United Kingdom</td>\n",
       "      <td>Yes, full-time</td>\n",
       "      <td>Employed part-time</td>\n",
       "      <td>Some college/university study without earning ...</td>\n",
       "      <td>Computer science or software engineering</td>\n",
       "      <td>More than half, but not all, the time</td>\n",
       "      <td>20 to 99 employees</td>\n",
       "      <td>...</td>\n",
       "      <td>Strongly disagree</td>\n",
       "      <td>Male</td>\n",
       "      <td>A master's degree</td>\n",
       "      <td>White or of European descent</td>\n",
       "      <td>Somewhat agree</td>\n",
       "      <td>Somewhat agree</td>\n",
       "      <td>Disagree</td>\n",
       "      <td>Strongly agree</td>\n",
       "      <td>NaN</td>\n",
       "      <td>37500.0</td>\n",
       "    </tr>\n",
       "    <tr>\n",
       "      <th>2</th>\n",
       "      <td>3</td>\n",
       "      <td>Professional developer</td>\n",
       "      <td>Yes, both</td>\n",
       "      <td>United Kingdom</td>\n",
       "      <td>No</td>\n",
       "      <td>Employed full-time</td>\n",
       "      <td>Bachelor's degree</td>\n",
       "      <td>Computer science or software engineering</td>\n",
       "      <td>Less than half the time, but at least one day ...</td>\n",
       "      <td>10,000 or more employees</td>\n",
       "      <td>...</td>\n",
       "      <td>Disagree</td>\n",
       "      <td>Male</td>\n",
       "      <td>A professional degree</td>\n",
       "      <td>White or of European descent</td>\n",
       "      <td>Somewhat agree</td>\n",
       "      <td>Agree</td>\n",
       "      <td>Disagree</td>\n",
       "      <td>Agree</td>\n",
       "      <td>113750.0</td>\n",
       "      <td>NaN</td>\n",
       "    </tr>\n",
       "    <tr>\n",
       "      <th>3</th>\n",
       "      <td>4</td>\n",
       "      <td>Professional non-developer who sometimes write...</td>\n",
       "      <td>Yes, both</td>\n",
       "      <td>United States</td>\n",
       "      <td>No</td>\n",
       "      <td>Employed full-time</td>\n",
       "      <td>Doctoral degree</td>\n",
       "      <td>A non-computer-focused engineering discipline</td>\n",
       "      <td>Less than half the time, but at least one day ...</td>\n",
       "      <td>10,000 or more employees</td>\n",
       "      <td>...</td>\n",
       "      <td>Disagree</td>\n",
       "      <td>Male</td>\n",
       "      <td>A doctoral degree</td>\n",
       "      <td>White or of European descent</td>\n",
       "      <td>Agree</td>\n",
       "      <td>Agree</td>\n",
       "      <td>Somewhat agree</td>\n",
       "      <td>Strongly agree</td>\n",
       "      <td>NaN</td>\n",
       "      <td>NaN</td>\n",
       "    </tr>\n",
       "    <tr>\n",
       "      <th>4</th>\n",
       "      <td>5</td>\n",
       "      <td>Professional developer</td>\n",
       "      <td>Yes, I program as a hobby</td>\n",
       "      <td>Switzerland</td>\n",
       "      <td>No</td>\n",
       "      <td>Employed full-time</td>\n",
       "      <td>Master's degree</td>\n",
       "      <td>Computer science or software engineering</td>\n",
       "      <td>Never</td>\n",
       "      <td>10 to 19 employees</td>\n",
       "      <td>...</td>\n",
       "      <td>NaN</td>\n",
       "      <td>NaN</td>\n",
       "      <td>NaN</td>\n",
       "      <td>NaN</td>\n",
       "      <td>NaN</td>\n",
       "      <td>NaN</td>\n",
       "      <td>NaN</td>\n",
       "      <td>NaN</td>\n",
       "      <td>NaN</td>\n",
       "      <td>NaN</td>\n",
       "    </tr>\n",
       "  </tbody>\n",
       "</table>\n",
       "<p>5 rows × 154 columns</p>\n",
       "</div>"
      ],
      "text/plain": [
       "   Respondent                                       Professional  \\\n",
       "0           1                                            Student   \n",
       "1           2                                            Student   \n",
       "2           3                             Professional developer   \n",
       "3           4  Professional non-developer who sometimes write...   \n",
       "4           5                             Professional developer   \n",
       "\n",
       "                ProgramHobby         Country      University  \\\n",
       "0                  Yes, both   United States              No   \n",
       "1                  Yes, both  United Kingdom  Yes, full-time   \n",
       "2                  Yes, both  United Kingdom              No   \n",
       "3                  Yes, both   United States              No   \n",
       "4  Yes, I program as a hobby     Switzerland              No   \n",
       "\n",
       "                         EmploymentStatus  \\\n",
       "0  Not employed, and not looking for work   \n",
       "1                      Employed part-time   \n",
       "2                      Employed full-time   \n",
       "3                      Employed full-time   \n",
       "4                      Employed full-time   \n",
       "\n",
       "                                     FormalEducation  \\\n",
       "0                                   Secondary school   \n",
       "1  Some college/university study without earning ...   \n",
       "2                                  Bachelor's degree   \n",
       "3                                    Doctoral degree   \n",
       "4                                    Master's degree   \n",
       "\n",
       "                                  MajorUndergrad  \\\n",
       "0                                            NaN   \n",
       "1       Computer science or software engineering   \n",
       "2       Computer science or software engineering   \n",
       "3  A non-computer-focused engineering discipline   \n",
       "4       Computer science or software engineering   \n",
       "\n",
       "                                          HomeRemote  \\\n",
       "0                                                NaN   \n",
       "1              More than half, but not all, the time   \n",
       "2  Less than half the time, but at least one day ...   \n",
       "3  Less than half the time, but at least one day ...   \n",
       "4                                              Never   \n",
       "\n",
       "                CompanySize  ... StackOverflowMakeMoney Gender  \\\n",
       "0                       NaN  ...      Strongly disagree   Male   \n",
       "1        20 to 99 employees  ...      Strongly disagree   Male   \n",
       "2  10,000 or more employees  ...               Disagree   Male   \n",
       "3  10,000 or more employees  ...               Disagree   Male   \n",
       "4        10 to 19 employees  ...                    NaN    NaN   \n",
       "\n",
       "  HighestEducationParents                          Race         SurveyLong  \\\n",
       "0             High school  White or of European descent  Strongly disagree   \n",
       "1       A master's degree  White or of European descent     Somewhat agree   \n",
       "2   A professional degree  White or of European descent     Somewhat agree   \n",
       "3       A doctoral degree  White or of European descent              Agree   \n",
       "4                     NaN                           NaN                NaN   \n",
       "\n",
       "  QuestionsInteresting QuestionsConfusing InterestedAnswers    Salary  \\\n",
       "0       Strongly agree           Disagree    Strongly agree       NaN   \n",
       "1       Somewhat agree           Disagree    Strongly agree       NaN   \n",
       "2                Agree           Disagree             Agree  113750.0   \n",
       "3                Agree     Somewhat agree    Strongly agree       NaN   \n",
       "4                  NaN                NaN               NaN       NaN   \n",
       "\n",
       "   ExpectedSalary  \n",
       "0             NaN  \n",
       "1         37500.0  \n",
       "2             NaN  \n",
       "3             NaN  \n",
       "4             NaN  \n",
       "\n",
       "[5 rows x 154 columns]"
      ]
     },
     "execution_count": 1,
     "metadata": {},
     "output_type": "execute_result"
    }
   ],
   "source": [
    "import pandas as pd\n",
    "import numpy as np\n",
    "import JobSatisfaction as t\n",
    "import matplotlib.pyplot as plt\n",
    "%matplotlib inline\n",
    "\n",
    "df = pd.read_csv('./survey_results_public.csv')\n",
    "schema = pd.read_csv('./survey_results_schema.csv')\n",
    "df.head()"
   ]
  },
  {
   "cell_type": "code",
   "execution_count": 2,
   "metadata": {},
   "outputs": [
    {
     "data": {
      "text/plain": [
       "(3849, 19102)"
      ]
     },
     "execution_count": 2,
     "metadata": {},
     "output_type": "execute_result"
    }
   ],
   "source": [
    "#Space for your code\n",
    "df.JobSatisfaction.isnull().sum(), len(df.JobSatisfaction)"
   ]
  },
  {
   "cell_type": "code",
   "execution_count": 3,
   "metadata": {},
   "outputs": [
    {
     "data": {
      "text/plain": [
       "0.20149722542142184"
      ]
     },
     "execution_count": 3,
     "metadata": {},
     "output_type": "execute_result"
    }
   ],
   "source": [
    "#More space for code\n",
    "df.JobSatisfaction.isnull().sum()/len(df.JobSatisfaction)"
   ]
  },
  {
   "cell_type": "code",
   "execution_count": 4,
   "metadata": {},
   "outputs": [
    {
     "data": {
      "text/plain": [
       "0.20149722542142184"
      ]
     },
     "execution_count": 4,
     "metadata": {},
     "output_type": "execute_result"
    }
   ],
   "source": [
    "df.JobSatisfaction.isnull().mean()"
   ]
  },
  {
   "cell_type": "code",
   "execution_count": 5,
   "metadata": {},
   "outputs": [
    {
     "data": {
      "text/plain": [
       "(3849, 15253)"
      ]
     },
     "execution_count": 5,
     "metadata": {},
     "output_type": "execute_result"
    }
   ],
   "source": [
    "not_satesfied = df[df.JobSatisfaction.isnull()]\n",
    "satesfied = df[df.JobSatisfaction.notnull()]\n",
    "\n",
    "len(not_satesfied), len(satesfied)"
   ]
  },
  {
   "cell_type": "code",
   "execution_count": 6,
   "metadata": {},
   "outputs": [
    {
     "data": {
      "text/plain": [
       "(Employed full-time                                      12995\n",
       " Independent contractor, freelancer, or self-employed     1582\n",
       " Employed part-time                                        676\n",
       " Name: EmploymentStatus, dtype: int64,\n",
       " '--------------------------------------------------',\n",
       " Not employed, and not looking for work                  1066\n",
       " Not employed, but looking for work                       906\n",
       " Employed full-time                                       660\n",
       " Employed part-time                                       492\n",
       " I prefer not to say                                      381\n",
       " Independent contractor, freelancer, or self-employed     284\n",
       " Retired                                                   60\n",
       " Name: EmploymentStatus, dtype: int64)"
      ]
     },
     "execution_count": 6,
     "metadata": {},
     "output_type": "execute_result"
    }
   ],
   "source": [
    "#Additional space for your additional code\n",
    "satesfied.EmploymentStatus.value_counts(), '-'*50 , not_satesfied.EmploymentStatus.value_counts()"
   ]
  },
  {
   "cell_type": "code",
   "execution_count": 7,
   "metadata": {},
   "outputs": [
    {
     "data": {
      "text/plain": [
       "(15253, '--------------------------------------------------', 3849)"
      ]
     },
     "execution_count": 7,
     "metadata": {},
     "output_type": "execute_result"
    }
   ],
   "source": [
    "satesfied.EmploymentStatus.value_counts().sum(), '-'*50, not_satesfied.EmploymentStatus.value_counts().sum()"
   ]
  },
  {
   "cell_type": "code",
   "execution_count": 8,
   "metadata": {},
   "outputs": [
    {
     "data": {
      "text/plain": [
       "(0.7985027745785782, 0.20149722542142184)"
      ]
     },
     "execution_count": 8,
     "metadata": {},
     "output_type": "execute_result"
    }
   ],
   "source": [
    "15253/(15253+3849), 3849/(15253+3849)"
   ]
  },
  {
   "cell_type": "code",
   "execution_count": 9,
   "metadata": {},
   "outputs": [
    {
     "data": {
      "text/plain": [
       "(20 to 99 employees          3040\n",
       " 100 to 499 employees        2694\n",
       " 10,000 or more employees    1880\n",
       " 10 to 19 employees          1427\n",
       " 1,000 to 4,999 employees    1399\n",
       " Fewer than 10 employees     1322\n",
       " 500 to 999 employees         901\n",
       " 5,000 to 9,999 employees     566\n",
       " I don't know                 238\n",
       " I prefer not to answer       186\n",
       " Name: CompanySize, dtype: int64,\n",
       " '--------------------------------------------------',\n",
       " 20 to 99 employees          174\n",
       " 100 to 499 employees        164\n",
       " Fewer than 10 employees     134\n",
       " 10,000 or more employees    118\n",
       " 10 to 19 employees          117\n",
       " 1,000 to 4,999 employees     83\n",
       " I don't know                 73\n",
       " I prefer not to answer       52\n",
       " 500 to 999 employees         45\n",
       " 5,000 to 9,999 employees     40\n",
       " Name: CompanySize, dtype: int64)"
      ]
     },
     "execution_count": 9,
     "metadata": {},
     "output_type": "execute_result"
    }
   ],
   "source": [
    "#Feel free to create new cells as you need them\n",
    "satesfied.CompanySize.value_counts(), '-'*50, not_satesfied.CompanySize.value_counts()"
   ]
  },
  {
   "cell_type": "code",
   "execution_count": 10,
   "metadata": {},
   "outputs": [
    {
     "data": {
      "text/html": [
       "<style  type=\"text/css\" >\n",
       "    #T_347e717e_31aa_11eb_98ce_90b11c90205arow2_col2 {\n",
       "            background-color:  red;\n",
       "        }    #T_347e717e_31aa_11eb_98ce_90b11c90205arow2_col5 {\n",
       "            background-color:  red;\n",
       "        }    #T_347e717e_31aa_11eb_98ce_90b11c90205arow3_col5 {\n",
       "            background-color:  red;\n",
       "        }    #T_347e717e_31aa_11eb_98ce_90b11c90205arow4_col2 {\n",
       "            background-color:  red;\n",
       "        }    #T_347e717e_31aa_11eb_98ce_90b11c90205arow4_col5 {\n",
       "            background-color:  red;\n",
       "        }    #T_347e717e_31aa_11eb_98ce_90b11c90205arow5_col2 {\n",
       "            background-color:  red;\n",
       "        }    #T_347e717e_31aa_11eb_98ce_90b11c90205arow5_col5 {\n",
       "            background-color:  red;\n",
       "        }    #T_347e717e_31aa_11eb_98ce_90b11c90205arow6_col2 {\n",
       "            background-color:  red;\n",
       "        }    #T_347e717e_31aa_11eb_98ce_90b11c90205arow6_col5 {\n",
       "            background-color:  red;\n",
       "        }    #T_347e717e_31aa_11eb_98ce_90b11c90205arow6_col6 {\n",
       "            background-color:  red;\n",
       "        }</style><table id=\"T_347e717e_31aa_11eb_98ce_90b11c90205a\" ><thead>    <tr>        <th class=\"blank level0\" ></th>        <th class=\"col_heading level0 col0\" >Respondent</th>        <th class=\"col_heading level0 col1\" >CareerSatisfaction</th>        <th class=\"col_heading level0 col2\" >JobSatisfaction</th>        <th class=\"col_heading level0 col3\" >HoursPerWeek</th>        <th class=\"col_heading level0 col4\" >StackOverflowSatisfaction</th>        <th class=\"col_heading level0 col5\" >Salary</th>        <th class=\"col_heading level0 col6\" >ExpectedSalary</th>    </tr>    <tr>        <th class=\"index_name level0\" >EmploymentStatus</th>        <th class=\"blank\" ></th>        <th class=\"blank\" ></th>        <th class=\"blank\" ></th>        <th class=\"blank\" ></th>        <th class=\"blank\" ></th>        <th class=\"blank\" ></th>        <th class=\"blank\" ></th>    </tr></thead><tbody>\n",
       "                <tr>\n",
       "                        <th id=\"T_347e717e_31aa_11eb_98ce_90b11c90205alevel0_row0\" class=\"row_heading level0 row0\" >Employed full-time</th>\n",
       "                        <td id=\"T_347e717e_31aa_11eb_98ce_90b11c90205arow0_col0\" class=\"data row0 col0\" >9455.134017</td>\n",
       "                        <td id=\"T_347e717e_31aa_11eb_98ce_90b11c90205arow0_col1\" class=\"data row0 col1\" >7.408127</td>\n",
       "                        <td id=\"T_347e717e_31aa_11eb_98ce_90b11c90205arow0_col2\" class=\"data row0 col2\" >6.980608</td>\n",
       "                        <td id=\"T_347e717e_31aa_11eb_98ce_90b11c90205arow0_col3\" class=\"data row0 col3\" >3.280686</td>\n",
       "                        <td id=\"T_347e717e_31aa_11eb_98ce_90b11c90205arow0_col4\" class=\"data row0 col4\" >8.394302</td>\n",
       "                        <td id=\"T_347e717e_31aa_11eb_98ce_90b11c90205arow0_col5\" class=\"data row0 col5\" >59484.545564</td>\n",
       "                        <td id=\"T_347e717e_31aa_11eb_98ce_90b11c90205arow0_col6\" class=\"data row0 col6\" >33694.458564</td>\n",
       "            </tr>\n",
       "            <tr>\n",
       "                        <th id=\"T_347e717e_31aa_11eb_98ce_90b11c90205alevel0_row1\" class=\"row_heading level0 row1\" >Employed part-time</th>\n",
       "                        <td id=\"T_347e717e_31aa_11eb_98ce_90b11c90205arow1_col0\" class=\"data row1 col0\" >9853.381849</td>\n",
       "                        <td id=\"T_347e717e_31aa_11eb_98ce_90b11c90205arow1_col1\" class=\"data row1 col1\" >7.162011</td>\n",
       "                        <td id=\"T_347e717e_31aa_11eb_98ce_90b11c90205arow1_col2\" class=\"data row1 col2\" >6.846154</td>\n",
       "                        <td id=\"T_347e717e_31aa_11eb_98ce_90b11c90205arow1_col3\" class=\"data row1 col3\" >3.628231</td>\n",
       "                        <td id=\"T_347e717e_31aa_11eb_98ce_90b11c90205arow1_col4\" class=\"data row1 col4\" >8.307006</td>\n",
       "                        <td id=\"T_347e717e_31aa_11eb_98ce_90b11c90205arow1_col5\" class=\"data row1 col5\" >22542.459828</td>\n",
       "                        <td id=\"T_347e717e_31aa_11eb_98ce_90b11c90205arow1_col6\" class=\"data row1 col6\" >37178.879990</td>\n",
       "            </tr>\n",
       "            <tr>\n",
       "                        <th id=\"T_347e717e_31aa_11eb_98ce_90b11c90205alevel0_row2\" class=\"row_heading level0 row2\" >I prefer not to say</th>\n",
       "                        <td id=\"T_347e717e_31aa_11eb_98ce_90b11c90205arow2_col0\" class=\"data row2 col0\" >9961.018373</td>\n",
       "                        <td id=\"T_347e717e_31aa_11eb_98ce_90b11c90205arow2_col1\" class=\"data row2 col1\" >6.747967</td>\n",
       "                        <td id=\"T_347e717e_31aa_11eb_98ce_90b11c90205arow2_col2\" class=\"data row2 col2\" >nan</td>\n",
       "                        <td id=\"T_347e717e_31aa_11eb_98ce_90b11c90205arow2_col3\" class=\"data row2 col3\" >4.863158</td>\n",
       "                        <td id=\"T_347e717e_31aa_11eb_98ce_90b11c90205arow2_col4\" class=\"data row2 col4\" >8.087500</td>\n",
       "                        <td id=\"T_347e717e_31aa_11eb_98ce_90b11c90205arow2_col5\" class=\"data row2 col5\" >nan</td>\n",
       "                        <td id=\"T_347e717e_31aa_11eb_98ce_90b11c90205arow2_col6\" class=\"data row2 col6\" >36765.219991</td>\n",
       "            </tr>\n",
       "            <tr>\n",
       "                        <th id=\"T_347e717e_31aa_11eb_98ce_90b11c90205alevel0_row3\" class=\"row_heading level0 row3\" >Independent contractor, freelancer, or self-employed</th>\n",
       "                        <td id=\"T_347e717e_31aa_11eb_98ce_90b11c90205arow3_col0\" class=\"data row3 col0\" >9716.381029</td>\n",
       "                        <td id=\"T_347e717e_31aa_11eb_98ce_90b11c90205arow3_col1\" class=\"data row3 col1\" >7.417947</td>\n",
       "                        <td id=\"T_347e717e_31aa_11eb_98ce_90b11c90205arow3_col2\" class=\"data row3 col2\" >7.231985</td>\n",
       "                        <td id=\"T_347e717e_31aa_11eb_98ce_90b11c90205arow3_col3\" class=\"data row3 col3\" >3.993213</td>\n",
       "                        <td id=\"T_347e717e_31aa_11eb_98ce_90b11c90205arow3_col4\" class=\"data row3 col4\" >8.290698</td>\n",
       "                        <td id=\"T_347e717e_31aa_11eb_98ce_90b11c90205arow3_col5\" class=\"data row3 col5\" >nan</td>\n",
       "                        <td id=\"T_347e717e_31aa_11eb_98ce_90b11c90205arow3_col6\" class=\"data row3 col6\" >27868.383944</td>\n",
       "            </tr>\n",
       "            <tr>\n",
       "                        <th id=\"T_347e717e_31aa_11eb_98ce_90b11c90205alevel0_row4\" class=\"row_heading level0 row4\" >Not employed, and not looking for work</th>\n",
       "                        <td id=\"T_347e717e_31aa_11eb_98ce_90b11c90205arow4_col0\" class=\"data row4 col0\" >9675.636961</td>\n",
       "                        <td id=\"T_347e717e_31aa_11eb_98ce_90b11c90205arow4_col1\" class=\"data row4 col1\" >6.715976</td>\n",
       "                        <td id=\"T_347e717e_31aa_11eb_98ce_90b11c90205arow4_col2\" class=\"data row4 col2\" >nan</td>\n",
       "                        <td id=\"T_347e717e_31aa_11eb_98ce_90b11c90205arow4_col3\" class=\"data row4 col3\" >2.138211</td>\n",
       "                        <td id=\"T_347e717e_31aa_11eb_98ce_90b11c90205arow4_col4\" class=\"data row4 col4\" >8.200323</td>\n",
       "                        <td id=\"T_347e717e_31aa_11eb_98ce_90b11c90205arow4_col5\" class=\"data row4 col5\" >nan</td>\n",
       "                        <td id=\"T_347e717e_31aa_11eb_98ce_90b11c90205arow4_col6\" class=\"data row4 col6\" >34472.638841</td>\n",
       "            </tr>\n",
       "            <tr>\n",
       "                        <th id=\"T_347e717e_31aa_11eb_98ce_90b11c90205alevel0_row5\" class=\"row_heading level0 row5\" >Not employed, but looking for work</th>\n",
       "                        <td id=\"T_347e717e_31aa_11eb_98ce_90b11c90205arow5_col0\" class=\"data row5 col0\" >9897.671082</td>\n",
       "                        <td id=\"T_347e717e_31aa_11eb_98ce_90b11c90205arow5_col1\" class=\"data row5 col1\" >5.020067</td>\n",
       "                        <td id=\"T_347e717e_31aa_11eb_98ce_90b11c90205arow5_col2\" class=\"data row5 col2\" >nan</td>\n",
       "                        <td id=\"T_347e717e_31aa_11eb_98ce_90b11c90205arow5_col3\" class=\"data row5 col3\" >8.228916</td>\n",
       "                        <td id=\"T_347e717e_31aa_11eb_98ce_90b11c90205arow5_col4\" class=\"data row5 col4\" >8.271218</td>\n",
       "                        <td id=\"T_347e717e_31aa_11eb_98ce_90b11c90205arow5_col5\" class=\"data row5 col5\" >nan</td>\n",
       "                        <td id=\"T_347e717e_31aa_11eb_98ce_90b11c90205arow5_col6\" class=\"data row5 col6\" >25407.271772</td>\n",
       "            </tr>\n",
       "            <tr>\n",
       "                        <th id=\"T_347e717e_31aa_11eb_98ce_90b11c90205alevel0_row6\" class=\"row_heading level0 row6\" >Retired</th>\n",
       "                        <td id=\"T_347e717e_31aa_11eb_98ce_90b11c90205arow6_col0\" class=\"data row6 col0\" >10445.233333</td>\n",
       "                        <td id=\"T_347e717e_31aa_11eb_98ce_90b11c90205arow6_col1\" class=\"data row6 col1\" >8.153846</td>\n",
       "                        <td id=\"T_347e717e_31aa_11eb_98ce_90b11c90205arow6_col2\" class=\"data row6 col2\" >nan</td>\n",
       "                        <td id=\"T_347e717e_31aa_11eb_98ce_90b11c90205arow6_col3\" class=\"data row6 col3\" >2.500000</td>\n",
       "                        <td id=\"T_347e717e_31aa_11eb_98ce_90b11c90205arow6_col4\" class=\"data row6 col4\" >7.194444</td>\n",
       "                        <td id=\"T_347e717e_31aa_11eb_98ce_90b11c90205arow6_col5\" class=\"data row6 col5\" >nan</td>\n",
       "                        <td id=\"T_347e717e_31aa_11eb_98ce_90b11c90205arow6_col6\" class=\"data row6 col6\" >nan</td>\n",
       "            </tr>\n",
       "    </tbody></table>"
      ],
      "text/plain": [
       "<pandas.io.formats.style.Styler at 0x2030762f208>"
      ]
     },
     "execution_count": 10,
     "metadata": {},
     "output_type": "execute_result"
    }
   ],
   "source": [
    "df.groupby('EmploymentStatus').mean().style.highlight_null(null_color='red')"
   ]
  },
  {
   "cell_type": "code",
   "execution_count": 11,
   "metadata": {},
   "outputs": [
    {
     "data": {
      "text/plain": [
       "CompanySize\n",
       "10,000 or more employees    6.793617\n",
       "5,000 to 9,999 employees    6.832155\n",
       "1,000 to 4,999 employees    6.908506\n",
       "20 to 99 employees          6.997039\n",
       "Fewer than 10 employees     7.025719\n",
       "100 to 499 employees        7.029324\n",
       "500 to 999 employees        7.029967\n",
       "10 to 19 employees          7.035739\n",
       "I don't know                7.054622\n",
       "I prefer not to answer      7.284946\n",
       "Name: JobSatisfaction, dtype: float64"
      ]
     },
     "execution_count": 11,
     "metadata": {},
     "output_type": "execute_result"
    }
   ],
   "source": [
    "df.groupby('CompanySize').mean()['JobSatisfaction'].sort_values()"
   ]
  },
  {
   "cell_type": "markdown",
   "metadata": {},
   "source": [
    "#### Question 1\n",
    "\n",
    "**1.** Use the space above to assist in matching each variable (**a**, **b**, **c**, **d**, **e**, **f**, **g**, or **h** ) as the appropriate key that describes the value in the **job_sol_1** dictionary."
   ]
  },
  {
   "cell_type": "code",
   "execution_count": 12,
   "metadata": {},
   "outputs": [
    {
     "name": "stdout",
     "output_type": "stream",
     "text": [
      "Nice job! That's what we found as well!\n"
     ]
    }
   ],
   "source": [
    "a = 0.734\n",
    "b = 0.2014\n",
    "c = 'full-time'\n",
    "d = 'contractors'\n",
    "e = 'retired'\n",
    "f = 'yes'\n",
    "g = 'no'\n",
    "h = 'hard to tell'\n",
    "\n",
    "job_sol_1 = {'The proportion of missing values in the Job Satisfaction column': b,\n",
    "             'According to EmploymentStatus, which group has the highest average job satisfaction?': d, \n",
    "             'In general, do smaller companies appear to have employees with higher job satisfaction?': f}\n",
    "             \n",
    "t.jobsat_check1(job_sol_1)"
   ]
  },
  {
   "cell_type": "markdown",
   "metadata": {},
   "source": [
    "#### Question 2\n",
    "\n",
    "**2.** Use the space above to assist in matching each variable (**a**, **b**, **c** ) as the appropriate key that describes the value in the **job_sol_2** dictionary. Notice you can have the same letter appear more than once."
   ]
  },
  {
   "cell_type": "code",
   "execution_count": 13,
   "metadata": {},
   "outputs": [
    {
     "data": {
      "text/plain": [
       "ProgramHobby\n",
       "No                                           6.874806\n",
       "Yes, I program as a hobby                    6.927150\n",
       "Yes, I contribute to open source projects    7.158649\n",
       "Yes, both                                    7.189316\n",
       "Name: JobSatisfaction, dtype: float64"
      ]
     },
     "execution_count": 13,
     "metadata": {},
     "output_type": "execute_result"
    }
   ],
   "source": [
    "df.groupby('ProgramHobby').mean()['JobSatisfaction'].sort_values()"
   ]
  },
  {
   "cell_type": "code",
   "execution_count": 14,
   "metadata": {},
   "outputs": [
    {
     "data": {
      "text/plain": [
       "HomeRemote\n",
       "Never                                                      6.697127\n",
       "It's complicated                                           6.942053\n",
       "More than half, but not all, the time                      6.973684\n",
       "A few days each month                                      7.096694\n",
       "About half the time                                        7.125737\n",
       "Less than half the time, but at least one day each week    7.143786\n",
       "All or almost all the time (I'm full-time remote)          7.405421\n",
       "Name: JobSatisfaction, dtype: float64"
      ]
     },
     "execution_count": 14,
     "metadata": {},
     "output_type": "execute_result"
    }
   ],
   "source": [
    "df.groupby('HomeRemote').mean()['JobSatisfaction'].sort_values()"
   ]
  },
  {
   "cell_type": "code",
   "execution_count": 19,
   "metadata": {},
   "outputs": [
    {
     "data": {
      "text/html": [
       "<style  type=\"text/css\" >\n",
       "    #T_513b10a4_31aa_11eb_bcdc_90b11c90205arow0_col2 {\n",
       "            : ;\n",
       "            : ;\n",
       "            background-color:  yellow;\n",
       "        }    #T_513b10a4_31aa_11eb_bcdc_90b11c90205arow0_col4 {\n",
       "            background-color:  green;\n",
       "            : ;\n",
       "            : ;\n",
       "        }    #T_513b10a4_31aa_11eb_bcdc_90b11c90205arow1_col1 {\n",
       "            background-color:  green;\n",
       "            : ;\n",
       "            : ;\n",
       "        }    #T_513b10a4_31aa_11eb_bcdc_90b11c90205arow1_col2 {\n",
       "            background-color:  green;\n",
       "            : ;\n",
       "            : ;\n",
       "        }    #T_513b10a4_31aa_11eb_bcdc_90b11c90205arow1_col5 {\n",
       "            background-color:  green;\n",
       "            : ;\n",
       "            : ;\n",
       "        }    #T_513b10a4_31aa_11eb_bcdc_90b11c90205arow1_col6 {\n",
       "            : ;\n",
       "            background-color:  red;\n",
       "            : ;\n",
       "        }    #T_513b10a4_31aa_11eb_bcdc_90b11c90205arow2_col1 {\n",
       "            : ;\n",
       "            : ;\n",
       "            background-color:  yellow;\n",
       "        }    #T_513b10a4_31aa_11eb_bcdc_90b11c90205arow2_col3 {\n",
       "            background-color:  green;\n",
       "            : ;\n",
       "            : ;\n",
       "        }    #T_513b10a4_31aa_11eb_bcdc_90b11c90205arow2_col4 {\n",
       "            : ;\n",
       "            : ;\n",
       "            background-color:  yellow;\n",
       "        }    #T_513b10a4_31aa_11eb_bcdc_90b11c90205arow2_col6 {\n",
       "            background-color:  green;\n",
       "            : ;\n",
       "            : ;\n",
       "        }    #T_513b10a4_31aa_11eb_bcdc_90b11c90205arow3_col5 {\n",
       "            : ;\n",
       "            : ;\n",
       "            background-color:  yellow;\n",
       "        }    #T_513b10a4_31aa_11eb_bcdc_90b11c90205arow5_col3 {\n",
       "            : ;\n",
       "            : ;\n",
       "            background-color:  yellow;\n",
       "        }    #T_513b10a4_31aa_11eb_bcdc_90b11c90205arow6_col0 {\n",
       "            background-color:  green;\n",
       "            : ;\n",
       "            : ;\n",
       "        }    #T_513b10a4_31aa_11eb_bcdc_90b11c90205arow6_col6 {\n",
       "            : ;\n",
       "            : ;\n",
       "            background-color:  yellow;\n",
       "        }    #T_513b10a4_31aa_11eb_bcdc_90b11c90205arow8_col0 {\n",
       "            : ;\n",
       "            : ;\n",
       "            background-color:  yellow;\n",
       "        }</style><table id=\"T_513b10a4_31aa_11eb_bcdc_90b11c90205a\" ><thead>    <tr>        <th class=\"blank level0\" ></th>        <th class=\"col_heading level0 col0\" >Respondent</th>        <th class=\"col_heading level0 col1\" >CareerSatisfaction</th>        <th class=\"col_heading level0 col2\" >JobSatisfaction</th>        <th class=\"col_heading level0 col3\" >HoursPerWeek</th>        <th class=\"col_heading level0 col4\" >StackOverflowSatisfaction</th>        <th class=\"col_heading level0 col5\" >Salary</th>        <th class=\"col_heading level0 col6\" >ExpectedSalary</th>    </tr>    <tr>        <th class=\"index_name level0\" >FormalEducation</th>        <th class=\"blank\" ></th>        <th class=\"blank\" ></th>        <th class=\"blank\" ></th>        <th class=\"blank\" ></th>        <th class=\"blank\" ></th>        <th class=\"blank\" ></th>        <th class=\"blank\" ></th>    </tr></thead><tbody>\n",
       "                <tr>\n",
       "                        <th id=\"T_513b10a4_31aa_11eb_bcdc_90b11c90205alevel0_row0\" class=\"row_heading level0 row0\" >Bachelor's degree</th>\n",
       "                        <td id=\"T_513b10a4_31aa_11eb_bcdc_90b11c90205arow0_col0\" class=\"data row0 col0\" >9527.091616</td>\n",
       "                        <td id=\"T_513b10a4_31aa_11eb_bcdc_90b11c90205arow0_col1\" class=\"data row0 col1\" >7.322164</td>\n",
       "                        <td id=\"T_513b10a4_31aa_11eb_bcdc_90b11c90205arow0_col2\" class=\"data row0 col2\" >6.900293</td>\n",
       "                        <td id=\"T_513b10a4_31aa_11eb_bcdc_90b11c90205arow0_col3\" class=\"data row0 col3\" >4.104258</td>\n",
       "                        <td id=\"T_513b10a4_31aa_11eb_bcdc_90b11c90205arow0_col4\" class=\"data row0 col4\" >8.403451</td>\n",
       "                        <td id=\"T_513b10a4_31aa_11eb_bcdc_90b11c90205arow0_col5\" class=\"data row0 col5\" >59004.115834</td>\n",
       "                        <td id=\"T_513b10a4_31aa_11eb_bcdc_90b11c90205arow0_col6\" class=\"data row0 col6\" >27459.337572</td>\n",
       "            </tr>\n",
       "            <tr>\n",
       "                        <th id=\"T_513b10a4_31aa_11eb_bcdc_90b11c90205alevel0_row1\" class=\"row_heading level0 row1\" >Doctoral degree</th>\n",
       "                        <td id=\"T_513b10a4_31aa_11eb_bcdc_90b11c90205arow1_col0\" class=\"data row1 col0\" >9627.894737</td>\n",
       "                        <td id=\"T_513b10a4_31aa_11eb_bcdc_90b11c90205arow1_col1\" class=\"data row1 col1\" >7.574349</td>\n",
       "                        <td id=\"T_513b10a4_31aa_11eb_bcdc_90b11c90205arow1_col2\" class=\"data row1 col2\" >7.438492</td>\n",
       "                        <td id=\"T_513b10a4_31aa_11eb_bcdc_90b11c90205arow1_col3\" class=\"data row1 col3\" >3.067633</td>\n",
       "                        <td id=\"T_513b10a4_31aa_11eb_bcdc_90b11c90205arow1_col4\" class=\"data row1 col4\" >8.242925</td>\n",
       "                        <td id=\"T_513b10a4_31aa_11eb_bcdc_90b11c90205arow1_col5\" class=\"data row1 col5\" >78174.121389</td>\n",
       "                        <td id=\"T_513b10a4_31aa_11eb_bcdc_90b11c90205arow1_col6\" class=\"data row1 col6\" >nan</td>\n",
       "            </tr>\n",
       "            <tr>\n",
       "                        <th id=\"T_513b10a4_31aa_11eb_bcdc_90b11c90205alevel0_row2\" class=\"row_heading level0 row2\" >I never completed any formal education</th>\n",
       "                        <td id=\"T_513b10a4_31aa_11eb_bcdc_90b11c90205arow2_col0\" class=\"data row2 col0\" >9803.351724</td>\n",
       "                        <td id=\"T_513b10a4_31aa_11eb_bcdc_90b11c90205arow2_col1\" class=\"data row2 col1\" >7.196581</td>\n",
       "                        <td id=\"T_513b10a4_31aa_11eb_bcdc_90b11c90205arow2_col2\" class=\"data row2 col2\" >7.000000</td>\n",
       "                        <td id=\"T_513b10a4_31aa_11eb_bcdc_90b11c90205arow2_col3\" class=\"data row2 col3\" >6.893617</td>\n",
       "                        <td id=\"T_513b10a4_31aa_11eb_bcdc_90b11c90205arow2_col4\" class=\"data row2 col4\" >8.125000</td>\n",
       "                        <td id=\"T_513b10a4_31aa_11eb_bcdc_90b11c90205arow2_col5\" class=\"data row2 col5\" >46337.639391</td>\n",
       "                        <td id=\"T_513b10a4_31aa_11eb_bcdc_90b11c90205arow2_col6\" class=\"data row2 col6\" >67394.043949</td>\n",
       "            </tr>\n",
       "            <tr>\n",
       "                        <th id=\"T_513b10a4_31aa_11eb_bcdc_90b11c90205alevel0_row3\" class=\"row_heading level0 row3\" >I prefer not to answer</th>\n",
       "                        <td id=\"T_513b10a4_31aa_11eb_bcdc_90b11c90205arow3_col0\" class=\"data row3 col0\" >10269.017115</td>\n",
       "                        <td id=\"T_513b10a4_31aa_11eb_bcdc_90b11c90205arow3_col1\" class=\"data row3 col1\" >7.338542</td>\n",
       "                        <td id=\"T_513b10a4_31aa_11eb_bcdc_90b11c90205arow3_col2\" class=\"data row3 col2\" >7.211679</td>\n",
       "                        <td id=\"T_513b10a4_31aa_11eb_bcdc_90b11c90205arow3_col3\" class=\"data row3 col3\" >5.360000</td>\n",
       "                        <td id=\"T_513b10a4_31aa_11eb_bcdc_90b11c90205arow3_col4\" class=\"data row3 col4\" >8.134715</td>\n",
       "                        <td id=\"T_513b10a4_31aa_11eb_bcdc_90b11c90205arow3_col5\" class=\"data row3 col5\" >35191.954323</td>\n",
       "                        <td id=\"T_513b10a4_31aa_11eb_bcdc_90b11c90205arow3_col6\" class=\"data row3 col6\" >28040.986624</td>\n",
       "            </tr>\n",
       "            <tr>\n",
       "                        <th id=\"T_513b10a4_31aa_11eb_bcdc_90b11c90205alevel0_row4\" class=\"row_heading level0 row4\" >Master's degree</th>\n",
       "                        <td id=\"T_513b10a4_31aa_11eb_bcdc_90b11c90205arow4_col0\" class=\"data row4 col0\" >9582.720492</td>\n",
       "                        <td id=\"T_513b10a4_31aa_11eb_bcdc_90b11c90205arow4_col1\" class=\"data row4 col1\" >7.300302</td>\n",
       "                        <td id=\"T_513b10a4_31aa_11eb_bcdc_90b11c90205arow4_col2\" class=\"data row4 col2\" >6.977356</td>\n",
       "                        <td id=\"T_513b10a4_31aa_11eb_bcdc_90b11c90205arow4_col3\" class=\"data row4 col3\" >3.445985</td>\n",
       "                        <td id=\"T_513b10a4_31aa_11eb_bcdc_90b11c90205arow4_col4\" class=\"data row4 col4\" >8.355225</td>\n",
       "                        <td id=\"T_513b10a4_31aa_11eb_bcdc_90b11c90205arow4_col5\" class=\"data row4 col5\" >60398.444414</td>\n",
       "                        <td id=\"T_513b10a4_31aa_11eb_bcdc_90b11c90205arow4_col6\" class=\"data row4 col6\" >27240.384932</td>\n",
       "            </tr>\n",
       "            <tr>\n",
       "                        <th id=\"T_513b10a4_31aa_11eb_bcdc_90b11c90205alevel0_row5\" class=\"row_heading level0 row5\" >Primary/elementary school</th>\n",
       "                        <td id=\"T_513b10a4_31aa_11eb_bcdc_90b11c90205arow5_col0\" class=\"data row5 col0\" >9297.061881</td>\n",
       "                        <td id=\"T_513b10a4_31aa_11eb_bcdc_90b11c90205arow5_col1\" class=\"data row5 col1\" >7.406897</td>\n",
       "                        <td id=\"T_513b10a4_31aa_11eb_bcdc_90b11c90205arow5_col2\" class=\"data row5 col2\" >6.946237</td>\n",
       "                        <td id=\"T_513b10a4_31aa_11eb_bcdc_90b11c90205arow5_col3\" class=\"data row5 col3\" >2.469388</td>\n",
       "                        <td id=\"T_513b10a4_31aa_11eb_bcdc_90b11c90205arow5_col4\" class=\"data row5 col4\" >8.205240</td>\n",
       "                        <td id=\"T_513b10a4_31aa_11eb_bcdc_90b11c90205arow5_col5\" class=\"data row5 col5\" >65152.544305</td>\n",
       "                        <td id=\"T_513b10a4_31aa_11eb_bcdc_90b11c90205arow5_col6\" class=\"data row5 col6\" >37274.890612</td>\n",
       "            </tr>\n",
       "            <tr>\n",
       "                        <th id=\"T_513b10a4_31aa_11eb_bcdc_90b11c90205alevel0_row6\" class=\"row_heading level0 row6\" >Professional degree</th>\n",
       "                        <td id=\"T_513b10a4_31aa_11eb_bcdc_90b11c90205arow6_col0\" class=\"data row6 col0\" >10387.180392</td>\n",
       "                        <td id=\"T_513b10a4_31aa_11eb_bcdc_90b11c90205arow6_col1\" class=\"data row6 col1\" >7.465812</td>\n",
       "                        <td id=\"T_513b10a4_31aa_11eb_bcdc_90b11c90205arow6_col2\" class=\"data row6 col2\" >7.075893</td>\n",
       "                        <td id=\"T_513b10a4_31aa_11eb_bcdc_90b11c90205arow6_col3\" class=\"data row6 col3\" >3.559633</td>\n",
       "                        <td id=\"T_513b10a4_31aa_11eb_bcdc_90b11c90205arow6_col4\" class=\"data row6 col4\" >8.337662</td>\n",
       "                        <td id=\"T_513b10a4_31aa_11eb_bcdc_90b11c90205arow6_col5\" class=\"data row6 col5\" >48176.450790</td>\n",
       "                        <td id=\"T_513b10a4_31aa_11eb_bcdc_90b11c90205arow6_col6\" class=\"data row6 col6\" >15259.524758</td>\n",
       "            </tr>\n",
       "            <tr>\n",
       "                        <th id=\"T_513b10a4_31aa_11eb_bcdc_90b11c90205alevel0_row7\" class=\"row_heading level0 row7\" >Secondary school</th>\n",
       "                        <td id=\"T_513b10a4_31aa_11eb_bcdc_90b11c90205arow7_col0\" class=\"data row7 col0\" >9746.805568</td>\n",
       "                        <td id=\"T_513b10a4_31aa_11eb_bcdc_90b11c90205arow7_col1\" class=\"data row7 col1\" >7.348285</td>\n",
       "                        <td id=\"T_513b10a4_31aa_11eb_bcdc_90b11c90205arow7_col2\" class=\"data row7 col2\" >7.219512</td>\n",
       "                        <td id=\"T_513b10a4_31aa_11eb_bcdc_90b11c90205arow7_col3\" class=\"data row7 col3\" >3.267901</td>\n",
       "                        <td id=\"T_513b10a4_31aa_11eb_bcdc_90b11c90205arow7_col4\" class=\"data row7 col4\" >8.345531</td>\n",
       "                        <td id=\"T_513b10a4_31aa_11eb_bcdc_90b11c90205arow7_col5\" class=\"data row7 col5\" >38813.163348</td>\n",
       "                        <td id=\"T_513b10a4_31aa_11eb_bcdc_90b11c90205arow7_col6\" class=\"data row7 col6\" >33031.294772</td>\n",
       "            </tr>\n",
       "            <tr>\n",
       "                        <th id=\"T_513b10a4_31aa_11eb_bcdc_90b11c90205alevel0_row8\" class=\"row_heading level0 row8\" >Some college/university study without earning a bachelor's degree</th>\n",
       "                        <td id=\"T_513b10a4_31aa_11eb_bcdc_90b11c90205arow8_col0\" class=\"data row8 col0\" >9255.581387</td>\n",
       "                        <td id=\"T_513b10a4_31aa_11eb_bcdc_90b11c90205arow8_col1\" class=\"data row8 col1\" >7.424099</td>\n",
       "                        <td id=\"T_513b10a4_31aa_11eb_bcdc_90b11c90205arow8_col2\" class=\"data row8 col2\" >7.151268</td>\n",
       "                        <td id=\"T_513b10a4_31aa_11eb_bcdc_90b11c90205arow8_col3\" class=\"data row8 col3\" >3.086491</td>\n",
       "                        <td id=\"T_513b10a4_31aa_11eb_bcdc_90b11c90205arow8_col4\" class=\"data row8 col4\" >8.312830</td>\n",
       "                        <td id=\"T_513b10a4_31aa_11eb_bcdc_90b11c90205arow8_col5\" class=\"data row8 col5\" >58979.808989</td>\n",
       "                        <td id=\"T_513b10a4_31aa_11eb_bcdc_90b11c90205arow8_col6\" class=\"data row8 col6\" >35941.941020</td>\n",
       "            </tr>\n",
       "    </tbody></table>"
      ],
      "text/plain": [
       "<pandas.io.formats.style.Styler at 0x20310cff548>"
      ]
     },
     "execution_count": 19,
     "metadata": {},
     "output_type": "execute_result"
    }
   ],
   "source": [
    "df.groupby('FormalEducation').mean().style.highlight_max(color='green').highlight_null().highlight_min()"
   ]
  },
  {
   "cell_type": "code",
   "execution_count": 16,
   "metadata": {},
   "outputs": [
    {
     "name": "stdout",
     "output_type": "stream",
     "text": [
      "Nice job! That's what we found as well!\n"
     ]
    }
   ],
   "source": [
    "a = 'yes'\n",
    "b = 'no'\n",
    "c = 'hard to tell'\n",
    "\n",
    "job_sol_2 = {'Do individuals who program outside of work appear to have higher JobSatisfaction?': a,\n",
    "             'Does flexibility to work outside of the office appear to have an influence on JobSatisfaction?': a, \n",
    "             'A friend says a Doctoral degree increases the chance of having job you like, does this seem true?': a}\n",
    "             \n",
    "t.jobsat_check2(job_sol_2)"
   ]
  },
  {
   "cell_type": "code",
   "execution_count": null,
   "metadata": {},
   "outputs": [],
   "source": []
  }
 ],
 "metadata": {
  "kernelspec": {
   "display_name": "Python 3",
   "language": "python",
   "name": "python3"
  },
  "language_info": {
   "codemirror_mode": {
    "name": "ipython",
    "version": 3
   },
   "file_extension": ".py",
   "mimetype": "text/x-python",
   "name": "python",
   "nbconvert_exporter": "python",
   "pygments_lexer": "ipython3",
   "version": "3.7.7"
  }
 },
 "nbformat": 4,
 "nbformat_minor": 2
}
