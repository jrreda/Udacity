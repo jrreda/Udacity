{
 "cells": [
  {
   "cell_type": "markdown",
   "metadata": {},
   "source": [
    "# Grid Search\n",
    "Let's incorporate grid search into your modeling process. To start, include an import statement for `GridSearchCV` below."
   ]
  },
  {
   "cell_type": "code",
   "execution_count": 1,
   "metadata": {},
   "outputs": [
    {
     "name": "stderr",
     "output_type": "stream",
     "text": [
      "[nltk_data] Downloading package punkt to\n",
      "[nltk_data]     C:\\Users\\mahmo\\AppData\\Roaming\\nltk_data...\n",
      "[nltk_data]   Package punkt is already up-to-date!\n",
      "[nltk_data] Downloading package wordnet to\n",
      "[nltk_data]     C:\\Users\\mahmo\\AppData\\Roaming\\nltk_data...\n",
      "[nltk_data]   Package wordnet is already up-to-date!\n",
      "[nltk_data] Downloading package averaged_perceptron_tagger to\n",
      "[nltk_data]     C:\\Users\\mahmo\\AppData\\Roaming\\nltk_data...\n",
      "[nltk_data]   Package averaged_perceptron_tagger is already up-to-\n",
      "[nltk_data]       date!\n"
     ]
    },
    {
     "data": {
      "text/plain": [
       "True"
      ]
     },
     "execution_count": 1,
     "metadata": {},
     "output_type": "execute_result"
    }
   ],
   "source": [
    "import nltk\n",
    "nltk.download(['punkt', 'wordnet', 'averaged_perceptron_tagger'])"
   ]
  },
  {
   "cell_type": "code",
   "execution_count": 2,
   "metadata": {},
   "outputs": [],
   "source": [
    "import re\n",
    "import numpy as np\n",
    "import pandas as pd\n",
    "from nltk.tokenize import word_tokenize\n",
    "from nltk.stem import WordNetLemmatizer\n",
    "\n",
    "from sklearn.metrics import confusion_matrix\n",
    "from sklearn.model_selection import GridSearchCV\n",
    "from sklearn.ensemble import RandomForestClassifier\n",
    "from sklearn.model_selection import train_test_split\n",
    "from sklearn.pipeline import Pipeline, FeatureUnion\n",
    "from sklearn.base import BaseEstimator, TransformerMixin\n",
    "from sklearn.feature_extraction.text import CountVectorizer, TfidfTransformer"
   ]
  },
  {
   "cell_type": "code",
   "execution_count": 8,
   "metadata": {},
   "outputs": [],
   "source": [
    "def tokenize(text):\n",
    "    text = re.sub(r'http\\S+', 'url_placeholder', text.lower()).strip()\n",
    "    tokens = word_tokenize(text)\n",
    "    lemmatizer = WordNetLemmatizer()\n",
    "    lemms = [lemmatizer.lemmatize(token) for token in tokens]\n",
    "    return lemms\n",
    "\n",
    "class StartingVerbExtractor(BaseEstimator, TransformerMixin):\n",
    "\n",
    "    def starting_verb(self, text):\n",
    "        sentence_list = nltk.sent_tokenize(text)\n",
    "        for sentence in sentence_list:\n",
    "            pos_tags = nltk.pos_tag(tokenize(sentence))\n",
    "            first_word, first_tag = pos_tags[0]\n",
    "            if first_tag in ['VB', 'VBP'] or first_word == 'RT':\n",
    "                return True\n",
    "        return False\n",
    "\n",
    "    def fit(self, x, y=None):\n",
    "        return self\n",
    "\n",
    "    def transform(self, X):\n",
    "        X_tagged = pd.Series(X).apply(self.starting_verb)\n",
    "        return pd.DataFrame(X_tagged)"
   ]
  },
  {
   "cell_type": "markdown",
   "metadata": {},
   "source": [
    "### View parameters in pipeline\n",
    "Before modifying your build_model method to include grid search, view the parameters in your pipeline here."
   ]
  },
  {
   "cell_type": "code",
   "execution_count": 4,
   "metadata": {},
   "outputs": [],
   "source": [
    "pipeline = Pipeline([\n",
    "                (\"Features\", FeatureUnion([\n",
    "                    (\"text_pipeline\", Pipeline([('count', CountVectorizer(tokenizer=tokenize)),\n",
    "                                                ('tf-idf', TfidfTransformer())])),\n",
    "                    (\"verb\", StartingVerbExtractor())\n",
    "                ])),\n",
    "                (\"clf\", RandomForestClassifier())\n",
    "            ])"
   ]
  },
  {
   "cell_type": "code",
   "execution_count": null,
   "metadata": {},
   "outputs": [
    {
     "data": {
      "text/plain": [
       "{'memory': None,\n",
       " 'steps': [('Features',\n",
       "   FeatureUnion(transformer_list=[('text_pipeline',\n",
       "                                   Pipeline(steps=[('count',\n",
       "                                                    CountVectorizer(tokenizer=<function tokenize at 0x000001945D791280>)),\n",
       "                                                   ('tf-idf',\n",
       "                                                    TfidfTransformer())])),\n",
       "                                  ('verb', StartingVerbExtractor())])),\n",
       "  ('clf', RandomForestClassifier())],\n",
       " 'verbose': False,\n",
       " 'Features': FeatureUnion(transformer_list=[('text_pipeline',\n",
       "                                 Pipeline(steps=[('count',\n",
       "                                                  CountVectorizer(tokenizer=<function tokenize at 0x000001945D791280>)),\n",
       "                                                 ('tf-idf',\n",
       "                                                  TfidfTransformer())])),\n",
       "                                ('verb', StartingVerbExtractor())]),\n",
       " 'clf': RandomForestClassifier(),\n",
       " 'Features__n_jobs': None,\n",
       " 'Features__transformer_list': [('text_pipeline',\n",
       "   Pipeline(steps=[('count',\n",
       "                    CountVectorizer(tokenizer=<function tokenize at 0x000001945D791280>)),\n",
       "                   ('tf-idf', TfidfTransformer())])),\n",
       "  ('verb', StartingVerbExtractor())],\n",
       " 'Features__transformer_weights': None,\n",
       " 'Features__verbose': False,\n",
       " 'Features__text_pipeline': Pipeline(steps=[('count',\n",
       "                  CountVectorizer(tokenizer=<function tokenize at 0x000001945D791280>)),\n",
       "                 ('tf-idf', TfidfTransformer())]),\n",
       " 'Features__verb': StartingVerbExtractor(),\n",
       " 'Features__text_pipeline__memory': None,\n",
       " 'Features__text_pipeline__steps': [('count',\n",
       "   CountVectorizer(tokenizer=<function tokenize at 0x000001945D791280>)),\n",
       "  ('tf-idf', TfidfTransformer())],\n",
       " 'Features__text_pipeline__verbose': False,\n",
       " 'Features__text_pipeline__count': CountVectorizer(tokenizer=<function tokenize at 0x000001945D791280>),\n",
       " 'Features__text_pipeline__tf-idf': TfidfTransformer(),\n",
       " 'Features__text_pipeline__count__analyzer': 'word',\n",
       " 'Features__text_pipeline__count__binary': False,\n",
       " 'Features__text_pipeline__count__decode_error': 'strict',\n",
       " 'Features__text_pipeline__count__dtype': numpy.int64,\n",
       " 'Features__text_pipeline__count__encoding': 'utf-8',\n",
       " 'Features__text_pipeline__count__input': 'content',\n",
       " 'Features__text_pipeline__count__lowercase': True,\n",
       " 'Features__text_pipeline__count__max_df': 1.0,\n",
       " 'Features__text_pipeline__count__max_features': None,\n",
       " 'Features__text_pipeline__count__min_df': 1,\n",
       " 'Features__text_pipeline__count__ngram_range': (1, 1),\n",
       " 'Features__text_pipeline__count__preprocessor': None,\n",
       " 'Features__text_pipeline__count__stop_words': None,\n",
       " 'Features__text_pipeline__count__strip_accents': None,\n",
       " 'Features__text_pipeline__count__token_pattern': '(?u)\\\\b\\\\w\\\\w+\\\\b',\n",
       " 'Features__text_pipeline__count__tokenizer': <function __main__.tokenize(text)>,\n",
       " 'Features__text_pipeline__count__vocabulary': None,\n",
       " 'Features__text_pipeline__tf-idf__norm': 'l2',\n",
       " 'Features__text_pipeline__tf-idf__smooth_idf': True,\n",
       " 'Features__text_pipeline__tf-idf__sublinear_tf': False,\n",
       " 'Features__text_pipeline__tf-idf__use_idf': True,\n",
       " 'clf__bootstrap': True,\n",
       " 'clf__ccp_alpha': 0.0,\n",
       " 'clf__class_weight': None,\n",
       " 'clf__criterion': 'gini',\n",
       " 'clf__max_depth': None,\n",
       " 'clf__max_features': 'auto',\n",
       " 'clf__max_leaf_nodes': None,\n",
       " 'clf__max_samples': None,\n",
       " 'clf__min_impurity_decrease': 0.0,\n",
       " 'clf__min_samples_leaf': 1,\n",
       " 'clf__min_samples_split': 2,\n",
       " 'clf__min_weight_fraction_leaf': 0.0,\n",
       " 'clf__n_estimators': 100,\n",
       " 'clf__n_jobs': None,\n",
       " 'clf__oob_score': False,\n",
       " 'clf__random_state': None,\n",
       " 'clf__verbose': 0,\n",
       " 'clf__warm_start': False}"
      ]
     },
     "execution_count": 5,
     "metadata": {},
     "output_type": "execute_result"
    }
   ],
   "source": [
    "pipeline.get_params()"
   ]
  },
  {
   "cell_type": "markdown",
   "metadata": {},
   "source": [
    "### Modify your `build_model` function to return a GridSearchCV object.\n",
    "Try to grid search some parameters in your data transformation steps as well as those for your classifier! Browse the parameters you can search above."
   ]
  },
  {
   "cell_type": "code",
   "execution_count": 6,
   "metadata": {},
   "outputs": [],
   "source": [
    "def build_model():\n",
    "    pipeline = Pipeline([\n",
    "                (\"Features\", FeatureUnion([\n",
    "                    (\"text_pipeline\", Pipeline([('count', CountVectorizer(tokenizer=tokenize)),\n",
    "                                                ('tf-idf', TfidfTransformer())])),\n",
    "                    (\"verb\", StartingVerbExtractor())\n",
    "                ])),\n",
    "                (\"clf\", RandomForestClassifier())\n",
    "            ])\n",
    "\n",
    "    # specify parameters for grid search\n",
    "#     parameters = {\n",
    "#         'features__text_pipeline__vect__ngram_range': ((1, 1), (1, 2)),\n",
    "#         'features__text_pipeline__vect__max_df': (0.5, 0.75, 1.0),\n",
    "#         'features__text_pipeline__vect__max_features': (None, 5000, 10000),\n",
    "#         'features__text_pipeline__tfidf__use_idf': (True, False),\n",
    "#         'clf__n_estimators': [50, 100, 200],\n",
    "#         'clf__min_samples_split': [2, 3, 4],\n",
    "#         'features__transformer_weights': (\n",
    "#             {'text_pipeline': 1, 'starting_verb': 0.5},\n",
    "#             {'text_pipeline': 0.5, 'starting_verb': 1},\n",
    "#             {'text_pipeline': 0.8, 'starting_verb': 1},\n",
    "#         )\n",
    "#     }\n",
    "\n",
    "    parameters = {\n",
    "        'clf__n_estimators': [50, 100, 200],\n",
    "        'clf__min_samples_split': [2, 3, 4]\n",
    "    }\n",
    "\n",
    "    # create grid search object\n",
    "    cv = GridSearchCV(pipeline, param_grid=parameters)\n",
    "    \n",
    "    return cv"
   ]
  },
  {
   "cell_type": "markdown",
   "metadata": {},
   "source": [
    "### Run program to test\n",
    "Running grid search can take a while, especially if you are searching over a lot of parameters! If you want to reduce it to a few minutes, try commenting out some of your parameters to grid search over just 1 or 2 parameters with a small number of values each. Once you know that works, feel free to add more parameters and see how well your final model can perform! You can try this out in the next page."
   ]
  },
  {
   "cell_type": "code",
   "execution_count": 9,
   "metadata": {},
   "outputs": [
    {
     "name": "stdout",
     "output_type": "stream",
     "text": [
      "Labels: ['Action' 'Dialogue' 'Information']\n",
      "Confusion Matrix:\n",
      " [[ 83   0  28]\n",
      " [  0  30   3]\n",
      " [  4   1 452]]\n",
      "Accuracy: 0.940099833610649\n",
      "\n",
      "Best Parameters: {'clf__min_samples_split': 2, 'clf__n_estimators': 50}\n",
      "CPU times: total: 4min 54s\n",
      "Wall time: 4min 55s\n"
     ]
    }
   ],
   "source": [
    "%%time\n",
    "\n",
    "def load_data():\n",
    "    df = pd.read_csv('corporate_messaging.csv', encoding='latin-1')\n",
    "    df = df[(df[\"category:confidence\"] == 1) & (df['category'] != 'Exclude')]\n",
    "    X = df.text.values\n",
    "    y = df.category.values\n",
    "    return X, y\n",
    "\n",
    "\n",
    "def display_results(cv, y_test, y_pred):\n",
    "    labels = np.unique(y_pred)\n",
    "    confusion_mat = confusion_matrix(y_test, y_pred, labels=labels)\n",
    "    accuracy = (y_pred == y_test).mean()\n",
    "\n",
    "    print(\"Labels:\", labels)\n",
    "    print(\"Confusion Matrix:\\n\", confusion_mat)\n",
    "    print(\"Accuracy:\", accuracy)\n",
    "    print(\"\\nBest Parameters:\", cv.best_params_)\n",
    "\n",
    "\n",
    "def main():\n",
    "    X, y = load_data()\n",
    "    X_train, X_test, y_train, y_test = train_test_split(X, y)\n",
    "\n",
    "    model = build_model()\n",
    "    model.fit(X_train, y_train)\n",
    "    y_pred = model.predict(X_test)\n",
    "    \n",
    "    display_results(model, y_test, y_pred)\n",
    "\n",
    "\n",
    "main()"
   ]
  },
  {
   "cell_type": "code",
   "execution_count": null,
   "metadata": {},
   "outputs": [],
   "source": []
  }
 ],
 "metadata": {
  "kernelspec": {
   "display_name": "Python 3 (ipykernel)",
   "language": "python",
   "name": "python3"
  },
  "language_info": {
   "codemirror_mode": {
    "name": "ipython",
    "version": 3
   },
   "file_extension": ".py",
   "mimetype": "text/x-python",
   "name": "python",
   "nbconvert_exporter": "python",
   "pygments_lexer": "ipython3",
   "version": "3.8.13"
  },
  "widgets": {
   "application/vnd.jupyter.widget-state+json": {
    "state": {},
    "version_major": 2,
    "version_minor": 0
   }
  }
 },
 "nbformat": 4,
 "nbformat_minor": 4
}
