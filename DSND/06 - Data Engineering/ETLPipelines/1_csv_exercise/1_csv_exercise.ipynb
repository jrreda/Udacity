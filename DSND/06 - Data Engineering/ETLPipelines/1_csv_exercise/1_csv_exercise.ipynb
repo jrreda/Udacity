{
 "cells": [
  {
   "cell_type": "markdown",
   "metadata": {},
   "source": [
    "# Goal of the ETL Lesson\n",
    "\n",
    "The main goal of this ETL pipelines lesson is to take the [World Bank Project data set](https://datacatalog.worldbank.org/dataset/world-bank-projects-operations) and merge this data with the [World Bank indicator data](https://data.worldbank.org/indicator/SP.POP.TOTL). Then you'll load the merged data into a database.\n",
    "\n",
    "In the process, you'll need to transform these data sets in different ways. And finally, you'll write a single Python module that reads in these date sets, transforms them, and loads the results into the database all in one step.\n",
    "\n",
    "# Extracting data from a csv file\n",
    "\n",
    "The first step in an ETL pipeline is extraction. Data comes in all types of different formats, and you'll practice extracting data from csv files, JSON files, XML files, SQL databases, and the web.\n",
    "\n",
    "In this first exercise, you'll practice extracting data from a CSV file and then navigating through the results. You'll see that extracting data is not always a straight-forward process.\n",
    "\n",
    "This exercise contains a series of coding questions for you to solve. If you get stuck, there is a solution file called 1_csv_exercise_solution.ipynb. You can find this solution file by going to File->Open and then clicking on the file name."
   ]
  },
  {
   "cell_type": "markdown",
   "metadata": {},
   "source": [
    "# Part 1 projects_data.csv\n",
    "\n",
    "There are two csv files loaded into this workspace:\n",
    "* projects_data.csv\n",
    "* population_data.csv\n",
    "\n",
    "As a first step, try importing the projects data using the pandas [read_csv method](https://pandas.pydata.org/pandas-docs/stable/generated/pandas.read_csv.html). The file path is just 'projects_data.csv'. You can see the file if you click on File->Open in the workspace."
   ]
  },
  {
   "cell_type": "code",
   "execution_count": 1,
   "metadata": {},
   "outputs": [
    {
     "name": "stderr",
     "output_type": "stream",
     "text": [
      "C:\\Users\\mahmo\\AppData\\Local\\Temp\\ipykernel_11644\\3965343242.py:4: DtypeWarning: Columns (44) have mixed types. Specify dtype option on import or set low_memory=False.\n",
      "  df_projects = pd.read_csv(\"projects_data.csv\")\n"
     ]
    }
   ],
   "source": [
    "# TODO: import the projects_data.csv file using the pandas library\n",
    "# Store the results in the df_projects variable\n",
    "import pandas as pd\n",
    "df_projects = pd.read_csv(\"projects_data.csv\")"
   ]
  },
  {
   "cell_type": "markdown",
   "metadata": {},
   "source": [
    "Did you get a DType warning? Read about what this warning is in the [pandas documentation](https://pandas.pydata.org/pandas-docs/stable/generated/pandas.errors.DtypeWarning.html).\n",
    "\n",
    "Pandas tries to figure out programatically the data type of each column (integer, float, boolean, string). In this case, pandas could not automatically figure out the data type. That is because some columns have multiple data types. In other words, this data is somewhat messy.\n",
    "\n",
    "You can use the dtype option to specify the data type of each column. Because there are so many columns in this data set, you can set all columns to be strings.\n",
    "\n",
    "Try reading in the data set again using the read_csv() method. This time, also use the option dtype=str so that pandas treats everything like a string."
   ]
  },
  {
   "cell_type": "code",
   "execution_count": 2,
   "metadata": {},
   "outputs": [],
   "source": [
    "# TODO: Read in the projects_data.csv file using the read_csv method \n",
    "# and dtype = str option\n",
    "df_projects = pd.read_csv(\"projects_data.csv\", dtype=str)"
   ]
  },
  {
   "cell_type": "code",
   "execution_count": 3,
   "metadata": {},
   "outputs": [
    {
     "data": {
      "text/html": [
       "<div>\n",
       "<style scoped>\n",
       "    .dataframe tbody tr th:only-of-type {\n",
       "        vertical-align: middle;\n",
       "    }\n",
       "\n",
       "    .dataframe tbody tr th {\n",
       "        vertical-align: top;\n",
       "    }\n",
       "\n",
       "    .dataframe thead th {\n",
       "        text-align: right;\n",
       "    }\n",
       "</style>\n",
       "<table border=\"1\" class=\"dataframe\">\n",
       "  <thead>\n",
       "    <tr style=\"text-align: right;\">\n",
       "      <th></th>\n",
       "      <th>id</th>\n",
       "      <th>regionname</th>\n",
       "      <th>countryname</th>\n",
       "      <th>prodline</th>\n",
       "      <th>lendinginstr</th>\n",
       "      <th>lendinginstrtype</th>\n",
       "      <th>envassesmentcategorycode</th>\n",
       "      <th>supplementprojectflg</th>\n",
       "      <th>productlinetype</th>\n",
       "      <th>projectstatusdisplay</th>\n",
       "      <th>...</th>\n",
       "      <th>mjtheme3name</th>\n",
       "      <th>mjtheme4name</th>\n",
       "      <th>mjtheme5name</th>\n",
       "      <th>location</th>\n",
       "      <th>GeoLocID</th>\n",
       "      <th>GeoLocName</th>\n",
       "      <th>Latitude</th>\n",
       "      <th>Longitude</th>\n",
       "      <th>Country</th>\n",
       "      <th>Unnamed: 56</th>\n",
       "    </tr>\n",
       "  </thead>\n",
       "  <tbody>\n",
       "    <tr>\n",
       "      <th>0</th>\n",
       "      <td>P162228</td>\n",
       "      <td>Other</td>\n",
       "      <td>World;World</td>\n",
       "      <td>RE</td>\n",
       "      <td>Investment Project Financing</td>\n",
       "      <td>IN</td>\n",
       "      <td>C</td>\n",
       "      <td>N</td>\n",
       "      <td>L</td>\n",
       "      <td>Active</td>\n",
       "      <td>...</td>\n",
       "      <td>NaN</td>\n",
       "      <td>NaN</td>\n",
       "      <td>NaN</td>\n",
       "      <td>NaN</td>\n",
       "      <td>NaN</td>\n",
       "      <td>NaN</td>\n",
       "      <td>NaN</td>\n",
       "      <td>NaN</td>\n",
       "      <td>NaN</td>\n",
       "      <td>NaN</td>\n",
       "    </tr>\n",
       "    <tr>\n",
       "      <th>1</th>\n",
       "      <td>P163962</td>\n",
       "      <td>Africa</td>\n",
       "      <td>Democratic Republic of the Congo;Democratic Re...</td>\n",
       "      <td>PE</td>\n",
       "      <td>Investment Project Financing</td>\n",
       "      <td>IN</td>\n",
       "      <td>B</td>\n",
       "      <td>N</td>\n",
       "      <td>L</td>\n",
       "      <td>Active</td>\n",
       "      <td>...</td>\n",
       "      <td>NaN</td>\n",
       "      <td>NaN</td>\n",
       "      <td>NaN</td>\n",
       "      <td>NaN</td>\n",
       "      <td>NaN</td>\n",
       "      <td>NaN</td>\n",
       "      <td>NaN</td>\n",
       "      <td>NaN</td>\n",
       "      <td>NaN</td>\n",
       "      <td>NaN</td>\n",
       "    </tr>\n",
       "    <tr>\n",
       "      <th>2</th>\n",
       "      <td>P167672</td>\n",
       "      <td>South Asia</td>\n",
       "      <td>People's Republic of Bangladesh;People's Repub...</td>\n",
       "      <td>PE</td>\n",
       "      <td>Investment Project Financing</td>\n",
       "      <td>IN</td>\n",
       "      <td>NaN</td>\n",
       "      <td>Y</td>\n",
       "      <td>L</td>\n",
       "      <td>Active</td>\n",
       "      <td>...</td>\n",
       "      <td>NaN</td>\n",
       "      <td>NaN</td>\n",
       "      <td>NaN</td>\n",
       "      <td>NaN</td>\n",
       "      <td>NaN</td>\n",
       "      <td>NaN</td>\n",
       "      <td>NaN</td>\n",
       "      <td>NaN</td>\n",
       "      <td>NaN</td>\n",
       "      <td>NaN</td>\n",
       "    </tr>\n",
       "    <tr>\n",
       "      <th>3</th>\n",
       "      <td>P158768</td>\n",
       "      <td>South Asia</td>\n",
       "      <td>Islamic  Republic of Afghanistan;Islamic  Repu...</td>\n",
       "      <td>PE</td>\n",
       "      <td>Investment Project Financing</td>\n",
       "      <td>IN</td>\n",
       "      <td>A</td>\n",
       "      <td>N</td>\n",
       "      <td>L</td>\n",
       "      <td>Active</td>\n",
       "      <td>...</td>\n",
       "      <td>NaN</td>\n",
       "      <td>NaN</td>\n",
       "      <td>NaN</td>\n",
       "      <td>NaN</td>\n",
       "      <td>NaN</td>\n",
       "      <td>NaN</td>\n",
       "      <td>NaN</td>\n",
       "      <td>NaN</td>\n",
       "      <td>NaN</td>\n",
       "      <td>NaN</td>\n",
       "    </tr>\n",
       "    <tr>\n",
       "      <th>4</th>\n",
       "      <td>P161364</td>\n",
       "      <td>Africa</td>\n",
       "      <td>Federal Republic of Nigeria;Federal Republic o...</td>\n",
       "      <td>PE</td>\n",
       "      <td>Investment Project Financing</td>\n",
       "      <td>IN</td>\n",
       "      <td>B</td>\n",
       "      <td>N</td>\n",
       "      <td>L</td>\n",
       "      <td>Active</td>\n",
       "      <td>...</td>\n",
       "      <td>NaN</td>\n",
       "      <td>NaN</td>\n",
       "      <td>NaN</td>\n",
       "      <td>0002327546!$!Ogun State!$!7!$!3.58333!$!NG;000...</td>\n",
       "      <td>0002327546;0002328925;0002565340;0002565343;00...</td>\n",
       "      <td>Ogun State;Niger State;Abia State;Edo;Kebbi St...</td>\n",
       "      <td>7;10;5.41667;6.5;11.5;8</td>\n",
       "      <td>3.58333;6;7.5;6;4;10.5</td>\n",
       "      <td>NG;NG;NG;NG;NG;NG</td>\n",
       "      <td>NaN</td>\n",
       "    </tr>\n",
       "  </tbody>\n",
       "</table>\n",
       "<p>5 rows × 57 columns</p>\n",
       "</div>"
      ],
      "text/plain": [
       "        id  regionname                                        countryname  \\\n",
       "0  P162228       Other                                        World;World   \n",
       "1  P163962      Africa  Democratic Republic of the Congo;Democratic Re...   \n",
       "2  P167672  South Asia  People's Republic of Bangladesh;People's Repub...   \n",
       "3  P158768  South Asia  Islamic  Republic of Afghanistan;Islamic  Repu...   \n",
       "4  P161364      Africa  Federal Republic of Nigeria;Federal Republic o...   \n",
       "\n",
       "  prodline                  lendinginstr lendinginstrtype  \\\n",
       "0       RE  Investment Project Financing               IN   \n",
       "1       PE  Investment Project Financing               IN   \n",
       "2       PE  Investment Project Financing               IN   \n",
       "3       PE  Investment Project Financing               IN   \n",
       "4       PE  Investment Project Financing               IN   \n",
       "\n",
       "  envassesmentcategorycode supplementprojectflg productlinetype  \\\n",
       "0                        C                    N               L   \n",
       "1                        B                    N               L   \n",
       "2                      NaN                    Y               L   \n",
       "3                        A                    N               L   \n",
       "4                        B                    N               L   \n",
       "\n",
       "  projectstatusdisplay  ... mjtheme3name mjtheme4name mjtheme5name  \\\n",
       "0               Active  ...          NaN          NaN          NaN   \n",
       "1               Active  ...          NaN          NaN          NaN   \n",
       "2               Active  ...          NaN          NaN          NaN   \n",
       "3               Active  ...          NaN          NaN          NaN   \n",
       "4               Active  ...          NaN          NaN          NaN   \n",
       "\n",
       "                                            location  \\\n",
       "0                                                NaN   \n",
       "1                                                NaN   \n",
       "2                                                NaN   \n",
       "3                                                NaN   \n",
       "4  0002327546!$!Ogun State!$!7!$!3.58333!$!NG;000...   \n",
       "\n",
       "                                            GeoLocID  \\\n",
       "0                                                NaN   \n",
       "1                                                NaN   \n",
       "2                                                NaN   \n",
       "3                                                NaN   \n",
       "4  0002327546;0002328925;0002565340;0002565343;00...   \n",
       "\n",
       "                                          GeoLocName                 Latitude  \\\n",
       "0                                                NaN                      NaN   \n",
       "1                                                NaN                      NaN   \n",
       "2                                                NaN                      NaN   \n",
       "3                                                NaN                      NaN   \n",
       "4  Ogun State;Niger State;Abia State;Edo;Kebbi St...  7;10;5.41667;6.5;11.5;8   \n",
       "\n",
       "                Longitude            Country Unnamed: 56  \n",
       "0                     NaN                NaN         NaN  \n",
       "1                     NaN                NaN         NaN  \n",
       "2                     NaN                NaN         NaN  \n",
       "3                     NaN                NaN         NaN  \n",
       "4  3.58333;6;7.5;6;4;10.5  NG;NG;NG;NG;NG;NG         NaN  \n",
       "\n",
       "[5 rows x 57 columns]"
      ]
     },
     "execution_count": 3,
     "metadata": {},
     "output_type": "execute_result"
    }
   ],
   "source": [
    "# Run the cell below to see what the data looks like\n",
    "df_projects.head()"
   ]
  },
  {
   "cell_type": "code",
   "execution_count": 5,
   "metadata": {},
   "outputs": [
    {
     "data": {
      "text/plain": [
       "id                              0\n",
       "regionname                      0\n",
       "countryname                     0\n",
       "prodline                        0\n",
       "lendinginstr                  246\n",
       "lendinginstrtype              246\n",
       "envassesmentcategorycode     5811\n",
       "supplementprojectflg           53\n",
       "productlinetype                 0\n",
       "projectstatusdisplay            4\n",
       "status                          4\n",
       "project_name                    0\n",
       "boardapprovaldate            1504\n",
       "board_approval_month         1504\n",
       "closingdate                  3349\n",
       "lendprojectcost               125\n",
       "ibrdcommamt                     0\n",
       "idacommamt                      0\n",
       "totalamt                        0\n",
       "grantamt                        0\n",
       "borrower                     5919\n",
       "impagency                    6097\n",
       "url                             0\n",
       "projectdoc                  18248\n",
       "majorsector_percent         18248\n",
       "sector1                         0\n",
       "sector2                      8721\n",
       "sector3                     11761\n",
       "sector4                     13872\n",
       "sector5                     15535\n",
       "sector                        638\n",
       "mjsector1                   18248\n",
       "mjsector2                   18248\n",
       "mjsector3                   18248\n",
       "mjsector4                   18248\n",
       "mjsector5                   18248\n",
       "mjsector                      638\n",
       "theme1                          0\n",
       "theme2                       8395\n",
       "theme3                      10764\n",
       "theme4                      13014\n",
       "theme5                      15320\n",
       "theme                       18248\n",
       "goal                         6115\n",
       "financier                   11188\n",
       "mjtheme1name                18248\n",
       "mjtheme2name                18248\n",
       "mjtheme3name                18248\n",
       "mjtheme4name                18248\n",
       "mjtheme5name                18248\n",
       "location                    13922\n",
       "GeoLocID                    13922\n",
       "GeoLocName                  13923\n",
       "Latitude                    13922\n",
       "Longitude                   13922\n",
       "Country                     14045\n",
       "Unnamed: 56                 18248\n",
       "dtype: int64"
      ]
     },
     "execution_count": 5,
     "metadata": {},
     "output_type": "execute_result"
    }
   ],
   "source": [
    "# TODO: count the number of null values in the data set\n",
    "# HINT: use the isnull() and sum() methods\n",
    "df_projects.isna().sum()"
   ]
  },
  {
   "cell_type": "markdown",
   "metadata": {},
   "source": [
    "Notice that the number 18248 shows up multiple times. There is also a countryname column with 0 missing values and a Country column with 14045 missing values. This data set has some issues that will need to be solved in the transform part of the pipeline.\n",
    "\n",
    "Next, output the size of the data frame."
   ]
  },
  {
   "cell_type": "code",
   "execution_count": 6,
   "metadata": {},
   "outputs": [
    {
     "data": {
      "text/plain": [
       "(18248, 57)"
      ]
     },
     "execution_count": 6,
     "metadata": {},
     "output_type": "execute_result"
    }
   ],
   "source": [
    "# TODO: output the shape of the data frame\n",
    "df_projects.shape"
   ]
  },
  {
   "cell_type": "markdown",
   "metadata": {},
   "source": [
    "There are 18248 rows in this data set. Considering many columns had 18248 NaN values, many columns in the data set are filled completely with NaN values."
   ]
  },
  {
   "cell_type": "markdown",
   "metadata": {},
   "source": [
    "# Part 2 population_data.csv"
   ]
  },
  {
   "cell_type": "markdown",
   "metadata": {},
   "source": [
    "Next, use the pandas read_csv method to read in the population_data.csv file. The path to this file is \"population_data.csv\". When you try to read in this data set using pandas, you'll get an error because there is something wrong with the data."
   ]
  },
  {
   "cell_type": "code",
   "execution_count": 7,
   "metadata": {},
   "outputs": [
    {
     "ename": "ParserError",
     "evalue": "Error tokenizing data. C error: Expected 3 fields in line 5, saw 63\n",
     "output_type": "error",
     "traceback": [
      "\u001b[1;31m---------------------------------------------------------------------------\u001b[0m",
      "\u001b[1;31mParserError\u001b[0m                               Traceback (most recent call last)",
      "Input \u001b[1;32mIn [7]\u001b[0m, in \u001b[0;36m<cell line: 3>\u001b[1;34m()\u001b[0m\n\u001b[0;32m      1\u001b[0m \u001b[38;5;66;03m# TODO: read in the population_data.csv file\u001b[39;00m\n\u001b[0;32m      2\u001b[0m \u001b[38;5;66;03m# Put the results in a variable called df_population\u001b[39;00m\n\u001b[1;32m----> 3\u001b[0m df_population \u001b[38;5;241m=\u001b[39m \u001b[43mpd\u001b[49m\u001b[38;5;241;43m.\u001b[39;49m\u001b[43mread_csv\u001b[49m\u001b[43m(\u001b[49m\u001b[38;5;124;43m\"\u001b[39;49m\u001b[38;5;124;43mpopulation_data.csv\u001b[39;49m\u001b[38;5;124;43m\"\u001b[39;49m\u001b[43m)\u001b[49m\n",
      "File \u001b[1;32m~\\anaconda3\\lib\\site-packages\\pandas\\util\\_decorators.py:311\u001b[0m, in \u001b[0;36mdeprecate_nonkeyword_arguments.<locals>.decorate.<locals>.wrapper\u001b[1;34m(*args, **kwargs)\u001b[0m\n\u001b[0;32m    305\u001b[0m \u001b[38;5;28;01mif\u001b[39;00m \u001b[38;5;28mlen\u001b[39m(args) \u001b[38;5;241m>\u001b[39m num_allow_args:\n\u001b[0;32m    306\u001b[0m     warnings\u001b[38;5;241m.\u001b[39mwarn(\n\u001b[0;32m    307\u001b[0m         msg\u001b[38;5;241m.\u001b[39mformat(arguments\u001b[38;5;241m=\u001b[39marguments),\n\u001b[0;32m    308\u001b[0m         \u001b[38;5;167;01mFutureWarning\u001b[39;00m,\n\u001b[0;32m    309\u001b[0m         stacklevel\u001b[38;5;241m=\u001b[39mstacklevel,\n\u001b[0;32m    310\u001b[0m     )\n\u001b[1;32m--> 311\u001b[0m \u001b[38;5;28;01mreturn\u001b[39;00m \u001b[43mfunc\u001b[49m\u001b[43m(\u001b[49m\u001b[38;5;241;43m*\u001b[39;49m\u001b[43margs\u001b[49m\u001b[43m,\u001b[49m\u001b[43m \u001b[49m\u001b[38;5;241;43m*\u001b[39;49m\u001b[38;5;241;43m*\u001b[39;49m\u001b[43mkwargs\u001b[49m\u001b[43m)\u001b[49m\n",
      "File \u001b[1;32m~\\anaconda3\\lib\\site-packages\\pandas\\io\\parsers\\readers.py:680\u001b[0m, in \u001b[0;36mread_csv\u001b[1;34m(filepath_or_buffer, sep, delimiter, header, names, index_col, usecols, squeeze, prefix, mangle_dupe_cols, dtype, engine, converters, true_values, false_values, skipinitialspace, skiprows, skipfooter, nrows, na_values, keep_default_na, na_filter, verbose, skip_blank_lines, parse_dates, infer_datetime_format, keep_date_col, date_parser, dayfirst, cache_dates, iterator, chunksize, compression, thousands, decimal, lineterminator, quotechar, quoting, doublequote, escapechar, comment, encoding, encoding_errors, dialect, error_bad_lines, warn_bad_lines, on_bad_lines, delim_whitespace, low_memory, memory_map, float_precision, storage_options)\u001b[0m\n\u001b[0;32m    665\u001b[0m kwds_defaults \u001b[38;5;241m=\u001b[39m _refine_defaults_read(\n\u001b[0;32m    666\u001b[0m     dialect,\n\u001b[0;32m    667\u001b[0m     delimiter,\n\u001b[1;32m   (...)\u001b[0m\n\u001b[0;32m    676\u001b[0m     defaults\u001b[38;5;241m=\u001b[39m{\u001b[38;5;124m\"\u001b[39m\u001b[38;5;124mdelimiter\u001b[39m\u001b[38;5;124m\"\u001b[39m: \u001b[38;5;124m\"\u001b[39m\u001b[38;5;124m,\u001b[39m\u001b[38;5;124m\"\u001b[39m},\n\u001b[0;32m    677\u001b[0m )\n\u001b[0;32m    678\u001b[0m kwds\u001b[38;5;241m.\u001b[39mupdate(kwds_defaults)\n\u001b[1;32m--> 680\u001b[0m \u001b[38;5;28;01mreturn\u001b[39;00m \u001b[43m_read\u001b[49m\u001b[43m(\u001b[49m\u001b[43mfilepath_or_buffer\u001b[49m\u001b[43m,\u001b[49m\u001b[43m \u001b[49m\u001b[43mkwds\u001b[49m\u001b[43m)\u001b[49m\n",
      "File \u001b[1;32m~\\anaconda3\\lib\\site-packages\\pandas\\io\\parsers\\readers.py:581\u001b[0m, in \u001b[0;36m_read\u001b[1;34m(filepath_or_buffer, kwds)\u001b[0m\n\u001b[0;32m    578\u001b[0m     \u001b[38;5;28;01mreturn\u001b[39;00m parser\n\u001b[0;32m    580\u001b[0m \u001b[38;5;28;01mwith\u001b[39;00m parser:\n\u001b[1;32m--> 581\u001b[0m     \u001b[38;5;28;01mreturn\u001b[39;00m \u001b[43mparser\u001b[49m\u001b[38;5;241;43m.\u001b[39;49m\u001b[43mread\u001b[49m\u001b[43m(\u001b[49m\u001b[43mnrows\u001b[49m\u001b[43m)\u001b[49m\n",
      "File \u001b[1;32m~\\anaconda3\\lib\\site-packages\\pandas\\io\\parsers\\readers.py:1254\u001b[0m, in \u001b[0;36mTextFileReader.read\u001b[1;34m(self, nrows)\u001b[0m\n\u001b[0;32m   1252\u001b[0m nrows \u001b[38;5;241m=\u001b[39m validate_integer(\u001b[38;5;124m\"\u001b[39m\u001b[38;5;124mnrows\u001b[39m\u001b[38;5;124m\"\u001b[39m, nrows)\n\u001b[0;32m   1253\u001b[0m \u001b[38;5;28;01mtry\u001b[39;00m:\n\u001b[1;32m-> 1254\u001b[0m     index, columns, col_dict \u001b[38;5;241m=\u001b[39m \u001b[38;5;28;43mself\u001b[39;49m\u001b[38;5;241;43m.\u001b[39;49m\u001b[43m_engine\u001b[49m\u001b[38;5;241;43m.\u001b[39;49m\u001b[43mread\u001b[49m\u001b[43m(\u001b[49m\u001b[43mnrows\u001b[49m\u001b[43m)\u001b[49m\n\u001b[0;32m   1255\u001b[0m \u001b[38;5;28;01mexcept\u001b[39;00m \u001b[38;5;167;01mException\u001b[39;00m:\n\u001b[0;32m   1256\u001b[0m     \u001b[38;5;28mself\u001b[39m\u001b[38;5;241m.\u001b[39mclose()\n",
      "File \u001b[1;32m~\\anaconda3\\lib\\site-packages\\pandas\\io\\parsers\\c_parser_wrapper.py:225\u001b[0m, in \u001b[0;36mCParserWrapper.read\u001b[1;34m(self, nrows)\u001b[0m\n\u001b[0;32m    223\u001b[0m \u001b[38;5;28;01mtry\u001b[39;00m:\n\u001b[0;32m    224\u001b[0m     \u001b[38;5;28;01mif\u001b[39;00m \u001b[38;5;28mself\u001b[39m\u001b[38;5;241m.\u001b[39mlow_memory:\n\u001b[1;32m--> 225\u001b[0m         chunks \u001b[38;5;241m=\u001b[39m \u001b[38;5;28;43mself\u001b[39;49m\u001b[38;5;241;43m.\u001b[39;49m\u001b[43m_reader\u001b[49m\u001b[38;5;241;43m.\u001b[39;49m\u001b[43mread_low_memory\u001b[49m\u001b[43m(\u001b[49m\u001b[43mnrows\u001b[49m\u001b[43m)\u001b[49m\n\u001b[0;32m    226\u001b[0m         \u001b[38;5;66;03m# destructive to chunks\u001b[39;00m\n\u001b[0;32m    227\u001b[0m         data \u001b[38;5;241m=\u001b[39m _concatenate_chunks(chunks)\n",
      "File \u001b[1;32m~\\anaconda3\\lib\\site-packages\\pandas\\_libs\\parsers.pyx:805\u001b[0m, in \u001b[0;36mpandas._libs.parsers.TextReader.read_low_memory\u001b[1;34m()\u001b[0m\n",
      "File \u001b[1;32m~\\anaconda3\\lib\\site-packages\\pandas\\_libs\\parsers.pyx:861\u001b[0m, in \u001b[0;36mpandas._libs.parsers.TextReader._read_rows\u001b[1;34m()\u001b[0m\n",
      "File \u001b[1;32m~\\anaconda3\\lib\\site-packages\\pandas\\_libs\\parsers.pyx:847\u001b[0m, in \u001b[0;36mpandas._libs.parsers.TextReader._tokenize_rows\u001b[1;34m()\u001b[0m\n",
      "File \u001b[1;32m~\\anaconda3\\lib\\site-packages\\pandas\\_libs\\parsers.pyx:1960\u001b[0m, in \u001b[0;36mpandas._libs.parsers.raise_parser_error\u001b[1;34m()\u001b[0m\n",
      "\u001b[1;31mParserError\u001b[0m: Error tokenizing data. C error: Expected 3 fields in line 5, saw 63\n"
     ]
    }
   ],
   "source": [
    "# TODO: read in the population_data.csv file\n",
    "# Put the results in a variable called df_population\n",
    "df_population = pd.read_csv(\"population_data.csv\")"
   ]
  },
  {
   "cell_type": "markdown",
   "metadata": {},
   "source": [
    "There is something wrong with this data set. You should see an error that says \"expected 3 fields in line 5, saw 63\". What might have happened? Try printing out the first few lines of the data file to see what the issue might be."
   ]
  },
  {
   "cell_type": "code",
   "execution_count": 25,
   "metadata": {},
   "outputs": [
    {
     "name": "stdout",
     "output_type": "stream",
     "text": [
      "0 ï»¿\"Data Source\",\"World Development Indicators\",\n",
      "\n",
      "1 \n",
      "\n",
      "2 \"Last Updated Date\",\"2018-06-28\",\n",
      "\n",
      "3 \n",
      "\n"
     ]
    }
   ],
   "source": [
    "# TODO: Print out the first 10 lines of the data set, line by line.\n",
    "# HINT: You can't use the read_csv method from pandas\n",
    "# HINT: to do this manually, you'll need to use pure Python\n",
    "# HINT: the open(), readline(), and close() methods should be helpful\n",
    "# HINT: Use a for loop\n",
    "with open(\"population_data.csv\", 'r') as f:\n",
    "    for i in range(4):\n",
    "        print(i, f.readline())\n",
    "    "
   ]
  },
  {
   "cell_type": "markdown",
   "metadata": {},
   "source": [
    "The first four lines in the file are not properly formatted and don't contain data. Next, read in the data using the read_csv method. But this time, use the skiprows option."
   ]
  },
  {
   "cell_type": "code",
   "execution_count": 28,
   "metadata": {},
   "outputs": [],
   "source": [
    "# TODO: read in population data skipping the first four rows\n",
    "# Put the results in a variable called df_population\n",
    "\n",
    "df_population = pd.read_csv('population_data.csv', skiprows=4)"
   ]
  },
  {
   "cell_type": "code",
   "execution_count": 29,
   "metadata": {},
   "outputs": [
    {
     "data": {
      "text/html": [
       "<div>\n",
       "<style scoped>\n",
       "    .dataframe tbody tr th:only-of-type {\n",
       "        vertical-align: middle;\n",
       "    }\n",
       "\n",
       "    .dataframe tbody tr th {\n",
       "        vertical-align: top;\n",
       "    }\n",
       "\n",
       "    .dataframe thead th {\n",
       "        text-align: right;\n",
       "    }\n",
       "</style>\n",
       "<table border=\"1\" class=\"dataframe\">\n",
       "  <thead>\n",
       "    <tr style=\"text-align: right;\">\n",
       "      <th></th>\n",
       "      <th>Country Name</th>\n",
       "      <th>Country Code</th>\n",
       "      <th>Indicator Name</th>\n",
       "      <th>Indicator Code</th>\n",
       "      <th>1960</th>\n",
       "      <th>1961</th>\n",
       "      <th>1962</th>\n",
       "      <th>1963</th>\n",
       "      <th>1964</th>\n",
       "      <th>1965</th>\n",
       "      <th>...</th>\n",
       "      <th>2009</th>\n",
       "      <th>2010</th>\n",
       "      <th>2011</th>\n",
       "      <th>2012</th>\n",
       "      <th>2013</th>\n",
       "      <th>2014</th>\n",
       "      <th>2015</th>\n",
       "      <th>2016</th>\n",
       "      <th>2017</th>\n",
       "      <th>Unnamed: 62</th>\n",
       "    </tr>\n",
       "  </thead>\n",
       "  <tbody>\n",
       "    <tr>\n",
       "      <th>0</th>\n",
       "      <td>Aruba</td>\n",
       "      <td>ABW</td>\n",
       "      <td>Population, total</td>\n",
       "      <td>SP.POP.TOTL</td>\n",
       "      <td>54211.0</td>\n",
       "      <td>55438.0</td>\n",
       "      <td>56225.0</td>\n",
       "      <td>56695.0</td>\n",
       "      <td>57032.0</td>\n",
       "      <td>57360.0</td>\n",
       "      <td>...</td>\n",
       "      <td>101453.0</td>\n",
       "      <td>101669.0</td>\n",
       "      <td>102053.0</td>\n",
       "      <td>102577.0</td>\n",
       "      <td>103187.0</td>\n",
       "      <td>103795.0</td>\n",
       "      <td>104341.0</td>\n",
       "      <td>104822.0</td>\n",
       "      <td>105264.0</td>\n",
       "      <td>NaN</td>\n",
       "    </tr>\n",
       "    <tr>\n",
       "      <th>1</th>\n",
       "      <td>Afghanistan</td>\n",
       "      <td>AFG</td>\n",
       "      <td>Population, total</td>\n",
       "      <td>SP.POP.TOTL</td>\n",
       "      <td>8996351.0</td>\n",
       "      <td>9166764.0</td>\n",
       "      <td>9345868.0</td>\n",
       "      <td>9533954.0</td>\n",
       "      <td>9731361.0</td>\n",
       "      <td>9938414.0</td>\n",
       "      <td>...</td>\n",
       "      <td>28004331.0</td>\n",
       "      <td>28803167.0</td>\n",
       "      <td>29708599.0</td>\n",
       "      <td>30696958.0</td>\n",
       "      <td>31731688.0</td>\n",
       "      <td>32758020.0</td>\n",
       "      <td>33736494.0</td>\n",
       "      <td>34656032.0</td>\n",
       "      <td>35530081.0</td>\n",
       "      <td>NaN</td>\n",
       "    </tr>\n",
       "    <tr>\n",
       "      <th>2</th>\n",
       "      <td>Angola</td>\n",
       "      <td>AGO</td>\n",
       "      <td>Population, total</td>\n",
       "      <td>SP.POP.TOTL</td>\n",
       "      <td>5643182.0</td>\n",
       "      <td>5753024.0</td>\n",
       "      <td>5866061.0</td>\n",
       "      <td>5980417.0</td>\n",
       "      <td>6093321.0</td>\n",
       "      <td>6203299.0</td>\n",
       "      <td>...</td>\n",
       "      <td>22549547.0</td>\n",
       "      <td>23369131.0</td>\n",
       "      <td>24218565.0</td>\n",
       "      <td>25096150.0</td>\n",
       "      <td>25998340.0</td>\n",
       "      <td>26920466.0</td>\n",
       "      <td>27859305.0</td>\n",
       "      <td>28813463.0</td>\n",
       "      <td>29784193.0</td>\n",
       "      <td>NaN</td>\n",
       "    </tr>\n",
       "    <tr>\n",
       "      <th>3</th>\n",
       "      <td>Albania</td>\n",
       "      <td>ALB</td>\n",
       "      <td>Population, total</td>\n",
       "      <td>SP.POP.TOTL</td>\n",
       "      <td>1608800.0</td>\n",
       "      <td>1659800.0</td>\n",
       "      <td>1711319.0</td>\n",
       "      <td>1762621.0</td>\n",
       "      <td>1814135.0</td>\n",
       "      <td>1864791.0</td>\n",
       "      <td>...</td>\n",
       "      <td>2927519.0</td>\n",
       "      <td>2913021.0</td>\n",
       "      <td>2905195.0</td>\n",
       "      <td>2900401.0</td>\n",
       "      <td>2895092.0</td>\n",
       "      <td>2889104.0</td>\n",
       "      <td>2880703.0</td>\n",
       "      <td>2876101.0</td>\n",
       "      <td>2873457.0</td>\n",
       "      <td>NaN</td>\n",
       "    </tr>\n",
       "    <tr>\n",
       "      <th>4</th>\n",
       "      <td>Andorra</td>\n",
       "      <td>AND</td>\n",
       "      <td>Population, total</td>\n",
       "      <td>SP.POP.TOTL</td>\n",
       "      <td>13411.0</td>\n",
       "      <td>14375.0</td>\n",
       "      <td>15370.0</td>\n",
       "      <td>16412.0</td>\n",
       "      <td>17469.0</td>\n",
       "      <td>18549.0</td>\n",
       "      <td>...</td>\n",
       "      <td>84462.0</td>\n",
       "      <td>84449.0</td>\n",
       "      <td>83751.0</td>\n",
       "      <td>82431.0</td>\n",
       "      <td>80788.0</td>\n",
       "      <td>79223.0</td>\n",
       "      <td>78014.0</td>\n",
       "      <td>77281.0</td>\n",
       "      <td>76965.0</td>\n",
       "      <td>NaN</td>\n",
       "    </tr>\n",
       "  </tbody>\n",
       "</table>\n",
       "<p>5 rows × 63 columns</p>\n",
       "</div>"
      ],
      "text/plain": [
       "  Country Name Country Code     Indicator Name Indicator Code       1960  \\\n",
       "0        Aruba          ABW  Population, total    SP.POP.TOTL    54211.0   \n",
       "1  Afghanistan          AFG  Population, total    SP.POP.TOTL  8996351.0   \n",
       "2       Angola          AGO  Population, total    SP.POP.TOTL  5643182.0   \n",
       "3      Albania          ALB  Population, total    SP.POP.TOTL  1608800.0   \n",
       "4      Andorra          AND  Population, total    SP.POP.TOTL    13411.0   \n",
       "\n",
       "        1961       1962       1963       1964       1965  ...        2009  \\\n",
       "0    55438.0    56225.0    56695.0    57032.0    57360.0  ...    101453.0   \n",
       "1  9166764.0  9345868.0  9533954.0  9731361.0  9938414.0  ...  28004331.0   \n",
       "2  5753024.0  5866061.0  5980417.0  6093321.0  6203299.0  ...  22549547.0   \n",
       "3  1659800.0  1711319.0  1762621.0  1814135.0  1864791.0  ...   2927519.0   \n",
       "4    14375.0    15370.0    16412.0    17469.0    18549.0  ...     84462.0   \n",
       "\n",
       "         2010        2011        2012        2013        2014        2015  \\\n",
       "0    101669.0    102053.0    102577.0    103187.0    103795.0    104341.0   \n",
       "1  28803167.0  29708599.0  30696958.0  31731688.0  32758020.0  33736494.0   \n",
       "2  23369131.0  24218565.0  25096150.0  25998340.0  26920466.0  27859305.0   \n",
       "3   2913021.0   2905195.0   2900401.0   2895092.0   2889104.0   2880703.0   \n",
       "4     84449.0     83751.0     82431.0     80788.0     79223.0     78014.0   \n",
       "\n",
       "         2016        2017  Unnamed: 62  \n",
       "0    104822.0    105264.0          NaN  \n",
       "1  34656032.0  35530081.0          NaN  \n",
       "2  28813463.0  29784193.0          NaN  \n",
       "3   2876101.0   2873457.0          NaN  \n",
       "4     77281.0     76965.0          NaN  \n",
       "\n",
       "[5 rows x 63 columns]"
      ]
     },
     "execution_count": 29,
     "metadata": {},
     "output_type": "execute_result"
    }
   ],
   "source": [
    "# Run this cell to see what the data looks like\n",
    "df_population.head()"
   ]
  },
  {
   "cell_type": "markdown",
   "metadata": {},
   "source": [
    "Make sure to scroll over to see what the last column looks like. That last column, called 'Unnamed: 62', doesn't look very useful and is filled with NaN values."
   ]
  },
  {
   "cell_type": "code",
   "execution_count": 30,
   "metadata": {},
   "outputs": [
    {
     "data": {
      "text/plain": [
       "Country Name        0\n",
       "Country Code        0\n",
       "Indicator Name      0\n",
       "Indicator Code      0\n",
       "1960                4\n",
       "                 ... \n",
       "2014                2\n",
       "2015                2\n",
       "2016                2\n",
       "2017                2\n",
       "Unnamed: 62       264\n",
       "Length: 63, dtype: int64"
      ]
     },
     "execution_count": 30,
     "metadata": {},
     "output_type": "execute_result"
    }
   ],
   "source": [
    "# TODO: Count the number of null values in each column\n",
    "df_population.isna().sum()"
   ]
  },
  {
   "cell_type": "markdown",
   "metadata": {},
   "source": [
    "It looks like every year column has at least one NaN value. "
   ]
  },
  {
   "cell_type": "code",
   "execution_count": 31,
   "metadata": {},
   "outputs": [
    {
     "data": {
      "text/plain": [
       "0      1\n",
       "1      1\n",
       "2      1\n",
       "3      1\n",
       "4      1\n",
       "      ..\n",
       "259    1\n",
       "260    1\n",
       "261    1\n",
       "262    1\n",
       "263    1\n",
       "Length: 264, dtype: int64"
      ]
     },
     "execution_count": 31,
     "metadata": {},
     "output_type": "execute_result"
    }
   ],
   "source": [
    "# TODO: Sum the null values by column\n",
    "# HINT: In the sum method, use axis=1\n",
    "df_population.isna().sum(axis=1)"
   ]
  },
  {
   "cell_type": "markdown",
   "metadata": {},
   "source": [
    "And it looks like almost every row has only one null value. That is probably from the 'Unnamed: 62' column that doesn't have any relevant information in it. Next, drop the 'Unnamed: 62' column from the data frame."
   ]
  },
  {
   "cell_type": "code",
   "execution_count": 32,
   "metadata": {},
   "outputs": [],
   "source": [
    "# TODO: drop the 'Unnamed: 62' column from the data frame, \n",
    "# and save the results in the df_population variable\n",
    "\n",
    "df_population = df_population.drop(columns=['Unnamed: 62'], axis=1)"
   ]
  },
  {
   "cell_type": "code",
   "execution_count": 33,
   "metadata": {},
   "outputs": [
    {
     "data": {
      "text/plain": [
       "Index(['1960', '1961', '1962', '1963', '1964', '1965', '1966', '1967', '1968',\n",
       "       '1969', '1970', '1971', '1972', '1973', '1974', '1975', '1976', '1977',\n",
       "       '1978', '1979', '1980', '1981', '1982', '1983', '1984', '1985', '1986',\n",
       "       '1987', '1988', '1989', '1990', '1991', '1992', '1993', '1994', '1995',\n",
       "       '1996', '1997', '1998', '1999', '2000', '2001', '2002', '2003', '2004',\n",
       "       '2005', '2006', '2007', '2008', '2009', '2010', '2011', '2012', '2013',\n",
       "       '2014', '2015', '2016', '2017'],\n",
       "      dtype='object')"
      ]
     },
     "execution_count": 33,
     "metadata": {},
     "output_type": "execute_result"
    }
   ],
   "source": [
    "# TODO: Now output any row that contains a null value.\n",
    "# HINT: Use the isnull() and any() methods. You'll want to use axis=1\n",
    "# in the any method.\n",
    "df_population.columns[df_population.isna().any()]"
   ]
  },
  {
   "cell_type": "markdown",
   "metadata": {},
   "source": [
    "# Conclusion \n",
    "\n",
    "This population data doesn't look too bad. Only six rows have missing values. In the transformation part of the lesson, you'll have to deal with these missing values somehow.\n",
    "\n",
    "If you would like to see the solution file for this exercise, go to File->Open and click on 1_csv_exercise_solution.ipynb.\n",
    "\n",
    "In the next exercise, you'll practice extracting data json and xml files."
   ]
  },
  {
   "cell_type": "code",
   "execution_count": null,
   "metadata": {},
   "outputs": [],
   "source": []
  }
 ],
 "metadata": {
  "kernelspec": {
   "display_name": "Python 3 (ipykernel)",
   "language": "python",
   "name": "python3"
  },
  "language_info": {
   "codemirror_mode": {
    "name": "ipython",
    "version": 3
   },
   "file_extension": ".py",
   "mimetype": "text/x-python",
   "name": "python",
   "nbconvert_exporter": "python",
   "pygments_lexer": "ipython3",
   "version": "3.8.13"
  },
  "widgets": {
   "application/vnd.jupyter.widget-state+json": {
    "state": {},
    "version_major": 2,
    "version_minor": 0
   }
  }
 },
 "nbformat": 4,
 "nbformat_minor": 4
}
