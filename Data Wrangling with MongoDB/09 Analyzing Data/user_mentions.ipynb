{
 "cells": [
  {
   "cell_type": "code",
   "execution_count": 1,
   "id": "71ae2e3b-4834-4e12-8288-bc1df5afbd01",
   "metadata": {},
   "outputs": [],
   "source": [
    "# For this exercise, let's return to our cities infobox dataset. The question we would like you to answer\n",
    "# is as follows:  Which region or district in India contains the most cities? (Make sure that the count of\n",
    "# cities is stored in a field named 'count'; see the assertions at the end of the script.)\n",
    "\n",
    "# As a starting point, use the solution for the example question we looked at -- \"Who includes the most\n",
    "# user mentions in their tweets?\"\n",
    "\n",
    "# One thing to note about the cities data is that the \"isPartOf\" field contains an array of regions or \n",
    "# districts in which a given city is found. See the example document in Instructor Comments below.\n",
    "\n",
    "# Please modify only the 'make_pipeline' function so that it creates and returns an aggregation pipeline \n",
    "# that can be passed to the MongoDB aggregate function. As in our examples in this lesson, the aggregation \n",
    "# pipeline should be a list of one or more dictionary objects. Please review the lesson examples if you \n",
    "# are unsure of the syntax.\n",
    "\n",
    "# Your code will be run against a MongoDB instance that we have provided. If you want to run this code \n",
    "# locally on your machine, you have to install MongoDB, download and insert the dataset.\n",
    "# For instructions related to MongoDB setup and datasets please see Course Materials.\n",
    "\n",
    "# Please note that the dataset you are using here is a smaller version of the cities collection used in \n",
    "# examples in this lesson. If you attempt some of the same queries that we looked at in the lesson \n",
    "# examples, your results may be different."
   ]
  },
  {
   "cell_type": "code",
   "execution_count": 5,
   "id": "e328cee6-7ebc-4830-9497-9e1ec58d1397",
   "metadata": {},
   "outputs": [
    {
     "data": {
      "text/plain": [
       "['admin', 'config', 'local', 'udacity']"
      ]
     },
     "execution_count": 5,
     "metadata": {},
     "output_type": "execute_result"
    }
   ],
   "source": [
    "from pymongo import MongoClient\n",
    "\n",
    "client = MongoClient(\"localhost:27017\")\n",
    "client.list_database_names()"
   ]
  },
  {
   "cell_type": "code",
   "execution_count": 6,
   "id": "8e9f07dd-7d49-40b0-9eed-b3225c47b62b",
   "metadata": {},
   "outputs": [],
   "source": [
    "db = client.udacity\n",
    "twitter = db.twitter"
   ]
  },
  {
   "cell_type": "code",
   "execution_count": 9,
   "id": "4a2985c4-beab-48cc-abce-a432dc647c8a",
   "metadata": {},
   "outputs": [
    {
     "name": "stdout",
     "output_type": "stream",
     "text": [
      "{'_id': ObjectId('63e3b543beb9905c522e8828'),\n",
      " 'contributors': None,\n",
      " 'coordinates': None,\n",
      " 'created_at': 'Thu Sep 02 18:11:23 +0000 2010',\n",
      " 'entities': {'hashtags': [], 'urls': [], 'user_mentions': []},\n",
      " 'favorited': False,\n",
      " 'geo': None,\n",
      " 'id': 22819396900,\n",
      " 'in_reply_to_screen_name': None,\n",
      " 'in_reply_to_status_id': None,\n",
      " 'in_reply_to_user_id': None,\n",
      " 'place': None,\n",
      " 'retweet_count': None,\n",
      " 'retweeted': False,\n",
      " 'source': 'web',\n",
      " 'text': 'eu preciso de terminar de fazer a minha tabela, está muito foda **',\n",
      " 'truncated': False,\n",
      " 'user': {'contributors_enabled': False,\n",
      "          'created_at': 'Fri Jul 03 21:44:05 +0000 2009',\n",
      "          'description': 'só os loucos sabem (:',\n",
      "          'favourites_count': 1,\n",
      "          'follow_request_sent': None,\n",
      "          'followers_count': 102,\n",
      "          'following': None,\n",
      "          'friends_count': 73,\n",
      "          'geo_enabled': False,\n",
      "          'id': 53507833,\n",
      "          'lang': 'en',\n",
      "          'listed_count': 0,\n",
      "          'location': '',\n",
      "          'name': 'Beatriz Helena Cunha',\n",
      "          'notifications': None,\n",
      "          'profile_background_color': '081114',\n",
      "          'profile_background_image_url': 'http://a1.twimg.com/profile_background_images/133178546/biatwitter.jpg',\n",
      "          'profile_background_tile': True,\n",
      "          'profile_image_url': 'http://a2.twimg.com/profile_images/1036412454/OgAAADXK9q6kaxrvfwQTINH66RVLAH9YHb-veRTA4FaWb9KtbGGV_yKTGzmvzTfJidqAb5gK_mpspIE-MIvAASGH2CwAm1T1UIPQk0-HS8x_TV5kdnW30nch7ODk-1_normal.jpg',\n",
      "          'profile_link_color': 'eb55b6',\n",
      "          'profile_sidebar_border_color': '1c9dbd',\n",
      "          'profile_sidebar_fill_color': '768575',\n",
      "          'profile_text_color': '25b8c2',\n",
      "          'profile_use_background_image': True,\n",
      "          'protected': False,\n",
      "          'screen_name': 'Bia_cunha1',\n",
      "          'show_all_inline_media': False,\n",
      "          'statuses_count': 3504,\n",
      "          'time_zone': 'Brasilia',\n",
      "          'url': 'http://http://www.orkut.com.br/Main#Profile?uid=1433295880233078770',\n",
      "          'utc_offset': -10800,\n",
      "          'verified': False}}\n"
     ]
    }
   ],
   "source": [
    "# Example Tweet:\n",
    "from pprint import pprint\n",
    "\n",
    "pprint(twitter.find_one())"
   ]
  },
  {
   "cell_type": "code",
   "execution_count": 23,
   "id": "7e02ae81-159f-40e1-a5ce-9010fc50c7e2",
   "metadata": {},
   "outputs": [],
   "source": [
    "pipeline = [\n",
    "    {'$unwind': '$entities.user_mentions'},\n",
    "    {'$group': {'_id': '$user.screen_name',\n",
    "                'count': {'$sum': 1}}},\n",
    "    # {'$unwind': '$isPartOf'},\n",
    "    # {'$match': {'country': 'India'}},\n",
    "    # {'$group': {'_id': '$isPartOf',\n",
    "    #                     'count': {'$sum': 1}}},\n",
    "    {'$sort': {'count': -1}},\n",
    "    {'$limit': 1}\n",
    "]"
   ]
  },
  {
   "cell_type": "code",
   "execution_count": 25,
   "id": "9f88d55a-0b59-48a6-8fa7-45fa767b366b",
   "metadata": {},
   "outputs": [
    {
     "name": "stdout",
     "output_type": "stream",
     "text": [
      "{'_id': 'MULA_BSB', 'count': 21}\n"
     ]
    }
   ],
   "source": [
    "from pprint import pprint\n",
    "\n",
    "for doc in twitter.aggregate(pipeline):\n",
    "    pprint(doc)    "
   ]
  },
  {
   "cell_type": "code",
   "execution_count": null,
   "id": "28a87cbf-401e-4c50-b173-c4953e3bb3fd",
   "metadata": {},
   "outputs": [],
   "source": []
  }
 ],
 "metadata": {
  "kernelspec": {
   "display_name": "Python 3 (ipykernel)",
   "language": "python",
   "name": "python3"
  },
  "language_info": {
   "codemirror_mode": {
    "name": "ipython",
    "version": 3
   },
   "file_extension": ".py",
   "mimetype": "text/x-python",
   "name": "python",
   "nbconvert_exporter": "python",
   "pygments_lexer": "ipython3",
   "version": "3.8.13"
  },
  "widgets": {
   "application/vnd.jupyter.widget-state+json": {
    "state": {},
    "version_major": 2,
    "version_minor": 0
   }
  }
 },
 "nbformat": 4,
 "nbformat_minor": 5
}
