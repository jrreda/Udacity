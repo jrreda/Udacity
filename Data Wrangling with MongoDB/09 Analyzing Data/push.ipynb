{
 "cells": [
  {
   "cell_type": "code",
   "execution_count": 1,
   "id": "639d8e8e-c2c8-4a9c-9fc9-3c5b34d4a674",
   "metadata": {},
   "outputs": [
    {
     "data": {
      "text/plain": [
       "['admin', 'config', 'local', 'udacity']"
      ]
     },
     "execution_count": 1,
     "metadata": {},
     "output_type": "execute_result"
    }
   ],
   "source": [
    "from pymongo import MongoClient\n",
    "\n",
    "client = MongoClient(\"localhost:27017\")\n",
    "client.list_database_names()"
   ]
  },
  {
   "cell_type": "code",
   "execution_count": 2,
   "id": "22f7dba3-541c-49c9-8bd6-19483cb7d458",
   "metadata": {},
   "outputs": [],
   "source": [
    "df = client.udacity\n",
    "twitter = df.twitter"
   ]
  },
  {
   "cell_type": "code",
   "execution_count": 31,
   "id": "0a4e0c8e-cfaa-482b-b58a-213d9ccefd02",
   "metadata": {},
   "outputs": [
    {
     "name": "stdout",
     "output_type": "stream",
     "text": [
      "{'_id': ObjectId('63e3b55ebeb9905c522f368b'),\n",
      " 'contributors': None,\n",
      " 'coordinates': None,\n",
      " 'created_at': 'Thu Sep 02 19:49:03 +0000 2010',\n",
      " 'entities': {'hashtags': [{'indices': [57, 68], 'text': 'lv25834899'}],\n",
      "              'urls': [{'expanded_url': None,\n",
      "                        'indices': [31, 56],\n",
      "                        'url': 'http://nico.ms/lv25834899'}],\n",
      "              'user_mentions': []},\n",
      " 'favorited': False,\n",
      " 'geo': None,\n",
      " 'id': 22825235200,\n",
      " 'in_reply_to_screen_name': None,\n",
      " 'in_reply_to_status_id': None,\n",
      " 'in_reply_to_user_id': None,\n",
      " 'place': None,\n",
      " 'retweet_count': None,\n",
      " 'retweeted': False,\n",
      " 'source': '<a href=\"http://www.nicovideo.jp/\" rel=\"nofollow\">ニコニコ動画</a>',\n",
      " 'text': '【生放送】（声の病持）風来のシレンＴＭＴＡ を開始しました。 http://nico.ms/lv25834899 #lv25834899',\n",
      " 'truncated': False,\n",
      " 'user': {'contributors_enabled': False,\n",
      "          'created_at': 'Wed Aug 04 13:26:07 +0000 2010',\n",
      "          'description': '最近女装ショタに興味を持ち始めた高校一年生（♂）\\r\\n\\r\\nニコ生でシレン放送とかやってるよ',\n",
      "          'favourites_count': 0,\n",
      "          'follow_request_sent': None,\n",
      "          'followers_count': 7,\n",
      "          'following': None,\n",
      "          'friends_count': 7,\n",
      "          'geo_enabled': False,\n",
      "          'id': 174651228,\n",
      "          'lang': 'ja',\n",
      "          'listed_count': 0,\n",
      "          'location': 'お花畑',\n",
      "          'name': 'へんなひと',\n",
      "          'notifications': None,\n",
      "          'profile_background_color': 'C0DEED',\n",
      "          'profile_background_image_url': 'http://a3.twimg.com/profile_background_images/130883429/macochan_twitter.png',\n",
      "          'profile_background_tile': False,\n",
      "          'profile_image_url': 'http://a0.twimg.com/profile_images/1096162204/macochan_normal.png',\n",
      "          'profile_link_color': '0084B4',\n",
      "          'profile_sidebar_border_color': 'C0DEED',\n",
      "          'profile_sidebar_fill_color': 'DDEEF6',\n",
      "          'profile_text_color': '333333',\n",
      "          'profile_use_background_image': True,\n",
      "          'protected': False,\n",
      "          'screen_name': 'zyosouzai',\n",
      "          'show_all_inline_media': False,\n",
      "          'statuses_count': 294,\n",
      "          'time_zone': 'Hawaii',\n",
      "          'url': 'http://com.nicovideo.jp/community/co396913 ',\n",
      "          'utc_offset': -36000,\n",
      "          'verified': False}}\n"
     ]
    }
   ],
   "source": [
    "# Example Tweet:\n",
    "from pprint import pprint\n",
    "\n",
    "pprint(twitter.find_one({'user.screen_name':'zyosouzai'}))"
   ]
  },
  {
   "cell_type": "markdown",
   "id": "63f91f5d-a1cb-43b9-8349-d8dcae7c2260",
   "metadata": {},
   "source": [
    "# Hashtag retweet average"
   ]
  },
  {
   "cell_type": "code",
   "execution_count": 34,
   "id": "1313fec2-bfba-4dfd-9bb9-c04ae901f4fd",
   "metadata": {},
   "outputs": [],
   "source": [
    "pipeline = [\n",
    "    {'$unwind': '$entities.hashtags'},\n",
    "    {'$group': {'_id': '$entities.hashtags.text',\n",
    "                'retweet_avg': {'$avg': '$retweet_count'}}},\n",
    "    {'$sort': {'retweet_avg': 1}}\n",
    "]"
   ]
  },
  {
   "cell_type": "code",
   "execution_count": 35,
   "id": "d7d16473-395f-4145-8af6-cbc6cd1fe3a5",
   "metadata": {},
   "outputs": [
    {
     "data": {
      "text/plain": [
       "[{'_id': 'MegaPowers', 'retweet_avg': None},\n",
       " {'_id': 'followers', 'retweet_avg': None},\n",
       " {'_id': 'euadimito', 'retweet_avg': None},\n",
       " {'_id': 'TENSO', 'retweet_avg': None},\n",
       " {'_id': 'Echelon', 'retweet_avg': None},\n",
       " {'_id': 'realtalk', 'retweet_avg': None},\n",
       " {'_id': 'webhistoria', 'retweet_avg': None},\n",
       " {'_id': 'whistleblower', 'retweet_avg': None},\n",
       " {'_id': 'huchoices', 'retweet_avg': None},\n",
       " {'_id': 'otaku', 'retweet_avg': None}]"
      ]
     },
     "execution_count": 35,
     "metadata": {},
     "output_type": "execute_result"
    }
   ],
   "source": [
    "[doc for doc in twitter.aggregate(pipeline)][:10]"
   ]
  },
  {
   "cell_type": "code",
   "execution_count": 36,
   "id": "08d873ae-c04e-4dcc-9740-5f2625ac73bf",
   "metadata": {},
   "outputs": [
    {
     "name": "stdout",
     "output_type": "stream",
     "text": [
      "None\n"
     ]
    }
   ],
   "source": [
    "pprint(twitter.find_one({'retweet_avg':{'$exists':True}}))"
   ]
  },
  {
   "cell_type": "markdown",
   "id": "3681cb9d-9fd8-4899-94f0-636c09ff29a3",
   "metadata": {},
   "source": [
    "# Unique hashtags by user"
   ]
  },
  {
   "cell_type": "code",
   "execution_count": 27,
   "id": "5b2896b6-4fba-49e3-8c84-b36a9b28b556",
   "metadata": {},
   "outputs": [],
   "source": [
    "pipeline = [\n",
    "    {'$unwind': '$entities.hashtags'},\n",
    "    {'$group': {'_id': '$user.screen_name',\n",
    "                'unique_hashtags': {'$addToSet': '$entities.hashtags.text'}}},\n",
    "    {'$sort': {'_id': -1}}\n",
    "]"
   ]
  },
  {
   "cell_type": "code",
   "execution_count": 28,
   "id": "288a2097-0577-4e23-b77a-8316170a1a28",
   "metadata": {},
   "outputs": [
    {
     "data": {
      "text/plain": [
       "[{'_id': 'zzj090728', 'unique_hashtags': ['yaplog']},\n",
       " {'_id': 'zyosouzai', 'unique_hashtags': ['lv25834899']},\n",
       " {'_id': 'zudyezezwe65',\n",
       "  'unique_hashtags': ['pop', 'all', 'mun', 'data', 'line', 'kl']},\n",
       " {'_id': 'zorapataki', 'unique_hashtags': ['zorapataki']},\n",
       " {'_id': 'zootcadillac', 'unique_hashtags': ['TwitterJokeTrial']},\n",
       " {'_id': 'zolanx', 'unique_hashtags': ['POW']},\n",
       " {'_id': 'zjj0607', 'unique_hashtags': ['yaplog']},\n",
       " {'_id': 'ziv56ksi', 'unique_hashtags': ['jackpot', 'cazino']},\n",
       " {'_id': 'ziplockfresh1', 'unique_hashtags': ['bieberfact']},\n",
       " {'_id': 'zingo_champis', 'unique_hashtags': ['blonk']}]"
      ]
     },
     "execution_count": 28,
     "metadata": {},
     "output_type": "execute_result"
    }
   ],
   "source": [
    "[doc for doc in twitter.aggregate(pipeline)][:10]"
   ]
  },
  {
   "cell_type": "markdown",
   "id": "ab41f2d1-b474-49fb-9663-8350edc59048",
   "metadata": {},
   "source": [
    "# Push - count the number of tweets for each user"
   ]
  },
  {
   "cell_type": "code",
   "execution_count": 37,
   "id": "f4ec1867-4209-42f4-8283-d29bb4589e65",
   "metadata": {},
   "outputs": [],
   "source": [
    "# $push is similar to $addToSet. The difference is that rather than accumulating only unique values \n",
    "# it aggregates all values into an array.\n",
    "\n",
    "# Using an aggregation query, count the number of tweets for each user. In the same $group stage, \n",
    "# use $push to accumulate all the tweet texts for each user. Limit your output to the 5 users\n",
    "# with the most tweets. \n",
    "# Your result documents should include only the fields:\n",
    "# \"_id\" (screen name of user), \n",
    "# \"count\" (number of tweets found for the user),\n",
    "# \"tweet_texts\" (a list of the tweet texts found for the user).  \n",
    "\n",
    "# Please modify only the 'make_pipeline' function so that it creates and returns an aggregation \n",
    "# pipeline that can be passed to the MongoDB aggregate function. As in our examples in this lesson, \n",
    "# the aggregation pipeline should be a list of one or more dictionary objects. \n",
    "# Please review the lesson examples if you are unsure of the syntax.\n",
    "\n",
    "# Your code will be run against a MongoDB instance that we have provided. If you want to run this code \n",
    "# locally on your machine, you have to install MongoDB, download and insert the dataset.\n",
    "# For instructions related to MongoDB setup and datasets please see Course Materials.\n",
    "\n",
    "# Please note that the dataset you are using here is a smaller version of the twitter dataset used in \n",
    "# examples in this lesson. If you attempt some of the same queries that we looked at in the lesson \n",
    "# examples, your results will be different."
   ]
  },
  {
   "cell_type": "code",
   "execution_count": 55,
   "id": "9da952b0-2612-4211-90df-f5497d85b381",
   "metadata": {},
   "outputs": [],
   "source": [
    "pipeline = [\n",
    "    # {'$unwind': '$entities.hashtags'},\n",
    "    {'$group': {'_id': '$user.screen_name',\n",
    "                'count': {'$sum': 1},\n",
    "                'tweet_texts': {'$push': '$text'},\n",
    "                }},\n",
    "    {'$sort': {'count': -1}},\n",
    "    {'$limit': 5}\n",
    "]"
   ]
  },
  {
   "cell_type": "code",
   "execution_count": 56,
   "id": "75b68091-ac42-4c05-837a-27b99b462c93",
   "metadata": {},
   "outputs": [
    {
     "data": {
      "text/plain": [
       "[{'_id': 'behcolin',\n",
       "  'count': 8,\n",
       "  'tweet_texts': ['RT @VouConfessarQue: #VouConfessarQue já aprendi uma matéria inteira poucos minutos antes de uma prova.',\n",
       "   'RT @TweetGargalhada: Geisy Arruda nos TT? Achei que tinha finalmente sumido, mas pelo jeito a maré trouxe ela de volta!',\n",
       "   'RT @TweetGargalhada: Geisy Arruda nos TT? Achei que tinha finalmente sumido, mas pelo jeito a maré trouxe ela de volta!',\n",
       "   'RT @TweetGargalhada: Geisy Arruda nos TT? Achei que tinha finalmente sumido, mas pelo jeito a maré trouxe ela de volta!',\n",
       "   'RT @TweetGargalhada: Geisy Arruda nos TT? Achei que tinha finalmente sumido, mas pelo jeito a maré trouxe ela de volta!',\n",
       "   'RT @TweetGargalhada: Geisy Arruda nos TT? Achei que tinha finalmente sumido, mas pelo jeito a maré trouxe ela de volta!',\n",
       "   'RT @TweetGargalhada: Geisy Arruda nos TT? Achei que tinha finalmente sumido, mas pelo jeito a maré trouxe ela de volta!',\n",
       "   'volto jah']},\n",
       " {'_id': 'mysterytrick',\n",
       "  'count': 7,\n",
       "  'tweet_texts': ['昔カンニンGoo？って漫画なかった？',\n",
       "   '昔カンニンGoo？って漫画なかった？',\n",
       "   '昔カンニンGoo？って漫画なかった？',\n",
       "   '昔カンニンGoo？って漫画なかった？',\n",
       "   '昔カンニンGoo？って漫画なかった？',\n",
       "   '昔カンニンGoo？って漫画なかった？',\n",
       "   '5時を待たずして蝉が鳴き出した']},\n",
       " {'_id': 'JBTeenageDream',\n",
       "  'count': 7,\n",
       "  'tweet_texts': ['I ♥ @BieberSubject',\n",
       "   \"@proudofjbiebs sure ill be at '39 wbu? &lt;3\",\n",
       "   'IMMA CRY, WHY IS NO1 FOLLOWING @proudofjbiebs THEY FOLLOW BACK & TELL ME FOR A MAJOR SHOUTOUT :( ...',\n",
       "   'I recently lost 24 followers, and I know who they are thanks to http://who.unfollowed.me #whounfollowedme',\n",
       "   '@BieberPlane im doing it with someone first wait okay? &lt;3',\n",
       "   'IMMA CRY :( WHY WONT YOU FOLLOW @cutelucy_bieber THEY FOLLOW BACK & TELL ME FOR A MAJOR SHOUTOUT + DM TO GREYSON, LIL TWIST & CORBIN BLEU',\n",
       "   'WHY WONT 1 MORE FOLLOW @cutelucy_bieber THEY FOLLOW BACK & TELL ME FOR A MAJOR SHOUTOUT + DM TO GREYSON, LIL TWIST & CORBIN BLEU IMMA CRY']},\n",
       " {'_id': 'BanditKir',\n",
       "  'count': 6,\n",
       "  'tweet_texts': ['@KinKittyCat haha you had some in college but maybe your parents did it for you.',\n",
       "   '@KinKittyCat haha you had some in college but maybe your parents did it for you.',\n",
       "   '@KinKittyCat haha you had some in college but maybe your parents did it for you.',\n",
       "   '@KinKittyCat haha you had some in college but maybe your parents did it for you.',\n",
       "   '@KinKittyCat haha you had some in college but maybe your parents did it for you.',\n",
       "   '@KinKittyCat haha you had some in college but maybe your parents did it for you.']},\n",
       " {'_id': 'GeTeM_BrI',\n",
       "  'count': 6,\n",
       "  'tweet_texts': ['Yu have ta give it up for @LilTwist that lil secret joint was hott as hell... made me watch tht shit back ta back',\n",
       "   'Yu have ta give it up for @LilTwist that lil secret joint was hott as hell... made me watch tht shit back ta back',\n",
       "   'Yu have ta give it up for @LilTwist that lil secret joint was hott as hell... made me watch tht shit back ta back',\n",
       "   'Yu have ta give it up for @LilTwist that lil secret joint was hott as hell... made me watch tht shit back ta back',\n",
       "   'Yu have ta give it up for @LilTwist that lil secret joint was hott as hell... made me watch tht shit back ta back',\n",
       "   'Yu have ta give it up for @LilTwist that lil secret joint was hott as hell... made me watch tht shit back ta back']}]"
      ]
     },
     "execution_count": 56,
     "metadata": {},
     "output_type": "execute_result"
    }
   ],
   "source": [
    "[doc for doc in twitter.aggregate(pipeline)]"
   ]
  },
  {
   "cell_type": "code",
   "execution_count": null,
   "id": "18055d46-c6c7-4a40-8deb-9580060c83ce",
   "metadata": {},
   "outputs": [],
   "source": []
  }
 ],
 "metadata": {
  "kernelspec": {
   "display_name": "Python 3 (ipykernel)",
   "language": "python",
   "name": "python3"
  },
  "language_info": {
   "codemirror_mode": {
    "name": "ipython",
    "version": 3
   },
   "file_extension": ".py",
   "mimetype": "text/x-python",
   "name": "python",
   "nbconvert_exporter": "python",
   "pygments_lexer": "ipython3",
   "version": "3.8.13"
  },
  "widgets": {
   "application/vnd.jupyter.widget-state+json": {
    "state": {},
    "version_major": 2,
    "version_minor": 0
   }
  }
 },
 "nbformat": 4,
 "nbformat_minor": 5
}
