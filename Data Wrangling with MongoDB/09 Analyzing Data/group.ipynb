{
 "cells": [
  {
   "cell_type": "code",
   "execution_count": 23,
   "id": "4446724b-b728-4391-87a9-4f5d14d7834e",
   "metadata": {
    "tags": []
   },
   "outputs": [],
   "source": [
    "# The tweets in our twitter collection have a field called \"source\". This field describes the application\n",
    "# that was used to create the tweet. Following the examples for using the $group operator, your task is \n",
    "# to modify the 'make-pipeline' function to identify most used applications for creating tweets. \n",
    "# As a check on your query, 'web' is listed as the most frequently used application.\n",
    "# 'Ubertwitter' is the second most used. The number of counts should be stored in a field named 'count'\n",
    "# (see the assertion at the end of the script).\n",
    "\n",
    "# Please modify only the 'make_pipeline' function so that it creates and returns an aggregation pipeline\n",
    "# that can be passed to the MongoDB aggregate function. As in our examples in this lesson, the aggregation \n",
    "# pipeline should be a list of one or more dictionary objects. \n",
    "# Please review the lesson examples if you are unsure of the syntax.\n",
    "\n",
    "# Your code will be run against a MongoDB instance that we have provided. \n",
    "# If you want to run this code locally on your machine, you have to install MongoDB, \n",
    "# download and insert the dataset.\n",
    "# For instructions related to MongoDB setup and datasets please see Course Materials.\n",
    "\n",
    "# Please note that the dataset you are using here is a smaller version of the twitter dataset \n",
    "# used in examples in this lesson. \n",
    "# If you attempt some of the same queries that we looked at in the lesson examples,\n",
    "# your results will be different."
   ]
  },
  {
   "cell_type": "code",
   "execution_count": 1,
   "id": "abce9467-b7d3-4ca1-b03f-79ffbafb6bb7",
   "metadata": {},
   "outputs": [
    {
     "data": {
      "text/plain": [
       "['admin', 'config', 'local', 'udacity']"
      ]
     },
     "execution_count": 1,
     "metadata": {},
     "output_type": "execute_result"
    }
   ],
   "source": [
    "from pymongo import MongoClient\n",
    "client = MongoClient('localhost:27017')\n",
    "client.list_database_names()"
   ]
  },
  {
   "cell_type": "code",
   "execution_count": 2,
   "id": "aa6a870c-78da-4c0d-ab35-a4735cbf1a81",
   "metadata": {},
   "outputs": [
    {
     "data": {
      "text/plain": [
       "['twitter']"
      ]
     },
     "execution_count": 2,
     "metadata": {},
     "output_type": "execute_result"
    }
   ],
   "source": [
    "db = client.udacity\n",
    "\n",
    "db.list_collection_names()"
   ]
  },
  {
   "cell_type": "code",
   "execution_count": 3,
   "id": "45e3a696-9cf7-4e37-a4b8-a0bad128eba8",
   "metadata": {},
   "outputs": [],
   "source": [
    "twitter = db.twitter"
   ]
  },
  {
   "cell_type": "code",
   "execution_count": 4,
   "id": "dc05b350-80e2-42e1-af46-f82062ded6b8",
   "metadata": {},
   "outputs": [
    {
     "data": {
      "text/plain": [
       "Collection(Database(MongoClient(host=['localhost:27017'], document_class=dict, tz_aware=False, connect=True), 'udacity'), 'twitter')"
      ]
     },
     "execution_count": 4,
     "metadata": {},
     "output_type": "execute_result"
    }
   ],
   "source": [
    "twitter"
   ]
  },
  {
   "cell_type": "code",
   "execution_count": 5,
   "id": "5d3a2fd1-f09a-4e96-b07b-47bdfafc220b",
   "metadata": {},
   "outputs": [
    {
     "data": {
      "text/plain": [
       "{'_id': ObjectId('63e3b543beb9905c522e8828'),\n",
       " 'text': 'eu preciso de terminar de fazer a minha tabela, está muito foda **',\n",
       " 'in_reply_to_status_id': None,\n",
       " 'retweet_count': None,\n",
       " 'contributors': None,\n",
       " 'created_at': 'Thu Sep 02 18:11:23 +0000 2010',\n",
       " 'geo': None,\n",
       " 'source': 'web',\n",
       " 'coordinates': None,\n",
       " 'in_reply_to_screen_name': None,\n",
       " 'truncated': False,\n",
       " 'entities': {'user_mentions': [], 'urls': [], 'hashtags': []},\n",
       " 'retweeted': False,\n",
       " 'place': None,\n",
       " 'user': {'friends_count': 73,\n",
       "  'profile_sidebar_fill_color': '768575',\n",
       "  'location': '',\n",
       "  'verified': False,\n",
       "  'follow_request_sent': None,\n",
       "  'favourites_count': 1,\n",
       "  'profile_sidebar_border_color': '1c9dbd',\n",
       "  'profile_image_url': 'http://a2.twimg.com/profile_images/1036412454/OgAAADXK9q6kaxrvfwQTINH66RVLAH9YHb-veRTA4FaWb9KtbGGV_yKTGzmvzTfJidqAb5gK_mpspIE-MIvAASGH2CwAm1T1UIPQk0-HS8x_TV5kdnW30nch7ODk-1_normal.jpg',\n",
       "  'geo_enabled': False,\n",
       "  'created_at': 'Fri Jul 03 21:44:05 +0000 2009',\n",
       "  'description': 'só os loucos sabem (:',\n",
       "  'time_zone': 'Brasilia',\n",
       "  'url': 'http://http://www.orkut.com.br/Main#Profile?uid=1433295880233078770',\n",
       "  'screen_name': 'Bia_cunha1',\n",
       "  'notifications': None,\n",
       "  'profile_background_color': '081114',\n",
       "  'listed_count': 0,\n",
       "  'lang': 'en',\n",
       "  'profile_background_image_url': 'http://a1.twimg.com/profile_background_images/133178546/biatwitter.jpg',\n",
       "  'statuses_count': 3504,\n",
       "  'following': None,\n",
       "  'profile_text_color': '25b8c2',\n",
       "  'protected': False,\n",
       "  'show_all_inline_media': False,\n",
       "  'profile_background_tile': True,\n",
       "  'name': 'Beatriz Helena Cunha',\n",
       "  'contributors_enabled': False,\n",
       "  'profile_link_color': 'eb55b6',\n",
       "  'followers_count': 102,\n",
       "  'id': 53507833,\n",
       "  'profile_use_background_image': True,\n",
       "  'utc_offset': -10800},\n",
       " 'favorited': False,\n",
       " 'in_reply_to_user_id': None,\n",
       " 'id': 22819396900}"
      ]
     },
     "execution_count": 5,
     "metadata": {},
     "output_type": "execute_result"
    }
   ],
   "source": [
    "# Example Tweet:\n",
    "twitter.find_one()"
   ]
  },
  {
   "cell_type": "code",
   "execution_count": 21,
   "id": "3ca62464-2c92-409b-8caa-3ad050bb99f0",
   "metadata": {},
   "outputs": [],
   "source": [
    "pipeline = [\n",
    "    {'$group': {'_id':'$source', 'count':{'$sum': 1}}},\n",
    "    {'$sort': {'count': -1}},\n",
    "    {'$match': {'count': {'$gte':10}}}\n",
    "]"
   ]
  },
  {
   "cell_type": "code",
   "execution_count": 22,
   "id": "69cc7e13-9afa-4420-b44a-f74be520b73b",
   "metadata": {},
   "outputs": [
    {
     "name": "stdout",
     "output_type": "stream",
     "text": [
      "{'_id': 'web', 'count': 23136}\n",
      "{'_id': '<a href=\"http://www.ubertwitter.com/bb/download.php\" rel=\"nofollow\">ÜberTwitter</a>', 'count': 3393}\n",
      "{'_id': '<a href=\"http://www.tweetdeck.com\" rel=\"nofollow\">TweetDeck</a>', 'count': 3370}\n",
      "{'_id': '<a href=\"http://blackberry.com/twitter\" rel=\"nofollow\">Twitter for BlackBerry®</a>', 'count': 2249}\n",
      "{'_id': '<a href=\"http://twitter.com/\" rel=\"nofollow\">Twitter for iPhone</a>', 'count': 2009}\n",
      "{'_id': '<a href=\"http://www.echofon.com/\" rel=\"nofollow\">Echofon</a>', 'count': 1774}\n",
      "{'_id': '<a href=\"http://twitterfeed.com\" rel=\"nofollow\">twitterfeed</a>', 'count': 1652}\n",
      "{'_id': '<a href=\"http://mobile.twitter.com\" rel=\"nofollow\">mobile web</a>', 'count': 1374}\n",
      "{'_id': '<a href=\"/devices\" rel=\"nofollow\">txt</a>', 'count': 1085}\n",
      "{'_id': '<a href=\"http://www.hootsuite.com\" rel=\"nofollow\">HootSuite</a>', 'count': 706}\n",
      "{'_id': '<a href=\"http://formspring.me\" rel=\"nofollow\">Formspring.me</a>', 'count': 494}\n",
      "{'_id': '<a href=\"http://twidroid.com\" rel=\"nofollow\">twidroid</a>', 'count': 467}\n",
      "{'_id': '<a href=\"http://www.facebook.com/twitter\" rel=\"nofollow\">Facebook</a>', 'count': 405}\n",
      "{'_id': '<a href=\"http://www.snaptu.com\" rel=\"nofollow\">Snaptu.com</a>', 'count': 334}\n",
      "{'_id': '<a href=\"http://mobile.twitter.com\" rel=\"nofollow\">Twitter for Android</a>', 'count': 302}\n",
      "{'_id': '<a href=\"http://twtr.jp\" rel=\"nofollow\">Keitai Web</a>', 'count': 300}\n",
      "{'_id': '<a href=\"http://www.nibirutech.com\" rel=\"nofollow\">TwitBird</a>', 'count': 284}\n",
      "{'_id': '<a href=\"http://tinyurl.com/tweetcaster\" rel=\"nofollow\">TweetCaster</a>', 'count': 275}\n",
      "{'_id': '<a href=\"http://www.google.com/support/youtube/bin/answer.py?hl=en&answer=164577\" rel=\"nofollow\">Google</a>', 'count': 268}\n",
      "{'_id': '<a href=\"http://sourceforge.jp/projects/tween/wiki/FrontPage\" rel=\"nofollow\">Tween</a>', 'count': 264}\n",
      "{'_id': '<a href=\"http://www.tumblr.com/\" rel=\"nofollow\">Tumblr</a>', 'count': 261}\n",
      "{'_id': '<a href=\"http://twitpic.com\" rel=\"nofollow\">Twitpic</a>', 'count': 245}\n",
      "{'_id': '<a href=\"http://twitter.com\" rel=\"nofollow\">Tweetie for Mac</a>', 'count': 210}\n",
      "{'_id': '<a href=\"http://twittbot.net/\" rel=\"nofollow\">twittbot.net</a>', 'count': 202}\n",
      "{'_id': '<a href=\"http://www.movatwi.jp\" rel=\"nofollow\">www.movatwi.jp</a>', 'count': 193}\n",
      "{'_id': '<a href=\"http://twitter.com/tweetbutton\" rel=\"nofollow\">Tweet Button</a>', 'count': 187}\n",
      "{'_id': '<a href=\"http://twitcam.com\" rel=\"nofollow\">Twitcam.com</a>', 'count': 185}\n",
      "{'_id': '<a href=\"http://foursquare.com\" rel=\"nofollow\">foursquare</a>', 'count': 180}\n",
      "{'_id': '<a href=\"http://twipple.jp/\" rel=\"nofollow\">ついっぷる</a>', 'count': 153}\n",
      "{'_id': '<a href=\"http://twitterrific.com\" rel=\"nofollow\">Twitterrific</a>', 'count': 146}\n",
      "{'_id': '<a href=\"http://83degrees.com/to/powertwitter\" rel=\"nofollow\">Power Twitter</a>', 'count': 141}\n",
      "{'_id': '<a href=\"http://www.levelupstudio.fr\" rel=\"nofollow\">Touiteur</a>', 'count': 135}\n",
      "{'_id': '<a href=\"http://www.myspace.com/sync\" rel=\"nofollow\">MySpace</a>', 'count': 123}\n",
      "{'_id': '<a href=\"http://www.ustream.tv\" rel=\"nofollow\">Ustream.TV</a>', 'count': 121}\n",
      "{'_id': '<a href=\"http://fun140.com/\" rel=\"nofollow\">Fun140</a>', 'count': 112}\n",
      "{'_id': '<a href=\"http://stone.com/Twittelator\" rel=\"nofollow\">Twittelator</a>', 'count': 111}\n",
      "{'_id': '<a href=\"http://github.com/cezarsa/chromed_bird\" rel=\"nofollow\">Chromed Bird</a>', 'count': 104}\n",
      "{'_id': '<a href=\"http://dlvr.it\" rel=\"nofollow\">dlvr.it</a>', 'count': 104}\n",
      "{'_id': '<a href=\"http://ping.fm/\" rel=\"nofollow\">Ping.fm</a>', 'count': 103}\n",
      "{'_id': '<a href=\"http://www.osfoora.com\" rel=\"nofollow\">Osfoora for iPhone</a>', 'count': 90}\n",
      "{'_id': '<a href=\"http://4ji.ssig33.com/\" rel=\"nofollow\">なるほど四時じゃねーの</a>', 'count': 85}\n",
      "{'_id': '<a href=\"http://yubitter.com/\" rel=\"nofollow\">yubitter</a>', 'count': 85}\n",
      "{'_id': '<a href=\"http://pha22.net/twitterbot/\" rel=\"nofollow\">EasyBotter</a>', 'count': 82}\n",
      "{'_id': '<a href=\"http://mobileways.de/gravity\" rel=\"nofollow\">Gravity</a>', 'count': 79}\n",
      "{'_id': '<a href=\"http://www.socialoomph.com\" rel=\"nofollow\">SocialOomph</a>', 'count': 79}\n",
      "{'_id': '<a href=\"http://www.sidekick.com\" rel=\"nofollow\">T-Mobile Sidekick</a>', 'count': 76}\n",
      "{'_id': '<a href=\"http://www.twhirl.org\" rel=\"nofollow\">Seesmic twhirl</a>', 'count': 76}\n",
      "{'_id': '<a href=\"http://seesmic.com/seesmic_desktop/sd2\" rel=\"nofollow\">Seesmic Desktop</a>', 'count': 76}\n",
      "{'_id': '<a href=\"http://m.tweete.net\" rel=\"nofollow\">m.tweete.net</a>', 'count': 75}\n",
      "{'_id': '<a href=\"http://projects.playwell.jp/go/Saezuri\" rel=\"nofollow\">Saezuri</a>', 'count': 73}\n",
      "{'_id': '<a href=\"http://rss2twitter.com/\" rel=\"nofollow\">RSS2Twitter</a>', 'count': 65}\n",
      "{'_id': '<a href=\"http://itunes.apple.com/app/twitter/id333903271?mt=8\" rel=\"nofollow\">Twitter for iPad</a>', 'count': 64}\n",
      "{'_id': '<a href=\"http://friendfeed.com\" rel=\"nofollow\">FriendFeed</a>', 'count': 63}\n",
      "{'_id': '<a href=\"http://m.dabr.co.uk\" rel=\"nofollow\">Dabr</a>', 'count': 62}\n",
      "{'_id': '<a href=\"http://sites.google.com/site/yorufukurou/\" rel=\"nofollow\">YoruFukurou</a>', 'count': 58}\n",
      "{'_id': '<a href=\"http://seesmic.com/seesmic_mobile/android/\" rel=\"nofollow\">Seesmic for Android</a>', 'count': 56}\n",
      "{'_id': '<a href=\"http://tweetmeme.com\" rel=\"nofollow\">TweetMeme</a>', 'count': 54}\n",
      "{'_id': '<a href=\"http://cheebow.info/chemt/archives/2007/04/twitterwindowst.html\" rel=\"nofollow\">Twit for Windows</a>', 'count': 47}\n",
      "{'_id': '<a href=\"http://twicca.r246.jp/\" rel=\"nofollow\">twicca</a>', 'count': 46}\n",
      "{'_id': '<a href=\"http://www.panoramicsoft.com/mobileapps/motweets/moTweets.php\" rel=\"nofollow\">Panoramic moTweets</a>', 'count': 42}\n",
      "{'_id': '<a href=\"http://sites.google.com/site/peraperaprv/Home\" rel=\"nofollow\">P3:PeraPeraPrv</a>', 'count': 38}\n",
      "{'_id': '<a href=\"http://www.movatwi.jp\" rel=\"nofollow\">モバツイ</a>', 'count': 38}\n",
      "{'_id': '<a href=\"http://cotweet.com/?utm_source=sp1\" rel=\"nofollow\">CoTweet</a>', 'count': 37}\n",
      "{'_id': '<a href=\"http://www.Motorola.com/Consumers/US-EN/Consumer-Product-and-Services/MOTOBLUR/Meet-MOTOBLUR?WT.mc_id=Global_Twitter-to-motoblur&WT.mc_ev=click\" rel=\"nofollow\">MOTOBLUR</a>', 'count': 36}\n",
      "{'_id': '<a href=\"http://www.yoono.com\" rel=\"nofollow\">yoono</a>', 'count': 36}\n",
      "{'_id': '<a href=\"http://seesmic.com/app\" rel=\"nofollow\">Seesmic Web</a>', 'count': 32}\n",
      "{'_id': '<a href=\"http://www.newzfor.me\" rel=\"nofollow\">NewzFor.me</a>', 'count': 31}\n",
      "{'_id': '<a href=\"http://www.myyearbook.com/\" rel=\"nofollow\">myYearbook Share</a>', 'count': 31}\n",
      "{'_id': '<a href=\"http://bit.ly\" rel=\"nofollow\">bitly</a>', 'count': 31}\n",
      "{'_id': '<a href=\"http://www.destroytwitter.com\" rel=\"nofollow\">DestroyTwitter</a>', 'count': 31}\n",
      "{'_id': '<a href=\"http://www.nimbuzz.com\" rel=\"nofollow\">Nimbuzz Mobile</a>', 'count': 29}\n",
      "{'_id': '<a href=\"http://www.twittergadget.com\" rel=\"nofollow\">tGadget</a>', 'count': 28}\n",
      "{'_id': '<a href=\"http://getsocialscope.com\" rel=\"nofollow\">SocialScope</a>', 'count': 28}\n",
      "{'_id': 'Keitai Mail', 'count': 25}\n",
      "{'_id': '<a href=\"http://www.htc.com\" rel=\"nofollow\">HTC Peep</a>', 'count': 24}\n",
      "{'_id': '<a href=\"http://www.twaitter.com\" rel=\"nofollow\">Twaitter</a>', 'count': 24}\n",
      "{'_id': '<a href=\"http://www.nambu.com/\" rel=\"nofollow\">Nambu</a>', 'count': 23}\n",
      "{'_id': '<a href=\"http://www.brizzly.com\" rel=\"nofollow\">Brizzly</a>', 'count': 22}\n",
      "{'_id': '<a href=\"http://tinychat.com\" rel=\"nofollow\">Tinychat Connector</a>', 'count': 22}\n",
      "{'_id': '<a href=\"http://blip.fm\" rel=\"nofollow\">Blip.fm</a>', 'count': 21}\n",
      "{'_id': '<a href=\"http://jigtwi.jp/?p=1\" rel=\"nofollow\">jigtwi</a>', 'count': 19}\n",
      "{'_id': '<a href=\"http://seesmic.com/seesmic_mobile/blackberry/\" rel=\"nofollow\">Seesmic for BlackBerry</a>', 'count': 17}\n",
      "{'_id': '<a href=\"http://www.twitlonger.com\" rel=\"nofollow\">Twitlonger</a>', 'count': 17}\n",
      "{'_id': '<a href=\"http://lifestream.aol.com\" rel=\"nofollow\">AOL Lifestream</a>', 'count': 17}\n",
      "{'_id': '<a href=\"http://www.twitjobsearch.com/\" rel=\"nofollow\">TwitJobSearch.com Jobs</a>', 'count': 16}\n",
      "{'_id': '<a href=\"http://www.deliciousmorsel.com/app/twee\" rel=\"nofollow\">Twee2</a>', 'count': 16}\n",
      "{'_id': '<a href=\"http://vk.com\" rel=\"nofollow\">vk.com</a>', 'count': 16}\n",
      "{'_id': '<a href=\"http://www.digsby.com/?utm_campaign=twitter\" rel=\"nofollow\">Digsby</a>', 'count': 16}\n",
      "{'_id': '<a href=\"http://www.visibli.com\" rel=\"nofollow\">Visibli</a>', 'count': 16}\n",
      "{'_id': '<a href=\"http://www.samsungmobile.com\" rel=\"nofollow\">Samsung Mobile</a>', 'count': 16}\n",
      "{'_id': '<a href=\"http://www.bravenewcode.com/products/wordtwit\" rel=\"nofollow\">WordTwit Plugin</a>', 'count': 16}\n",
      "{'_id': '<a href=\"http://publicize.wp.com/\" rel=\"nofollow\">WordPress.com</a>', 'count': 15}\n",
      "{'_id': '<a href=\"http://tweetphoto.com\" rel=\"nofollow\">TweetPhoto</a>', 'count': 14}\n",
      "{'_id': '<a href=\"https://chrome.google.com/extensions/detail/ffcbeckjmgmgigkmnhmgjplmomcpfall\" rel=\"nofollow\">Chrowety</a>', 'count': 14}\n",
      "{'_id': '<a href=\"http://www.mixero.com\" rel=\"nofollow\">Mixero</a>', 'count': 14}\n",
      "{'_id': '<a href=\"http://orangatame.com/products/openbeak/\" rel=\"nofollow\">OpenBeak</a>', 'count': 14}\n",
      "{'_id': '<a href=\"http://yamm.hu\" rel=\"nofollow\">Yamm!</a>', 'count': 13}\n",
      "{'_id': '<a href=\"http://www.tweekly.fm/\" rel=\"nofollow\">Tweekly.fm</a>', 'count': 13}\n",
      "{'_id': '<a href=\"http://www.crouto.com/teewee\" rel=\"nofollow\">Teewee</a>', 'count': 13}\n",
      "{'_id': '<a href=\"http://www.flight.co.jp/iPhone/TweetMe/\" rel=\"nofollow\">TweetMe for iPhone</a>', 'count': 12}\n",
      "{'_id': '<a href=\"http://www.tweets60.com/\" rel=\"nofollow\">Tweets60</a>', 'count': 12}\n",
      "{'_id': '<a href=\"http://twittie.jp/\" rel=\"nofollow\">twittie (ついってぃー)</a>', 'count': 11}\n",
      "{'_id': '<a href=\"http://www.constantcontact.com\" rel=\"nofollow\">Constant Contact</a>', 'count': 11}\n",
      "{'_id': '<a href=\"http://www.nicovideo.jp/\" rel=\"nofollow\">ニコニコ動画</a>', 'count': 11}\n",
      "{'_id': '<a href=\"http://www.osfoora.com\" rel=\"nofollow\">Osfoora HD</a>', 'count': 11}\n",
      "{'_id': '<a href=\"http://itweetlive.com/\" rel=\"nofollow\">itweetlive</a>', 'count': 11}\n",
      "{'_id': '<a href=\"http://gowalla.com/\" rel=\"nofollow\">Gowalla</a>', 'count': 11}\n",
      "{'_id': '<a href=\"http://identi.ca\" rel=\"nofollow\">identica</a>', 'count': 11}\n",
      "{'_id': '<a href=\"http://dev.twitter.com/\" rel=\"nofollow\">API</a>', 'count': 11}\n",
      "{'_id': '<a href=\"http://www.likemytweets.com/\" rel=\"nofollow\">Like My Tweets</a>', 'count': 11}\n",
      "{'_id': '<a href=\"http://su.pr/\" rel=\"nofollow\">Su.pr</a>', 'count': 11}\n",
      "{'_id': '<a href=\"http://movatter.jp\" rel=\"nofollow\">Movatter</a>', 'count': 11}\n",
      "{'_id': '<a href=\"http://www.Tweet-U-Later.com\" rel=\"nofollow\">Tweet-U-Later</a>', 'count': 10}\n",
      "{'_id': '<a href=\"http://www.docodemo.jp/twil/\" rel=\"nofollow\">Twil2 (Tweet Anytime, Anywhere by Mail)</a>', 'count': 10}\n",
      "{'_id': '<a href=\"http://www.livejournal.com/\" rel=\"nofollow\">LiveJournal.com</a>', 'count': 10}\n",
      "{'_id': '<a href=\"http://tweed.pivotallabs.com\" rel=\"nofollow\">Tweed webOS</a>', 'count': 10}\n",
      "{'_id': '<a href=\"http://www.linkedin.com/\" rel=\"nofollow\">LinkedIn</a>', 'count': 10}\n",
      "{'_id': '<a href=\"http://getspaz.com\" rel=\"nofollow\">Spaz</a>', 'count': 10}\n",
      "{'_id': '<a href=\"http://www.plurk.com/?window=/TwitterApp\" rel=\"nofollow\">Plurk App</a>', 'count': 10}\n",
      "{'_id': '<a href=\"http://www.twitiq.com\" rel=\"nofollow\">TwitIQ</a>', 'count': 10}\n"
     ]
    }
   ],
   "source": [
    "# [doc for doc in db.tweets.aggregate(pipeline)]\n",
    "for doc in twitter.aggregate(pipeline):\n",
    "    print(doc)"
   ]
  },
  {
   "cell_type": "code",
   "execution_count": null,
   "id": "a78adc6b-c94c-4808-846c-6012153e27f0",
   "metadata": {},
   "outputs": [],
   "source": []
  }
 ],
 "metadata": {
  "kernelspec": {
   "display_name": "Python 3 (ipykernel)",
   "language": "python",
   "name": "python3"
  },
  "language_info": {
   "codemirror_mode": {
    "name": "ipython",
    "version": 3
   },
   "file_extension": ".py",
   "mimetype": "text/x-python",
   "name": "python",
   "nbconvert_exporter": "python",
   "pygments_lexer": "ipython3",
   "version": "3.8.13"
  },
  "widgets": {
   "application/vnd.jupyter.widget-state+json": {
    "state": {},
    "version_major": 2,
    "version_minor": 0
   }
  }
 },
 "nbformat": 4,
 "nbformat_minor": 5
}
