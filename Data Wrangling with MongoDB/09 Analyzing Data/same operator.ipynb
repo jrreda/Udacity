{
 "cells": [
  {
   "cell_type": "code",
   "execution_count": 2,
   "id": "93a55d33-ddda-4142-b928-4ffe4c118452",
   "metadata": {},
   "outputs": [],
   "source": [
    "from pymongo import MongoClient\n",
    "\n",
    "client = MongoClient('localhost:27017')\n",
    "db = client.udacity\n",
    "twitter = db.twitter"
   ]
  },
  {
   "cell_type": "code",
   "execution_count": 13,
   "id": "6a3389a5-b84b-4d74-905c-8a9956383b6f",
   "metadata": {},
   "outputs": [
    {
     "name": "stdout",
     "output_type": "stream",
     "text": [
      "{'_id': ObjectId('63e3b55ebeb9905c522f368b'),\n",
      " 'contributors': None,\n",
      " 'coordinates': None,\n",
      " 'created_at': 'Thu Sep 02 19:49:03 +0000 2010',\n",
      " 'entities': {'hashtags': [{'indices': [57, 68], 'text': 'lv25834899'}],\n",
      "              'urls': [{'expanded_url': None,\n",
      "                        'indices': [31, 56],\n",
      "                        'url': 'http://nico.ms/lv25834899'}],\n",
      "              'user_mentions': []},\n",
      " 'favorited': False,\n",
      " 'geo': None,\n",
      " 'id': 22825235200,\n",
      " 'in_reply_to_screen_name': None,\n",
      " 'in_reply_to_status_id': None,\n",
      " 'in_reply_to_user_id': None,\n",
      " 'place': None,\n",
      " 'retweet_count': None,\n",
      " 'retweeted': False,\n",
      " 'source': '<a href=\"http://www.nicovideo.jp/\" rel=\"nofollow\">ニコニコ動画</a>',\n",
      " 'text': '【生放送】（声の病持）風来のシレンＴＭＴＡ を開始しました。 http://nico.ms/lv25834899 #lv25834899',\n",
      " 'truncated': False,\n",
      " 'user': {'contributors_enabled': False,\n",
      "          'created_at': 'Wed Aug 04 13:26:07 +0000 2010',\n",
      "          'description': '最近女装ショタに興味を持ち始めた高校一年生（♂）\\r\\n\\r\\nニコ生でシレン放送とかやってるよ',\n",
      "          'favourites_count': 0,\n",
      "          'follow_request_sent': None,\n",
      "          'followers_count': 7,\n",
      "          'following': None,\n",
      "          'friends_count': 7,\n",
      "          'geo_enabled': False,\n",
      "          'id': 174651228,\n",
      "          'lang': 'ja',\n",
      "          'listed_count': 0,\n",
      "          'location': 'お花畑',\n",
      "          'name': 'へんなひと',\n",
      "          'notifications': None,\n",
      "          'profile_background_color': 'C0DEED',\n",
      "          'profile_background_image_url': 'http://a3.twimg.com/profile_background_images/130883429/macochan_twitter.png',\n",
      "          'profile_background_tile': False,\n",
      "          'profile_image_url': 'http://a0.twimg.com/profile_images/1096162204/macochan_normal.png',\n",
      "          'profile_link_color': '0084B4',\n",
      "          'profile_sidebar_border_color': 'C0DEED',\n",
      "          'profile_sidebar_fill_color': 'DDEEF6',\n",
      "          'profile_text_color': '333333',\n",
      "          'profile_use_background_image': True,\n",
      "          'protected': False,\n",
      "          'screen_name': 'zyosouzai',\n",
      "          'show_all_inline_media': False,\n",
      "          'statuses_count': 294,\n",
      "          'time_zone': 'Hawaii',\n",
      "          'url': 'http://com.nicovideo.jp/community/co396913 ',\n",
      "          'utc_offset': -36000,\n",
      "          'verified': False}}\n"
     ]
    }
   ],
   "source": [
    "# Example Tweet:\n",
    "from pprint import pprint\n",
    "\n",
    "pprint(twitter.find_one({'user.screen_name':'zyosouzai'}))"
   ]
  },
  {
   "cell_type": "markdown",
   "id": "daaa9d9e-6e1c-4901-8a8a-e08e687ebd37",
   "metadata": {},
   "source": [
    "# Who has mentioned the most unique users?"
   ]
  },
  {
   "cell_type": "code",
   "execution_count": 9,
   "id": "4036de53-c1ac-4f47-be49-9dee07727dce",
   "metadata": {},
   "outputs": [],
   "source": [
    "pipeline =[\n",
    "    {'$unwind': '$entities.user_mentions'},\n",
    "    {'$group': {'_id': '$user.screen_name',\n",
    "                'mset': {'$addToSet': '$entities.user_mentions.screen_name'}}},\n",
    "    {'$unwind': '$mset'},\n",
    "    {'$group': {'_id': '$_id',\n",
    "                'count': {'$sum': 1}}},\n",
    "    {'$sort': {'count': -1}},\n",
    "    {'$limit': 10}\n",
    "]"
   ]
  },
  {
   "cell_type": "code",
   "execution_count": 10,
   "id": "e7f65b73-9d82-456a-95f7-a4a0646fd2fa",
   "metadata": {},
   "outputs": [
    {
     "data": {
      "text/plain": [
       "[{'_id': 'Democracy_Work', 'count': 17},\n",
       " {'_id': 'ThizBoySwagLoud', 'count': 16},\n",
       " {'_id': 'itsajstuerd', 'count': 15},\n",
       " {'_id': 'FollowersNeeded', 'count': 15},\n",
       " {'_id': 'Egreeedy', 'count': 12},\n",
       " {'_id': 'Spirics', 'count': 12},\n",
       " {'_id': 'soulbrother64', 'count': 11},\n",
       " {'_id': 'MULA_BSB', 'count': 11},\n",
       " {'_id': 'burnedoutdoc', 'count': 11},\n",
       " {'_id': 'eamonnrafferty', 'count': 10}]"
      ]
     },
     "execution_count": 10,
     "metadata": {},
     "output_type": "execute_result"
    }
   ],
   "source": [
    "[doc for doc in twitter.aggregate(pipeline)]"
   ]
  }
 ],
 "metadata": {
  "kernelspec": {
   "display_name": "Python 3 (ipykernel)",
   "language": "python",
   "name": "python3"
  },
  "language_info": {
   "codemirror_mode": {
    "name": "ipython",
    "version": 3
   },
   "file_extension": ".py",
   "mimetype": "text/x-python",
   "name": "python",
   "nbconvert_exporter": "python",
   "pygments_lexer": "ipython3",
   "version": "3.8.13"
  },
  "widgets": {
   "application/vnd.jupyter.widget-state+json": {
    "state": {},
    "version_major": 2,
    "version_minor": 0
   }
  }
 },
 "nbformat": 4,
 "nbformat_minor": 5
}
