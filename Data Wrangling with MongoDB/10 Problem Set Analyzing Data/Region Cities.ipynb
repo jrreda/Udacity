{
 "cells": [
  {
   "cell_type": "code",
   "execution_count": null,
   "id": "46ece8d4-b6f4-4037-8756-781e1790fa2a",
   "metadata": {},
   "outputs": [],
   "source": [
    "#!/usr/bin/env python\n",
    "\"\"\"\n",
    "Use an aggregation query to answer the following question. \n",
    "\n",
    "Which Region in India has the largest number of cities with longitude between\n",
    "75 and 80?\n",
    "\n",
    "Please modify only the 'make_pipeline' function so that it creates and returns\n",
    "an aggregation pipeline that can be passed to the MongoDB aggregate function.\n",
    "As in our examples in this lesson, the aggregation pipeline should be a list of\n",
    "one or more dictionary objects. Please review the lesson examples if you are\n",
    "unsure of the syntax.\n",
    "\n",
    "Your code will be run against a MongoDB instance that we have provided. If you\n",
    "want to run this code locally on your machine, you have to install MongoDB,\n",
    "download and insert the dataset. For instructions related to MongoDB setup and\n",
    "datasets please see Course Materials.\n",
    "\n",
    "Please note that the dataset you are using here is a different version of the\n",
    "cities collection provided in the course materials. If you attempt some of the\n",
    "same queries that we look at in the problem set, your results may be different.\n",
    "\"\"\"\n",
    "\n",
    "def get_db(db_name):\n",
    "    from pymongo import MongoClient\n",
    "    client = MongoClient('localhost:27017')\n",
    "    db = client[db_name]\n",
    "    return db\n",
    "\n",
    "def make_pipeline():\n",
    "    # complete the aggregation pipeline\n",
    "    pipeline = [\n",
    "        {'$match': {'country': 'India',\n",
    "                    '$lon': {'$gte': 75, '$lte': 80}}},\n",
    "        {'$unwind': '$isPartOf'},\n",
    "        {'$group': {'_id':'$isPartOf', 'count': {'$sum': 1}}},\n",
    "        {'$sort': {'count':-1}},\n",
    "        {'limit': 1}\n",
    "    ]\n",
    "    return pipeline\n",
    "\n",
    "def aggregate(db, pipeline):\n",
    "    return [doc for doc in db.cities.aggregate(pipeline)]\n",
    "\n",
    "if __name__ == '__main__':\n",
    "    # The following statements will be used to test your code by the grader.\n",
    "    # Any modifications to the code past this point will not be reflected by\n",
    "    # the Test Run.\n",
    "    db = get_db('examples')\n",
    "    pipeline = make_pipeline()\n",
    "    result = aggregate(db, pipeline)\n",
    "    import pprint\n",
    "    pprint.pprint(result[0])\n",
    "    assert len(result) == 1\n",
    "    assert result[0][\"_id\"] == 'Tamil Nadu'\n",
    "    assert result[0][\"count\"] == 424"
   ]
  },
  {
   "cell_type": "code",
   "execution_count": 1,
   "id": "6fbcd04d-2534-43cb-8d2c-afc1aa7eb346",
   "metadata": {},
   "outputs": [],
   "source": [
    "# {\n",
    "#     \"_id\" : ObjectId(\"52fe1d364b5ab856eea75ebc\"),\n",
    "#     \"elevation\" : 1855,\n",
    "#     \"name\" : \"Kud\",\n",
    "#     \"country\" : \"India\",\n",
    "#     \"lon\" : 75.28,\n",
    "#     \"lat\" : 33.08,\n",
    "#     \"isPartOf\" : [\n",
    "#         \"Jammu and Kashmir\",\n",
    "#         \"Udhampur district\"\n",
    "#     ],\n",
    "#     \"timeZone\" : [\n",
    "#         \"Indian Standard Time\"\n",
    "#     ],\n",
    "#     \"population\" : 1140\n",
    "# }"
   ]
  }
 ],
 "metadata": {
  "kernelspec": {
   "display_name": "Python 3 (ipykernel)",
   "language": "python",
   "name": "python3"
  },
  "language_info": {
   "codemirror_mode": {
    "name": "ipython",
    "version": 3
   },
   "file_extension": ".py",
   "mimetype": "text/x-python",
   "name": "python",
   "nbconvert_exporter": "python",
   "pygments_lexer": "ipython3",
   "version": "3.8.13"
  },
  "widgets": {
   "application/vnd.jupyter.widget-state+json": {
    "state": {},
    "version_major": 2,
    "version_minor": 0
   }
  }
 },
 "nbformat": 4,
 "nbformat_minor": 5
}
