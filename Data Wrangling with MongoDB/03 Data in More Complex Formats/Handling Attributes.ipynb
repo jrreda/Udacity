{
 "cells": [
  {
   "cell_type": "code",
   "execution_count": 31,
   "id": "2c65ff97-91f4-4e13-bc14-4c05e5bfe95d",
   "metadata": {},
   "outputs": [
    {
     "name": "stdout",
     "output_type": "stream",
     "text": [
      "[{'email': 'omer@extremegate.com',\n",
      "  'fnm': 'Omer',\n",
      "  'insr': ['I1'],\n",
      "  'snm': 'Mei-Dan'},\n",
      " {'email': 'mcarmont@hotmail.com',\n",
      "  'fnm': 'Mike',\n",
      "  'insr': ['I2'],\n",
      "  'snm': 'Carmont'},\n",
      " {'email': 'laver17@gmail.com',\n",
      "  'fnm': 'Lior',\n",
      "  'insr': ['I3', 'I4'],\n",
      "  'snm': 'Laver'},\n",
      " {'email': 'nyska@internet-zahav.net',\n",
      "  'fnm': 'Meir',\n",
      "  'insr': ['I3'],\n",
      "  'snm': 'Nyska'},\n",
      " {'email': 'kammarh@gmail.com',\n",
      "  'fnm': 'Hagay',\n",
      "  'insr': ['I8'],\n",
      "  'snm': 'Kammar'},\n",
      " {'email': 'gideon.mann.md@gmail.com',\n",
      "  'fnm': 'Gideon',\n",
      "  'insr': ['I3', 'I5'],\n",
      "  'snm': 'Mann'},\n",
      " {'email': 'barns.nz@gmail.com',\n",
      "  'fnm': 'Barnaby',\n",
      "  'insr': ['I6'],\n",
      "  'snm': 'Clarck'},\n",
      " {'email': 'eukots@gmail.com', 'fnm': 'Eugene', 'insr': ['I7'], 'snm': 'Kots'}]\n"
     ]
    }
   ],
   "source": [
    "#!/usr/bin/env python\n",
    "# Your task here is to extract data from xml on authors of an article\n",
    "# and add it to a list, one item for an author.\n",
    "# See the provided data structure for the expected format.\n",
    "# The tags for first name, surname and email should map directly\n",
    "# to the dictionary keys, but you have to extract the attributes from the \"insr\" tag\n",
    "# and add them to the list for the dictionary key \"insr\"\n",
    "from pprint import pprint\n",
    "import xml.etree.ElementTree as ET\n",
    "\n",
    "article_file = \"exampleResearchArticle.xml\"\n",
    "\n",
    "\n",
    "def get_root(fname):\n",
    "    tree = ET.parse(fname)\n",
    "    return tree.getroot()\n",
    "\n",
    "\n",
    "def get_authors(root):\n",
    "    authors = []\n",
    "    for author in root.findall('./fm/bibl/aug/au'):\n",
    "        # YOUR CODE HERE\n",
    "        data = {\n",
    "                \"fnm\": author.find('fnm').text,\n",
    "                \"snm\": author.find('snm').text,\n",
    "                \"email\": author.find('email').text,\n",
    "                \"insr\": []\n",
    "        }\n",
    "        for iid in author.findall('insr'):\n",
    "            data['insr'].append(iid.attrib['iid'])\n",
    "\n",
    "        authors.append(data)\n",
    "\n",
    "    return authors\n",
    "\n",
    "\n",
    "def test():\n",
    "    solution = [{'insr': ['I1'], 'fnm': 'Omer', 'snm': 'Mei-Dan', 'email': 'omer@extremegate.com'},\n",
    "                {'insr': ['I2'], 'fnm': 'Mike', 'snm': 'Carmont', 'email': 'mcarmont@hotmail.com'},\n",
    "                {'insr': ['I3', 'I4'], 'fnm': 'Lior', 'snm': 'Laver', 'email': 'laver17@gmail.com'},\n",
    "                {'insr': ['I3'], 'fnm': 'Meir', 'snm': 'Nyska', 'email': 'nyska@internet-zahav.net'},\n",
    "                {'insr': ['I8'], 'fnm': 'Hagay', 'snm': 'Kammar', 'email': 'kammarh@gmail.com'},\n",
    "                {'insr': ['I3', 'I5'], 'fnm': 'Gideon', 'snm': 'Mann', 'email': 'gideon.mann.md@gmail.com'},\n",
    "                {'insr': ['I6'], 'fnm': 'Barnaby', 'snm': 'Clarck', 'email': 'barns.nz@gmail.com'},\n",
    "                {'insr': ['I7'], 'fnm': 'Eugene', 'snm': 'Kots', 'email': 'eukots@gmail.com'}]\n",
    "\n",
    "    root = get_root(article_file)\n",
    "    data = get_authors(root)\n",
    "    pprint(data)\n",
    "\n",
    "    assert data[0] == solution[0]\n",
    "    assert data[1][\"insr\"] == solution[1][\"insr\"]\n",
    "\n",
    "\n",
    "test()"
   ]
  },
  {
   "cell_type": "code",
   "execution_count": 22,
   "id": "2a68a60f-7f0f-42d7-af7b-78ae670e1924",
   "metadata": {},
   "outputs": [],
   "source": [
    "import xml.etree.ElementTree as ET\n",
    "\n",
    "article_file = \"exampleResearchArticle.xml\""
   ]
  },
  {
   "cell_type": "code",
   "execution_count": 24,
   "id": "271213d9-0482-4ce5-8e89-8fc31917b769",
   "metadata": {},
   "outputs": [],
   "source": [
    "tree = ET.parse(article_file)\n",
    "root = tree.getroot()"
   ]
  },
  {
   "cell_type": "code",
   "execution_count": 29,
   "id": "c7ebe725-2756-4448-b158-12381b5b2083",
   "metadata": {},
   "outputs": [
    {
     "name": "stdout",
     "output_type": "stream",
     "text": [
      "I1\n",
      "I2\n",
      "I3\n",
      "I4\n",
      "I3\n",
      "I8\n",
      "I3\n",
      "I5\n",
      "I6\n",
      "I7\n"
     ]
    }
   ],
   "source": [
    "for author in root.findall('./fm/bibl/aug/au'):\n",
    "    for iid in author.findall('insr'):\n",
    "        print(iid.attrib['iid'])\n",
    "        "
   ]
  },
  {
   "cell_type": "code",
   "execution_count": null,
   "id": "502ddfc9-c813-461d-96ed-cd5d06628d43",
   "metadata": {},
   "outputs": [],
   "source": []
  }
 ],
 "metadata": {
  "kernelspec": {
   "display_name": "Python 3 (ipykernel)",
   "language": "python",
   "name": "python3"
  },
  "language_info": {
   "codemirror_mode": {
    "name": "ipython",
    "version": 3
   },
   "file_extension": ".py",
   "mimetype": "text/x-python",
   "name": "python",
   "nbconvert_exporter": "python",
   "pygments_lexer": "ipython3",
   "version": "3.8.13"
  },
  "widgets": {
   "application/vnd.jupyter.widget-state+json": {
    "state": {},
    "version_major": 2,
    "version_minor": 0
   }
  }
 },
 "nbformat": 4,
 "nbformat_minor": 5
}
