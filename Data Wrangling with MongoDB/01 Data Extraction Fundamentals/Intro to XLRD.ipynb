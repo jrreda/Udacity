{
 "cells": [
  {
   "cell_type": "code",
   "execution_count": 1,
   "id": "ab64063f-13ac-4e17-a6b5-a0fe63dbd83e",
   "metadata": {},
   "outputs": [
    {
     "name": "stdout",
     "output_type": "stream",
     "text": [
      "Requirement already satisfied: xlrd in c:\\users\\mahmo\\anaconda3\\lib\\site-packages (2.0.1)\n"
     ]
    },
    {
     "name": "stderr",
     "output_type": "stream",
     "text": [
      "WARNING: Ignoring invalid distribution -illow (c:\\users\\mahmo\\anaconda3\\lib\\site-packages)\n",
      "WARNING: Ignoring invalid distribution -illow (c:\\users\\mahmo\\anaconda3\\lib\\site-packages)\n",
      "WARNING: Ignoring invalid distribution -illow (c:\\users\\mahmo\\anaconda3\\lib\\site-packages)\n",
      "WARNING: Ignoring invalid distribution -illow (c:\\users\\mahmo\\anaconda3\\lib\\site-packages)\n",
      "WARNING: Ignoring invalid distribution -illow (c:\\users\\mahmo\\anaconda3\\lib\\site-packages)\n",
      "WARNING: Ignoring invalid distribution -illow (c:\\users\\mahmo\\anaconda3\\lib\\site-packages)\n"
     ]
    }
   ],
   "source": [
    "!pip install xlrd"
   ]
  },
  {
   "cell_type": "code",
   "execution_count": 6,
   "id": "88648769-7393-4725-b609-1b3fdf21d747",
   "metadata": {},
   "outputs": [],
   "source": [
    "#!/usr/bin/env python\n",
    "\"\"\"\n",
    "Your task is as follows:\n",
    "- read the provided Excel file\n",
    "- find and return the min, max and average values for the COAST region\n",
    "- find and return the time value for the min and max entries\n",
    "- the time values should be returned as Python tuples\n",
    "\n",
    "Please see the test function for the expected return format\n",
    "\n",
    "\"\"\"\n",
    "\n",
    "import xlrd\n",
    "from zipfile import ZipFile\n",
    "datafile = \"2013-ercot-hourly-load-data.zip\"\n",
    "\n",
    "\n",
    "def open_zip(datafile):\n",
    "    with ZipFile(datafile, 'r') as myzip:\n",
    "        myzip.extractall()"
   ]
  },
  {
   "cell_type": "code",
   "execution_count": 33,
   "id": "aacede89-0345-4a04-9f77-70d8cb18062b",
   "metadata": {},
   "outputs": [
    {
     "name": "stdout",
     "output_type": "stream",
     "text": [
      "Number of rows in the sheet: 7296\n",
      "{'avgcoast': 10976.933460679751,\n",
      " 'maxtime': (2013, 8, 13, 16, 0, 0),\n",
      " 'maxvalue': 18779.025510000003,\n",
      " 'mintime': (2013, 2, 3, 3, 0, 0),\n",
      " 'minvalue': 6602.113898999982}\n"
     ]
    }
   ],
   "source": [
    "from pprint import pprint\n",
    "\n",
    "file = '2013_ERCOT_Hourly_Load_Data.xls'\n",
    "\n",
    "def parse_file(file):\n",
    "    workbook = xlrd.open_workbook(file)\n",
    "    sheet = workbook.sheet_by_index(0)\n",
    "\n",
    "    ### example on how you can get the data\n",
    "    sheet_data = [[sheet.cell_value(r, col) for col in range(sheet.ncols)] for r in range(sheet.nrows)]\n",
    "\n",
    "    ### other useful methods:\n",
    "    print(\"Number of rows in the sheet:\", sheet.nrows)\n",
    "    \n",
    "#     print(\"Type of data in cell (row 3, col 2):\", sheet.cell_type(3, 2))\n",
    "#     print(\"Value in cell (row 3, col 2):\", sheet.cell_value(3, 2))\n",
    "#     print(\"Get a slice of values in column 3, from rows 1-3:\", sheet.col_values(3, start_rowx=1, end_rowx=4))\n",
    "\n",
    "#     print(\"Type of data in cell (row 1, col 0):\", sheet.cell_type(1, 0))\n",
    "\n",
    "#     exceltime = sheet.cell_value(1, 0)\n",
    "#     print(\"Time in Excel format:\", exceltime)\n",
    "#     print(\"Convert time to a Python datetime tuple, from the Excel float:\", xlrd.xldate_as_tuple(exceltime, 0))\n",
    "    \n",
    "    # COAST region values\n",
    "    coast_region = sheet.col_values(1, start_rowx=1, end_rowx=None)\n",
    "    \n",
    "    # stats\n",
    "    maxvalue = max(coast_region)\n",
    "    minvalue = min(coast_region)\n",
    "    avgcoast = sum(coast_region) / len(coast_region)\n",
    "    \n",
    "    # max time\n",
    "    max_index = coast_region.index(max(coast_region))\n",
    "    max_exceltime = sheet.cell_value(max_index, 0)\n",
    "    maxtime = xlrd.xldate_as_tuple(max_exceltime, 0)\n",
    "    \n",
    "    # min time\n",
    "    min_index = coast_region.index(min(coast_region))\n",
    "    min_exceltime = sheet.cell_value(min_index, 0)\n",
    "    mintime = xlrd.xldate_as_tuple(min_exceltime, 0)\n",
    "    \n",
    "    data = {\n",
    "            'maxtime': maxtime,\n",
    "            'maxvalue': maxvalue,\n",
    "            'mintime': mintime,\n",
    "            'minvalue': minvalue,\n",
    "            'avgcoast': avgcoast\n",
    "    }\n",
    "    return data\n",
    "\n",
    "\n",
    "def test():\n",
    "    data = parse_file(file)\n",
    "    pprint(data)\n",
    "\n",
    "    assert data['maxtime'] == (2013, 8, 13, 16, 0, 0)\n",
    "    assert round(data['maxvalue'], 10) == round(18779.02551, 10)\n",
    "\n",
    "\n",
    "test()"
   ]
  },
  {
   "cell_type": "code",
   "execution_count": null,
   "id": "21232329-75b2-4ad6-b9ef-c2612b727c9e",
   "metadata": {},
   "outputs": [],
   "source": []
  }
 ],
 "metadata": {
  "kernelspec": {
   "display_name": "Python 3 (ipykernel)",
   "language": "python",
   "name": "python3"
  },
  "language_info": {
   "codemirror_mode": {
    "name": "ipython",
    "version": 3
   },
   "file_extension": ".py",
   "mimetype": "text/x-python",
   "name": "python",
   "nbconvert_exporter": "python",
   "pygments_lexer": "ipython3",
   "version": "3.8.13"
  },
  "widgets": {
   "application/vnd.jupyter.widget-state+json": {
    "state": {},
    "version_major": 2,
    "version_minor": 0
   }
  }
 },
 "nbformat": 4,
 "nbformat_minor": 5
}
